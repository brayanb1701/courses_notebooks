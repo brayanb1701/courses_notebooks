{
 "cells": [
  {
   "cell_type": "markdown",
   "metadata": {
    "colab_type": "text",
    "id": "tSKdc13fZs_y"
   },
   "source": [
    "<img src=\"https://gitlab.com/bivl2ab/academico/cursos-uis/ai/ai-uis-student/raw/master/imgs/banner_IA.png\"  width=\"1000px\" height=\"200px\">\n",
    "\n",
    "# Taller 3: Machine learning Classifiers.\n",
    "\n",
    "## <span style=\"color:red\"> Outline </span> \n",
    "\n",
    "1. [Ejercicio 1. Ejercicio de clasificación](#eje1)\n",
    "2. [Ejercicio 2. Ejercicio de clasificación](#eje3)\n",
    "3. [Ejercicio 3. Ejercicio de regresión](#eje4)\n",
    "4. [Ejercicio 4. Ejercicio de regresión](#eje5)\n",
    "\n",
    "\n",
    "\n",
    "\n",
    "#### <font style=\"color: red\"> Esta práctica contiene 5 ejercicios <!-- ONLY IN NOTEBOOK -->"
   ]
  },
  {
   "cell_type": "code",
   "execution_count": 1,
   "metadata": {
    "colab": {},
    "colab_type": "code",
    "id": "LCy4NCk0cq_F"
   },
   "outputs": [],
   "source": [
    "#@title 1. MONTAR EL DRIVE **student** { display-mode: \"form\" }\n",
    "import os\n",
    "#from google.colab import drive\n",
    "#drive.mount('/content/drive')\n",
    "#os.chdir('/content/drive/My Drive/course-IA1/ai-uis-student/talleres20201')\n",
    "#os.chdir('/content/drive/My Drive/ai-uis-student/talleres20201')\n",
    "#print(os.getcwd())\n",
    "!chmod 777 convert_ipynb.sh run utils/*"
   ]
  },
  {
   "cell_type": "code",
   "execution_count": 2,
   "metadata": {
    "colab": {},
    "colab_type": "code",
    "id": "4Jdtia0LZs_4"
   },
   "outputs": [],
   "source": [
    "import scipy.stats as stats\n",
    "import numpy as np\n",
    "import pandas as pd\n",
    "from sklearn.ensemble import RandomForestClassifier\n",
    "from sklearn.naive_bayes import GaussianNB\n",
    "from sklearn.tree import DecisionTreeClassifier\n",
    "from sklearn.model_selection import cross_val_score\n",
    "from sklearn.model_selection import KFold\n",
    "from sklearn.model_selection import train_test_split\n",
    "import matplotlib.pyplot as plt"
   ]
  },
  {
   "cell_type": "markdown",
   "metadata": {
    "colab_type": "text",
    "id": "ZH1nXMpRZtAr"
   },
   "source": [
    "<h2><span style=\"color:#FFF; background-color:#F00; font-weight:bold; padding:4px;\">¡IMPORTANTE!</span></h2><br><h2 style=\"margin-top:-10px;\">Usted debe ejecutar <span style=\"color:#F00;\">TODAS</span> las celdas de tipo <span style=\"color:#F00;\">CODE</span>. De lo contrario, sus respuestas no serán procesadas correctamente.</h2>"
   ]
  },
  {
   "cell_type": "markdown",
   "metadata": {
    "colab_type": "text",
    "id": "Iz7gmE9RZtAu"
   },
   "source": [
    "### Ejercicio 1 : Entrena un Algoritmo <a name=\"eje1\"></a>\n",
    "\n",
    "Completa la siguiente función para que entrene el **estimador** (clasificación) pasado como argumento con **X_train** e **y_train**.\n",
    "\n",
    "Tenga en cuenta las siguientes consideraciones: \n",
    "- El dataset 'heart.csv' contiene una serie de características asociadas al corazón y se busca establecer si los valores que adquieren están asociados a una enfermedad cardíaca ('1') o no ('0').\n",
    "- Como características se utilizaran todas las columnas, excepto la última (target)\n",
    "- Se debe permutar el dataset\n",
    "- El 80% del dataset se utilizará como train **X_train**,**y_train**\n",
    "- El 20% del dataset restante se utilizará como test:**X_test**,**y_test**\n",
    "- Utilice SVC como estimador con parámetros: kernel='rbf', gamma=0.0001220703125, C=2048\n",
    "\n",
    "<b>Referencia SVC:</b> https://scikit-learn.org/stable/modules/generated/sklearn.svm.SVC.html"
   ]
  },
  {
   "cell_type": "code",
   "execution_count": 3,
   "metadata": {
    "colab": {},
    "colab_type": "code",
    "id": "9l9o4WkVZtAx"
   },
   "outputs": [],
   "source": [
    "def fit_estimator(vals):\n",
    "    #Your Code Here.\n",
    "    import pandas as pd\n",
    "    import numpy as np\n",
    "    from sklearn.svm import SVC\n",
    "    from sklearn.model_selection import train_test_split\n",
    "    n=int(len(vals)*0.8)\n",
    "    X_train=vals[:n,:-1]\n",
    "    X_test=vals[n:,:-1]\n",
    "    y_train=vals[:n,-1]\n",
    "    y_test=vals[n:,-1]\n",
    "    estimator = SVC(kernel='rbf', gamma=0.0001220703125, C=2048)\n",
    "    estimator.fit(X_train,y_train)\n",
    "    #fit estimator\n",
    "    predictions = estimator.predict(X_test)\n",
    "    score = estimator.score(X_test, y_test)\n",
    "    return estimator, score\n",
    "\n",
    "#Colaboratory\n",
    "#import urllib.parse, inspect\n",
    "#src1 = urllib.parse.quote_plus(inspect.getsource(fit_estimator))\n",
    "\n",
    "#Virtualbox\n",
    "import urllib, inspect\n",
    "src1 = urllib.quote_plus(inspect.getsource(fit_estimator))"
   ]
  },
  {
   "cell_type": "markdown",
   "metadata": {
    "colab_type": "text",
    "id": "hME9vLppZtBI"
   },
   "source": [
    "Test Your Code:"
   ]
  },
  {
   "cell_type": "code",
   "execution_count": 4,
   "metadata": {
    "colab": {},
    "colab_type": "code",
    "id": "Esv7Ydu8ZtBL"
   },
   "outputs": [
    {
     "name": "stdout",
     "output_type": "stream",
     "text": [
      "('classifier: ', <class 'sklearn.svm.classes.SVC'>)\n",
      "('score', 0.73770491803278693)\n"
     ]
    }
   ],
   "source": [
    "import pandas as pd\n",
    "import numpy as np\n",
    "\n",
    "d = pd.read_csv(\"./misc/heart.csv\",sep=\",\")\n",
    "vals = np.random.permutation(d.values)\n",
    "classifier,score = fit_estimator(vals)\n",
    "print(\"classifier: \", type(classifier))\n",
    "print(\"score\", score)"
   ]
  },
  {
   "cell_type": "markdown",
   "metadata": {
    "colab_type": "text",
    "id": "Dzq1825SZtBl"
   },
   "source": [
    "#### <span style=\"color:#FFF; background-color:#080; font-weight:bold; padding:4px;\">Importante</span> Evalue su respuesta."
   ]
  },
  {
   "cell_type": "code",
   "execution_count": 5,
   "metadata": {
    "colab": {},
    "colab_type": "code",
    "id": "7K9qphdDZtBn"
   },
   "outputs": [
    {
     "name": "stdout",
     "output_type": "stream",
     "text": [
      "0.7213114754098361 0.7213114754098361\r\n",
      "evaluation result CORRECT\r\n"
     ]
    }
   ],
   "source": [
    "!./run CHECK_SOLUTION PS3_1 $src1"
   ]
  },
  {
   "cell_type": "markdown",
   "metadata": {
    "colab_type": "text",
    "id": "lzjGgyiJZtB-"
   },
   "source": [
    "### Ejercicio 2: Entrena un nuevo algoritmo de clasificación *_DecisionTreeClassifier_*<a name=\"eje3\"></a>\n",
    "\n",
    "Un método adicional para realizar tareas de **clasificación** se denomina Decision Tree Classifier. Su implementación se encuentra disponible en sklearn y puedes consultar la ayuda en: [DecisionTreeClassifier](https://scikit-learn.org/stable/modules/generated/sklearn.tree.DecisionTreeClassifier.html). \n",
    "\n",
    "Completa la siguiente función para que entrene un clasificador de tipo **DecisionTreeClassifier** pasando como argumento la permutación del dataset ['diamonds.csv'](https://www.kaggle.com/shivam2503/diamonds).\n",
    "\n",
    "Tenga en cuenta las siguientes consideraciones: \n",
    "- El dataset 'diamonds.csv' contiene una serie de atributos tales como la claridad, el tamaño y otros. Se busca establecer el tipo de corte (\"cut\") dados dichos atributos.\n",
    "- Como características se utilizarán las columnas {\"depth\",\"table\",\"price\",\"x\",\"y\",\"z\"}\n",
    "- Se debe permutar el dataset\n",
    "- El 80% del dataset se utilizará como train: **X_train**, **y_train**\n",
    "- El 20% del dataset restante se utilizará como test: **X_test**, **y_test**\n",
    "- Utilice DecisionTreeClassifier como estimador\n",
    "\n",
    "La función ha de devolver:\n",
    "- El estimador ya entrenado\n",
    "- El porcentaje de acierto al predecir **X_train** y comparar la predicción con **y_test**\n",
    "\n",
    "#### Ejemplo de ejecución\n",
    "\n",
    "    >d = pd.read_csv(\"./misc/diamonds.csv\")\n",
    "    >vals = np.random.permutation(d.values)\n",
    "    >classifier, score = fit_lr(vals)\n",
    "    >classifier:  <class 'sklearn.tree.tree.DecisionTreeClassifier'>\n",
    "    >score 0.707174638487208"
   ]
  },
  {
   "cell_type": "code",
   "execution_count": 6,
   "metadata": {
    "colab": {},
    "colab_type": "code",
    "id": "KYPzp4V5ZtCB"
   },
   "outputs": [],
   "source": [
    "def fit_lr(vals):\n",
    "    import numpy as np\n",
    "    import pandas as pd\n",
    "    from sklearn.tree import DecisionTreeClassifier\n",
    "    #Your Code Here.    \n",
    "    n=int(len(vals)*0.8)\n",
    "    X_train=vals[:n,5:]\n",
    "    X_test=vals[n:,5:]\n",
    "    y_train=vals[:n,2]\n",
    "    y_test=vals[n:,2]\n",
    "    estimator = DecisionTreeClassifier()\n",
    "    estimator.fit(X_train,y_train)\n",
    "    #fit estimator\n",
    "    predictions = estimator.predict(X_test)\n",
    "    score = estimator.score(X_test, y_test)\n",
    "    return estimator, score\n",
    "#Colaboratory\n",
    "#import urllib.parse, inspect\n",
    "#src3 = urllib.parse.quote_plus(inspect.getsource(fit_lr))\n",
    "\n",
    "#Virtualbox\n",
    "import urllib, inspect\n",
    "src3 = urllib.quote_plus(inspect.getsource(fit_lr))"
   ]
  },
  {
   "cell_type": "markdown",
   "metadata": {
    "colab_type": "text",
    "id": "el65Nbu6ZtCN"
   },
   "source": [
    "Test Your Code:"
   ]
  },
  {
   "cell_type": "code",
   "execution_count": 7,
   "metadata": {
    "colab": {},
    "colab_type": "code",
    "id": "CK6sK8I4ZtCQ"
   },
   "outputs": [
    {
     "name": "stdout",
     "output_type": "stream",
     "text": [
      "('classifier: ', <class 'sklearn.tree.tree.DecisionTreeClassifier'>)\n",
      "('score', 0.7092139414163886)\n"
     ]
    }
   ],
   "source": [
    "import pandas as pd\n",
    "import numpy as np\n",
    "\n",
    "d = pd.read_csv(\"./misc/diamonds.csv\")\n",
    "vals = np.random.permutation(d.values)\n",
    "classifier, score = fit_lr(vals)\n",
    "print(\"classifier: \", type(classifier))\n",
    "print(\"score\", score)"
   ]
  },
  {
   "cell_type": "markdown",
   "metadata": {
    "colab_type": "text",
    "id": "GiLhRF0cZtCd"
   },
   "source": [
    "#### <span style=\"color:#FFF; background-color:#080; font-weight:bold; padding:4px;\">Importante</span> Evalue su respuesta."
   ]
  },
  {
   "cell_type": "code",
   "execution_count": 8,
   "metadata": {
    "colab": {},
    "colab_type": "code",
    "id": "HV4ktyTBZtCf"
   },
   "outputs": [
    {
     "name": "stdout",
     "output_type": "stream",
     "text": [
      "0.7081942899517983 0.71403411197627\n",
      "evaluation result CORRECT\n"
     ]
    }
   ],
   "source": [
    "!./run CHECK_SOLUTION PS3_2 $src3"
   ]
  },
  {
   "cell_type": "markdown",
   "metadata": {
    "colab_type": "text",
    "id": "0l804hrjZtCp"
   },
   "source": [
    "### Ejercicio 3 :  Entrena un algoritmo de regresión<a name=\"eje4\"></a>\n",
    "\n",
    "Completa la siguiente función para que realice una regresión utilizando un  **Support Vector Regressor**. La función debe devolver el **objeto del regresor** y un **resultado** usando la siguiente configuración:\n",
    "\n",
    "- El regresor `SVR` (Support Vector Regressor) debe ser entrenado\n",
    "<!-- La evalaución del método debe ser exhaustivo, utilizando un esquema de *cross-validation* con un **KFold = 10**-->\n",
    "- La metrica para la evaluación es el RMSE. Recuerde que en sklearn, se cuenta con la métrica MSE. Para obtener la RMSE se calcula la raíz de los valores obtenidos con la MSE.\n",
    "- Se debe retornar el valor promedio de la métrica RMSE.\n",
    "- se debe retornar el estimador ya entrenado\n",
    "\n",
    "<b>Referencia SVR:</b> https://scikit-learn.org/stable/modules/generated/sklearn.svm.SVR.html"
   ]
  },
  {
   "cell_type": "code",
   "execution_count": 59,
   "metadata": {
    "colab": {},
    "colab_type": "code",
    "id": "dKXYF7nkZtCr"
   },
   "outputs": [],
   "source": [
    "def fit_reg():\n",
    "    import numpy as np\n",
    "    import pandas as pd\n",
    "    from sklearn.svm import SVR\n",
    "    from sklearn.metrics import make_scorer, mean_squared_error\n",
    "\n",
    "    d = pd.read_csv('./misc/winequality-red.csv',sep=\";\")\n",
    "    vals = d.values\n",
    "    n=int(len(vals)*0.8)\n",
    "    X_train=vals[:n,5:]\n",
    "    X_test=vals[n:,5:]\n",
    "    y_train=vals[:n,2]\n",
    "    y_test=vals[n:,2]\n",
    "    \n",
    "    est = SVR()\n",
    "    est.fit(X_train,y_train)\n",
    "    rmse_s = np.mean(np.sqrt(mean_squared_error(y_test,est.predict(X_test))))\n",
    "    \n",
    "    return est, np.mean(rmse_s)\n",
    "\n",
    "#Colaboratory\n",
    "#import urllib.parse, inspect\n",
    "#src4 = urllib.parse.quote_plus(inspect.getsource(fit_reg))\n",
    "\n",
    "#Virtualbox\n",
    "import urllib, inspect\n",
    "src4 = urllib.quote_plus(inspect.getsource(fit_reg))"
   ]
  },
  {
   "cell_type": "markdown",
   "metadata": {
    "colab_type": "text",
    "id": "c5ZjQmN-ZtC_"
   },
   "source": [
    "Test Your Code:"
   ]
  },
  {
   "cell_type": "code",
   "execution_count": 60,
   "metadata": {
    "colab": {},
    "colab_type": "code",
    "id": "qTFUE0qPZtDB"
   },
   "outputs": [
    {
     "data": {
      "text/html": [
       "<div>\n",
       "<style scoped>\n",
       "    .dataframe tbody tr th:only-of-type {\n",
       "        vertical-align: middle;\n",
       "    }\n",
       "\n",
       "    .dataframe tbody tr th {\n",
       "        vertical-align: top;\n",
       "    }\n",
       "\n",
       "    .dataframe thead th {\n",
       "        text-align: right;\n",
       "    }\n",
       "</style>\n",
       "<table border=\"1\" class=\"dataframe\">\n",
       "  <thead>\n",
       "    <tr style=\"text-align: right;\">\n",
       "      <th></th>\n",
       "      <th>fixed acidity</th>\n",
       "      <th>volatile acidity</th>\n",
       "      <th>citric acid</th>\n",
       "      <th>residual sugar</th>\n",
       "      <th>chlorides</th>\n",
       "      <th>free sulfur dioxide</th>\n",
       "      <th>total sulfur dioxide</th>\n",
       "      <th>density</th>\n",
       "      <th>pH</th>\n",
       "      <th>sulphates</th>\n",
       "      <th>alcohol</th>\n",
       "      <th>quality</th>\n",
       "    </tr>\n",
       "  </thead>\n",
       "  <tbody>\n",
       "    <tr>\n",
       "      <th>0</th>\n",
       "      <td>7.4</td>\n",
       "      <td>0.70</td>\n",
       "      <td>0.00</td>\n",
       "      <td>1.9</td>\n",
       "      <td>0.076</td>\n",
       "      <td>11.0</td>\n",
       "      <td>34.0</td>\n",
       "      <td>0.9978</td>\n",
       "      <td>3.51</td>\n",
       "      <td>0.56</td>\n",
       "      <td>9.4</td>\n",
       "      <td>5</td>\n",
       "    </tr>\n",
       "    <tr>\n",
       "      <th>1</th>\n",
       "      <td>7.8</td>\n",
       "      <td>0.88</td>\n",
       "      <td>0.00</td>\n",
       "      <td>2.6</td>\n",
       "      <td>0.098</td>\n",
       "      <td>25.0</td>\n",
       "      <td>67.0</td>\n",
       "      <td>0.9968</td>\n",
       "      <td>3.20</td>\n",
       "      <td>0.68</td>\n",
       "      <td>9.8</td>\n",
       "      <td>5</td>\n",
       "    </tr>\n",
       "    <tr>\n",
       "      <th>2</th>\n",
       "      <td>7.8</td>\n",
       "      <td>0.76</td>\n",
       "      <td>0.04</td>\n",
       "      <td>2.3</td>\n",
       "      <td>0.092</td>\n",
       "      <td>15.0</td>\n",
       "      <td>54.0</td>\n",
       "      <td>0.9970</td>\n",
       "      <td>3.26</td>\n",
       "      <td>0.65</td>\n",
       "      <td>9.8</td>\n",
       "      <td>5</td>\n",
       "    </tr>\n",
       "    <tr>\n",
       "      <th>3</th>\n",
       "      <td>11.2</td>\n",
       "      <td>0.28</td>\n",
       "      <td>0.56</td>\n",
       "      <td>1.9</td>\n",
       "      <td>0.075</td>\n",
       "      <td>17.0</td>\n",
       "      <td>60.0</td>\n",
       "      <td>0.9980</td>\n",
       "      <td>3.16</td>\n",
       "      <td>0.58</td>\n",
       "      <td>9.8</td>\n",
       "      <td>6</td>\n",
       "    </tr>\n",
       "    <tr>\n",
       "      <th>4</th>\n",
       "      <td>7.4</td>\n",
       "      <td>0.70</td>\n",
       "      <td>0.00</td>\n",
       "      <td>1.9</td>\n",
       "      <td>0.076</td>\n",
       "      <td>11.0</td>\n",
       "      <td>34.0</td>\n",
       "      <td>0.9978</td>\n",
       "      <td>3.51</td>\n",
       "      <td>0.56</td>\n",
       "      <td>9.4</td>\n",
       "      <td>5</td>\n",
       "    </tr>\n",
       "  </tbody>\n",
       "</table>\n",
       "</div>"
      ],
      "text/plain": [
       "   fixed acidity  volatile acidity  citric acid  residual sugar  chlorides  \\\n",
       "0            7.4              0.70         0.00             1.9      0.076   \n",
       "1            7.8              0.88         0.00             2.6      0.098   \n",
       "2            7.8              0.76         0.04             2.3      0.092   \n",
       "3           11.2              0.28         0.56             1.9      0.075   \n",
       "4            7.4              0.70         0.00             1.9      0.076   \n",
       "\n",
       "   free sulfur dioxide  total sulfur dioxide  density    pH  sulphates  \\\n",
       "0                 11.0                  34.0   0.9978  3.51       0.56   \n",
       "1                 25.0                  67.0   0.9968  3.20       0.68   \n",
       "2                 15.0                  54.0   0.9970  3.26       0.65   \n",
       "3                 17.0                  60.0   0.9980  3.16       0.58   \n",
       "4                 11.0                  34.0   0.9978  3.51       0.56   \n",
       "\n",
       "   alcohol  quality  \n",
       "0      9.4        5  \n",
       "1      9.8        5  \n",
       "2      9.8        5  \n",
       "3      9.8        6  \n",
       "4      9.4        5  "
      ]
     },
     "execution_count": 60,
     "metadata": {},
     "output_type": "execute_result"
    }
   ],
   "source": [
    "import numpy as np\n",
    "import pandas as pd\n",
    "#bikes = pd.read_csv('./misc/bikes.csv')\n",
    "d = pd.read_csv('./misc/winequality-red.csv',sep=\";\")\n",
    "d.head()"
   ]
  },
  {
   "cell_type": "code",
   "execution_count": 61,
   "metadata": {
    "colab": {},
    "colab_type": "code",
    "id": "WLa9QsP3ZtDf",
    "scrolled": false
   },
   "outputs": [
    {
     "name": "stdout",
     "output_type": "stream",
     "text": [
      "('est', SVR(C=1.0, cache_size=200, coef0=0.0, degree=3, epsilon=0.1, gamma='auto',\n",
      "  kernel='rbf', max_iter=-1, shrinking=True, tol=0.001, verbose=False))\n",
      "('score', 0.18671218862025329)\n"
     ]
    }
   ],
   "source": [
    "import numpy as np\n",
    "import pandas as pd\n",
    "from sklearn.svm import SVR\n",
    "\n",
    "est, s = fit_reg()\n",
    "print(\"est\", est)\n",
    "#print(\"RMSE score\", s)\n",
    "print(\"score\", s)"
   ]
  },
  {
   "cell_type": "markdown",
   "metadata": {
    "colab_type": "text",
    "id": "EL-1_y86ZtDx"
   },
   "source": [
    "#### <span style=\"color:#FFF; background-color:#080; font-weight:bold; padding:4px;\">Importante</span> Evalue su respuesta."
   ]
  },
  {
   "cell_type": "code",
   "execution_count": 62,
   "metadata": {
    "colab": {},
    "colab_type": "code",
    "id": "oU8elu-jZtDz"
   },
   "outputs": [
    {
     "name": "stdout",
     "output_type": "stream",
     "text": [
      "/home/user/.local/lib/python3.6/site-packages/sklearn/svm/base.py:196: FutureWarning: The default value of gamma will change from 'auto' to 'scale' in version 0.22 to account better for unscaled features. Set gamma explicitly to 'auto' or 'scale' to avoid this warning.\n",
      "  \"avoid this warning.\", FutureWarning)\n",
      "/home/user/.local/lib/python3.6/site-packages/sklearn/svm/base.py:196: FutureWarning: The default value of gamma will change from 'auto' to 'scale' in version 0.22 to account better for unscaled features. Set gamma explicitly to 'auto' or 'scale' to avoid this warning.\n",
      "  \"avoid this warning.\", FutureWarning)\n",
      "evaluation result CORRECT\n"
     ]
    }
   ],
   "source": [
    "!./run CHECK_SOLUTION PS3_3 $src4"
   ]
  },
  {
   "cell_type": "markdown",
   "metadata": {
    "colab_type": "text",
    "id": "jNwVf6zXZtEE"
   },
   "source": [
    "### Ejercicio 4 : <a name=\"eje5\"></a>\n",
    "\n",
    "Vamos a utilizar modelos de regresion para estimar los valores de diamantes en dolares (USD), y teniendo en cuenta algunos atributos como la claridad, el tamaño, entre otros. Mayor infomación del dataset lo puedes encontrar en [data](https://www.kaggle.com/shivam2503/diamonds). \n",
    "\n",
    "Observemos un poco el dataset."
   ]
  },
  {
   "cell_type": "code",
   "execution_count": 9,
   "metadata": {
    "colab": {},
    "colab_type": "code",
    "id": "tvJydNVpZtEG",
    "outputId": "25803e28-cc91-456c-c5ae-caeff47f3408"
   },
   "outputs": [
    {
     "data": {
      "text/html": [
       "<div>\n",
       "<style scoped>\n",
       "    .dataframe tbody tr th:only-of-type {\n",
       "        vertical-align: middle;\n",
       "    }\n",
       "\n",
       "    .dataframe tbody tr th {\n",
       "        vertical-align: top;\n",
       "    }\n",
       "\n",
       "    .dataframe thead th {\n",
       "        text-align: right;\n",
       "    }\n",
       "</style>\n",
       "<table border=\"1\" class=\"dataframe\">\n",
       "  <thead>\n",
       "    <tr style=\"text-align: right;\">\n",
       "      <th></th>\n",
       "      <th>Unnamed: 0</th>\n",
       "      <th>carat</th>\n",
       "      <th>cut</th>\n",
       "      <th>color</th>\n",
       "      <th>clarity</th>\n",
       "      <th>depth</th>\n",
       "      <th>table</th>\n",
       "      <th>price</th>\n",
       "      <th>x</th>\n",
       "      <th>y</th>\n",
       "      <th>z</th>\n",
       "    </tr>\n",
       "  </thead>\n",
       "  <tbody>\n",
       "    <tr>\n",
       "      <th>0</th>\n",
       "      <td>1</td>\n",
       "      <td>0.23</td>\n",
       "      <td>Ideal</td>\n",
       "      <td>E</td>\n",
       "      <td>SI2</td>\n",
       "      <td>61.5</td>\n",
       "      <td>55.0</td>\n",
       "      <td>326</td>\n",
       "      <td>3.95</td>\n",
       "      <td>3.98</td>\n",
       "      <td>2.43</td>\n",
       "    </tr>\n",
       "    <tr>\n",
       "      <th>1</th>\n",
       "      <td>2</td>\n",
       "      <td>0.21</td>\n",
       "      <td>Premium</td>\n",
       "      <td>E</td>\n",
       "      <td>SI1</td>\n",
       "      <td>59.8</td>\n",
       "      <td>61.0</td>\n",
       "      <td>326</td>\n",
       "      <td>3.89</td>\n",
       "      <td>3.84</td>\n",
       "      <td>2.31</td>\n",
       "    </tr>\n",
       "    <tr>\n",
       "      <th>2</th>\n",
       "      <td>3</td>\n",
       "      <td>0.23</td>\n",
       "      <td>Good</td>\n",
       "      <td>E</td>\n",
       "      <td>VS1</td>\n",
       "      <td>56.9</td>\n",
       "      <td>65.0</td>\n",
       "      <td>327</td>\n",
       "      <td>4.05</td>\n",
       "      <td>4.07</td>\n",
       "      <td>2.31</td>\n",
       "    </tr>\n",
       "    <tr>\n",
       "      <th>3</th>\n",
       "      <td>4</td>\n",
       "      <td>0.29</td>\n",
       "      <td>Premium</td>\n",
       "      <td>I</td>\n",
       "      <td>VS2</td>\n",
       "      <td>62.4</td>\n",
       "      <td>58.0</td>\n",
       "      <td>334</td>\n",
       "      <td>4.20</td>\n",
       "      <td>4.23</td>\n",
       "      <td>2.63</td>\n",
       "    </tr>\n",
       "    <tr>\n",
       "      <th>4</th>\n",
       "      <td>5</td>\n",
       "      <td>0.31</td>\n",
       "      <td>Good</td>\n",
       "      <td>J</td>\n",
       "      <td>SI2</td>\n",
       "      <td>63.3</td>\n",
       "      <td>58.0</td>\n",
       "      <td>335</td>\n",
       "      <td>4.34</td>\n",
       "      <td>4.35</td>\n",
       "      <td>2.75</td>\n",
       "    </tr>\n",
       "  </tbody>\n",
       "</table>\n",
       "</div>"
      ],
      "text/plain": [
       "   Unnamed: 0  carat      cut color clarity  depth  table  price     x     y  \\\n",
       "0           1   0.23    Ideal     E     SI2   61.5   55.0    326  3.95  3.98   \n",
       "1           2   0.21  Premium     E     SI1   59.8   61.0    326  3.89  3.84   \n",
       "2           3   0.23     Good     E     VS1   56.9   65.0    327  4.05  4.07   \n",
       "3           4   0.29  Premium     I     VS2   62.4   58.0    334  4.20  4.23   \n",
       "4           5   0.31     Good     J     SI2   63.3   58.0    335  4.34  4.35   \n",
       "\n",
       "      z  \n",
       "0  2.43  \n",
       "1  2.31  \n",
       "2  2.31  \n",
       "3  2.63  \n",
       "4  2.75  "
      ]
     },
     "execution_count": 9,
     "metadata": {},
     "output_type": "execute_result"
    }
   ],
   "source": [
    "import numpy as np\n",
    "import pandas as pd\n",
    "\n",
    "data_diamond = pd.read_csv(\"misc/diamonds.csv\")\n",
    "data_diamond.head()"
   ]
  },
  {
   "cell_type": "markdown",
   "metadata": {
    "colab_type": "text",
    "id": "VE5_VzQGZtEY"
   },
   "source": [
    "Construye una función para predecir el precio de los diamantes utilizando diferentes regresores y teniendo en cuenta las siguientes consideraciones: \n",
    "\n",
    "- Como caracteristicas se utilizaran las caracteristicas {depth, table, x,y,z}\n",
    "- se debe permutar el dataset\n",
    "- El 80% del dataset se utilizará como train **X_train**,**y_train**\n",
    "- El 20% del dataset restante se utilizará como test:**X_test**,**y_test** \n",
    "- Se deben entrenar dos regresores como sigue: \n",
    "    - Un regresor `SVR` con kernel lineal.\n",
    "    - Un regresor `RandomForest` con los parametros de max_depth y n_estimators de 10 y 10, respectivamente.\n",
    "- La función debe retornar: \n",
    "    - una lista con los objetos entrenados: `[SVR, RF]`\n",
    "    - una lista con los conjuntos: `[X_train, X_test, y_train, y_test]`\n",
    "    - una lista con los scores utilizando la métrica RMSE: `[RMSE_SVR, RMSE_RF]`"
   ]
  },
  {
   "cell_type": "code",
   "execution_count": 10,
   "metadata": {
    "colab": {},
    "colab_type": "code",
    "id": "iXIHLPewZtEd"
   },
   "outputs": [],
   "source": [
    "def fit_score_regressions(data_diamond):\n",
    "    from sklearn.model_selection import train_test_split\n",
    "    from sklearn.metrics import mean_squared_error\n",
    "    from sklearn.svm import SVR\n",
    "    from sklearn.ensemble import RandomForestRegressor\n",
    "    vals = np.random.permutation(data_diamond.values)\n",
    "    #n=int(len(vals)*0.8)\n",
    "    #X_train=vals[:n,[5,6,8,9,10]]\n",
    "    #X_test=vals[n:,[5,6,8,9,10]]\n",
    "    #y_train=vals[:n,7]\n",
    "    #y_test=vals[n:,7]\n",
    "    X=vals[:,[5,6,8,9,10]]\n",
    "    y=vals[:,7]\n",
    "    X_train, X_test, y_train, y_test = train_test_split(X,y, test_size=.2)\n",
    "    \n",
    "    est_SVR = SVR(kernel=\"linear\")\n",
    "    est_RF = RandomForestRegressor(n_estimators=10, max_depth=10)\n",
    "    est_SVR.fit(X_train,y_train)\n",
    "    est_RF.fit(X_train,y_train)\n",
    "    SVR_predict=est_SVR.predict(X_test)\n",
    "    FR_predict=est_RF.predict(X_test)\n",
    "    RMSE_SVR = np.mean(np.sqrt(mean_squared_error(y_test,SVR_predict)))\n",
    "    RMSE_RF = np.mean(np.sqrt(mean_squared_error(y_test,FR_predict)))\n",
    "    \n",
    "    return [est_SVR, est_RF], [X_train, X_test, y_train, y_test], [RMSE_SVR,RMSE_RF]\n",
    "\n",
    "#Colaboratory\n",
    "#import urllib.parse, inspect\n",
    "#src5 = urllib.parse.quote_plus(inspect.getsource(fit_score_regressions))\n",
    "\n",
    "#Virtualbox\n",
    "import urllib, inspect\n",
    "src5 = urllib.quote_plus(inspect.getsource(fit_score_regressions))"
   ]
  },
  {
   "cell_type": "markdown",
   "metadata": {
    "colab_type": "text",
    "id": "dhNGbeocZtE4"
   },
   "source": [
    "Evalue el comportamiento de los métodos"
   ]
  },
  {
   "cell_type": "code",
   "execution_count": 12,
   "metadata": {
    "colab": {},
    "colab_type": "code",
    "id": "FeM8EI4qZtE6"
   },
   "outputs": [
    {
     "name": "stdout",
     "output_type": "stream",
     "text": [
      "rmse svr:  2193.87146751  rmse rf:  1377.60652144\n"
     ]
    },
    {
     "data": {
      "image/png": "[encoded data removed]",
      "text/plain": [
       "<matplotlib.figure.Figure at 0x7f10a396d710>"
      ]
     },
     "metadata": {},
     "output_type": "display_data"
    }
   ],
   "source": [
    "data_diamond = pd.read_csv(\"misc/diamonds.csv\")\n",
    "lis_est, lis_data, list_rmse = fit_score_regressions(data_diamond)\n",
    "\n",
    "print \"rmse svr: \", list_rmse[0], \" rmse rf: \", list_rmse[1]\n",
    "\n",
    "x_Axis = range(lis_data[3].shape[0])\n",
    "perm = np.random.permutation(x_Axis)[:100]\n",
    "\n",
    "\n",
    "plt.figure(figsize=(15,5))\n",
    "\n",
    "plt.errorbar(range(len(perm)), lis_data[3][perm], yerr=0, c= \"yellow\", alpha=0.6, markersize= 10, fmt='o',\n",
    "             markeredgecolor=\"black\" ,  label=\"GT\")\n",
    "plt.errorbar(range(len(perm)), lis_est[0].predict(lis_data[1])[perm], yerr=0, c= \"red\", alpha=0.6, markersize= 10, fmt='o',\n",
    "             markeredgecolor=\"black\" ,  label=\"SVR\")\n",
    "plt.errorbar(range(len(perm)), lis_est[1].predict(lis_data[1])[perm], yerr=0, c= \"blue\", alpha=0.6, markersize= 10, fmt='o',\n",
    "             markeredgecolor=\"black\" ,  label=\"RF\")\n",
    "\n",
    "plt.legend(['GT', 'SVR',  \"RF\"])\n",
    "plt.ylim([0.4, 20000])\n",
    "plt.tight_layout()\n",
    "plt.grid(alpha=0.2)\n",
    "plt.show()"
   ]
  },
  {
   "cell_type": "markdown",
   "metadata": {
    "colab_type": "text",
    "id": "wD7uYQLdZtFF"
   },
   "source": [
    "#### <span style=\"color:#FFF; background-color:#080; font-weight:bold; padding:4px;\">Importante</span> Evalue su respuesta."
   ]
  },
  {
   "cell_type": "code",
   "execution_count": 11,
   "metadata": {
    "colab": {},
    "colab_type": "code",
    "id": "jYInONPoZtFH"
   },
   "outputs": [
    {
     "name": "stdout",
     "output_type": "stream",
     "text": [
      "2153.1752719413707 2153.1752719413707 1366.7795245159066 1374.702121189226\n",
      "evaluation result CORRECT\n"
     ]
    }
   ],
   "source": [
    "!./run CHECK_SOLUTION PS3_5 $src5"
   ]
  },
  {
   "cell_type": "markdown",
   "metadata": {
    "colab_type": "text",
    "id": "CNngd8SiZtFr"
   },
   "source": [
    "#### <span style=\"color:#FFF; background-color:#080; font-weight:bold; padding:4px;\">Importante</span> Pasos Finales. \n",
    "\n"
   ]
  },
  {
   "cell_type": "markdown",
   "metadata": {
    "colab_type": "text",
    "id": "qx5BPCcaZtFx"
   },
   "source": [
    "#### 1. Reemplace la variable con su código de estudiante"
   ]
  },
  {
   "cell_type": "code",
   "execution_count": 63,
   "metadata": {
    "colab": {},
    "colab_type": "code",
    "id": "lrLchkYbZtF0",
    "outputId": "e4c271a5-db1f-48ff-c824-81f1ca31f63d",
    "scrolled": true
   },
   "outputs": [
    {
     "name": "stdout",
     "output_type": "stream",
     "text": [
      "('Taller_03_20201_ClassificationRegression', 'tl3_2170688')\n"
     ]
    }
   ],
   "source": [
    "#Colaboratory\n",
    "#import urllib.parse, inspect\n",
    "#taller = urllib.parse.quote_plus(\"Taller_03_20201_ClassificationRegression\")\n",
    "#codigo = urllib.parse.quote_plus(\"tl3_12345\")\n",
    "\n",
    "#Virtualbox\n",
    "import urllib, inspect\n",
    "taller = urllib.quote_plus(\"Taller_03_20201_ClassificationRegression\")\n",
    "codigo = urllib.quote_plus(\"tl3_2170688\")\n",
    "\n",
    "print(taller, codigo)"
   ]
  },
  {
   "cell_type": "markdown",
   "metadata": {
    "colab_type": "text",
    "id": "0Nu-JFkKZtF8"
   },
   "source": [
    "#### 2. Guarde los cambios del taller:"
   ]
  },
  {
   "cell_type": "code",
   "execution_count": 64,
   "metadata": {
    "colab": {},
    "colab_type": "code",
    "id": "eh21r0lzZtF9",
    "outputId": "8a6f1660-9f33-444c-fb9d-f6c1636cff07"
   },
   "outputs": [
    {
     "data": {
      "application/javascript": [
       "require([\"base/js/namespace\"],function(Jupyter) {\n",
       "    Jupyter.notebook.save_checkpoint();\n",
       "});"
      ],
      "text/plain": [
       "<IPython.core.display.Javascript object>"
      ]
     },
     "metadata": {},
     "output_type": "display_data"
    }
   ],
   "source": [
    "%%javascript\n",
    "require([\"base/js/namespace\"],function(Jupyter) {\n",
    "    Jupyter.notebook.save_checkpoint();\n",
    "});"
   ]
  },
  {
   "cell_type": "markdown",
   "metadata": {
    "colab_type": "text",
    "id": "3SeTg2hbZtGG"
   },
   "source": [
    "#### 3. Ejecute la siguiente celda y envíe el archivo comprimido"
   ]
  },
  {
   "cell_type": "code",
   "execution_count": null,
   "metadata": {
    "colab": {},
    "colab_type": "code",
    "id": "ANcxpGUkZtGH",
    "outputId": "dc9b3ef2-e555-4027-bd3b-2d412af5b754",
    "scrolled": true
   },
   "outputs": [],
   "source": [
    "!./convert_ipynb.sh $codigo $taller"
   ]
  },
  {
   "cell_type": "markdown",
   "metadata": {
    "colab_type": "text",
    "id": "MoSA478sZtGO"
   },
   "source": [
    "---\n",
    "---\n",
    "<img src=\"../imgs/bannerThanks.jpg\" style=\"width:1000px;\">"
   ]
  }
 ],
 "metadata": {
  "colab": {
   "collapsed_sections": [],
   "name": "Taller_03_20201_ClassificationRegression.ipynb",
   "provenance": []
  },
  "kernelspec": {
   "display_name": "Python 3",
   "language": "python",
   "name": "python3"
  },
  "language_info": {
   "codemirror_mode": {
    "name": "ipython",
    "version": 2
   },
   "file_extension": ".py",
   "mimetype": "text/x-python",
   "name": "python",
   "nbconvert_exporter": "python",
   "pygments_lexer": "ipython2",
   "version": "2.7.14"
  }
 },
 "nbformat": 4,
 "nbformat_minor": 1
}
