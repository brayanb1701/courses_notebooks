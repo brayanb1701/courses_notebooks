{
 "cells": [
  {
   "cell_type": "markdown",
   "metadata": {
    "colab_type": "text",
    "id": "B_ExlscBZqOh"
   },
   "source": [
    "<img src=\"https://gitlab.com/bivl2ab/academico/cursos-uis/ai/ai-uis-student/raw/master/imgs/banner_IA.png\"  width=\"1000px\" height=\"200px\">\n",
    "\n",
    "# Taller 01: Python, Numpy and Pandas\n",
    "\n",
    "## <span style=\"color:red\"> Outline </span> \n",
    "\n",
    "1. [Ejercicio 1. numpy](#eje1)\n",
    "2. [Ejercicio 2. numpy](#eje2)\n",
    "3. [Ejercicio 3. pandas](#eje5)\n",
    "4. [Ejercicio 4. pandas](#eje6)\n",
    "5. [Ejercicio 5. pandas](#eje7)\n"
   ]
  },
  {
   "cell_type": "code",
   "execution_count": 1,
   "metadata": {
    "colab": {},
    "colab_type": "code",
    "id": "HQRYV-WRZqO3"
   },
   "outputs": [],
   "source": [
    "#@title 1. MONTAR EL DRIVE **student** { display-mode: \"form\" }\n",
    "import os\n",
    "#from google.colab import drive\n",
    "#drive.mount('/content/drive')\n",
    "#os.chdir('/content/drive/My Drive/course-IA1/ai-uis-student/talleres20201')\n",
    "#os.chdir('/content/drive/My Drive/ai-uis-student/talleres20201')\n",
    "#print(os.getcwd())\n",
    "!chmod 777 convert_ipynb.sh run utils/*"
   ]
  },
  {
   "cell_type": "markdown",
   "metadata": {
    "colab_type": "text",
    "id": "g15rPjQ6ZqPC"
   },
   "source": [
    "# Usted debe ejecutar <span style=\"color:#F00;\">TODAS</span> las celdas de tipo <span style=\"color:#F00;\">CODE</span>. De lo contrario, sus respuestas no serán procesadas correctamente.</h2>\n",
    "---"
   ]
  },
  {
   "cell_type": "markdown",
   "metadata": {
    "colab_type": "text",
    "id": "CDimc8c3ZqPE"
   },
   "source": [
    "---\n",
    "\n",
    "### Ejercicio 1  <a name=\"eje1\"></a>\n",
    "\n",
    "Las combinaciones lineales son una de las operaciones matemáticas mas importantes en aprendizaje de máquina e inteligencia artificial. Por ejemplo, el modelo de un neurona (principio de los metodos mas famosos de clasificación) puede modelarse como una combinación lineal de unas entradas que se múltiplican por unos pesos y se les suma un *bias*. \n",
    "\n",
    "<img src=\"https://gitlab.com/bivl2ab/academico/cursos-uis/ai/ai-uis-student/-/raw/master/imgs/dl1.jpg\" /> \n",
    "\n",
    "Esta representación gráfica se puede representar como $$y = \\sum_{i=1}^{3}{ x_i \\dot w_i } +b = XW^\\top$$. \n",
    "Implemente una función que calcule la combinación lineal de un vector $\\mathbf{X}$, unos pesos $\\mathbf{W}$ y un sesgo (*bias*) $b$\n"
   ]
  },
  {
   "cell_type": "code",
   "execution_count": 5,
   "metadata": {
    "colab": {},
    "colab_type": "code",
    "id": "HaROlcOeZqPH"
   },
   "outputs": [],
   "source": [
    "def fun_eje_1_17(X, W, b):\n",
    "    import numpy as np\n",
    "    \n",
    "    y = np.sum(X*W)+b\n",
    "    \n",
    "    return y\n",
    "\n",
    "#Colaboratory\n",
    "#import urllib.parse, inspect\n",
    "#src17 = urllib.parse.quote_plus(inspect.getsource(fun_eje_1_17))\n",
    "\n",
    "#Virtualbox\n",
    "import urllib, inspect\n",
    "src17 = urllib.quote_plus(inspect.getsource(fun_eje_1_17))"
   ]
  },
  {
   "cell_type": "markdown",
   "metadata": {
    "colab_type": "text",
    "id": "15jEN8yIZqPS"
   },
   "source": [
    "Prueba tu código:\n",
    "\n",
    "Dados los valores iniciales:\n",
    "$X = \\begin{bmatrix}3\\\\2\\\\8\\end{bmatrix}$ <br><br>\n",
    "Con sus respectivos pesos:\n",
    "$W = [0.1, 0.3, 0.6]$ <br><br>\n",
    "Y un sesgo de $b=33$."
   ]
  },
  {
   "cell_type": "code",
   "execution_count": 6,
   "metadata": {
    "colab": {},
    "colab_type": "code",
    "id": "jQMB8Y9eZqPU"
   },
   "outputs": [
    {
     "data": {
      "text/plain": [
       "38.700000000000003"
      ]
     },
     "execution_count": 6,
     "metadata": {},
     "output_type": "execute_result"
    }
   ],
   "source": [
    "import numpy as np\n",
    "X = np.array([3,2,8] )\n",
    "W = np.array([0.1, 0.3, 0.6])\n",
    "b=33\n",
    "fun_eje_1_17(X, W, b)"
   ]
  },
  {
   "cell_type": "markdown",
   "metadata": {
    "colab_type": "text",
    "id": "a3DdvPRvZqPg"
   },
   "source": [
    "#### <span style=\"color:#FFF; background-color:#080; font-weight:bold; padding:4px;\">Importante</span> Evalue su respuesta."
   ]
  },
  {
   "cell_type": "code",
   "execution_count": 8,
   "metadata": {
    "colab": {},
    "colab_type": "code",
    "id": "npY-EHyuZqPi"
   },
   "outputs": [
    {
     "name": "stdout",
     "output_type": "stream",
     "text": [
      "evaluation result CORRECT\r\n"
     ]
    }
   ],
   "source": [
    "!./run CHECK_SOLUTION PS1_17 $src17"
   ]
  },
  {
   "cell_type": "markdown",
   "metadata": {
    "colab_type": "text",
    "id": "22UWi6cnZqPt"
   },
   "source": [
    "---\n",
    "\n",
    "### Ejercicio 2  <a name=\"eje2\"></a>\n",
    "\n",
    "\n",
    "Dado un `array` $\\mathbf{A} \\in \\mathbb{R}^{m \\times n}$ de $m$ filas y $n$ columnas.  Cree una función que calcule la **media, y el máximo** de cada columna, cada  fila y de la matrix completa. El resultado de operaciones por columna son estructuras de tipo `array` de $n$ elementos, de las filas son de $m$ elementos, y las operaciones de las matrices es un valor escalar. \n"
   ]
  },
  {
   "cell_type": "code",
   "execution_count": 9,
   "metadata": {
    "colab": {},
    "colab_type": "code",
    "id": "1yRxqtk9ZqPv"
   },
   "outputs": [],
   "source": [
    "def fun_eje_1_18(A):\n",
    "    import numpy as np\n",
    "    \n",
    "\n",
    "    vec_mean_c = np.mean(A, axis=0)\n",
    "    vec_max_c  = np.max(A, axis=0)\n",
    "    vec_mean_f = np.mean(A, axis=1)\n",
    "    vec_max_f  = np.max(A, axis=1)\n",
    "    vec_mean_m = np.mean(A)\n",
    "    vec_max_m  = np.max(A)\n",
    "    \n",
    "    return vec_mean_c, vec_max_c, vec_mean_f, vec_max_f, vec_mean_m, vec_max_m\n",
    "\n",
    "#Colaboratory\n",
    "#import urllib.parse, inspect\n",
    "#src18 = urllib.parse.quote_plus(inspect.getsource(fun_eje_1_18))\n",
    "\n",
    "#Virtualbox\n",
    "import urllib, inspect\n",
    "src18 = urllib.quote_plus(inspect.getsource(fun_eje_1_18))"
   ]
  },
  {
   "cell_type": "markdown",
   "metadata": {
    "colab_type": "text",
    "id": "6x21lUYhZqP7"
   },
   "source": [
    "Compruebe su respuesta"
   ]
  },
  {
   "cell_type": "code",
   "execution_count": 10,
   "metadata": {
    "colab": {},
    "colab_type": "code",
    "id": "Ra7FbZbuZqP9"
   },
   "outputs": [
    {
     "name": "stdout",
     "output_type": "stream",
     "text": [
      "[[ 0.15323852  0.45355796]\n",
      " [ 0.90229837  0.28064987]\n",
      " [ 0.51758167  0.37458178]]\n",
      "('vec_mean_c: ', array([ 0.52437285,  0.36959654]))\n",
      "('vec_mean_f: ', array([ 0.30339824,  0.59147412,  0.44608172]))\n",
      "('vec_mean_m: ', 0.44698469414679454)\n"
     ]
    }
   ],
   "source": [
    "import numpy as np\n",
    "A = np.random.rand(3,2)\n",
    "print(A)\n",
    "vec_mean_c, vec_max_c, vec_mean_f, vec_max_f, vec_mean_m, vec_max_m = fun_eje_1_18(A)\n",
    "print(\"vec_mean_c: \", vec_mean_c)\n",
    "print(\"vec_mean_f: \", vec_mean_f)\n",
    "print(\"vec_mean_m: \", vec_mean_m)"
   ]
  },
  {
   "cell_type": "markdown",
   "metadata": {
    "colab_type": "text",
    "id": "NtKvRFHUZqQG"
   },
   "source": [
    "#### <span style=\"color:#FFF; background-color:#080; font-weight:bold; padding:4px;\">Importante</span> Evalue su respuesta."
   ]
  },
  {
   "cell_type": "code",
   "execution_count": 11,
   "metadata": {
    "colab": {},
    "colab_type": "code",
    "id": "Ai_faCcMZqQI"
   },
   "outputs": [
    {
     "name": "stdout",
     "output_type": "stream",
     "text": [
      "evaluation result CORRECT\r\n"
     ]
    }
   ],
   "source": [
    "!./run CHECK_SOLUTION PS1_18 $src18"
   ]
  },
  {
   "cell_type": "markdown",
   "metadata": {
    "colab_type": "text",
    "id": "Owm0zR_jZqQT"
   },
   "source": [
    "---\n",
    "## Comportamiento del producto interno Bruto a nivel Mundial\n",
    "\n",
    "En los siguientes puntos vamos a explorar un dataset que describe el  crecimiento de la población mundial (`pop`) por país (`country`), y además describe el comportamiento del producto interno bruto (`gdpPercap`) y la experanza de vida (`lifeExp`).   "
   ]
  },
  {
   "cell_type": "code",
   "execution_count": 12,
   "metadata": {
    "colab": {},
    "colab_type": "code",
    "id": "me1ltxC0ZqQV"
   },
   "outputs": [
    {
     "data": {
      "text/html": [
       "<div>\n",
       "<style scoped>\n",
       "    .dataframe tbody tr th:only-of-type {\n",
       "        vertical-align: middle;\n",
       "    }\n",
       "\n",
       "    .dataframe tbody tr th {\n",
       "        vertical-align: top;\n",
       "    }\n",
       "\n",
       "    .dataframe thead th {\n",
       "        text-align: right;\n",
       "    }\n",
       "</style>\n",
       "<table border=\"1\" class=\"dataframe\">\n",
       "  <thead>\n",
       "    <tr style=\"text-align: right;\">\n",
       "      <th></th>\n",
       "      <th>country</th>\n",
       "      <th>year</th>\n",
       "      <th>pop</th>\n",
       "      <th>continent</th>\n",
       "      <th>lifeExp</th>\n",
       "      <th>gdpPercap</th>\n",
       "    </tr>\n",
       "  </thead>\n",
       "  <tbody>\n",
       "    <tr>\n",
       "      <th>0</th>\n",
       "      <td>Afghanistan</td>\n",
       "      <td>1952</td>\n",
       "      <td>8425333.0</td>\n",
       "      <td>Asia</td>\n",
       "      <td>28.801</td>\n",
       "      <td>779.445314</td>\n",
       "    </tr>\n",
       "    <tr>\n",
       "      <th>1</th>\n",
       "      <td>Afghanistan</td>\n",
       "      <td>1957</td>\n",
       "      <td>9240934.0</td>\n",
       "      <td>Asia</td>\n",
       "      <td>30.332</td>\n",
       "      <td>820.853030</td>\n",
       "    </tr>\n",
       "    <tr>\n",
       "      <th>2</th>\n",
       "      <td>Afghanistan</td>\n",
       "      <td>1962</td>\n",
       "      <td>10267083.0</td>\n",
       "      <td>Asia</td>\n",
       "      <td>31.997</td>\n",
       "      <td>853.100710</td>\n",
       "    </tr>\n",
       "    <tr>\n",
       "      <th>3</th>\n",
       "      <td>Afghanistan</td>\n",
       "      <td>1967</td>\n",
       "      <td>11537966.0</td>\n",
       "      <td>Asia</td>\n",
       "      <td>34.020</td>\n",
       "      <td>836.197138</td>\n",
       "    </tr>\n",
       "    <tr>\n",
       "      <th>4</th>\n",
       "      <td>Afghanistan</td>\n",
       "      <td>1972</td>\n",
       "      <td>13079460.0</td>\n",
       "      <td>Asia</td>\n",
       "      <td>36.088</td>\n",
       "      <td>739.981106</td>\n",
       "    </tr>\n",
       "  </tbody>\n",
       "</table>\n",
       "</div>"
      ],
      "text/plain": [
       "       country  year         pop continent  lifeExp   gdpPercap\n",
       "0  Afghanistan  1952   8425333.0      Asia   28.801  779.445314\n",
       "1  Afghanistan  1957   9240934.0      Asia   30.332  820.853030\n",
       "2  Afghanistan  1962  10267083.0      Asia   31.997  853.100710\n",
       "3  Afghanistan  1967  11537966.0      Asia   34.020  836.197138\n",
       "4  Afghanistan  1972  13079460.0      Asia   36.088  739.981106"
      ]
     },
     "execution_count": 12,
     "metadata": {},
     "output_type": "execute_result"
    }
   ],
   "source": [
    "import pandas as pd\n",
    "\n",
    "data = pd.read_csv('misc/FiveYearData.csv')\n",
    "\n",
    "data.head()"
   ]
  },
  {
   "cell_type": "code",
   "execution_count": 14,
   "metadata": {
    "colab": {},
    "colab_type": "code",
    "id": "1m5lAH3ZZqQf"
   },
   "outputs": [
    {
     "data": {
      "text/plain": [
       "<matplotlib.axes._subplots.AxesSubplot at 0x7fb49e6ee350>"
      ]
     },
     "execution_count": 14,
     "metadata": {},
     "output_type": "execute_result"
    },
    {
     "data": {
      "image/png": "[encoded data removed]",
      "text/plain": [
       "<matplotlib.figure.Figure at 0x7fb49e6e3e50>"
      ]
     },
     "metadata": {},
     "output_type": "display_data"
    }
   ],
   "source": [
    "import matplotlib.pyplot as plt\n",
    "data.plot(kind=\"scatter\", x=\"year\", y=\"lifeExp\", alpha=0.4, s=data[\"gdpPercap\"]/1000)\n"
   ]
  },
  {
   "cell_type": "markdown",
   "metadata": {
    "colab_type": "text",
    "id": "i3W-_VVzZqQr"
   },
   "source": [
    "### Ejercicio 3  (Pandas) <a name=\"eje5\"></a>\n",
    "\n",
    "**Calculando nuevas caracteristicas del dataset**\n",
    "\n",
    "Escriba una función que le agregue una columna al dataframe `data`. La nueva columna debe llamarse `corr_movil` y debe calcular la correlación movil entre las columnas `lifeExp` y `gdpPercap`. La ventana de la correlación movil debe ser calculada con una ventana de tamaño `10`. Los primeros datos serán `NaN` pero deben ser \"rellenados\" con el valor global de la correlación entre estas dos variables. \n",
    "\n",
    "La función debe devolver el datadrame `data` con la nueva columna y ademas se deve devolver la matrix de correlación general entre estas dos caracteristicas. \n"
   ]
  },
  {
   "cell_type": "code",
   "execution_count": 15,
   "metadata": {
    "colab": {},
    "colab_type": "code",
    "id": "fyDyStpyZqQu"
   },
   "outputs": [],
   "source": [
    "def fun_eje_1_19(): \n",
    "    import numpy as np\n",
    "    import pandas as pd\n",
    "    \n",
    "    data = pd.read_csv('misc/FiveYearData.csv')\n",
    "    data[\"corr_movil\"]=data.lifeExp.rolling(window=10).corr(other=data.gdpPercap)\n",
    "    data.corr_movil.fillna(data.lifeExp.corr(other=data.gdpPercap), inplace=True)\n",
    "    data_mod = data\n",
    "    corr_mat = data[[\"lifeExp\",\"gdpPercap\"]].corr()\n",
    "    \n",
    "    \n",
    "    return data_mod, corr_mat\n",
    "\n",
    "#Colaboratory\n",
    "#import urllib.parse, inspect\n",
    "#src19 = urllib.parse.quote_plus(inspect.getsource(fun_eje_1_19))\n",
    "\n",
    "#Virtualbox\n",
    "import urllib, inspect\n",
    "src19 = urllib.quote_plus(inspect.getsource(fun_eje_1_19))"
   ]
  },
  {
   "cell_type": "markdown",
   "metadata": {
    "colab_type": "text",
    "id": "-Q3ie7GUZqQ3"
   },
   "source": [
    "Su función debe devolver los siguientes datos: "
   ]
  },
  {
   "cell_type": "code",
   "execution_count": 16,
   "metadata": {
    "colab": {},
    "colab_type": "code",
    "id": "zNmfT5v5ZqQ5"
   },
   "outputs": [
    {
     "name": "stdout",
     "output_type": "stream",
     "text": [
      "            lifeExp  gdpPercap\n",
      "lifeExp    1.000000   0.583706\n",
      "gdpPercap  0.583706   1.000000\n"
     ]
    },
    {
     "data": {
      "text/html": [
       "<div>\n",
       "<style scoped>\n",
       "    .dataframe tbody tr th:only-of-type {\n",
       "        vertical-align: middle;\n",
       "    }\n",
       "\n",
       "    .dataframe tbody tr th {\n",
       "        vertical-align: top;\n",
       "    }\n",
       "\n",
       "    .dataframe thead th {\n",
       "        text-align: right;\n",
       "    }\n",
       "</style>\n",
       "<table border=\"1\" class=\"dataframe\">\n",
       "  <thead>\n",
       "    <tr style=\"text-align: right;\">\n",
       "      <th></th>\n",
       "      <th>country</th>\n",
       "      <th>year</th>\n",
       "      <th>pop</th>\n",
       "      <th>continent</th>\n",
       "      <th>lifeExp</th>\n",
       "      <th>gdpPercap</th>\n",
       "      <th>corr_movil</th>\n",
       "    </tr>\n",
       "  </thead>\n",
       "  <tbody>\n",
       "    <tr>\n",
       "      <th>0</th>\n",
       "      <td>Afghanistan</td>\n",
       "      <td>1952</td>\n",
       "      <td>8425333.0</td>\n",
       "      <td>Asia</td>\n",
       "      <td>28.801</td>\n",
       "      <td>779.445314</td>\n",
       "      <td>0.583706</td>\n",
       "    </tr>\n",
       "    <tr>\n",
       "      <th>1</th>\n",
       "      <td>Afghanistan</td>\n",
       "      <td>1957</td>\n",
       "      <td>9240934.0</td>\n",
       "      <td>Asia</td>\n",
       "      <td>30.332</td>\n",
       "      <td>820.853030</td>\n",
       "      <td>0.583706</td>\n",
       "    </tr>\n",
       "    <tr>\n",
       "      <th>2</th>\n",
       "      <td>Afghanistan</td>\n",
       "      <td>1962</td>\n",
       "      <td>10267083.0</td>\n",
       "      <td>Asia</td>\n",
       "      <td>31.997</td>\n",
       "      <td>853.100710</td>\n",
       "      <td>0.583706</td>\n",
       "    </tr>\n",
       "    <tr>\n",
       "      <th>3</th>\n",
       "      <td>Afghanistan</td>\n",
       "      <td>1967</td>\n",
       "      <td>11537966.0</td>\n",
       "      <td>Asia</td>\n",
       "      <td>34.020</td>\n",
       "      <td>836.197138</td>\n",
       "      <td>0.583706</td>\n",
       "    </tr>\n",
       "    <tr>\n",
       "      <th>4</th>\n",
       "      <td>Afghanistan</td>\n",
       "      <td>1972</td>\n",
       "      <td>13079460.0</td>\n",
       "      <td>Asia</td>\n",
       "      <td>36.088</td>\n",
       "      <td>739.981106</td>\n",
       "      <td>0.583706</td>\n",
       "    </tr>\n",
       "    <tr>\n",
       "      <th>5</th>\n",
       "      <td>Afghanistan</td>\n",
       "      <td>1977</td>\n",
       "      <td>14880372.0</td>\n",
       "      <td>Asia</td>\n",
       "      <td>38.438</td>\n",
       "      <td>786.113360</td>\n",
       "      <td>0.583706</td>\n",
       "    </tr>\n",
       "    <tr>\n",
       "      <th>6</th>\n",
       "      <td>Afghanistan</td>\n",
       "      <td>1982</td>\n",
       "      <td>12881816.0</td>\n",
       "      <td>Asia</td>\n",
       "      <td>39.854</td>\n",
       "      <td>978.011439</td>\n",
       "      <td>0.583706</td>\n",
       "    </tr>\n",
       "    <tr>\n",
       "      <th>7</th>\n",
       "      <td>Afghanistan</td>\n",
       "      <td>1987</td>\n",
       "      <td>13867957.0</td>\n",
       "      <td>Asia</td>\n",
       "      <td>40.822</td>\n",
       "      <td>852.395945</td>\n",
       "      <td>0.583706</td>\n",
       "    </tr>\n",
       "    <tr>\n",
       "      <th>8</th>\n",
       "      <td>Afghanistan</td>\n",
       "      <td>1992</td>\n",
       "      <td>16317921.0</td>\n",
       "      <td>Asia</td>\n",
       "      <td>41.674</td>\n",
       "      <td>649.341395</td>\n",
       "      <td>0.583706</td>\n",
       "    </tr>\n",
       "    <tr>\n",
       "      <th>9</th>\n",
       "      <td>Afghanistan</td>\n",
       "      <td>1997</td>\n",
       "      <td>22227415.0</td>\n",
       "      <td>Asia</td>\n",
       "      <td>41.763</td>\n",
       "      <td>635.341351</td>\n",
       "      <td>-0.255703</td>\n",
       "    </tr>\n",
       "  </tbody>\n",
       "</table>\n",
       "</div>"
      ],
      "text/plain": [
       "       country  year         pop continent  lifeExp   gdpPercap  corr_movil\n",
       "0  Afghanistan  1952   8425333.0      Asia   28.801  779.445314    0.583706\n",
       "1  Afghanistan  1957   9240934.0      Asia   30.332  820.853030    0.583706\n",
       "2  Afghanistan  1962  10267083.0      Asia   31.997  853.100710    0.583706\n",
       "3  Afghanistan  1967  11537966.0      Asia   34.020  836.197138    0.583706\n",
       "4  Afghanistan  1972  13079460.0      Asia   36.088  739.981106    0.583706\n",
       "5  Afghanistan  1977  14880372.0      Asia   38.438  786.113360    0.583706\n",
       "6  Afghanistan  1982  12881816.0      Asia   39.854  978.011439    0.583706\n",
       "7  Afghanistan  1987  13867957.0      Asia   40.822  852.395945    0.583706\n",
       "8  Afghanistan  1992  16317921.0      Asia   41.674  649.341395    0.583706\n",
       "9  Afghanistan  1997  22227415.0      Asia   41.763  635.341351   -0.255703"
      ]
     },
     "execution_count": 16,
     "metadata": {},
     "output_type": "execute_result"
    }
   ],
   "source": [
    "data_mod, corr_mat = fun_eje_1_19()\n",
    "print(corr_mat)\n",
    "data_mod.head(10)"
   ]
  },
  {
   "cell_type": "markdown",
   "metadata": {
    "colab_type": "text",
    "id": "zSu990P7ZqRB"
   },
   "source": [
    "#### <span style=\"color:#FFF; background-color:#080; font-weight:bold; padding:4px;\">Importante</span> Evalue su respuesta."
   ]
  },
  {
   "cell_type": "code",
   "execution_count": 17,
   "metadata": {
    "colab": {},
    "colab_type": "code",
    "id": "pt8Ysui7ZqRD"
   },
   "outputs": [
    {
     "name": "stdout",
     "output_type": "stream",
     "text": [
      "evaluation result CORRECT\r\n"
     ]
    }
   ],
   "source": [
    "!./run CHECK_SOLUTION PS1_19 $src19"
   ]
  },
  {
   "cell_type": "markdown",
   "metadata": {
    "colab_type": "text",
    "id": "vkVbWfQiZqRN"
   },
   "source": [
    "### Ejercicio 4  (Pandas) <a name=\"eje6\"></a>\n",
    "\n",
    "**Agrupamiento.** \n",
    "Una de los mecanismos mas sofisticados para entender, analizar y visualizar los datos son los métodos de agrupamiento. Pandas ofrece varios metodos de agrupamiento como es `groupby` y `pivot_table`. Para entender mejor su potencialidad vamos a crear una función que cree y retorne dos nuevos dataframes, con la siguiente descripción: \n",
    "\n",
    "- Un dataframe que agrupe la información por los continentes y calcule en cada registro la operación media. \n",
    "- Un dataframe construido con `pivot_table` que permita observar mas detalladamente la información.  Esta tabla debe indexar los datos por `year`, la columna debe ser `continent` y la función que debe operar es `max` \n",
    "\n",
    "\n"
   ]
  },
  {
   "cell_type": "code",
   "execution_count": 18,
   "metadata": {
    "colab": {},
    "colab_type": "code",
    "id": "YyN1rBYbZqRP"
   },
   "outputs": [],
   "source": [
    "def fun_eje_1_20(): \n",
    "    import numpy as np\n",
    "    import pandas as pd\n",
    "    \n",
    "    \n",
    "    data_mod = pd.read_csv('misc/FiveYearData.csv')\n",
    "\n",
    "\n",
    "    DF_cont = data_mod.groupby(\"continent\").mean()\n",
    "    pivot_t = pd.pivot_table(data_mod, index=['year'], columns=['continent'], aggfunc=[max])\n",
    "    \n",
    "    return DF_cont, pivot_t\n",
    "\n",
    "#Colaboratory\n",
    "#import urllib.parse, inspect\n",
    "#src20 = urllib.parse.quote_plus(inspect.getsource(fun_eje_1_20))\n",
    "\n",
    "#Virtualbox\n",
    "import urllib, inspect\n",
    "src20 = urllib.quote_plus(inspect.getsource(fun_eje_1_20))"
   ]
  },
  {
   "cell_type": "markdown",
   "metadata": {
    "colab_type": "text",
    "id": "ZIN7Ao8iZqRX"
   },
   "source": [
    "Verifique su respuesta. Los nuevos dataframes deberian ser: "
   ]
  },
  {
   "cell_type": "code",
   "execution_count": 19,
   "metadata": {
    "colab": {},
    "colab_type": "code",
    "id": "txfjuzPvZqRZ"
   },
   "outputs": [
    {
     "data": {
      "text/html": [
       "<div>\n",
       "<style scoped>\n",
       "    .dataframe tbody tr th:only-of-type {\n",
       "        vertical-align: middle;\n",
       "    }\n",
       "\n",
       "    .dataframe tbody tr th {\n",
       "        vertical-align: top;\n",
       "    }\n",
       "\n",
       "    .dataframe thead th {\n",
       "        text-align: right;\n",
       "    }\n",
       "</style>\n",
       "<table border=\"1\" class=\"dataframe\">\n",
       "  <thead>\n",
       "    <tr style=\"text-align: right;\">\n",
       "      <th></th>\n",
       "      <th>year</th>\n",
       "      <th>pop</th>\n",
       "      <th>lifeExp</th>\n",
       "      <th>gdpPercap</th>\n",
       "    </tr>\n",
       "    <tr>\n",
       "      <th>continent</th>\n",
       "      <th></th>\n",
       "      <th></th>\n",
       "      <th></th>\n",
       "      <th></th>\n",
       "    </tr>\n",
       "  </thead>\n",
       "  <tbody>\n",
       "    <tr>\n",
       "      <th>Africa</th>\n",
       "      <td>1979.5</td>\n",
       "      <td>9.916003e+06</td>\n",
       "      <td>48.865330</td>\n",
       "      <td>2193.754578</td>\n",
       "    </tr>\n",
       "    <tr>\n",
       "      <th>Americas</th>\n",
       "      <td>1979.5</td>\n",
       "      <td>2.450479e+07</td>\n",
       "      <td>64.658737</td>\n",
       "      <td>7136.110356</td>\n",
       "    </tr>\n",
       "    <tr>\n",
       "      <th>Asia</th>\n",
       "      <td>1979.5</td>\n",
       "      <td>7.703872e+07</td>\n",
       "      <td>60.064903</td>\n",
       "      <td>7902.150428</td>\n",
       "    </tr>\n",
       "    <tr>\n",
       "      <th>Europe</th>\n",
       "      <td>1979.5</td>\n",
       "      <td>1.716976e+07</td>\n",
       "      <td>71.903686</td>\n",
       "      <td>14469.475533</td>\n",
       "    </tr>\n",
       "    <tr>\n",
       "      <th>Oceania</th>\n",
       "      <td>1979.5</td>\n",
       "      <td>8.874672e+06</td>\n",
       "      <td>74.326208</td>\n",
       "      <td>18621.609223</td>\n",
       "    </tr>\n",
       "  </tbody>\n",
       "</table>\n",
       "</div>"
      ],
      "text/plain": [
       "             year           pop    lifeExp     gdpPercap\n",
       "continent                                               \n",
       "Africa     1979.5  9.916003e+06  48.865330   2193.754578\n",
       "Americas   1979.5  2.450479e+07  64.658737   7136.110356\n",
       "Asia       1979.5  7.703872e+07  60.064903   7902.150428\n",
       "Europe     1979.5  1.716976e+07  71.903686  14469.475533\n",
       "Oceania    1979.5  8.874672e+06  74.326208  18621.609223"
      ]
     },
     "execution_count": 19,
     "metadata": {},
     "output_type": "execute_result"
    }
   ],
   "source": [
    "F_cont, pivot_t = fun_eje_1_20()\n",
    "F_cont.head()"
   ]
  },
  {
   "cell_type": "code",
   "execution_count": 20,
   "metadata": {
    "colab": {},
    "colab_type": "code",
    "id": "D4SSAVynZqRk"
   },
   "outputs": [
    {
     "data": {
      "text/html": [
       "<div>\n",
       "<style scoped>\n",
       "    .dataframe tbody tr th:only-of-type {\n",
       "        vertical-align: middle;\n",
       "    }\n",
       "\n",
       "    .dataframe tbody tr th {\n",
       "        vertical-align: top;\n",
       "    }\n",
       "\n",
       "    .dataframe thead tr th {\n",
       "        text-align: left;\n",
       "    }\n",
       "\n",
       "    .dataframe thead tr:last-of-type th {\n",
       "        text-align: right;\n",
       "    }\n",
       "</style>\n",
       "<table border=\"1\" class=\"dataframe\">\n",
       "  <thead>\n",
       "    <tr>\n",
       "      <th></th>\n",
       "      <th colspan=\"20\" halign=\"left\">max</th>\n",
       "    </tr>\n",
       "    <tr>\n",
       "      <th></th>\n",
       "      <th colspan=\"5\" halign=\"left\">country</th>\n",
       "      <th colspan=\"5\" halign=\"left\">gdpPercap</th>\n",
       "      <th colspan=\"5\" halign=\"left\">lifeExp</th>\n",
       "      <th colspan=\"5\" halign=\"left\">pop</th>\n",
       "    </tr>\n",
       "    <tr>\n",
       "      <th>continent</th>\n",
       "      <th>Africa</th>\n",
       "      <th>Americas</th>\n",
       "      <th>Asia</th>\n",
       "      <th>Europe</th>\n",
       "      <th>Oceania</th>\n",
       "      <th>Africa</th>\n",
       "      <th>Americas</th>\n",
       "      <th>Asia</th>\n",
       "      <th>Europe</th>\n",
       "      <th>Oceania</th>\n",
       "      <th>Africa</th>\n",
       "      <th>Americas</th>\n",
       "      <th>Asia</th>\n",
       "      <th>Europe</th>\n",
       "      <th>Oceania</th>\n",
       "      <th>Africa</th>\n",
       "      <th>Americas</th>\n",
       "      <th>Asia</th>\n",
       "      <th>Europe</th>\n",
       "      <th>Oceania</th>\n",
       "    </tr>\n",
       "    <tr>\n",
       "      <th>year</th>\n",
       "      <th></th>\n",
       "      <th></th>\n",
       "      <th></th>\n",
       "      <th></th>\n",
       "      <th></th>\n",
       "      <th></th>\n",
       "      <th></th>\n",
       "      <th></th>\n",
       "      <th></th>\n",
       "      <th></th>\n",
       "      <th></th>\n",
       "      <th></th>\n",
       "      <th></th>\n",
       "      <th></th>\n",
       "      <th></th>\n",
       "      <th></th>\n",
       "      <th></th>\n",
       "      <th></th>\n",
       "      <th></th>\n",
       "      <th></th>\n",
       "    </tr>\n",
       "  </thead>\n",
       "  <tbody>\n",
       "    <tr>\n",
       "      <th>1952</th>\n",
       "      <td>Zimbabwe</td>\n",
       "      <td>Venezuela</td>\n",
       "      <td>Yemen Rep.</td>\n",
       "      <td>United Kingdom</td>\n",
       "      <td>New Zealand</td>\n",
       "      <td>4725.295531</td>\n",
       "      <td>13990.48208</td>\n",
       "      <td>108382.35290</td>\n",
       "      <td>14734.23275</td>\n",
       "      <td>10556.57566</td>\n",
       "      <td>52.724</td>\n",
       "      <td>68.75</td>\n",
       "      <td>65.39</td>\n",
       "      <td>72.67</td>\n",
       "      <td>69.39</td>\n",
       "      <td>33119096.0</td>\n",
       "      <td>157553000.0</td>\n",
       "      <td>5.562635e+08</td>\n",
       "      <td>69145952.0</td>\n",
       "      <td>8691212.0</td>\n",
       "    </tr>\n",
       "    <tr>\n",
       "      <th>1957</th>\n",
       "      <td>Zimbabwe</td>\n",
       "      <td>Venezuela</td>\n",
       "      <td>Yemen Rep.</td>\n",
       "      <td>United Kingdom</td>\n",
       "      <td>New Zealand</td>\n",
       "      <td>5487.104219</td>\n",
       "      <td>14847.12712</td>\n",
       "      <td>113523.13290</td>\n",
       "      <td>17909.48973</td>\n",
       "      <td>12247.39532</td>\n",
       "      <td>58.089</td>\n",
       "      <td>69.96</td>\n",
       "      <td>67.84</td>\n",
       "      <td>73.47</td>\n",
       "      <td>70.33</td>\n",
       "      <td>37173340.0</td>\n",
       "      <td>171984000.0</td>\n",
       "      <td>6.374080e+08</td>\n",
       "      <td>71019069.0</td>\n",
       "      <td>9712569.0</td>\n",
       "    </tr>\n",
       "    <tr>\n",
       "      <th>1962</th>\n",
       "      <td>Zimbabwe</td>\n",
       "      <td>Venezuela</td>\n",
       "      <td>Yemen Rep.</td>\n",
       "      <td>United Kingdom</td>\n",
       "      <td>New Zealand</td>\n",
       "      <td>6757.030816</td>\n",
       "      <td>16173.14586</td>\n",
       "      <td>95458.11176</td>\n",
       "      <td>20431.09270</td>\n",
       "      <td>13175.67800</td>\n",
       "      <td>60.246</td>\n",
       "      <td>71.30</td>\n",
       "      <td>69.39</td>\n",
       "      <td>73.68</td>\n",
       "      <td>71.24</td>\n",
       "      <td>41871351.0</td>\n",
       "      <td>186538000.0</td>\n",
       "      <td>6.657700e+08</td>\n",
       "      <td>73739117.0</td>\n",
       "      <td>10794968.0</td>\n",
       "    </tr>\n",
       "    <tr>\n",
       "      <th>1967</th>\n",
       "      <td>Zimbabwe</td>\n",
       "      <td>Venezuela</td>\n",
       "      <td>Yemen Rep.</td>\n",
       "      <td>United Kingdom</td>\n",
       "      <td>New Zealand</td>\n",
       "      <td>18772.751690</td>\n",
       "      <td>19530.36557</td>\n",
       "      <td>80894.88326</td>\n",
       "      <td>22966.14432</td>\n",
       "      <td>14526.12465</td>\n",
       "      <td>61.557</td>\n",
       "      <td>72.13</td>\n",
       "      <td>71.43</td>\n",
       "      <td>74.16</td>\n",
       "      <td>71.52</td>\n",
       "      <td>47287752.0</td>\n",
       "      <td>198712000.0</td>\n",
       "      <td>7.545500e+08</td>\n",
       "      <td>76368453.0</td>\n",
       "      <td>11872264.0</td>\n",
       "    </tr>\n",
       "    <tr>\n",
       "      <th>1972</th>\n",
       "      <td>Zimbabwe</td>\n",
       "      <td>Venezuela</td>\n",
       "      <td>Yemen Rep.</td>\n",
       "      <td>United Kingdom</td>\n",
       "      <td>New Zealand</td>\n",
       "      <td>21011.497210</td>\n",
       "      <td>21806.03594</td>\n",
       "      <td>109347.86700</td>\n",
       "      <td>27195.11304</td>\n",
       "      <td>16788.62948</td>\n",
       "      <td>64.274</td>\n",
       "      <td>72.88</td>\n",
       "      <td>73.42</td>\n",
       "      <td>74.72</td>\n",
       "      <td>71.93</td>\n",
       "      <td>53740085.0</td>\n",
       "      <td>209896000.0</td>\n",
       "      <td>8.620300e+08</td>\n",
       "      <td>78717088.0</td>\n",
       "      <td>13177000.0</td>\n",
       "    </tr>\n",
       "    <tr>\n",
       "      <th>1977</th>\n",
       "      <td>Zimbabwe</td>\n",
       "      <td>Venezuela</td>\n",
       "      <td>Yemen Rep.</td>\n",
       "      <td>United Kingdom</td>\n",
       "      <td>New Zealand</td>\n",
       "      <td>21951.211760</td>\n",
       "      <td>24072.63213</td>\n",
       "      <td>59265.47714</td>\n",
       "      <td>26982.29052</td>\n",
       "      <td>18334.19751</td>\n",
       "      <td>67.064</td>\n",
       "      <td>74.21</td>\n",
       "      <td>75.38</td>\n",
       "      <td>76.11</td>\n",
       "      <td>73.49</td>\n",
       "      <td>62209173.0</td>\n",
       "      <td>220239000.0</td>\n",
       "      <td>9.434550e+08</td>\n",
       "      <td>78160773.0</td>\n",
       "      <td>14074100.0</td>\n",
       "    </tr>\n",
       "    <tr>\n",
       "      <th>1982</th>\n",
       "      <td>Zimbabwe</td>\n",
       "      <td>Venezuela</td>\n",
       "      <td>Yemen Rep.</td>\n",
       "      <td>United Kingdom</td>\n",
       "      <td>New Zealand</td>\n",
       "      <td>17364.275380</td>\n",
       "      <td>25009.55914</td>\n",
       "      <td>33693.17525</td>\n",
       "      <td>28397.71512</td>\n",
       "      <td>19477.00928</td>\n",
       "      <td>69.885</td>\n",
       "      <td>75.76</td>\n",
       "      <td>77.11</td>\n",
       "      <td>76.99</td>\n",
       "      <td>74.74</td>\n",
       "      <td>73039376.0</td>\n",
       "      <td>232187835.0</td>\n",
       "      <td>1.000281e+09</td>\n",
       "      <td>78335266.0</td>\n",
       "      <td>15184200.0</td>\n",
       "    </tr>\n",
       "    <tr>\n",
       "      <th>1987</th>\n",
       "      <td>Zimbabwe</td>\n",
       "      <td>Venezuela</td>\n",
       "      <td>Yemen Rep.</td>\n",
       "      <td>United Kingdom</td>\n",
       "      <td>New Zealand</td>\n",
       "      <td>11864.408440</td>\n",
       "      <td>29884.35041</td>\n",
       "      <td>28118.42998</td>\n",
       "      <td>31540.97480</td>\n",
       "      <td>21888.88903</td>\n",
       "      <td>71.913</td>\n",
       "      <td>76.86</td>\n",
       "      <td>78.67</td>\n",
       "      <td>77.41</td>\n",
       "      <td>76.32</td>\n",
       "      <td>81551520.0</td>\n",
       "      <td>242803533.0</td>\n",
       "      <td>1.084035e+09</td>\n",
       "      <td>77718298.0</td>\n",
       "      <td>16257249.0</td>\n",
       "    </tr>\n",
       "    <tr>\n",
       "      <th>1992</th>\n",
       "      <td>Zimbabwe</td>\n",
       "      <td>Venezuela</td>\n",
       "      <td>Yemen Rep.</td>\n",
       "      <td>United Kingdom</td>\n",
       "      <td>New Zealand</td>\n",
       "      <td>13522.157520</td>\n",
       "      <td>32003.93224</td>\n",
       "      <td>34932.91959</td>\n",
       "      <td>33965.66115</td>\n",
       "      <td>23424.76683</td>\n",
       "      <td>73.615</td>\n",
       "      <td>77.95</td>\n",
       "      <td>79.36</td>\n",
       "      <td>78.77</td>\n",
       "      <td>77.56</td>\n",
       "      <td>93364244.0</td>\n",
       "      <td>256894189.0</td>\n",
       "      <td>1.164970e+09</td>\n",
       "      <td>80597764.0</td>\n",
       "      <td>17481977.0</td>\n",
       "    </tr>\n",
       "    <tr>\n",
       "      <th>1997</th>\n",
       "      <td>Zimbabwe</td>\n",
       "      <td>Venezuela</td>\n",
       "      <td>Yemen Rep.</td>\n",
       "      <td>United Kingdom</td>\n",
       "      <td>New Zealand</td>\n",
       "      <td>14722.841880</td>\n",
       "      <td>35767.43303</td>\n",
       "      <td>40300.61996</td>\n",
       "      <td>41283.16433</td>\n",
       "      <td>26997.93657</td>\n",
       "      <td>74.772</td>\n",
       "      <td>78.61</td>\n",
       "      <td>80.69</td>\n",
       "      <td>79.39</td>\n",
       "      <td>78.83</td>\n",
       "      <td>106207839.0</td>\n",
       "      <td>272911760.0</td>\n",
       "      <td>1.230075e+09</td>\n",
       "      <td>82011073.0</td>\n",
       "      <td>18565243.0</td>\n",
       "    </tr>\n",
       "  </tbody>\n",
       "</table>\n",
       "</div>"
      ],
      "text/plain": [
       "                max                                                      \\\n",
       "            country                                                       \n",
       "continent    Africa   Americas        Asia          Europe      Oceania   \n",
       "year                                                                      \n",
       "1952       Zimbabwe  Venezuela  Yemen Rep.  United Kingdom  New Zealand   \n",
       "1957       Zimbabwe  Venezuela  Yemen Rep.  United Kingdom  New Zealand   \n",
       "1962       Zimbabwe  Venezuela  Yemen Rep.  United Kingdom  New Zealand   \n",
       "1967       Zimbabwe  Venezuela  Yemen Rep.  United Kingdom  New Zealand   \n",
       "1972       Zimbabwe  Venezuela  Yemen Rep.  United Kingdom  New Zealand   \n",
       "1977       Zimbabwe  Venezuela  Yemen Rep.  United Kingdom  New Zealand   \n",
       "1982       Zimbabwe  Venezuela  Yemen Rep.  United Kingdom  New Zealand   \n",
       "1987       Zimbabwe  Venezuela  Yemen Rep.  United Kingdom  New Zealand   \n",
       "1992       Zimbabwe  Venezuela  Yemen Rep.  United Kingdom  New Zealand   \n",
       "1997       Zimbabwe  Venezuela  Yemen Rep.  United Kingdom  New Zealand   \n",
       "\n",
       "                                                                              \\\n",
       "              gdpPercap                                                        \n",
       "continent        Africa     Americas          Asia       Europe      Oceania   \n",
       "year                                                                           \n",
       "1952        4725.295531  13990.48208  108382.35290  14734.23275  10556.57566   \n",
       "1957        5487.104219  14847.12712  113523.13290  17909.48973  12247.39532   \n",
       "1962        6757.030816  16173.14586   95458.11176  20431.09270  13175.67800   \n",
       "1967       18772.751690  19530.36557   80894.88326  22966.14432  14526.12465   \n",
       "1972       21011.497210  21806.03594  109347.86700  27195.11304  16788.62948   \n",
       "1977       21951.211760  24072.63213   59265.47714  26982.29052  18334.19751   \n",
       "1982       17364.275380  25009.55914   33693.17525  28397.71512  19477.00928   \n",
       "1987       11864.408440  29884.35041   28118.42998  31540.97480  21888.88903   \n",
       "1992       13522.157520  32003.93224   34932.91959  33965.66115  23424.76683   \n",
       "1997       14722.841880  35767.43303   40300.61996  41283.16433  26997.93657   \n",
       "\n",
       "                                                                            \\\n",
       "          lifeExp                                         pop                \n",
       "continent  Africa Americas   Asia Europe Oceania       Africa     Americas   \n",
       "year                                                                         \n",
       "1952       52.724    68.75  65.39  72.67   69.39   33119096.0  157553000.0   \n",
       "1957       58.089    69.96  67.84  73.47   70.33   37173340.0  171984000.0   \n",
       "1962       60.246    71.30  69.39  73.68   71.24   41871351.0  186538000.0   \n",
       "1967       61.557    72.13  71.43  74.16   71.52   47287752.0  198712000.0   \n",
       "1972       64.274    72.88  73.42  74.72   71.93   53740085.0  209896000.0   \n",
       "1977       67.064    74.21  75.38  76.11   73.49   62209173.0  220239000.0   \n",
       "1982       69.885    75.76  77.11  76.99   74.74   73039376.0  232187835.0   \n",
       "1987       71.913    76.86  78.67  77.41   76.32   81551520.0  242803533.0   \n",
       "1992       73.615    77.95  79.36  78.77   77.56   93364244.0  256894189.0   \n",
       "1997       74.772    78.61  80.69  79.39   78.83  106207839.0  272911760.0   \n",
       "\n",
       "                                                 \n",
       "                                                 \n",
       "continent          Asia      Europe     Oceania  \n",
       "year                                             \n",
       "1952       5.562635e+08  69145952.0   8691212.0  \n",
       "1957       6.374080e+08  71019069.0   9712569.0  \n",
       "1962       6.657700e+08  73739117.0  10794968.0  \n",
       "1967       7.545500e+08  76368453.0  11872264.0  \n",
       "1972       8.620300e+08  78717088.0  13177000.0  \n",
       "1977       9.434550e+08  78160773.0  14074100.0  \n",
       "1982       1.000281e+09  78335266.0  15184200.0  \n",
       "1987       1.084035e+09  77718298.0  16257249.0  \n",
       "1992       1.164970e+09  80597764.0  17481977.0  \n",
       "1997       1.230075e+09  82011073.0  18565243.0  "
      ]
     },
     "execution_count": 20,
     "metadata": {},
     "output_type": "execute_result"
    }
   ],
   "source": [
    "pivot_t.head(10)"
   ]
  },
  {
   "cell_type": "markdown",
   "metadata": {
    "colab_type": "text",
    "id": "lVpn8HYCZqRs"
   },
   "source": [
    "#### <span style=\"color:#FFF; background-color:#080; font-weight:bold; padding:4px;\">Importante</span> Evalue su respuesta."
   ]
  },
  {
   "cell_type": "code",
   "execution_count": 21,
   "metadata": {
    "colab": {},
    "colab_type": "code",
    "id": "rb_gpju6ZqRt"
   },
   "outputs": [
    {
     "name": "stdout",
     "output_type": "stream",
     "text": [
      "evaluation result CORRECT\r\n"
     ]
    }
   ],
   "source": [
    "!./run CHECK_SOLUTION PS1_20 $src20"
   ]
  },
  {
   "cell_type": "markdown",
   "metadata": {
    "colab_type": "text",
    "id": "KDCYKxteZqR2"
   },
   "source": [
    "---\n",
    "\n",
    "### Ejercicio 5 (Pandas)  <a name=\"eje7\"></a>\n",
    "\n",
    "Cuando se trabaja en análisis de datos es muy común realizar preprocesamiento, normalización y escalado de los datos, fácilitando el funcionamiento de los algoritmos. El rango y escala de los datos puede causar problemas numéricos y de convergencia de algunos metodos. \n",
    "\n",
    "Debemos desarrollar una función que realice la normalización de las columnas: [`pop`,`lifeExp`,`gdpPercap`] aplicando la transformación: $$Z = \\frac{x - mean(x)}{stdev(x)}$$ la media y la desviación estándar son calculadas por cada columna de manera independiente."
   ]
  },
  {
   "cell_type": "code",
   "execution_count": 22,
   "metadata": {
    "colab": {},
    "colab_type": "code",
    "id": "Ox9JpufRZqR4"
   },
   "outputs": [],
   "source": [
    "def fun_eje_1_21(): \n",
    "    import numpy as np\n",
    "    import pandas as pd\n",
    "    \n",
    "    \n",
    "    data_mod = pd.read_csv('misc/FiveYearData.csv')\n",
    "    data_mod['pop'] = (data_mod['pop']- data_mod['pop'].mean())/ np.std(data_mod['pop'])\n",
    "    data_mod['lifeExp'] = (data_mod['lifeExp']- data_mod['lifeExp'].mean())/ np.std(data_mod['lifeExp'])\n",
    "    data_mod['gdpPercap'] = (data_mod['gdpPercap']- data_mod['gdpPercap'].mean())/ data_mod['gdpPercap'].std()\n",
    "    DF_scaled = data_mod\n",
    "    \n",
    "    \n",
    "    return DF_scaled\n",
    "\n",
    "#Colaboratory\n",
    "#import urllib.parse, inspect\n",
    "#src21 = urllib.parse.quote_plus(inspect.getsource(fun_eje_1_21))\n",
    "\n",
    "#Virtualbox\n",
    "import urllib, inspect\n",
    "src21 = urllib.quote_plus(inspect.getsource(fun_eje_1_21))"
   ]
  },
  {
   "cell_type": "markdown",
   "metadata": {
    "colab_type": "text",
    "id": "fDN6Qb7mZqR_"
   },
   "source": [
    "Tienes que tener un dataframe escalado, como:"
   ]
  },
  {
   "cell_type": "code",
   "execution_count": 23,
   "metadata": {
    "colab": {},
    "colab_type": "code",
    "id": "_uVPEFR1ZqSB"
   },
   "outputs": [
    {
     "data": {
      "text/html": [
       "<div>\n",
       "<style scoped>\n",
       "    .dataframe tbody tr th:only-of-type {\n",
       "        vertical-align: middle;\n",
       "    }\n",
       "\n",
       "    .dataframe tbody tr th {\n",
       "        vertical-align: top;\n",
       "    }\n",
       "\n",
       "    .dataframe thead th {\n",
       "        text-align: right;\n",
       "    }\n",
       "</style>\n",
       "<table border=\"1\" class=\"dataframe\">\n",
       "  <thead>\n",
       "    <tr style=\"text-align: right;\">\n",
       "      <th></th>\n",
       "      <th>country</th>\n",
       "      <th>year</th>\n",
       "      <th>pop</th>\n",
       "      <th>continent</th>\n",
       "      <th>lifeExp</th>\n",
       "      <th>gdpPercap</th>\n",
       "    </tr>\n",
       "  </thead>\n",
       "  <tbody>\n",
       "    <tr>\n",
       "      <th>0</th>\n",
       "      <td>Afghanistan</td>\n",
       "      <td>1952</td>\n",
       "      <td>-0.199534</td>\n",
       "      <td>Asia</td>\n",
       "      <td>-2.375334</td>\n",
       "      <td>-0.652895</td>\n",
       "    </tr>\n",
       "    <tr>\n",
       "      <th>1</th>\n",
       "      <td>Afghanistan</td>\n",
       "      <td>1957</td>\n",
       "      <td>-0.191849</td>\n",
       "      <td>Asia</td>\n",
       "      <td>-2.256774</td>\n",
       "      <td>-0.648694</td>\n",
       "    </tr>\n",
       "    <tr>\n",
       "      <th>2</th>\n",
       "      <td>Afghanistan</td>\n",
       "      <td>1962</td>\n",
       "      <td>-0.182180</td>\n",
       "      <td>Asia</td>\n",
       "      <td>-2.127837</td>\n",
       "      <td>-0.645423</td>\n",
       "    </tr>\n",
       "    <tr>\n",
       "      <th>3</th>\n",
       "      <td>Afghanistan</td>\n",
       "      <td>1967</td>\n",
       "      <td>-0.170204</td>\n",
       "      <td>Asia</td>\n",
       "      <td>-1.971178</td>\n",
       "      <td>-0.647138</td>\n",
       "    </tr>\n",
       "    <tr>\n",
       "      <th>4</th>\n",
       "      <td>Afghanistan</td>\n",
       "      <td>1972</td>\n",
       "      <td>-0.155679</td>\n",
       "      <td>Asia</td>\n",
       "      <td>-1.811033</td>\n",
       "      <td>-0.656898</td>\n",
       "    </tr>\n",
       "    <tr>\n",
       "      <th>5</th>\n",
       "      <td>Afghanistan</td>\n",
       "      <td>1977</td>\n",
       "      <td>-0.138710</td>\n",
       "      <td>Asia</td>\n",
       "      <td>-1.629050</td>\n",
       "      <td>-0.652218</td>\n",
       "    </tr>\n",
       "    <tr>\n",
       "      <th>6</th>\n",
       "      <td>Afghanistan</td>\n",
       "      <td>1982</td>\n",
       "      <td>-0.157542</td>\n",
       "      <td>Asia</td>\n",
       "      <td>-1.519396</td>\n",
       "      <td>-0.632751</td>\n",
       "    </tr>\n",
       "    <tr>\n",
       "      <th>7</th>\n",
       "      <td>Afghanistan</td>\n",
       "      <td>1987</td>\n",
       "      <td>-0.148250</td>\n",
       "      <td>Asia</td>\n",
       "      <td>-1.444434</td>\n",
       "      <td>-0.645494</td>\n",
       "    </tr>\n",
       "    <tr>\n",
       "      <th>8</th>\n",
       "      <td>Afghanistan</td>\n",
       "      <td>1992</td>\n",
       "      <td>-0.125164</td>\n",
       "      <td>Asia</td>\n",
       "      <td>-1.378456</td>\n",
       "      <td>-0.666093</td>\n",
       "    </tr>\n",
       "    <tr>\n",
       "      <th>9</th>\n",
       "      <td>Afghanistan</td>\n",
       "      <td>1997</td>\n",
       "      <td>-0.069481</td>\n",
       "      <td>Asia</td>\n",
       "      <td>-1.371564</td>\n",
       "      <td>-0.667514</td>\n",
       "    </tr>\n",
       "  </tbody>\n",
       "</table>\n",
       "</div>"
      ],
      "text/plain": [
       "       country  year       pop continent   lifeExp  gdpPercap\n",
       "0  Afghanistan  1952 -0.199534      Asia -2.375334  -0.652895\n",
       "1  Afghanistan  1957 -0.191849      Asia -2.256774  -0.648694\n",
       "2  Afghanistan  1962 -0.182180      Asia -2.127837  -0.645423\n",
       "3  Afghanistan  1967 -0.170204      Asia -1.971178  -0.647138\n",
       "4  Afghanistan  1972 -0.155679      Asia -1.811033  -0.656898\n",
       "5  Afghanistan  1977 -0.138710      Asia -1.629050  -0.652218\n",
       "6  Afghanistan  1982 -0.157542      Asia -1.519396  -0.632751\n",
       "7  Afghanistan  1987 -0.148250      Asia -1.444434  -0.645494\n",
       "8  Afghanistan  1992 -0.125164      Asia -1.378456  -0.666093\n",
       "9  Afghanistan  1997 -0.069481      Asia -1.371564  -0.667514"
      ]
     },
     "execution_count": 23,
     "metadata": {},
     "output_type": "execute_result"
    }
   ],
   "source": [
    "fun_eje_1_21().head(10)"
   ]
  },
  {
   "cell_type": "markdown",
   "metadata": {
    "colab_type": "text",
    "id": "7ebEpe-3ZqSJ"
   },
   "source": [
    "#### <span style=\"color:#FFF; background-color:#080; font-weight:bold; padding:4px;\">Importante</span> Evalue su respuesta."
   ]
  },
  {
   "cell_type": "code",
   "execution_count": 24,
   "metadata": {
    "colab": {},
    "colab_type": "code",
    "id": "xESXMhYNZqSK"
   },
   "outputs": [
    {
     "name": "stdout",
     "output_type": "stream",
     "text": [
      "evaluation result CORRECT\r\n"
     ]
    }
   ],
   "source": [
    "!./run CHECK_SOLUTION PS1_21 $src21"
   ]
  },
  {
   "cell_type": "markdown",
   "metadata": {
    "colab_type": "text",
    "id": "kCIR80GJZqSR"
   },
   "source": [
    "#### <span style=\"color:#FFF; background-color:#080; font-weight:bold; padding:4px;\">Importante</span> Pasos Finales. \n"
   ]
  },
  {
   "cell_type": "markdown",
   "metadata": {
    "colab_type": "text",
    "id": "lKmMU2a5ZqST"
   },
   "source": [
    "#### 1. Reemplace la variable con su código de estudiante"
   ]
  },
  {
   "cell_type": "code",
   "execution_count": 25,
   "metadata": {
    "colab": {},
    "colab_type": "code",
    "id": "rbTzT6PZZqSV"
   },
   "outputs": [
    {
     "name": "stdout",
     "output_type": "stream",
     "text": [
      "('Taller_01_20201_Numpy-Pandas', 'tl1_2170688')\n"
     ]
    }
   ],
   "source": [
    "#Colaboratory\n",
    "#import urllib.parse, inspect\n",
    "#taller = urllib.parse.quote_plus(\"Taller_01_20201_Numpy-Pandas\")\n",
    "#codigo = urllib.parse.quote_plus(\"tl1_2170688\")\n",
    "\n",
    "#Virtualbox\n",
    "import urllib, inspect\n",
    "taller = urllib.quote_plus(\"Taller_01_20201_Numpy-Pandas\")\n",
    "codigo = urllib.quote_plus(\"tl1_2170688\")\n",
    "\n",
    "print(taller, codigo)"
   ]
  },
  {
   "cell_type": "markdown",
   "metadata": {
    "colab_type": "text",
    "id": "oikrYDQ5ZqSh"
   },
   "source": [
    "#### 2. Guarde los cambios del taller:"
   ]
  },
  {
   "cell_type": "code",
   "execution_count": 26,
   "metadata": {
    "colab": {},
    "colab_type": "code",
    "id": "JSkk2qX4ZqSi"
   },
   "outputs": [
    {
     "data": {
      "application/javascript": [
       "require([\"base/js/namespace\"],function(Jupyter) {\n",
       "    Jupyter.notebook.save_checkpoint();\n",
       "});"
      ],
      "text/plain": [
       "<IPython.core.display.Javascript object>"
      ]
     },
     "metadata": {},
     "output_type": "display_data"
    }
   ],
   "source": [
    "%%javascript\n",
    "require([\"base/js/namespace\"],function(Jupyter) {\n",
    "    Jupyter.notebook.save_checkpoint();\n",
    "});"
   ]
  },
  {
   "cell_type": "markdown",
   "metadata": {
    "colab_type": "text",
    "id": "AZ4-nHkVZqSr"
   },
   "source": [
    "#### 3. Ejecute la siguiente celda y envíe el archivo comprimido"
   ]
  },
  {
   "cell_type": "code",
   "execution_count": 133,
   "metadata": {
    "colab": {},
    "colab_type": "code",
    "id": "It5guJZVZqSs"
   },
   "outputs": [
    {
     "name": "stdout",
     "output_type": "stream",
     "text": [
      "uno: tl1_2170688 dos Taller_01_20201_Numpy-Pandas\r\n",
      "¡PERFECTO!, el archivo   'tl1_2170688.ipynb'   se creó correctamente :D\r\n"
     ]
    }
   ],
   "source": [
    "!./convert_ipynb.sh $codigo $taller"
   ]
  },
  {
   "cell_type": "markdown",
   "metadata": {
    "colab_type": "text",
    "id": "PJdvsa4nZqSz"
   },
   "source": [
    "---\n",
    "<img src=\"https://gitlab.com/bivl2ab/academico/cursos-uis/ai/ai-uis-student/raw/master/imgs/bannerThanks.jpg\" alt=\"Drawing\" style=\"width:700px;\"/>"
   ]
  }
 ],
 "metadata": {
  "colab": {
   "collapsed_sections": [],
   "name": "Taller_01_20201_Numpy-Pandas.ipynb",
   "provenance": []
  },
  "kernelspec": {
   "display_name": "Python 3",
   "language": "python",
   "name": "python3"
  },
  "language_info": {
   "codemirror_mode": {
    "name": "ipython",
    "version": 2
   },
   "file_extension": ".py",
   "mimetype": "text/x-python",
   "name": "python",
   "nbconvert_exporter": "python",
   "pygments_lexer": "ipython2",
   "version": "2.7.14"
  },
  "toc": {
   "toc_cell": false,
   "toc_number_sections": true,
   "toc_threshold": 6,
   "toc_window_display": false
  }
 },
 "nbformat": 4,
 "nbformat_minor": 1
}
