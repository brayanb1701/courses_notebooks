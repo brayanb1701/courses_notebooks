{
 "cells": [
  {
   "cell_type": "markdown",
   "metadata": {
    "colab_type": "text",
    "id": "Oqq4Y5iiZqcb"
   },
   "source": [
    "<img src=\"https://gitlab.com/bivl2ab/academico/cursos-uis/ai/ai-uis-student/raw/master/imgs/banner_IA.png\"  width=\"1000px\" height=\"200px\">\n",
    "\n",
    "# Taller 02: Probabilidad y estadística\n",
    "\n",
    "## <span style=\"color:red\"> Outline </span> \n",
    "\n",
    "1. [Ejercicio 1. Probabilidad](#eje1)\n",
    "2. [Ejercicio 2. Teorema del límite central](#eje5)\n",
    "3. [Ejercicio 3. Probabilidad](#eje6)\n",
    "4. [Ejercicio 4. Generando distribuciones](#eje7)\n"
   ]
  },
  {
   "cell_type": "code",
   "execution_count": 1,
   "metadata": {
    "colab": {},
    "colab_type": "code",
    "id": "f1-BzeXKZqcx"
   },
   "outputs": [],
   "source": [
    "#@title 1. MONTAR EL DRIVE **student** { display-mode: \"form\" }\n",
    "#import os\n",
    "#from google.colab import drive\n",
    "#drive.mount('/content/drive')\n",
    "#os.chdir('/content/drive/My Drive/course-IA1/ai-uis-student/talleres20201')\n",
    "#os.chdir('/content/drive/My Drive/ai-uis-student/talleres20201')\n",
    "#print(os.getcwd())\n",
    "!chmod 777 convert_ipynb.sh run utils/*"
   ]
  },
  {
   "cell_type": "markdown",
   "metadata": {
    "colab_type": "text",
    "id": "hrudW6xkZqc-"
   },
   "source": [
    "# Usted debe ejecutar <span style=\"color:#F00;\">TODAS</span> las celdas de tipo <span style=\"color:#F00;\">CODE</span>. De lo contrario, sus respuestas no serán procesadas correctamente.</h2>\n",
    "---"
   ]
  },
  {
   "cell_type": "markdown",
   "metadata": {
    "colab_type": "text",
    "id": "nG9OnNy8ZqdB"
   },
   "source": [
    "---\n",
    "\n",
    "### Ejercicio 1  <a name=\"eje1\"></a>\n",
    "\n",
    "Considere dos distribuciones normales, definidas de la siguiente manera:<br>\n",
    "$N_1(\\mu_1=4,\\sigma_1=0.8)$ &nbsp;&nbsp; y &nbsp;&nbsp; $N_2(\\mu_2=6,\\sigma_2=1.2)$<br>\n",
    "Suponga que las distribuciones se intersectan en el dato $x=4.9873136$\n",
    "<br><br>\n",
    "<img src=\"https://gitlab.com/bivl2ab/academico/cursos-uis/ai/ai-uis-student/-/raw/master/imgs/ejercicio_taller02.png\" />\n",
    "<br><br>\n",
    "Determine el área (la probabilidad) de las zonas sombreadas.\n",
    "<b>Nota:</b> utilice un objeto `scipy.stats`\n"
   ]
  },
  {
   "cell_type": "code",
   "execution_count": 2,
   "metadata": {
    "colab": {},
    "colab_type": "code",
    "id": "X8F0NIOCZqdD"
   },
   "outputs": [],
   "source": [
    "def dinter12(m1,m2,std1,std2,x):\n",
    "    import numpy as np\n",
    "    import scipy.stats as stats\n",
    "    from scipy.stats import norm\n",
    "  \n",
    "    n1=stats.norm(loc=m1, scale=std1)\n",
    "    n2=stats.norm(loc=m2, scale=std2)\n",
    "    area=(1-n1.cdf(x))+n2.cdf(x)\n",
    "  \n",
    "    return area\n",
    "\n",
    "#Colaboratory\n",
    "#import urllib.parse, inspect\n",
    "#src12 = urllib.parse.quote_plus(inspect.getsource(dinter12))\n",
    "\n",
    "#Virtualbox\n",
    "import urllib, inspect\n",
    "src12 = urllib.quote_plus(inspect.getsource(dinter12))"
   ]
  },
  {
   "cell_type": "markdown",
   "metadata": {
    "colab_type": "text",
    "id": "-vGEQtcZbXxq"
   },
   "source": [
    "Verifica tu código:"
   ]
  },
  {
   "cell_type": "code",
   "execution_count": 3,
   "metadata": {
    "colab": {},
    "colab_type": "code",
    "id": "89YlYRGGbXxr"
   },
   "outputs": [
    {
     "data": {
      "text/plain": [
       "0.30793615154973297"
      ]
     },
     "execution_count": 3,
     "metadata": {},
     "output_type": "execute_result"
    }
   ],
   "source": [
    "import scipy.stats as stats\n",
    "m1 = 4\n",
    "std1 = 0.8\n",
    "m2 = 6\n",
    "std2 = 1.2\n",
    "x = 4.9873136\n",
    "dinter12(m1,m2,std1,std2,x)"
   ]
  },
  {
   "cell_type": "markdown",
   "metadata": {
    "colab_type": "text",
    "id": "ZwDw3GqAZqdY"
   },
   "source": [
    "#### <span style=\"color:#FFF; background-color:#080; font-weight:bold; padding:4px;\">Importante</span> Evalue su respuesta."
   ]
  },
  {
   "cell_type": "code",
   "execution_count": 4,
   "metadata": {
    "colab": {},
    "colab_type": "code",
    "id": "amxflOeyZqdZ"
   },
   "outputs": [
    {
     "name": "stdout",
     "output_type": "stream",
     "text": [
      "evaluation result CORRECT\r\n"
     ]
    }
   ],
   "source": [
    "!./run CHECK_SOLUTION PS2_12 $src12"
   ]
  },
  {
   "cell_type": "markdown",
   "metadata": {
    "colab_type": "text",
    "id": "Y2OkCzxjZqdh"
   },
   "source": [
    "### Ejercicio 2 <a name=\"eje5\"></a>\n",
    "\n",
    "Considere el dataset `../data/gapminder-FiveYearData.csv`. Queremos modelar la distribución de los datos la caracteristica: **\"producto interno bruto\"** (`gdpPercap`). Sin embargo no sabemos la forma de la distribución. Por lo tanto vamos a utilizar el teorema del límite central, para aproximar estos datos a la distribución normal: $\\mathcal{N} \\left ( \\mu(X), \\frac{\\sigma(X)}{\\sqrt{N}} \\right )$. \n",
    "\n",
    "Contruya una función que: \n",
    "\n",
    "1. Calcule los promedios tomando $N = {10,20,40}$ muestras (realice 1000 iteraciones para cada $N$).\n",
    "    - Cada conjunto de muestran son seleccionadas de forma aleatoria del conjunto de datos. \n",
    "2. Grafique un subplot con la forma de cada aproximación para los tres tamaños de muestra.\n",
    "3. Devuelva la lista de los parametros de $\\mathcal{N} \\left ( \\mu(X), \\frac{\\sigma(X)}{\\sqrt{N}} \\right )$(para cada N sobre las 1000 iteraciones)"
   ]
  },
  {
   "cell_type": "code",
   "execution_count": 5,
   "metadata": {
    "colab": {},
    "colab_type": "code",
    "id": "Q34U9Z3tZqdj"
   },
   "outputs": [],
   "source": [
    "def dinter14():\n",
    "    import pandas as pd\n",
    "    import numpy as np\n",
    "    import scipy.stats as stats\n",
    "    import matplotlib.pyplot as plt\n",
    "    plt.figure(figsize=(20,3))\n",
    "\n",
    "    data = pd.read_csv('misc/FiveYearData.csv')\n",
    "    d_mean = np.mean(data.gdpPercap)\n",
    "    d_std=np.std(data.gdpPercap)\n",
    "   \n",
    "    list_mu, list_std=[],[]\n",
    "\n",
    "    for i,N in enumerate([10,20,40]):\n",
    "        #print( i, N)\n",
    "        sample_means = []\n",
    "        # _ is a traditional name for \"don't care\" \n",
    "        for _ in range(1000):\n",
    "            sample_of_size_N = data.gdpPercap.sample(N)\n",
    "            sample_means.append(np.mean(sample_of_size_N))\n",
    "        plt.subplot(1,3,i+1)\n",
    "        x = np.linspace(min(sample_means),max(sample_means),100)\n",
    "        plt.hist(sample_means, bins=30, density=True, alpha=.5, label=\"sample means\");\n",
    "        ref = stats.norm(loc=d_mean, scale=d_std/np.sqrt(N))\n",
    "        plt.plot(x, ref.pdf(x), label=\"CLT analytic\", color=\"blue\")\n",
    "        ref = stats.norm(loc=np.mean(sample_means), scale=np.std(sample_means))\n",
    "        plt.plot(x, ref.pdf(x), label=\"CLT estimated\", color=\"red\")\n",
    "        plt.title(\"N=%d\"%N)\n",
    "        list_mu.append(np.mean(sample_means))\n",
    "        list_std.append(np.std(sample_means)/np.sqrt(N))\n",
    "    plt.legend()\n",
    "  \n",
    "    return list_mu, list_std\n",
    "\n",
    "#Colaboratory\n",
    "#import urllib.parse, inspect\n",
    "#src14 = urllib.parse.quote_plus(inspect.getsource(dinter14))\n",
    "\n",
    "#Virtualbox\n",
    "import urllib, inspect\n",
    "src14 = urllib.quote_plus(inspect.getsource(dinter14))"
   ]
  },
  {
   "cell_type": "markdown",
   "metadata": {
    "colab_type": "text",
    "id": "YbR9k7RXZqdv"
   },
   "source": [
    "comprueba el código"
   ]
  },
  {
   "cell_type": "code",
   "execution_count": 9,
   "metadata": {
    "colab": {},
    "colab_type": "code",
    "id": "OvCu2mstZqdx"
   },
   "outputs": [
    {
     "name": "stdout",
     "output_type": "stream",
     "text": [
      "[7071.9538419453402, 7192.7615449486839, 7211.7940181481581]\n",
      "[950.91533563356006, 490.09189209610696, 248.83138125206617]\n"
     ]
    },
    {
     "data": {
      "image/png": "[encoded data removed]",
      "text/plain": [
       "<matplotlib.figure.Figure at 0x7f70bf6e1a10>"
      ]
     },
     "metadata": {},
     "output_type": "display_data"
    }
   ],
   "source": [
    "list_mu, list_std = dinter14()\n",
    "print(list_mu)\n",
    "print(list_std)"
   ]
  },
  {
   "cell_type": "markdown",
   "metadata": {
    "colab_type": "text",
    "id": "QBQq6500Zqd6"
   },
   "source": [
    "---\n"
   ]
  },
  {
   "cell_type": "markdown",
   "metadata": {
    "colab_type": "text",
    "id": "uCV9KtGiZqd7"
   },
   "source": [
    "#### <span style=\"color:#FFF; background-color:#080; font-weight:bold; padding:4px;\">Importante</span> Evalue su respuesta."
   ]
  },
  {
   "cell_type": "code",
   "execution_count": 10,
   "metadata": {
    "colab": {},
    "colab_type": "code",
    "id": "aRYKpO6wZqd9"
   },
   "outputs": [
    {
     "name": "stdout",
     "output_type": "stream",
     "text": [
      "evaluation result CORRECT\r\n"
     ]
    }
   ],
   "source": [
    "!./run CHECK_SOLUTION PS2_14 $src14"
   ]
  },
  {
   "cell_type": "markdown",
   "metadata": {
    "colab_type": "text",
    "id": "FOonHQ9yZqeF"
   },
   "source": [
    "### Ejercicio 3 <a name=\"eje6\"></a>\n",
    "\n",
    "Construya un función que calcule un conjunto de 10000 muestras que siguen una distribución de Poisson $X$ con media (lambda 4). Luego calcule el porcentaje de elementos de $X$ que están entre el intervalo (a - b) $\\frac{eventos}{intervalo-tiempo}$.\n",
    "\n",
    "<b>Nota:</b> Utilice numpy para generar una aproximación."
   ]
  },
  {
   "cell_type": "code",
   "execution_count": 11,
   "metadata": {
    "colab": {},
    "colab_type": "code",
    "id": "Bo5aLmBGZqeG"
   },
   "outputs": [],
   "source": [
    "def eprob15(a,b):\n",
    "    import numpy as np\n",
    "    X = np.random.poisson(4,10000)\n",
    "    count=0\n",
    "    for i in X:\n",
    "        if i>=a and i<=b:\n",
    "            count=count+1\n",
    "    prob=(count/10000.)\n",
    "    return prob\n",
    "\n",
    "#Colaboratory\n",
    "#import urllib.parse, inspect\n",
    "#src15 = urllib.parse.quote_plus(inspect.getsource(eprob15))\n",
    "\n",
    "#Virtualbox\n",
    "import urllib, inspect\n",
    "src15 = urllib.quote_plus(inspect.getsource(eprob15))"
   ]
  },
  {
   "cell_type": "markdown",
   "metadata": {
    "colab_type": "text",
    "id": "MT3JS9rhZqeP"
   },
   "source": [
    "Verifique su respuesta."
   ]
  },
  {
   "cell_type": "code",
   "execution_count": 12,
   "metadata": {
    "colab": {},
    "colab_type": "code",
    "id": "liFCivG7ZqeR"
   },
   "outputs": [
    {
     "data": {
      "text/plain": [
       "0.8571"
      ]
     },
     "execution_count": 12,
     "metadata": {},
     "output_type": "execute_result"
    }
   ],
   "source": [
    "import numpy as np\n",
    "\n",
    "a = 2\n",
    "b = 7\n",
    "eprob15(a,b)"
   ]
  },
  {
   "cell_type": "markdown",
   "metadata": {
    "colab_type": "text",
    "id": "RVzNjlNNZqea"
   },
   "source": [
    "#### <span style=\"color:#FFF; background-color:#080; font-weight:bold; padding:4px;\">Importante</span> Evalue su respuesta."
   ]
  },
  {
   "cell_type": "code",
   "execution_count": 13,
   "metadata": {
    "colab": {},
    "colab_type": "code",
    "id": "XFCz2jILZqec"
   },
   "outputs": [
    {
     "name": "stdout",
     "output_type": "stream",
     "text": [
      "evaluation result CORRECT\r\n"
     ]
    }
   ],
   "source": [
    "!./run CHECK_SOLUTION PS2_15 $src15"
   ]
  },
  {
   "cell_type": "markdown",
   "metadata": {
    "colab_type": "text",
    "id": "MCISQ64UZqej"
   },
   "source": [
    "---\n",
    "\n",
    "### Ejercicio 4  <a name=\"eje7\"></a>\n",
    "\n",
    "Suponga que al momento de tirar una moneda usted puede obtener como resultado o CARA o SELLO. Sin embargo, si realizamos este mismo experimento 10 veces y se calculan las probabilidades no se obtendran los resultados mencionados. ¿Por qué? ¿Qué sucede si se ejecutan más veces?\n",
    "En este ejercicio, usted deberá completar la función `tirar_moneda` la cual simula el experimento y lo ejecuta $N$ veces. Los resultados nos permitiran observar que sucede con las probabilidades cuando incrementamos el número de experimentos. "
   ]
  },
  {
   "cell_type": "code",
   "execution_count": 17,
   "metadata": {
    "colab": {},
    "colab_type": "code",
    "id": "UQpeCJOYZqel"
   },
   "outputs": [],
   "source": [
    "def tirar_moneda():\n",
    "    import numpy as np\n",
    "    import scipy.stats as stats\n",
    "    prob_caras = list()\n",
    "    prob_sellos = list()\n",
    "    for N in [10, 100, 1000, 10000]:\n",
    "        resultados = list()\n",
    "        # Crear el bucle que simula la ejecucion del experimento varias veces\n",
    "        for i in range(1,N):\n",
    "            # Generar una muestra (1) de una distribucion (media =0.5)\n",
    "            # Solo  se obtienen dos posibles valores desde rvs\n",
    "            intento = stats.binom(n=1, p=0.5).rvs(1) \n",
    "            resultados.append(intento[0])\n",
    "        # Calcular la probabilidad de obtener caras=medias de caras    \n",
    "        prob_caras.append(np.mean(resultados))\n",
    "        # Calcular la probabilidad de obtener sellos= el complemento de las caras\n",
    "        prob_sellos.append((1-np.mean(resultados)))\n",
    "        \n",
    "    return prob_caras, prob_sellos\n",
    "\n",
    "#Colaboratory\n",
    "#import urllib.parse, inspect\n",
    "#src16 = urllib.parse.quote_plus(inspect.getsource(tirar_moneda))\n",
    "\n",
    "#Virtualbox\n",
    "import urllib, inspect\n",
    "#print(inspect.getsource(tirar_moneda))\n",
    "src16 = urllib.quote_plus(inspect.getsource(tirar_moneda))"
   ]
  },
  {
   "cell_type": "markdown",
   "metadata": {
    "colab_type": "text",
    "id": "B3jGwOUUZqe0"
   },
   "source": [
    "Prueba el código:"
   ]
  },
  {
   "cell_type": "code",
   "execution_count": 18,
   "metadata": {
    "colab": {},
    "colab_type": "code",
    "id": "bd5MJ7obZqe3"
   },
   "outputs": [
    {
     "name": "stdout",
     "output_type": "stream",
     "text": [
      "('Probabilidades de obtener caras: ', [0.55555555555555558, 0.48484848484848486, 0.49149149149149152, 0.5027502750275028])\n",
      "('Probabilidades de obtener sellos: ', [0.44444444444444442, 0.51515151515151514, 0.50850850850850848, 0.4972497249724972])\n"
     ]
    }
   ],
   "source": [
    "prob_caras, prob_sellos = tirar_moneda()\n",
    "print('Probabilidades de obtener caras: ', prob_caras)\n",
    "print('Probabilidades de obtener sellos: ', prob_sellos)"
   ]
  },
  {
   "cell_type": "markdown",
   "metadata": {
    "colab_type": "text",
    "id": "T24yAU62Zqe_"
   },
   "source": [
    "#### <span style=\"color:#FFF; background-color:#080; font-weight:bold; padding:4px;\">Importante</span> Evalue su respuesta."
   ]
  },
  {
   "cell_type": "code",
   "execution_count": 19,
   "metadata": {
    "colab": {},
    "colab_type": "code",
    "id": "g8MfRwbrZqfA"
   },
   "outputs": [
    {
     "name": "stdout",
     "output_type": "stream",
     "text": [
      "evaluation result CORRECT\r\n"
     ]
    }
   ],
   "source": [
    "!./run CHECK_SOLUTION PS2_16 $src16"
   ]
  },
  {
   "cell_type": "markdown",
   "metadata": {
    "colab_type": "text",
    "id": "KtTBH5BsZqfK"
   },
   "source": [
    "#### <span style=\"color:#FFF; background-color:#080; font-weight:bold; padding:4px;\">Importante</span> Pasos Finales. \n",
    "\n"
   ]
  },
  {
   "cell_type": "markdown",
   "metadata": {
    "colab_type": "text",
    "id": "Ti-T44bSZqfM"
   },
   "source": [
    "#### 1. Reemplace la variable con su código de estudiante"
   ]
  },
  {
   "cell_type": "code",
   "execution_count": 25,
   "metadata": {
    "colab": {},
    "colab_type": "code",
    "id": "A5FOHrZCZqfP",
    "scrolled": true
   },
   "outputs": [
    {
     "name": "stdout",
     "output_type": "stream",
     "text": [
      "('Taller_02_20201_Distribuciones', 'tl2_2170688')\n"
     ]
    }
   ],
   "source": [
    "#Colaboratory\n",
    "#import urllib.parse, inspect\n",
    "#taller = urllib.parse.quote_plus(\"Taller_02_20201_Distribuciones.\")\n",
    "#codigo = urllib.parse.quote_plus(\"tl2_2170688\")\n",
    "\n",
    "#Virtualbox\n",
    "import urllib, inspect\n",
    "taller = urllib.quote_plus(\"Taller_02_20201_Distribuciones\")\n",
    "codigo = urllib.quote_plus(\"tl2_2170688\")\n",
    "\n",
    "print(taller, codigo)"
   ]
  },
  {
   "cell_type": "markdown",
   "metadata": {
    "colab_type": "text",
    "id": "43vlTuOLZqfX"
   },
   "source": [
    "#### 2. Guarde los cambios del taller:"
   ]
  },
  {
   "cell_type": "code",
   "execution_count": 26,
   "metadata": {
    "colab": {},
    "colab_type": "code",
    "id": "uvfmDJwEZqfY"
   },
   "outputs": [
    {
     "data": {
      "application/javascript": [
       "require([\"base/js/namespace\"],function(Jupyter) {\n",
       "    Jupyter.notebook.save_checkpoint();\n",
       "});"
      ],
      "text/plain": [
       "<IPython.core.display.Javascript object>"
      ]
     },
     "metadata": {},
     "output_type": "display_data"
    }
   ],
   "source": [
    "%%javascript\n",
    "require([\"base/js/namespace\"],function(Jupyter) {\n",
    "    Jupyter.notebook.save_checkpoint();\n",
    "});"
   ]
  },
  {
   "cell_type": "markdown",
   "metadata": {
    "colab_type": "text",
    "id": "VXFWfme2Zqff"
   },
   "source": [
    "#### 3. Ejecute la siguiente celda y envíe el archivo comprimido"
   ]
  },
  {
   "cell_type": "code",
   "execution_count": 24,
   "metadata": {
    "colab": {},
    "colab_type": "code",
    "id": "5MkwS35zZqfg",
    "scrolled": true
   },
   "outputs": [
    {
     "name": "stdout",
     "output_type": "stream",
     "text": [
      "uno: tl2_2170688 dos Taller_02_20201_Distribuciones.\r\n",
      "cp: cannot stat 'Taller_02_20201_Distribuciones..ipynb': No such file or directory\r\n",
      "ERROR!: NO FUE POSIBLE CREAR EL ARCHIVO!.\r\n"
     ]
    }
   ],
   "source": [
    "!./convert_ipynb.sh $codigo $taller"
   ]
  },
  {
   "cell_type": "markdown",
   "metadata": {
    "colab_type": "text",
    "id": "tvbOh9yzZqfn"
   },
   "source": [
    "---\n",
    "<img src=\"https://gitlab.com/bivl2ab/academico/cursos-uis/ai/ai-uis-student/raw/master/imgs/bannerThanks.jpg\" alt=\"Drawing\" style=\"width:700px;\"/>"
   ]
  }
 ],
 "metadata": {
  "colab": {
   "collapsed_sections": [],
   "name": "Taller_02_20201_Distribuciones.ipynb",
   "provenance": []
  },
  "kernelspec": {
   "display_name": "Python 3",
   "language": "python",
   "name": "python3"
  },
  "language_info": {
   "codemirror_mode": {
    "name": "ipython",
    "version": 2
   },
   "file_extension": ".py",
   "mimetype": "text/x-python",
   "name": "python",
   "nbconvert_exporter": "python",
   "pygments_lexer": "ipython2",
   "version": "2.7.14"
  },
  "toc": {
   "toc_cell": false,
   "toc_number_sections": true,
   "toc_threshold": 6,
   "toc_window_display": false
  }
 },
 "nbformat": 4,
 "nbformat_minor": 1
}
