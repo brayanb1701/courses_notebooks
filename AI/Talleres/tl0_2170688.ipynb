{
 "cells": [
  {
   "cell_type": "markdown",
   "metadata": {
    "colab_type": "text",
    "id": "0qcuWsh-No4z"
   },
   "source": [
    "<img src=\"https://gitlab.com/bivl2ab/academico/cursos-uis/ai/ai-uis-student/raw/master/imgs/banner_IA.png\"  width=\"1000px\" height=\"200px\">\n",
    "\n",
    "# Taller 00:  Ejemplo de ejecución\n",
    "\n",
    "## <span style=\"color:red\"> Outline </span> \n",
    "\n",
    "1. [Ejercicio 1. numpy](#eje1)\n",
    "2. [Ejercicio 2. hello](#eje2)\n",
    "\n",
    "#### <font style=\"color: red\"> Esta práctica contiene 2 ejercicios <!-- ONLY IN NOTEBOOK -->"
   ]
  },
  {
   "cell_type": "code",
   "execution_count": 2,
   "metadata": {
    "colab": {},
    "colab_type": "code",
    "id": "VJ5imBr_EcTg"
   },
   "outputs": [
    {
     "name": "stdout",
     "output_type": "stream",
     "text": [
      "/home/user/ai-uis-student/talleres20201\n"
     ]
    }
   ],
   "source": [
    "#@title 1. MONTAR EL DRIVE **student** { display-mode: \"form\" }\n",
    "import os\n",
    "#from google.colab import drive\n",
    "#drive.mount('/content/drive')\n",
    "#os.chdir('/content/drive/My Drive/course-IA1/ai-uis-student/talleres20201')\n",
    "#os.chdir('/content/drive/My Drive/ai-uis-student/talleres20201')\n",
    "print(os.getcwd())\n",
    "!chmod 777 convert_ipynb.sh run utils/*"
   ]
  },
  {
   "cell_type": "markdown",
   "metadata": {
    "colab_type": "text",
    "id": "pG0JPaAnNo5L"
   },
   "source": [
    "# Usted debe ejecutar <span style=\"color:#F00;\">TODAS</span> las celdas de tipo <span style=\"color:#F00;\">CODE</span>. De lo contrario, sus respuestas no serán procesadas correctamente.</h2>\n",
    "---"
   ]
  },
  {
   "cell_type": "markdown",
   "metadata": {
    "colab_type": "text",
    "id": "zR2SgPZdNo5N"
   },
   "source": [
    "### Ejercicio 1  <a name=\"eje1\"></a>"
   ]
  },
  {
   "cell_type": "markdown",
   "metadata": {
    "colab_type": "text",
    "id": "AbMQimD4No5O"
   },
   "source": [
    "Completa la función `suma_matrices` para que, dadas dos arrays numpy cualquiera devuelva la suma elemento a elemento.\n",
    "\n",
    "#### Ejemplo de ejecución\n",
    "\n",
    "    > s = np.array([1,2,3])\n",
    "    > t = np.array([4,5,6])\n",
    "    > suma_matrices(s,t)\n",
    "    \n",
    "      [5 7 9]\n",
    "     \n",
    "_Sugerencia_: completa el código de la siguiente manera:\n",
    "\n",
    "    def suma_matrices(a,b):\n",
    "       ## --- TU CODIGO AQUI ---\n",
    "       result = a + b\n",
    "       return result"
   ]
  },
  {
   "cell_type": "code",
   "execution_count": 3,
   "metadata": {
    "colab": {},
    "colab_type": "code",
    "id": "iPw5S288No5Q"
   },
   "outputs": [],
   "source": [
    "import numpy as np\n",
    "\n",
    "def suma_matrices(a,b):\n",
    "    \n",
    "    ## --- TU CODIGO AQUI ---\n",
    "    result = a+b\n",
    "    return result\n",
    "\n",
    "#Colaboratory\n",
    "#import urllib.parse, inspect\n",
    "#src1 = urllib.parse.quote_plus(inspect.getsource(suma_matrices))\n",
    "\n",
    "#Virtualbox\n",
    "import urllib, inspect\n",
    "src1 = urllib.quote_plus(inspect.getsource(suma_matrices))"
   ]
  },
  {
   "cell_type": "markdown",
   "metadata": {
    "colab_type": "text",
    "id": "dgCNz7kcNo5Y"
   },
   "source": [
    "#### <span style=\"color:#FFF; background-color:#080; font-weight:bold; padding:4px;\">Importante</span> Evalue su respuesta."
   ]
  },
  {
   "cell_type": "code",
   "execution_count": 4,
   "metadata": {
    "colab": {
     "base_uri": "https://localhost:8080/",
     "height": 35
    },
    "colab_type": "code",
    "executionInfo": {
     "elapsed": 5082,
     "status": "ok",
     "timestamp": 1591762580755,
     "user": {
      "displayName": "Fabio Martinez Carrillo",
      "photoUrl": "https://lh3.googleusercontent.com/a-/AOh14GiUBl7ekqkSkHaJqFt9lDIzmMMymwp2pFX7Xu03tA=s64",
      "userId": "13325158328880210155"
     },
     "user_tz": 300
    },
    "id": "kiGR5XA9No5Z",
    "outputId": "5f272233-cdfa-4a25-9822-1f02a56b589b"
   },
   "outputs": [
    {
     "name": "stdout",
     "output_type": "stream",
     "text": [
      "evaluation result CORRECT\r\n"
     ]
    }
   ],
   "source": [
    "!./run CHECK_SOLUTION PS0_1 $src1"
   ]
  },
  {
   "cell_type": "markdown",
   "metadata": {
    "colab_type": "text",
    "id": "esrpT9HjNo5k"
   },
   "source": [
    "### Ejercicio 2  <a name=\"eje2\"></a>"
   ]
  },
  {
   "cell_type": "code",
   "execution_count": 5,
   "metadata": {
    "colab": {},
    "colab_type": "code",
    "id": "IyM7KgSDNo5m"
   },
   "outputs": [],
   "source": [
    "def say_hello():\n",
    "    ## --- TU CODIGO AQUI ---\n",
    "    result = \"hello\"\n",
    "    return result\n",
    "\n",
    "#Colaboratory\n",
    "#import urllib.parse, inspect\n",
    "#src2 = urllib.parse.quote_plus(inspect.getsource(say_hello))\n",
    "\n",
    "#Virtualbox\n",
    "import urllib, inspect\n",
    "src2 = urllib.quote_plus(inspect.getsource(say_hello))"
   ]
  },
  {
   "cell_type": "markdown",
   "metadata": {
    "colab_type": "text",
    "id": "lngpAaziNo5u"
   },
   "source": [
    "#### <span style=\"color:#FFF; background-color:#080; font-weight:bold; padding:4px;\">Importante</span> Evalue su respuesta."
   ]
  },
  {
   "cell_type": "code",
   "execution_count": 6,
   "metadata": {
    "colab": {
     "base_uri": "https://localhost:8080/",
     "height": 35
    },
    "colab_type": "code",
    "executionInfo": {
     "elapsed": 2050,
     "status": "ok",
     "timestamp": 1591756595602,
     "user": {
      "displayName": "Fabio Martinez Carrillo",
      "photoUrl": "https://lh3.googleusercontent.com/a-/AOh14GiUBl7ekqkSkHaJqFt9lDIzmMMymwp2pFX7Xu03tA=s64",
      "userId": "13325158328880210155"
     },
     "user_tz": 300
    },
    "id": "HFyB3WQxNo5x",
    "outputId": "20e4d5ba-9147-4ae1-addc-126e0216129c"
   },
   "outputs": [
    {
     "name": "stdout",
     "output_type": "stream",
     "text": [
      "evaluation result CORRECT\r\n"
     ]
    }
   ],
   "source": [
    "!./run CHECK_SOLUTION PS0_2 $src2"
   ]
  },
  {
   "cell_type": "markdown",
   "metadata": {
    "colab_type": "text",
    "id": "9R1lIY6_No56"
   },
   "source": [
    "#### <span style=\"color:#FFF; background-color:#080; font-weight:bold; padding:4px;\">Importante</span> Pasos Finales. \n",
    "\n"
   ]
  },
  {
   "cell_type": "markdown",
   "metadata": {
    "colab_type": "text",
    "id": "SIti23PSNo59"
   },
   "source": [
    "#### 1. Reemplace la variable con su código de estudiante"
   ]
  },
  {
   "cell_type": "code",
   "execution_count": 10,
   "metadata": {
    "colab": {
     "base_uri": "https://localhost:8080/",
     "height": 35
    },
    "colab_type": "code",
    "executionInfo": {
     "elapsed": 580,
     "status": "ok",
     "timestamp": 1591756863023,
     "user": {
      "displayName": "Fabio Martinez Carrillo",
      "photoUrl": "https://lh3.googleusercontent.com/a-/AOh14GiUBl7ekqkSkHaJqFt9lDIzmMMymwp2pFX7Xu03tA=s64",
      "userId": "13325158328880210155"
     },
     "user_tz": 300
    },
    "id": "RDoJwlN-No5_",
    "outputId": "7eeba2c4-f6d9-4310-9089-db42df8e0423"
   },
   "outputs": [
    {
     "name": "stdout",
     "output_type": "stream",
     "text": [
      "('Taller_00_20201_test', 'tl0_2170688')\n"
     ]
    }
   ],
   "source": [
    "#Colaboratory\n",
    "#import urllib.parse, inspect\n",
    "#taller = urllib.parse.quote_plus(\"Taller_00_20201_test\")\n",
    "#codigo = urllib.parse.quote_plus(\"tl0_12345\")\n",
    "\n",
    "#Virtualbox\n",
    "import urllib, inspect\n",
    "taller = urllib.quote_plus(\"Taller_00_20201_test\")\n",
    "codigo = urllib.quote_plus(\"tl0_2170688\")\n",
    "\n",
    "print(taller, codigo)"
   ]
  },
  {
   "cell_type": "markdown",
   "metadata": {
    "colab_type": "text",
    "id": "on0C1jg_No6J"
   },
   "source": [
    "#### 2. Guarde los cambios del taller:"
   ]
  },
  {
   "cell_type": "code",
   "execution_count": 11,
   "metadata": {
    "colab": {
     "base_uri": "https://localhost:8080/",
     "height": 17
    },
    "colab_type": "code",
    "executionInfo": {
     "elapsed": 628,
     "status": "ok",
     "timestamp": 1591756866082,
     "user": {
      "displayName": "Fabio Martinez Carrillo",
      "photoUrl": "https://lh3.googleusercontent.com/a-/AOh14GiUBl7ekqkSkHaJqFt9lDIzmMMymwp2pFX7Xu03tA=s64",
      "userId": "13325158328880210155"
     },
     "user_tz": 300
    },
    "id": "XgLwQ4w4No6L",
    "outputId": "d201c726-c7b9-403b-8caa-1b0dca5c8586"
   },
   "outputs": [
    {
     "data": {
      "application/javascript": [
       "require([\"base/js/namespace\"],function(Jupyter) {\n",
       "    Jupyter.notebook.save_checkpoint();\n",
       "});"
      ],
      "text/plain": [
       "<IPython.core.display.Javascript object>"
      ]
     },
     "metadata": {},
     "output_type": "display_data"
    }
   ],
   "source": [
    "%%javascript\n",
    "require([\"base/js/namespace\"],function(Jupyter) {\n",
    "    Jupyter.notebook.save_checkpoint();\n",
    "});"
   ]
  },
  {
   "cell_type": "markdown",
   "metadata": {
    "colab_type": "text",
    "id": "ccTGLf0MNo6V"
   },
   "source": [
    "#### 3. Ejecute la siguiente celda y envíe el archivo comprimido"
   ]
  },
  {
   "cell_type": "code",
   "execution_count": null,
   "metadata": {
    "colab": {
     "base_uri": "https://localhost:8080/",
     "height": 52
    },
    "colab_type": "code",
    "executionInfo": {
     "elapsed": 1773,
     "status": "ok",
     "timestamp": 1591756870486,
     "user": {
      "displayName": "Fabio Martinez Carrillo",
      "photoUrl": "https://lh3.googleusercontent.com/a-/AOh14GiUBl7ekqkSkHaJqFt9lDIzmMMymwp2pFX7Xu03tA=s64",
      "userId": "13325158328880210155"
     },
     "user_tz": 300
    },
    "id": "A4NmJLY2No6X",
    "outputId": "d020c617-eb78-4409-b3b6-8c58e16e36d5",
    "scrolled": true
   },
   "outputs": [],
   "source": [
    "!./convert_ipynb.sh $codigo $taller"
   ]
  },
  {
   "cell_type": "markdown",
   "metadata": {
    "colab_type": "text",
    "id": "_q0OIsBqNo6i"
   },
   "source": [
    "---\n",
    "<img src=\"https://gitlab.com/bivl2ab/academico/cursos-uis/ai/ai-uis-student/raw/master/imgs/bannerThanks.jpg\" alt=\"Drawing\" style=\"width:700px;\"/>"
   ]
  }
 ],
 "metadata": {
  "colab": {
   "collapsed_sections": [],
   "name": "Taller_00_20201_test.ipynb",
   "provenance": []
  },
  "kernelspec": {
   "display_name": "Python 3",
   "language": "python",
   "name": "python3"
  },
  "language_info": {
   "codemirror_mode": {
    "name": "ipython",
    "version": 2
   },
   "file_extension": ".py",
   "mimetype": "text/x-python",
   "name": "python",
   "nbconvert_exporter": "python",
   "pygments_lexer": "ipython2",
   "version": "2.7.14"
  },
  "toc": {
   "toc_cell": false,
   "toc_number_sections": true,
   "toc_threshold": 6,
   "toc_window_display": false
  }
 },
 "nbformat": 4,
 "nbformat_minor": 1
}
