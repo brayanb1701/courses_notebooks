{
 "cells": [
  {
   "cell_type": "markdown",
   "metadata": {},
   "source": [
    "<div style=\"text-align: justify\">\n",
    "<font size=6><br>\n",
    "<h4 align=\"center\">Álgebra Lineal II</h4></font> \n",
    "<font size=5><h4 align=\"center\">Taller Recursivas</h4></font>  \n",
    "\n",
    "<font size=4><br>\n",
    "        \n",
    "2170688 - Brayan Rodolfo Barajas Ochoa<br><br>\n",
    "\n",
    "<font size=1>\n"
   ]
  },
  {
   "cell_type": "markdown",
   "metadata": {},
   "source": [
    "<strong>1.</strong> Partiendo de que $k_0=8, \\; k_1=0 $ y $r=1$; se define $S_n$ así:\n",
    " - $S_0=8; \\; S_1=11$\n",
    " - $S_{n+2}=\\frac{1}{5}S_{n+1}+\\frac{4}{5}S_n$"
   ]
  },
  {
   "cell_type": "markdown",
   "metadata": {},
   "source": [
    "<strong>2.</strong> Para hallar los 10 primeros términos de la sucesión, se hará un pequeño código para realizarlo automáticamente, el cual se muestra a continuación:"
   ]
  },
  {
   "cell_type": "code",
   "execution_count": 15,
   "metadata": {},
   "outputs": [
    {
     "name": "stdout",
     "output_type": "stream",
     "text": [
      "s0= 8\n",
      "s1= 11\n",
      "s2= 43/5\n",
      "s3= 263/25\n",
      "s4= 1123/125\n",
      "s5= 6383/625\n",
      "s6= 28843/3125\n",
      "s7= 156503/15625\n",
      "s8= 733363/78125\n",
      "s9= 3863423/390625\n"
     ]
    }
   ],
   "source": [
    "sn=8\n",
    "sn1=11\n",
    "s=[]\n",
    "s.append(sn)\n",
    "s.append(sn1)\n",
    "for i in range(2,10):\n",
    "    sn2=(1/5)*sn1+(4/5)*sn\n",
    "    s.append(sn2)\n",
    "    sn=sn1\n",
    "    sn1=sn2\n",
    "for i in range(0,10):     print(\"s\"+str(i)+\"= \"+str(s[i]))"
   ]
  },
  {
   "cell_type": "markdown",
   "metadata": {},
   "source": [
    "<strong>3.</strong> La matriz $2x2$ cuyas potencias representan los términos de la sucesión está dada por:<br>\n",
    "<center>$A=\\begin{pmatrix} \\frac{1}{5} & \\frac{4}{5} \\\\ 1 & 0\\end{pmatrix}$</center><br>\n",
    "   De tal forma que:<br>\n",
    "   <center>$A\\begin{pmatrix} S_n \\\\ S_{n-1}\\end{pmatrix}=\\begin{pmatrix} S_{n+1} \\\\ S_{n}\\end{pmatrix}$</center><br>\n",
    "   Teniendo en cuenta que:\n",
    "   <center>$S_{n+1}=\\frac{1}{5}S_{n}+\\frac{4}{5}S_{n-1}$</center>"
   ]
  },
  {
   "cell_type": "markdown",
   "metadata": {},
   "source": [
    "Ahora, se procede a diagonalizar para poder obtener una fórmula no recursiva para $S_n$"
   ]
  },
  {
   "cell_type": "code",
   "execution_count": 2,
   "metadata": {},
   "outputs": [
    {
     "name": "stdout",
     "output_type": "stream",
     "text": [
      "Polinomio característico: x^2 - 1/5*x - 4/5\n",
      "Eigenvalores: [1, -4/5]\n",
      "[(1, [\n",
      "(1, 1)\n",
      "], 1), (-4/5, [\n",
      "(1, -5/4)\n",
      "], 1)]\n"
     ]
    }
   ],
   "source": [
    "A=matrix([[1/5, 4/5],[1, 0]])\n",
    "print(\"Polinomio característico: \"+str(A.charpoly()))\n",
    "print(\"Eigenvalores: \"+str(A.eigenvalues()))\n",
    "print(A.eigenvectors_right())"
   ]
  },
  {
   "cell_type": "markdown",
   "metadata": {},
   "source": [
    "De lo anterior se obtiene: \n",
    "<center> $P=\\begin{pmatrix} 1 & 1 \\\\ 1 & -\\frac{5}{4}\\end{pmatrix} \\; $ y $ \\; D=\\begin{pmatrix} 1 & 0 \\\\ 0 & -\\frac{4}{5}\\end{pmatrix} $</center>\n",
    "<br>\n",
    "Para formar $A=PDP^{-1}$"
   ]
  },
  {
   "cell_type": "code",
   "execution_count": 27,
   "metadata": {},
   "outputs": [
    {
     "data": {
      "text/plain": [
       "[ 5/9  4/9]\n",
       "[ 4/9 -4/9]"
      ]
     },
     "execution_count": 27,
     "metadata": {},
     "output_type": "execute_result"
    }
   ],
   "source": [
    "D=matrix([[1, 0],[0, -4/5]])\n",
    "P=matrix([[1, 1],[1, -5/4]])\n",
    "P.inverse()"
   ]
  },
  {
   "cell_type": "markdown",
   "metadata": {},
   "source": [
    "<center>$\\; P^{-1}=\\begin{pmatrix} \\frac{5}{9} & \\frac{4}{9} \\\\ \\frac{4}{9} & -\\frac{4}{9}\\end{pmatrix}$</center>"
   ]
  },
  {
   "cell_type": "markdown",
   "metadata": {},
   "source": [
    "Se sabe que $A^n\\begin{pmatrix} a_1 \\\\ a_{0}\\end{pmatrix}=\\begin{pmatrix} S_{n+1} \\\\ S_{n}\\end{pmatrix}$ <br>\n",
    "<center>$A^n=\\left(PDP^{-1}\\right)=PD^nP^{-1}=P\\begin{pmatrix} 1 & 0 \\\\ 0 & \\left(-\\frac{4}{5}\\right)^n\\end{pmatrix}P^{-1}$</center>"
   ]
  },
  {
   "cell_type": "code",
   "execution_count": 33,
   "metadata": {},
   "outputs": [
    {
     "name": "stdout",
     "output_type": "stream",
     "text": [
      "[ 4/9*(-4)^n/5^n + 5/9 -4/9*(-4)^n/5^n + 4/9]\n",
      "[-5/9*(-4)^n/5^n + 5/9  5/9*(-4)^n/5^n + 4/9]\n"
     ]
    }
   ],
   "source": [
    "var(\"n\")\n",
    "print(P*D^n*P.inverse())"
   ]
  },
  {
   "cell_type": "markdown",
   "metadata": {},
   "source": [
    "<center>$PD^nP^{-1}= \\begin{pmatrix} \\frac{4*(-4)^n}{9*5^n}+\\frac{5}{9} & \\frac{(-4)^{n+1}}{9*5^n}+\\frac{4}{9} \\\\ \\frac{-5*(-4)^n}{9*5^n}+\\frac{5}{9} & \\frac{5*(-4)^{n}}{9*5^{n}}+\\frac{4}{9}\\end{pmatrix}$</center>\n",
    "<br>\n",
    "<center>$PD^nP^{-1}\\begin{pmatrix} 11 \\\\ 8\\end{pmatrix}=\\begin{pmatrix} S_{n+1} \\\\ S_{n}\\end{pmatrix}$</center>\n",
    "<br>\n",
    "Con esto se obtiene la fórmula recursiva <br>\n",
    "<center>$S_n=-11*\\frac{5*(-4)^n}{9*5^n}+11*\\frac{5}{9} +8* \\frac{5*(-4)^{n}}{9*5^{n}}+8*\\frac{4}{9}$</center>\n",
    "<br>\n",
    "<center>$S_n=-\\frac{5*(-4)^n}{3*5^n}+\\frac{29}{3}$</center>"
   ]
  },
  {
   "cell_type": "markdown",
   "metadata": {},
   "source": [
    "Para comprobar la fórmula obtenida, se utilizará el código a continuación comparando con los 10 primeros datos obtenidos en un principio."
   ]
  },
  {
   "cell_type": "code",
   "execution_count": 35,
   "metadata": {},
   "outputs": [
    {
     "name": "stdout",
     "output_type": "stream",
     "text": [
      "s0= 8\n",
      "s1= 11\n",
      "s2= 43/5\n",
      "s3= 263/25\n",
      "s4= 1123/125\n",
      "s5= 6383/625\n",
      "s6= 28843/3125\n",
      "s7= 156503/15625\n",
      "s8= 733363/78125\n",
      "s9= 3863423/390625\n",
      "s10= 18530683/1953125\n",
      "s11= 95799143/9765625\n",
      "s12= 466412803/48828125\n",
      "s13= 2382395663/244140625\n",
      "s14= 11710651723/1220703125\n",
      "s15= 59358564983/6103515625\n",
      "s16= 293571599443/30517578125\n",
      "s17= 1480742899103/152587890625\n",
      "s18= 7352174887963/762939453125\n",
      "s19= 36967032870023/3814697265625\n"
     ]
    }
   ],
   "source": [
    "for n in range(0,20):\n",
    "    sn=-(5*(-4)^n)/(3*(5)^n)+(29/3)\n",
    "    print(\"s\"+str(n)+\"= \"+str(sn))"
   ]
  },
  {
   "cell_type": "markdown",
   "metadata": {},
   "source": [
    "Como se acaba de comprobar, la fórmula no recursiva es correcta para la sucesión planteada en este taller."
   ]
  },
  {
   "cell_type": "markdown",
   "metadata": {},
   "source": [
    "<strong>4. </strong> Finalmente, se determinará a qué converge. Por simple inspección, se puede deducir que le sucesión converge a un número menor a 10. Ahora, para comprobarlo, se procede a calcular el límite:<br>\n",
    "<center>$\\lim_{n \\to \\infty}S_n=\\lim_{n \\to \\infty}\\left(-\\frac{5}{3}*\\left(\\frac{-4}{5}\\right)^n+\\frac{29}{3}\\right)$</center><br>\n",
    "Como $|\\frac{-4}{5}|<1$ se tiene que:<br>\n",
    "<center>$\\lim_{n \\to \\infty} S_n=\\frac{29}{3}\\approx 9.666667$</center><br>\n",
    "Con lo cual se puede afirmar que la sucesión converge a $\\frac{29}{3}$"
   ]
  },
  {
   "cell_type": "code",
   "execution_count": null,
   "metadata": {},
   "outputs": [],
   "source": []
  }
 ],
 "metadata": {
  "kernelspec": {
   "display_name": "SageMath 9.0",
   "language": "sage",
   "name": "sagemath"
  },
  "language_info": {
   "codemirror_mode": {
    "name": "ipython",
    "version": 3
   },
   "file_extension": ".py",
   "mimetype": "text/x-python",
   "name": "python",
   "nbconvert_exporter": "python",
   "pygments_lexer": "ipython3",
   "version": "3.7.3"
  }
 },
 "nbformat": 4,
 "nbformat_minor": 2
}
