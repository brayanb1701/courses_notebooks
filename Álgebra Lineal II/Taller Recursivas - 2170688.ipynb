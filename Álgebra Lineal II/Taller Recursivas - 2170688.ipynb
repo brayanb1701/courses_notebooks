{
 "cells": [
  {
   "cell_type": "markdown",
   "metadata": {},
   "source": [
    "<div style=\"text-align: justify\">\n",
    "<font size=6><br>\n",
    "<h4 align=\"center\">Álgebra Lineal II</h4></font> \n",
    "<font size=5><h4 align=\"center\">Taller Recursivas</h4></font>  \n",
    "\n",
    "<font size=4><br>\n",
    "        \n",
    "2170688 - Brayan Rodolfo Barajas Ochoa<br><br>\n",
    "\n",
    "<font size=1>\n"
   ]
  },
  {
   "cell_type": "markdown",
   "metadata": {},
   "source": [
    "<strong>1.</strong> Partiendo de que $k_0=8, \\; k_1=0 $ y $r=1$; se define $S_n$ así:\n",
    " - $S_0=8; \\; S_1=11$\n",
    " - $S_{n+2}=\\frac{1}{5}S_{n+1}+\\frac{4}{5}S_n$"
   ]
  },
  {
   "cell_type": "markdown",
   "metadata": {},
   "source": [
    "<strong>2.</strong> Para hallar los 10 primeros términos de la sucesión, se hará un pequeño código para realizarlo automáticamente, el cual se muestra a continuación:"
   ]
  },
  {
   "cell_type": "code",
   "execution_count": 8,
   "metadata": {},
   "outputs": [
    {
     "name": "stdout",
     "output_type": "stream",
     "text": [
      "s0= -1\n",
      "s1= 9\n",
      "s2= 15\n",
      "s3= 57\n",
      "s4= 159\n",
      "s5= 489\n",
      "s6= 1455\n",
      "s7= 4377\n",
      "s8= 13119\n",
      "s9= 39369\n"
     ]
    }
   ],
   "source": [
    "sn=-1\n",
    "sn1=9\n",
    "s=[]\n",
    "s.append(sn)\n",
    "s.append(sn1)\n",
    "for i in range(2,10):\n",
    "    sn2=(2)*sn1+(3)*sn\n",
    "    s.append(sn2)\n",
    "    sn=sn1\n",
    "    sn1=sn2\n",
    "for i in range(0,10):     print(\"s\"+str(i)+\"= \"+str(s[i]))"
   ]
  },
  {
   "cell_type": "markdown",
   "metadata": {},
   "source": [
    "<strong>3.</strong> La matriz $2x2$ cuyas potencias representan los términos de la sucesión está dada por:<br>\n",
    "<center>$A=\\begin{pmatrix} \\frac{1}{5} & \\frac{4}{5} \\\\ 1 & 0\\end{pmatrix}$</center><br>\n",
    "   De tal forma que:<br>\n",
    "   <center>$A\\begin{pmatrix} S_n \\\\ S_{n-1}\\end{pmatrix}=\\begin{pmatrix} S_{n+1} \\\\ S_{n}\\end{pmatrix}$</center><br>\n",
    "   Teniendo en cuenta que:\n",
    "   <center>$S_{n+1}=\\frac{1}{5}S_{n}+\\frac{4}{5}S_{n-1}$</center>"
   ]
  },
  {
   "cell_type": "markdown",
   "metadata": {},
   "source": [
    "Ahora, se procede a diagonalizar para poder obtener una fórmula no recursiva para $S_n$"
   ]
  },
  {
   "cell_type": "code",
   "execution_count": 2,
   "metadata": {},
   "outputs": [
    {
     "name": "stdout",
     "output_type": "stream",
     "text": [
      "Polinomio característico: x^2 - 2*x - 3\n",
      "Eigenvalores: [3, -1]\n",
      "[(3, [\n",
      "(1, 1/3)\n",
      "], 1), (-1, [\n",
      "(1, -1)\n",
      "], 1)]\n"
     ]
    }
   ],
   "source": [
    "A=matrix([[2, 3],[1, 0]])\n",
    "print(\"Polinomio característico: \"+str(A.charpoly()))\n",
    "print(\"Eigenvalores: \"+str(A.eigenvalues()))\n",
    "print(A.eigenvectors_right())"
   ]
  },
  {
   "cell_type": "markdown",
   "metadata": {},
   "source": [
    "De lo anterior se obtiene: \n",
    "<center> $P=\\begin{pmatrix} 1 & 1 \\\\ 1 & -\\frac{5}{4}\\end{pmatrix} \\; $ y $ \\; D=\\begin{pmatrix} 1 & 0 \\\\ 0 & -\\frac{4}{5}\\end{pmatrix} $</center>\n",
    "<br>\n",
    "Para formar $A=PDP^{-1}$"
   ]
  },
  {
   "cell_type": "code",
   "execution_count": 4,
   "metadata": {},
   "outputs": [
    {
     "name": "stdout",
     "output_type": "stream",
     "text": [
      "[  1   1]\n",
      "[1/3  -1]\n",
      "[ 3/4  3/4]\n",
      "[ 1/4 -3/4]\n"
     ]
    }
   ],
   "source": [
    "D=matrix([[3, 0],[0, -1]])\n",
    "P=matrix([[1, 1],[1/3, -1]])\n",
    "print(P)\n",
    "print(P.inverse())"
   ]
  },
  {
   "cell_type": "markdown",
   "metadata": {},
   "source": [
    "<center>$\\; P^{-1}=\\begin{pmatrix} \\frac{5}{9} & \\frac{4}{9} \\\\ \\frac{4}{9} & -\\frac{4}{9}\\end{pmatrix}$</center>"
   ]
  },
  {
   "cell_type": "markdown",
   "metadata": {},
   "source": [
    "Se sabe que $A^n\\begin{pmatrix} a_1 \\\\ a_{0}\\end{pmatrix}=\\begin{pmatrix} S_{n+1} \\\\ S_{n}\\end{pmatrix}$ <br>\n",
    "<center>$A^n=\\left(PDP^{-1}\\right)=PD^nP^{-1}=P\\begin{pmatrix} 1 & 0 \\\\ 0 & \\left(-\\frac{4}{5}\\right)^n\\end{pmatrix}P^{-1}$</center>"
   ]
  },
  {
   "cell_type": "code",
   "execution_count": 5,
   "metadata": {},
   "outputs": [
    {
     "name": "stdout",
     "output_type": "stream",
     "text": [
      "[3/4*3^n + 1/4*(-1)^n 3/4*3^n - 3/4*(-1)^n]\n",
      "[1/4*3^n - 1/4*(-1)^n 1/4*3^n + 3/4*(-1)^n]\n"
     ]
    }
   ],
   "source": [
    "var(\"n\")\n",
    "print(P*D^n*P.inverse())"
   ]
  },
  {
   "cell_type": "markdown",
   "metadata": {},
   "source": [
    "<center>$PD^nP^{-1}= \\begin{pmatrix} \\frac{4*(-4)^n}{9*5^n}+\\frac{5}{9} & \\frac{(-4)^{n+1}}{9*5^n}+\\frac{4}{9} \\\\ \\frac{-5*(-4)^n}{9*5^n}+\\frac{5}{9} & \\frac{5*(-4)^{n}}{9*5^{n}}+\\frac{4}{9}\\end{pmatrix}$</center>\n",
    "<br>\n",
    "<center>$PD^nP^{-1}\\begin{pmatrix} 11 \\\\ 8\\end{pmatrix}=\\begin{pmatrix} S_{n+1} \\\\ S_{n}\\end{pmatrix}$</center>\n",
    "<br>\n",
    "Con esto se obtiene la fórmula recursiva <br>\n",
    "<center>$S_n=-11*\\frac{5*(-4)^n}{9*5^n}+11*\\frac{5}{9} +8* \\frac{5*(-4)^{n}}{9*5^{n}}+8*\\frac{4}{9}$</center>\n",
    "<br>\n",
    "<center>$S_n=-\\frac{5*(-4)^n}{3*5^n}+\\frac{29}{3}$</center>"
   ]
  },
  {
   "cell_type": "markdown",
   "metadata": {},
   "source": [
    "Para comprobar la fórmula obtenida, se utilizará el código a continuación comparando con los 10 primeros datos obtenidos en un principio."
   ]
  },
  {
   "cell_type": "code",
   "execution_count": 7,
   "metadata": {},
   "outputs": [
    {
     "name": "stdout",
     "output_type": "stream",
     "text": [
      "s0= -1\n",
      "s1= 9\n",
      "s2= 15\n",
      "s3= 57\n",
      "s4= 159\n",
      "s5= 489\n",
      "s6= 1455\n",
      "s7= 4377\n",
      "s8= 13119\n",
      "s9= 39369\n",
      "s10= 118095\n",
      "s11= 354297\n",
      "s12= 1062879\n",
      "s13= 3188649\n",
      "s14= 9565935\n",
      "s15= 28697817\n",
      "s16= 86093439\n",
      "s17= 258280329\n",
      "s18= 774840975\n",
      "s19= 2324522937\n"
     ]
    }
   ],
   "source": [
    "for n in range(0,20):\n",
    "    sn=2*3^n-3*(-1)^n\n",
    "    print(\"s\"+str(n)+\"= \"+str(sn))"
   ]
  },
  {
   "cell_type": "markdown",
   "metadata": {},
   "source": [
    "Como se acaba de comprobar, la fórmula no recursiva es correcta para la sucesión planteada en este taller."
   ]
  },
  {
   "cell_type": "markdown",
   "metadata": {},
   "source": [
    "<strong>4. </strong> Finalmente, se determinará a qué converge. Por simple inspección, se puede deducir que le sucesión converge a un número menor a 10. Ahora, para comprobarlo, se procede a calcular el límite:<br>\n",
    "<center>$\\lim_{n \\to \\infty}S_n=\\lim_{n \\to \\infty}\\left(-\\frac{5}{3}*\\left(\\frac{-4}{5}\\right)^n+\\frac{29}{3}\\right)$</center><br>\n",
    "Como $|\\frac{-4}{5}|<1$ se tiene que:<br>\n",
    "<center>$\\lim_{n \\to \\infty} S_n=\\frac{29}{3}\\approx 9.666667$</center><br>\n",
    "Con lo cual se puede afirmar que la sucesión converge a $\\frac{29}{3}$"
   ]
  },
  {
   "cell_type": "code",
   "execution_count": 12,
   "metadata": {},
   "outputs": [
    {
     "name": "stdout",
     "output_type": "stream",
     "text": [
      "[0 1]\n",
      "[1 1]\n",
      "Polinomio característico: x^2 + x + 1\n",
      "Eigenvalores: [z2 + 1, z2]\n"
     ]
    },
    {
     "ename": "NotImplementedError",
     "evalue": "eigenvectors are not implemented for matrices with eigenvalues that are not in the fraction field of the base ring or in QQbar",
     "output_type": "error",
     "traceback": [
      "\u001b[0;31m---------------------------------------------------------------------------\u001b[0m",
      "\u001b[0;31mAttributeError\u001b[0m                            Traceback (most recent call last)",
      "\u001b[0;32m/opt/sagemath-9.0/local/lib/python3.7/site-packages/sage/matrix/matrix2.pyx\u001b[0m in \u001b[0;36msage.matrix.matrix2.Matrix.eigenvectors_left (build/cythonized/sage/matrix/matrix2.c:45262)\u001b[0;34m()\u001b[0m\n\u001b[1;32m   6084\u001b[0m                     \u001b[0;32mtry\u001b[0m\u001b[0;34m:\u001b[0m\u001b[0;34m\u001b[0m\u001b[0;34m\u001b[0m\u001b[0m\n\u001b[0;32m-> 6085\u001b[0;31m                         \u001b[0meigval_conj\u001b[0m \u001b[0;34m=\u001b[0m \u001b[0meigval\u001b[0m\u001b[0;34m.\u001b[0m\u001b[0mgalois_conjugates\u001b[0m\u001b[0;34m(\u001b[0m\u001b[0mQQbar\u001b[0m\u001b[0;34m)\u001b[0m\u001b[0;34m\u001b[0m\u001b[0;34m\u001b[0m\u001b[0m\n\u001b[0m\u001b[1;32m   6086\u001b[0m                     \u001b[0;32mexcept\u001b[0m \u001b[0mAttributeError\u001b[0m\u001b[0;34m:\u001b[0m\u001b[0;34m\u001b[0m\u001b[0;34m\u001b[0m\u001b[0m\n",
      "\u001b[0;32m/opt/sagemath-9.0/local/lib/python3.7/site-packages/sage/structure/element.pyx\u001b[0m in \u001b[0;36msage.structure.element.Element.__getattr__ (build/cythonized/sage/structure/element.c:4609)\u001b[0;34m()\u001b[0m\n\u001b[1;32m    486\u001b[0m         \"\"\"\n\u001b[0;32m--> 487\u001b[0;31m         \u001b[0;32mreturn\u001b[0m \u001b[0mself\u001b[0m\u001b[0;34m.\u001b[0m\u001b[0mgetattr_from_category\u001b[0m\u001b[0;34m(\u001b[0m\u001b[0mname\u001b[0m\u001b[0;34m)\u001b[0m\u001b[0;34m\u001b[0m\u001b[0;34m\u001b[0m\u001b[0m\n\u001b[0m\u001b[1;32m    488\u001b[0m \u001b[0;34m\u001b[0m\u001b[0m\n",
      "\u001b[0;32m/opt/sagemath-9.0/local/lib/python3.7/site-packages/sage/structure/element.pyx\u001b[0m in \u001b[0;36msage.structure.element.Element.getattr_from_category (build/cythonized/sage/structure/element.c:4718)\u001b[0;34m()\u001b[0m\n\u001b[1;32m    499\u001b[0m             \u001b[0mcls\u001b[0m \u001b[0;34m=\u001b[0m \u001b[0mP\u001b[0m\u001b[0;34m.\u001b[0m\u001b[0m_abstract_element_class\u001b[0m\u001b[0;34m\u001b[0m\u001b[0;34m\u001b[0m\u001b[0m\n\u001b[0;32m--> 500\u001b[0;31m         \u001b[0;32mreturn\u001b[0m \u001b[0mgetattr_from_other_class\u001b[0m\u001b[0;34m(\u001b[0m\u001b[0mself\u001b[0m\u001b[0;34m,\u001b[0m \u001b[0mcls\u001b[0m\u001b[0;34m,\u001b[0m \u001b[0mname\u001b[0m\u001b[0;34m)\u001b[0m\u001b[0;34m\u001b[0m\u001b[0;34m\u001b[0m\u001b[0m\n\u001b[0m\u001b[1;32m    501\u001b[0m \u001b[0;34m\u001b[0m\u001b[0m\n",
      "\u001b[0;32m/opt/sagemath-9.0/local/lib/python3.7/site-packages/sage/cpython/getattr.pyx\u001b[0m in \u001b[0;36msage.cpython.getattr.getattr_from_other_class (build/cythonized/sage/cpython/getattr.c:2614)\u001b[0;34m()\u001b[0m\n\u001b[1;32m    393\u001b[0m         \u001b[0mdummy_error_message\u001b[0m\u001b[0;34m.\u001b[0m\u001b[0mname\u001b[0m \u001b[0;34m=\u001b[0m \u001b[0mname\u001b[0m\u001b[0;34m\u001b[0m\u001b[0;34m\u001b[0m\u001b[0m\n\u001b[0;32m--> 394\u001b[0;31m         \u001b[0;32mraise\u001b[0m \u001b[0mAttributeError\u001b[0m\u001b[0;34m(\u001b[0m\u001b[0mdummy_error_message\u001b[0m\u001b[0;34m)\u001b[0m\u001b[0;34m\u001b[0m\u001b[0;34m\u001b[0m\u001b[0m\n\u001b[0m\u001b[1;32m    395\u001b[0m     \u001b[0mattribute\u001b[0m \u001b[0;34m=\u001b[0m \u001b[0;34m<\u001b[0m\u001b[0mobject\u001b[0m\u001b[0;34m>\u001b[0m\u001b[0mattr\u001b[0m\u001b[0;34m\u001b[0m\u001b[0;34m\u001b[0m\u001b[0m\n",
      "\u001b[0;31mAttributeError\u001b[0m: 'PolynomialQuotientRing_field_with_category.element_class' object has no attribute 'galois_conjugates'",
      "\nDuring handling of the above exception, another exception occurred:\n",
      "\u001b[0;31mNotImplementedError\u001b[0m                       Traceback (most recent call last)",
      "\u001b[0;32m<ipython-input-12-f0718a5a09ca>\u001b[0m in \u001b[0;36m<module>\u001b[0;34m()\u001b[0m\n\u001b[1;32m      3\u001b[0m \u001b[0mprint\u001b[0m\u001b[0;34m(\u001b[0m\u001b[0;34m\"Polinomio característico: \"\u001b[0m\u001b[0;34m+\u001b[0m\u001b[0mstr\u001b[0m\u001b[0;34m(\u001b[0m\u001b[0mA\u001b[0m\u001b[0;34m.\u001b[0m\u001b[0mcharpoly\u001b[0m\u001b[0;34m(\u001b[0m\u001b[0;34m)\u001b[0m\u001b[0;34m)\u001b[0m\u001b[0;34m)\u001b[0m\u001b[0;34m\u001b[0m\u001b[0;34m\u001b[0m\u001b[0m\n\u001b[1;32m      4\u001b[0m \u001b[0mprint\u001b[0m\u001b[0;34m(\u001b[0m\u001b[0;34m\"Eigenvalores: \"\u001b[0m\u001b[0;34m+\u001b[0m\u001b[0mstr\u001b[0m\u001b[0;34m(\u001b[0m\u001b[0mA\u001b[0m\u001b[0;34m.\u001b[0m\u001b[0meigenvalues\u001b[0m\u001b[0;34m(\u001b[0m\u001b[0;34m)\u001b[0m\u001b[0;34m)\u001b[0m\u001b[0;34m)\u001b[0m\u001b[0;34m\u001b[0m\u001b[0;34m\u001b[0m\u001b[0m\n\u001b[0;32m----> 5\u001b[0;31m \u001b[0mprint\u001b[0m\u001b[0;34m(\u001b[0m\u001b[0mA\u001b[0m\u001b[0;34m.\u001b[0m\u001b[0meigenvectors_right\u001b[0m\u001b[0;34m(\u001b[0m\u001b[0;34m)\u001b[0m\u001b[0;34m)\u001b[0m\u001b[0;34m\u001b[0m\u001b[0;34m\u001b[0m\u001b[0m\n\u001b[0m",
      "\u001b[0;32m/opt/sagemath-9.0/local/lib/python3.7/site-packages/sage/matrix/matrix2.pyx\u001b[0m in \u001b[0;36msage.matrix.matrix2.Matrix.eigenvectors_right (build/cythonized/sage/matrix/matrix2.c:45891)\u001b[0;34m()\u001b[0m\n\u001b[1;32m   6133\u001b[0m             \u001b[0;32mTrue\u001b[0m\u001b[0;34m\u001b[0m\u001b[0;34m\u001b[0m\u001b[0m\n\u001b[1;32m   6134\u001b[0m         \"\"\"\n\u001b[0;32m-> 6135\u001b[0;31m         \u001b[0;32mreturn\u001b[0m \u001b[0mself\u001b[0m\u001b[0;34m.\u001b[0m\u001b[0mtranspose\u001b[0m\u001b[0;34m(\u001b[0m\u001b[0;34m)\u001b[0m\u001b[0;34m.\u001b[0m\u001b[0meigenvectors_left\u001b[0m\u001b[0;34m(\u001b[0m\u001b[0mextend\u001b[0m\u001b[0;34m=\u001b[0m\u001b[0mextend\u001b[0m\u001b[0;34m)\u001b[0m\u001b[0;34m\u001b[0m\u001b[0;34m\u001b[0m\u001b[0m\n\u001b[0m\u001b[1;32m   6136\u001b[0m \u001b[0;34m\u001b[0m\u001b[0m\n\u001b[1;32m   6137\u001b[0m     \u001b[0mright_eigenvectors\u001b[0m \u001b[0;34m=\u001b[0m \u001b[0meigenvectors_right\u001b[0m\u001b[0;34m\u001b[0m\u001b[0;34m\u001b[0m\u001b[0m\n",
      "\u001b[0;32m/opt/sagemath-9.0/local/lib/python3.7/site-packages/sage/matrix/matrix2.pyx\u001b[0m in \u001b[0;36msage.matrix.matrix2.Matrix.eigenvectors_left (build/cythonized/sage/matrix/matrix2.c:45326)\u001b[0;34m()\u001b[0m\n\u001b[1;32m   6085\u001b[0m                         \u001b[0meigval_conj\u001b[0m \u001b[0;34m=\u001b[0m \u001b[0meigval\u001b[0m\u001b[0;34m.\u001b[0m\u001b[0mgalois_conjugates\u001b[0m\u001b[0;34m(\u001b[0m\u001b[0mQQbar\u001b[0m\u001b[0;34m)\u001b[0m\u001b[0;34m\u001b[0m\u001b[0;34m\u001b[0m\u001b[0m\n\u001b[1;32m   6086\u001b[0m                     \u001b[0;32mexcept\u001b[0m \u001b[0mAttributeError\u001b[0m\u001b[0;34m:\u001b[0m\u001b[0;34m\u001b[0m\u001b[0;34m\u001b[0m\u001b[0m\n\u001b[0;32m-> 6087\u001b[0;31m                         \u001b[0;32mraise\u001b[0m \u001b[0mNotImplementedError\u001b[0m\u001b[0;34m(\u001b[0m\u001b[0;34m\"eigenvectors are not implemented for matrices with eigenvalues that are not in the fraction field of the base ring or in QQbar\"\u001b[0m\u001b[0;34m)\u001b[0m\u001b[0;34m\u001b[0m\u001b[0;34m\u001b[0m\u001b[0m\n\u001b[0m\u001b[1;32m   6088\u001b[0m \u001b[0;34m\u001b[0m\u001b[0m\n\u001b[1;32m   6089\u001b[0m                     \u001b[0;32mfor\u001b[0m \u001b[0me\u001b[0m \u001b[0;32min\u001b[0m \u001b[0meigval_conj\u001b[0m\u001b[0;34m:\u001b[0m\u001b[0;34m\u001b[0m\u001b[0;34m\u001b[0m\u001b[0m\n",
      "\u001b[0;31mNotImplementedError\u001b[0m: eigenvectors are not implemented for matrices with eigenvalues that are not in the fraction field of the base ring or in QQbar"
     ]
    }
   ],
   "source": [
    "A=matrix(GF(2),[[0, 1],[1, 1]])\n",
    "print(A)\n",
    "print(\"Polinomio característico: \"+str(A.charpoly()))\n",
    "print(\"Eigenvalores: \"+str(A.eigenvalues()))\n",
    "print(A.eigenvectors_right())"
   ]
  },
  {
   "cell_type": "code",
   "execution_count": 13,
   "metadata": {},
   "outputs": [
    {
     "name": "stdout",
     "output_type": "stream",
     "text": [
      "[2 1 0 0 0]\n",
      "[0 2 0 0 0]\n",
      "[0 0 1 0 0]\n",
      "[0 0 0 2 0]\n",
      "[0 0 0 0 1]\n",
      "Polinomio característico: x^5 - 8*x^4 + 25*x^3 - 38*x^2 + 28*x - 8\n",
      "Eigenvalores: [1, 1, 2, 2, 2]\n",
      "[(1, [\n",
      "(0, 0, 1, 0, 0),\n",
      "(0, 0, 0, 0, 1)\n",
      "], 2), (2, [\n",
      "(1, 0, 0, 0, 0),\n",
      "(0, 0, 0, 1, 0)\n",
      "], 3)]\n"
     ]
    }
   ],
   "source": [
    "A=matrix([[2, 1,0,0,0],[0, 2,0,0,0],[0, 0,1,0,0],[0, 0,0,2,0],[0, 0,0,0,1]])\n",
    "print(A)\n",
    "print(\"Polinomio característico: \"+str(A.charpoly()))\n",
    "print(\"Eigenvalores: \"+str(A.eigenvalues()))\n",
    "print(A.eigenvectors_right())"
   ]
  },
  {
   "cell_type": "code",
   "execution_count": 17,
   "metadata": {},
   "outputs": [
    {
     "data": {
      "text/plain": [
       "[0 0 0 0 0]\n",
       "[0 0 0 0 0]\n",
       "[0 0 0 0 0]\n",
       "[0 0 0 0 0]\n",
       "[0 0 0 0 0]"
      ]
     },
     "execution_count": 17,
     "metadata": {},
     "output_type": "execute_result"
    }
   ],
   "source": [
    "(2*matrix.identity(5)-A)^2*(1*matrix.identity(5)-A)"
   ]
  },
  {
   "cell_type": "code",
   "execution_count": 24,
   "metadata": {},
   "outputs": [
    {
     "data": {
      "text/plain": [
       "-w^3 + 5*w^2 - 8*w + 4"
      ]
     },
     "execution_count": 24,
     "metadata": {},
     "output_type": "execute_result"
    }
   ],
   "source": [
    "var(\"w\")\n",
    "g=(2-w)^2*(1-w)\n",
    "g.expand()"
   ]
  },
  {
   "cell_type": "code",
   "execution_count": 25,
   "metadata": {},
   "outputs": [
    {
     "data": {
      "text/plain": [
       "(-1) * (w - 1) * (w - 2)^2"
      ]
     },
     "execution_count": 25,
     "metadata": {},
     "output_type": "execute_result"
    }
   ],
   "source": [
    " R.<w> = PolynomialRing(QQ)\n",
    "#f = (x-1)^2 * (x-6)^2 * (x^2 + 1)\n",
    "f=-w^3+5*w^2-8*w+4\n",
    "g=(2-w)^2*(1-w)\n",
    "f.factor()"
   ]
  },
  {
   "cell_type": "code",
   "execution_count": 35,
   "metadata": {},
   "outputs": [
    {
     "name": "stdout",
     "output_type": "stream",
     "text": [
      "[3 1 0 0 0 0]\n",
      "[0 3 1 0 0 0]\n",
      "[0 0 3 0 0 0]\n",
      "[0 0 0 2 1 0]\n",
      "[0 0 0 0 2 0]\n",
      "[0 0 0 0 0 2]\n",
      "Polinomio característico: x^6 - 15*x^5 + 93*x^4 - 305*x^3 + 558*x^2 - 540*x + 216\n",
      "Eigenvalores: [3, 3, 3, 2, 2, 2]\n",
      "[(3, [\n",
      "(1, 0, 0, 0, 0, 0)\n",
      "], 3), (2, [\n",
      "(0, 0, 0, 1, 0, 0),\n",
      "(0, 0, 0, 0, 0, 1)\n",
      "], 3)]\n"
     ]
    }
   ],
   "source": [
    "A=matrix(QQbar,[[3, 1,0,0,0,0],[0, 3,1,0,0,0],[0, 0,3,0,0,0],[0, 0,0,2,1,0],[0,0, 0,0,2,0],[0,0,0,0,0,2]])\n",
    "print(A)\n",
    "print(\"Polinomio característico: \"+str(A.charpoly()))\n",
    "print(\"Eigenvalores: \"+str(A.eigenvalues()))\n",
    "print(A.eigenvectors_right())"
   ]
  },
  {
   "cell_type": "code",
   "execution_count": 36,
   "metadata": {},
   "outputs": [
    {
     "data": {
      "text/plain": [
       "False"
      ]
     },
     "execution_count": 36,
     "metadata": {},
     "output_type": "execute_result"
    }
   ],
   "source": [
    "A.is_diagonalizable()"
   ]
  },
  {
   "cell_type": "code",
   "execution_count": null,
   "metadata": {},
   "outputs": [],
   "source": []
  }
 ],
 "metadata": {
  "kernelspec": {
   "display_name": "SageMath 9.0",
   "language": "sage",
   "name": "sagemath"
  },
  "language_info": {
   "codemirror_mode": {
    "name": "ipython",
    "version": 3
   },
   "file_extension": ".py",
   "mimetype": "text/x-python",
   "name": "python",
   "nbconvert_exporter": "python",
   "pygments_lexer": "ipython3",
   "version": "3.7.3"
  }
 },
 "nbformat": 4,
 "nbformat_minor": 2
}
