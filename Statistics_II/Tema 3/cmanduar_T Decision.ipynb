{
 "cells": [
  {
   "cell_type": "markdown",
   "metadata": {
    "slideshow": {
     "slide_type": "slide"
    }
   },
   "source": [
    "# Teoría de la Decisión\n",
    "\n",
    "### ¿Cuál es el Problema?\n",
    "\n",
    "* Un Tomador de decisiones (TD) se propone tomar una decisión racional bajo condiciones de incertidumbre estadística.\n",
    "\n",
    "### ¿Cuáles son las condiciones\n",
    "\n",
    "* El estado de la naturaleza es desconocido\n",
    "* Se puede adquirir información a partir de un experimento"
   ]
  },
  {
   "attachments": {
    "arbolej.png": {
     "image/png": "[encoded data removed]"
    }
   },
   "cell_type": "markdown",
   "metadata": {
    "slideshow": {
     "slide_type": "slide"
    }
   },
   "source": [
    "### El punto de Partida son los árboles de decisión:\n",
    "\n",
    "![arbolej.png](attachment:arbolej.png)"
   ]
  },
  {
   "cell_type": "markdown",
   "metadata": {
    "slideshow": {
     "slide_type": "slide"
    }
   },
   "source": [
    "### ¿Cuáles son los elementos del Problema:\n",
    "\n",
    "* Espacio de las posibles acciones: $\\mathcal{A} = \\left\\{ a \\right\\}$\n",
    "* Espacio de estados posibles de la naturaleza: $\\Theta = \\left\\{ \\theta \\right\\}$\n",
    "* Familia de experimentos para adquirir información sobre $\\Theta$: $E = \\left\\{ e \\right\\}$\n",
    "* Espacio muestral: $X = \\left\\{ x \\right\\}$\n",
    "* Función de utilidad (pérdida): $u \\left( e,x,a,\\theta \\right): E \\times X \\times \\mathcal{A} \\times \\Theta \\rightarrow \\mathbb{R}$\n",
    "* Asignación de probabilidades: $p_{\\theta,X} \\left( \\theta,x | e  \\right) : \\Theta \\times X \\rightarrow \\mathbb{R}^{+}$\n",
    "\n",
    "Hay que considerar:\n",
    "\n",
    "\\begin{equation}\n",
    "P \\left( B|x \\right) = \\frac{\\int_{b} p \\left( x|\\theta \\right) d \\Pi (\\theta)}{\\int_{\\Theta} p \\left( x|\\theta \\right) s \\Pi (\\theta)} = \\frac{\\int_{B} p \\left( x|\\theta \\right) d \\Pi (\\theta)}{m(x)}\n",
    "\\end{equation}"
   ]
  },
  {
   "cell_type": "markdown",
   "metadata": {
    "slideshow": {
     "slide_type": "slide"
    }
   },
   "source": [
    "Por conveniencia se omite el experimentos. Y se considera que $B = \\theta$, entonces:\n",
    "\n",
    "\\begin{equation}\n",
    "p_{\\theta|X} \\left(\\theta|x\\right) = \\frac{p_{X|\\theta} \\left( x|\\theta \\right)\\pi (\\theta)}{m(x)}\n",
    "\\end{equation}\n",
    "\n",
    "Donde:\n",
    "\n",
    "* $p_{X|\\theta}$ es la verosimilitud de la observación condicionada al parámetro\n",
    "* $\\pi (\\theta)$ : es la densidad a priori\n",
    "* $m(x)$: es la densidad predictiva de las observaciones\n",
    "* $p_{\\theta|X} \\left( \\theta|x \\right)$: es la densidad a posteriori\n",
    "\n",
    "\n",
    "Entonces, las alternativas para asignar la densidad conjunta $p_{\\theta,X} \\left( \\theta,x | e  \\right)$ son:\n",
    "\n",
    "* Directamente\n",
    "* $p\\left(\\theta | x \\right)m(x)$\n",
    "* $p \\left( x|\\theta \\right)\\pi(\\theta)$ (la más usual)"
   ]
  },
  {
   "attachments": {
    "juegotdn.png": {
     "image/png": "[encoded data removed]"
    }
   },
   "cell_type": "markdown",
   "metadata": {
    "slideshow": {
     "slide_type": "slide"
    }
   },
   "source": [
    "### Cuáles son los pasos:\n",
    "\n",
    "* TD escoge $e$\n",
    "* N escoge $x$\n",
    "* TD escoge $a$\n",
    "* N escoge $\\theta$\n",
    "* TD recibe $u\\left( e,x,a,\\theta \\right)$\n",
    "\n",
    "![juegotdn.png](attachment:juegotdn.png)"
   ]
  },
  {
   "cell_type": "markdown",
   "metadata": {
    "slideshow": {
     "slide_type": "slide"
    }
   },
   "source": [
    "### Veamos un ejemplo:\n",
    "\n",
    "Una empresa compra la materia prima a dos proveedores A y B, cuya calidad se muestra en la tabla siguiente:\n",
    "\n",
    "|Piezas Defectuosas|Probabilidad del Proveedor A|Probabiidad del Proveedor B|\n",
    "|------------------|----------------------------|---------------------------|\n",
    "| 1%               | 0.80                       | 0.40                      |\n",
    "| 2%               | 0.10                       | 0.30                      |\n",
    "| 3%               | 0.10                       | 0.30                      |\n",
    "\n",
    "La probabilidad de recibir un lote del proveedor A en el que haya un 1% de piezas defectuosas es del 70%. Los pedidos que realiza la empresa ascienden a 1.000 piezas. Una pieza defectuosa puede ser reparada por 1 euro. Si bien tal y como indica la tabla la calidad del proveedor B es menor, éste está dispuesto a vender las 1.000 piezas por 10 euros menos que el proveedor A.\n",
    "\n",
    "¿Cuál proveedor se debe utilizar?"
   ]
  },
  {
   "cell_type": "markdown",
   "metadata": {
    "slideshow": {
     "slide_type": "slide"
    }
   },
   "source": [
    "#### Pasos\n",
    "1. Enumere las alternativas: Proveedor A, Proveedor B\n",
    "2. Enumere las alternativas y los estados de la naturaleza\n",
    "\n",
    "| Alternativas | Estados de la Naturaleza |\n",
    "|:------------:|:------------------------:|\n",
    "|  Proveedor A | 1% de piezas defectuosas |\n",
    "|  Proveedor A | 2% de piezas defectuosas |\n",
    "|  Proveedor A | 3% de piezas defectuosas |\n",
    "|  Proveedor B | 1% de piezas defectuosas |\n",
    "|  Proveedor B | 2% de piezas defectuosas |\n",
    "|  Proveedor B | 3% de piezas defectuosas |"
   ]
  },
  {
   "cell_type": "markdown",
   "metadata": {
    "slideshow": {
     "slide_type": "slide"
    }
   },
   "source": [
    "3. Especifique el árbol de decisión:\n",
    "\n",
    "$$\n",
    "\\begin{cases}\n",
    "\\text{Proveedor A}\n",
    "\\begin{cases}\n",
    "\\text{1% Defectuoso}\\\\\n",
    "\\\\\n",
    "\\text{2% Defectuoso}\\\\\n",
    "\\\\\n",
    "\\text{3% Defectuoso}\\\\\n",
    "\\end{cases}\\\\\n",
    "\\\\\n",
    "\\\\\n",
    "\\text{Proveedor B}\n",
    "\\begin{cases}\n",
    "\\text{1% Defectuoso}\\\\\n",
    "\\\\\n",
    "\\text{2% Defectuoso}\\\\\n",
    "\\\\\n",
    "\\text{3% Defectuoso}\\\\\n",
    "\\end{cases}\n",
    "\\end{cases}\n",
    "$$"
   ]
  },
  {
   "cell_type": "markdown",
   "metadata": {},
   "source": [
    "4. Asigne Probabilidades\n",
    "\n",
    "$$\n",
    "\\begin{cases}\n",
    "\\text{Proveedor A}\n",
    "\\begin{cases}\n",
    "\\text{1% Defectuoso} - (0.80)\\\\\n",
    "\\\\\n",
    "\\text{2% Defectuoso} - (0.10)\\\\\n",
    "\\\\\n",
    "\\text{3% Defectuoso} - (0.10)\\\\\n",
    "\\end{cases}\\\\\n",
    "\\\\\n",
    "\\\\\n",
    "\\text{Proveedor B}\n",
    "\\begin{cases}\n",
    "\\text{1% Defectuoso} - (0.40)\\\\\n",
    "\\\\\n",
    "\\text{2% Defectuoso} - (0.30)\\\\\n",
    "\\\\\n",
    "\\text{3% Defectuoso} - (0.30)\\\\\n",
    "\\end{cases}\n",
    "\\end{cases}\n",
    "$$"
   ]
  },
  {
   "cell_type": "markdown",
   "metadata": {
    "slideshow": {
     "slide_type": "slide"
    }
   },
   "source": [
    "5. Calcule el costo\n",
    "\n",
    "Como se tienen pedidos de 1000 piezas, entonces:\n",
    "\n",
    "* 1% Defectuosas: $1000 \\times 0.01 = 10$\n",
    "* 2% Defectuosas: $1000 \\times 0.02 = 20$\n",
    "* 3% Defectuosas: $1000 \\times 0.03 = 30$\n",
    "\n",
    "Cada pieza puede ser reparada por 1 EU, entonces:\n",
    "\n",
    "* Proveedor B:\n",
    "    * 1% Defectuosas: 10 EU\n",
    "    * 2% Defectuosas: 20 EU\n",
    "    * 3% Defectuosas: 30 EU\n",
    "\n",
    "Para el proveedor A, es 10 EU superior"
   ]
  },
  {
   "cell_type": "markdown",
   "metadata": {},
   "source": [
    "$$\n",
    "\\begin{cases}\n",
    "\\text{Proveedor A}\n",
    "\\begin{cases}\n",
    "\\text{1% Defectuoso} - (0.80) | 20 EU\\\\\n",
    "\\\\\n",
    "\\text{2% Defectuoso} - (0.10) | 30 EU\\\\\n",
    "\\\\\n",
    "\\text{3% Defectuoso} - (0.10) | 40 EU\\\\\n",
    "\\end{cases}\\\\\n",
    "\\\\\n",
    "\\\\\n",
    "\\text{Proveedor B}\n",
    "\\begin{cases}\n",
    "\\text{1% Defectuoso} - (0.40) | 10 EU\\\\\n",
    "\\\\\n",
    "\\text{2% Defectuoso} - (0.30) | 20 EU\\\\\n",
    "\\\\\n",
    "\\text{3% Defectuoso} - (0.30) | 30 EU\\\\\n",
    "\\end{cases}\n",
    "\\end{cases}\n",
    "$$"
   ]
  },
  {
   "cell_type": "markdown",
   "metadata": {
    "slideshow": {
     "slide_type": "slide"
    }
   },
   "source": [
    "6. Resuelva el árbol:\n",
    "\n",
    "    * Proveedor A:\n",
    "$$\n",
    "(20*0.8)+(30*0.1)+(40*0.1) = 23\n",
    "$$\n",
    "\n",
    "    * Proveedor B:\n",
    "$$\n",
    "(10*0.4)+(20*0.3)+(30*0.3) = 19\n",
    "$$\n",
    "\n",
    "Veamos si es posible hacerlo en R"
   ]
  },
  {
   "cell_type": "code",
   "execution_count": 1,
   "metadata": {
    "slideshow": {
     "slide_type": "slide"
    }
   },
   "outputs": [],
   "source": [
    "# Se debe construir los vectores para cada proveeedor:\n",
    "CA<-matrix(c(20,30,40),ncol=3)\n",
    "PA<-matrix(c(0.8,0.1,0.1), ncol=1)\n",
    "\n",
    "CB<-matrix(c(10,20,30),ncol=3) \n",
    "PB<-matrix(c(0.4,0.3,0.3), ncol=1)"
   ]
  },
  {
   "cell_type": "code",
   "execution_count": 3,
   "metadata": {
    "slideshow": {
     "slide_type": "slide"
    }
   },
   "outputs": [
    {
     "data": {
      "text/html": [
       "<table>\n",
       "<caption>A matrix: 1 × 3 of type dbl</caption>\n",
       "<tbody>\n",
       "\t<tr><td>20</td><td>30</td><td>40</td></tr>\n",
       "</tbody>\n",
       "</table>\n"
      ],
      "text/latex": [
       "A matrix: 1 × 3 of type dbl\n",
       "\\begin{tabular}{lll}\n",
       "\t 20 & 30 & 40\\\\\n",
       "\\end{tabular}\n"
      ],
      "text/markdown": [
       "\n",
       "A matrix: 1 × 3 of type dbl\n",
       "\n",
       "| 20 | 30 | 40 |\n",
       "\n"
      ],
      "text/plain": [
       "     [,1] [,2] [,3]\n",
       "[1,] 20   30   40  "
      ]
     },
     "metadata": {},
     "output_type": "display_data"
    },
    {
     "data": {
      "text/html": [
       "<table>\n",
       "<caption>A matrix: 3 × 1 of type dbl</caption>\n",
       "<tbody>\n",
       "\t<tr><td>0.8</td></tr>\n",
       "\t<tr><td>0.1</td></tr>\n",
       "\t<tr><td>0.1</td></tr>\n",
       "</tbody>\n",
       "</table>\n"
      ],
      "text/latex": [
       "A matrix: 3 × 1 of type dbl\n",
       "\\begin{tabular}{l}\n",
       "\t 0.8\\\\\n",
       "\t 0.1\\\\\n",
       "\t 0.1\\\\\n",
       "\\end{tabular}\n"
      ],
      "text/markdown": [
       "\n",
       "A matrix: 3 × 1 of type dbl\n",
       "\n",
       "| 0.8 |\n",
       "| 0.1 |\n",
       "| 0.1 |\n",
       "\n"
      ],
      "text/plain": [
       "     [,1]\n",
       "[1,] 0.8 \n",
       "[2,] 0.1 \n",
       "[3,] 0.1 "
      ]
     },
     "metadata": {},
     "output_type": "display_data"
    },
    {
     "data": {
      "text/html": [
       "<table>\n",
       "<caption>A matrix: 1 × 3 of type dbl</caption>\n",
       "<tbody>\n",
       "\t<tr><td>10</td><td>20</td><td>30</td></tr>\n",
       "</tbody>\n",
       "</table>\n"
      ],
      "text/latex": [
       "A matrix: 1 × 3 of type dbl\n",
       "\\begin{tabular}{lll}\n",
       "\t 10 & 20 & 30\\\\\n",
       "\\end{tabular}\n"
      ],
      "text/markdown": [
       "\n",
       "A matrix: 1 × 3 of type dbl\n",
       "\n",
       "| 10 | 20 | 30 |\n",
       "\n"
      ],
      "text/plain": [
       "     [,1] [,2] [,3]\n",
       "[1,] 10   20   30  "
      ]
     },
     "metadata": {},
     "output_type": "display_data"
    },
    {
     "data": {
      "text/html": [
       "<table>\n",
       "<caption>A matrix: 3 × 1 of type dbl</caption>\n",
       "<tbody>\n",
       "\t<tr><td>0.4</td></tr>\n",
       "\t<tr><td>0.3</td></tr>\n",
       "\t<tr><td>0.3</td></tr>\n",
       "</tbody>\n",
       "</table>\n"
      ],
      "text/latex": [
       "A matrix: 3 × 1 of type dbl\n",
       "\\begin{tabular}{l}\n",
       "\t 0.4\\\\\n",
       "\t 0.3\\\\\n",
       "\t 0.3\\\\\n",
       "\\end{tabular}\n"
      ],
      "text/markdown": [
       "\n",
       "A matrix: 3 × 1 of type dbl\n",
       "\n",
       "| 0.4 |\n",
       "| 0.3 |\n",
       "| 0.3 |\n",
       "\n"
      ],
      "text/plain": [
       "     [,1]\n",
       "[1,] 0.4 \n",
       "[2,] 0.3 \n",
       "[3,] 0.3 "
      ]
     },
     "metadata": {},
     "output_type": "display_data"
    }
   ],
   "source": [
    "CA;PA;CB;PB"
   ]
  },
  {
   "cell_type": "code",
   "execution_count": 4,
   "metadata": {
    "slideshow": {
     "slide_type": "slide"
    }
   },
   "outputs": [
    {
     "data": {
      "text/html": [
       "<table>\n",
       "<caption>A matrix: 1 × 1 of type dbl</caption>\n",
       "<tbody>\n",
       "\t<tr><td>23</td></tr>\n",
       "</tbody>\n",
       "</table>\n"
      ],
      "text/latex": [
       "A matrix: 1 × 1 of type dbl\n",
       "\\begin{tabular}{l}\n",
       "\t 23\\\\\n",
       "\\end{tabular}\n"
      ],
      "text/markdown": [
       "\n",
       "A matrix: 1 × 1 of type dbl\n",
       "\n",
       "| 23 |\n",
       "\n"
      ],
      "text/plain": [
       "     [,1]\n",
       "[1,] 23  "
      ]
     },
     "metadata": {},
     "output_type": "display_data"
    }
   ],
   "source": [
    "# CALCULAMOS LAS PÉRDIDAS\n",
    "CA%*%PA"
   ]
  },
  {
   "cell_type": "code",
   "execution_count": 5,
   "metadata": {
    "slideshow": {
     "slide_type": "slide"
    }
   },
   "outputs": [
    {
     "data": {
      "text/html": [
       "<table>\n",
       "<caption>A matrix: 1 × 1 of type dbl</caption>\n",
       "<tbody>\n",
       "\t<tr><td>19</td></tr>\n",
       "</tbody>\n",
       "</table>\n"
      ],
      "text/latex": [
       "A matrix: 1 × 1 of type dbl\n",
       "\\begin{tabular}{l}\n",
       "\t 19\\\\\n",
       "\\end{tabular}\n"
      ],
      "text/markdown": [
       "\n",
       "A matrix: 1 × 1 of type dbl\n",
       "\n",
       "| 19 |\n",
       "\n"
      ],
      "text/plain": [
       "     [,1]\n",
       "[1,] 19  "
      ]
     },
     "metadata": {},
     "output_type": "display_data"
    }
   ],
   "source": [
    "# CALCULAMOS LAS PÉRDIDAS\n",
    "CB%*%PB"
   ]
  }
 ],
 "metadata": {
  "celltoolbar": "Slideshow",
  "kernelspec": {
   "display_name": "R",
   "language": "R",
   "name": "ir"
  },
  "language_info": {
   "codemirror_mode": "r",
   "file_extension": ".r",
   "mimetype": "text/x-r-source",
   "name": "R",
   "pygments_lexer": "r",
   "version": "3.6.1"
  }
 },
 "nbformat": 4,
 "nbformat_minor": 2
}
