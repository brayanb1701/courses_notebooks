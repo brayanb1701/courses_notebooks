{
 "cells": [
  {
   "cell_type": "markdown",
   "metadata": {},
   "source": [
    "<div style=\"text-align: justify\">\n",
    "<font size=6><br>\n",
    "<h4 align=\"center\">Estadística II</h4></font><font size=5><h4 align=\"center\">Grupo F1</h4></font> \n",
    "\n",
    "<font size=5><h4 align=\"left\">Intregrantes: </h4></font>      \n",
    "2172016 - Kevin Javier Lozano Galvis<br><br>\n",
    "2170688 - Brayan Rodolfo Barajas Ochoa<br><br>\n",
    "2160090 - Kevin Joel Dlaikan Castillo<br> \n",
    "    \n",
    "<font size=5><h4 align=\"center\">Trabajo Muestreo - Inferencia</h4></font>  \n",
    "\n",
    "\n",
    "      \n"
   ]
  },
  {
   "cell_type": "markdown",
   "metadata": {},
   "source": [
    " \n",
    "En los siguientes enlaces encontrará los datos relacionados con los resultados de las pruebas de estado para las Instituciones de Educación Superior (IES) colombianas de carácter universitario de los últimos tres (3) años: <br>\n",
    "\n",
    "https://www.dropbox.com/s/xgsf3l5gjw0h0q4/saberpro.RData?dl=1\n",
    "\n",
    "Considere estos datos como una población finita. Las variables que componen la tabla son:\n",
    "\n",
    "- **periodo:** año de realización de la prueba. La variable se presenta fragmentada debido al origen de los datos. Requiere agruparse adecuadamente. Para ello, consulte la función `revalue` y describa, brevemente, su funcionamiento.\n",
    "- **apli_consecutivo:** consecutivo asignado al estudiante en el momento de presentar la prueba. Único por estudiante. \n",
    "- **estu_depto_reside:** departamento de residencia del estudiante.\n",
    "- **estu_cod_reside_depto:** código DANE del departamento de residencia del estudiante.\n",
    "- **inst_cod_institucion:** código de la IES ante el ministerio. Único por Institución.\n",
    "- **inst_nombre_institucion:** Nombre de la Institución. Algunas presentan sedes y subsedes.\n",
    "- **raz_cuant_punt:** Puntaje Razonamiento Cuantitativo.\n",
    "- **raz_cuant_des:** Nivel de Desempeño Razonamiento Cuantitativo (categórica).\n",
    "- **lect_crit_punt:** Puntaje Lectura Crítica.\n",
    "- **lect_crit_des:** Nivel de Desempeño Lectura Crítica (categórica).\n",
    "- **comp_ciud_punt:** Puntaje Competencias Ciudadanas.\n",
    "- **comp_ciud_des:** Nivel de Desempeño Competencias Ciudadanas (categórica).\n",
    "- **ingles_punt:** Puntaje Inglés.\n",
    "- **ingles_desem:** Nivel de Desempeño en Inglés (categórica).\n",
    "- **comu_escr_punt:** Puntaje Comunicación Escrita.\n",
    "- **comu_escr_des:** Nivel de Desempeño Comunicación Escrita (categórica).\n",
    "\n",
    "Tenga en cuenta que algunas variables categóricas figuran como numéricas, haga la correspondiente transformación.\n",
    "\n",
    "Los puntos a desarrollar son:\n",
    "\n",
    "1. Realice muestreo aleatorio simple y realice las estimaciones (inferencia) correspondientes. Tenga en cuenta que son múltiples variables\n",
    "2. Realice los correspondientes muestreos estratificados y compare los resultados con los anteriores. Explique las diferencias y/o similitudes\n",
    "3. Realice los correspondientes muestreos por conglomerados y compare los resultados con los puntos 1 y 2. Explique las diferencias y/o similitudes\n",
    "4. ¿Considera que es procedente realizar un muestreo sistemático? Argumente su respuesta\n",
    "5. Si la respuesta del punto 4 fue positiva, realice el correspondiente muestreo y compare con los anteriores\n",
    "6. Para las estimaciones emplee los siguientes niveles de confianza: 90%, 95% y 99%.\n",
    "\n",
    "El trabajo puede entregarse en formato PDF o como notebook de jupyter\n",
    "\n",
    "**Recomendaciones:**\n",
    "\n",
    "- Procure tabular de manera adecuada las estimaciones para optimizar espacio\n",
    "- Evite extenderse en las explicaciones\n",
    "- Trate de optimizar el uso de gráficas (visite el siguiente repositorio si desea una guía: https://github.com/karlosmantilla/graficas-basicas-descriptivas-\n",
    "- Referencie las fórmulas empleadas en los cálculos"
   ]
  },
  {
   "cell_type": "markdown",
   "metadata": {},
   "source": [
    "<h3 align=\"center\">Desarrollo</h3><br> "
   ]
  },
  {
   "cell_type": "markdown",
   "metadata": {},
   "source": [
    "Nota: Para las fórmulas empleadas en los cálculos de inferencia se colocarán únicamente en el primer muestreo, ya que en los demás se trabajará de la misma manera."
   ]
  },
  {
   "cell_type": "code",
   "execution_count": 39,
   "metadata": {},
   "outputs": [],
   "source": [
    "load(url('https://www.dropbox.com/s/xgsf3l5gjw0h0q4/saberpro.RData?dl=1')) # Se carga la Data esde una url"
   ]
  },
  {
   "cell_type": "code",
   "execution_count": 40,
   "metadata": {},
   "outputs": [
    {
     "data": {
      "text/html": [
       "<style>\n",
       ".list-inline {list-style: none; margin:0; padding: 0}\n",
       ".list-inline>li {display: inline-block}\n",
       ".list-inline>li:not(:last-child)::after {content: \"\\00b7\"; padding: 0 .5ex}\n",
       "</style>\n",
       "<ol class=list-inline><li>'d.comp_ciud'</li><li>'d.lect_crit'</li><li>'d.mas'</li><li>'d.mmecomp'</li><li>'d.mmelect'</li><li>'d.mmeraz'</li><li>'d.raz_cuant'</li><li>'data'</li><li>'datacomp'</li><li>'datalect'</li><li>'dataraz'</li><li>'dcomp'</li><li>'dlect'</li><li>'draz'</li><li>'EMVcomp.ciud.mas'</li><li>'EMVcomp.ciud.me'</li><li>'EMVlect.crit.mas'</li><li>'EMVlect.crit.me'</li><li>'EMVraz.cuant.mas'</li><li>'EMVraz.cuant.me'</li><li>'EstratosComp'</li><li>'EstratosLect'</li><li>'EstratosRaz'</li><li>'inf_manual'</li><li>'infmas_comp_ciud90'</li><li>'infmas_comp_ciud95'</li><li>'infmas_comp_ciud99'</li><li>'infmas_lect_crit90'</li><li>'infmas_lect_crit95'</li><li>'infmas_lect_crit99'</li><li>'infmas_raz_cuant90'</li><li>'infmas_raz_cuant95'</li><li>'infmas_raz_cuant99'</li><li>'mas'</li><li>'mestratocomp'</li><li>'mestratolect'</li><li>'mestratoraz'</li><li>'muestraaceptableComp'</li><li>'muestraaceptableLect'</li><li>'muestraaceptableRaz'</li><li>'muestrabuenoComp'</li><li>'muestrabuenoLect'</li><li>'muestrabuenoRaz'</li><li>'muestradeficienteComp'</li><li>'muestradeficienteLect'</li><li>'muestradeficienteRaz'</li><li>'muestraexcelenteComp'</li><li>'muestraexcelenteLect'</li><li>'muestraexcelenteRaz'</li><li>'mystats'</li><li>'NegLogLikcompciud'</li><li>'NegLogLiklectcrit'</li><li>'NegLogLikrazcuant'</li><li>'nsizeProp384comp'</li><li>'nsizeProp384lect'</li><li>'nsizeProp384raz'</li><li>'pcomp'</li><li>'plect'</li><li>'praz'</li><li>'sp161718'</li><li>'stats.comp.ciud'</li><li>'stats.lect.crit'</li><li>'stats.mas.comp.ciud'</li><li>'stats.mas.lect.crit'</li><li>'stats.mas.raz.cuant'</li><li>'stats.mmecomp.comp.ciud'</li><li>'stats.mmelect.lect.crit'</li><li>'stats.mmeraz.raz.cuant'</li><li>'stats.raz.cuant'</li><li>'temp'</li><li>'tmuestra'</li></ol>\n"
      ],
      "text/latex": [
       "\\begin{enumerate*}\n",
       "\\item 'd.comp\\_ciud'\n",
       "\\item 'd.lect\\_crit'\n",
       "\\item 'd.mas'\n",
       "\\item 'd.mmecomp'\n",
       "\\item 'd.mmelect'\n",
       "\\item 'd.mmeraz'\n",
       "\\item 'd.raz\\_cuant'\n",
       "\\item 'data'\n",
       "\\item 'datacomp'\n",
       "\\item 'datalect'\n",
       "\\item 'dataraz'\n",
       "\\item 'dcomp'\n",
       "\\item 'dlect'\n",
       "\\item 'draz'\n",
       "\\item 'EMVcomp.ciud.mas'\n",
       "\\item 'EMVcomp.ciud.me'\n",
       "\\item 'EMVlect.crit.mas'\n",
       "\\item 'EMVlect.crit.me'\n",
       "\\item 'EMVraz.cuant.mas'\n",
       "\\item 'EMVraz.cuant.me'\n",
       "\\item 'EstratosComp'\n",
       "\\item 'EstratosLect'\n",
       "\\item 'EstratosRaz'\n",
       "\\item 'inf\\_manual'\n",
       "\\item 'infmas\\_comp\\_ciud90'\n",
       "\\item 'infmas\\_comp\\_ciud95'\n",
       "\\item 'infmas\\_comp\\_ciud99'\n",
       "\\item 'infmas\\_lect\\_crit90'\n",
       "\\item 'infmas\\_lect\\_crit95'\n",
       "\\item 'infmas\\_lect\\_crit99'\n",
       "\\item 'infmas\\_raz\\_cuant90'\n",
       "\\item 'infmas\\_raz\\_cuant95'\n",
       "\\item 'infmas\\_raz\\_cuant99'\n",
       "\\item 'mas'\n",
       "\\item 'mestratocomp'\n",
       "\\item 'mestratolect'\n",
       "\\item 'mestratoraz'\n",
       "\\item 'muestraaceptableComp'\n",
       "\\item 'muestraaceptableLect'\n",
       "\\item 'muestraaceptableRaz'\n",
       "\\item 'muestrabuenoComp'\n",
       "\\item 'muestrabuenoLect'\n",
       "\\item 'muestrabuenoRaz'\n",
       "\\item 'muestradeficienteComp'\n",
       "\\item 'muestradeficienteLect'\n",
       "\\item 'muestradeficienteRaz'\n",
       "\\item 'muestraexcelenteComp'\n",
       "\\item 'muestraexcelenteLect'\n",
       "\\item 'muestraexcelenteRaz'\n",
       "\\item 'mystats'\n",
       "\\item 'NegLogLikcompciud'\n",
       "\\item 'NegLogLiklectcrit'\n",
       "\\item 'NegLogLikrazcuant'\n",
       "\\item 'nsizeProp384comp'\n",
       "\\item 'nsizeProp384lect'\n",
       "\\item 'nsizeProp384raz'\n",
       "\\item 'pcomp'\n",
       "\\item 'plect'\n",
       "\\item 'praz'\n",
       "\\item 'sp161718'\n",
       "\\item 'stats.comp.ciud'\n",
       "\\item 'stats.lect.crit'\n",
       "\\item 'stats.mas.comp.ciud'\n",
       "\\item 'stats.mas.lect.crit'\n",
       "\\item 'stats.mas.raz.cuant'\n",
       "\\item 'stats.mmecomp.comp.ciud'\n",
       "\\item 'stats.mmelect.lect.crit'\n",
       "\\item 'stats.mmeraz.raz.cuant'\n",
       "\\item 'stats.raz.cuant'\n",
       "\\item 'temp'\n",
       "\\item 'tmuestra'\n",
       "\\end{enumerate*}\n"
      ],
      "text/markdown": [
       "1. 'd.comp_ciud'\n",
       "2. 'd.lect_crit'\n",
       "3. 'd.mas'\n",
       "4. 'd.mmecomp'\n",
       "5. 'd.mmelect'\n",
       "6. 'd.mmeraz'\n",
       "7. 'd.raz_cuant'\n",
       "8. 'data'\n",
       "9. 'datacomp'\n",
       "10. 'datalect'\n",
       "11. 'dataraz'\n",
       "12. 'dcomp'\n",
       "13. 'dlect'\n",
       "14. 'draz'\n",
       "15. 'EMVcomp.ciud.mas'\n",
       "16. 'EMVcomp.ciud.me'\n",
       "17. 'EMVlect.crit.mas'\n",
       "18. 'EMVlect.crit.me'\n",
       "19. 'EMVraz.cuant.mas'\n",
       "20. 'EMVraz.cuant.me'\n",
       "21. 'EstratosComp'\n",
       "22. 'EstratosLect'\n",
       "23. 'EstratosRaz'\n",
       "24. 'inf_manual'\n",
       "25. 'infmas_comp_ciud90'\n",
       "26. 'infmas_comp_ciud95'\n",
       "27. 'infmas_comp_ciud99'\n",
       "28. 'infmas_lect_crit90'\n",
       "29. 'infmas_lect_crit95'\n",
       "30. 'infmas_lect_crit99'\n",
       "31. 'infmas_raz_cuant90'\n",
       "32. 'infmas_raz_cuant95'\n",
       "33. 'infmas_raz_cuant99'\n",
       "34. 'mas'\n",
       "35. 'mestratocomp'\n",
       "36. 'mestratolect'\n",
       "37. 'mestratoraz'\n",
       "38. 'muestraaceptableComp'\n",
       "39. 'muestraaceptableLect'\n",
       "40. 'muestraaceptableRaz'\n",
       "41. 'muestrabuenoComp'\n",
       "42. 'muestrabuenoLect'\n",
       "43. 'muestrabuenoRaz'\n",
       "44. 'muestradeficienteComp'\n",
       "45. 'muestradeficienteLect'\n",
       "46. 'muestradeficienteRaz'\n",
       "47. 'muestraexcelenteComp'\n",
       "48. 'muestraexcelenteLect'\n",
       "49. 'muestraexcelenteRaz'\n",
       "50. 'mystats'\n",
       "51. 'NegLogLikcompciud'\n",
       "52. 'NegLogLiklectcrit'\n",
       "53. 'NegLogLikrazcuant'\n",
       "54. 'nsizeProp384comp'\n",
       "55. 'nsizeProp384lect'\n",
       "56. 'nsizeProp384raz'\n",
       "57. 'pcomp'\n",
       "58. 'plect'\n",
       "59. 'praz'\n",
       "60. 'sp161718'\n",
       "61. 'stats.comp.ciud'\n",
       "62. 'stats.lect.crit'\n",
       "63. 'stats.mas.comp.ciud'\n",
       "64. 'stats.mas.lect.crit'\n",
       "65. 'stats.mas.raz.cuant'\n",
       "66. 'stats.mmecomp.comp.ciud'\n",
       "67. 'stats.mmelect.lect.crit'\n",
       "68. 'stats.mmeraz.raz.cuant'\n",
       "69. 'stats.raz.cuant'\n",
       "70. 'temp'\n",
       "71. 'tmuestra'\n",
       "\n",
       "\n"
      ],
      "text/plain": [
       " [1] \"d.comp_ciud\"             \"d.lect_crit\"            \n",
       " [3] \"d.mas\"                   \"d.mmecomp\"              \n",
       " [5] \"d.mmelect\"               \"d.mmeraz\"               \n",
       " [7] \"d.raz_cuant\"             \"data\"                   \n",
       " [9] \"datacomp\"                \"datalect\"               \n",
       "[11] \"dataraz\"                 \"dcomp\"                  \n",
       "[13] \"dlect\"                   \"draz\"                   \n",
       "[15] \"EMVcomp.ciud.mas\"        \"EMVcomp.ciud.me\"        \n",
       "[17] \"EMVlect.crit.mas\"        \"EMVlect.crit.me\"        \n",
       "[19] \"EMVraz.cuant.mas\"        \"EMVraz.cuant.me\"        \n",
       "[21] \"EstratosComp\"            \"EstratosLect\"           \n",
       "[23] \"EstratosRaz\"             \"inf_manual\"             \n",
       "[25] \"infmas_comp_ciud90\"      \"infmas_comp_ciud95\"     \n",
       "[27] \"infmas_comp_ciud99\"      \"infmas_lect_crit90\"     \n",
       "[29] \"infmas_lect_crit95\"      \"infmas_lect_crit99\"     \n",
       "[31] \"infmas_raz_cuant90\"      \"infmas_raz_cuant95\"     \n",
       "[33] \"infmas_raz_cuant99\"      \"mas\"                    \n",
       "[35] \"mestratocomp\"            \"mestratolect\"           \n",
       "[37] \"mestratoraz\"             \"muestraaceptableComp\"   \n",
       "[39] \"muestraaceptableLect\"    \"muestraaceptableRaz\"    \n",
       "[41] \"muestrabuenoComp\"        \"muestrabuenoLect\"       \n",
       "[43] \"muestrabuenoRaz\"         \"muestradeficienteComp\"  \n",
       "[45] \"muestradeficienteLect\"   \"muestradeficienteRaz\"   \n",
       "[47] \"muestraexcelenteComp\"    \"muestraexcelenteLect\"   \n",
       "[49] \"muestraexcelenteRaz\"     \"mystats\"                \n",
       "[51] \"NegLogLikcompciud\"       \"NegLogLiklectcrit\"      \n",
       "[53] \"NegLogLikrazcuant\"       \"nsizeProp384comp\"       \n",
       "[55] \"nsizeProp384lect\"        \"nsizeProp384raz\"        \n",
       "[57] \"pcomp\"                   \"plect\"                  \n",
       "[59] \"praz\"                    \"sp161718\"               \n",
       "[61] \"stats.comp.ciud\"         \"stats.lect.crit\"        \n",
       "[63] \"stats.mas.comp.ciud\"     \"stats.mas.lect.crit\"    \n",
       "[65] \"stats.mas.raz.cuant\"     \"stats.mmecomp.comp.ciud\"\n",
       "[67] \"stats.mmelect.lect.crit\" \"stats.mmeraz.raz.cuant\" \n",
       "[69] \"stats.raz.cuant\"         \"temp\"                   \n",
       "[71] \"tmuestra\"               "
      ]
     },
     "metadata": {},
     "output_type": "display_data"
    },
    {
     "data": {
      "text/html": [
       "<style>\n",
       ".list-inline {list-style: none; margin:0; padding: 0}\n",
       ".list-inline>li {display: inline-block}\n",
       ".list-inline>li:not(:last-child)::after {content: \"\\00b7\"; padding: 0 .5ex}\n",
       "</style>\n",
       "<ol class=list-inline><li>725295</li><li>16</li></ol>\n"
      ],
      "text/latex": [
       "\\begin{enumerate*}\n",
       "\\item 725295\n",
       "\\item 16\n",
       "\\end{enumerate*}\n"
      ],
      "text/markdown": [
       "1. 725295\n",
       "2. 16\n",
       "\n",
       "\n"
      ],
      "text/plain": [
       "[1] 725295     16"
      ]
     },
     "metadata": {},
     "output_type": "display_data"
    },
    {
     "data": {
      "text/html": [
       "<style>\n",
       ".list-inline {list-style: none; margin:0; padding: 0}\n",
       ".list-inline>li {display: inline-block}\n",
       ".list-inline>li:not(:last-child)::after {content: \"\\00b7\"; padding: 0 .5ex}\n",
       "</style>\n",
       "<ol class=list-inline><li>'periodo'</li><li>'apli_consecutivo'</li><li>'estu_depto_reside'</li><li>'estu_cod_reside_depto'</li><li>'inst_cod_institucion'</li><li>'inst_nombre_institucion'</li><li>'raz_cuant_punt'</li><li>'raz_cuant_des'</li><li>'lect_crit_punt'</li><li>'lect_crit_des'</li><li>'comp_ciud_punt'</li><li>'comp_ciud_des'</li><li>'ingles_punt'</li><li>'ingles_desem'</li><li>'comu_escr_punt'</li><li>'comu_escr_des'</li></ol>\n"
      ],
      "text/latex": [
       "\\begin{enumerate*}\n",
       "\\item 'periodo'\n",
       "\\item 'apli\\_consecutivo'\n",
       "\\item 'estu\\_depto\\_reside'\n",
       "\\item 'estu\\_cod\\_reside\\_depto'\n",
       "\\item 'inst\\_cod\\_institucion'\n",
       "\\item 'inst\\_nombre\\_institucion'\n",
       "\\item 'raz\\_cuant\\_punt'\n",
       "\\item 'raz\\_cuant\\_des'\n",
       "\\item 'lect\\_crit\\_punt'\n",
       "\\item 'lect\\_crit\\_des'\n",
       "\\item 'comp\\_ciud\\_punt'\n",
       "\\item 'comp\\_ciud\\_des'\n",
       "\\item 'ingles\\_punt'\n",
       "\\item 'ingles\\_desem'\n",
       "\\item 'comu\\_escr\\_punt'\n",
       "\\item 'comu\\_escr\\_des'\n",
       "\\end{enumerate*}\n"
      ],
      "text/markdown": [
       "1. 'periodo'\n",
       "2. 'apli_consecutivo'\n",
       "3. 'estu_depto_reside'\n",
       "4. 'estu_cod_reside_depto'\n",
       "5. 'inst_cod_institucion'\n",
       "6. 'inst_nombre_institucion'\n",
       "7. 'raz_cuant_punt'\n",
       "8. 'raz_cuant_des'\n",
       "9. 'lect_crit_punt'\n",
       "10. 'lect_crit_des'\n",
       "11. 'comp_ciud_punt'\n",
       "12. 'comp_ciud_des'\n",
       "13. 'ingles_punt'\n",
       "14. 'ingles_desem'\n",
       "15. 'comu_escr_punt'\n",
       "16. 'comu_escr_des'\n",
       "\n",
       "\n"
      ],
      "text/plain": [
       " [1] \"periodo\"                 \"apli_consecutivo\"       \n",
       " [3] \"estu_depto_reside\"       \"estu_cod_reside_depto\"  \n",
       " [5] \"inst_cod_institucion\"    \"inst_nombre_institucion\"\n",
       " [7] \"raz_cuant_punt\"          \"raz_cuant_des\"          \n",
       " [9] \"lect_crit_punt\"          \"lect_crit_des\"          \n",
       "[11] \"comp_ciud_punt\"          \"comp_ciud_des\"          \n",
       "[13] \"ingles_punt\"             \"ingles_desem\"           \n",
       "[15] \"comu_escr_punt\"          \"comu_escr_des\"          "
      ]
     },
     "metadata": {},
     "output_type": "display_data"
    }
   ],
   "source": [
    "ls()\n",
    "dim(sp161718) #dimensiones Dataframe\n",
    "names(sp161718) #Nombres Variables"
   ]
  },
  {
   "cell_type": "markdown",
   "metadata": {},
   "source": [
    "Es importante aclarar que las tres variables a analizar serán razonamiento cuantitativo, lectura crítica y competencias ciudadanas; cada una con su respectiva variable categórica. Además, se incluye el periodo y la variable a utilizar para conglomerados que será departamento"
   ]
  },
  {
   "cell_type": "code",
   "execution_count": 41,
   "metadata": {},
   "outputs": [],
   "source": [
    "data<-data.frame(periodo=sp161718$periodo, departamento=sp161718$estu_depto_reside, raz_cuant_punt=sp161718$raz_cuant_punt, raz_cuant_des=sp161718$raz_cuant_des, lect_crit_punt=sp161718$lect_crit_punt, lect_crit_des=sp161718$lect_crit_des, comp_ciud_punt=sp161718$comp_ciud_punt, comp_ciud_des=sp161718$comp_ciud_des) #Nuevo Dataframe a usar"
   ]
  },
  {
   "cell_type": "code",
   "execution_count": 42,
   "metadata": {},
   "outputs": [
    {
     "data": {
      "text/html": [
       "<style>\n",
       ".list-inline {list-style: none; margin:0; padding: 0}\n",
       ".list-inline>li {display: inline-block}\n",
       ".list-inline>li:not(:last-child)::after {content: \"\\00b7\"; padding: 0 .5ex}\n",
       "</style>\n",
       "<ol class=list-inline><li>20163</li><li>20162</li><li>20173</li><li>20172</li><li>20183</li><li>20182</li><li>20184</li></ol>\n"
      ],
      "text/latex": [
       "\\begin{enumerate*}\n",
       "\\item 20163\n",
       "\\item 20162\n",
       "\\item 20173\n",
       "\\item 20172\n",
       "\\item 20183\n",
       "\\item 20182\n",
       "\\item 20184\n",
       "\\end{enumerate*}\n"
      ],
      "text/markdown": [
       "1. 20163\n",
       "2. 20162\n",
       "3. 20173\n",
       "4. 20172\n",
       "5. 20183\n",
       "6. 20182\n",
       "7. 20184\n",
       "\n",
       "\n"
      ],
      "text/plain": [
       "[1] 20163 20162 20173 20172 20183 20182 20184"
      ]
     },
     "metadata": {},
     "output_type": "display_data"
    },
    {
     "data": {
      "text/html": [
       "<style>\n",
       ".list-inline {list-style: none; margin:0; padding: 0}\n",
       ".list-inline>li {display: inline-block}\n",
       ".list-inline>li:not(:last-child)::after {content: \"\\00b7\"; padding: 0 .5ex}\n",
       "</style>\n",
       "<ol class=list-inline><li>3</li><li>2</li><li>1</li><li>4</li></ol>\n"
      ],
      "text/latex": [
       "\\begin{enumerate*}\n",
       "\\item 3\n",
       "\\item 2\n",
       "\\item 1\n",
       "\\item 4\n",
       "\\end{enumerate*}\n"
      ],
      "text/markdown": [
       "1. 3\n",
       "2. 2\n",
       "3. 1\n",
       "4. 4\n",
       "\n",
       "\n"
      ],
      "text/plain": [
       "[1] 3 2 1 4"
      ]
     },
     "metadata": {},
     "output_type": "display_data"
    }
   ],
   "source": [
    "unique(data$periodo) #Se mira los tipos de periodo para utilizar revalue\n",
    "unique(data$raz_cuant_des) #Se mira los tipos de variable categórica para hacer conversión"
   ]
  },
  {
   "cell_type": "markdown",
   "metadata": {},
   "source": [
    "Primeramente, se hace el ajuste a la columna de periodo, para que esta contenga únicamente el año correspondiente. <br>\n",
    "La función revalue obtiene como parámetros una lista tipo factor y el vector de valores a reemplazar, en donde el índice es el valor a reemplazar y su dato correspondiente es el nuevo valor. "
   ]
  },
  {
   "cell_type": "code",
   "execution_count": 43,
   "metadata": {},
   "outputs": [],
   "source": [
    "library(plyr) #Librería necesaria para revalue"
   ]
  },
  {
   "cell_type": "code",
   "execution_count": 44,
   "metadata": {},
   "outputs": [
    {
     "data": {
      "text/html": [
       "<table>\n",
       "<caption>A data.frame: 6 × 8</caption>\n",
       "<thead>\n",
       "\t<tr><th></th><th scope=col>periodo</th><th scope=col>departamento</th><th scope=col>raz_cuant_punt</th><th scope=col>raz_cuant_des</th><th scope=col>lect_crit_punt</th><th scope=col>lect_crit_des</th><th scope=col>comp_ciud_punt</th><th scope=col>comp_ciud_des</th></tr>\n",
       "\t<tr><th></th><th scope=col>&lt;fct&gt;</th><th scope=col>&lt;fct&gt;</th><th scope=col>&lt;int&gt;</th><th scope=col>&lt;fct&gt;</th><th scope=col>&lt;int&gt;</th><th scope=col>&lt;fct&gt;</th><th scope=col>&lt;int&gt;</th><th scope=col>&lt;fct&gt;</th></tr>\n",
       "</thead>\n",
       "<tbody>\n",
       "\t<tr><th scope=row>1</th><td>2016</td><td>ATLANTICO   </td><td>160</td><td>Bueno    </td><td>130</td><td>Aceptable </td><td>167</td><td>Bueno     </td></tr>\n",
       "\t<tr><th scope=row>2</th><td>2016</td><td>CUNDINAMARCA</td><td>138</td><td>Aceptable</td><td>132</td><td>Aceptable </td><td> 77</td><td>Deficiente</td></tr>\n",
       "\t<tr><th scope=row>3</th><td>2016</td><td>CALDAS      </td><td>146</td><td>Aceptable</td><td>157</td><td>Aceptable </td><td>150</td><td>Aceptable </td></tr>\n",
       "\t<tr><th scope=row>4</th><td>2016</td><td>MAGDALENA   </td><td>160</td><td>Bueno    </td><td>172</td><td>Bueno     </td><td>151</td><td>Aceptable </td></tr>\n",
       "\t<tr><th scope=row>5</th><td>2016</td><td>CORDOBA     </td><td>130</td><td>Aceptable</td><td>122</td><td>Deficiente</td><td>144</td><td>Aceptable </td></tr>\n",
       "\t<tr><th scope=row>6</th><td>2016</td><td>CAUCA       </td><td>159</td><td>Bueno    </td><td>129</td><td>Aceptable </td><td>147</td><td>Aceptable </td></tr>\n",
       "</tbody>\n",
       "</table>\n"
      ],
      "text/latex": [
       "A data.frame: 6 × 8\n",
       "\\begin{tabular}{r|llllllll}\n",
       "  & periodo & departamento & raz\\_cuant\\_punt & raz\\_cuant\\_des & lect\\_crit\\_punt & lect\\_crit\\_des & comp\\_ciud\\_punt & comp\\_ciud\\_des\\\\\n",
       "  & <fct> & <fct> & <int> & <fct> & <int> & <fct> & <int> & <fct>\\\\\n",
       "\\hline\n",
       "\t1 & 2016 & ATLANTICO    & 160 & Bueno     & 130 & Aceptable  & 167 & Bueno     \\\\\n",
       "\t2 & 2016 & CUNDINAMARCA & 138 & Aceptable & 132 & Aceptable  &  77 & Deficiente\\\\\n",
       "\t3 & 2016 & CALDAS       & 146 & Aceptable & 157 & Aceptable  & 150 & Aceptable \\\\\n",
       "\t4 & 2016 & MAGDALENA    & 160 & Bueno     & 172 & Bueno      & 151 & Aceptable \\\\\n",
       "\t5 & 2016 & CORDOBA      & 130 & Aceptable & 122 & Deficiente & 144 & Aceptable \\\\\n",
       "\t6 & 2016 & CAUCA        & 159 & Bueno     & 129 & Aceptable  & 147 & Aceptable \\\\\n",
       "\\end{tabular}\n"
      ],
      "text/markdown": [
       "\n",
       "A data.frame: 6 × 8\n",
       "\n",
       "| <!--/--> | periodo &lt;fct&gt; | departamento &lt;fct&gt; | raz_cuant_punt &lt;int&gt; | raz_cuant_des &lt;fct&gt; | lect_crit_punt &lt;int&gt; | lect_crit_des &lt;fct&gt; | comp_ciud_punt &lt;int&gt; | comp_ciud_des &lt;fct&gt; |\n",
       "|---|---|---|---|---|---|---|---|---|\n",
       "| 1 | 2016 | ATLANTICO    | 160 | Bueno     | 130 | Aceptable  | 167 | Bueno      |\n",
       "| 2 | 2016 | CUNDINAMARCA | 138 | Aceptable | 132 | Aceptable  |  77 | Deficiente |\n",
       "| 3 | 2016 | CALDAS       | 146 | Aceptable | 157 | Aceptable  | 150 | Aceptable  |\n",
       "| 4 | 2016 | MAGDALENA    | 160 | Bueno     | 172 | Bueno      | 151 | Aceptable  |\n",
       "| 5 | 2016 | CORDOBA      | 130 | Aceptable | 122 | Deficiente | 144 | Aceptable  |\n",
       "| 6 | 2016 | CAUCA        | 159 | Bueno     | 129 | Aceptable  | 147 | Aceptable  |\n",
       "\n"
      ],
      "text/plain": [
       "  periodo departamento raz_cuant_punt raz_cuant_des lect_crit_punt\n",
       "1 2016    ATLANTICO    160            Bueno         130           \n",
       "2 2016    CUNDINAMARCA 138            Aceptable     132           \n",
       "3 2016    CALDAS       146            Aceptable     157           \n",
       "4 2016    MAGDALENA    160            Bueno         172           \n",
       "5 2016    CORDOBA      130            Aceptable     122           \n",
       "6 2016    CAUCA        159            Bueno         129           \n",
       "  lect_crit_des comp_ciud_punt comp_ciud_des\n",
       "1 Aceptable     167            Bueno        \n",
       "2 Aceptable      77            Deficiente   \n",
       "3 Aceptable     150            Aceptable    \n",
       "4 Bueno         151            Aceptable    \n",
       "5 Deficiente    144            Aceptable    \n",
       "6 Aceptable     147            Aceptable    "
      ]
     },
     "metadata": {},
     "output_type": "display_data"
    }
   ],
   "source": [
    "temp<-factor(data$periodo) #Para aplicar la función revalue, es necesario pasarle una variable tipo factor\n",
    "#Se hace el ajuste para que periodo sea únicamente el año\n",
    "data$periodo<-revalue(temp, c(\"20163\"=\"2016\", \"20162\"=\"2016\", \"20173\"=\"2017\", \"20172\"=\"2017\",\"20183\"=\"2018\",\"20182\"=\"2018\",\"20184\"=\"2018\")) #Uso de revalue\n",
    "#Se hace la conversion de variables categoricas\n",
    "data$raz_cuant_des<-factor(data$raz_cuant_des, levels = c(1,2,3,4), labels = c(\"Deficiente\",\"Aceptable\",\"Bueno\",\"Excelente\"))\n",
    "data$lect_crit_des<-factor(data$lect_crit_des, levels = c(1,2,3,4), labels = c(\"Deficiente\",\"Aceptable\",\"Bueno\",\"Excelente\")) \n",
    "data$comp_ciud_des<-factor(data$comp_ciud_des, levels = c(1,2,3,4), labels = c(\"Deficiente\",\"Aceptable\",\"Bueno\",\"Excelente\")) \n",
    "head(data) #Se verifica que se hayan hecho los cambios correctamente"
   ]
  },
  {
   "cell_type": "markdown",
   "metadata": {},
   "source": [
    "A continuación se construye el negativo de la función de log-verosimilitud, el cual se usará más adelante para hacer estimación por máxima verosimilitud en cada muestreo. Matemáticamente se define\n",
    "$$\n",
    "{\\large\n",
    "- ln\\, L(\\theta) = - ln \\prod_{i=1}^{n} f\\left( x_{i}|\\theta\\right) = - \\sum_{i=1}^{n} ln\\, f\\left( x_{i}|\\theta\\right)\n",
    "}\n",
    "$$"
   ]
  },
  {
   "cell_type": "code",
   "execution_count": 45,
   "metadata": {},
   "outputs": [],
   "source": [
    "d.raz_cuant<-na.omit(data$raz_cuant_punt) # Para trabajar con los datos muestrales que requerimos\n",
    "NegLogLikrazcuant = function(mu,sigma){-sum(dnorm(d.raz_cuant,mu,sigma,log = TRUE))}\n",
    "\n",
    "d.lect_crit<-na.omit(data$lect_crit_punt) # Para trabajar con los datos muestrales que requerimos\n",
    "NegLogLiklectcrit = function(mu,sigma){-sum(dnorm(d.lect_crit,mu,sigma,log = TRUE))}\n",
    "\n",
    "d.comp_ciud<-na.omit(data$comp_ciud_punt) # Para trabajar con los datos muestrales que requerimos\n",
    "NegLogLikcompciud = function(mu,sigma){-sum(dnorm(d.comp_ciud,mu,sigma,log = TRUE))}"
   ]
  },
  {
   "cell_type": "code",
   "execution_count": 46,
   "metadata": {},
   "outputs": [],
   "source": [
    "#Función para obtener los principales datos estadísticos\n",
    "mystats <- function(x, na.omit=FALSE){\n",
    "  if (na.omit)\n",
    "    x <- x[!is.na(x)]\n",
    "  m <- mean(x)\n",
    "  n <- length(x)\n",
    "  s <- sd(x)\n",
    "  skew <- sum((x-m)^3/s^3)/n\n",
    "  kurt <- sum((x-m)^4/s^4)/n - 3\n",
    "  return(c(\"tamaño\"=n, \"media\"=m, \"desviación estándar\"=s, \"simetría\"=skew, \"kurtosis\"=kurt))\n",
    "}"
   ]
  },
  {
   "cell_type": "code",
   "execution_count": 47,
   "metadata": {},
   "outputs": [
    {
     "data": {
      "text/html": [
       "<table>\n",
       "<caption>A data.frame: 5 × 3</caption>\n",
       "<thead>\n",
       "\t<tr><th></th><th scope=col>stats.raz.cuant</th><th scope=col>stats.lect.crit</th><th scope=col>stats.comp.ciud</th></tr>\n",
       "\t<tr><th></th><th scope=col>&lt;dbl&gt;</th><th scope=col>&lt;dbl&gt;</th><th scope=col>&lt;dbl&gt;</th></tr>\n",
       "</thead>\n",
       "<tbody>\n",
       "\t<tr><th scope=row>tamaño</th><td>725295.0</td><td>725295.0</td><td>725295.0</td></tr>\n",
       "\t<tr><th scope=row>media</th><td>   149.5</td><td>   150.1</td><td>   144.8</td></tr>\n",
       "\t<tr><th scope=row>desviación estándar</th><td>    30.7</td><td>    31.0</td><td>    32.5</td></tr>\n",
       "\t<tr><th scope=row>simetría</th><td>     0.2</td><td>     0.0</td><td>    -0.1</td></tr>\n",
       "\t<tr><th scope=row>kurtosis</th><td>     0.1</td><td>    -0.3</td><td>     0.0</td></tr>\n",
       "</tbody>\n",
       "</table>\n"
      ],
      "text/latex": [
       "A data.frame: 5 × 3\n",
       "\\begin{tabular}{r|lll}\n",
       "  & stats.raz.cuant & stats.lect.crit & stats.comp.ciud\\\\\n",
       "  & <dbl> & <dbl> & <dbl>\\\\\n",
       "\\hline\n",
       "\ttamaño & 725295.0 & 725295.0 & 725295.0\\\\\n",
       "\tmedia &    149.5 &    150.1 &    144.8\\\\\n",
       "\tdesviación estándar &     30.7 &     31.0 &     32.5\\\\\n",
       "\tsimetría &      0.2 &      0.0 &     -0.1\\\\\n",
       "\tkurtosis &      0.1 &     -0.3 &      0.0\\\\\n",
       "\\end{tabular}\n"
      ],
      "text/markdown": [
       "\n",
       "A data.frame: 5 × 3\n",
       "\n",
       "| <!--/--> | stats.raz.cuant &lt;dbl&gt; | stats.lect.crit &lt;dbl&gt; | stats.comp.ciud &lt;dbl&gt; |\n",
       "|---|---|---|---|\n",
       "| tamaño | 725295.0 | 725295.0 | 725295.0 |\n",
       "| media |    149.5 |    150.1 |    144.8 |\n",
       "| desviación estándar |     30.7 |     31.0 |     32.5 |\n",
       "| simetría |      0.2 |      0.0 |     -0.1 |\n",
       "| kurtosis |      0.1 |     -0.3 |      0.0 |\n",
       "\n"
      ],
      "text/plain": [
       "                    stats.raz.cuant stats.lect.crit stats.comp.ciud\n",
       "tamaño              725295.0        725295.0        725295.0       \n",
       "media                  149.5           150.1           144.8       \n",
       "desviación estándar     30.7            31.0            32.5       \n",
       "simetría                 0.2             0.0            -0.1       \n",
       "kurtosis                 0.1            -0.3             0.0       "
      ]
     },
     "metadata": {},
     "output_type": "display_data"
    }
   ],
   "source": [
    "#stats poblacion\n",
    "stats.raz.cuant<-round(mystats(data[,'raz_cuant_punt']),1)\n",
    "stats.lect.crit<-round(mystats(data[,'lect_crit_punt']),1)\n",
    "stats.comp.ciud<-round(mystats(data[,'comp_ciud_punt']),1)\n",
    "data.frame(stats.raz.cuant,stats.lect.crit,stats.comp.ciud)"
   ]
  },
  {
   "cell_type": "code",
   "execution_count": 48,
   "metadata": {},
   "outputs": [],
   "source": [
    "#Librerias necesarias\n",
    "library(samplingbook)\n",
    "library(stats4) # para la función mle\n",
    "library(repr)\n",
    "options(repr.plot.width=12, repr.plot.height=12)"
   ]
  },
  {
   "cell_type": "markdown",
   "metadata": {},
   "source": [
    "<h3 align=\"left\">Tamaño de Muestra</h3>"
   ]
  },
  {
   "cell_type": "markdown",
   "metadata": {},
   "source": [
    "Antes de hacer cualquier muestreo, es necesario conocer el tamaño de muestra adecuado para la población. Esto se hace a continuación, para esto se toma un nivel de confianza de $95\\%$ y la proporción predeterminada de $0.5$. Matemáticamente se representa\n",
    "\n",
    "$$\n",
    "n = \\frac{Z_{\\alpha/2}^{2} N p q}{ e^{e} (N-1) + Z_{\\alpha/2}^{2} p q}\n",
    "$$"
   ]
  },
  {
   "cell_type": "code",
   "execution_count": 49,
   "metadata": {},
   "outputs": [
    {
     "name": "stdout",
     "output_type": "stream",
     "text": [
      "\n",
      "sample.size.prop object: Sample size for proportion estimate\n",
      "With finite population correction: N=725295, precision e=0.05 and expected proportion P=0.5\n",
      "\n",
      "Sample size needed: 384\n",
      "\n"
     ]
    }
   ],
   "source": [
    "tmuestra<-sample.size.prop(e=0.05, P = 0.5, N = nrow(data), level = 0.95)\n",
    "print(tmuestra)"
   ]
  },
  {
   "cell_type": "markdown",
   "metadata": {},
   "source": [
    "A continuación, se procede a realizar cada uno de los muestreos con sus respectivas inferencias para cada variable. <br>\n",
    "El análisis se realizará al final, de tal forma que se puedan comparar todos los muestreos realizados."
   ]
  },
  {
   "cell_type": "markdown",
   "metadata": {},
   "source": [
    "<h3 align=\"left\">Muestreo Aleatorio Simple</h3><br> "
   ]
  },
  {
   "cell_type": "markdown",
   "metadata": {},
   "source": [
    "Se seleccionan $n$ elementos entre la población, en donde cada uno tiene probabilidad $\\frac{1}{\\left( \\begin{smallmatrix} N \\\\ n \\end{smallmatrix} \\right)}$ de ser obtenidas.\n"
   ]
  },
  {
   "cell_type": "code",
   "execution_count": 50,
   "metadata": {},
   "outputs": [
    {
     "data": {
      "image/png": "[encoded data removed]",
      "text/plain": [
       "Plot with title \"Competencias Ciudadanas (MAS)\""
      ]
     },
     "metadata": {
      "image/png": {
       "height": 720,
       "width": 720
      },
      "text/plain": {
       "height": 720,
       "width": 720
      }
     },
     "output_type": "display_data"
    }
   ],
   "source": [
    "mas<- sample(1:nrow(data),size=384,replace=FALSE) #Se realiza el MAS\n",
    "d.mas<-data[mas,]\n",
    "par(mfrow=c(3,2))\n",
    "with(d.mas, hist(raz_cuant_punt, nclass = 50, cex.main=2.5, cex.axis=1.5, cex.lab=1.5, main = 'Razonamiento Cuantitativo (MAS)'))\n",
    "with(d.mas, plot(raz_cuant_des,raz_cuant_punt, cex.main=2.5, cex.axis=1.5, cex.lab=1.5))\n",
    "with(d.mas, hist(lect_crit_punt, nclass = 50, cex.main=2.5, cex.axis=1.5, cex.lab=1.5, main = 'Lectura Crítica (MAS)'))\n",
    "with(d.mas, plot(lect_crit_des,lect_crit_punt,cex.main=2.5, cex.axis=1.5, cex.lab=1.5))\n",
    "with(d.mas, hist(comp_ciud_punt, nclass = 50, cex.main=2.5, cex.axis=1.5, cex.lab=1.5, main = 'Competencias Ciudadanas (MAS)'))\n",
    "with(d.mas, plot(comp_ciud_des,comp_ciud_punt, cex.main=2.5, cex.axis=1.5, cex.lab=1.5))\n",
    "par(mfrow=c(1,1))"
   ]
  },
  {
   "cell_type": "code",
   "execution_count": 51,
   "metadata": {},
   "outputs": [
    {
     "data": {
      "text/html": [
       "<table>\n",
       "<caption>A data.frame: 5 × 3</caption>\n",
       "<thead>\n",
       "\t<tr><th></th><th scope=col>stats.mas.raz.cuant</th><th scope=col>stats.mas.lect.crit</th><th scope=col>stats.mas.comp.ciud</th></tr>\n",
       "\t<tr><th></th><th scope=col>&lt;dbl&gt;</th><th scope=col>&lt;dbl&gt;</th><th scope=col>&lt;dbl&gt;</th></tr>\n",
       "</thead>\n",
       "<tbody>\n",
       "\t<tr><th scope=row>tamaño</th><td>384.0</td><td>384.0</td><td>384.0</td></tr>\n",
       "\t<tr><th scope=row>media</th><td>149.7</td><td>147.3</td><td>142.0</td></tr>\n",
       "\t<tr><th scope=row>desviación estándar</th><td> 30.2</td><td> 29.7</td><td> 31.9</td></tr>\n",
       "\t<tr><th scope=row>simetría</th><td>  0.3</td><td>  0.2</td><td>  0.0</td></tr>\n",
       "\t<tr><th scope=row>kurtosis</th><td>  0.7</td><td> -0.5</td><td> -0.6</td></tr>\n",
       "</tbody>\n",
       "</table>\n"
      ],
      "text/latex": [
       "A data.frame: 5 × 3\n",
       "\\begin{tabular}{r|lll}\n",
       "  & stats.mas.raz.cuant & stats.mas.lect.crit & stats.mas.comp.ciud\\\\\n",
       "  & <dbl> & <dbl> & <dbl>\\\\\n",
       "\\hline\n",
       "\ttamaño & 384.0 & 384.0 & 384.0\\\\\n",
       "\tmedia & 149.7 & 147.3 & 142.0\\\\\n",
       "\tdesviación estándar &  30.2 &  29.7 &  31.9\\\\\n",
       "\tsimetría &   0.3 &   0.2 &   0.0\\\\\n",
       "\tkurtosis &   0.7 &  -0.5 &  -0.6\\\\\n",
       "\\end{tabular}\n"
      ],
      "text/markdown": [
       "\n",
       "A data.frame: 5 × 3\n",
       "\n",
       "| <!--/--> | stats.mas.raz.cuant &lt;dbl&gt; | stats.mas.lect.crit &lt;dbl&gt; | stats.mas.comp.ciud &lt;dbl&gt; |\n",
       "|---|---|---|---|\n",
       "| tamaño | 384.0 | 384.0 | 384.0 |\n",
       "| media | 149.7 | 147.3 | 142.0 |\n",
       "| desviación estándar |  30.2 |  29.7 |  31.9 |\n",
       "| simetría |   0.3 |   0.2 |   0.0 |\n",
       "| kurtosis |   0.7 |  -0.5 |  -0.6 |\n",
       "\n"
      ],
      "text/plain": [
       "                    stats.mas.raz.cuant stats.mas.lect.crit stats.mas.comp.ciud\n",
       "tamaño              384.0               384.0               384.0              \n",
       "media               149.7               147.3               142.0              \n",
       "desviación estándar  30.2                29.7                31.9              \n",
       "simetría              0.3                 0.2                 0.0              \n",
       "kurtosis              0.7                -0.5                -0.6              "
      ]
     },
     "metadata": {},
     "output_type": "display_data"
    }
   ],
   "source": [
    "#stats MAS\n",
    "stats.mas.raz.cuant<-round(mystats(data[mas,'raz_cuant_punt']),1)\n",
    "stats.mas.lect.crit<-round(mystats(data[mas,'lect_crit_punt']),1)\n",
    "stats.mas.comp.ciud<-round(mystats(data[mas,'comp_ciud_punt']),1)\n",
    "data.frame(stats.mas.raz.cuant,stats.mas.lect.crit,stats.mas.comp.ciud)"
   ]
  },
  {
   "cell_type": "markdown",
   "metadata": {},
   "source": [
    "**Estimación por Máxima Verosimilitud**"
   ]
  },
  {
   "cell_type": "markdown",
   "metadata": {},
   "source": [
    "Por medio de la función `mle` se calcula la siguiente optimización\n",
    "$$\n",
    "\\underset{\\widehat{\\theta}}{max} \\; L(\\theta) \\text{ o bien } \\underset{\\widehat{\\theta}}{max}\\; ln\\, L(\\theta)\n",
    "$$"
   ]
  },
  {
   "cell_type": "code",
   "execution_count": 52,
   "metadata": {
    "scrolled": true
   },
   "outputs": [
    {
     "data": {
      "text/plain": [
       "Maximum likelihood estimation\n",
       "\n",
       "Call:\n",
       "mle(minuslogl = NegLogLikrazcuant, start = list(mu = mean(na.omit(d.mas$raz_cuant_punt)), \n",
       "    sigma = sd(na.omit(d.mas$raz_cuant_punt))))\n",
       "\n",
       "Coefficients:\n",
       "       Estimate Std. Error\n",
       "mu    149.45118 0.03603886\n",
       "sigma  30.69223 0.02548330\n",
       "\n",
       "-2 log L: 7025133 "
      ]
     },
     "metadata": {},
     "output_type": "display_data"
    },
    {
     "name": "stderr",
     "output_type": "stream",
     "text": [
      "Warning message in dnorm(d.lect_crit, mu, sigma, log = TRUE):\n",
      "\"NaNs produced\"\n",
      "Warning message in dnorm(d.lect_crit, mu, sigma, log = TRUE):\n",
      "\"NaNs produced\"\n"
     ]
    },
    {
     "data": {
      "text/plain": [
       "Maximum likelihood estimation\n",
       "\n",
       "Call:\n",
       "mle(minuslogl = NegLogLiklectcrit, start = list(mu = mean(na.omit(d.mas$lect_crit_punt)), \n",
       "    sigma = sd(na.omit(d.mas$lect_crit_punt))))\n",
       "\n",
       "Coefficients:\n",
       "       Estimate Std. Error\n",
       "mu    150.12138 0.03638930\n",
       "sigma  30.99066 0.02573262\n",
       "\n",
       "-2 log L: 7039112 "
      ]
     },
     "metadata": {},
     "output_type": "display_data"
    },
    {
     "name": "stderr",
     "output_type": "stream",
     "text": [
      "Warning message in dnorm(d.comp_ciud, mu, sigma, log = TRUE):\n",
      "\"NaNs produced\"\n",
      "Warning message in dnorm(d.comp_ciud, mu, sigma, log = TRUE):\n",
      "\"NaNs produced\"\n"
     ]
    },
    {
     "data": {
      "text/plain": [
       "Maximum likelihood estimation\n",
       "\n",
       "Call:\n",
       "mle(minuslogl = NegLogLikcompciud, start = list(mu = mean(na.omit(d.mas$comp_ciud_punt)), \n",
       "    sigma = sd(na.omit(d.mas$comp_ciud_punt))))\n",
       "\n",
       "Coefficients:\n",
       "       Estimate Std. Error\n",
       "mu    144.75918 0.03811952\n",
       "sigma  32.46424 0.02695460\n",
       "\n",
       "-2 log L: 7106553 "
      ]
     },
     "metadata": {},
     "output_type": "display_data"
    }
   ],
   "source": [
    "EMVraz.cuant.mas = mle(NegLogLikrazcuant, start = list(mu=mean(na.omit(d.mas$raz_cuant_punt)), sigma=sd(na.omit(d.mas$raz_cuant_punt))))\n",
    "summary(EMVraz.cuant.mas) # Para visualizar los valores\n",
    "                                               \n",
    "EMVlect.crit.mas = mle(NegLogLiklectcrit, start = list(mu=mean(na.omit(d.mas$lect_crit_punt)), sigma=sd(na.omit(d.mas$lect_crit_punt))))\n",
    "summary(EMVlect.crit.mas) # Para visualizar los valores\n",
    "                                               \n",
    "EMVcomp.ciud.mas = mle(NegLogLikcompciud, start = list(mu=mean(na.omit(d.mas$comp_ciud_punt)), sigma=sd(na.omit(d.mas$comp_ciud_punt))))\n",
    "summary(EMVcomp.ciud.mas) # Para visualizar los valores"
   ]
  },
  {
   "cell_type": "markdown",
   "metadata": {},
   "source": [
    "Comparando estas estimaciones de la media y la desviación a partir del MAS con la media y desviación poblacional, se puede observar que se tiene una aproximación muy buena en cada una de las variables seleccionadas."
   ]
  },
  {
   "cell_type": "markdown",
   "metadata": {},
   "source": [
    "**Intervalos de Confianza**"
   ]
  },
  {
   "cell_type": "markdown",
   "metadata": {},
   "source": [
    "El intervalo de confianza se estima mediante:\n",
    "\n",
    "$$\n",
    "{\\large\n",
    "I.C \\rightarrow \\mu \\in \\overline{x} \\pm Z_{(1-\\alpha)} \\frac{S_{x}}{\\sqrt{n}}\n",
    "}\n",
    "$$"
   ]
  },
  {
   "cell_type": "code",
   "execution_count": 53,
   "metadata": {},
   "outputs": [],
   "source": [
    "inf_manual <- function(data, n_conf){\n",
    "    media <- mean(na.omit(data)) # Pedimos la media\n",
    "    desv <- sd(na.omit(data)) # La desviación estándar\n",
    "    N <- length(na.omit(data)) # El tamaño válido de la muestra\n",
    "    error.est <- desv/sqrt(N) # Calculamos el error estándar\n",
    "    error <- n_conf*error.est # Fijamos Z=2 para indicar un nivel de confianza de 95%\n",
    "    lim.inf <- media-error # Límite inferior del intervalo\n",
    "    lim.sup <- media+error # Límite superior del intervalo\n",
    "    inferencia<- data.frame(media, desv, N, error.est, error, lim.inf, lim.sup)\n",
    "  return(inferencia)\n",
    "}"
   ]
  },
  {
   "cell_type": "code",
   "execution_count": 54,
   "metadata": {},
   "outputs": [
    {
     "data": {
      "text/html": [
       "<table>\n",
       "<caption>A data.frame: 1 × 7</caption>\n",
       "<thead>\n",
       "\t<tr><th scope=col>media</th><th scope=col>desv</th><th scope=col>N</th><th scope=col>error.est</th><th scope=col>error</th><th scope=col>lim.inf</th><th scope=col>lim.sup</th></tr>\n",
       "\t<tr><th scope=col>&lt;dbl&gt;</th><th scope=col>&lt;dbl&gt;</th><th scope=col>&lt;dbl&gt;</th><th scope=col>&lt;dbl&gt;</th><th scope=col>&lt;dbl&gt;</th><th scope=col>&lt;dbl&gt;</th><th scope=col>&lt;dbl&gt;</th></tr>\n",
       "</thead>\n",
       "<tbody>\n",
       "\t<tr><td>149.71</td><td>30.21</td><td>384</td><td>1.54</td><td>2.53</td><td>147.18</td><td>152.24</td></tr>\n",
       "</tbody>\n",
       "</table>\n"
      ],
      "text/latex": [
       "A data.frame: 1 × 7\n",
       "\\begin{tabular}{lllllll}\n",
       " media & desv & N & error.est & error & lim.inf & lim.sup\\\\\n",
       " <dbl> & <dbl> & <dbl> & <dbl> & <dbl> & <dbl> & <dbl>\\\\\n",
       "\\hline\n",
       "\t 149.71 & 30.21 & 384 & 1.54 & 2.53 & 147.18 & 152.24\\\\\n",
       "\\end{tabular}\n"
      ],
      "text/markdown": [
       "\n",
       "A data.frame: 1 × 7\n",
       "\n",
       "| media &lt;dbl&gt; | desv &lt;dbl&gt; | N &lt;dbl&gt; | error.est &lt;dbl&gt; | error &lt;dbl&gt; | lim.inf &lt;dbl&gt; | lim.sup &lt;dbl&gt; |\n",
       "|---|---|---|---|---|---|---|\n",
       "| 149.71 | 30.21 | 384 | 1.54 | 2.53 | 147.18 | 152.24 |\n",
       "\n"
      ],
      "text/plain": [
       "  media  desv  N   error.est error lim.inf lim.sup\n",
       "1 149.71 30.21 384 1.54      2.53  147.18  152.24 "
      ]
     },
     "metadata": {},
     "output_type": "display_data"
    },
    {
     "data": {
      "text/html": [
       "<table>\n",
       "<caption>A data.frame: 1 × 7</caption>\n",
       "<thead>\n",
       "\t<tr><th scope=col>media</th><th scope=col>desv</th><th scope=col>N</th><th scope=col>error.est</th><th scope=col>error</th><th scope=col>lim.inf</th><th scope=col>lim.sup</th></tr>\n",
       "\t<tr><th scope=col>&lt;dbl&gt;</th><th scope=col>&lt;dbl&gt;</th><th scope=col>&lt;dbl&gt;</th><th scope=col>&lt;dbl&gt;</th><th scope=col>&lt;dbl&gt;</th><th scope=col>&lt;dbl&gt;</th><th scope=col>&lt;dbl&gt;</th></tr>\n",
       "</thead>\n",
       "<tbody>\n",
       "\t<tr><td>147.34</td><td>29.71</td><td>384</td><td>1.52</td><td>2.49</td><td>144.86</td><td>149.83</td></tr>\n",
       "</tbody>\n",
       "</table>\n"
      ],
      "text/latex": [
       "A data.frame: 1 × 7\n",
       "\\begin{tabular}{lllllll}\n",
       " media & desv & N & error.est & error & lim.inf & lim.sup\\\\\n",
       " <dbl> & <dbl> & <dbl> & <dbl> & <dbl> & <dbl> & <dbl>\\\\\n",
       "\\hline\n",
       "\t 147.34 & 29.71 & 384 & 1.52 & 2.49 & 144.86 & 149.83\\\\\n",
       "\\end{tabular}\n"
      ],
      "text/markdown": [
       "\n",
       "A data.frame: 1 × 7\n",
       "\n",
       "| media &lt;dbl&gt; | desv &lt;dbl&gt; | N &lt;dbl&gt; | error.est &lt;dbl&gt; | error &lt;dbl&gt; | lim.inf &lt;dbl&gt; | lim.sup &lt;dbl&gt; |\n",
       "|---|---|---|---|---|---|---|\n",
       "| 147.34 | 29.71 | 384 | 1.52 | 2.49 | 144.86 | 149.83 |\n",
       "\n"
      ],
      "text/plain": [
       "  media  desv  N   error.est error lim.inf lim.sup\n",
       "1 147.34 29.71 384 1.52      2.49  144.86  149.83 "
      ]
     },
     "metadata": {},
     "output_type": "display_data"
    },
    {
     "data": {
      "text/html": [
       "<table>\n",
       "<caption>A data.frame: 1 × 7</caption>\n",
       "<thead>\n",
       "\t<tr><th scope=col>media</th><th scope=col>desv</th><th scope=col>N</th><th scope=col>error.est</th><th scope=col>error</th><th scope=col>lim.inf</th><th scope=col>lim.sup</th></tr>\n",
       "\t<tr><th scope=col>&lt;dbl&gt;</th><th scope=col>&lt;dbl&gt;</th><th scope=col>&lt;dbl&gt;</th><th scope=col>&lt;dbl&gt;</th><th scope=col>&lt;dbl&gt;</th><th scope=col>&lt;dbl&gt;</th><th scope=col>&lt;dbl&gt;</th></tr>\n",
       "</thead>\n",
       "<tbody>\n",
       "\t<tr><td>141.99</td><td>31.93</td><td>384</td><td>1.63</td><td>2.67</td><td>139.32</td><td>144.67</td></tr>\n",
       "</tbody>\n",
       "</table>\n"
      ],
      "text/latex": [
       "A data.frame: 1 × 7\n",
       "\\begin{tabular}{lllllll}\n",
       " media & desv & N & error.est & error & lim.inf & lim.sup\\\\\n",
       " <dbl> & <dbl> & <dbl> & <dbl> & <dbl> & <dbl> & <dbl>\\\\\n",
       "\\hline\n",
       "\t 141.99 & 31.93 & 384 & 1.63 & 2.67 & 139.32 & 144.67\\\\\n",
       "\\end{tabular}\n"
      ],
      "text/markdown": [
       "\n",
       "A data.frame: 1 × 7\n",
       "\n",
       "| media &lt;dbl&gt; | desv &lt;dbl&gt; | N &lt;dbl&gt; | error.est &lt;dbl&gt; | error &lt;dbl&gt; | lim.inf &lt;dbl&gt; | lim.sup &lt;dbl&gt; |\n",
       "|---|---|---|---|---|---|---|\n",
       "| 141.99 | 31.93 | 384 | 1.63 | 2.67 | 139.32 | 144.67 |\n",
       "\n"
      ],
      "text/plain": [
       "  media  desv  N   error.est error lim.inf lim.sup\n",
       "1 141.99 31.93 384 1.63      2.67  139.32  144.67 "
      ]
     },
     "metadata": {},
     "output_type": "display_data"
    }
   ],
   "source": [
    "#Para un nivel de confianza del 90%\n",
    "infmas_raz_cuant90<- inf_manual(d.mas$raz_cuant_punt,1.64)\n",
    "round(infmas_raz_cuant90,2)\n",
    "\n",
    "infmas_lect_crit90<- inf_manual(d.mas$lect_crit_punt,1.64)\n",
    "round(infmas_lect_crit90,2)\n",
    "\n",
    "infmas_comp_ciud90<- inf_manual(d.mas$comp_ciud_punt,1.64)\n",
    "round(infmas_comp_ciud90,2)"
   ]
  },
  {
   "cell_type": "code",
   "execution_count": 55,
   "metadata": {},
   "outputs": [
    {
     "data": {
      "text/html": [
       "<table>\n",
       "<caption>A data.frame: 1 × 7</caption>\n",
       "<thead>\n",
       "\t<tr><th scope=col>media</th><th scope=col>desv</th><th scope=col>N</th><th scope=col>error.est</th><th scope=col>error</th><th scope=col>lim.inf</th><th scope=col>lim.sup</th></tr>\n",
       "\t<tr><th scope=col>&lt;dbl&gt;</th><th scope=col>&lt;dbl&gt;</th><th scope=col>&lt;dbl&gt;</th><th scope=col>&lt;dbl&gt;</th><th scope=col>&lt;dbl&gt;</th><th scope=col>&lt;dbl&gt;</th><th scope=col>&lt;dbl&gt;</th></tr>\n",
       "</thead>\n",
       "<tbody>\n",
       "\t<tr><td>149.71</td><td>30.21</td><td>384</td><td>1.54</td><td>3.02</td><td>146.69</td><td>152.73</td></tr>\n",
       "</tbody>\n",
       "</table>\n"
      ],
      "text/latex": [
       "A data.frame: 1 × 7\n",
       "\\begin{tabular}{lllllll}\n",
       " media & desv & N & error.est & error & lim.inf & lim.sup\\\\\n",
       " <dbl> & <dbl> & <dbl> & <dbl> & <dbl> & <dbl> & <dbl>\\\\\n",
       "\\hline\n",
       "\t 149.71 & 30.21 & 384 & 1.54 & 3.02 & 146.69 & 152.73\\\\\n",
       "\\end{tabular}\n"
      ],
      "text/markdown": [
       "\n",
       "A data.frame: 1 × 7\n",
       "\n",
       "| media &lt;dbl&gt; | desv &lt;dbl&gt; | N &lt;dbl&gt; | error.est &lt;dbl&gt; | error &lt;dbl&gt; | lim.inf &lt;dbl&gt; | lim.sup &lt;dbl&gt; |\n",
       "|---|---|---|---|---|---|---|\n",
       "| 149.71 | 30.21 | 384 | 1.54 | 3.02 | 146.69 | 152.73 |\n",
       "\n"
      ],
      "text/plain": [
       "  media  desv  N   error.est error lim.inf lim.sup\n",
       "1 149.71 30.21 384 1.54      3.02  146.69  152.73 "
      ]
     },
     "metadata": {},
     "output_type": "display_data"
    },
    {
     "data": {
      "text/html": [
       "<table>\n",
       "<caption>A data.frame: 1 × 7</caption>\n",
       "<thead>\n",
       "\t<tr><th scope=col>media</th><th scope=col>desv</th><th scope=col>N</th><th scope=col>error.est</th><th scope=col>error</th><th scope=col>lim.inf</th><th scope=col>lim.sup</th></tr>\n",
       "\t<tr><th scope=col>&lt;dbl&gt;</th><th scope=col>&lt;dbl&gt;</th><th scope=col>&lt;dbl&gt;</th><th scope=col>&lt;dbl&gt;</th><th scope=col>&lt;dbl&gt;</th><th scope=col>&lt;dbl&gt;</th><th scope=col>&lt;dbl&gt;</th></tr>\n",
       "</thead>\n",
       "<tbody>\n",
       "\t<tr><td>147.34</td><td>29.71</td><td>384</td><td>1.52</td><td>2.97</td><td>144.37</td><td>150.31</td></tr>\n",
       "</tbody>\n",
       "</table>\n"
      ],
      "text/latex": [
       "A data.frame: 1 × 7\n",
       "\\begin{tabular}{lllllll}\n",
       " media & desv & N & error.est & error & lim.inf & lim.sup\\\\\n",
       " <dbl> & <dbl> & <dbl> & <dbl> & <dbl> & <dbl> & <dbl>\\\\\n",
       "\\hline\n",
       "\t 147.34 & 29.71 & 384 & 1.52 & 2.97 & 144.37 & 150.31\\\\\n",
       "\\end{tabular}\n"
      ],
      "text/markdown": [
       "\n",
       "A data.frame: 1 × 7\n",
       "\n",
       "| media &lt;dbl&gt; | desv &lt;dbl&gt; | N &lt;dbl&gt; | error.est &lt;dbl&gt; | error &lt;dbl&gt; | lim.inf &lt;dbl&gt; | lim.sup &lt;dbl&gt; |\n",
       "|---|---|---|---|---|---|---|\n",
       "| 147.34 | 29.71 | 384 | 1.52 | 2.97 | 144.37 | 150.31 |\n",
       "\n"
      ],
      "text/plain": [
       "  media  desv  N   error.est error lim.inf lim.sup\n",
       "1 147.34 29.71 384 1.52      2.97  144.37  150.31 "
      ]
     },
     "metadata": {},
     "output_type": "display_data"
    },
    {
     "data": {
      "text/html": [
       "<table>\n",
       "<caption>A data.frame: 1 × 7</caption>\n",
       "<thead>\n",
       "\t<tr><th scope=col>media</th><th scope=col>desv</th><th scope=col>N</th><th scope=col>error.est</th><th scope=col>error</th><th scope=col>lim.inf</th><th scope=col>lim.sup</th></tr>\n",
       "\t<tr><th scope=col>&lt;dbl&gt;</th><th scope=col>&lt;dbl&gt;</th><th scope=col>&lt;dbl&gt;</th><th scope=col>&lt;dbl&gt;</th><th scope=col>&lt;dbl&gt;</th><th scope=col>&lt;dbl&gt;</th><th scope=col>&lt;dbl&gt;</th></tr>\n",
       "</thead>\n",
       "<tbody>\n",
       "\t<tr><td>141.99</td><td>31.93</td><td>384</td><td>1.63</td><td>3.19</td><td>138.8</td><td>145.19</td></tr>\n",
       "</tbody>\n",
       "</table>\n"
      ],
      "text/latex": [
       "A data.frame: 1 × 7\n",
       "\\begin{tabular}{lllllll}\n",
       " media & desv & N & error.est & error & lim.inf & lim.sup\\\\\n",
       " <dbl> & <dbl> & <dbl> & <dbl> & <dbl> & <dbl> & <dbl>\\\\\n",
       "\\hline\n",
       "\t 141.99 & 31.93 & 384 & 1.63 & 3.19 & 138.8 & 145.19\\\\\n",
       "\\end{tabular}\n"
      ],
      "text/markdown": [
       "\n",
       "A data.frame: 1 × 7\n",
       "\n",
       "| media &lt;dbl&gt; | desv &lt;dbl&gt; | N &lt;dbl&gt; | error.est &lt;dbl&gt; | error &lt;dbl&gt; | lim.inf &lt;dbl&gt; | lim.sup &lt;dbl&gt; |\n",
       "|---|---|---|---|---|---|---|\n",
       "| 141.99 | 31.93 | 384 | 1.63 | 3.19 | 138.8 | 145.19 |\n",
       "\n"
      ],
      "text/plain": [
       "  media  desv  N   error.est error lim.inf lim.sup\n",
       "1 141.99 31.93 384 1.63      3.19  138.8   145.19 "
      ]
     },
     "metadata": {},
     "output_type": "display_data"
    }
   ],
   "source": [
    "#Para un nivel de confianza del 95%\n",
    "infmas_raz_cuant95<- inf_manual(d.mas$raz_cuant_punt,1.96)\n",
    "round(infmas_raz_cuant95,2)\n",
    "\n",
    "infmas_lect_crit95<- inf_manual(d.mas$lect_crit_punt,1.96)\n",
    "round(infmas_lect_crit95,2)\n",
    "\n",
    "infmas_comp_ciud95<- inf_manual(d.mas$comp_ciud_punt,1.96)\n",
    "round(infmas_comp_ciud95,2)"
   ]
  },
  {
   "cell_type": "code",
   "execution_count": 56,
   "metadata": {},
   "outputs": [
    {
     "data": {
      "text/html": [
       "<table>\n",
       "<caption>A data.frame: 1 × 7</caption>\n",
       "<thead>\n",
       "\t<tr><th scope=col>media</th><th scope=col>desv</th><th scope=col>N</th><th scope=col>error.est</th><th scope=col>error</th><th scope=col>lim.inf</th><th scope=col>lim.sup</th></tr>\n",
       "\t<tr><th scope=col>&lt;dbl&gt;</th><th scope=col>&lt;dbl&gt;</th><th scope=col>&lt;dbl&gt;</th><th scope=col>&lt;dbl&gt;</th><th scope=col>&lt;dbl&gt;</th><th scope=col>&lt;dbl&gt;</th><th scope=col>&lt;dbl&gt;</th></tr>\n",
       "</thead>\n",
       "<tbody>\n",
       "\t<tr><td>149.71</td><td>30.21</td><td>384</td><td>1.54</td><td>3.96</td><td>145.75</td><td>153.67</td></tr>\n",
       "</tbody>\n",
       "</table>\n"
      ],
      "text/latex": [
       "A data.frame: 1 × 7\n",
       "\\begin{tabular}{lllllll}\n",
       " media & desv & N & error.est & error & lim.inf & lim.sup\\\\\n",
       " <dbl> & <dbl> & <dbl> & <dbl> & <dbl> & <dbl> & <dbl>\\\\\n",
       "\\hline\n",
       "\t 149.71 & 30.21 & 384 & 1.54 & 3.96 & 145.75 & 153.67\\\\\n",
       "\\end{tabular}\n"
      ],
      "text/markdown": [
       "\n",
       "A data.frame: 1 × 7\n",
       "\n",
       "| media &lt;dbl&gt; | desv &lt;dbl&gt; | N &lt;dbl&gt; | error.est &lt;dbl&gt; | error &lt;dbl&gt; | lim.inf &lt;dbl&gt; | lim.sup &lt;dbl&gt; |\n",
       "|---|---|---|---|---|---|---|\n",
       "| 149.71 | 30.21 | 384 | 1.54 | 3.96 | 145.75 | 153.67 |\n",
       "\n"
      ],
      "text/plain": [
       "  media  desv  N   error.est error lim.inf lim.sup\n",
       "1 149.71 30.21 384 1.54      3.96  145.75  153.67 "
      ]
     },
     "metadata": {},
     "output_type": "display_data"
    },
    {
     "data": {
      "text/html": [
       "<table>\n",
       "<caption>A data.frame: 1 × 7</caption>\n",
       "<thead>\n",
       "\t<tr><th scope=col>media</th><th scope=col>desv</th><th scope=col>N</th><th scope=col>error.est</th><th scope=col>error</th><th scope=col>lim.inf</th><th scope=col>lim.sup</th></tr>\n",
       "\t<tr><th scope=col>&lt;dbl&gt;</th><th scope=col>&lt;dbl&gt;</th><th scope=col>&lt;dbl&gt;</th><th scope=col>&lt;dbl&gt;</th><th scope=col>&lt;dbl&gt;</th><th scope=col>&lt;dbl&gt;</th><th scope=col>&lt;dbl&gt;</th></tr>\n",
       "</thead>\n",
       "<tbody>\n",
       "\t<tr><td>147.34</td><td>29.71</td><td>384</td><td>1.52</td><td>3.9</td><td>143.45</td><td>151.24</td></tr>\n",
       "</tbody>\n",
       "</table>\n"
      ],
      "text/latex": [
       "A data.frame: 1 × 7\n",
       "\\begin{tabular}{lllllll}\n",
       " media & desv & N & error.est & error & lim.inf & lim.sup\\\\\n",
       " <dbl> & <dbl> & <dbl> & <dbl> & <dbl> & <dbl> & <dbl>\\\\\n",
       "\\hline\n",
       "\t 147.34 & 29.71 & 384 & 1.52 & 3.9 & 143.45 & 151.24\\\\\n",
       "\\end{tabular}\n"
      ],
      "text/markdown": [
       "\n",
       "A data.frame: 1 × 7\n",
       "\n",
       "| media &lt;dbl&gt; | desv &lt;dbl&gt; | N &lt;dbl&gt; | error.est &lt;dbl&gt; | error &lt;dbl&gt; | lim.inf &lt;dbl&gt; | lim.sup &lt;dbl&gt; |\n",
       "|---|---|---|---|---|---|---|\n",
       "| 147.34 | 29.71 | 384 | 1.52 | 3.9 | 143.45 | 151.24 |\n",
       "\n"
      ],
      "text/plain": [
       "  media  desv  N   error.est error lim.inf lim.sup\n",
       "1 147.34 29.71 384 1.52      3.9   143.45  151.24 "
      ]
     },
     "metadata": {},
     "output_type": "display_data"
    },
    {
     "data": {
      "text/html": [
       "<table>\n",
       "<caption>A data.frame: 1 × 7</caption>\n",
       "<thead>\n",
       "\t<tr><th scope=col>media</th><th scope=col>desv</th><th scope=col>N</th><th scope=col>error.est</th><th scope=col>error</th><th scope=col>lim.inf</th><th scope=col>lim.sup</th></tr>\n",
       "\t<tr><th scope=col>&lt;dbl&gt;</th><th scope=col>&lt;dbl&gt;</th><th scope=col>&lt;dbl&gt;</th><th scope=col>&lt;dbl&gt;</th><th scope=col>&lt;dbl&gt;</th><th scope=col>&lt;dbl&gt;</th><th scope=col>&lt;dbl&gt;</th></tr>\n",
       "</thead>\n",
       "<tbody>\n",
       "\t<tr><td>141.99</td><td>31.93</td><td>384</td><td>1.63</td><td>4.19</td><td>137.81</td><td>146.18</td></tr>\n",
       "</tbody>\n",
       "</table>\n"
      ],
      "text/latex": [
       "A data.frame: 1 × 7\n",
       "\\begin{tabular}{lllllll}\n",
       " media & desv & N & error.est & error & lim.inf & lim.sup\\\\\n",
       " <dbl> & <dbl> & <dbl> & <dbl> & <dbl> & <dbl> & <dbl>\\\\\n",
       "\\hline\n",
       "\t 141.99 & 31.93 & 384 & 1.63 & 4.19 & 137.81 & 146.18\\\\\n",
       "\\end{tabular}\n"
      ],
      "text/markdown": [
       "\n",
       "A data.frame: 1 × 7\n",
       "\n",
       "| media &lt;dbl&gt; | desv &lt;dbl&gt; | N &lt;dbl&gt; | error.est &lt;dbl&gt; | error &lt;dbl&gt; | lim.inf &lt;dbl&gt; | lim.sup &lt;dbl&gt; |\n",
       "|---|---|---|---|---|---|---|\n",
       "| 141.99 | 31.93 | 384 | 1.63 | 4.19 | 137.81 | 146.18 |\n",
       "\n"
      ],
      "text/plain": [
       "  media  desv  N   error.est error lim.inf lim.sup\n",
       "1 141.99 31.93 384 1.63      4.19  137.81  146.18 "
      ]
     },
     "metadata": {},
     "output_type": "display_data"
    }
   ],
   "source": [
    "#Para un nivel de confianza del 99%\n",
    "infmas_raz_cuant99<- inf_manual(d.mas$raz_cuant_punt,2.57)\n",
    "round(infmas_raz_cuant99,2)\n",
    "\n",
    "infmas_lect_crit99<- inf_manual(d.mas$lect_crit_punt,2.57)\n",
    "round(infmas_lect_crit99,2)\n",
    "\n",
    "infmas_comp_ciud99<- inf_manual(d.mas$comp_ciud_punt,2.57)\n",
    "round(infmas_comp_ciud99,2)"
   ]
  },
  {
   "cell_type": "markdown",
   "metadata": {},
   "source": [
    "<h3 align=\"left\">Muestreo Estratificado</h3><br> "
   ]
  },
  {
   "cell_type": "markdown",
   "metadata": {},
   "source": [
    "En este muestreo se dividen por subpoblaciones, en este caso el desempeño. Matemáticamente se representa\n",
    "\n",
    "$$\n",
    "N_{1} + N_{2} + \\dots + N_{L} = \\sum_{i=1}^{L} N_{i} = N\n",
    "$$"
   ]
  },
  {
   "cell_type": "code",
   "execution_count": 57,
   "metadata": {},
   "outputs": [],
   "source": [
    "library(magrittr) # Permite leer la función %>%\n",
    "library(dplyr) # Contiene la función select\n",
    "library(SamplingUtil) # Contiene la funcion nstrata que nos permite calcular los estratos"
   ]
  },
  {
   "cell_type": "code",
   "execution_count": 58,
   "metadata": {},
   "outputs": [],
   "source": [
    "#Se definen variables\n",
    "praz<-data.frame(praz=data$raz_cuant_punt)\n",
    "draz<- data.frame(draz=data$raz_cuant_des)\n",
    "dataraz<- data.frame(praz,draz)\n",
    "\n",
    "plect<-data.frame(plect=data$lect_crit_punt)\n",
    "dlect<- data.frame(dlect=data$lect_crit_des)\n",
    "datalect<- data.frame(plect,dlect)\n",
    "\n",
    "pcomp<-data.frame(pcomp=data$comp_ciud_punt)\n",
    "dcomp<- data.frame(dcomp=data$comp_ciud_des)\n",
    "datacomp<- data.frame(pcomp,dcomp)"
   ]
  },
  {
   "cell_type": "code",
   "execution_count": 60,
   "metadata": {},
   "outputs": [
    {
     "data": {
      "text/html": [
       "<table>\n",
       "<caption>A tibble: 4 × 4</caption>\n",
       "<thead>\n",
       "\t<tr><th scope=col>draz</th><th scope=col>n</th><th scope=col>s</th><th scope=col>p</th></tr>\n",
       "\t<tr><th scope=col>&lt;fct&gt;</th><th scope=col>&lt;int&gt;</th><th scope=col>&lt;dbl&gt;</th><th scope=col>&lt;dbl&gt;</th></tr>\n",
       "</thead>\n",
       "<tbody>\n",
       "\t<tr><td>Deficiente</td><td>168183</td><td>12.148419</td><td>0.23188220</td></tr>\n",
       "\t<tr><td>Aceptable </td><td>234534</td><td> 7.978031</td><td>0.32336360</td></tr>\n",
       "\t<tr><td>Bueno     </td><td>292264</td><td>13.121279</td><td>0.40295880</td></tr>\n",
       "\t<tr><td>Excelente </td><td> 30314</td><td>15.831535</td><td>0.04179541</td></tr>\n",
       "</tbody>\n",
       "</table>\n"
      ],
      "text/latex": [
       "A tibble: 4 × 4\n",
       "\\begin{tabular}{llll}\n",
       " draz & n & s & p\\\\\n",
       " <fct> & <int> & <dbl> & <dbl>\\\\\n",
       "\\hline\n",
       "\t Deficiente & 168183 & 12.148419 & 0.23188220\\\\\n",
       "\t Aceptable  & 234534 &  7.978031 & 0.32336360\\\\\n",
       "\t Bueno      & 292264 & 13.121279 & 0.40295880\\\\\n",
       "\t Excelente  &  30314 & 15.831535 & 0.04179541\\\\\n",
       "\\end{tabular}\n"
      ],
      "text/markdown": [
       "\n",
       "A tibble: 4 × 4\n",
       "\n",
       "| draz &lt;fct&gt; | n &lt;int&gt; | s &lt;dbl&gt; | p &lt;dbl&gt; |\n",
       "|---|---|---|---|\n",
       "| Deficiente | 168183 | 12.148419 | 0.23188220 |\n",
       "| Aceptable  | 234534 |  7.978031 | 0.32336360 |\n",
       "| Bueno      | 292264 | 13.121279 | 0.40295880 |\n",
       "| Excelente  |  30314 | 15.831535 | 0.04179541 |\n",
       "\n"
      ],
      "text/plain": [
       "  draz       n      s         p         \n",
       "1 Deficiente 168183 12.148419 0.23188220\n",
       "2 Aceptable  234534  7.978031 0.32336360\n",
       "3 Bueno      292264 13.121279 0.40295880\n",
       "4 Excelente   30314 15.831535 0.04179541"
      ]
     },
     "metadata": {},
     "output_type": "display_data"
    },
    {
     "data": {
      "text/html": [
       "<table>\n",
       "<caption>A tibble: 4 × 4</caption>\n",
       "<thead>\n",
       "\t<tr><th scope=col>dlect</th><th scope=col>n</th><th scope=col>s</th><th scope=col>p</th></tr>\n",
       "\t<tr><th scope=col>&lt;fct&gt;</th><th scope=col>&lt;int&gt;</th><th scope=col>&lt;dbl&gt;</th><th scope=col>&lt;dbl&gt;</th></tr>\n",
       "</thead>\n",
       "<tbody>\n",
       "\t<tr><td>Deficiente</td><td>157557</td><td>12.949062</td><td>0.21723161</td></tr>\n",
       "\t<tr><td>Aceptable </td><td>270686</td><td> 9.385729</td><td>0.37320814</td></tr>\n",
       "\t<tr><td>Bueno     </td><td>255418</td><td>11.562116</td><td>0.35215740</td></tr>\n",
       "\t<tr><td>Excelente </td><td> 41634</td><td>10.098844</td><td>0.05740285</td></tr>\n",
       "</tbody>\n",
       "</table>\n"
      ],
      "text/latex": [
       "A tibble: 4 × 4\n",
       "\\begin{tabular}{llll}\n",
       " dlect & n & s & p\\\\\n",
       " <fct> & <int> & <dbl> & <dbl>\\\\\n",
       "\\hline\n",
       "\t Deficiente & 157557 & 12.949062 & 0.21723161\\\\\n",
       "\t Aceptable  & 270686 &  9.385729 & 0.37320814\\\\\n",
       "\t Bueno      & 255418 & 11.562116 & 0.35215740\\\\\n",
       "\t Excelente  &  41634 & 10.098844 & 0.05740285\\\\\n",
       "\\end{tabular}\n"
      ],
      "text/markdown": [
       "\n",
       "A tibble: 4 × 4\n",
       "\n",
       "| dlect &lt;fct&gt; | n &lt;int&gt; | s &lt;dbl&gt; | p &lt;dbl&gt; |\n",
       "|---|---|---|---|\n",
       "| Deficiente | 157557 | 12.949062 | 0.21723161 |\n",
       "| Aceptable  | 270686 |  9.385729 | 0.37320814 |\n",
       "| Bueno      | 255418 | 11.562116 | 0.35215740 |\n",
       "| Excelente  |  41634 | 10.098844 | 0.05740285 |\n",
       "\n"
      ],
      "text/plain": [
       "  dlect      n      s         p         \n",
       "1 Deficiente 157557 12.949062 0.21723161\n",
       "2 Aceptable  270686  9.385729 0.37320814\n",
       "3 Bueno      255418 11.562116 0.35215740\n",
       "4 Excelente   41634 10.098844 0.05740285"
      ]
     },
     "metadata": {},
     "output_type": "display_data"
    },
    {
     "data": {
      "text/html": [
       "<table>\n",
       "<caption>A tibble: 4 × 4</caption>\n",
       "<thead>\n",
       "\t<tr><th scope=col>dcomp</th><th scope=col>n</th><th scope=col>s</th><th scope=col>p</th></tr>\n",
       "\t<tr><th scope=col>&lt;fct&gt;</th><th scope=col>&lt;int&gt;</th><th scope=col>&lt;dbl&gt;</th><th scope=col>&lt;dbl&gt;</th></tr>\n",
       "</thead>\n",
       "<tbody>\n",
       "\t<tr><td>Deficiente</td><td>202064</td><td>15.354723</td><td>0.27859561</td></tr>\n",
       "\t<tr><td>Aceptable </td><td>248924</td><td> 9.157064</td><td>0.34320380</td></tr>\n",
       "\t<tr><td>Bueno     </td><td>246438</td><td>11.539646</td><td>0.33977623</td></tr>\n",
       "\t<tr><td>Excelente </td><td> 27869</td><td>13.287947</td><td>0.03842437</td></tr>\n",
       "</tbody>\n",
       "</table>\n"
      ],
      "text/latex": [
       "A tibble: 4 × 4\n",
       "\\begin{tabular}{llll}\n",
       " dcomp & n & s & p\\\\\n",
       " <fct> & <int> & <dbl> & <dbl>\\\\\n",
       "\\hline\n",
       "\t Deficiente & 202064 & 15.354723 & 0.27859561\\\\\n",
       "\t Aceptable  & 248924 &  9.157064 & 0.34320380\\\\\n",
       "\t Bueno      & 246438 & 11.539646 & 0.33977623\\\\\n",
       "\t Excelente  &  27869 & 13.287947 & 0.03842437\\\\\n",
       "\\end{tabular}\n"
      ],
      "text/markdown": [
       "\n",
       "A tibble: 4 × 4\n",
       "\n",
       "| dcomp &lt;fct&gt; | n &lt;int&gt; | s &lt;dbl&gt; | p &lt;dbl&gt; |\n",
       "|---|---|---|---|\n",
       "| Deficiente | 202064 | 15.354723 | 0.27859561 |\n",
       "| Aceptable  | 248924 |  9.157064 | 0.34320380 |\n",
       "| Bueno      | 246438 | 11.539646 | 0.33977623 |\n",
       "| Excelente  |  27869 | 13.287947 | 0.03842437 |\n",
       "\n"
      ],
      "text/plain": [
       "  dcomp      n      s         p         \n",
       "1 Deficiente 202064 15.354723 0.27859561\n",
       "2 Aceptable  248924  9.157064 0.34320380\n",
       "3 Bueno      246438 11.539646 0.33977623\n",
       "4 Excelente   27869 13.287947 0.03842437"
      ]
     },
     "metadata": {},
     "output_type": "display_data"
    }
   ],
   "source": [
    "EstratosRaz <- dataraz %>%\n",
    "  select(draz, praz) %>%\n",
    "  group_by(draz) %>%\n",
    "  summarise(n=n(), \n",
    "            s=sd(praz)) %>%\n",
    "  mutate(p=n/sum(n))\n",
    "\n",
    "EstratosRaz\n",
    "\n",
    "EstratosLect <- datalect %>%\n",
    "  select(dlect, plect) %>%\n",
    "  group_by(dlect) %>%\n",
    "  summarise(n=n(), \n",
    "            s=sd(plect)) %>%\n",
    "  mutate(p=n/sum(n))\n",
    "\n",
    "EstratosLect\n",
    "\n",
    "EstratosComp <- datacomp %>%\n",
    "  select(dcomp, pcomp) %>%\n",
    "  group_by(dcomp) %>%\n",
    "  summarise(n=n(), \n",
    "            s=sd(pcomp)) %>%\n",
    "  mutate(p=n/sum(n))\n",
    "\n",
    "EstratosComp"
   ]
  },
  {
   "cell_type": "code",
   "execution_count": 61,
   "metadata": {},
   "outputs": [],
   "source": [
    "nsizeProp384raz<-nstrata(n=384,wh=EstratosRaz[,4],method=\"proportional\")\n",
    "nsizeProp384lect<-nstrata(n=384,wh=EstratosLect[,4],method=\"proportional\")\n",
    "nsizeProp384comp<-nstrata(n=384,wh=EstratosComp[,4],method=\"proportional\")"
   ]
  },
  {
   "cell_type": "code",
   "execution_count": 62,
   "metadata": {},
   "outputs": [
    {
     "data": {
      "text/html": [
       "<table>\n",
       "<caption>A data.frame: 4 × 2</caption>\n",
       "<thead>\n",
       "\t<tr><th scope=col>des</th><th scope=col>p</th></tr>\n",
       "\t<tr><th scope=col>&lt;fct&gt;</th><th scope=col>&lt;dbl&gt;</th></tr>\n",
       "</thead>\n",
       "<tbody>\n",
       "\t<tr><td>Deficiente</td><td> 90</td></tr>\n",
       "\t<tr><td>Aceptable </td><td>125</td></tr>\n",
       "\t<tr><td>Bueno     </td><td>155</td></tr>\n",
       "\t<tr><td>Excelente </td><td> 17</td></tr>\n",
       "</tbody>\n",
       "</table>\n"
      ],
      "text/latex": [
       "A data.frame: 4 × 2\n",
       "\\begin{tabular}{ll}\n",
       " des & p\\\\\n",
       " <fct> & <dbl>\\\\\n",
       "\\hline\n",
       "\t Deficiente &  90\\\\\n",
       "\t Aceptable  & 125\\\\\n",
       "\t Bueno      & 155\\\\\n",
       "\t Excelente  &  17\\\\\n",
       "\\end{tabular}\n"
      ],
      "text/markdown": [
       "\n",
       "A data.frame: 4 × 2\n",
       "\n",
       "| des &lt;fct&gt; | p &lt;dbl&gt; |\n",
       "|---|---|\n",
       "| Deficiente |  90 |\n",
       "| Aceptable  | 125 |\n",
       "| Bueno      | 155 |\n",
       "| Excelente  |  17 |\n",
       "\n"
      ],
      "text/plain": [
       "  des        p  \n",
       "1 Deficiente  90\n",
       "2 Aceptable  125\n",
       "3 Bueno      155\n",
       "4 Excelente   17"
      ]
     },
     "metadata": {},
     "output_type": "display_data"
    },
    {
     "data": {
      "text/html": [
       "<table>\n",
       "<caption>A data.frame: 4 × 2</caption>\n",
       "<thead>\n",
       "\t<tr><th scope=col>des</th><th scope=col>p</th></tr>\n",
       "\t<tr><th scope=col>&lt;fct&gt;</th><th scope=col>&lt;dbl&gt;</th></tr>\n",
       "</thead>\n",
       "<tbody>\n",
       "\t<tr><td>Deficiente</td><td> 84</td></tr>\n",
       "\t<tr><td>Aceptable </td><td>144</td></tr>\n",
       "\t<tr><td>Bueno     </td><td>136</td></tr>\n",
       "\t<tr><td>Excelente </td><td> 23</td></tr>\n",
       "</tbody>\n",
       "</table>\n"
      ],
      "text/latex": [
       "A data.frame: 4 × 2\n",
       "\\begin{tabular}{ll}\n",
       " des & p\\\\\n",
       " <fct> & <dbl>\\\\\n",
       "\\hline\n",
       "\t Deficiente &  84\\\\\n",
       "\t Aceptable  & 144\\\\\n",
       "\t Bueno      & 136\\\\\n",
       "\t Excelente  &  23\\\\\n",
       "\\end{tabular}\n"
      ],
      "text/markdown": [
       "\n",
       "A data.frame: 4 × 2\n",
       "\n",
       "| des &lt;fct&gt; | p &lt;dbl&gt; |\n",
       "|---|---|\n",
       "| Deficiente |  84 |\n",
       "| Aceptable  | 144 |\n",
       "| Bueno      | 136 |\n",
       "| Excelente  |  23 |\n",
       "\n"
      ],
      "text/plain": [
       "  des        p  \n",
       "1 Deficiente  84\n",
       "2 Aceptable  144\n",
       "3 Bueno      136\n",
       "4 Excelente   23"
      ]
     },
     "metadata": {},
     "output_type": "display_data"
    },
    {
     "data": {
      "text/html": [
       "<table>\n",
       "<caption>A data.frame: 4 × 2</caption>\n",
       "<thead>\n",
       "\t<tr><th scope=col>des</th><th scope=col>p</th></tr>\n",
       "\t<tr><th scope=col>&lt;fct&gt;</th><th scope=col>&lt;dbl&gt;</th></tr>\n",
       "</thead>\n",
       "<tbody>\n",
       "\t<tr><td>Deficiente</td><td>107</td></tr>\n",
       "\t<tr><td>Aceptable </td><td>132</td></tr>\n",
       "\t<tr><td>Bueno     </td><td>131</td></tr>\n",
       "\t<tr><td>Excelente </td><td> 15</td></tr>\n",
       "</tbody>\n",
       "</table>\n"
      ],
      "text/latex": [
       "A data.frame: 4 × 2\n",
       "\\begin{tabular}{ll}\n",
       " des & p\\\\\n",
       " <fct> & <dbl>\\\\\n",
       "\\hline\n",
       "\t Deficiente & 107\\\\\n",
       "\t Aceptable  & 132\\\\\n",
       "\t Bueno      & 131\\\\\n",
       "\t Excelente  &  15\\\\\n",
       "\\end{tabular}\n"
      ],
      "text/markdown": [
       "\n",
       "A data.frame: 4 × 2\n",
       "\n",
       "| des &lt;fct&gt; | p &lt;dbl&gt; |\n",
       "|---|---|\n",
       "| Deficiente | 107 |\n",
       "| Aceptable  | 132 |\n",
       "| Bueno      | 131 |\n",
       "| Excelente  |  15 |\n",
       "\n"
      ],
      "text/plain": [
       "  des        p  \n",
       "1 Deficiente 107\n",
       "2 Aceptable  132\n",
       "3 Bueno      131\n",
       "4 Excelente   15"
      ]
     },
     "metadata": {},
     "output_type": "display_data"
    }
   ],
   "source": [
    "data.frame(des=EstratosRaz$draz,nsizeProp384raz)\n",
    "data.frame(des=EstratosLect$dlect,nsizeProp384lect)\n",
    "data.frame(des=EstratosComp$dcomp,nsizeProp384comp)"
   ]
  },
  {
   "cell_type": "code",
   "execution_count": 63,
   "metadata": {},
   "outputs": [],
   "source": [
    "muestradeficienteRaz<- sample(1:nrow(data[data$raz_cuant_des=='Deficiente',]),size=90,replace=FALSE)\n",
    "muestraaceptableRaz<- sample(1:nrow(data[data$raz_cuant_des=='Aceptable',]),size=125,replace=FALSE)\n",
    "muestrabuenoRaz<- sample(1:nrow(data[data$raz_cuant_des=='Bueno',]),size=155,replace=FALSE)\n",
    "muestraexcelenteRaz<- sample(1:nrow(data[data$raz_cuant_des=='Excelente',]),size=17,replace=FALSE)\n",
    "\n",
    "mestratoraz<-c(muestradeficienteRaz,muestraaceptableRaz,muestrabuenoRaz,muestraexcelenteRaz)"
   ]
  },
  {
   "cell_type": "code",
   "execution_count": 64,
   "metadata": {},
   "outputs": [],
   "source": [
    "muestradeficienteLect<- sample(1:nrow(data[data$lect_crit_des=='Deficiente',]),size=84,replace=FALSE)\n",
    "muestraaceptableLect<- sample(1:nrow(data[data$lect_crit_des=='Aceptable',]),size=144,replace=FALSE)\n",
    "muestrabuenoLect<- sample(1:nrow(data[data$lect_crit_des=='Bueno',]),size=136,replace=FALSE)\n",
    "muestraexcelenteLect<- sample(1:nrow(data[data$lect_crit_des=='Excelente',]),size=23,replace=FALSE)\n",
    "\n",
    "mestratolect<-c(muestradeficienteLect,muestraaceptableLect,muestrabuenoLect,muestraexcelenteLect)"
   ]
  },
  {
   "cell_type": "code",
   "execution_count": 65,
   "metadata": {},
   "outputs": [],
   "source": [
    "muestradeficienteComp<- sample(1:nrow(data[data$comp_ciud_des=='Deficiente',]),size=107,replace=FALSE)\n",
    "muestraaceptableComp<- sample(1:nrow(data[data$comp_ciud_des=='Aceptable',]),size=132,replace=FALSE)\n",
    "muestrabuenoComp<- sample(1:nrow(data[data$comp_ciud_des=='Bueno',]),size=131,replace=FALSE)\n",
    "muestraexcelenteComp<- sample(1:nrow(data[data$comp_ciud_des=='Excelente',]),size=15,replace=FALSE)\n",
    "\n",
    "mestratocomp<-c(muestradeficienteComp,muestraaceptableComp,muestrabuenoComp,muestraexcelenteComp)"
   ]
  },
  {
   "cell_type": "code",
   "execution_count": 66,
   "metadata": {},
   "outputs": [
    {
     "data": {
      "image/png": "[encoded data removed]",
      "text/plain": [
       "Plot with title \"Competencias Ciudadanas (ME)\""
      ]
     },
     "metadata": {
      "image/png": {
       "height": 720,
       "width": 720
      },
      "text/plain": {
       "height": 720,
       "width": 720
      }
     },
     "output_type": "display_data"
    }
   ],
   "source": [
    "par(mfrow=c(3,2))\n",
    "with(data[mestratoraz,], hist(raz_cuant_punt, nclass = 50, cex.main=2.5, cex.axis=1.5, cex.lab=1.5, main = 'Razonamiento Cuantitativo (ME)'))\n",
    "with(data[mestratoraz,], plot(raz_cuant_des,raz_cuant_punt,  cex.main=2.5, cex.axis=1.5, cex.lab=1.5))\n",
    "with(data[mestratolect,], hist(lect_crit_punt, nclass = 50, cex.main=2.5, cex.axis=1.5, cex.lab=1.5,main = 'Lectura Crítica (ME)'))\n",
    "with(data[mestratolect,], plot(lect_crit_des,lect_crit_punt, cex.main=2.5, cex.axis=1.5, cex.lab=1.5))\n",
    "with(data[mestratocomp,], hist(comp_ciud_punt, nclass = 50, cex.main=2.5, cex.axis=1.5, cex.lab=1.5,main = 'Competencias Ciudadanas (ME)'))\n",
    "with(data[mestratocomp,], plot(comp_ciud_des,comp_ciud_punt, cex.main=2.5, cex.axis=1.5, cex.lab=1.5))\n",
    "par(mfrow=c(1,1))"
   ]
  },
  {
   "cell_type": "code",
   "execution_count": 67,
   "metadata": {},
   "outputs": [
    {
     "data": {
      "text/html": [
       "<table>\n",
       "<caption>A data.frame: 5 × 3</caption>\n",
       "<thead>\n",
       "\t<tr><th></th><th scope=col>stats.mmeraz.raz.cuant</th><th scope=col>stats.mmelect.lect.crit</th><th scope=col>stats.mmecomp.comp.ciud</th></tr>\n",
       "\t<tr><th></th><th scope=col>&lt;dbl&gt;</th><th scope=col>&lt;dbl&gt;</th><th scope=col>&lt;dbl&gt;</th></tr>\n",
       "</thead>\n",
       "<tbody>\n",
       "\t<tr><th scope=row>tamaño</th><td>387.0</td><td>387.0</td><td>385.0</td></tr>\n",
       "\t<tr><th scope=row>media</th><td>148.9</td><td>149.2</td><td>151.8</td></tr>\n",
       "\t<tr><th scope=row>desviación estándar</th><td> 31.6</td><td> 29.4</td><td> 31.8</td></tr>\n",
       "\t<tr><th scope=row>simetría</th><td>  0.1</td><td>  0.0</td><td>  0.4</td></tr>\n",
       "\t<tr><th scope=row>kurtosis</th><td> -0.6</td><td> -0.4</td><td>  1.3</td></tr>\n",
       "</tbody>\n",
       "</table>\n"
      ],
      "text/latex": [
       "A data.frame: 5 × 3\n",
       "\\begin{tabular}{r|lll}\n",
       "  & stats.mmeraz.raz.cuant & stats.mmelect.lect.crit & stats.mmecomp.comp.ciud\\\\\n",
       "  & <dbl> & <dbl> & <dbl>\\\\\n",
       "\\hline\n",
       "\ttamaño & 387.0 & 387.0 & 385.0\\\\\n",
       "\tmedia & 148.9 & 149.2 & 151.8\\\\\n",
       "\tdesviación estándar &  31.6 &  29.4 &  31.8\\\\\n",
       "\tsimetría &   0.1 &   0.0 &   0.4\\\\\n",
       "\tkurtosis &  -0.6 &  -0.4 &   1.3\\\\\n",
       "\\end{tabular}\n"
      ],
      "text/markdown": [
       "\n",
       "A data.frame: 5 × 3\n",
       "\n",
       "| <!--/--> | stats.mmeraz.raz.cuant &lt;dbl&gt; | stats.mmelect.lect.crit &lt;dbl&gt; | stats.mmecomp.comp.ciud &lt;dbl&gt; |\n",
       "|---|---|---|---|\n",
       "| tamaño | 387.0 | 387.0 | 385.0 |\n",
       "| media | 148.9 | 149.2 | 151.8 |\n",
       "| desviación estándar |  31.6 |  29.4 |  31.8 |\n",
       "| simetría |   0.1 |   0.0 |   0.4 |\n",
       "| kurtosis |  -0.6 |  -0.4 |   1.3 |\n",
       "\n"
      ],
      "text/plain": [
       "                    stats.mmeraz.raz.cuant stats.mmelect.lect.crit\n",
       "tamaño              387.0                  387.0                  \n",
       "media               148.9                  149.2                  \n",
       "desviación estándar  31.6                   29.4                  \n",
       "simetría              0.1                    0.0                  \n",
       "kurtosis             -0.6                   -0.4                  \n",
       "                    stats.mmecomp.comp.ciud\n",
       "tamaño              385.0                  \n",
       "media               151.8                  \n",
       "desviación estándar  31.8                  \n",
       "simetría              0.4                  \n",
       "kurtosis              1.3                  "
      ]
     },
     "metadata": {},
     "output_type": "display_data"
    }
   ],
   "source": [
    "#Vista general del muestreo\n",
    "stats.mmeraz.raz.cuant<-round(mystats(data[mestratoraz,'raz_cuant_punt']),1)\n",
    "stats.mmelect.lect.crit<-round(mystats(data[mestratolect,'lect_crit_punt']),1)\n",
    "stats.mmecomp.comp.ciud<-round(mystats(data[mestratocomp,'comp_ciud_punt']),1)\n",
    "data.frame(stats.mmeraz.raz.cuant,stats.mmelect.lect.crit,stats.mmecomp.comp.ciud)"
   ]
  },
  {
   "cell_type": "code",
   "execution_count": 68,
   "metadata": {},
   "outputs": [],
   "source": [
    "d.mmeraz<-data[mestratoraz,]\n",
    "d.mmelect<-data[mestratolect,]\n",
    "d.mmecomp<-data[mestratocomp,]"
   ]
  },
  {
   "cell_type": "markdown",
   "metadata": {},
   "source": [
    "**Estimación por Máxima Verosimilitud**"
   ]
  },
  {
   "cell_type": "code",
   "execution_count": 69,
   "metadata": {
    "scrolled": true
   },
   "outputs": [
    {
     "name": "stderr",
     "output_type": "stream",
     "text": [
      "Warning message in dnorm(d.raz_cuant, mu, sigma, log = TRUE):\n",
      "\"NaNs produced\"\n",
      "Warning message in dnorm(d.raz_cuant, mu, sigma, log = TRUE):\n",
      "\"NaNs produced\"\n",
      "Warning message in dnorm(d.raz_cuant, mu, sigma, log = TRUE):\n",
      "\"NaNs produced\"\n"
     ]
    },
    {
     "data": {
      "text/plain": [
       "Maximum likelihood estimation\n",
       "\n",
       "Call:\n",
       "mle(minuslogl = NegLogLikrazcuant, start = list(mu = mean(na.omit(d.mmeraz$raz_cuant_punt)), \n",
       "    sigma = sd(na.omit(d.mmeraz$raz_cuant_punt))))\n",
       "\n",
       "Coefficients:\n",
       "       Estimate Std. Error\n",
       "mu    149.45116 0.03603888\n",
       "sigma  30.69224 0.02548334\n",
       "\n",
       "-2 log L: 7025133 "
      ]
     },
     "metadata": {},
     "output_type": "display_data"
    },
    {
     "name": "stderr",
     "output_type": "stream",
     "text": [
      "Warning message in dnorm(d.lect_crit, mu, sigma, log = TRUE):\n",
      "\"NaNs produced\"\n"
     ]
    },
    {
     "data": {
      "text/plain": [
       "Maximum likelihood estimation\n",
       "\n",
       "Call:\n",
       "mle(minuslogl = NegLogLiklectcrit, start = list(mu = mean(na.omit(d.mmelect$lect_crit_punt)), \n",
       "    sigma = sd(na.omit(d.mmelect$lect_crit_punt))))\n",
       "\n",
       "Coefficients:\n",
       "       Estimate Std. Error\n",
       "mu    150.12229 0.03638785\n",
       "sigma  30.98943 0.02573006\n",
       "\n",
       "-2 log L: 7039112 "
      ]
     },
     "metadata": {},
     "output_type": "display_data"
    },
    {
     "name": "stderr",
     "output_type": "stream",
     "text": [
      "Warning message in dnorm(d.comp_ciud, mu, sigma, log = TRUE):\n",
      "\"NaNs produced\"\n",
      "Warning message in dnorm(d.comp_ciud, mu, sigma, log = TRUE):\n",
      "\"NaNs produced\"\n",
      "Warning message in dnorm(d.comp_ciud, mu, sigma, log = TRUE):\n",
      "\"NaNs produced\"\n"
     ]
    },
    {
     "data": {
      "text/plain": [
       "Maximum likelihood estimation\n",
       "\n",
       "Call:\n",
       "mle(minuslogl = NegLogLikcompciud, start = list(mu = mean(na.omit(d.mmecomp$comp_ciud_punt)), \n",
       "    sigma = sd(na.omit(d.mmecomp$comp_ciud_punt))))\n",
       "\n",
       "Coefficients:\n",
       "       Estimate Std. Error\n",
       "mu    144.75924 0.03811885\n",
       "sigma  32.46364 0.02695336\n",
       "\n",
       "-2 log L: 7106553 "
      ]
     },
     "metadata": {},
     "output_type": "display_data"
    }
   ],
   "source": [
    "EMVraz.cuant.me = mle(NegLogLikrazcuant, start = list(mu=mean(na.omit(d.mmeraz$raz_cuant_punt)), sigma=sd(na.omit(d.mmeraz$raz_cuant_punt))))\n",
    "summary(EMVraz.cuant.me) # Para visualizar los valores\n",
    "                                               \n",
    "EMVlect.crit.me = mle(NegLogLiklectcrit, start = list(mu=mean(na.omit(d.mmelect$lect_crit_punt)), sigma=sd(na.omit(d.mmelect$lect_crit_punt))))\n",
    "summary(EMVlect.crit.me) # Para visualizar los valores\n",
    "                                               \n",
    "EMVcomp.ciud.me = mle(NegLogLikcompciud, start = list(mu=mean(na.omit(d.mmecomp$comp_ciud_punt)), sigma=sd(na.omit(d.mmecomp$comp_ciud_punt))))\n",
    "summary(EMVcomp.ciud.me) # Para visualizar los valores"
   ]
  },
  {
   "cell_type": "markdown",
   "metadata": {},
   "source": [
    "Así como con el MAS, las estimaciones de la media y desviación poblacional en el ME son una aproximación muy buena en cada una de las variables seleccionadas."
   ]
  },
  {
   "cell_type": "markdown",
   "metadata": {},
   "source": [
    "**Intervalos de Confianza**"
   ]
  },
  {
   "cell_type": "code",
   "execution_count": 70,
   "metadata": {},
   "outputs": [
    {
     "data": {
      "text/html": [
       "<table>\n",
       "<caption>A data.frame: 1 × 7</caption>\n",
       "<thead>\n",
       "\t<tr><th scope=col>media</th><th scope=col>desv</th><th scope=col>N</th><th scope=col>error.est</th><th scope=col>error</th><th scope=col>lim.inf</th><th scope=col>lim.sup</th></tr>\n",
       "\t<tr><th scope=col>&lt;dbl&gt;</th><th scope=col>&lt;dbl&gt;</th><th scope=col>&lt;dbl&gt;</th><th scope=col>&lt;dbl&gt;</th><th scope=col>&lt;dbl&gt;</th><th scope=col>&lt;dbl&gt;</th><th scope=col>&lt;dbl&gt;</th></tr>\n",
       "</thead>\n",
       "<tbody>\n",
       "\t<tr><td>148.94</td><td>31.65</td><td>387</td><td>1.61</td><td>2.64</td><td>146.3</td><td>151.58</td></tr>\n",
       "</tbody>\n",
       "</table>\n"
      ],
      "text/latex": [
       "A data.frame: 1 × 7\n",
       "\\begin{tabular}{lllllll}\n",
       " media & desv & N & error.est & error & lim.inf & lim.sup\\\\\n",
       " <dbl> & <dbl> & <dbl> & <dbl> & <dbl> & <dbl> & <dbl>\\\\\n",
       "\\hline\n",
       "\t 148.94 & 31.65 & 387 & 1.61 & 2.64 & 146.3 & 151.58\\\\\n",
       "\\end{tabular}\n"
      ],
      "text/markdown": [
       "\n",
       "A data.frame: 1 × 7\n",
       "\n",
       "| media &lt;dbl&gt; | desv &lt;dbl&gt; | N &lt;dbl&gt; | error.est &lt;dbl&gt; | error &lt;dbl&gt; | lim.inf &lt;dbl&gt; | lim.sup &lt;dbl&gt; |\n",
       "|---|---|---|---|---|---|---|\n",
       "| 148.94 | 31.65 | 387 | 1.61 | 2.64 | 146.3 | 151.58 |\n",
       "\n"
      ],
      "text/plain": [
       "  media  desv  N   error.est error lim.inf lim.sup\n",
       "1 148.94 31.65 387 1.61      2.64  146.3   151.58 "
      ]
     },
     "metadata": {},
     "output_type": "display_data"
    },
    {
     "data": {
      "text/html": [
       "<table>\n",
       "<caption>A data.frame: 1 × 7</caption>\n",
       "<thead>\n",
       "\t<tr><th scope=col>media</th><th scope=col>desv</th><th scope=col>N</th><th scope=col>error.est</th><th scope=col>error</th><th scope=col>lim.inf</th><th scope=col>lim.sup</th></tr>\n",
       "\t<tr><th scope=col>&lt;dbl&gt;</th><th scope=col>&lt;dbl&gt;</th><th scope=col>&lt;dbl&gt;</th><th scope=col>&lt;dbl&gt;</th><th scope=col>&lt;dbl&gt;</th><th scope=col>&lt;dbl&gt;</th><th scope=col>&lt;dbl&gt;</th></tr>\n",
       "</thead>\n",
       "<tbody>\n",
       "\t<tr><td>149.17</td><td>29.42</td><td>387</td><td>1.5</td><td>2.45</td><td>146.71</td><td>151.62</td></tr>\n",
       "</tbody>\n",
       "</table>\n"
      ],
      "text/latex": [
       "A data.frame: 1 × 7\n",
       "\\begin{tabular}{lllllll}\n",
       " media & desv & N & error.est & error & lim.inf & lim.sup\\\\\n",
       " <dbl> & <dbl> & <dbl> & <dbl> & <dbl> & <dbl> & <dbl>\\\\\n",
       "\\hline\n",
       "\t 149.17 & 29.42 & 387 & 1.5 & 2.45 & 146.71 & 151.62\\\\\n",
       "\\end{tabular}\n"
      ],
      "text/markdown": [
       "\n",
       "A data.frame: 1 × 7\n",
       "\n",
       "| media &lt;dbl&gt; | desv &lt;dbl&gt; | N &lt;dbl&gt; | error.est &lt;dbl&gt; | error &lt;dbl&gt; | lim.inf &lt;dbl&gt; | lim.sup &lt;dbl&gt; |\n",
       "|---|---|---|---|---|---|---|\n",
       "| 149.17 | 29.42 | 387 | 1.5 | 2.45 | 146.71 | 151.62 |\n",
       "\n"
      ],
      "text/plain": [
       "  media  desv  N   error.est error lim.inf lim.sup\n",
       "1 149.17 29.42 387 1.5       2.45  146.71  151.62 "
      ]
     },
     "metadata": {},
     "output_type": "display_data"
    },
    {
     "data": {
      "text/html": [
       "<table>\n",
       "<caption>A data.frame: 1 × 7</caption>\n",
       "<thead>\n",
       "\t<tr><th scope=col>media</th><th scope=col>desv</th><th scope=col>N</th><th scope=col>error.est</th><th scope=col>error</th><th scope=col>lim.inf</th><th scope=col>lim.sup</th></tr>\n",
       "\t<tr><th scope=col>&lt;dbl&gt;</th><th scope=col>&lt;dbl&gt;</th><th scope=col>&lt;dbl&gt;</th><th scope=col>&lt;dbl&gt;</th><th scope=col>&lt;dbl&gt;</th><th scope=col>&lt;dbl&gt;</th><th scope=col>&lt;dbl&gt;</th></tr>\n",
       "</thead>\n",
       "<tbody>\n",
       "\t<tr><td>151.8</td><td>31.84</td><td>385</td><td>1.62</td><td>2.66</td><td>149.14</td><td>154.46</td></tr>\n",
       "</tbody>\n",
       "</table>\n"
      ],
      "text/latex": [
       "A data.frame: 1 × 7\n",
       "\\begin{tabular}{lllllll}\n",
       " media & desv & N & error.est & error & lim.inf & lim.sup\\\\\n",
       " <dbl> & <dbl> & <dbl> & <dbl> & <dbl> & <dbl> & <dbl>\\\\\n",
       "\\hline\n",
       "\t 151.8 & 31.84 & 385 & 1.62 & 2.66 & 149.14 & 154.46\\\\\n",
       "\\end{tabular}\n"
      ],
      "text/markdown": [
       "\n",
       "A data.frame: 1 × 7\n",
       "\n",
       "| media &lt;dbl&gt; | desv &lt;dbl&gt; | N &lt;dbl&gt; | error.est &lt;dbl&gt; | error &lt;dbl&gt; | lim.inf &lt;dbl&gt; | lim.sup &lt;dbl&gt; |\n",
       "|---|---|---|---|---|---|---|\n",
       "| 151.8 | 31.84 | 385 | 1.62 | 2.66 | 149.14 | 154.46 |\n",
       "\n"
      ],
      "text/plain": [
       "  media desv  N   error.est error lim.inf lim.sup\n",
       "1 151.8 31.84 385 1.62      2.66  149.14  154.46 "
      ]
     },
     "metadata": {},
     "output_type": "display_data"
    }
   ],
   "source": [
    "#Para nivel de confianza de 90%\n",
    "infme_raz_cuant90<- inf_manual(d.mmeraz$raz_cuant_punt,1.64)\n",
    "round(infme_raz_cuant90,2)\n",
    "\n",
    "infme_lect_crit90<-inf_manual(d.mmelect$lect_crit_punt,1.64)\n",
    "round(infme_lect_crit90,2)\n",
    "\n",
    "infme_comp_ciud90<-inf_manual(d.mmecomp$comp_ciud_punt,1.64)\n",
    "round(infme_comp_ciud90,2)"
   ]
  },
  {
   "cell_type": "code",
   "execution_count": 71,
   "metadata": {},
   "outputs": [
    {
     "data": {
      "text/html": [
       "<table>\n",
       "<caption>A data.frame: 1 × 7</caption>\n",
       "<thead>\n",
       "\t<tr><th scope=col>media</th><th scope=col>desv</th><th scope=col>N</th><th scope=col>error.est</th><th scope=col>error</th><th scope=col>lim.inf</th><th scope=col>lim.sup</th></tr>\n",
       "\t<tr><th scope=col>&lt;dbl&gt;</th><th scope=col>&lt;dbl&gt;</th><th scope=col>&lt;dbl&gt;</th><th scope=col>&lt;dbl&gt;</th><th scope=col>&lt;dbl&gt;</th><th scope=col>&lt;dbl&gt;</th><th scope=col>&lt;dbl&gt;</th></tr>\n",
       "</thead>\n",
       "<tbody>\n",
       "\t<tr><td>148.94</td><td>31.65</td><td>387</td><td>1.61</td><td>3.15</td><td>145.78</td><td>152.09</td></tr>\n",
       "</tbody>\n",
       "</table>\n"
      ],
      "text/latex": [
       "A data.frame: 1 × 7\n",
       "\\begin{tabular}{lllllll}\n",
       " media & desv & N & error.est & error & lim.inf & lim.sup\\\\\n",
       " <dbl> & <dbl> & <dbl> & <dbl> & <dbl> & <dbl> & <dbl>\\\\\n",
       "\\hline\n",
       "\t 148.94 & 31.65 & 387 & 1.61 & 3.15 & 145.78 & 152.09\\\\\n",
       "\\end{tabular}\n"
      ],
      "text/markdown": [
       "\n",
       "A data.frame: 1 × 7\n",
       "\n",
       "| media &lt;dbl&gt; | desv &lt;dbl&gt; | N &lt;dbl&gt; | error.est &lt;dbl&gt; | error &lt;dbl&gt; | lim.inf &lt;dbl&gt; | lim.sup &lt;dbl&gt; |\n",
       "|---|---|---|---|---|---|---|\n",
       "| 148.94 | 31.65 | 387 | 1.61 | 3.15 | 145.78 | 152.09 |\n",
       "\n"
      ],
      "text/plain": [
       "  media  desv  N   error.est error lim.inf lim.sup\n",
       "1 148.94 31.65 387 1.61      3.15  145.78  152.09 "
      ]
     },
     "metadata": {},
     "output_type": "display_data"
    },
    {
     "data": {
      "text/html": [
       "<table>\n",
       "<caption>A data.frame: 1 × 7</caption>\n",
       "<thead>\n",
       "\t<tr><th scope=col>media</th><th scope=col>desv</th><th scope=col>N</th><th scope=col>error.est</th><th scope=col>error</th><th scope=col>lim.inf</th><th scope=col>lim.sup</th></tr>\n",
       "\t<tr><th scope=col>&lt;dbl&gt;</th><th scope=col>&lt;dbl&gt;</th><th scope=col>&lt;dbl&gt;</th><th scope=col>&lt;dbl&gt;</th><th scope=col>&lt;dbl&gt;</th><th scope=col>&lt;dbl&gt;</th><th scope=col>&lt;dbl&gt;</th></tr>\n",
       "</thead>\n",
       "<tbody>\n",
       "\t<tr><td>149.17</td><td>29.42</td><td>387</td><td>1.5</td><td>2.93</td><td>146.23</td><td>152.1</td></tr>\n",
       "</tbody>\n",
       "</table>\n"
      ],
      "text/latex": [
       "A data.frame: 1 × 7\n",
       "\\begin{tabular}{lllllll}\n",
       " media & desv & N & error.est & error & lim.inf & lim.sup\\\\\n",
       " <dbl> & <dbl> & <dbl> & <dbl> & <dbl> & <dbl> & <dbl>\\\\\n",
       "\\hline\n",
       "\t 149.17 & 29.42 & 387 & 1.5 & 2.93 & 146.23 & 152.1\\\\\n",
       "\\end{tabular}\n"
      ],
      "text/markdown": [
       "\n",
       "A data.frame: 1 × 7\n",
       "\n",
       "| media &lt;dbl&gt; | desv &lt;dbl&gt; | N &lt;dbl&gt; | error.est &lt;dbl&gt; | error &lt;dbl&gt; | lim.inf &lt;dbl&gt; | lim.sup &lt;dbl&gt; |\n",
       "|---|---|---|---|---|---|---|\n",
       "| 149.17 | 29.42 | 387 | 1.5 | 2.93 | 146.23 | 152.1 |\n",
       "\n"
      ],
      "text/plain": [
       "  media  desv  N   error.est error lim.inf lim.sup\n",
       "1 149.17 29.42 387 1.5       2.93  146.23  152.1  "
      ]
     },
     "metadata": {},
     "output_type": "display_data"
    },
    {
     "data": {
      "text/html": [
       "<table>\n",
       "<caption>A data.frame: 1 × 7</caption>\n",
       "<thead>\n",
       "\t<tr><th scope=col>media</th><th scope=col>desv</th><th scope=col>N</th><th scope=col>error.est</th><th scope=col>error</th><th scope=col>lim.inf</th><th scope=col>lim.sup</th></tr>\n",
       "\t<tr><th scope=col>&lt;dbl&gt;</th><th scope=col>&lt;dbl&gt;</th><th scope=col>&lt;dbl&gt;</th><th scope=col>&lt;dbl&gt;</th><th scope=col>&lt;dbl&gt;</th><th scope=col>&lt;dbl&gt;</th><th scope=col>&lt;dbl&gt;</th></tr>\n",
       "</thead>\n",
       "<tbody>\n",
       "\t<tr><td>151.8</td><td>31.84</td><td>385</td><td>1.62</td><td>3.18</td><td>148.62</td><td>154.98</td></tr>\n",
       "</tbody>\n",
       "</table>\n"
      ],
      "text/latex": [
       "A data.frame: 1 × 7\n",
       "\\begin{tabular}{lllllll}\n",
       " media & desv & N & error.est & error & lim.inf & lim.sup\\\\\n",
       " <dbl> & <dbl> & <dbl> & <dbl> & <dbl> & <dbl> & <dbl>\\\\\n",
       "\\hline\n",
       "\t 151.8 & 31.84 & 385 & 1.62 & 3.18 & 148.62 & 154.98\\\\\n",
       "\\end{tabular}\n"
      ],
      "text/markdown": [
       "\n",
       "A data.frame: 1 × 7\n",
       "\n",
       "| media &lt;dbl&gt; | desv &lt;dbl&gt; | N &lt;dbl&gt; | error.est &lt;dbl&gt; | error &lt;dbl&gt; | lim.inf &lt;dbl&gt; | lim.sup &lt;dbl&gt; |\n",
       "|---|---|---|---|---|---|---|\n",
       "| 151.8 | 31.84 | 385 | 1.62 | 3.18 | 148.62 | 154.98 |\n",
       "\n"
      ],
      "text/plain": [
       "  media desv  N   error.est error lim.inf lim.sup\n",
       "1 151.8 31.84 385 1.62      3.18  148.62  154.98 "
      ]
     },
     "metadata": {},
     "output_type": "display_data"
    }
   ],
   "source": [
    "#Para nivel de confianza de 95%\n",
    "infme_raz_cuant95<- inf_manual(d.mmeraz$raz_cuant_punt,1.96)\n",
    "round(infme_raz_cuant95,2)\n",
    "\n",
    "infme_lect_crit95<-inf_manual(d.mmelect$lect_crit_punt,1.96)\n",
    "round(infme_lect_crit95,2)\n",
    "\n",
    "infme_comp_ciud95<- inf_manual(d.mmecomp$comp_ciud_punt,1.96)\n",
    "round(infme_comp_ciud95,2)"
   ]
  },
  {
   "cell_type": "code",
   "execution_count": 72,
   "metadata": {},
   "outputs": [
    {
     "data": {
      "text/html": [
       "<table>\n",
       "<caption>A data.frame: 1 × 7</caption>\n",
       "<thead>\n",
       "\t<tr><th scope=col>media</th><th scope=col>desv</th><th scope=col>N</th><th scope=col>error.est</th><th scope=col>error</th><th scope=col>lim.inf</th><th scope=col>lim.sup</th></tr>\n",
       "\t<tr><th scope=col>&lt;dbl&gt;</th><th scope=col>&lt;dbl&gt;</th><th scope=col>&lt;dbl&gt;</th><th scope=col>&lt;dbl&gt;</th><th scope=col>&lt;dbl&gt;</th><th scope=col>&lt;dbl&gt;</th><th scope=col>&lt;dbl&gt;</th></tr>\n",
       "</thead>\n",
       "<tbody>\n",
       "\t<tr><td>148.94</td><td>31.65</td><td>387</td><td>1.61</td><td>4.13</td><td>144.8</td><td>153.07</td></tr>\n",
       "</tbody>\n",
       "</table>\n"
      ],
      "text/latex": [
       "A data.frame: 1 × 7\n",
       "\\begin{tabular}{lllllll}\n",
       " media & desv & N & error.est & error & lim.inf & lim.sup\\\\\n",
       " <dbl> & <dbl> & <dbl> & <dbl> & <dbl> & <dbl> & <dbl>\\\\\n",
       "\\hline\n",
       "\t 148.94 & 31.65 & 387 & 1.61 & 4.13 & 144.8 & 153.07\\\\\n",
       "\\end{tabular}\n"
      ],
      "text/markdown": [
       "\n",
       "A data.frame: 1 × 7\n",
       "\n",
       "| media &lt;dbl&gt; | desv &lt;dbl&gt; | N &lt;dbl&gt; | error.est &lt;dbl&gt; | error &lt;dbl&gt; | lim.inf &lt;dbl&gt; | lim.sup &lt;dbl&gt; |\n",
       "|---|---|---|---|---|---|---|\n",
       "| 148.94 | 31.65 | 387 | 1.61 | 4.13 | 144.8 | 153.07 |\n",
       "\n"
      ],
      "text/plain": [
       "  media  desv  N   error.est error lim.inf lim.sup\n",
       "1 148.94 31.65 387 1.61      4.13  144.8   153.07 "
      ]
     },
     "metadata": {},
     "output_type": "display_data"
    },
    {
     "data": {
      "text/html": [
       "<table>\n",
       "<caption>A data.frame: 1 × 7</caption>\n",
       "<thead>\n",
       "\t<tr><th scope=col>media</th><th scope=col>desv</th><th scope=col>N</th><th scope=col>error.est</th><th scope=col>error</th><th scope=col>lim.inf</th><th scope=col>lim.sup</th></tr>\n",
       "\t<tr><th scope=col>&lt;dbl&gt;</th><th scope=col>&lt;dbl&gt;</th><th scope=col>&lt;dbl&gt;</th><th scope=col>&lt;dbl&gt;</th><th scope=col>&lt;dbl&gt;</th><th scope=col>&lt;dbl&gt;</th><th scope=col>&lt;dbl&gt;</th></tr>\n",
       "</thead>\n",
       "<tbody>\n",
       "\t<tr><td>149.17</td><td>29.42</td><td>387</td><td>1.5</td><td>3.84</td><td>145.32</td><td>153.01</td></tr>\n",
       "</tbody>\n",
       "</table>\n"
      ],
      "text/latex": [
       "A data.frame: 1 × 7\n",
       "\\begin{tabular}{lllllll}\n",
       " media & desv & N & error.est & error & lim.inf & lim.sup\\\\\n",
       " <dbl> & <dbl> & <dbl> & <dbl> & <dbl> & <dbl> & <dbl>\\\\\n",
       "\\hline\n",
       "\t 149.17 & 29.42 & 387 & 1.5 & 3.84 & 145.32 & 153.01\\\\\n",
       "\\end{tabular}\n"
      ],
      "text/markdown": [
       "\n",
       "A data.frame: 1 × 7\n",
       "\n",
       "| media &lt;dbl&gt; | desv &lt;dbl&gt; | N &lt;dbl&gt; | error.est &lt;dbl&gt; | error &lt;dbl&gt; | lim.inf &lt;dbl&gt; | lim.sup &lt;dbl&gt; |\n",
       "|---|---|---|---|---|---|---|\n",
       "| 149.17 | 29.42 | 387 | 1.5 | 3.84 | 145.32 | 153.01 |\n",
       "\n"
      ],
      "text/plain": [
       "  media  desv  N   error.est error lim.inf lim.sup\n",
       "1 149.17 29.42 387 1.5       3.84  145.32  153.01 "
      ]
     },
     "metadata": {},
     "output_type": "display_data"
    },
    {
     "data": {
      "text/html": [
       "<table>\n",
       "<caption>A data.frame: 1 × 7</caption>\n",
       "<thead>\n",
       "\t<tr><th scope=col>media</th><th scope=col>desv</th><th scope=col>N</th><th scope=col>error.est</th><th scope=col>error</th><th scope=col>lim.inf</th><th scope=col>lim.sup</th></tr>\n",
       "\t<tr><th scope=col>&lt;dbl&gt;</th><th scope=col>&lt;dbl&gt;</th><th scope=col>&lt;dbl&gt;</th><th scope=col>&lt;dbl&gt;</th><th scope=col>&lt;dbl&gt;</th><th scope=col>&lt;dbl&gt;</th><th scope=col>&lt;dbl&gt;</th></tr>\n",
       "</thead>\n",
       "<tbody>\n",
       "\t<tr><td>151.8</td><td>31.84</td><td>385</td><td>1.62</td><td>4.17</td><td>147.63</td><td>155.97</td></tr>\n",
       "</tbody>\n",
       "</table>\n"
      ],
      "text/latex": [
       "A data.frame: 1 × 7\n",
       "\\begin{tabular}{lllllll}\n",
       " media & desv & N & error.est & error & lim.inf & lim.sup\\\\\n",
       " <dbl> & <dbl> & <dbl> & <dbl> & <dbl> & <dbl> & <dbl>\\\\\n",
       "\\hline\n",
       "\t 151.8 & 31.84 & 385 & 1.62 & 4.17 & 147.63 & 155.97\\\\\n",
       "\\end{tabular}\n"
      ],
      "text/markdown": [
       "\n",
       "A data.frame: 1 × 7\n",
       "\n",
       "| media &lt;dbl&gt; | desv &lt;dbl&gt; | N &lt;dbl&gt; | error.est &lt;dbl&gt; | error &lt;dbl&gt; | lim.inf &lt;dbl&gt; | lim.sup &lt;dbl&gt; |\n",
       "|---|---|---|---|---|---|---|\n",
       "| 151.8 | 31.84 | 385 | 1.62 | 4.17 | 147.63 | 155.97 |\n",
       "\n"
      ],
      "text/plain": [
       "  media desv  N   error.est error lim.inf lim.sup\n",
       "1 151.8 31.84 385 1.62      4.17  147.63  155.97 "
      ]
     },
     "metadata": {},
     "output_type": "display_data"
    }
   ],
   "source": [
    "#Para nivel de confianza de 99%\n",
    "infme_raz_cuant99<-inf_manual(d.mmeraz$raz_cuant_punt,2.57)\n",
    "round(infme_raz_cuant99,2)\n",
    "\n",
    "infme_lect_crit99<- inf_manual(d.mmelect$lect_crit_punt,2.57)\n",
    "round(infme_lect_crit99,2)\n",
    "\n",
    "infme_comp_ciud99<- inf_manual(d.mmecomp$comp_ciud_punt,2.57)\n",
    "round(infme_comp_ciud99,2)"
   ]
  },
  {
   "cell_type": "markdown",
   "metadata": {},
   "source": [
    "<h3 align=\"left\">Muestreo por Conglomerados</h3><br> "
   ]
  },
  {
   "cell_type": "markdown",
   "metadata": {},
   "source": [
    "Funciona de la misma forma que el estratificado pero las subdivisiones son de tipo geográfico"
   ]
  },
  {
   "cell_type": "code",
   "execution_count": 73,
   "metadata": {},
   "outputs": [
    {
     "data": {
      "text/html": [
       "<style>\n",
       ".list-inline {list-style: none; margin:0; padding: 0}\n",
       ".list-inline>li {display: inline-block}\n",
       ".list-inline>li:not(:last-child)::after {content: \"\\00b7\"; padding: 0 .5ex}\n",
       "</style>\n",
       "<ol class=list-inline><li>ATLANTICO</li><li>CUNDINAMARCA</li><li>CALDAS</li><li>MAGDALENA</li><li>CORDOBA</li><li>CAUCA</li><li>BOGOTA</li><li>ANTIOQUIA</li><li>META</li><li>CESAR</li><li>VALLE</li><li>TOLIMA</li><li>BOYACA</li><li>SANTANDER</li><li>BOLIVAR</li><li></li><li>HUILA</li><li>NORTE SANTANDER</li><li>SUCRE</li><li>QUINDIO</li><li>VAUPES</li><li>RISARALDA</li><li>NARIÃ‘O</li><li>CAQUETA</li><li>CASANARE</li><li>CHOCO</li><li>PUTUMAYO</li><li>LA GUAJIRA</li><li>GUAVIARE</li><li>ARAUCA</li><li>SAN ANDRES</li><li>VICHADA</li><li>AMAZONAS</li><li>EXTRANJERO</li><li>GUAINIA</li><li>NARIÃƒâ\\200\\230O</li></ol>\n",
       "\n",
       "<details>\n",
       "\t<summary style=display:list-item;cursor:pointer>\n",
       "\t\t<strong>Levels</strong>:\n",
       "\t</summary>\n",
       "\t<style>\n",
       "\t.list-inline {list-style: none; margin:0; padding: 0}\n",
       "\t.list-inline>li {display: inline-block}\n",
       "\t.list-inline>li:not(:last-child)::after {content: \"\\00b7\"; padding: 0 .5ex}\n",
       "\t</style>\n",
       "\t<ol class=list-inline><li>''</li><li>'AMAZONAS'</li><li>'ANTIOQUIA'</li><li>'ARAUCA'</li><li>'ATLANTICO'</li><li>'BOGOTA'</li><li>'BOLIVAR'</li><li>'BOYACA'</li><li>'CALDAS'</li><li>'CAQUETA'</li><li>'CASANARE'</li><li>'CAUCA'</li><li>'CESAR'</li><li>'CHOCO'</li><li>'CORDOBA'</li><li>'CUNDINAMARCA'</li><li>'EXTRANJERO'</li><li>'GUAINIA'</li><li>'GUAVIARE'</li><li>'HUILA'</li><li>'LA GUAJIRA'</li><li>'MAGDALENA'</li><li>'META'</li><li>'NARIÃ‘O'</li><li>'NORTE SANTANDER'</li><li>'PUTUMAYO'</li><li>'QUINDIO'</li><li>'RISARALDA'</li><li>'SAN ANDRES'</li><li>'SANTANDER'</li><li>'SUCRE'</li><li>'TOLIMA'</li><li>'VALLE'</li><li>'VAUPES'</li><li>'VICHADA'</li><li>'NARIÃƒâ\\200\\230O'</li></ol>\n",
       "</details>"
      ],
      "text/latex": [
       "\\begin{enumerate*}\n",
       "\\item ATLANTICO\n",
       "\\item CUNDINAMARCA\n",
       "\\item CALDAS\n",
       "\\item MAGDALENA\n",
       "\\item CORDOBA\n",
       "\\item CAUCA\n",
       "\\item BOGOTA\n",
       "\\item ANTIOQUIA\n",
       "\\item META\n",
       "\\item CESAR\n",
       "\\item VALLE\n",
       "\\item TOLIMA\n",
       "\\item BOYACA\n",
       "\\item SANTANDER\n",
       "\\item BOLIVAR\n",
       "\\item \n",
       "\\item HUILA\n",
       "\\item NORTE SANTANDER\n",
       "\\item SUCRE\n",
       "\\item QUINDIO\n",
       "\\item VAUPES\n",
       "\\item RISARALDA\n",
       "\\item NARIÃ‘O\n",
       "\\item CAQUETA\n",
       "\\item CASANARE\n",
       "\\item CHOCO\n",
       "\\item PUTUMAYO\n",
       "\\item LA GUAJIRA\n",
       "\\item GUAVIARE\n",
       "\\item ARAUCA\n",
       "\\item SAN ANDRES\n",
       "\\item VICHADA\n",
       "\\item AMAZONAS\n",
       "\\item EXTRANJERO\n",
       "\\item GUAINIA\n",
       "\\item NARIÃƒâ\\textbackslash{}200\\textbackslash{}230O\n",
       "\\end{enumerate*}\n",
       "\n",
       "\\emph{Levels}: \\begin{enumerate*}\n",
       "\\item ''\n",
       "\\item 'AMAZONAS'\n",
       "\\item 'ANTIOQUIA'\n",
       "\\item 'ARAUCA'\n",
       "\\item 'ATLANTICO'\n",
       "\\item 'BOGOTA'\n",
       "\\item 'BOLIVAR'\n",
       "\\item 'BOYACA'\n",
       "\\item 'CALDAS'\n",
       "\\item 'CAQUETA'\n",
       "\\item 'CASANARE'\n",
       "\\item 'CAUCA'\n",
       "\\item 'CESAR'\n",
       "\\item 'CHOCO'\n",
       "\\item 'CORDOBA'\n",
       "\\item 'CUNDINAMARCA'\n",
       "\\item 'EXTRANJERO'\n",
       "\\item 'GUAINIA'\n",
       "\\item 'GUAVIARE'\n",
       "\\item 'HUILA'\n",
       "\\item 'LA GUAJIRA'\n",
       "\\item 'MAGDALENA'\n",
       "\\item 'META'\n",
       "\\item 'NARIÃ‘O'\n",
       "\\item 'NORTE SANTANDER'\n",
       "\\item 'PUTUMAYO'\n",
       "\\item 'QUINDIO'\n",
       "\\item 'RISARALDA'\n",
       "\\item 'SAN ANDRES'\n",
       "\\item 'SANTANDER'\n",
       "\\item 'SUCRE'\n",
       "\\item 'TOLIMA'\n",
       "\\item 'VALLE'\n",
       "\\item 'VAUPES'\n",
       "\\item 'VICHADA'\n",
       "\\item 'NARIÃƒâ\\textbackslash{}200\\textbackslash{}230O'\n",
       "\\end{enumerate*}\n"
      ],
      "text/markdown": [
       "1. ATLANTICO\n",
       "2. CUNDINAMARCA\n",
       "3. CALDAS\n",
       "4. MAGDALENA\n",
       "5. CORDOBA\n",
       "6. CAUCA\n",
       "7. BOGOTA\n",
       "8. ANTIOQUIA\n",
       "9. META\n",
       "10. CESAR\n",
       "11. VALLE\n",
       "12. TOLIMA\n",
       "13. BOYACA\n",
       "14. SANTANDER\n",
       "15. BOLIVAR\n",
       "16. \n",
       "17. HUILA\n",
       "18. NORTE SANTANDER\n",
       "19. SUCRE\n",
       "20. QUINDIO\n",
       "21. VAUPES\n",
       "22. RISARALDA\n",
       "23. NARIÃ‘O\n",
       "24. CAQUETA\n",
       "25. CASANARE\n",
       "26. CHOCO\n",
       "27. PUTUMAYO\n",
       "28. LA GUAJIRA\n",
       "29. GUAVIARE\n",
       "30. ARAUCA\n",
       "31. SAN ANDRES\n",
       "32. VICHADA\n",
       "33. AMAZONAS\n",
       "34. EXTRANJERO\n",
       "35. GUAINIA\n",
       "36. NARIÃƒâ\\200\\230O\n",
       "\n",
       "\n",
       "\n",
       "**Levels**: 1. ''\n",
       "2. 'AMAZONAS'\n",
       "3. 'ANTIOQUIA'\n",
       "4. 'ARAUCA'\n",
       "5. 'ATLANTICO'\n",
       "6. 'BOGOTA'\n",
       "7. 'BOLIVAR'\n",
       "8. 'BOYACA'\n",
       "9. 'CALDAS'\n",
       "10. 'CAQUETA'\n",
       "11. 'CASANARE'\n",
       "12. 'CAUCA'\n",
       "13. 'CESAR'\n",
       "14. 'CHOCO'\n",
       "15. 'CORDOBA'\n",
       "16. 'CUNDINAMARCA'\n",
       "17. 'EXTRANJERO'\n",
       "18. 'GUAINIA'\n",
       "19. 'GUAVIARE'\n",
       "20. 'HUILA'\n",
       "21. 'LA GUAJIRA'\n",
       "22. 'MAGDALENA'\n",
       "23. 'META'\n",
       "24. 'NARIÃ‘O'\n",
       "25. 'NORTE SANTANDER'\n",
       "26. 'PUTUMAYO'\n",
       "27. 'QUINDIO'\n",
       "28. 'RISARALDA'\n",
       "29. 'SAN ANDRES'\n",
       "30. 'SANTANDER'\n",
       "31. 'SUCRE'\n",
       "32. 'TOLIMA'\n",
       "33. 'VALLE'\n",
       "34. 'VAUPES'\n",
       "35. 'VICHADA'\n",
       "36. 'NARIÃƒâ\\200\\230O'\n",
       "\n",
       "\n"
      ],
      "text/plain": [
       " [1] ATLANTICO       CUNDINAMARCA    CALDAS          MAGDALENA      \n",
       " [5] CORDOBA         CAUCA           BOGOTA          ANTIOQUIA      \n",
       " [9] META            CESAR           VALLE           TOLIMA         \n",
       "[13] BOYACA          SANTANDER       BOLIVAR                        \n",
       "[17] HUILA           NORTE SANTANDER SUCRE           QUINDIO        \n",
       "[21] VAUPES          RISARALDA       NARIÃ‘O         CAQUETA        \n",
       "[25] CASANARE        CHOCO           PUTUMAYO        LA GUAJIRA     \n",
       "[29] GUAVIARE        ARAUCA          SAN ANDRES      VICHADA        \n",
       "[33] AMAZONAS        EXTRANJERO      GUAINIA         NARIÃƒâ\\200\\230O     \n",
       "36 Levels:  AMAZONAS ANTIOQUIA ARAUCA ATLANTICO BOGOTA BOLIVAR ... NARIÃƒâ\\200\\230O"
      ]
     },
     "metadata": {},
     "output_type": "display_data"
    },
    {
     "data": {
      "text/html": [
       "<style>\n",
       ".list-inline {list-style: none; margin:0; padding: 0}\n",
       ".list-inline>li {display: inline-block}\n",
       ".list-inline>li:not(:last-child)::after {content: \"\\00b7\"; padding: 0 .5ex}\n",
       "</style>\n",
       "<ol class=list-inline><li>ATLANTICO</li><li>CUNDINAMARCA</li><li>CALDAS</li><li>MAGDALENA</li><li>CORDOBA</li><li>CAUCA</li><li>BOGOTA</li><li>ANTIOQUIA</li><li>META</li><li>CESAR</li><li>VALLE</li><li>TOLIMA</li><li>BOYACA</li><li>SANTANDER</li><li>BOLIVAR</li><li></li><li>HUILA</li><li>NORTE SANTANDER</li><li>SUCRE</li><li>QUINDIO</li><li>VAUPES</li><li>RISARALDA</li><li>NARINO</li><li>CAQUETA</li><li>CASANARE</li><li>CHOCO</li><li>PUTUMAYO</li><li>LA GUAJIRA</li><li>GUAVIARE</li><li>ARAUCA</li><li>SAN ANDRES</li><li>VICHADA</li><li>AMAZONAS</li><li>EXTRANJERO</li><li>GUAINIA</li></ol>\n",
       "\n",
       "<details>\n",
       "\t<summary style=display:list-item;cursor:pointer>\n",
       "\t\t<strong>Levels</strong>:\n",
       "\t</summary>\n",
       "\t<style>\n",
       "\t.list-inline {list-style: none; margin:0; padding: 0}\n",
       "\t.list-inline>li {display: inline-block}\n",
       "\t.list-inline>li:not(:last-child)::after {content: \"\\00b7\"; padding: 0 .5ex}\n",
       "\t</style>\n",
       "\t<ol class=list-inline><li>''</li><li>'AMAZONAS'</li><li>'ANTIOQUIA'</li><li>'ARAUCA'</li><li>'ATLANTICO'</li><li>'BOGOTA'</li><li>'BOLIVAR'</li><li>'BOYACA'</li><li>'CALDAS'</li><li>'CAQUETA'</li><li>'CASANARE'</li><li>'CAUCA'</li><li>'CESAR'</li><li>'CHOCO'</li><li>'CORDOBA'</li><li>'CUNDINAMARCA'</li><li>'EXTRANJERO'</li><li>'GUAINIA'</li><li>'GUAVIARE'</li><li>'HUILA'</li><li>'LA GUAJIRA'</li><li>'MAGDALENA'</li><li>'META'</li><li>'NARINO'</li><li>'NORTE SANTANDER'</li><li>'PUTUMAYO'</li><li>'QUINDIO'</li><li>'RISARALDA'</li><li>'SAN ANDRES'</li><li>'SANTANDER'</li><li>'SUCRE'</li><li>'TOLIMA'</li><li>'VALLE'</li><li>'VAUPES'</li><li>'VICHADA'</li></ol>\n",
       "</details>"
      ],
      "text/latex": [
       "\\begin{enumerate*}\n",
       "\\item ATLANTICO\n",
       "\\item CUNDINAMARCA\n",
       "\\item CALDAS\n",
       "\\item MAGDALENA\n",
       "\\item CORDOBA\n",
       "\\item CAUCA\n",
       "\\item BOGOTA\n",
       "\\item ANTIOQUIA\n",
       "\\item META\n",
       "\\item CESAR\n",
       "\\item VALLE\n",
       "\\item TOLIMA\n",
       "\\item BOYACA\n",
       "\\item SANTANDER\n",
       "\\item BOLIVAR\n",
       "\\item \n",
       "\\item HUILA\n",
       "\\item NORTE SANTANDER\n",
       "\\item SUCRE\n",
       "\\item QUINDIO\n",
       "\\item VAUPES\n",
       "\\item RISARALDA\n",
       "\\item NARINO\n",
       "\\item CAQUETA\n",
       "\\item CASANARE\n",
       "\\item CHOCO\n",
       "\\item PUTUMAYO\n",
       "\\item LA GUAJIRA\n",
       "\\item GUAVIARE\n",
       "\\item ARAUCA\n",
       "\\item SAN ANDRES\n",
       "\\item VICHADA\n",
       "\\item AMAZONAS\n",
       "\\item EXTRANJERO\n",
       "\\item GUAINIA\n",
       "\\end{enumerate*}\n",
       "\n",
       "\\emph{Levels}: \\begin{enumerate*}\n",
       "\\item ''\n",
       "\\item 'AMAZONAS'\n",
       "\\item 'ANTIOQUIA'\n",
       "\\item 'ARAUCA'\n",
       "\\item 'ATLANTICO'\n",
       "\\item 'BOGOTA'\n",
       "\\item 'BOLIVAR'\n",
       "\\item 'BOYACA'\n",
       "\\item 'CALDAS'\n",
       "\\item 'CAQUETA'\n",
       "\\item 'CASANARE'\n",
       "\\item 'CAUCA'\n",
       "\\item 'CESAR'\n",
       "\\item 'CHOCO'\n",
       "\\item 'CORDOBA'\n",
       "\\item 'CUNDINAMARCA'\n",
       "\\item 'EXTRANJERO'\n",
       "\\item 'GUAINIA'\n",
       "\\item 'GUAVIARE'\n",
       "\\item 'HUILA'\n",
       "\\item 'LA GUAJIRA'\n",
       "\\item 'MAGDALENA'\n",
       "\\item 'META'\n",
       "\\item 'NARINO'\n",
       "\\item 'NORTE SANTANDER'\n",
       "\\item 'PUTUMAYO'\n",
       "\\item 'QUINDIO'\n",
       "\\item 'RISARALDA'\n",
       "\\item 'SAN ANDRES'\n",
       "\\item 'SANTANDER'\n",
       "\\item 'SUCRE'\n",
       "\\item 'TOLIMA'\n",
       "\\item 'VALLE'\n",
       "\\item 'VAUPES'\n",
       "\\item 'VICHADA'\n",
       "\\end{enumerate*}\n"
      ],
      "text/markdown": [
       "1. ATLANTICO\n",
       "2. CUNDINAMARCA\n",
       "3. CALDAS\n",
       "4. MAGDALENA\n",
       "5. CORDOBA\n",
       "6. CAUCA\n",
       "7. BOGOTA\n",
       "8. ANTIOQUIA\n",
       "9. META\n",
       "10. CESAR\n",
       "11. VALLE\n",
       "12. TOLIMA\n",
       "13. BOYACA\n",
       "14. SANTANDER\n",
       "15. BOLIVAR\n",
       "16. \n",
       "17. HUILA\n",
       "18. NORTE SANTANDER\n",
       "19. SUCRE\n",
       "20. QUINDIO\n",
       "21. VAUPES\n",
       "22. RISARALDA\n",
       "23. NARINO\n",
       "24. CAQUETA\n",
       "25. CASANARE\n",
       "26. CHOCO\n",
       "27. PUTUMAYO\n",
       "28. LA GUAJIRA\n",
       "29. GUAVIARE\n",
       "30. ARAUCA\n",
       "31. SAN ANDRES\n",
       "32. VICHADA\n",
       "33. AMAZONAS\n",
       "34. EXTRANJERO\n",
       "35. GUAINIA\n",
       "\n",
       "\n",
       "\n",
       "**Levels**: 1. ''\n",
       "2. 'AMAZONAS'\n",
       "3. 'ANTIOQUIA'\n",
       "4. 'ARAUCA'\n",
       "5. 'ATLANTICO'\n",
       "6. 'BOGOTA'\n",
       "7. 'BOLIVAR'\n",
       "8. 'BOYACA'\n",
       "9. 'CALDAS'\n",
       "10. 'CAQUETA'\n",
       "11. 'CASANARE'\n",
       "12. 'CAUCA'\n",
       "13. 'CESAR'\n",
       "14. 'CHOCO'\n",
       "15. 'CORDOBA'\n",
       "16. 'CUNDINAMARCA'\n",
       "17. 'EXTRANJERO'\n",
       "18. 'GUAINIA'\n",
       "19. 'GUAVIARE'\n",
       "20. 'HUILA'\n",
       "21. 'LA GUAJIRA'\n",
       "22. 'MAGDALENA'\n",
       "23. 'META'\n",
       "24. 'NARINO'\n",
       "25. 'NORTE SANTANDER'\n",
       "26. 'PUTUMAYO'\n",
       "27. 'QUINDIO'\n",
       "28. 'RISARALDA'\n",
       "29. 'SAN ANDRES'\n",
       "30. 'SANTANDER'\n",
       "31. 'SUCRE'\n",
       "32. 'TOLIMA'\n",
       "33. 'VALLE'\n",
       "34. 'VAUPES'\n",
       "35. 'VICHADA'\n",
       "\n",
       "\n"
      ],
      "text/plain": [
       " [1] ATLANTICO       CUNDINAMARCA    CALDAS          MAGDALENA      \n",
       " [5] CORDOBA         CAUCA           BOGOTA          ANTIOQUIA      \n",
       " [9] META            CESAR           VALLE           TOLIMA         \n",
       "[13] BOYACA          SANTANDER       BOLIVAR                        \n",
       "[17] HUILA           NORTE SANTANDER SUCRE           QUINDIO        \n",
       "[21] VAUPES          RISARALDA       NARINO          CAQUETA        \n",
       "[25] CASANARE        CHOCO           PUTUMAYO        LA GUAJIRA     \n",
       "[29] GUAVIARE        ARAUCA          SAN ANDRES      VICHADA        \n",
       "[33] AMAZONAS        EXTRANJERO      GUAINIA        \n",
       "35 Levels:  AMAZONAS ANTIOQUIA ARAUCA ATLANTICO BOGOTA BOLIVAR ... VICHADA"
      ]
     },
     "metadata": {},
     "output_type": "display_data"
    }
   ],
   "source": [
    "#Dado que se usará la columna de departamentos como filtro, es necesario arreglar el nombre de NARIÑO cambiándole la Ñ por una N.\n",
    "unique(data$departamento)\n",
    "\n",
    "temp<-factor(data$departamento)\n",
    "data$departamento<-revalue(temp, c(\"NARIÃ‘O\"=\"NARINO\", \"NARIÃƒâ\\200\\230O\"=\"NARINO\"))\n",
    "\n",
    "unique(data$departamento)"
   ]
  },
  {
   "cell_type": "code",
   "execution_count": 74,
   "metadata": {},
   "outputs": [],
   "source": [
    "ddeptos <- data.frame(ddeptos=data$departamento)\n",
    "\n",
    "praz<-data.frame(praz=data$raz_cuant_punt)\n",
    "dataraz<- data.frame(praz,ddeptos)\n",
    "\n",
    "plect<-data.frame(plect=data$lect_crit_punt)\n",
    "datalect<- data.frame(plect,ddeptos)\n",
    "\n",
    "pcomp<-data.frame(pcomp=data$comp_ciud_punt)\n",
    "datacomp<- data.frame(pcomp,ddeptos)"
   ]
  },
  {
   "cell_type": "code",
   "execution_count": 75,
   "metadata": {
    "scrolled": true
   },
   "outputs": [
    {
     "data": {
      "text/html": [
       "<table>\n",
       "<caption>A tibble: 35 × 4</caption>\n",
       "<thead>\n",
       "\t<tr><th scope=col>ddeptos</th><th scope=col>n</th><th scope=col>s</th><th scope=col>p</th></tr>\n",
       "\t<tr><th scope=col>&lt;fct&gt;</th><th scope=col>&lt;int&gt;</th><th scope=col>&lt;dbl&gt;</th><th scope=col>&lt;dbl&gt;</th></tr>\n",
       "</thead>\n",
       "<tbody>\n",
       "\t<tr><td>               </td><td>  1997</td><td>30.86974</td><td>0.0027533624</td></tr>\n",
       "\t<tr><td>AMAZONAS       </td><td>   195</td><td>29.87807</td><td>0.0002688561</td></tr>\n",
       "\t<tr><td>ANTIOQUIA      </td><td> 86465</td><td>32.25236</td><td>0.1192135614</td></tr>\n",
       "\t<tr><td>ARAUCA         </td><td>  1863</td><td>26.66001</td><td>0.0025686100</td></tr>\n",
       "\t<tr><td>ATLANTICO      </td><td> 41127</td><td>30.34594</td><td>0.0567038240</td></tr>\n",
       "\t<tr><td>BOGOTA         </td><td>210798</td><td>30.12218</td><td>0.2906376026</td></tr>\n",
       "\t<tr><td>BOLIVAR        </td><td> 22906</td><td>30.65915</td><td>0.0315816323</td></tr>\n",
       "\t<tr><td>BOYACA         </td><td> 17955</td><td>28.47879</td><td>0.0247554443</td></tr>\n",
       "\t<tr><td>CALDAS         </td><td> 14227</td><td>30.31349</td><td>0.0196154668</td></tr>\n",
       "\t<tr><td>CAQUETA        </td><td>  4098</td><td>27.76922</td><td>0.0056501148</td></tr>\n",
       "\t<tr><td>CASANARE       </td><td>  3762</td><td>27.41497</td><td>0.0051868550</td></tr>\n",
       "\t<tr><td>CAUCA          </td><td> 15567</td><td>30.11147</td><td>0.0214629909</td></tr>\n",
       "\t<tr><td>CESAR          </td><td> 10656</td><td>28.69656</td><td>0.0146919529</td></tr>\n",
       "\t<tr><td>CHOCO          </td><td>  4834</td><td>23.44087</td><td>0.0066648743</td></tr>\n",
       "\t<tr><td>CORDOBA        </td><td> 17234</td><td>28.93634</td><td>0.0237613661</td></tr>\n",
       "\t<tr><td>CUNDINAMARCA   </td><td> 39227</td><td>28.31731</td><td>0.0540842002</td></tr>\n",
       "\t<tr><td>EXTRANJERO     </td><td>   122</td><td>34.53198</td><td>0.0001682074</td></tr>\n",
       "\t<tr><td>GUAINIA        </td><td>    83</td><td>23.15131</td><td>0.0001144362</td></tr>\n",
       "\t<tr><td>GUAVIARE       </td><td>   376</td><td>26.72707</td><td>0.0005184098</td></tr>\n",
       "\t<tr><td>HUILA          </td><td> 14732</td><td>28.73042</td><td>0.0203117352</td></tr>\n",
       "\t<tr><td>LA GUAJIRA     </td><td>  7109</td><td>27.24389</td><td>0.0098015290</td></tr>\n",
       "\t<tr><td>MAGDALENA      </td><td> 10748</td><td>29.58802</td><td>0.0148187979</td></tr>\n",
       "\t<tr><td>META           </td><td> 14413</td><td>27.95687</td><td>0.0198719142</td></tr>\n",
       "\t<tr><td>NARINO         </td><td> 16267</td><td>28.39925</td><td>0.0224281155</td></tr>\n",
       "\t<tr><td>NORTE SANTANDER</td><td> 21222</td><td>28.91571</td><td>0.0292598184</td></tr>\n",
       "\t<tr><td>PUTUMAYO       </td><td>  2333</td><td>27.15459</td><td>0.0032166222</td></tr>\n",
       "\t<tr><td>QUINDIO        </td><td>  8746</td><td>29.40640</td><td>0.0120585417</td></tr>\n",
       "\t<tr><td>RISARALDA      </td><td> 15238</td><td>29.50405</td><td>0.0210093824</td></tr>\n",
       "\t<tr><td>SAN ANDRES     </td><td>   410</td><td>25.83066</td><td>0.0005652872</td></tr>\n",
       "\t<tr><td>SANTANDER      </td><td> 36348</td><td>31.23973</td><td>0.0501147809</td></tr>\n",
       "\t<tr><td>SUCRE          </td><td>  9480</td><td>28.21909</td><td>0.0130705437</td></tr>\n",
       "\t<tr><td>TOLIMA         </td><td> 18530</td><td>28.32955</td><td>0.0255482252</td></tr>\n",
       "\t<tr><td>VALLE          </td><td> 55996</td><td>30.37852</td><td>0.0772044478</td></tr>\n",
       "\t<tr><td>VAUPES         </td><td>    91</td><td>25.57178</td><td>0.0001254662</td></tr>\n",
       "\t<tr><td>VICHADA        </td><td>   140</td><td>26.51480</td><td>0.0001930249</td></tr>\n",
       "</tbody>\n",
       "</table>\n"
      ],
      "text/latex": [
       "A tibble: 35 × 4\n",
       "\\begin{tabular}{llll}\n",
       " ddeptos & n & s & p\\\\\n",
       " <fct> & <int> & <dbl> & <dbl>\\\\\n",
       "\\hline\n",
       "\t                 &   1997 & 30.86974 & 0.0027533624\\\\\n",
       "\t AMAZONAS        &    195 & 29.87807 & 0.0002688561\\\\\n",
       "\t ANTIOQUIA       &  86465 & 32.25236 & 0.1192135614\\\\\n",
       "\t ARAUCA          &   1863 & 26.66001 & 0.0025686100\\\\\n",
       "\t ATLANTICO       &  41127 & 30.34594 & 0.0567038240\\\\\n",
       "\t BOGOTA          & 210798 & 30.12218 & 0.2906376026\\\\\n",
       "\t BOLIVAR         &  22906 & 30.65915 & 0.0315816323\\\\\n",
       "\t BOYACA          &  17955 & 28.47879 & 0.0247554443\\\\\n",
       "\t CALDAS          &  14227 & 30.31349 & 0.0196154668\\\\\n",
       "\t CAQUETA         &   4098 & 27.76922 & 0.0056501148\\\\\n",
       "\t CASANARE        &   3762 & 27.41497 & 0.0051868550\\\\\n",
       "\t CAUCA           &  15567 & 30.11147 & 0.0214629909\\\\\n",
       "\t CESAR           &  10656 & 28.69656 & 0.0146919529\\\\\n",
       "\t CHOCO           &   4834 & 23.44087 & 0.0066648743\\\\\n",
       "\t CORDOBA         &  17234 & 28.93634 & 0.0237613661\\\\\n",
       "\t CUNDINAMARCA    &  39227 & 28.31731 & 0.0540842002\\\\\n",
       "\t EXTRANJERO      &    122 & 34.53198 & 0.0001682074\\\\\n",
       "\t GUAINIA         &     83 & 23.15131 & 0.0001144362\\\\\n",
       "\t GUAVIARE        &    376 & 26.72707 & 0.0005184098\\\\\n",
       "\t HUILA           &  14732 & 28.73042 & 0.0203117352\\\\\n",
       "\t LA GUAJIRA      &   7109 & 27.24389 & 0.0098015290\\\\\n",
       "\t MAGDALENA       &  10748 & 29.58802 & 0.0148187979\\\\\n",
       "\t META            &  14413 & 27.95687 & 0.0198719142\\\\\n",
       "\t NARINO          &  16267 & 28.39925 & 0.0224281155\\\\\n",
       "\t NORTE SANTANDER &  21222 & 28.91571 & 0.0292598184\\\\\n",
       "\t PUTUMAYO        &   2333 & 27.15459 & 0.0032166222\\\\\n",
       "\t QUINDIO         &   8746 & 29.40640 & 0.0120585417\\\\\n",
       "\t RISARALDA       &  15238 & 29.50405 & 0.0210093824\\\\\n",
       "\t SAN ANDRES      &    410 & 25.83066 & 0.0005652872\\\\\n",
       "\t SANTANDER       &  36348 & 31.23973 & 0.0501147809\\\\\n",
       "\t SUCRE           &   9480 & 28.21909 & 0.0130705437\\\\\n",
       "\t TOLIMA          &  18530 & 28.32955 & 0.0255482252\\\\\n",
       "\t VALLE           &  55996 & 30.37852 & 0.0772044478\\\\\n",
       "\t VAUPES          &     91 & 25.57178 & 0.0001254662\\\\\n",
       "\t VICHADA         &    140 & 26.51480 & 0.0001930249\\\\\n",
       "\\end{tabular}\n"
      ],
      "text/markdown": [
       "\n",
       "A tibble: 35 × 4\n",
       "\n",
       "| ddeptos &lt;fct&gt; | n &lt;int&gt; | s &lt;dbl&gt; | p &lt;dbl&gt; |\n",
       "|---|---|---|---|\n",
       "| <!----> |   1997 | 30.86974 | 0.0027533624 |\n",
       "| AMAZONAS        |    195 | 29.87807 | 0.0002688561 |\n",
       "| ANTIOQUIA       |  86465 | 32.25236 | 0.1192135614 |\n",
       "| ARAUCA          |   1863 | 26.66001 | 0.0025686100 |\n",
       "| ATLANTICO       |  41127 | 30.34594 | 0.0567038240 |\n",
       "| BOGOTA          | 210798 | 30.12218 | 0.2906376026 |\n",
       "| BOLIVAR         |  22906 | 30.65915 | 0.0315816323 |\n",
       "| BOYACA          |  17955 | 28.47879 | 0.0247554443 |\n",
       "| CALDAS          |  14227 | 30.31349 | 0.0196154668 |\n",
       "| CAQUETA         |   4098 | 27.76922 | 0.0056501148 |\n",
       "| CASANARE        |   3762 | 27.41497 | 0.0051868550 |\n",
       "| CAUCA           |  15567 | 30.11147 | 0.0214629909 |\n",
       "| CESAR           |  10656 | 28.69656 | 0.0146919529 |\n",
       "| CHOCO           |   4834 | 23.44087 | 0.0066648743 |\n",
       "| CORDOBA         |  17234 | 28.93634 | 0.0237613661 |\n",
       "| CUNDINAMARCA    |  39227 | 28.31731 | 0.0540842002 |\n",
       "| EXTRANJERO      |    122 | 34.53198 | 0.0001682074 |\n",
       "| GUAINIA         |     83 | 23.15131 | 0.0001144362 |\n",
       "| GUAVIARE        |    376 | 26.72707 | 0.0005184098 |\n",
       "| HUILA           |  14732 | 28.73042 | 0.0203117352 |\n",
       "| LA GUAJIRA      |   7109 | 27.24389 | 0.0098015290 |\n",
       "| MAGDALENA       |  10748 | 29.58802 | 0.0148187979 |\n",
       "| META            |  14413 | 27.95687 | 0.0198719142 |\n",
       "| NARINO          |  16267 | 28.39925 | 0.0224281155 |\n",
       "| NORTE SANTANDER |  21222 | 28.91571 | 0.0292598184 |\n",
       "| PUTUMAYO        |   2333 | 27.15459 | 0.0032166222 |\n",
       "| QUINDIO         |   8746 | 29.40640 | 0.0120585417 |\n",
       "| RISARALDA       |  15238 | 29.50405 | 0.0210093824 |\n",
       "| SAN ANDRES      |    410 | 25.83066 | 0.0005652872 |\n",
       "| SANTANDER       |  36348 | 31.23973 | 0.0501147809 |\n",
       "| SUCRE           |   9480 | 28.21909 | 0.0130705437 |\n",
       "| TOLIMA          |  18530 | 28.32955 | 0.0255482252 |\n",
       "| VALLE           |  55996 | 30.37852 | 0.0772044478 |\n",
       "| VAUPES          |     91 | 25.57178 | 0.0001254662 |\n",
       "| VICHADA         |    140 | 26.51480 | 0.0001930249 |\n",
       "\n"
      ],
      "text/plain": [
       "   ddeptos         n      s        p           \n",
       "1                    1997 30.86974 0.0027533624\n",
       "2  AMAZONAS           195 29.87807 0.0002688561\n",
       "3  ANTIOQUIA        86465 32.25236 0.1192135614\n",
       "4  ARAUCA            1863 26.66001 0.0025686100\n",
       "5  ATLANTICO        41127 30.34594 0.0567038240\n",
       "6  BOGOTA          210798 30.12218 0.2906376026\n",
       "7  BOLIVAR          22906 30.65915 0.0315816323\n",
       "8  BOYACA           17955 28.47879 0.0247554443\n",
       "9  CALDAS           14227 30.31349 0.0196154668\n",
       "10 CAQUETA           4098 27.76922 0.0056501148\n",
       "11 CASANARE          3762 27.41497 0.0051868550\n",
       "12 CAUCA            15567 30.11147 0.0214629909\n",
       "13 CESAR            10656 28.69656 0.0146919529\n",
       "14 CHOCO             4834 23.44087 0.0066648743\n",
       "15 CORDOBA          17234 28.93634 0.0237613661\n",
       "16 CUNDINAMARCA     39227 28.31731 0.0540842002\n",
       "17 EXTRANJERO         122 34.53198 0.0001682074\n",
       "18 GUAINIA             83 23.15131 0.0001144362\n",
       "19 GUAVIARE           376 26.72707 0.0005184098\n",
       "20 HUILA            14732 28.73042 0.0203117352\n",
       "21 LA GUAJIRA        7109 27.24389 0.0098015290\n",
       "22 MAGDALENA        10748 29.58802 0.0148187979\n",
       "23 META             14413 27.95687 0.0198719142\n",
       "24 NARINO           16267 28.39925 0.0224281155\n",
       "25 NORTE SANTANDER  21222 28.91571 0.0292598184\n",
       "26 PUTUMAYO          2333 27.15459 0.0032166222\n",
       "27 QUINDIO           8746 29.40640 0.0120585417\n",
       "28 RISARALDA        15238 29.50405 0.0210093824\n",
       "29 SAN ANDRES         410 25.83066 0.0005652872\n",
       "30 SANTANDER        36348 31.23973 0.0501147809\n",
       "31 SUCRE             9480 28.21909 0.0130705437\n",
       "32 TOLIMA           18530 28.32955 0.0255482252\n",
       "33 VALLE            55996 30.37852 0.0772044478\n",
       "34 VAUPES              91 25.57178 0.0001254662\n",
       "35 VICHADA            140 26.51480 0.0001930249"
      ]
     },
     "metadata": {},
     "output_type": "display_data"
    }
   ],
   "source": [
    "Conglomerados <- dataraz %>%\n",
    "  select(ddeptos, praz) %>%\n",
    "  group_by(ddeptos) %>%\n",
    "  summarise(n=n(),\n",
    "            s=sd(praz)) %>%\n",
    "  mutate(p=n/sum(n))\n",
    "\n",
    "Conglomerados"
   ]
  },
  {
   "cell_type": "code",
   "execution_count": 76,
   "metadata": {},
   "outputs": [],
   "source": [
    "nsProp384<-nstrata(n=384,wh=Conglomerados[,4],method=\"proportional\")"
   ]
  },
  {
   "cell_type": "code",
   "execution_count": 77,
   "metadata": {
    "scrolled": true
   },
   "outputs": [
    {
     "data": {
      "text/html": [
       "<table>\n",
       "<caption>A data.frame: 35 × 2</caption>\n",
       "<thead>\n",
       "\t<tr><th scope=col>des</th><th scope=col>p</th></tr>\n",
       "\t<tr><th scope=col>&lt;fct&gt;</th><th scope=col>&lt;dbl&gt;</th></tr>\n",
       "</thead>\n",
       "<tbody>\n",
       "\t<tr><td>               </td><td>  2</td></tr>\n",
       "\t<tr><td>AMAZONAS       </td><td>  1</td></tr>\n",
       "\t<tr><td>ANTIOQUIA      </td><td> 46</td></tr>\n",
       "\t<tr><td>ARAUCA         </td><td>  1</td></tr>\n",
       "\t<tr><td>ATLANTICO      </td><td> 22</td></tr>\n",
       "\t<tr><td>BOGOTA         </td><td>112</td></tr>\n",
       "\t<tr><td>BOLIVAR        </td><td> 13</td></tr>\n",
       "\t<tr><td>BOYACA         </td><td> 10</td></tr>\n",
       "\t<tr><td>CALDAS         </td><td>  8</td></tr>\n",
       "\t<tr><td>CAQUETA        </td><td>  3</td></tr>\n",
       "\t<tr><td>CASANARE       </td><td>  2</td></tr>\n",
       "\t<tr><td>CAUCA          </td><td>  9</td></tr>\n",
       "\t<tr><td>CESAR          </td><td>  6</td></tr>\n",
       "\t<tr><td>CHOCO          </td><td>  3</td></tr>\n",
       "\t<tr><td>CORDOBA        </td><td> 10</td></tr>\n",
       "\t<tr><td>CUNDINAMARCA   </td><td> 21</td></tr>\n",
       "\t<tr><td>EXTRANJERO     </td><td>  1</td></tr>\n",
       "\t<tr><td>GUAINIA        </td><td>  1</td></tr>\n",
       "\t<tr><td>GUAVIARE       </td><td>  1</td></tr>\n",
       "\t<tr><td>HUILA          </td><td>  8</td></tr>\n",
       "\t<tr><td>LA GUAJIRA     </td><td>  4</td></tr>\n",
       "\t<tr><td>MAGDALENA      </td><td>  6</td></tr>\n",
       "\t<tr><td>META           </td><td>  8</td></tr>\n",
       "\t<tr><td>NARINO         </td><td>  9</td></tr>\n",
       "\t<tr><td>NORTE SANTANDER</td><td> 12</td></tr>\n",
       "\t<tr><td>PUTUMAYO       </td><td>  2</td></tr>\n",
       "\t<tr><td>QUINDIO        </td><td>  5</td></tr>\n",
       "\t<tr><td>RISARALDA      </td><td>  9</td></tr>\n",
       "\t<tr><td>SAN ANDRES     </td><td>  1</td></tr>\n",
       "\t<tr><td>SANTANDER      </td><td> 20</td></tr>\n",
       "\t<tr><td>SUCRE          </td><td>  6</td></tr>\n",
       "\t<tr><td>TOLIMA         </td><td> 10</td></tr>\n",
       "\t<tr><td>VALLE          </td><td> 30</td></tr>\n",
       "\t<tr><td>VAUPES         </td><td>  1</td></tr>\n",
       "\t<tr><td>VICHADA        </td><td>  1</td></tr>\n",
       "</tbody>\n",
       "</table>\n"
      ],
      "text/latex": [
       "A data.frame: 35 × 2\n",
       "\\begin{tabular}{ll}\n",
       " des & p\\\\\n",
       " <fct> & <dbl>\\\\\n",
       "\\hline\n",
       "\t                 &   2\\\\\n",
       "\t AMAZONAS        &   1\\\\\n",
       "\t ANTIOQUIA       &  46\\\\\n",
       "\t ARAUCA          &   1\\\\\n",
       "\t ATLANTICO       &  22\\\\\n",
       "\t BOGOTA          & 112\\\\\n",
       "\t BOLIVAR         &  13\\\\\n",
       "\t BOYACA          &  10\\\\\n",
       "\t CALDAS          &   8\\\\\n",
       "\t CAQUETA         &   3\\\\\n",
       "\t CASANARE        &   2\\\\\n",
       "\t CAUCA           &   9\\\\\n",
       "\t CESAR           &   6\\\\\n",
       "\t CHOCO           &   3\\\\\n",
       "\t CORDOBA         &  10\\\\\n",
       "\t CUNDINAMARCA    &  21\\\\\n",
       "\t EXTRANJERO      &   1\\\\\n",
       "\t GUAINIA         &   1\\\\\n",
       "\t GUAVIARE        &   1\\\\\n",
       "\t HUILA           &   8\\\\\n",
       "\t LA GUAJIRA      &   4\\\\\n",
       "\t MAGDALENA       &   6\\\\\n",
       "\t META            &   8\\\\\n",
       "\t NARINO          &   9\\\\\n",
       "\t NORTE SANTANDER &  12\\\\\n",
       "\t PUTUMAYO        &   2\\\\\n",
       "\t QUINDIO         &   5\\\\\n",
       "\t RISARALDA       &   9\\\\\n",
       "\t SAN ANDRES      &   1\\\\\n",
       "\t SANTANDER       &  20\\\\\n",
       "\t SUCRE           &   6\\\\\n",
       "\t TOLIMA          &  10\\\\\n",
       "\t VALLE           &  30\\\\\n",
       "\t VAUPES          &   1\\\\\n",
       "\t VICHADA         &   1\\\\\n",
       "\\end{tabular}\n"
      ],
      "text/markdown": [
       "\n",
       "A data.frame: 35 × 2\n",
       "\n",
       "| des &lt;fct&gt; | p &lt;dbl&gt; |\n",
       "|---|---|\n",
       "| <!----> |   2 |\n",
       "| AMAZONAS        |   1 |\n",
       "| ANTIOQUIA       |  46 |\n",
       "| ARAUCA          |   1 |\n",
       "| ATLANTICO       |  22 |\n",
       "| BOGOTA          | 112 |\n",
       "| BOLIVAR         |  13 |\n",
       "| BOYACA          |  10 |\n",
       "| CALDAS          |   8 |\n",
       "| CAQUETA         |   3 |\n",
       "| CASANARE        |   2 |\n",
       "| CAUCA           |   9 |\n",
       "| CESAR           |   6 |\n",
       "| CHOCO           |   3 |\n",
       "| CORDOBA         |  10 |\n",
       "| CUNDINAMARCA    |  21 |\n",
       "| EXTRANJERO      |   1 |\n",
       "| GUAINIA         |   1 |\n",
       "| GUAVIARE        |   1 |\n",
       "| HUILA           |   8 |\n",
       "| LA GUAJIRA      |   4 |\n",
       "| MAGDALENA       |   6 |\n",
       "| META            |   8 |\n",
       "| NARINO          |   9 |\n",
       "| NORTE SANTANDER |  12 |\n",
       "| PUTUMAYO        |   2 |\n",
       "| QUINDIO         |   5 |\n",
       "| RISARALDA       |   9 |\n",
       "| SAN ANDRES      |   1 |\n",
       "| SANTANDER       |  20 |\n",
       "| SUCRE           |   6 |\n",
       "| TOLIMA          |  10 |\n",
       "| VALLE           |  30 |\n",
       "| VAUPES          |   1 |\n",
       "| VICHADA         |   1 |\n",
       "\n"
      ],
      "text/plain": [
       "   des             p  \n",
       "1                    2\n",
       "2  AMAZONAS          1\n",
       "3  ANTIOQUIA        46\n",
       "4  ARAUCA            1\n",
       "5  ATLANTICO        22\n",
       "6  BOGOTA          112\n",
       "7  BOLIVAR          13\n",
       "8  BOYACA           10\n",
       "9  CALDAS            8\n",
       "10 CAQUETA           3\n",
       "11 CASANARE          2\n",
       "12 CAUCA             9\n",
       "13 CESAR             6\n",
       "14 CHOCO             3\n",
       "15 CORDOBA          10\n",
       "16 CUNDINAMARCA     21\n",
       "17 EXTRANJERO        1\n",
       "18 GUAINIA           1\n",
       "19 GUAVIARE          1\n",
       "20 HUILA             8\n",
       "21 LA GUAJIRA        4\n",
       "22 MAGDALENA         6\n",
       "23 META              8\n",
       "24 NARINO            9\n",
       "25 NORTE SANTANDER  12\n",
       "26 PUTUMAYO          2\n",
       "27 QUINDIO           5\n",
       "28 RISARALDA         9\n",
       "29 SAN ANDRES        1\n",
       "30 SANTANDER        20\n",
       "31 SUCRE             6\n",
       "32 TOLIMA           10\n",
       "33 VALLE            30\n",
       "34 VAUPES            1\n",
       "35 VICHADA           1"
      ]
     },
     "metadata": {},
     "output_type": "display_data"
    }
   ],
   "source": [
    "data.frame(des=Conglomerados$ddeptos,nsProp384)"
   ]
  },
  {
   "cell_type": "code",
   "execution_count": 78,
   "metadata": {},
   "outputs": [
    {
     "data": {
      "text/html": [
       "<table>\n",
       "<caption>A data.frame: 6 × 8</caption>\n",
       "<thead>\n",
       "\t<tr><th></th><th scope=col>periodo</th><th scope=col>departamento</th><th scope=col>raz_cuant_punt</th><th scope=col>raz_cuant_des</th><th scope=col>lect_crit_punt</th><th scope=col>lect_crit_des</th><th scope=col>comp_ciud_punt</th><th scope=col>comp_ciud_des</th></tr>\n",
       "\t<tr><th></th><th scope=col>&lt;fct&gt;</th><th scope=col>&lt;fct&gt;</th><th scope=col>&lt;int&gt;</th><th scope=col>&lt;fct&gt;</th><th scope=col>&lt;int&gt;</th><th scope=col>&lt;fct&gt;</th><th scope=col>&lt;int&gt;</th><th scope=col>&lt;fct&gt;</th></tr>\n",
       "</thead>\n",
       "<tbody>\n",
       "\t<tr><th scope=row>61</th><td>2016</td><td>CUNDINAMARCA</td><td>161</td><td>Bueno     </td><td>144</td><td>Aceptable </td><td>164</td><td>Bueno     </td></tr>\n",
       "\t<tr><th scope=row>638</th><td>2016</td><td>BOGOTA      </td><td>154</td><td>Bueno     </td><td>192</td><td>Bueno     </td><td>188</td><td>Bueno     </td></tr>\n",
       "\t<tr><th scope=row>32283</th><td>2016</td><td>CALDAS      </td><td>195</td><td>Bueno     </td><td>174</td><td>Bueno     </td><td>197</td><td>Bueno     </td></tr>\n",
       "\t<tr><th scope=row>9782</th><td>2016</td><td>SANTANDER   </td><td>123</td><td>Deficiente</td><td>101</td><td>Deficiente</td><td>106</td><td>Deficiente</td></tr>\n",
       "\t<tr><th scope=row>21715</th><td>2016</td><td>CUNDINAMARCA</td><td>162</td><td>Bueno     </td><td>166</td><td>Bueno     </td><td>160</td><td>Bueno     </td></tr>\n",
       "\t<tr><th scope=row>32084</th><td>2016</td><td>CESAR       </td><td>176</td><td>Bueno     </td><td>145</td><td>Aceptable </td><td>135</td><td>Aceptable </td></tr>\n",
       "</tbody>\n",
       "</table>\n"
      ],
      "text/latex": [
       "A data.frame: 6 × 8\n",
       "\\begin{tabular}{r|llllllll}\n",
       "  & periodo & departamento & raz\\_cuant\\_punt & raz\\_cuant\\_des & lect\\_crit\\_punt & lect\\_crit\\_des & comp\\_ciud\\_punt & comp\\_ciud\\_des\\\\\n",
       "  & <fct> & <fct> & <int> & <fct> & <int> & <fct> & <int> & <fct>\\\\\n",
       "\\hline\n",
       "\t61 & 2016 & CUNDINAMARCA & 161 & Bueno      & 144 & Aceptable  & 164 & Bueno     \\\\\n",
       "\t638 & 2016 & BOGOTA       & 154 & Bueno      & 192 & Bueno      & 188 & Bueno     \\\\\n",
       "\t32283 & 2016 & CALDAS       & 195 & Bueno      & 174 & Bueno      & 197 & Bueno     \\\\\n",
       "\t9782 & 2016 & SANTANDER    & 123 & Deficiente & 101 & Deficiente & 106 & Deficiente\\\\\n",
       "\t21715 & 2016 & CUNDINAMARCA & 162 & Bueno      & 166 & Bueno      & 160 & Bueno     \\\\\n",
       "\t32084 & 2016 & CESAR        & 176 & Bueno      & 145 & Aceptable  & 135 & Aceptable \\\\\n",
       "\\end{tabular}\n"
      ],
      "text/markdown": [
       "\n",
       "A data.frame: 6 × 8\n",
       "\n",
       "| <!--/--> | periodo &lt;fct&gt; | departamento &lt;fct&gt; | raz_cuant_punt &lt;int&gt; | raz_cuant_des &lt;fct&gt; | lect_crit_punt &lt;int&gt; | lect_crit_des &lt;fct&gt; | comp_ciud_punt &lt;int&gt; | comp_ciud_des &lt;fct&gt; |\n",
       "|---|---|---|---|---|---|---|---|---|\n",
       "| 61 | 2016 | CUNDINAMARCA | 161 | Bueno      | 144 | Aceptable  | 164 | Bueno      |\n",
       "| 638 | 2016 | BOGOTA       | 154 | Bueno      | 192 | Bueno      | 188 | Bueno      |\n",
       "| 32283 | 2016 | CALDAS       | 195 | Bueno      | 174 | Bueno      | 197 | Bueno      |\n",
       "| 9782 | 2016 | SANTANDER    | 123 | Deficiente | 101 | Deficiente | 106 | Deficiente |\n",
       "| 21715 | 2016 | CUNDINAMARCA | 162 | Bueno      | 166 | Bueno      | 160 | Bueno      |\n",
       "| 32084 | 2016 | CESAR        | 176 | Bueno      | 145 | Aceptable  | 135 | Aceptable  |\n",
       "\n"
      ],
      "text/plain": [
       "      periodo departamento raz_cuant_punt raz_cuant_des lect_crit_punt\n",
       "61    2016    CUNDINAMARCA 161            Bueno         144           \n",
       "638   2016    BOGOTA       154            Bueno         192           \n",
       "32283 2016    CALDAS       195            Bueno         174           \n",
       "9782  2016    SANTANDER    123            Deficiente    101           \n",
       "21715 2016    CUNDINAMARCA 162            Bueno         166           \n",
       "32084 2016    CESAR        176            Bueno         145           \n",
       "      lect_crit_des comp_ciud_punt comp_ciud_des\n",
       "61    Aceptable     164            Bueno        \n",
       "638   Bueno         188            Bueno        \n",
       "32283 Bueno         197            Bueno        \n",
       "9782  Deficiente    106            Deficiente   \n",
       "21715 Bueno         160            Bueno        \n",
       "32084 Aceptable     135            Aceptable    "
      ]
     },
     "metadata": {},
     "output_type": "display_data"
    }
   ],
   "source": [
    "neAMAZONAS<-1 # Cantidad de sujetos en AMAZONAS\n",
    "meAMAZONAS_384<- sample(1:nrow(data[data$departamento=='AMAZONAS',]),size=neAMAZONAS,replace=FALSE)\n",
    "\n",
    "neANTIOQUIA<-46 # Cantidad de sujetos en ANTIOQUIA\n",
    "meANTIOQUIA_384<- sample(1:nrow(data[data$departamento=='ANTIOQUIA',]),size=neANTIOQUIA,replace=FALSE)\n",
    "\n",
    "neARAUCA<-1 # Cantidad de sujetos en ARAUCA\n",
    "meARAUCA_384<- sample(1:nrow(data[data$departamento=='ARAUCA',]),size=neARAUCA,replace=FALSE)\n",
    "\n",
    "neATLANTICO<-22 # Cantidad de sujetos en ATLANTICO\n",
    "meATLANTICO_384<- sample(1:nrow(data[data$departamento=='ATLANTICO',]),size=neATLANTICO,replace=FALSE)\n",
    "\n",
    "neBOGOTA<-112 # Cantidad de sujetos en BOGOTA\n",
    "meBOGOTA_384<- sample(1:nrow(data[data$departamento=='BOGOTA',]),size=neBOGOTA,replace=FALSE)\n",
    "\n",
    "neBOLIVAR<-13 # Cantidad de sujetos en BOLIVAR\n",
    "meBOLIVAR_384<- sample(1:nrow(data[data$departamento=='BOLIVAR',]),size=neBOLIVAR,replace=FALSE)\n",
    "\n",
    "neBOYACA<-10 # Cantidad de sujetos en BOYACA\n",
    "meBOYACA_384<- sample(1:nrow(data[data$departamento=='BOYACA',]),size=neBOYACA,replace=FALSE)\n",
    "\n",
    "neCALDAS<-8 # Cantidad de sujetos en CALDAS\n",
    "meCALDAS_384<- sample(1:nrow(data[data$departamento=='CALDAS',]),size=neCALDAS,replace=FALSE)\n",
    "\n",
    "neCAQUETA<-3 # Cantidad de sujetos en CAQUETA\n",
    "meCAQUETA_384<- sample(1:nrow(data[data$departamento=='CAQUETA',]),size=neCAQUETA,replace=FALSE)\n",
    "\n",
    "neCASANARE<-2 # Cantidad de sujetos en CASANARE\n",
    "meCASANARE_384<- sample(1:nrow(data[data$departamento=='CASANARE',]),size=neCASANARE,replace=FALSE)\n",
    "\n",
    "neCAUCA<-9 # Cantidad de sujetos en CAUCA\n",
    "meCAUCA_384<- sample(1:nrow(data[data$departamento=='CAUCA',]),size=neCAUCA,replace=FALSE)\n",
    "\n",
    "neCESAR<-6 # Cantidad de sujetos en CESAR\n",
    "meCESAR_384<- sample(1:nrow(data[data$departamento=='CESAR',]),size=neCESAR,replace=FALSE)\n",
    "\n",
    "neCHOCO<-3 # Cantidad de sujetos en CHOCO\n",
    "meCHOCO_384<- sample(1:nrow(data[data$departamento=='CHOCO',]),size=neCHOCO,replace=FALSE)\n",
    "\n",
    "neCORDOBA<-10 # Cantidad de sujetos en CORDOBA\n",
    "meCORDOBA_384<- sample(1:nrow(data[data$departamento=='CORDOBA',]),size=neCORDOBA,replace=FALSE)\n",
    "\n",
    "neCUNDINAMARCA<-21 # Cantidad de sujetos en CUNDINAMARCA\n",
    "meCUNDINAMARCA_384<- sample(1:nrow(data[data$departamento=='CUNDINAMARCA',]),size=neCUNDINAMARCA,replace=FALSE)\n",
    "\n",
    "neEXTRANJERO<-1 # Cantidad de sujetos en EXTRANJERO\n",
    "meEXTRANJERO_384<- sample(1:nrow(data[data$departamento=='EXTRANJERO',]),size=neEXTRANJERO,replace=FALSE)\n",
    "\n",
    "neGUAINIA<-1 # Cantidad de sujetos en GUAINIA\n",
    "meGUAINIA_384<- sample(1:nrow(data[data$departamento=='GUAINIA',]),size=neGUAINIA,replace=FALSE)\n",
    "\n",
    "neGUAVIARE<-1 # Cantidad de sujetos en GUAVIARE\n",
    "meGUAVIARE_384<- sample(1:nrow(data[data$departamento=='GUAVIARE',]),size=neGUAVIARE,replace=FALSE)\n",
    "\n",
    "neHUILA<-8 # Cantidad de sujetos en HUILA\n",
    "meHUILA_384<- sample(1:nrow(data[data$departamento=='HUILA',]),size=neHUILA,replace=FALSE)\n",
    "\n",
    "neGUAJIRA<-4 # Cantidad de sujetos en GUAJIRA\n",
    "meGUAJIRA_384<- sample(1:nrow(data[data$departamento=='LA GUAJIRA',]),size=neGUAJIRA,replace=FALSE)\n",
    "\n",
    "neMAGDALENA<-6 # Cantidad de sujetos en MAGDALENA\n",
    "meMAGDALENA_384<- sample(1:nrow(data[data$departamento=='MAGDALENA',]),size=neMAGDALENA,replace=FALSE)\n",
    "\n",
    "neMETA<-8 # Cantidad de sujetos en META\n",
    "meMETA_384<- sample(1:nrow(data[data$departamento=='META',]),size=neMETA,replace=FALSE)\n",
    "\n",
    "neNARINO<-9 # Cantidad de sujetos en NARINO\n",
    "meNARINO_384<- sample(1:nrow(data[data$departamento=='NARINO',]),size=neNARINO,replace=FALSE)\n",
    "\n",
    "neNORTE_SANTANDER<-12 # Cantidad de sujetos en NORTE_SANTANDER\n",
    "meNORTE_SANTANDER_384<- sample(1:nrow(data[data$departamento=='NORTE SANTANDER',]),size=neNORTE_SANTANDER,replace=FALSE)\n",
    "\n",
    "nePUTUMAYO<-2 # Cantidad de sujetos en PUTUMAYO\n",
    "mePUTUMAYO_384<- sample(1:nrow(data[data$departamento=='PUTUMAYO',]),size=nePUTUMAYO,replace=FALSE)\n",
    "\n",
    "neQUINDIO<-5 # Cantidad de sujetos en QUINDIO\n",
    "meQUINDIO_384<- sample(1:nrow(data[data$departamento=='QUINDIO',]),size=neQUINDIO,replace=FALSE)\n",
    "\n",
    "neRISARALDA<-9 # Cantidad de sujetos en RISARALDA\n",
    "meRISARALDA_384<- sample(1:nrow(data[data$departamento=='RISARALDA',]),size=neRISARALDA,replace=FALSE)\n",
    "\n",
    "neSAN_ANDRES<-1 # Cantidad de sujetos en SAN_ANDRES\n",
    "meSAN_ANDRES_384<- sample(1:nrow(data[data$departamento=='SAN ANDRES',]),size=neSAN_ANDRES,replace=FALSE)\n",
    "\n",
    "neSANTANDER<-20 # Cantidad de sujetos en SANTANDER\n",
    "meSANTANDER_384<- sample(1:nrow(data[data$departamento=='SANTANDER',]),size=neSANTANDER,replace=FALSE)\n",
    "\n",
    "neSUCRE<-6 # Cantidad de sujetos en SUCRE\n",
    "meSUCRE_384<- sample(1:nrow(data[data$departamento=='SUCRE',]),size=neSUCRE,replace=FALSE)\n",
    "\n",
    "neTOLIMA<-10 # Cantidad de sujetos en TOLIMA\n",
    "meTOLIMA_384<- sample(1:nrow(data[data$departamento=='TOLIMA',]),size=neTOLIMA,replace=FALSE)\n",
    "\n",
    "neVALLE<-30 # Cantidad de sujetos en VALLE\n",
    "meVALLE_384<- sample(1:nrow(data[data$departamento=='VALLE',]),size=neVALLE,replace=FALSE)\n",
    "\n",
    "neVAUPES<-1 # Cantidad de sujetos en VAUPES\n",
    "meVAUPES_384<- sample(1:nrow(data[data$departamento=='VAUPES',]),size=neVAUPES,replace=FALSE)\n",
    "\n",
    "neVICHADA<-1 # Cantidad de sujetos en VICHADA\n",
    "meVICHADA_384<- sample(1:nrow(data[data$departamento=='VICHADA',]),size=neVICHADA,replace=FALSE)\n",
    "\n",
    "mcon<-c( meAMAZONAS_384,meANTIOQUIA_384,meARAUCA_384,meATLANTICO_384,meBOGOTA_384,meBOLIVAR_384,meBOYACA_384,meCALDAS_384,meCAQUETA_384,meCASANARE_384,meCAUCA_384,meCESAR_384,meCHOCO_384,meCORDOBA_384,meCUNDINAMARCA_384,meEXTRANJERO_384,meGUAINIA_384,meGUAVIARE_384,meHUILA_384,meGUAJIRA_384,meMAGDALENA_384,meMETA_384,meNARINO_384,meNORTE_SANTANDER_384,mePUTUMAYO_384,meQUINDIO_384,meRISARALDA_384,meSAN_ANDRES_384,meSANTANDER_384,meSUCRE_384,meTOLIMA_384,meVALLE_384,meVAUPES_384,meVICHADA_384) # Unimos los tres vectores                                                                       \n",
    "mc384<-data[mcon,]\n",
    "head(mc384)"
   ]
  },
  {
   "cell_type": "code",
   "execution_count": 79,
   "metadata": {},
   "outputs": [
    {
     "data": {
      "image/png": "[encoded data removed]",
      "text/plain": [
       "Plot with title \"Competencias Ciudadanas (MC)\""
      ]
     },
     "metadata": {
      "image/png": {
       "height": 720,
       "width": 720
      },
      "text/plain": {
       "height": 720,
       "width": 720
      }
     },
     "output_type": "display_data"
    }
   ],
   "source": [
    "par(mfrow=c(3,2))\n",
    "\n",
    "with(mc384, hist(raz_cuant_punt, nclass = 50, cex.main=2.5, cex.axis=1.5, cex.lab=1.5,main = 'Razonamiento Cuantitativo (MC)'))\n",
    "with(mc384, plot(raz_cuant_des,raz_cuant_punt,  cex.main=2.5, cex.axis=1.5, cex.lab=1.5))\n",
    "with(mc384, hist(lect_crit_punt, nclass = 50, cex.main=2.5, cex.axis=1.5, cex.lab=1.5,main = 'Lectura Crítica (MC)'))\n",
    "with(mc384, plot(lect_crit_des,lect_crit_punt,  cex.main=2.5, cex.axis=1.5, cex.lab=1.5))\n",
    "with(mc384, hist(comp_ciud_punt, nclass = 50, cex.main=2.5, cex.axis=1.5, cex.lab=1.5,main = 'Competencias Ciudadanas (MC)'))\n",
    "with(mc384, plot(comp_ciud_des,comp_ciud_punt,  cex.main=2.5, cex.axis=1.5, cex.lab=1.5))\n",
    "par(mfrow=c(1,1))"
   ]
  },
  {
   "cell_type": "code",
   "execution_count": 80,
   "metadata": {},
   "outputs": [
    {
     "data": {
      "text/html": [
       "<table>\n",
       "<caption>A data.frame: 5 × 3</caption>\n",
       "<thead>\n",
       "\t<tr><th></th><th scope=col>stats.mmcraz.raz.cuant</th><th scope=col>stats.mmclect.lect.crit</th><th scope=col>stats.mmccomp.comp.ciud</th></tr>\n",
       "\t<tr><th></th><th scope=col>&lt;dbl&gt;</th><th scope=col>&lt;dbl&gt;</th><th scope=col>&lt;dbl&gt;</th></tr>\n",
       "</thead>\n",
       "<tbody>\n",
       "\t<tr><th scope=row>tamaño</th><td>402.0</td><td>402.0</td><td>402.0</td></tr>\n",
       "\t<tr><th scope=row>media</th><td>150.8</td><td>149.2</td><td>147.8</td></tr>\n",
       "\t<tr><th scope=row>desviación estándar</th><td> 28.1</td><td> 29.1</td><td> 28.5</td></tr>\n",
       "\t<tr><th scope=row>simetría</th><td>  0.0</td><td>  0.0</td><td> -0.2</td></tr>\n",
       "\t<tr><th scope=row>kurtosis</th><td> -0.3</td><td> -0.5</td><td> -0.6</td></tr>\n",
       "</tbody>\n",
       "</table>\n"
      ],
      "text/latex": [
       "A data.frame: 5 × 3\n",
       "\\begin{tabular}{r|lll}\n",
       "  & stats.mmcraz.raz.cuant & stats.mmclect.lect.crit & stats.mmccomp.comp.ciud\\\\\n",
       "  & <dbl> & <dbl> & <dbl>\\\\\n",
       "\\hline\n",
       "\ttamaño & 402.0 & 402.0 & 402.0\\\\\n",
       "\tmedia & 150.8 & 149.2 & 147.8\\\\\n",
       "\tdesviación estándar &  28.1 &  29.1 &  28.5\\\\\n",
       "\tsimetría &   0.0 &   0.0 &  -0.2\\\\\n",
       "\tkurtosis &  -0.3 &  -0.5 &  -0.6\\\\\n",
       "\\end{tabular}\n"
      ],
      "text/markdown": [
       "\n",
       "A data.frame: 5 × 3\n",
       "\n",
       "| <!--/--> | stats.mmcraz.raz.cuant &lt;dbl&gt; | stats.mmclect.lect.crit &lt;dbl&gt; | stats.mmccomp.comp.ciud &lt;dbl&gt; |\n",
       "|---|---|---|---|\n",
       "| tamaño | 402.0 | 402.0 | 402.0 |\n",
       "| media | 150.8 | 149.2 | 147.8 |\n",
       "| desviación estándar |  28.1 |  29.1 |  28.5 |\n",
       "| simetría |   0.0 |   0.0 |  -0.2 |\n",
       "| kurtosis |  -0.3 |  -0.5 |  -0.6 |\n",
       "\n"
      ],
      "text/plain": [
       "                    stats.mmcraz.raz.cuant stats.mmclect.lect.crit\n",
       "tamaño              402.0                  402.0                  \n",
       "media               150.8                  149.2                  \n",
       "desviación estándar  28.1                   29.1                  \n",
       "simetría              0.0                    0.0                  \n",
       "kurtosis             -0.3                   -0.5                  \n",
       "                    stats.mmccomp.comp.ciud\n",
       "tamaño              402.0                  \n",
       "media               147.8                  \n",
       "desviación estándar  28.5                  \n",
       "simetría             -0.2                  \n",
       "kurtosis             -0.6                  "
      ]
     },
     "metadata": {},
     "output_type": "display_data"
    }
   ],
   "source": [
    "#Vista general del muestreo\n",
    "stats.mmcraz.raz.cuant<-round(mystats(data[mcon,'raz_cuant_punt']),1)\n",
    "stats.mmclect.lect.crit<-round(mystats(data[mcon,'lect_crit_punt']),1)\n",
    "stats.mmccomp.comp.ciud<-round(mystats(data[mcon,'comp_ciud_punt']),1)\n",
    "data.frame(stats.mmcraz.raz.cuant,stats.mmclect.lect.crit,stats.mmccomp.comp.ciud)"
   ]
  },
  {
   "cell_type": "code",
   "execution_count": 81,
   "metadata": {},
   "outputs": [],
   "source": [
    "d.mcon<-data[mcon,]"
   ]
  },
  {
   "cell_type": "markdown",
   "metadata": {},
   "source": [
    "**Estimación por Máxima Verosimilitud**"
   ]
  },
  {
   "cell_type": "code",
   "execution_count": 82,
   "metadata": {
    "scrolled": true
   },
   "outputs": [
    {
     "name": "stderr",
     "output_type": "stream",
     "text": [
      "Warning message in dnorm(d.raz_cuant, mu, sigma, log = TRUE):\n",
      "\"NaNs produced\"\n"
     ]
    },
    {
     "data": {
      "text/plain": [
       "Maximum likelihood estimation\n",
       "\n",
       "Call:\n",
       "mle(minuslogl = NegLogLikrazcuant, start = list(mu = mean(na.omit(d.mcon$raz_cuant_punt)), \n",
       "    sigma = sd(na.omit(d.mcon$raz_cuant_punt))))\n",
       "\n",
       "Coefficients:\n",
       "       Estimate Std. Error\n",
       "mu    149.45116 0.03603868\n",
       "sigma  30.69209 0.02548302\n",
       "\n",
       "-2 log L: 7025133 "
      ]
     },
     "metadata": {},
     "output_type": "display_data"
    },
    {
     "name": "stderr",
     "output_type": "stream",
     "text": [
      "Warning message in dnorm(d.lect_crit, mu, sigma, log = TRUE):\n",
      "\"NaNs produced\"\n"
     ]
    },
    {
     "data": {
      "text/plain": [
       "Maximum likelihood estimation\n",
       "\n",
       "Call:\n",
       "mle(minuslogl = NegLogLiklectcrit, start = list(mu = mean(na.omit(d.mcon$lect_crit_punt)), \n",
       "    sigma = sd(na.omit(d.mcon$lect_crit_punt))))\n",
       "\n",
       "Coefficients:\n",
       "      Estimate Std. Error\n",
       "mu    150.1223  0.0363878\n",
       "sigma  30.9894  0.0257300\n",
       "\n",
       "-2 log L: 7039112 "
      ]
     },
     "metadata": {},
     "output_type": "display_data"
    },
    {
     "name": "stderr",
     "output_type": "stream",
     "text": [
      "Warning message in dnorm(d.comp_ciud, mu, sigma, log = TRUE):\n",
      "\"NaNs produced\"\n",
      "Warning message in dnorm(d.comp_ciud, mu, sigma, log = TRUE):\n",
      "\"NaNs produced\"\n"
     ]
    },
    {
     "data": {
      "text/plain": [
       "Maximum likelihood estimation\n",
       "\n",
       "Call:\n",
       "mle(minuslogl = NegLogLikcompciud, start = list(mu = mean(na.omit(d.mcon$comp_ciud_punt)), \n",
       "    sigma = sd(na.omit(d.mcon$comp_ciud_punt))))\n",
       "\n",
       "Coefficients:\n",
       "       Estimate Std. Error\n",
       "mu    144.75922 0.03811790\n",
       "sigma  32.46281 0.02695165\n",
       "\n",
       "-2 log L: 7106553 "
      ]
     },
     "metadata": {},
     "output_type": "display_data"
    }
   ],
   "source": [
    "EMVraz.cuant.me = mle(NegLogLikrazcuant, start = list(mu=mean(na.omit(d.mcon$raz_cuant_punt)), sigma=sd(na.omit(d.mcon$raz_cuant_punt))))\n",
    "summary(EMVraz.cuant.me) # Para visualizar los valores\n",
    "                                               \n",
    "EMVlect.crit.me = mle(NegLogLiklectcrit, start = list(mu=mean(na.omit(d.mcon$lect_crit_punt)), sigma=sd(na.omit(d.mcon$lect_crit_punt))))\n",
    "summary(EMVlect.crit.me) # Para visualizar los valores\n",
    "                                               \n",
    "EMVcomp.ciud.me = mle(NegLogLikcompciud, start = list(mu=mean(na.omit(d.mcon$comp_ciud_punt)), sigma=sd(na.omit(d.mcon$comp_ciud_punt))))\n",
    "summary(EMVcomp.ciud.me) # Para visualizar los valores"
   ]
  },
  {
   "cell_type": "markdown",
   "metadata": {},
   "source": [
    "Así como en los muestreos realizados hasta ahora, en el muestreo por conglomerados también se obtiene una estimación bastante precisa en cada una de las variables tanto para la media como la desviación."
   ]
  },
  {
   "cell_type": "markdown",
   "metadata": {},
   "source": [
    "**Intervalos de Confianza**"
   ]
  },
  {
   "cell_type": "code",
   "execution_count": 83,
   "metadata": {},
   "outputs": [
    {
     "data": {
      "text/html": [
       "<table>\n",
       "<caption>A data.frame: 1 × 7</caption>\n",
       "<thead>\n",
       "\t<tr><th scope=col>media</th><th scope=col>desv</th><th scope=col>N</th><th scope=col>error.est</th><th scope=col>error</th><th scope=col>lim.inf</th><th scope=col>lim.sup</th></tr>\n",
       "\t<tr><th scope=col>&lt;dbl&gt;</th><th scope=col>&lt;dbl&gt;</th><th scope=col>&lt;dbl&gt;</th><th scope=col>&lt;dbl&gt;</th><th scope=col>&lt;dbl&gt;</th><th scope=col>&lt;dbl&gt;</th><th scope=col>&lt;dbl&gt;</th></tr>\n",
       "</thead>\n",
       "<tbody>\n",
       "\t<tr><td>150.77</td><td>28.13</td><td>402</td><td>1.4</td><td>2.3</td><td>148.47</td><td>153.07</td></tr>\n",
       "</tbody>\n",
       "</table>\n"
      ],
      "text/latex": [
       "A data.frame: 1 × 7\n",
       "\\begin{tabular}{lllllll}\n",
       " media & desv & N & error.est & error & lim.inf & lim.sup\\\\\n",
       " <dbl> & <dbl> & <dbl> & <dbl> & <dbl> & <dbl> & <dbl>\\\\\n",
       "\\hline\n",
       "\t 150.77 & 28.13 & 402 & 1.4 & 2.3 & 148.47 & 153.07\\\\\n",
       "\\end{tabular}\n"
      ],
      "text/markdown": [
       "\n",
       "A data.frame: 1 × 7\n",
       "\n",
       "| media &lt;dbl&gt; | desv &lt;dbl&gt; | N &lt;dbl&gt; | error.est &lt;dbl&gt; | error &lt;dbl&gt; | lim.inf &lt;dbl&gt; | lim.sup &lt;dbl&gt; |\n",
       "|---|---|---|---|---|---|---|\n",
       "| 150.77 | 28.13 | 402 | 1.4 | 2.3 | 148.47 | 153.07 |\n",
       "\n"
      ],
      "text/plain": [
       "  media  desv  N   error.est error lim.inf lim.sup\n",
       "1 150.77 28.13 402 1.4       2.3   148.47  153.07 "
      ]
     },
     "metadata": {},
     "output_type": "display_data"
    },
    {
     "data": {
      "text/html": [
       "<table>\n",
       "<caption>A data.frame: 1 × 7</caption>\n",
       "<thead>\n",
       "\t<tr><th scope=col>media</th><th scope=col>desv</th><th scope=col>N</th><th scope=col>error.est</th><th scope=col>error</th><th scope=col>lim.inf</th><th scope=col>lim.sup</th></tr>\n",
       "\t<tr><th scope=col>&lt;dbl&gt;</th><th scope=col>&lt;dbl&gt;</th><th scope=col>&lt;dbl&gt;</th><th scope=col>&lt;dbl&gt;</th><th scope=col>&lt;dbl&gt;</th><th scope=col>&lt;dbl&gt;</th><th scope=col>&lt;dbl&gt;</th></tr>\n",
       "</thead>\n",
       "<tbody>\n",
       "\t<tr><td>149.15</td><td>29.05</td><td>402</td><td>1.45</td><td>2.38</td><td>146.78</td><td>151.53</td></tr>\n",
       "</tbody>\n",
       "</table>\n"
      ],
      "text/latex": [
       "A data.frame: 1 × 7\n",
       "\\begin{tabular}{lllllll}\n",
       " media & desv & N & error.est & error & lim.inf & lim.sup\\\\\n",
       " <dbl> & <dbl> & <dbl> & <dbl> & <dbl> & <dbl> & <dbl>\\\\\n",
       "\\hline\n",
       "\t 149.15 & 29.05 & 402 & 1.45 & 2.38 & 146.78 & 151.53\\\\\n",
       "\\end{tabular}\n"
      ],
      "text/markdown": [
       "\n",
       "A data.frame: 1 × 7\n",
       "\n",
       "| media &lt;dbl&gt; | desv &lt;dbl&gt; | N &lt;dbl&gt; | error.est &lt;dbl&gt; | error &lt;dbl&gt; | lim.inf &lt;dbl&gt; | lim.sup &lt;dbl&gt; |\n",
       "|---|---|---|---|---|---|---|\n",
       "| 149.15 | 29.05 | 402 | 1.45 | 2.38 | 146.78 | 151.53 |\n",
       "\n"
      ],
      "text/plain": [
       "  media  desv  N   error.est error lim.inf lim.sup\n",
       "1 149.15 29.05 402 1.45      2.38  146.78  151.53 "
      ]
     },
     "metadata": {},
     "output_type": "display_data"
    },
    {
     "data": {
      "text/html": [
       "<table>\n",
       "<caption>A data.frame: 1 × 7</caption>\n",
       "<thead>\n",
       "\t<tr><th scope=col>media</th><th scope=col>desv</th><th scope=col>N</th><th scope=col>error.est</th><th scope=col>error</th><th scope=col>lim.inf</th><th scope=col>lim.sup</th></tr>\n",
       "\t<tr><th scope=col>&lt;dbl&gt;</th><th scope=col>&lt;dbl&gt;</th><th scope=col>&lt;dbl&gt;</th><th scope=col>&lt;dbl&gt;</th><th scope=col>&lt;dbl&gt;</th><th scope=col>&lt;dbl&gt;</th><th scope=col>&lt;dbl&gt;</th></tr>\n",
       "</thead>\n",
       "<tbody>\n",
       "\t<tr><td>147.83</td><td>28.53</td><td>402</td><td>1.42</td><td>2.33</td><td>145.49</td><td>150.16</td></tr>\n",
       "</tbody>\n",
       "</table>\n"
      ],
      "text/latex": [
       "A data.frame: 1 × 7\n",
       "\\begin{tabular}{lllllll}\n",
       " media & desv & N & error.est & error & lim.inf & lim.sup\\\\\n",
       " <dbl> & <dbl> & <dbl> & <dbl> & <dbl> & <dbl> & <dbl>\\\\\n",
       "\\hline\n",
       "\t 147.83 & 28.53 & 402 & 1.42 & 2.33 & 145.49 & 150.16\\\\\n",
       "\\end{tabular}\n"
      ],
      "text/markdown": [
       "\n",
       "A data.frame: 1 × 7\n",
       "\n",
       "| media &lt;dbl&gt; | desv &lt;dbl&gt; | N &lt;dbl&gt; | error.est &lt;dbl&gt; | error &lt;dbl&gt; | lim.inf &lt;dbl&gt; | lim.sup &lt;dbl&gt; |\n",
       "|---|---|---|---|---|---|---|\n",
       "| 147.83 | 28.53 | 402 | 1.42 | 2.33 | 145.49 | 150.16 |\n",
       "\n"
      ],
      "text/plain": [
       "  media  desv  N   error.est error lim.inf lim.sup\n",
       "1 147.83 28.53 402 1.42      2.33  145.49  150.16 "
      ]
     },
     "metadata": {},
     "output_type": "display_data"
    }
   ],
   "source": [
    "#Para un nivel de confianza de 90%\n",
    "infmc_raz_cuant90<- inf_manual(d.mcon$raz_cuant_punt,1.64)\n",
    "round(infmc_raz_cuant90,2)\n",
    "\n",
    "infmc_lect_crit90<-inf_manual(d.mcon$lect_crit_punt,1.64)\n",
    "round(infmc_lect_crit90,2)\n",
    "\n",
    "infmc_comp_ciud90<-inf_manual(d.mcon$comp_ciud_punt,1.64)\n",
    "round(infmc_comp_ciud90,2)"
   ]
  },
  {
   "cell_type": "code",
   "execution_count": 84,
   "metadata": {},
   "outputs": [
    {
     "data": {
      "text/html": [
       "<table>\n",
       "<caption>A data.frame: 1 × 7</caption>\n",
       "<thead>\n",
       "\t<tr><th scope=col>media</th><th scope=col>desv</th><th scope=col>N</th><th scope=col>error.est</th><th scope=col>error</th><th scope=col>lim.inf</th><th scope=col>lim.sup</th></tr>\n",
       "\t<tr><th scope=col>&lt;dbl&gt;</th><th scope=col>&lt;dbl&gt;</th><th scope=col>&lt;dbl&gt;</th><th scope=col>&lt;dbl&gt;</th><th scope=col>&lt;dbl&gt;</th><th scope=col>&lt;dbl&gt;</th><th scope=col>&lt;dbl&gt;</th></tr>\n",
       "</thead>\n",
       "<tbody>\n",
       "\t<tr><td>150.77</td><td>28.13</td><td>402</td><td>1.4</td><td>2.75</td><td>148.02</td><td>153.52</td></tr>\n",
       "</tbody>\n",
       "</table>\n"
      ],
      "text/latex": [
       "A data.frame: 1 × 7\n",
       "\\begin{tabular}{lllllll}\n",
       " media & desv & N & error.est & error & lim.inf & lim.sup\\\\\n",
       " <dbl> & <dbl> & <dbl> & <dbl> & <dbl> & <dbl> & <dbl>\\\\\n",
       "\\hline\n",
       "\t 150.77 & 28.13 & 402 & 1.4 & 2.75 & 148.02 & 153.52\\\\\n",
       "\\end{tabular}\n"
      ],
      "text/markdown": [
       "\n",
       "A data.frame: 1 × 7\n",
       "\n",
       "| media &lt;dbl&gt; | desv &lt;dbl&gt; | N &lt;dbl&gt; | error.est &lt;dbl&gt; | error &lt;dbl&gt; | lim.inf &lt;dbl&gt; | lim.sup &lt;dbl&gt; |\n",
       "|---|---|---|---|---|---|---|\n",
       "| 150.77 | 28.13 | 402 | 1.4 | 2.75 | 148.02 | 153.52 |\n",
       "\n"
      ],
      "text/plain": [
       "  media  desv  N   error.est error lim.inf lim.sup\n",
       "1 150.77 28.13 402 1.4       2.75  148.02  153.52 "
      ]
     },
     "metadata": {},
     "output_type": "display_data"
    },
    {
     "data": {
      "text/html": [
       "<table>\n",
       "<caption>A data.frame: 1 × 7</caption>\n",
       "<thead>\n",
       "\t<tr><th scope=col>media</th><th scope=col>desv</th><th scope=col>N</th><th scope=col>error.est</th><th scope=col>error</th><th scope=col>lim.inf</th><th scope=col>lim.sup</th></tr>\n",
       "\t<tr><th scope=col>&lt;dbl&gt;</th><th scope=col>&lt;dbl&gt;</th><th scope=col>&lt;dbl&gt;</th><th scope=col>&lt;dbl&gt;</th><th scope=col>&lt;dbl&gt;</th><th scope=col>&lt;dbl&gt;</th><th scope=col>&lt;dbl&gt;</th></tr>\n",
       "</thead>\n",
       "<tbody>\n",
       "\t<tr><td>149.15</td><td>29.05</td><td>402</td><td>1.45</td><td>2.84</td><td>146.31</td><td>151.99</td></tr>\n",
       "</tbody>\n",
       "</table>\n"
      ],
      "text/latex": [
       "A data.frame: 1 × 7\n",
       "\\begin{tabular}{lllllll}\n",
       " media & desv & N & error.est & error & lim.inf & lim.sup\\\\\n",
       " <dbl> & <dbl> & <dbl> & <dbl> & <dbl> & <dbl> & <dbl>\\\\\n",
       "\\hline\n",
       "\t 149.15 & 29.05 & 402 & 1.45 & 2.84 & 146.31 & 151.99\\\\\n",
       "\\end{tabular}\n"
      ],
      "text/markdown": [
       "\n",
       "A data.frame: 1 × 7\n",
       "\n",
       "| media &lt;dbl&gt; | desv &lt;dbl&gt; | N &lt;dbl&gt; | error.est &lt;dbl&gt; | error &lt;dbl&gt; | lim.inf &lt;dbl&gt; | lim.sup &lt;dbl&gt; |\n",
       "|---|---|---|---|---|---|---|\n",
       "| 149.15 | 29.05 | 402 | 1.45 | 2.84 | 146.31 | 151.99 |\n",
       "\n"
      ],
      "text/plain": [
       "  media  desv  N   error.est error lim.inf lim.sup\n",
       "1 149.15 29.05 402 1.45      2.84  146.31  151.99 "
      ]
     },
     "metadata": {},
     "output_type": "display_data"
    },
    {
     "data": {
      "text/html": [
       "<table>\n",
       "<caption>A data.frame: 1 × 7</caption>\n",
       "<thead>\n",
       "\t<tr><th scope=col>media</th><th scope=col>desv</th><th scope=col>N</th><th scope=col>error.est</th><th scope=col>error</th><th scope=col>lim.inf</th><th scope=col>lim.sup</th></tr>\n",
       "\t<tr><th scope=col>&lt;dbl&gt;</th><th scope=col>&lt;dbl&gt;</th><th scope=col>&lt;dbl&gt;</th><th scope=col>&lt;dbl&gt;</th><th scope=col>&lt;dbl&gt;</th><th scope=col>&lt;dbl&gt;</th><th scope=col>&lt;dbl&gt;</th></tr>\n",
       "</thead>\n",
       "<tbody>\n",
       "\t<tr><td>147.83</td><td>28.53</td><td>402</td><td>1.42</td><td>2.79</td><td>145.04</td><td>150.61</td></tr>\n",
       "</tbody>\n",
       "</table>\n"
      ],
      "text/latex": [
       "A data.frame: 1 × 7\n",
       "\\begin{tabular}{lllllll}\n",
       " media & desv & N & error.est & error & lim.inf & lim.sup\\\\\n",
       " <dbl> & <dbl> & <dbl> & <dbl> & <dbl> & <dbl> & <dbl>\\\\\n",
       "\\hline\n",
       "\t 147.83 & 28.53 & 402 & 1.42 & 2.79 & 145.04 & 150.61\\\\\n",
       "\\end{tabular}\n"
      ],
      "text/markdown": [
       "\n",
       "A data.frame: 1 × 7\n",
       "\n",
       "| media &lt;dbl&gt; | desv &lt;dbl&gt; | N &lt;dbl&gt; | error.est &lt;dbl&gt; | error &lt;dbl&gt; | lim.inf &lt;dbl&gt; | lim.sup &lt;dbl&gt; |\n",
       "|---|---|---|---|---|---|---|\n",
       "| 147.83 | 28.53 | 402 | 1.42 | 2.79 | 145.04 | 150.61 |\n",
       "\n"
      ],
      "text/plain": [
       "  media  desv  N   error.est error lim.inf lim.sup\n",
       "1 147.83 28.53 402 1.42      2.79  145.04  150.61 "
      ]
     },
     "metadata": {},
     "output_type": "display_data"
    }
   ],
   "source": [
    "#Para un nivel de confianza de 95%\n",
    "infmc_raz_cuant95<- inf_manual(d.mcon$raz_cuant_punt,1.96)\n",
    "round(infmc_raz_cuant95,2)\n",
    "\n",
    "infmc_lect_crit95<-inf_manual(d.mcon$lect_crit_punt,1.96)\n",
    "round(infmc_lect_crit95,2)\n",
    "\n",
    "infmc_comp_ciud95<- inf_manual(d.mcon$comp_ciud_punt,1.96)\n",
    "round(infmc_comp_ciud95,2)"
   ]
  },
  {
   "cell_type": "code",
   "execution_count": 85,
   "metadata": {},
   "outputs": [
    {
     "data": {
      "text/html": [
       "<table>\n",
       "<caption>A data.frame: 1 × 7</caption>\n",
       "<thead>\n",
       "\t<tr><th scope=col>media</th><th scope=col>desv</th><th scope=col>N</th><th scope=col>error.est</th><th scope=col>error</th><th scope=col>lim.inf</th><th scope=col>lim.sup</th></tr>\n",
       "\t<tr><th scope=col>&lt;dbl&gt;</th><th scope=col>&lt;dbl&gt;</th><th scope=col>&lt;dbl&gt;</th><th scope=col>&lt;dbl&gt;</th><th scope=col>&lt;dbl&gt;</th><th scope=col>&lt;dbl&gt;</th><th scope=col>&lt;dbl&gt;</th></tr>\n",
       "</thead>\n",
       "<tbody>\n",
       "\t<tr><td>150.77</td><td>28.13</td><td>402</td><td>1.4</td><td>3.61</td><td>147.17</td><td>154.38</td></tr>\n",
       "</tbody>\n",
       "</table>\n"
      ],
      "text/latex": [
       "A data.frame: 1 × 7\n",
       "\\begin{tabular}{lllllll}\n",
       " media & desv & N & error.est & error & lim.inf & lim.sup\\\\\n",
       " <dbl> & <dbl> & <dbl> & <dbl> & <dbl> & <dbl> & <dbl>\\\\\n",
       "\\hline\n",
       "\t 150.77 & 28.13 & 402 & 1.4 & 3.61 & 147.17 & 154.38\\\\\n",
       "\\end{tabular}\n"
      ],
      "text/markdown": [
       "\n",
       "A data.frame: 1 × 7\n",
       "\n",
       "| media &lt;dbl&gt; | desv &lt;dbl&gt; | N &lt;dbl&gt; | error.est &lt;dbl&gt; | error &lt;dbl&gt; | lim.inf &lt;dbl&gt; | lim.sup &lt;dbl&gt; |\n",
       "|---|---|---|---|---|---|---|\n",
       "| 150.77 | 28.13 | 402 | 1.4 | 3.61 | 147.17 | 154.38 |\n",
       "\n"
      ],
      "text/plain": [
       "  media  desv  N   error.est error lim.inf lim.sup\n",
       "1 150.77 28.13 402 1.4       3.61  147.17  154.38 "
      ]
     },
     "metadata": {},
     "output_type": "display_data"
    },
    {
     "data": {
      "text/html": [
       "<table>\n",
       "<caption>A data.frame: 1 × 7</caption>\n",
       "<thead>\n",
       "\t<tr><th scope=col>media</th><th scope=col>desv</th><th scope=col>N</th><th scope=col>error.est</th><th scope=col>error</th><th scope=col>lim.inf</th><th scope=col>lim.sup</th></tr>\n",
       "\t<tr><th scope=col>&lt;dbl&gt;</th><th scope=col>&lt;dbl&gt;</th><th scope=col>&lt;dbl&gt;</th><th scope=col>&lt;dbl&gt;</th><th scope=col>&lt;dbl&gt;</th><th scope=col>&lt;dbl&gt;</th><th scope=col>&lt;dbl&gt;</th></tr>\n",
       "</thead>\n",
       "<tbody>\n",
       "\t<tr><td>149.15</td><td>29.05</td><td>402</td><td>1.45</td><td>3.72</td><td>145.43</td><td>152.88</td></tr>\n",
       "</tbody>\n",
       "</table>\n"
      ],
      "text/latex": [
       "A data.frame: 1 × 7\n",
       "\\begin{tabular}{lllllll}\n",
       " media & desv & N & error.est & error & lim.inf & lim.sup\\\\\n",
       " <dbl> & <dbl> & <dbl> & <dbl> & <dbl> & <dbl> & <dbl>\\\\\n",
       "\\hline\n",
       "\t 149.15 & 29.05 & 402 & 1.45 & 3.72 & 145.43 & 152.88\\\\\n",
       "\\end{tabular}\n"
      ],
      "text/markdown": [
       "\n",
       "A data.frame: 1 × 7\n",
       "\n",
       "| media &lt;dbl&gt; | desv &lt;dbl&gt; | N &lt;dbl&gt; | error.est &lt;dbl&gt; | error &lt;dbl&gt; | lim.inf &lt;dbl&gt; | lim.sup &lt;dbl&gt; |\n",
       "|---|---|---|---|---|---|---|\n",
       "| 149.15 | 29.05 | 402 | 1.45 | 3.72 | 145.43 | 152.88 |\n",
       "\n"
      ],
      "text/plain": [
       "  media  desv  N   error.est error lim.inf lim.sup\n",
       "1 149.15 29.05 402 1.45      3.72  145.43  152.88 "
      ]
     },
     "metadata": {},
     "output_type": "display_data"
    },
    {
     "data": {
      "text/html": [
       "<table>\n",
       "<caption>A data.frame: 1 × 7</caption>\n",
       "<thead>\n",
       "\t<tr><th scope=col>media</th><th scope=col>desv</th><th scope=col>N</th><th scope=col>error.est</th><th scope=col>error</th><th scope=col>lim.inf</th><th scope=col>lim.sup</th></tr>\n",
       "\t<tr><th scope=col>&lt;dbl&gt;</th><th scope=col>&lt;dbl&gt;</th><th scope=col>&lt;dbl&gt;</th><th scope=col>&lt;dbl&gt;</th><th scope=col>&lt;dbl&gt;</th><th scope=col>&lt;dbl&gt;</th><th scope=col>&lt;dbl&gt;</th></tr>\n",
       "</thead>\n",
       "<tbody>\n",
       "\t<tr><td>147.83</td><td>28.53</td><td>402</td><td>1.42</td><td>3.66</td><td>144.17</td><td>151.48</td></tr>\n",
       "</tbody>\n",
       "</table>\n"
      ],
      "text/latex": [
       "A data.frame: 1 × 7\n",
       "\\begin{tabular}{lllllll}\n",
       " media & desv & N & error.est & error & lim.inf & lim.sup\\\\\n",
       " <dbl> & <dbl> & <dbl> & <dbl> & <dbl> & <dbl> & <dbl>\\\\\n",
       "\\hline\n",
       "\t 147.83 & 28.53 & 402 & 1.42 & 3.66 & 144.17 & 151.48\\\\\n",
       "\\end{tabular}\n"
      ],
      "text/markdown": [
       "\n",
       "A data.frame: 1 × 7\n",
       "\n",
       "| media &lt;dbl&gt; | desv &lt;dbl&gt; | N &lt;dbl&gt; | error.est &lt;dbl&gt; | error &lt;dbl&gt; | lim.inf &lt;dbl&gt; | lim.sup &lt;dbl&gt; |\n",
       "|---|---|---|---|---|---|---|\n",
       "| 147.83 | 28.53 | 402 | 1.42 | 3.66 | 144.17 | 151.48 |\n",
       "\n"
      ],
      "text/plain": [
       "  media  desv  N   error.est error lim.inf lim.sup\n",
       "1 147.83 28.53 402 1.42      3.66  144.17  151.48 "
      ]
     },
     "metadata": {},
     "output_type": "display_data"
    }
   ],
   "source": [
    "#Para un nivel de confianza de 99%\n",
    "infmc_raz_cuant99<-inf_manual(d.mcon$raz_cuant_punt,2.57)\n",
    "round(infmc_raz_cuant99,2)\n",
    "\n",
    "infmc_lect_crit99<- inf_manual(d.mcon$lect_crit_punt,2.57)\n",
    "round(infmc_lect_crit99,2)\n",
    "\n",
    "infmc_comp_ciud99<- inf_manual(d.mcon$comp_ciud_punt,2.57)\n",
    "round(infmc_comp_ciud99,2)"
   ]
  },
  {
   "cell_type": "markdown",
   "metadata": {},
   "source": [
    "<h3 align=\"left\">Muestreo Sistemático</h3><br> "
   ]
  },
  {
   "cell_type": "markdown",
   "metadata": {
    "slideshow": {
     "slide_type": "-"
    }
   },
   "source": [
    "El muestreo sistemático sí puede ser procedente debido a que no se observa alguna periodicidad en los datos a analizar, por lo que este probablemente sea lo suficientemente representativo"
   ]
  },
  {
   "cell_type": "code",
   "execution_count": 86,
   "metadata": {},
   "outputs": [
    {
     "data": {
      "image/png": "[encoded data removed]",
      "text/plain": [
       "Plot with title \"Competencias Ciudadanas (MS)\""
      ]
     },
     "metadata": {
      "image/png": {
       "height": 720,
       "width": 720
      },
      "text/plain": {
       "height": 720,
       "width": 720
      }
     },
     "output_type": "display_data"
    }
   ],
   "source": [
    "msis<- sys.sample(N=nrow(data),n=384)\n",
    "d.msis<-data[msis,]\n",
    "par(mfrow=c(3,2))\n",
    "with(d.msis, hist(raz_cuant_punt, nclass = 50, cex.main=2.5, cex.axis=1.5, cex.lab=1.5,main = 'Razonamiento Cuantitativo (MS)'))\n",
    "with(d.msis, plot(raz_cuant_des,raz_cuant_punt, cex.main=2.5, cex.axis=1.5, cex.lab=1.5))\n",
    "with(d.msis, hist(lect_crit_punt, nclass = 50, cex.main=2.5, cex.axis=1.5, cex.lab=1.5,main = 'Lectura Crítica (MS)'))\n",
    "with(d.msis, plot(lect_crit_des,lect_crit_punt, cex.main=2.5, cex.axis=1.5, cex.lab=1.5))\n",
    "with(d.msis, hist(comp_ciud_punt, nclass = 50, cex.main=2.5, cex.axis=1.5, cex.lab=1.5,main = 'Competencias Ciudadanas (MS)'))\n",
    "with(d.msis, plot(comp_ciud_des,comp_ciud_punt,  cex.main=2.5, cex.axis=1.5, cex.lab=1.5))\n",
    "par(mfrow=c(1,1))"
   ]
  },
  {
   "cell_type": "code",
   "execution_count": 87,
   "metadata": {},
   "outputs": [
    {
     "data": {
      "text/html": [
       "<table>\n",
       "<caption>A data.frame: 5 × 3</caption>\n",
       "<thead>\n",
       "\t<tr><th></th><th scope=col>stats.msis.raz.cuant</th><th scope=col>stats.msis.lect.crit</th><th scope=col>stats.msis.comp.ciud</th></tr>\n",
       "\t<tr><th></th><th scope=col>&lt;dbl&gt;</th><th scope=col>&lt;dbl&gt;</th><th scope=col>&lt;dbl&gt;</th></tr>\n",
       "</thead>\n",
       "<tbody>\n",
       "\t<tr><th scope=row>tamaño</th><td>384.0</td><td>384.0</td><td>384.0</td></tr>\n",
       "\t<tr><th scope=row>media</th><td>148.5</td><td>152.7</td><td>146.7</td></tr>\n",
       "\t<tr><th scope=row>desviación estándar</th><td> 29.6</td><td> 30.6</td><td> 31.8</td></tr>\n",
       "\t<tr><th scope=row>simetría</th><td>  0.3</td><td>  0.0</td><td> -0.2</td></tr>\n",
       "\t<tr><th scope=row>kurtosis</th><td>  1.0</td><td> -0.5</td><td>  0.5</td></tr>\n",
       "</tbody>\n",
       "</table>\n"
      ],
      "text/latex": [
       "A data.frame: 5 × 3\n",
       "\\begin{tabular}{r|lll}\n",
       "  & stats.msis.raz.cuant & stats.msis.lect.crit & stats.msis.comp.ciud\\\\\n",
       "  & <dbl> & <dbl> & <dbl>\\\\\n",
       "\\hline\n",
       "\ttamaño & 384.0 & 384.0 & 384.0\\\\\n",
       "\tmedia & 148.5 & 152.7 & 146.7\\\\\n",
       "\tdesviación estándar &  29.6 &  30.6 &  31.8\\\\\n",
       "\tsimetría &   0.3 &   0.0 &  -0.2\\\\\n",
       "\tkurtosis &   1.0 &  -0.5 &   0.5\\\\\n",
       "\\end{tabular}\n"
      ],
      "text/markdown": [
       "\n",
       "A data.frame: 5 × 3\n",
       "\n",
       "| <!--/--> | stats.msis.raz.cuant &lt;dbl&gt; | stats.msis.lect.crit &lt;dbl&gt; | stats.msis.comp.ciud &lt;dbl&gt; |\n",
       "|---|---|---|---|\n",
       "| tamaño | 384.0 | 384.0 | 384.0 |\n",
       "| media | 148.5 | 152.7 | 146.7 |\n",
       "| desviación estándar |  29.6 |  30.6 |  31.8 |\n",
       "| simetría |   0.3 |   0.0 |  -0.2 |\n",
       "| kurtosis |   1.0 |  -0.5 |   0.5 |\n",
       "\n"
      ],
      "text/plain": [
       "                    stats.msis.raz.cuant stats.msis.lect.crit\n",
       "tamaño              384.0                384.0               \n",
       "media               148.5                152.7               \n",
       "desviación estándar  29.6                 30.6               \n",
       "simetría              0.3                  0.0               \n",
       "kurtosis              1.0                 -0.5               \n",
       "                    stats.msis.comp.ciud\n",
       "tamaño              384.0               \n",
       "media               146.7               \n",
       "desviación estándar  31.8               \n",
       "simetría             -0.2               \n",
       "kurtosis              0.5               "
      ]
     },
     "metadata": {},
     "output_type": "display_data"
    }
   ],
   "source": [
    "#Visión general del muestreo\n",
    "stats.msis.raz.cuant<-round(mystats(data[msis,'raz_cuant_punt']),1)\n",
    "stats.msis.lect.crit<-round(mystats(data[msis,'lect_crit_punt']),1)\n",
    "stats.msis.comp.ciud<-round(mystats(data[msis,'comp_ciud_punt']),1)\n",
    "data.frame(stats.msis.raz.cuant,stats.msis.lect.crit,stats.msis.comp.ciud)"
   ]
  },
  {
   "cell_type": "markdown",
   "metadata": {},
   "source": [
    "**Estimación por Máxima Verosimilitud**"
   ]
  },
  {
   "cell_type": "code",
   "execution_count": 88,
   "metadata": {
    "scrolled": true
   },
   "outputs": [
    {
     "name": "stderr",
     "output_type": "stream",
     "text": [
      "Warning message in dnorm(d.raz_cuant, mu, sigma, log = TRUE):\n",
      "\"NaNs produced\"\n"
     ]
    },
    {
     "data": {
      "text/plain": [
       "Maximum likelihood estimation\n",
       "\n",
       "Call:\n",
       "mle(minuslogl = NegLogLikrazcuant, start = list(mu = mean(na.omit(d.msis$raz_cuant_punt)), \n",
       "    sigma = sd(na.omit(d.msis$raz_cuant_punt))))\n",
       "\n",
       "Coefficients:\n",
       "       Estimate Std. Error\n",
       "mu    149.45117 0.03603886\n",
       "sigma  30.69224 0.02548332\n",
       "\n",
       "-2 log L: 7025133 "
      ]
     },
     "metadata": {},
     "output_type": "display_data"
    },
    {
     "name": "stderr",
     "output_type": "stream",
     "text": [
      "Warning message in dnorm(d.lect_crit, mu, sigma, log = TRUE):\n",
      "\"NaNs produced\"\n",
      "Warning message in dnorm(d.lect_crit, mu, sigma, log = TRUE):\n",
      "\"NaNs produced\"\n"
     ]
    },
    {
     "data": {
      "text/plain": [
       "Maximum likelihood estimation\n",
       "\n",
       "Call:\n",
       "mle(minuslogl = NegLogLiklectcrit, start = list(mu = mean(na.omit(d.msis$lect_crit_punt)), \n",
       "    sigma = sd(na.omit(d.msis$lect_crit_punt))))\n",
       "\n",
       "Coefficients:\n",
       "       Estimate Std. Error\n",
       "mu    150.12227 0.03638789\n",
       "sigma  30.98949 0.02573017\n",
       "\n",
       "-2 log L: 7039112 "
      ]
     },
     "metadata": {},
     "output_type": "display_data"
    },
    {
     "name": "stderr",
     "output_type": "stream",
     "text": [
      "Warning message in dnorm(d.comp_ciud, mu, sigma, log = TRUE):\n",
      "\"NaNs produced\"\n",
      "Warning message in dnorm(d.comp_ciud, mu, sigma, log = TRUE):\n",
      "\"NaNs produced\"\n"
     ]
    },
    {
     "data": {
      "text/plain": [
       "Maximum likelihood estimation\n",
       "\n",
       "Call:\n",
       "mle(minuslogl = NegLogLikcompciud, start = list(mu = mean(na.omit(d.msis$comp_ciud_punt)), \n",
       "    sigma = sd(na.omit(d.msis$comp_ciud_punt))))\n",
       "\n",
       "Coefficients:\n",
       "      Estimate Std. Error\n",
       "mu    144.7592 0.03811962\n",
       "sigma  32.4643 0.02695473\n",
       "\n",
       "-2 log L: 7106553 "
      ]
     },
     "metadata": {},
     "output_type": "display_data"
    }
   ],
   "source": [
    "EMVraz.cuant.msis = mle(NegLogLikrazcuant, start = list(mu=mean(na.omit(d.msis$raz_cuant_punt)), sigma=sd(na.omit(d.msis$raz_cuant_punt))))\n",
    "summary(EMVraz.cuant.msis) # Para visualizar los valores\n",
    "                                               \n",
    "EMVlect.crit.msis = mle(NegLogLiklectcrit, start = list(mu=mean(na.omit(d.msis$lect_crit_punt)), sigma=sd(na.omit(d.msis$lect_crit_punt))))\n",
    "summary(EMVlect.crit.msis) # Para visualizar los valores\n",
    "                                               \n",
    "EMVcomp.ciud.msis = mle(NegLogLikcompciud, start = list(mu=mean(na.omit(d.msis$comp_ciud_punt)), sigma=sd(na.omit(d.msis$comp_ciud_punt))))\n",
    "summary(EMVcomp.ciud.msis) # Para visualizar los valores"
   ]
  },
  {
   "cell_type": "markdown",
   "metadata": {},
   "source": [
    "Con estos resultados, se puede corroborar que el Muestreo Sistemático es una buena aproximación a la población, así como el resto de muestreos realizados."
   ]
  },
  {
   "cell_type": "markdown",
   "metadata": {},
   "source": [
    "**Intervalos de Confianza**"
   ]
  },
  {
   "cell_type": "code",
   "execution_count": 89,
   "metadata": {},
   "outputs": [
    {
     "data": {
      "text/html": [
       "<table>\n",
       "<caption>A data.frame: 1 × 7</caption>\n",
       "<thead>\n",
       "\t<tr><th scope=col>media</th><th scope=col>desv</th><th scope=col>N</th><th scope=col>error.est</th><th scope=col>error</th><th scope=col>lim.inf</th><th scope=col>lim.sup</th></tr>\n",
       "\t<tr><th scope=col>&lt;dbl&gt;</th><th scope=col>&lt;dbl&gt;</th><th scope=col>&lt;dbl&gt;</th><th scope=col>&lt;dbl&gt;</th><th scope=col>&lt;dbl&gt;</th><th scope=col>&lt;dbl&gt;</th><th scope=col>&lt;dbl&gt;</th></tr>\n",
       "</thead>\n",
       "<tbody>\n",
       "\t<tr><td>148.55</td><td>29.59</td><td>384</td><td>1.51</td><td>2.48</td><td>146.07</td><td>151.02</td></tr>\n",
       "</tbody>\n",
       "</table>\n"
      ],
      "text/latex": [
       "A data.frame: 1 × 7\n",
       "\\begin{tabular}{lllllll}\n",
       " media & desv & N & error.est & error & lim.inf & lim.sup\\\\\n",
       " <dbl> & <dbl> & <dbl> & <dbl> & <dbl> & <dbl> & <dbl>\\\\\n",
       "\\hline\n",
       "\t 148.55 & 29.59 & 384 & 1.51 & 2.48 & 146.07 & 151.02\\\\\n",
       "\\end{tabular}\n"
      ],
      "text/markdown": [
       "\n",
       "A data.frame: 1 × 7\n",
       "\n",
       "| media &lt;dbl&gt; | desv &lt;dbl&gt; | N &lt;dbl&gt; | error.est &lt;dbl&gt; | error &lt;dbl&gt; | lim.inf &lt;dbl&gt; | lim.sup &lt;dbl&gt; |\n",
       "|---|---|---|---|---|---|---|\n",
       "| 148.55 | 29.59 | 384 | 1.51 | 2.48 | 146.07 | 151.02 |\n",
       "\n"
      ],
      "text/plain": [
       "  media  desv  N   error.est error lim.inf lim.sup\n",
       "1 148.55 29.59 384 1.51      2.48  146.07  151.02 "
      ]
     },
     "metadata": {},
     "output_type": "display_data"
    },
    {
     "data": {
      "text/html": [
       "<table>\n",
       "<caption>A data.frame: 1 × 7</caption>\n",
       "<thead>\n",
       "\t<tr><th scope=col>media</th><th scope=col>desv</th><th scope=col>N</th><th scope=col>error.est</th><th scope=col>error</th><th scope=col>lim.inf</th><th scope=col>lim.sup</th></tr>\n",
       "\t<tr><th scope=col>&lt;dbl&gt;</th><th scope=col>&lt;dbl&gt;</th><th scope=col>&lt;dbl&gt;</th><th scope=col>&lt;dbl&gt;</th><th scope=col>&lt;dbl&gt;</th><th scope=col>&lt;dbl&gt;</th><th scope=col>&lt;dbl&gt;</th></tr>\n",
       "</thead>\n",
       "<tbody>\n",
       "\t<tr><td>152.66</td><td>30.57</td><td>384</td><td>1.56</td><td>2.56</td><td>150.1</td><td>155.21</td></tr>\n",
       "</tbody>\n",
       "</table>\n"
      ],
      "text/latex": [
       "A data.frame: 1 × 7\n",
       "\\begin{tabular}{lllllll}\n",
       " media & desv & N & error.est & error & lim.inf & lim.sup\\\\\n",
       " <dbl> & <dbl> & <dbl> & <dbl> & <dbl> & <dbl> & <dbl>\\\\\n",
       "\\hline\n",
       "\t 152.66 & 30.57 & 384 & 1.56 & 2.56 & 150.1 & 155.21\\\\\n",
       "\\end{tabular}\n"
      ],
      "text/markdown": [
       "\n",
       "A data.frame: 1 × 7\n",
       "\n",
       "| media &lt;dbl&gt; | desv &lt;dbl&gt; | N &lt;dbl&gt; | error.est &lt;dbl&gt; | error &lt;dbl&gt; | lim.inf &lt;dbl&gt; | lim.sup &lt;dbl&gt; |\n",
       "|---|---|---|---|---|---|---|\n",
       "| 152.66 | 30.57 | 384 | 1.56 | 2.56 | 150.1 | 155.21 |\n",
       "\n"
      ],
      "text/plain": [
       "  media  desv  N   error.est error lim.inf lim.sup\n",
       "1 152.66 30.57 384 1.56      2.56  150.1   155.21 "
      ]
     },
     "metadata": {},
     "output_type": "display_data"
    },
    {
     "data": {
      "text/html": [
       "<table>\n",
       "<caption>A data.frame: 1 × 7</caption>\n",
       "<thead>\n",
       "\t<tr><th scope=col>media</th><th scope=col>desv</th><th scope=col>N</th><th scope=col>error.est</th><th scope=col>error</th><th scope=col>lim.inf</th><th scope=col>lim.sup</th></tr>\n",
       "\t<tr><th scope=col>&lt;dbl&gt;</th><th scope=col>&lt;dbl&gt;</th><th scope=col>&lt;dbl&gt;</th><th scope=col>&lt;dbl&gt;</th><th scope=col>&lt;dbl&gt;</th><th scope=col>&lt;dbl&gt;</th><th scope=col>&lt;dbl&gt;</th></tr>\n",
       "</thead>\n",
       "<tbody>\n",
       "\t<tr><td>146.68</td><td>31.78</td><td>384</td><td>1.62</td><td>2.66</td><td>144.03</td><td>149.34</td></tr>\n",
       "</tbody>\n",
       "</table>\n"
      ],
      "text/latex": [
       "A data.frame: 1 × 7\n",
       "\\begin{tabular}{lllllll}\n",
       " media & desv & N & error.est & error & lim.inf & lim.sup\\\\\n",
       " <dbl> & <dbl> & <dbl> & <dbl> & <dbl> & <dbl> & <dbl>\\\\\n",
       "\\hline\n",
       "\t 146.68 & 31.78 & 384 & 1.62 & 2.66 & 144.03 & 149.34\\\\\n",
       "\\end{tabular}\n"
      ],
      "text/markdown": [
       "\n",
       "A data.frame: 1 × 7\n",
       "\n",
       "| media &lt;dbl&gt; | desv &lt;dbl&gt; | N &lt;dbl&gt; | error.est &lt;dbl&gt; | error &lt;dbl&gt; | lim.inf &lt;dbl&gt; | lim.sup &lt;dbl&gt; |\n",
       "|---|---|---|---|---|---|---|\n",
       "| 146.68 | 31.78 | 384 | 1.62 | 2.66 | 144.03 | 149.34 |\n",
       "\n"
      ],
      "text/plain": [
       "  media  desv  N   error.est error lim.inf lim.sup\n",
       "1 146.68 31.78 384 1.62      2.66  144.03  149.34 "
      ]
     },
     "metadata": {},
     "output_type": "display_data"
    }
   ],
   "source": [
    "#Para un nivel de confianza de 90%\n",
    "infms_raz_cuant90<- inf_manual(d.msis$raz_cuant_punt,1.64)\n",
    "round(infms_raz_cuant90,2)\n",
    "\n",
    "infms_lect_crit90<- inf_manual(d.msis$lect_crit_punt,1.64)\n",
    "round(infms_lect_crit90,2)\n",
    "\n",
    "infms_comp_ciud90<- inf_manual(d.msis$comp_ciud_punt,1.64)\n",
    "round(infms_comp_ciud90,2)"
   ]
  },
  {
   "cell_type": "code",
   "execution_count": 90,
   "metadata": {},
   "outputs": [
    {
     "data": {
      "text/html": [
       "<table>\n",
       "<caption>A data.frame: 1 × 7</caption>\n",
       "<thead>\n",
       "\t<tr><th scope=col>media</th><th scope=col>desv</th><th scope=col>N</th><th scope=col>error.est</th><th scope=col>error</th><th scope=col>lim.inf</th><th scope=col>lim.sup</th></tr>\n",
       "\t<tr><th scope=col>&lt;dbl&gt;</th><th scope=col>&lt;dbl&gt;</th><th scope=col>&lt;dbl&gt;</th><th scope=col>&lt;dbl&gt;</th><th scope=col>&lt;dbl&gt;</th><th scope=col>&lt;dbl&gt;</th><th scope=col>&lt;dbl&gt;</th></tr>\n",
       "</thead>\n",
       "<tbody>\n",
       "\t<tr><td>148.55</td><td>29.59</td><td>384</td><td>1.51</td><td>2.96</td><td>145.59</td><td>151.51</td></tr>\n",
       "</tbody>\n",
       "</table>\n"
      ],
      "text/latex": [
       "A data.frame: 1 × 7\n",
       "\\begin{tabular}{lllllll}\n",
       " media & desv & N & error.est & error & lim.inf & lim.sup\\\\\n",
       " <dbl> & <dbl> & <dbl> & <dbl> & <dbl> & <dbl> & <dbl>\\\\\n",
       "\\hline\n",
       "\t 148.55 & 29.59 & 384 & 1.51 & 2.96 & 145.59 & 151.51\\\\\n",
       "\\end{tabular}\n"
      ],
      "text/markdown": [
       "\n",
       "A data.frame: 1 × 7\n",
       "\n",
       "| media &lt;dbl&gt; | desv &lt;dbl&gt; | N &lt;dbl&gt; | error.est &lt;dbl&gt; | error &lt;dbl&gt; | lim.inf &lt;dbl&gt; | lim.sup &lt;dbl&gt; |\n",
       "|---|---|---|---|---|---|---|\n",
       "| 148.55 | 29.59 | 384 | 1.51 | 2.96 | 145.59 | 151.51 |\n",
       "\n"
      ],
      "text/plain": [
       "  media  desv  N   error.est error lim.inf lim.sup\n",
       "1 148.55 29.59 384 1.51      2.96  145.59  151.51 "
      ]
     },
     "metadata": {},
     "output_type": "display_data"
    },
    {
     "data": {
      "text/html": [
       "<table>\n",
       "<caption>A data.frame: 1 × 7</caption>\n",
       "<thead>\n",
       "\t<tr><th scope=col>media</th><th scope=col>desv</th><th scope=col>N</th><th scope=col>error.est</th><th scope=col>error</th><th scope=col>lim.inf</th><th scope=col>lim.sup</th></tr>\n",
       "\t<tr><th scope=col>&lt;dbl&gt;</th><th scope=col>&lt;dbl&gt;</th><th scope=col>&lt;dbl&gt;</th><th scope=col>&lt;dbl&gt;</th><th scope=col>&lt;dbl&gt;</th><th scope=col>&lt;dbl&gt;</th><th scope=col>&lt;dbl&gt;</th></tr>\n",
       "</thead>\n",
       "<tbody>\n",
       "\t<tr><td>152.66</td><td>30.57</td><td>384</td><td>1.56</td><td>3.06</td><td>149.6</td><td>155.71</td></tr>\n",
       "</tbody>\n",
       "</table>\n"
      ],
      "text/latex": [
       "A data.frame: 1 × 7\n",
       "\\begin{tabular}{lllllll}\n",
       " media & desv & N & error.est & error & lim.inf & lim.sup\\\\\n",
       " <dbl> & <dbl> & <dbl> & <dbl> & <dbl> & <dbl> & <dbl>\\\\\n",
       "\\hline\n",
       "\t 152.66 & 30.57 & 384 & 1.56 & 3.06 & 149.6 & 155.71\\\\\n",
       "\\end{tabular}\n"
      ],
      "text/markdown": [
       "\n",
       "A data.frame: 1 × 7\n",
       "\n",
       "| media &lt;dbl&gt; | desv &lt;dbl&gt; | N &lt;dbl&gt; | error.est &lt;dbl&gt; | error &lt;dbl&gt; | lim.inf &lt;dbl&gt; | lim.sup &lt;dbl&gt; |\n",
       "|---|---|---|---|---|---|---|\n",
       "| 152.66 | 30.57 | 384 | 1.56 | 3.06 | 149.6 | 155.71 |\n",
       "\n"
      ],
      "text/plain": [
       "  media  desv  N   error.est error lim.inf lim.sup\n",
       "1 152.66 30.57 384 1.56      3.06  149.6   155.71 "
      ]
     },
     "metadata": {},
     "output_type": "display_data"
    },
    {
     "data": {
      "text/html": [
       "<table>\n",
       "<caption>A data.frame: 1 × 7</caption>\n",
       "<thead>\n",
       "\t<tr><th scope=col>media</th><th scope=col>desv</th><th scope=col>N</th><th scope=col>error.est</th><th scope=col>error</th><th scope=col>lim.inf</th><th scope=col>lim.sup</th></tr>\n",
       "\t<tr><th scope=col>&lt;dbl&gt;</th><th scope=col>&lt;dbl&gt;</th><th scope=col>&lt;dbl&gt;</th><th scope=col>&lt;dbl&gt;</th><th scope=col>&lt;dbl&gt;</th><th scope=col>&lt;dbl&gt;</th><th scope=col>&lt;dbl&gt;</th></tr>\n",
       "</thead>\n",
       "<tbody>\n",
       "\t<tr><td>146.68</td><td>31.78</td><td>384</td><td>1.62</td><td>3.18</td><td>143.51</td><td>149.86</td></tr>\n",
       "</tbody>\n",
       "</table>\n"
      ],
      "text/latex": [
       "A data.frame: 1 × 7\n",
       "\\begin{tabular}{lllllll}\n",
       " media & desv & N & error.est & error & lim.inf & lim.sup\\\\\n",
       " <dbl> & <dbl> & <dbl> & <dbl> & <dbl> & <dbl> & <dbl>\\\\\n",
       "\\hline\n",
       "\t 146.68 & 31.78 & 384 & 1.62 & 3.18 & 143.51 & 149.86\\\\\n",
       "\\end{tabular}\n"
      ],
      "text/markdown": [
       "\n",
       "A data.frame: 1 × 7\n",
       "\n",
       "| media &lt;dbl&gt; | desv &lt;dbl&gt; | N &lt;dbl&gt; | error.est &lt;dbl&gt; | error &lt;dbl&gt; | lim.inf &lt;dbl&gt; | lim.sup &lt;dbl&gt; |\n",
       "|---|---|---|---|---|---|---|\n",
       "| 146.68 | 31.78 | 384 | 1.62 | 3.18 | 143.51 | 149.86 |\n",
       "\n"
      ],
      "text/plain": [
       "  media  desv  N   error.est error lim.inf lim.sup\n",
       "1 146.68 31.78 384 1.62      3.18  143.51  149.86 "
      ]
     },
     "metadata": {},
     "output_type": "display_data"
    }
   ],
   "source": [
    "#Para un nivel de confianza de 95%\n",
    "infms_raz_cuant95<- inf_manual(d.msis$raz_cuant_punt,1.96)\n",
    "round(infms_raz_cuant95,2)\n",
    "\n",
    "infms_lect_crit95<- inf_manual(d.msis$lect_crit_punt,1.96)\n",
    "round(infms_lect_crit95,2)\n",
    "\n",
    "infms_comp_ciud95<-inf_manual(d.msis$comp_ciud_punt,1.96)\n",
    "round(infms_comp_ciud95,2)"
   ]
  },
  {
   "cell_type": "code",
   "execution_count": 91,
   "metadata": {},
   "outputs": [
    {
     "data": {
      "text/html": [
       "<table>\n",
       "<caption>A data.frame: 1 × 7</caption>\n",
       "<thead>\n",
       "\t<tr><th scope=col>media</th><th scope=col>desv</th><th scope=col>N</th><th scope=col>error.est</th><th scope=col>error</th><th scope=col>lim.inf</th><th scope=col>lim.sup</th></tr>\n",
       "\t<tr><th scope=col>&lt;dbl&gt;</th><th scope=col>&lt;dbl&gt;</th><th scope=col>&lt;dbl&gt;</th><th scope=col>&lt;dbl&gt;</th><th scope=col>&lt;dbl&gt;</th><th scope=col>&lt;dbl&gt;</th><th scope=col>&lt;dbl&gt;</th></tr>\n",
       "</thead>\n",
       "<tbody>\n",
       "\t<tr><td>148.55</td><td>29.59</td><td>384</td><td>1.51</td><td>3.88</td><td>144.67</td><td>152.43</td></tr>\n",
       "</tbody>\n",
       "</table>\n"
      ],
      "text/latex": [
       "A data.frame: 1 × 7\n",
       "\\begin{tabular}{lllllll}\n",
       " media & desv & N & error.est & error & lim.inf & lim.sup\\\\\n",
       " <dbl> & <dbl> & <dbl> & <dbl> & <dbl> & <dbl> & <dbl>\\\\\n",
       "\\hline\n",
       "\t 148.55 & 29.59 & 384 & 1.51 & 3.88 & 144.67 & 152.43\\\\\n",
       "\\end{tabular}\n"
      ],
      "text/markdown": [
       "\n",
       "A data.frame: 1 × 7\n",
       "\n",
       "| media &lt;dbl&gt; | desv &lt;dbl&gt; | N &lt;dbl&gt; | error.est &lt;dbl&gt; | error &lt;dbl&gt; | lim.inf &lt;dbl&gt; | lim.sup &lt;dbl&gt; |\n",
       "|---|---|---|---|---|---|---|\n",
       "| 148.55 | 29.59 | 384 | 1.51 | 3.88 | 144.67 | 152.43 |\n",
       "\n"
      ],
      "text/plain": [
       "  media  desv  N   error.est error lim.inf lim.sup\n",
       "1 148.55 29.59 384 1.51      3.88  144.67  152.43 "
      ]
     },
     "metadata": {},
     "output_type": "display_data"
    },
    {
     "data": {
      "text/html": [
       "<table>\n",
       "<caption>A data.frame: 1 × 7</caption>\n",
       "<thead>\n",
       "\t<tr><th scope=col>media</th><th scope=col>desv</th><th scope=col>N</th><th scope=col>error.est</th><th scope=col>error</th><th scope=col>lim.inf</th><th scope=col>lim.sup</th></tr>\n",
       "\t<tr><th scope=col>&lt;dbl&gt;</th><th scope=col>&lt;dbl&gt;</th><th scope=col>&lt;dbl&gt;</th><th scope=col>&lt;dbl&gt;</th><th scope=col>&lt;dbl&gt;</th><th scope=col>&lt;dbl&gt;</th><th scope=col>&lt;dbl&gt;</th></tr>\n",
       "</thead>\n",
       "<tbody>\n",
       "\t<tr><td>152.66</td><td>30.57</td><td>384</td><td>1.56</td><td>4.01</td><td>148.65</td><td>156.66</td></tr>\n",
       "</tbody>\n",
       "</table>\n"
      ],
      "text/latex": [
       "A data.frame: 1 × 7\n",
       "\\begin{tabular}{lllllll}\n",
       " media & desv & N & error.est & error & lim.inf & lim.sup\\\\\n",
       " <dbl> & <dbl> & <dbl> & <dbl> & <dbl> & <dbl> & <dbl>\\\\\n",
       "\\hline\n",
       "\t 152.66 & 30.57 & 384 & 1.56 & 4.01 & 148.65 & 156.66\\\\\n",
       "\\end{tabular}\n"
      ],
      "text/markdown": [
       "\n",
       "A data.frame: 1 × 7\n",
       "\n",
       "| media &lt;dbl&gt; | desv &lt;dbl&gt; | N &lt;dbl&gt; | error.est &lt;dbl&gt; | error &lt;dbl&gt; | lim.inf &lt;dbl&gt; | lim.sup &lt;dbl&gt; |\n",
       "|---|---|---|---|---|---|---|\n",
       "| 152.66 | 30.57 | 384 | 1.56 | 4.01 | 148.65 | 156.66 |\n",
       "\n"
      ],
      "text/plain": [
       "  media  desv  N   error.est error lim.inf lim.sup\n",
       "1 152.66 30.57 384 1.56      4.01  148.65  156.66 "
      ]
     },
     "metadata": {},
     "output_type": "display_data"
    },
    {
     "data": {
      "text/html": [
       "<table>\n",
       "<caption>A data.frame: 1 × 7</caption>\n",
       "<thead>\n",
       "\t<tr><th scope=col>media</th><th scope=col>desv</th><th scope=col>N</th><th scope=col>error.est</th><th scope=col>error</th><th scope=col>lim.inf</th><th scope=col>lim.sup</th></tr>\n",
       "\t<tr><th scope=col>&lt;dbl&gt;</th><th scope=col>&lt;dbl&gt;</th><th scope=col>&lt;dbl&gt;</th><th scope=col>&lt;dbl&gt;</th><th scope=col>&lt;dbl&gt;</th><th scope=col>&lt;dbl&gt;</th><th scope=col>&lt;dbl&gt;</th></tr>\n",
       "</thead>\n",
       "<tbody>\n",
       "\t<tr><td>146.68</td><td>31.78</td><td>384</td><td>1.62</td><td>4.17</td><td>142.52</td><td>150.85</td></tr>\n",
       "</tbody>\n",
       "</table>\n"
      ],
      "text/latex": [
       "A data.frame: 1 × 7\n",
       "\\begin{tabular}{lllllll}\n",
       " media & desv & N & error.est & error & lim.inf & lim.sup\\\\\n",
       " <dbl> & <dbl> & <dbl> & <dbl> & <dbl> & <dbl> & <dbl>\\\\\n",
       "\\hline\n",
       "\t 146.68 & 31.78 & 384 & 1.62 & 4.17 & 142.52 & 150.85\\\\\n",
       "\\end{tabular}\n"
      ],
      "text/markdown": [
       "\n",
       "A data.frame: 1 × 7\n",
       "\n",
       "| media &lt;dbl&gt; | desv &lt;dbl&gt; | N &lt;dbl&gt; | error.est &lt;dbl&gt; | error &lt;dbl&gt; | lim.inf &lt;dbl&gt; | lim.sup &lt;dbl&gt; |\n",
       "|---|---|---|---|---|---|---|\n",
       "| 146.68 | 31.78 | 384 | 1.62 | 4.17 | 142.52 | 150.85 |\n",
       "\n"
      ],
      "text/plain": [
       "  media  desv  N   error.est error lim.inf lim.sup\n",
       "1 146.68 31.78 384 1.62      4.17  142.52  150.85 "
      ]
     },
     "metadata": {},
     "output_type": "display_data"
    }
   ],
   "source": [
    "#Para un nivel de confianza de 99%\n",
    "infms_raz_cuant99<-inf_manual(d.msis$raz_cuant_punt,2.57)\n",
    "round(infms_raz_cuant99,2)\n",
    "\n",
    "infms_lect_crit99<- inf_manual(d.msis$lect_crit_punt,2.57)\n",
    "round(infms_lect_crit99,2)\n",
    "\n",
    "infms_comp_ciud99<- inf_manual(d.msis$comp_ciud_punt,2.57)\n",
    "round(infms_comp_ciud99,2)"
   ]
  },
  {
   "cell_type": "markdown",
   "metadata": {},
   "source": [
    "<h3 align=\"left\">Análisis y Comparación</h3><br> "
   ]
  },
  {
   "cell_type": "markdown",
   "metadata": {},
   "source": [
    "Se procede a mostrar los gráficos tanto de la población como de los diferentes muestreos."
   ]
  },
  {
   "cell_type": "code",
   "execution_count": 92,
   "metadata": {},
   "outputs": [
    {
     "data": {
      "image/png": "[encoded data removed]",
      "text/plain": [
       "Plot with title \"MS\""
      ]
     },
     "metadata": {
      "image/png": {
       "height": 720,
       "width": 720
      },
      "text/plain": {
       "height": 720,
       "width": 720
      }
     },
     "output_type": "display_data"
    }
   ],
   "source": [
    "par(mfrow=c(5,3))\n",
    "with(data, hist(raz_cuant_punt, nclass = 50, cex.main=2.5, cex.axis=1.5, cex.lab=1.5, main = 'Población RC'))\n",
    "with(data, hist(lect_crit_punt, nclass = 50, cex.main=2.5, cex.axis=1.5, cex.lab=1.5, main = 'Población LC'))\n",
    "with(data, hist(comp_ciud_punt, nclass = 50, cex.main=2.5, cex.axis=1.5, cex.lab=1.5, main = 'Población CC'))\n",
    "with(d.mas, hist(raz_cuant_punt, nclass = 50, cex.main=2.5, cex.axis=1.5, cex.lab=1.5, main = 'MAS'))\n",
    "with(d.mas, hist(lect_crit_punt, nclass = 50, cex.main=2.5, cex.axis=1.5, cex.lab=1.5, main = 'MAS'))\n",
    "with(d.mas, hist(comp_ciud_punt, nclass = 50, cex.main=2.5, cex.axis=1.5, cex.lab=1.5, main = 'MAS'))\n",
    "with(data[mestratoraz,], hist(raz_cuant_punt, nclass = 50, cex.main=2.5, cex.axis=1.5, cex.lab=1.5, main = 'ME'))\n",
    "with(data[mestratolect,], hist(lect_crit_punt, nclass = 50, cex.main=2.5, cex.axis=1.5, cex.lab=1.5,main = 'ME'))\n",
    "with(data[mestratocomp,], hist(comp_ciud_punt, nclass = 50, cex.main=2.5, cex.axis=1.5, cex.lab=1.5,main = 'ME'))\n",
    "with(mc384, hist(raz_cuant_punt, nclass = 50, cex.main=2.5, cex.axis=1.5, cex.lab=1.5,main = 'MC'))\n",
    "with(mc384, hist(lect_crit_punt, nclass = 50, cex.main=2.5, cex.axis=1.5, cex.lab=1.5,main = 'MC'))\n",
    "with(mc384, hist(comp_ciud_punt, nclass = 50, cex.main=2.5, cex.axis=1.5, cex.lab=1.5,main = 'MC'))\n",
    "with(d.msis, hist(raz_cuant_punt, nclass = 50, cex.main=2.5, cex.axis=1.5, cex.lab=1.5,main = 'MS'))\n",
    "with(d.msis, hist(lect_crit_punt, nclass = 50, cex.main=2.5, cex.axis=1.5, cex.lab=1.5,main = 'MS'))\n",
    "with(d.msis, hist(comp_ciud_punt, nclass = 50, cex.main=2.5, cex.axis=1.5, cex.lab=1.5,main = 'MS'))\n",
    "\n",
    "par(mfrow=c(1,1))"
   ]
  },
  {
   "cell_type": "code",
   "execution_count": 93,
   "metadata": {},
   "outputs": [
    {
     "data": {
      "image/png": "[encoded data removed]",
      "text/plain": [
       "Plot with title \"MS\""
      ]
     },
     "metadata": {
      "image/png": {
       "height": 720,
       "width": 720
      },
      "text/plain": {
       "height": 720,
       "width": 720
      }
     },
     "output_type": "display_data"
    }
   ],
   "source": [
    "par(mfrow=c(3,5))\n",
    "with(data, plot(raz_cuant_des,raz_cuant_punt,cex.main=2.5, cex.axis=1.5, cex.lab=1.5,,main = 'Población RC'))\n",
    "with(d.mas, plot(raz_cuant_des,raz_cuant_punt, cex.main=2.5, cex.axis=1.5, cex.lab=1.5, main = 'MAS'))\n",
    "with(data[mestratoraz,], plot(raz_cuant_des,raz_cuant_punt,  cex.main=2.5, cex.axis=1.5, cex.lab=1.5, main = 'ME'))\n",
    "with(mc384, plot(raz_cuant_des,raz_cuant_punt,  cex.main=2.5, cex.axis=1.5, cex.lab=1.5,main = 'MC'))\n",
    "with(d.msis, plot(raz_cuant_des,raz_cuant_punt, cex.main=2.5, cex.axis=1.5, cex.lab=1.5,main = 'MS'))\n",
    "\n",
    "with(data, plot(lect_crit_des,lect_crit_punt,cex.main=2.5, cex.axis=1.5, cex.lab=1.5,,main = 'Población LC'))\n",
    "with(d.mas, plot(lect_crit_des,lect_crit_punt,cex.main=2.5, cex.axis=1.5, cex.lab=1.5, main = 'MAS'))\n",
    "with(data[mestratolect,], plot(lect_crit_des,lect_crit_punt, cex.main=2.5, cex.axis=1.5, cex.lab=1.5,main = 'ME'))\n",
    "with(mc384, plot(lect_crit_des,lect_crit_punt,  cex.main=2.5, cex.axis=1.5, cex.lab=1.5,main = 'MC'))\n",
    "with(d.msis, plot(lect_crit_des,lect_crit_punt, cex.main=2.5, cex.axis=1.5, cex.lab=1.5,main = 'MS'))\n",
    "\n",
    "with(data, plot(comp_ciud_des,comp_ciud_punt,cex.main=2.5, cex.axis=1.5, cex.lab=1.5,, main = 'Población CC'))\n",
    "with(d.mas, plot(comp_ciud_des,comp_ciud_punt, cex.main=2.5, cex.axis=1.5, cex.lab=1.5, main = 'MAS'))\n",
    "with(data[mestratocomp,], plot(comp_ciud_des,comp_ciud_punt, cex.main=2.5, cex.axis=1.5, cex.lab=1.5,main = 'ME'))\n",
    "with(mc384, plot(comp_ciud_des,comp_ciud_punt,  cex.main=2.5, cex.axis=1.5, cex.lab=1.5,main = 'MC'))\n",
    "with(d.msis, plot(comp_ciud_des,comp_ciud_punt,  cex.main=2.5, cex.axis=1.5, cex.lab=1.5,main = 'MS'))\n",
    "\n",
    "par(mfrow=c(1,1))"
   ]
  },
  {
   "cell_type": "markdown",
   "metadata": {},
   "source": [
    "En general, como el tamaño adecuado de la muestra se mantiene constante, todos los muestreos en los histogramas y diagramas de cajas manifiestan una distribución similar a la población en las tres áreas de conocimientos. Sin embargo, algunos muestreos estan más acorde al ánalisis a realizar; en el caso de los puntajes con los desempeños (deficiente, aceptable, bueno y excelente), el muestreo estratificado es el más adecuado, ya que en este caso se contruye la muestra de tal manera que contenga elementos de cada estrato o subpoblación. \n",
    "\n",
    "Ahora, si se desea analizar por subgrupos que hacen referencia a un lugar geográfico como el caso de los departamentos, el muestreo por conglomerados es el más adecuado. Y por último, si no hace falta seleccionar específicamente los datos, un muestreo aleatorio simple arrojará resultados satisfactorios, al igual que un sistemático. Pero respecto al muestreo aleatorio, el muestreo sistemático puede garantizarnos una selección más equitativa de la población."
   ]
  },
  {
   "cell_type": "code",
   "execution_count": 94,
   "metadata": {},
   "outputs": [
    {
     "data": {
      "text/html": [
       "<table>\n",
       "<caption>A data.frame: 4 × 7</caption>\n",
       "<thead>\n",
       "\t<tr><th scope=col>media</th><th scope=col>desv</th><th scope=col>N</th><th scope=col>error.est</th><th scope=col>error</th><th scope=col>lim.inf</th><th scope=col>lim.sup</th></tr>\n",
       "\t<tr><th scope=col>&lt;dbl&gt;</th><th scope=col>&lt;dbl&gt;</th><th scope=col>&lt;int&gt;</th><th scope=col>&lt;dbl&gt;</th><th scope=col>&lt;dbl&gt;</th><th scope=col>&lt;dbl&gt;</th><th scope=col>&lt;dbl&gt;</th></tr>\n",
       "</thead>\n",
       "<tbody>\n",
       "\t<tr><td>149.7109</td><td>30.20975</td><td>384</td><td>1.541635</td><td>2.528281</td><td>147.1827</td><td>152.2392</td></tr>\n",
       "\t<tr><td>148.9380</td><td>31.64818</td><td>387</td><td>1.608768</td><td>2.638379</td><td>146.2996</td><td>151.5764</td></tr>\n",
       "\t<tr><td>150.7711</td><td>28.12756</td><td>402</td><td>1.402875</td><td>2.300715</td><td>148.4704</td><td>153.0719</td></tr>\n",
       "\t<tr><td>148.5469</td><td>29.59488</td><td>384</td><td>1.510257</td><td>2.476822</td><td>146.0701</td><td>151.0237</td></tr>\n",
       "</tbody>\n",
       "</table>\n"
      ],
      "text/latex": [
       "A data.frame: 4 × 7\n",
       "\\begin{tabular}{lllllll}\n",
       " media & desv & N & error.est & error & lim.inf & lim.sup\\\\\n",
       " <dbl> & <dbl> & <int> & <dbl> & <dbl> & <dbl> & <dbl>\\\\\n",
       "\\hline\n",
       "\t 149.7109 & 30.20975 & 384 & 1.541635 & 2.528281 & 147.1827 & 152.2392\\\\\n",
       "\t 148.9380 & 31.64818 & 387 & 1.608768 & 2.638379 & 146.2996 & 151.5764\\\\\n",
       "\t 150.7711 & 28.12756 & 402 & 1.402875 & 2.300715 & 148.4704 & 153.0719\\\\\n",
       "\t 148.5469 & 29.59488 & 384 & 1.510257 & 2.476822 & 146.0701 & 151.0237\\\\\n",
       "\\end{tabular}\n"
      ],
      "text/markdown": [
       "\n",
       "A data.frame: 4 × 7\n",
       "\n",
       "| media &lt;dbl&gt; | desv &lt;dbl&gt; | N &lt;int&gt; | error.est &lt;dbl&gt; | error &lt;dbl&gt; | lim.inf &lt;dbl&gt; | lim.sup &lt;dbl&gt; |\n",
       "|---|---|---|---|---|---|---|\n",
       "| 149.7109 | 30.20975 | 384 | 1.541635 | 2.528281 | 147.1827 | 152.2392 |\n",
       "| 148.9380 | 31.64818 | 387 | 1.608768 | 2.638379 | 146.2996 | 151.5764 |\n",
       "| 150.7711 | 28.12756 | 402 | 1.402875 | 2.300715 | 148.4704 | 153.0719 |\n",
       "| 148.5469 | 29.59488 | 384 | 1.510257 | 2.476822 | 146.0701 | 151.0237 |\n",
       "\n"
      ],
      "text/plain": [
       "  media    desv     N   error.est error    lim.inf  lim.sup \n",
       "1 149.7109 30.20975 384 1.541635  2.528281 147.1827 152.2392\n",
       "2 148.9380 31.64818 387 1.608768  2.638379 146.2996 151.5764\n",
       "3 150.7711 28.12756 402 1.402875  2.300715 148.4704 153.0719\n",
       "4 148.5469 29.59488 384 1.510257  2.476822 146.0701 151.0237"
      ]
     },
     "metadata": {},
     "output_type": "display_data"
    },
    {
     "data": {
      "text/html": [
       "<table>\n",
       "<caption>A data.frame: 4 × 7</caption>\n",
       "<thead>\n",
       "\t<tr><th scope=col>media</th><th scope=col>desv</th><th scope=col>N</th><th scope=col>error.est</th><th scope=col>error</th><th scope=col>lim.inf</th><th scope=col>lim.sup</th></tr>\n",
       "\t<tr><th scope=col>&lt;dbl&gt;</th><th scope=col>&lt;dbl&gt;</th><th scope=col>&lt;int&gt;</th><th scope=col>&lt;dbl&gt;</th><th scope=col>&lt;dbl&gt;</th><th scope=col>&lt;dbl&gt;</th><th scope=col>&lt;dbl&gt;</th></tr>\n",
       "</thead>\n",
       "<tbody>\n",
       "\t<tr><td>149.7109</td><td>30.20975</td><td>384</td><td>1.541635</td><td>3.021604</td><td>146.6893</td><td>152.7325</td></tr>\n",
       "\t<tr><td>148.9380</td><td>31.64818</td><td>387</td><td>1.608768</td><td>3.153184</td><td>145.7848</td><td>152.0912</td></tr>\n",
       "\t<tr><td>150.7711</td><td>28.12756</td><td>402</td><td>1.402875</td><td>2.749635</td><td>148.0215</td><td>153.5208</td></tr>\n",
       "\t<tr><td>148.5469</td><td>29.59488</td><td>384</td><td>1.510257</td><td>2.960104</td><td>145.5868</td><td>151.5070</td></tr>\n",
       "</tbody>\n",
       "</table>\n"
      ],
      "text/latex": [
       "A data.frame: 4 × 7\n",
       "\\begin{tabular}{lllllll}\n",
       " media & desv & N & error.est & error & lim.inf & lim.sup\\\\\n",
       " <dbl> & <dbl> & <int> & <dbl> & <dbl> & <dbl> & <dbl>\\\\\n",
       "\\hline\n",
       "\t 149.7109 & 30.20975 & 384 & 1.541635 & 3.021604 & 146.6893 & 152.7325\\\\\n",
       "\t 148.9380 & 31.64818 & 387 & 1.608768 & 3.153184 & 145.7848 & 152.0912\\\\\n",
       "\t 150.7711 & 28.12756 & 402 & 1.402875 & 2.749635 & 148.0215 & 153.5208\\\\\n",
       "\t 148.5469 & 29.59488 & 384 & 1.510257 & 2.960104 & 145.5868 & 151.5070\\\\\n",
       "\\end{tabular}\n"
      ],
      "text/markdown": [
       "\n",
       "A data.frame: 4 × 7\n",
       "\n",
       "| media &lt;dbl&gt; | desv &lt;dbl&gt; | N &lt;int&gt; | error.est &lt;dbl&gt; | error &lt;dbl&gt; | lim.inf &lt;dbl&gt; | lim.sup &lt;dbl&gt; |\n",
       "|---|---|---|---|---|---|---|\n",
       "| 149.7109 | 30.20975 | 384 | 1.541635 | 3.021604 | 146.6893 | 152.7325 |\n",
       "| 148.9380 | 31.64818 | 387 | 1.608768 | 3.153184 | 145.7848 | 152.0912 |\n",
       "| 150.7711 | 28.12756 | 402 | 1.402875 | 2.749635 | 148.0215 | 153.5208 |\n",
       "| 148.5469 | 29.59488 | 384 | 1.510257 | 2.960104 | 145.5868 | 151.5070 |\n",
       "\n"
      ],
      "text/plain": [
       "  media    desv     N   error.est error    lim.inf  lim.sup \n",
       "1 149.7109 30.20975 384 1.541635  3.021604 146.6893 152.7325\n",
       "2 148.9380 31.64818 387 1.608768  3.153184 145.7848 152.0912\n",
       "3 150.7711 28.12756 402 1.402875  2.749635 148.0215 153.5208\n",
       "4 148.5469 29.59488 384 1.510257  2.960104 145.5868 151.5070"
      ]
     },
     "metadata": {},
     "output_type": "display_data"
    },
    {
     "data": {
      "text/html": [
       "<table>\n",
       "<caption>A data.frame: 4 × 7</caption>\n",
       "<thead>\n",
       "\t<tr><th scope=col>media</th><th scope=col>desv</th><th scope=col>N</th><th scope=col>error.est</th><th scope=col>error</th><th scope=col>lim.inf</th><th scope=col>lim.sup</th></tr>\n",
       "\t<tr><th scope=col>&lt;dbl&gt;</th><th scope=col>&lt;dbl&gt;</th><th scope=col>&lt;int&gt;</th><th scope=col>&lt;dbl&gt;</th><th scope=col>&lt;dbl&gt;</th><th scope=col>&lt;dbl&gt;</th><th scope=col>&lt;dbl&gt;</th></tr>\n",
       "</thead>\n",
       "<tbody>\n",
       "\t<tr><td>149.7109</td><td>30.20975</td><td>384</td><td>1.541635</td><td>3.962002</td><td>145.7489</td><td>153.6729</td></tr>\n",
       "\t<tr><td>148.9380</td><td>31.64818</td><td>387</td><td>1.608768</td><td>4.134533</td><td>144.8035</td><td>153.0725</td></tr>\n",
       "\t<tr><td>150.7711</td><td>28.12756</td><td>402</td><td>1.402875</td><td>3.605389</td><td>147.1658</td><td>154.3765</td></tr>\n",
       "\t<tr><td>148.5469</td><td>29.59488</td><td>384</td><td>1.510257</td><td>3.881361</td><td>144.6655</td><td>152.4282</td></tr>\n",
       "</tbody>\n",
       "</table>\n"
      ],
      "text/latex": [
       "A data.frame: 4 × 7\n",
       "\\begin{tabular}{lllllll}\n",
       " media & desv & N & error.est & error & lim.inf & lim.sup\\\\\n",
       " <dbl> & <dbl> & <int> & <dbl> & <dbl> & <dbl> & <dbl>\\\\\n",
       "\\hline\n",
       "\t 149.7109 & 30.20975 & 384 & 1.541635 & 3.962002 & 145.7489 & 153.6729\\\\\n",
       "\t 148.9380 & 31.64818 & 387 & 1.608768 & 4.134533 & 144.8035 & 153.0725\\\\\n",
       "\t 150.7711 & 28.12756 & 402 & 1.402875 & 3.605389 & 147.1658 & 154.3765\\\\\n",
       "\t 148.5469 & 29.59488 & 384 & 1.510257 & 3.881361 & 144.6655 & 152.4282\\\\\n",
       "\\end{tabular}\n"
      ],
      "text/markdown": [
       "\n",
       "A data.frame: 4 × 7\n",
       "\n",
       "| media &lt;dbl&gt; | desv &lt;dbl&gt; | N &lt;int&gt; | error.est &lt;dbl&gt; | error &lt;dbl&gt; | lim.inf &lt;dbl&gt; | lim.sup &lt;dbl&gt; |\n",
       "|---|---|---|---|---|---|---|\n",
       "| 149.7109 | 30.20975 | 384 | 1.541635 | 3.962002 | 145.7489 | 153.6729 |\n",
       "| 148.9380 | 31.64818 | 387 | 1.608768 | 4.134533 | 144.8035 | 153.0725 |\n",
       "| 150.7711 | 28.12756 | 402 | 1.402875 | 3.605389 | 147.1658 | 154.3765 |\n",
       "| 148.5469 | 29.59488 | 384 | 1.510257 | 3.881361 | 144.6655 | 152.4282 |\n",
       "\n"
      ],
      "text/plain": [
       "  media    desv     N   error.est error    lim.inf  lim.sup \n",
       "1 149.7109 30.20975 384 1.541635  3.962002 145.7489 153.6729\n",
       "2 148.9380 31.64818 387 1.608768  4.134533 144.8035 153.0725\n",
       "3 150.7711 28.12756 402 1.402875  3.605389 147.1658 154.3765\n",
       "4 148.5469 29.59488 384 1.510257  3.881361 144.6655 152.4282"
      ]
     },
     "metadata": {},
     "output_type": "display_data"
    }
   ],
   "source": [
    "#Se concatenan los intervalos de confianza para razonamiento cuantitativo por orden MAS, ME, MC, MS respectivamente.\n",
    "#Tabla del 90%\n",
    "inf_raz_cuant90<- rbind(infmas_raz_cuant90,infme_raz_cuant90,infmc_raz_cuant90,infms_raz_cuant90)\n",
    "inf_raz_cuant90\n",
    "#Tabla del 95%\n",
    "inf_raz_cuant95<- rbind(infmas_raz_cuant95,infme_raz_cuant95,infmc_raz_cuant95,infms_raz_cuant95)\n",
    "inf_raz_cuant95\n",
    "#Tabla del 99%\n",
    "inf_raz_cuant99<- rbind(infmas_raz_cuant99,infme_raz_cuant99,infmc_raz_cuant99,infms_raz_cuant99)\n",
    "inf_raz_cuant99"
   ]
  },
  {
   "cell_type": "code",
   "execution_count": 95,
   "metadata": {},
   "outputs": [
    {
     "data": {
      "text/html": [
       "<table>\n",
       "<caption>A data.frame: 4 × 7</caption>\n",
       "<thead>\n",
       "\t<tr><th scope=col>media</th><th scope=col>desv</th><th scope=col>N</th><th scope=col>error.est</th><th scope=col>error</th><th scope=col>lim.inf</th><th scope=col>lim.sup</th></tr>\n",
       "\t<tr><th scope=col>&lt;dbl&gt;</th><th scope=col>&lt;dbl&gt;</th><th scope=col>&lt;int&gt;</th><th scope=col>&lt;dbl&gt;</th><th scope=col>&lt;dbl&gt;</th><th scope=col>&lt;dbl&gt;</th><th scope=col>&lt;dbl&gt;</th></tr>\n",
       "</thead>\n",
       "<tbody>\n",
       "\t<tr><td>147.3438</td><td>29.70537</td><td>384</td><td>1.515896</td><td>2.486069</td><td>144.8577</td><td>149.8298</td></tr>\n",
       "\t<tr><td>149.1654</td><td>29.42187</td><td>387</td><td>1.495597</td><td>2.452780</td><td>146.7126</td><td>151.6182</td></tr>\n",
       "\t<tr><td>149.1517</td><td>29.05244</td><td>402</td><td>1.449004</td><td>2.376367</td><td>146.7754</td><td>151.5281</td></tr>\n",
       "\t<tr><td>152.6562</td><td>30.56546</td><td>384</td><td>1.559787</td><td>2.558050</td><td>150.0982</td><td>155.2143</td></tr>\n",
       "</tbody>\n",
       "</table>\n"
      ],
      "text/latex": [
       "A data.frame: 4 × 7\n",
       "\\begin{tabular}{lllllll}\n",
       " media & desv & N & error.est & error & lim.inf & lim.sup\\\\\n",
       " <dbl> & <dbl> & <int> & <dbl> & <dbl> & <dbl> & <dbl>\\\\\n",
       "\\hline\n",
       "\t 147.3438 & 29.70537 & 384 & 1.515896 & 2.486069 & 144.8577 & 149.8298\\\\\n",
       "\t 149.1654 & 29.42187 & 387 & 1.495597 & 2.452780 & 146.7126 & 151.6182\\\\\n",
       "\t 149.1517 & 29.05244 & 402 & 1.449004 & 2.376367 & 146.7754 & 151.5281\\\\\n",
       "\t 152.6562 & 30.56546 & 384 & 1.559787 & 2.558050 & 150.0982 & 155.2143\\\\\n",
       "\\end{tabular}\n"
      ],
      "text/markdown": [
       "\n",
       "A data.frame: 4 × 7\n",
       "\n",
       "| media &lt;dbl&gt; | desv &lt;dbl&gt; | N &lt;int&gt; | error.est &lt;dbl&gt; | error &lt;dbl&gt; | lim.inf &lt;dbl&gt; | lim.sup &lt;dbl&gt; |\n",
       "|---|---|---|---|---|---|---|\n",
       "| 147.3438 | 29.70537 | 384 | 1.515896 | 2.486069 | 144.8577 | 149.8298 |\n",
       "| 149.1654 | 29.42187 | 387 | 1.495597 | 2.452780 | 146.7126 | 151.6182 |\n",
       "| 149.1517 | 29.05244 | 402 | 1.449004 | 2.376367 | 146.7754 | 151.5281 |\n",
       "| 152.6562 | 30.56546 | 384 | 1.559787 | 2.558050 | 150.0982 | 155.2143 |\n",
       "\n"
      ],
      "text/plain": [
       "  media    desv     N   error.est error    lim.inf  lim.sup \n",
       "1 147.3438 29.70537 384 1.515896  2.486069 144.8577 149.8298\n",
       "2 149.1654 29.42187 387 1.495597  2.452780 146.7126 151.6182\n",
       "3 149.1517 29.05244 402 1.449004  2.376367 146.7754 151.5281\n",
       "4 152.6562 30.56546 384 1.559787  2.558050 150.0982 155.2143"
      ]
     },
     "metadata": {},
     "output_type": "display_data"
    },
    {
     "data": {
      "text/html": [
       "<table>\n",
       "<caption>A data.frame: 4 × 7</caption>\n",
       "<thead>\n",
       "\t<tr><th scope=col>media</th><th scope=col>desv</th><th scope=col>N</th><th scope=col>error.est</th><th scope=col>error</th><th scope=col>lim.inf</th><th scope=col>lim.sup</th></tr>\n",
       "\t<tr><th scope=col>&lt;dbl&gt;</th><th scope=col>&lt;dbl&gt;</th><th scope=col>&lt;int&gt;</th><th scope=col>&lt;dbl&gt;</th><th scope=col>&lt;dbl&gt;</th><th scope=col>&lt;dbl&gt;</th><th scope=col>&lt;dbl&gt;</th></tr>\n",
       "</thead>\n",
       "<tbody>\n",
       "\t<tr><td>147.3438</td><td>29.70537</td><td>384</td><td>1.515896</td><td>2.971156</td><td>144.3726</td><td>150.3149</td></tr>\n",
       "\t<tr><td>149.1654</td><td>29.42187</td><td>387</td><td>1.495597</td><td>2.931371</td><td>146.2340</td><td>152.0967</td></tr>\n",
       "\t<tr><td>149.1517</td><td>29.05244</td><td>402</td><td>1.449004</td><td>2.840048</td><td>146.3117</td><td>151.9918</td></tr>\n",
       "\t<tr><td>152.6562</td><td>30.56546</td><td>384</td><td>1.559787</td><td>3.057182</td><td>149.5991</td><td>155.7134</td></tr>\n",
       "</tbody>\n",
       "</table>\n"
      ],
      "text/latex": [
       "A data.frame: 4 × 7\n",
       "\\begin{tabular}{lllllll}\n",
       " media & desv & N & error.est & error & lim.inf & lim.sup\\\\\n",
       " <dbl> & <dbl> & <int> & <dbl> & <dbl> & <dbl> & <dbl>\\\\\n",
       "\\hline\n",
       "\t 147.3438 & 29.70537 & 384 & 1.515896 & 2.971156 & 144.3726 & 150.3149\\\\\n",
       "\t 149.1654 & 29.42187 & 387 & 1.495597 & 2.931371 & 146.2340 & 152.0967\\\\\n",
       "\t 149.1517 & 29.05244 & 402 & 1.449004 & 2.840048 & 146.3117 & 151.9918\\\\\n",
       "\t 152.6562 & 30.56546 & 384 & 1.559787 & 3.057182 & 149.5991 & 155.7134\\\\\n",
       "\\end{tabular}\n"
      ],
      "text/markdown": [
       "\n",
       "A data.frame: 4 × 7\n",
       "\n",
       "| media &lt;dbl&gt; | desv &lt;dbl&gt; | N &lt;int&gt; | error.est &lt;dbl&gt; | error &lt;dbl&gt; | lim.inf &lt;dbl&gt; | lim.sup &lt;dbl&gt; |\n",
       "|---|---|---|---|---|---|---|\n",
       "| 147.3438 | 29.70537 | 384 | 1.515896 | 2.971156 | 144.3726 | 150.3149 |\n",
       "| 149.1654 | 29.42187 | 387 | 1.495597 | 2.931371 | 146.2340 | 152.0967 |\n",
       "| 149.1517 | 29.05244 | 402 | 1.449004 | 2.840048 | 146.3117 | 151.9918 |\n",
       "| 152.6562 | 30.56546 | 384 | 1.559787 | 3.057182 | 149.5991 | 155.7134 |\n",
       "\n"
      ],
      "text/plain": [
       "  media    desv     N   error.est error    lim.inf  lim.sup \n",
       "1 147.3438 29.70537 384 1.515896  2.971156 144.3726 150.3149\n",
       "2 149.1654 29.42187 387 1.495597  2.931371 146.2340 152.0967\n",
       "3 149.1517 29.05244 402 1.449004  2.840048 146.3117 151.9918\n",
       "4 152.6562 30.56546 384 1.559787  3.057182 149.5991 155.7134"
      ]
     },
     "metadata": {},
     "output_type": "display_data"
    },
    {
     "data": {
      "text/html": [
       "<table>\n",
       "<caption>A data.frame: 4 × 7</caption>\n",
       "<thead>\n",
       "\t<tr><th scope=col>media</th><th scope=col>desv</th><th scope=col>N</th><th scope=col>error.est</th><th scope=col>error</th><th scope=col>lim.inf</th><th scope=col>lim.sup</th></tr>\n",
       "\t<tr><th scope=col>&lt;dbl&gt;</th><th scope=col>&lt;dbl&gt;</th><th scope=col>&lt;int&gt;</th><th scope=col>&lt;dbl&gt;</th><th scope=col>&lt;dbl&gt;</th><th scope=col>&lt;dbl&gt;</th><th scope=col>&lt;dbl&gt;</th></tr>\n",
       "</thead>\n",
       "<tbody>\n",
       "\t<tr><td>147.3438</td><td>29.70537</td><td>384</td><td>1.515896</td><td>3.895852</td><td>143.4479</td><td>151.2396</td></tr>\n",
       "\t<tr><td>149.1654</td><td>29.42187</td><td>387</td><td>1.495597</td><td>3.843685</td><td>145.3217</td><td>153.0091</td></tr>\n",
       "\t<tr><td>149.1517</td><td>29.05244</td><td>402</td><td>1.449004</td><td>3.723940</td><td>145.4278</td><td>152.8757</td></tr>\n",
       "\t<tr><td>152.6562</td><td>30.56546</td><td>384</td><td>1.559787</td><td>4.008652</td><td>148.6476</td><td>156.6649</td></tr>\n",
       "</tbody>\n",
       "</table>\n"
      ],
      "text/latex": [
       "A data.frame: 4 × 7\n",
       "\\begin{tabular}{lllllll}\n",
       " media & desv & N & error.est & error & lim.inf & lim.sup\\\\\n",
       " <dbl> & <dbl> & <int> & <dbl> & <dbl> & <dbl> & <dbl>\\\\\n",
       "\\hline\n",
       "\t 147.3438 & 29.70537 & 384 & 1.515896 & 3.895852 & 143.4479 & 151.2396\\\\\n",
       "\t 149.1654 & 29.42187 & 387 & 1.495597 & 3.843685 & 145.3217 & 153.0091\\\\\n",
       "\t 149.1517 & 29.05244 & 402 & 1.449004 & 3.723940 & 145.4278 & 152.8757\\\\\n",
       "\t 152.6562 & 30.56546 & 384 & 1.559787 & 4.008652 & 148.6476 & 156.6649\\\\\n",
       "\\end{tabular}\n"
      ],
      "text/markdown": [
       "\n",
       "A data.frame: 4 × 7\n",
       "\n",
       "| media &lt;dbl&gt; | desv &lt;dbl&gt; | N &lt;int&gt; | error.est &lt;dbl&gt; | error &lt;dbl&gt; | lim.inf &lt;dbl&gt; | lim.sup &lt;dbl&gt; |\n",
       "|---|---|---|---|---|---|---|\n",
       "| 147.3438 | 29.70537 | 384 | 1.515896 | 3.895852 | 143.4479 | 151.2396 |\n",
       "| 149.1654 | 29.42187 | 387 | 1.495597 | 3.843685 | 145.3217 | 153.0091 |\n",
       "| 149.1517 | 29.05244 | 402 | 1.449004 | 3.723940 | 145.4278 | 152.8757 |\n",
       "| 152.6562 | 30.56546 | 384 | 1.559787 | 4.008652 | 148.6476 | 156.6649 |\n",
       "\n"
      ],
      "text/plain": [
       "  media    desv     N   error.est error    lim.inf  lim.sup \n",
       "1 147.3438 29.70537 384 1.515896  3.895852 143.4479 151.2396\n",
       "2 149.1654 29.42187 387 1.495597  3.843685 145.3217 153.0091\n",
       "3 149.1517 29.05244 402 1.449004  3.723940 145.4278 152.8757\n",
       "4 152.6562 30.56546 384 1.559787  4.008652 148.6476 156.6649"
      ]
     },
     "metadata": {},
     "output_type": "display_data"
    }
   ],
   "source": [
    "#Se concatenan los intervalos de confianza para lectura crítica por orden MAS, ME, MC, MS respectivamente.\n",
    "#Tabla del 90%\n",
    "inf_lect_crit90<- rbind(infmas_lect_crit90,infme_lect_crit90,infmc_lect_crit90,infms_lect_crit90)\n",
    "inf_lect_crit90\n",
    "#Tabla del 95%\n",
    "inf_lect_crit95<- rbind(infmas_lect_crit95,infme_lect_crit95,infmc_lect_crit95,infms_lect_crit95)\n",
    "inf_lect_crit95\n",
    "#Tabla del 99%\n",
    "inf_lect_crit99<- rbind(infmas_lect_crit99,infme_lect_crit99,infmc_lect_crit99,infms_lect_crit99)\n",
    "inf_lect_crit99"
   ]
  },
  {
   "cell_type": "code",
   "execution_count": 96,
   "metadata": {},
   "outputs": [
    {
     "data": {
      "text/html": [
       "<table>\n",
       "<caption>A data.frame: 4 × 7</caption>\n",
       "<thead>\n",
       "\t<tr><th scope=col>media</th><th scope=col>desv</th><th scope=col>N</th><th scope=col>error.est</th><th scope=col>error</th><th scope=col>lim.inf</th><th scope=col>lim.sup</th></tr>\n",
       "\t<tr><th scope=col>&lt;dbl&gt;</th><th scope=col>&lt;dbl&gt;</th><th scope=col>&lt;int&gt;</th><th scope=col>&lt;dbl&gt;</th><th scope=col>&lt;dbl&gt;</th><th scope=col>&lt;dbl&gt;</th><th scope=col>&lt;dbl&gt;</th></tr>\n",
       "</thead>\n",
       "<tbody>\n",
       "\t<tr><td>141.9948</td><td>31.93155</td><td>384</td><td>1.629500</td><td>2.672380</td><td>139.3224</td><td>144.6672</td></tr>\n",
       "\t<tr><td>151.8000</td><td>31.84351</td><td>385</td><td>1.622896</td><td>2.661549</td><td>149.1385</td><td>154.4615</td></tr>\n",
       "\t<tr><td>147.8259</td><td>28.52744</td><td>402</td><td>1.422820</td><td>2.333424</td><td>145.4924</td><td>150.1593</td></tr>\n",
       "\t<tr><td>146.6849</td><td>31.77733</td><td>384</td><td>1.621630</td><td>2.659473</td><td>144.0254</td><td>149.3444</td></tr>\n",
       "</tbody>\n",
       "</table>\n"
      ],
      "text/latex": [
       "A data.frame: 4 × 7\n",
       "\\begin{tabular}{lllllll}\n",
       " media & desv & N & error.est & error & lim.inf & lim.sup\\\\\n",
       " <dbl> & <dbl> & <int> & <dbl> & <dbl> & <dbl> & <dbl>\\\\\n",
       "\\hline\n",
       "\t 141.9948 & 31.93155 & 384 & 1.629500 & 2.672380 & 139.3224 & 144.6672\\\\\n",
       "\t 151.8000 & 31.84351 & 385 & 1.622896 & 2.661549 & 149.1385 & 154.4615\\\\\n",
       "\t 147.8259 & 28.52744 & 402 & 1.422820 & 2.333424 & 145.4924 & 150.1593\\\\\n",
       "\t 146.6849 & 31.77733 & 384 & 1.621630 & 2.659473 & 144.0254 & 149.3444\\\\\n",
       "\\end{tabular}\n"
      ],
      "text/markdown": [
       "\n",
       "A data.frame: 4 × 7\n",
       "\n",
       "| media &lt;dbl&gt; | desv &lt;dbl&gt; | N &lt;int&gt; | error.est &lt;dbl&gt; | error &lt;dbl&gt; | lim.inf &lt;dbl&gt; | lim.sup &lt;dbl&gt; |\n",
       "|---|---|---|---|---|---|---|\n",
       "| 141.9948 | 31.93155 | 384 | 1.629500 | 2.672380 | 139.3224 | 144.6672 |\n",
       "| 151.8000 | 31.84351 | 385 | 1.622896 | 2.661549 | 149.1385 | 154.4615 |\n",
       "| 147.8259 | 28.52744 | 402 | 1.422820 | 2.333424 | 145.4924 | 150.1593 |\n",
       "| 146.6849 | 31.77733 | 384 | 1.621630 | 2.659473 | 144.0254 | 149.3444 |\n",
       "\n"
      ],
      "text/plain": [
       "  media    desv     N   error.est error    lim.inf  lim.sup \n",
       "1 141.9948 31.93155 384 1.629500  2.672380 139.3224 144.6672\n",
       "2 151.8000 31.84351 385 1.622896  2.661549 149.1385 154.4615\n",
       "3 147.8259 28.52744 402 1.422820  2.333424 145.4924 150.1593\n",
       "4 146.6849 31.77733 384 1.621630  2.659473 144.0254 149.3444"
      ]
     },
     "metadata": {},
     "output_type": "display_data"
    },
    {
     "data": {
      "text/html": [
       "<table>\n",
       "<caption>A data.frame: 4 × 7</caption>\n",
       "<thead>\n",
       "\t<tr><th scope=col>media</th><th scope=col>desv</th><th scope=col>N</th><th scope=col>error.est</th><th scope=col>error</th><th scope=col>lim.inf</th><th scope=col>lim.sup</th></tr>\n",
       "\t<tr><th scope=col>&lt;dbl&gt;</th><th scope=col>&lt;dbl&gt;</th><th scope=col>&lt;int&gt;</th><th scope=col>&lt;dbl&gt;</th><th scope=col>&lt;dbl&gt;</th><th scope=col>&lt;dbl&gt;</th><th scope=col>&lt;dbl&gt;</th></tr>\n",
       "</thead>\n",
       "<tbody>\n",
       "\t<tr><td>141.9948</td><td>31.93155</td><td>384</td><td>1.629500</td><td>3.193820</td><td>138.8010</td><td>145.1886</td></tr>\n",
       "\t<tr><td>151.8000</td><td>31.84351</td><td>385</td><td>1.622896</td><td>3.180876</td><td>148.6191</td><td>154.9809</td></tr>\n",
       "\t<tr><td>147.8259</td><td>28.52744</td><td>402</td><td>1.422820</td><td>2.788726</td><td>145.0371</td><td>150.6146</td></tr>\n",
       "\t<tr><td>146.6849</td><td>31.77733</td><td>384</td><td>1.621630</td><td>3.178395</td><td>143.5065</td><td>149.8633</td></tr>\n",
       "</tbody>\n",
       "</table>\n"
      ],
      "text/latex": [
       "A data.frame: 4 × 7\n",
       "\\begin{tabular}{lllllll}\n",
       " media & desv & N & error.est & error & lim.inf & lim.sup\\\\\n",
       " <dbl> & <dbl> & <int> & <dbl> & <dbl> & <dbl> & <dbl>\\\\\n",
       "\\hline\n",
       "\t 141.9948 & 31.93155 & 384 & 1.629500 & 3.193820 & 138.8010 & 145.1886\\\\\n",
       "\t 151.8000 & 31.84351 & 385 & 1.622896 & 3.180876 & 148.6191 & 154.9809\\\\\n",
       "\t 147.8259 & 28.52744 & 402 & 1.422820 & 2.788726 & 145.0371 & 150.6146\\\\\n",
       "\t 146.6849 & 31.77733 & 384 & 1.621630 & 3.178395 & 143.5065 & 149.8633\\\\\n",
       "\\end{tabular}\n"
      ],
      "text/markdown": [
       "\n",
       "A data.frame: 4 × 7\n",
       "\n",
       "| media &lt;dbl&gt; | desv &lt;dbl&gt; | N &lt;int&gt; | error.est &lt;dbl&gt; | error &lt;dbl&gt; | lim.inf &lt;dbl&gt; | lim.sup &lt;dbl&gt; |\n",
       "|---|---|---|---|---|---|---|\n",
       "| 141.9948 | 31.93155 | 384 | 1.629500 | 3.193820 | 138.8010 | 145.1886 |\n",
       "| 151.8000 | 31.84351 | 385 | 1.622896 | 3.180876 | 148.6191 | 154.9809 |\n",
       "| 147.8259 | 28.52744 | 402 | 1.422820 | 2.788726 | 145.0371 | 150.6146 |\n",
       "| 146.6849 | 31.77733 | 384 | 1.621630 | 3.178395 | 143.5065 | 149.8633 |\n",
       "\n"
      ],
      "text/plain": [
       "  media    desv     N   error.est error    lim.inf  lim.sup \n",
       "1 141.9948 31.93155 384 1.629500  3.193820 138.8010 145.1886\n",
       "2 151.8000 31.84351 385 1.622896  3.180876 148.6191 154.9809\n",
       "3 147.8259 28.52744 402 1.422820  2.788726 145.0371 150.6146\n",
       "4 146.6849 31.77733 384 1.621630  3.178395 143.5065 149.8633"
      ]
     },
     "metadata": {},
     "output_type": "display_data"
    },
    {
     "data": {
      "text/html": [
       "<table>\n",
       "<caption>A data.frame: 4 × 7</caption>\n",
       "<thead>\n",
       "\t<tr><th scope=col>media</th><th scope=col>desv</th><th scope=col>N</th><th scope=col>error.est</th><th scope=col>error</th><th scope=col>lim.inf</th><th scope=col>lim.sup</th></tr>\n",
       "\t<tr><th scope=col>&lt;dbl&gt;</th><th scope=col>&lt;dbl&gt;</th><th scope=col>&lt;int&gt;</th><th scope=col>&lt;dbl&gt;</th><th scope=col>&lt;dbl&gt;</th><th scope=col>&lt;dbl&gt;</th><th scope=col>&lt;dbl&gt;</th></tr>\n",
       "</thead>\n",
       "<tbody>\n",
       "\t<tr><td>141.9948</td><td>31.93155</td><td>384</td><td>1.629500</td><td>4.187815</td><td>137.8070</td><td>146.1826</td></tr>\n",
       "\t<tr><td>151.8000</td><td>31.84351</td><td>385</td><td>1.622896</td><td>4.170842</td><td>147.6292</td><td>155.9708</td></tr>\n",
       "\t<tr><td>147.8259</td><td>28.52744</td><td>402</td><td>1.422820</td><td>3.656646</td><td>144.1692</td><td>151.4825</td></tr>\n",
       "\t<tr><td>146.6849</td><td>31.77733</td><td>384</td><td>1.621630</td><td>4.167589</td><td>142.5173</td><td>150.8525</td></tr>\n",
       "</tbody>\n",
       "</table>\n"
      ],
      "text/latex": [
       "A data.frame: 4 × 7\n",
       "\\begin{tabular}{lllllll}\n",
       " media & desv & N & error.est & error & lim.inf & lim.sup\\\\\n",
       " <dbl> & <dbl> & <int> & <dbl> & <dbl> & <dbl> & <dbl>\\\\\n",
       "\\hline\n",
       "\t 141.9948 & 31.93155 & 384 & 1.629500 & 4.187815 & 137.8070 & 146.1826\\\\\n",
       "\t 151.8000 & 31.84351 & 385 & 1.622896 & 4.170842 & 147.6292 & 155.9708\\\\\n",
       "\t 147.8259 & 28.52744 & 402 & 1.422820 & 3.656646 & 144.1692 & 151.4825\\\\\n",
       "\t 146.6849 & 31.77733 & 384 & 1.621630 & 4.167589 & 142.5173 & 150.8525\\\\\n",
       "\\end{tabular}\n"
      ],
      "text/markdown": [
       "\n",
       "A data.frame: 4 × 7\n",
       "\n",
       "| media &lt;dbl&gt; | desv &lt;dbl&gt; | N &lt;int&gt; | error.est &lt;dbl&gt; | error &lt;dbl&gt; | lim.inf &lt;dbl&gt; | lim.sup &lt;dbl&gt; |\n",
       "|---|---|---|---|---|---|---|\n",
       "| 141.9948 | 31.93155 | 384 | 1.629500 | 4.187815 | 137.8070 | 146.1826 |\n",
       "| 151.8000 | 31.84351 | 385 | 1.622896 | 4.170842 | 147.6292 | 155.9708 |\n",
       "| 147.8259 | 28.52744 | 402 | 1.422820 | 3.656646 | 144.1692 | 151.4825 |\n",
       "| 146.6849 | 31.77733 | 384 | 1.621630 | 4.167589 | 142.5173 | 150.8525 |\n",
       "\n"
      ],
      "text/plain": [
       "  media    desv     N   error.est error    lim.inf  lim.sup \n",
       "1 141.9948 31.93155 384 1.629500  4.187815 137.8070 146.1826\n",
       "2 151.8000 31.84351 385 1.622896  4.170842 147.6292 155.9708\n",
       "3 147.8259 28.52744 402 1.422820  3.656646 144.1692 151.4825\n",
       "4 146.6849 31.77733 384 1.621630  4.167589 142.5173 150.8525"
      ]
     },
     "metadata": {},
     "output_type": "display_data"
    }
   ],
   "source": [
    "#Se concatenan los intervalos de confianza para competencias ciudadanas por orden MAS, ME, MC, MS respectivamente.\n",
    "#Tabla del 90%\n",
    "inf_comp_ciud90<- rbind(infmas_comp_ciud90,infme_comp_ciud90,infmc_comp_ciud90,infms_comp_ciud90)\n",
    "inf_comp_ciud90\n",
    "#Tabla del 95%\n",
    "inf_comp_ciud95<- rbind(infmas_comp_ciud95,infme_comp_ciud95,infmc_comp_ciud95,infms_comp_ciud95)\n",
    "inf_comp_ciud95\n",
    "#Tabla del 99%\n",
    "inf_comp_ciud99<- rbind(infmas_comp_ciud99,infme_comp_ciud99,infmc_comp_ciud99,infms_comp_ciud99)\n",
    "inf_comp_ciud99"
   ]
  },
  {
   "cell_type": "markdown",
   "metadata": {},
   "source": [
    "<h3 align=\"left\">Conclusiones</h3> "
   ]
  },
  {
   "cell_type": "markdown",
   "metadata": {},
   "source": [
    "- Al seleccionar un tamaño de muestra adecuado aplicando la fórmula correspondiente, los muestreos obtenidos son lo suficientemente representativos respecto a la población. Esto puede ser comprobado por medio de las estimaciones por máxima verosimilitud, las gráficas generadas, así como los intervalos de confianza obtenidos.\n",
    "- Si se comparan los intervalos de confianza de acuerdo al porcentaje seleccionado, se puede observar que a mayor porcentaje se reduce el intervalo, aunque esta reducción termina siendo poco notoria.\n",
    "- Todos los muestreos son representativos a la población, por tanto, el escoger alguno en específico depende principalmente del propósito del estudio que se quiera realizar con los datos. Por ejemplo, si se quiere analizar por desempeño, el más adecuado sería el estratificado; mientras que el MAS y el sistemático sirven para un análisis general, sin dejar de lado sus características particulares."
   ]
  },
  {
   "cell_type": "code",
   "execution_count": null,
   "metadata": {},
   "outputs": [],
   "source": []
  }
 ],
 "metadata": {
  "kernelspec": {
   "display_name": "R",
   "language": "R",
   "name": "ir"
  },
  "language_info": {
   "codemirror_mode": "r",
   "file_extension": ".r",
   "mimetype": "text/x-r-source",
   "name": "R",
   "pygments_lexer": "r",
   "version": "4.0.3"
  }
 },
 "nbformat": 4,
 "nbformat_minor": 4
}
