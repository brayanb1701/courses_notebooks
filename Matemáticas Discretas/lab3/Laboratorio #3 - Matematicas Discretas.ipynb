{
 "cells": [
  {
   "cell_type": "markdown",
   "metadata": {},
   "source": [
    "<h1 align=\"center\">Matematicas Discretas - Laboratorio #3</h1>"
   ]
  },
  {
   "cell_type": "markdown",
   "metadata": {},
   "source": [
    "<A HREF=\"https://www.youtube.com/watch?v=5HuMMTTfAGs\"><img src=\"img/induccion.png\" height=\"480\" width=\"720\"></A>\n",
    "\n",
    "<h3 align=\"center\"> Haga click en la imagen para ver el video...</h3><br><br>"
   ]
  },
  {
   "cell_type": "markdown",
   "metadata": {},
   "source": [
    "<div style=\"text-align: justify\">\n",
    "<font size=4><br><br>\n",
    "<h3 align=\"center\">Inducción Matemática</h3><br><br>\n",
    "Es un tipo de razonamiento que permite demostrar proposiciones que dependen de una variable $n$ que toma una infinidad de valores enteros. En términos simples consiste en el siguiente razonamiento:<br><br>\n",
    "\n",
    "El número entero $a$ tiene la propiedad $P$. El hecho de que cualquier número entero $n$ también tenga la propiedad $P$ implica que $n + 1$ también la tiene. Entonces todos los números enteros a partir de $a$ tienen la propiedad $P$.<br><br>\n",
    "\n",
    "Esto representa una gran herramienta para probar que una declaración $S(n)$ es verdadera para todo entero positivo $n$, ó de manera general, para todo entero en -ó- sobre un límite inferior propuesto.<br><br><br>\n",
    "\n",
    "Digamos que $S(n)$ es alguna declaración arbitraria sobre algún entero $n$. En la forma más simple de una prueba inductiva para $S(n)$, tenemos dos factores:<br><br>\n",
    "\n",
    "1. El caso base, que normalmente es $S(0)$, ó $S(1)$, ó el entero $k$ que resulte más conveniente, teniendo en cuenta, que luego $S(n)$ se probará sólo para $n \\geq k$.<br><br>\n",
    "\n",
    "2. El paso $inductivo$ donde se prueba que para toda $n \\geq k$, decir que $S(n)$ es verdadero implica que $S(n + 1)$ también es verdadero. Se asume $S(n)$ como verdadero (a esto se le llama la hipótesis inductiva), y asumiendo que es verdadera, se debe probar que $S(n+1)$ es verdadera.\n",
    "</font>\n",
    "</div>"
   ]
  },
  {
   "cell_type": "markdown",
   "metadata": {},
   "source": [
    "<div style=\"text-align: justify\">\n",
    "<font size=4>\n",
    "<h3 align=\"center\">Ejemplo:</h3><br>\n",
    "\n",
    "1. Sea $S(n) : \\sum_{i = 0}^{n}{2^i} = 2^{n+1} - 1$ para cualquier $n \\geq 0$<br><br>\n",
    "\n",
    "a). Caso Base: sustituyendo $n = 0$ én $S(n)$, entonces: $$\\rightarrow \\sum_{i = 0}^{0}{2^i} = 2^1 - 1 = 1$$<br>\n",
    "\n",
    "b). asumiendo que $S(n)$ sea verdadera, se procede a probar $S(n+1)$: \n",
    "$$\\sum_{i = 0}^{n+1}{2^i} = 2^{n+2} - 1$$<br>\n",
    "Considerando qué: $\\sum_{i = 0}^{n+1}{2^i} = \\sum_{i = 0}^{n}{2^i} + 2^{n+1}$<br><br>\n",
    "Reemplazando $\\sum_{i = 0}^{n}{2^i} = 2^{n+1} - 1$ en la ecuación anterior se obtiene:<br>\n",
    "$$\\sum_{i = 0}^{n+1}{2^i} = 2^{n+1} - 1 + 2^{n+1} = 2(2^{n+1}) - 1 = 2^{n+2} - 1$$<br>\n",
    "\n",
    "Lo cual demuestra que la hipótesis $S(n)$ es verdadera para todo $n \\geq 0$; su representación en python es igual de sencilla que la demostración.\n",
    "</font>\n",
    "</div>"
   ]
  },
  {
   "cell_type": "code",
   "execution_count": 2,
   "metadata": {},
   "outputs": [],
   "source": [
    "import random as rd"
   ]
  },
  {
   "cell_type": "code",
   "execution_count": 5,
   "metadata": {},
   "outputs": [
    {
     "name": "stdout",
     "output_type": "stream",
     "text": [
      "True\n"
     ]
    }
   ],
   "source": [
    "                            #Ejemplo de inducción matemática\n",
    "\n",
    "j = rd.randint(0, 10000)\n",
    "sum1 = pow(2, 0)            #Caso base del hipótesis\n",
    "sum2 = pow(2, (j + 1)) - 1  #Lado derecho de la hipótesis\n",
    "for i in range(1, (j + 1)):     \n",
    "    sum1 = sum1 + pow(2, i) #Sumatoria, lado izquierdo de la hipótesis\n",
    "print(sum1 == sum2)\n",
    "#print(sum1)                #Descomentariar estas lineas para ver los números calculados\n",
    "#print(sum2)"
   ]
  },
  {
   "cell_type": "markdown",
   "metadata": {},
   "source": [
    "<div style=\"text-align: justify\">\n",
    "<font size=4>\n",
    "<h3 align=\"center\">Ejercicios:</h3><br>\n",
    "1. Demuestre que las siguientes ecuaciones son verdaderas utilizando inducción matemática y escriba el código que muestre su validez en celdas individuales (Buena práctica de programación: comentaríe lo que hace en las líneas de código que considere importantes):\n",
    "<img src=\"img/ejercicios1.png\"><br><br><br>\n",
    "2. Utilice inducción matemática para verificar la desigualdad:<br><br>\n",
    "\n",
    "a). $$\\frac{1 \\cdot 3 \\cdot 5 \\cdot\\cdot\\cdot (2n - 1)}{2 \\cdot 4 \\cdot 6 \\cdot\\cdot\\cdot (2n)} \\leq \\frac{1}{\\sqrt{n+1}}, n \\in \\mathbb{N}$$ <br><br>\n",
    "\n",
    "b). $$2^{n} \\geq n^2, n = 4, 5, ...$$\n",
    "</font>\n",
    "</div>"
   ]
  },
  {
   "cell_type": "markdown",
   "metadata": {
    "collapsed": true
   },
   "source": [
    "<div style=\"text-align: justify\">\n",
    "<font size=4><br><br>\n",
    "<h3 align=\"center\">Loop Invariants</h3><br><br>\n",
    "\n",
    "</font>\n",
    "</div>"
   ]
  },
  {
   "cell_type": "markdown",
   "metadata": {},
   "source": [
    "<div style=\"text-align: justify\">\n",
    "<font size=4><br><br>\n",
    "\n",
    "Una buena manera de probar una propiedad de un ciclo en específico es seleccionando un $loop$ $invariant$ para este, el cual és una declaración que se hace verdadera cada vez que se entra en un punto particular de un ciclo. Esta declaración se prueba mendiante inducción matemática sobre un parámetro que de alguna manera cuenta la cantidad de veces que se entra al ciclo; este puede ser por ejemplo el número de veces que se entra en un ciclo $while$ o el número de índice en un ciclo $for$ entre otros.<br><br>\n",
    "\n",
    "Para ilustrarlo mejor se hará un ejemplo sencillo tomando como base el ejercicio anterior: <br><br>\n",
    "\n",
    "1. Sea $S(n) : \\sum_{i = 0}^{n}{2^i} = 2^{n+1} - 1$ para cualquier $n \\geq 0$<br><br>\n",
    "\n",
    "Se tiene como algoritmo para esta demostración:<br><br>\n",
    "\n",
    "1 j = rd.randint(0, 10000)<br>\n",
    "2 sum1 = pow(2, 0)                #Caso base de la hipótesis<br>\n",
    "3 sum2 = pow(2, (j + 1)) - 1      #Lado derecho de la hipótesis<br>\n",
    "4 for i in range(1, (j + 1)):<br>\n",
    "5     sum1 = sum1 + pow(2, i)     #sumatoria, lado izquierdo de la hipótesis<br>\n",
    "6 print(sum1 == sum2)<br><br>\n",
    "\n",
    "Donde la variable sum1 es el caso base antes de que se entre en el ciclo $for$, y después de todas las iteraciones del ciclo, esta variable tiene el resultado de la sumatoria.<br><br>\n",
    "\n",
    "La variable sum2 es el resultado de la ecuación, el lado derecho de la hipótesis<br><br>\n",
    "\n",
    "Entonces nuestra declaración podría ser algo del estilo: $S(n):$ \"la variable sum1 retorna el valor final de la sumatoria de las $n$ potencias de 2\". <br><br>\n",
    "\n",
    "Nuestro caso base para la demostración de esta declaración sería: cuando $n=0$, $S(0)$ se encuentra en la línea 2 donde sum1 $=2^0$ antes de entrar en el ciclo.<br><br>\n",
    "\n",
    "El paso inductivo se puede explicar como: cuando $n = k$, $S(k)$, siendo $k$ un valor intermedio en las iteraciones del ciclo, representa que sum1 ha alamcenado la suma entre $2^0$ y $2^{k-1}$, es decir, $\\sum_{i = 0}^{k}{2^k}$. Para el caso $k+1$, sum1 ha guardado la suma entre $2^0$ y $2^k$. Cuando se llega al final del ciclo la variable $i$ del ciclo ha verificado que se calculó la suma de todas las potencias entre 0 y $n$, y garantiza que no va a calcular un $n+1$.\n",
    "\n",
    "</font>\n",
    "</div>"
   ]
  },
  {
   "cell_type": "markdown",
   "metadata": {},
   "source": [
    "<div style=\"text-align: justify\">\n",
    "<font size=4><br><br>\n",
    "<h3 align=\"center\">Ejercicios:</h3><br>\n",
    "1. Para 4 de los ejercicios anteriores, encontrar el respectivo $loop$ $invariant$ y demostrarlo como se vió en el ejemplo anterior.\n",
    "\n",
    "</font>\n",
    "</div>"
   ]
  },
  {
   "cell_type": "code",
   "execution_count": null,
   "metadata": {},
   "outputs": [],
   "source": []
  }
 ],
 "metadata": {
  "kernelspec": {
   "display_name": "Python 3",
   "language": "python",
   "name": "python3"
  },
  "language_info": {
   "codemirror_mode": {
    "name": "ipython",
    "version": 3
   },
   "file_extension": ".py",
   "mimetype": "text/x-python",
   "name": "python",
   "nbconvert_exporter": "python",
   "pygments_lexer": "ipython3",
   "version": "3.6.4"
  }
 },
 "nbformat": 4,
 "nbformat_minor": 2
}
