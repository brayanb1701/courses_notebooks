{
 "cells": [
  {
   "cell_type": "markdown",
   "metadata": {},
   "source": [
    "<div style=\"text-align: justify\">\n",
    "<font size=6><br>\n",
    "<img src=\"UISlogo.png\" align=\"left\" width=\"297\" height=\"200\"/> \n",
    "<h4 align=\"center\">Estadística II</h4></font> \n",
    "<font size=5><h4 align=\"center\">Trabajo Muestreo - Inferencia</h4></font>  \n",
    "\n",
    "<font size=4><br>\n",
    "      \n",
    "\n",
    "<font size=5><h4 align=\"left\">Intregrantes: </h4></font>      \n",
    "2172016 - Kevin Javier Lozano Galvis<br><br>\n",
    "2170688 - Brayan Rodolfo Barajas Ochoa<br><br>\n",
    "2160090 - Kevin Joel Dlaikan Castillo<br> "
   ]
  },
  {
   "cell_type": "markdown",
   "metadata": {},
   "source": [
    "<h3 align=\"center\">Enunciado</h3><br> \n",
    "En los siguientes enlaces encontrará los datos relacionados con los resultados de las pruebas de estado para las Instituciones de Educación Superior (IES) colombianas de carácter universitario de los últimos tres (3) años: <br>\n",
    "\n",
    "https://www.dropbox.com/s/xgsf3l5gjw0h0q4/saberpro.RData?dl=1\n",
    "\n",
    "Considere estos datos como una población finita. Las variables que componen la tabla son:\n",
    "\n",
    "- **periodo:** año de realización de la prueba. La variable se presenta fragmentada debido al origen de los datos. Requiere agruparse adecuadamente. Para ello, consulte la función `revalue` y describa, brevemente, su funcionamiento.\n",
    "- **apli_consecutivo:** consecutivo asignado al estudiante en el momento de presentar la prueba. Único por estudiante. \n",
    "- **estu_depto_reside:** departamento de residencia del estudiante.\n",
    "- **estu_cod_reside_depto:** código DANE del departamento de residencia del estudiante.\n",
    "- **inst_cod_institucion:** código de la IES ante el ministerio. Único por Institución.\n",
    "- **inst_nombre_institucion:** Nombre de la Institución. Algunas presentan sedes y subsedes.\n",
    "- **raz_cuant_punt:** Puntaje Razonamiento Cuantitativo.\n",
    "- **raz_cuant_des:** Nivel de Desempeño Razonamiento Cuantitativo (categórica).\n",
    "- **lect_crit_punt:** Puntaje Lectura Crítica.\n",
    "- **lect_crit_des:** Nivel de Desempeño Lectura Crítica (categórica).\n",
    "- **comp_ciud_punt:** Puntaje Competencias Ciudadanas.\n",
    "- **comp_ciud_des:** Nivel de Desempeño Competencias Ciudadanas (categórica).\n",
    "- **ingles_punt:** Puntaje Inglés.\n",
    "- **ingles_desem:** Nivel de Desempeño en Inglés (categórica).\n",
    "- **comu_escr_punt:** Puntaje Comunicación Escrita.\n",
    "- **comu_escr_des:** Nivel de Desempeño Comunicación Escrita (categórica).\n",
    "\n",
    "Tenga en cuenta que algunas variables categóricas figuran como numéricas, haga la correspondiente transformación.\n",
    "\n",
    "Los puntos a desarrollar son:\n",
    "\n",
    "1. Realice muestreo aleatorio simple y realice las estimaciones (inferencia) correspondientes. Tenga en cuenta que son múltiples variables\n",
    "2. Realice los correspondientes muestreos estratificados y compare los resultados con los anteriores. Explique las diferencias y/o similitudes\n",
    "3. Realice los correspondientes muestreos por conglomerados y compare los resultados con los puntos 1 y 2. Explique las diferencias y/o similitudes\n",
    "4. ¿Considera que es procedente realizar un muestreo sistemático? Argumente su respuesta\n",
    "5. Si la respuesta del punto 4 fue positiva, realice el correspondiente muestreo y compare con los anteriores\n",
    "6. Para las estimaciones emplee los siguientes niveles de confianza: 90%, 95% y 99%.\n",
    "\n",
    "El trabajo puede entregarse en formato PDF o como notebook de jupyter\n",
    "\n",
    "**Recomendaciones:**\n",
    "\n",
    "- Procure tabular de manera adecuada las estimaciones para optimizar espacio\n",
    "- Evite extenderse en las explicaciones\n",
    "- Trate de optimizar el uso de gráficas (visite el siguiente repositorio si desea una guía: https://github.com/karlosmantilla/graficas-basicas-descriptivas-\n",
    "- Referencie las fórmulas empleadas en los cálculos"
   ]
  },
  {
   "cell_type": "markdown",
   "metadata": {},
   "source": [
    "<h3 align=\"center\">Desarrollo</h3><br> "
   ]
  },
  {
   "cell_type": "code",
   "execution_count": 1,
   "metadata": {},
   "outputs": [],
   "source": [
    "load(url('https://www.dropbox.com/s/xgsf3l5gjw0h0q4/saberpro.RData?dl=1')) # Se carga la Data esde una url"
   ]
  },
  {
   "cell_type": "code",
   "execution_count": 2,
   "metadata": {},
   "outputs": [
    {
     "data": {
      "text/html": [
       "'sp161718'"
      ],
      "text/latex": [
       "'sp161718'"
      ],
      "text/markdown": [
       "'sp161718'"
      ],
      "text/plain": [
       "[1] \"sp161718\""
      ]
     },
     "metadata": {},
     "output_type": "display_data"
    },
    {
     "data": {
      "text/html": [
       "<style>\n",
       ".list-inline {list-style: none; margin:0; padding: 0}\n",
       ".list-inline>li {display: inline-block}\n",
       ".list-inline>li:not(:last-child)::after {content: \"\\00b7\"; padding: 0 .5ex}\n",
       "</style>\n",
       "<ol class=list-inline><li>725295</li><li>16</li></ol>\n"
      ],
      "text/latex": [
       "\\begin{enumerate*}\n",
       "\\item 725295\n",
       "\\item 16\n",
       "\\end{enumerate*}\n"
      ],
      "text/markdown": [
       "1. 725295\n",
       "2. 16\n",
       "\n",
       "\n"
      ],
      "text/plain": [
       "[1] 725295     16"
      ]
     },
     "metadata": {},
     "output_type": "display_data"
    },
    {
     "data": {
      "text/html": [
       "<style>\n",
       ".list-inline {list-style: none; margin:0; padding: 0}\n",
       ".list-inline>li {display: inline-block}\n",
       ".list-inline>li:not(:last-child)::after {content: \"\\00b7\"; padding: 0 .5ex}\n",
       "</style>\n",
       "<ol class=list-inline><li>'periodo'</li><li>'apli_consecutivo'</li><li>'estu_depto_reside'</li><li>'estu_cod_reside_depto'</li><li>'inst_cod_institucion'</li><li>'inst_nombre_institucion'</li><li>'raz_cuant_punt'</li><li>'raz_cuant_des'</li><li>'lect_crit_punt'</li><li>'lect_crit_des'</li><li>'comp_ciud_punt'</li><li>'comp_ciud_des'</li><li>'ingles_punt'</li><li>'ingles_desem'</li><li>'comu_escr_punt'</li><li>'comu_escr_des'</li></ol>\n"
      ],
      "text/latex": [
       "\\begin{enumerate*}\n",
       "\\item 'periodo'\n",
       "\\item 'apli\\_consecutivo'\n",
       "\\item 'estu\\_depto\\_reside'\n",
       "\\item 'estu\\_cod\\_reside\\_depto'\n",
       "\\item 'inst\\_cod\\_institucion'\n",
       "\\item 'inst\\_nombre\\_institucion'\n",
       "\\item 'raz\\_cuant\\_punt'\n",
       "\\item 'raz\\_cuant\\_des'\n",
       "\\item 'lect\\_crit\\_punt'\n",
       "\\item 'lect\\_crit\\_des'\n",
       "\\item 'comp\\_ciud\\_punt'\n",
       "\\item 'comp\\_ciud\\_des'\n",
       "\\item 'ingles\\_punt'\n",
       "\\item 'ingles\\_desem'\n",
       "\\item 'comu\\_escr\\_punt'\n",
       "\\item 'comu\\_escr\\_des'\n",
       "\\end{enumerate*}\n"
      ],
      "text/markdown": [
       "1. 'periodo'\n",
       "2. 'apli_consecutivo'\n",
       "3. 'estu_depto_reside'\n",
       "4. 'estu_cod_reside_depto'\n",
       "5. 'inst_cod_institucion'\n",
       "6. 'inst_nombre_institucion'\n",
       "7. 'raz_cuant_punt'\n",
       "8. 'raz_cuant_des'\n",
       "9. 'lect_crit_punt'\n",
       "10. 'lect_crit_des'\n",
       "11. 'comp_ciud_punt'\n",
       "12. 'comp_ciud_des'\n",
       "13. 'ingles_punt'\n",
       "14. 'ingles_desem'\n",
       "15. 'comu_escr_punt'\n",
       "16. 'comu_escr_des'\n",
       "\n",
       "\n"
      ],
      "text/plain": [
       " [1] \"periodo\"                 \"apli_consecutivo\"       \n",
       " [3] \"estu_depto_reside\"       \"estu_cod_reside_depto\"  \n",
       " [5] \"inst_cod_institucion\"    \"inst_nombre_institucion\"\n",
       " [7] \"raz_cuant_punt\"          \"raz_cuant_des\"          \n",
       " [9] \"lect_crit_punt\"          \"lect_crit_des\"          \n",
       "[11] \"comp_ciud_punt\"          \"comp_ciud_des\"          \n",
       "[13] \"ingles_punt\"             \"ingles_desem\"           \n",
       "[15] \"comu_escr_punt\"          \"comu_escr_des\"          "
      ]
     },
     "metadata": {},
     "output_type": "display_data"
    }
   ],
   "source": [
    "ls()\n",
    "dim(sp161718) #dimensiones Dataframe\n",
    "names(sp161718) #Nombres Variables"
   ]
  },
  {
   "cell_type": "markdown",
   "metadata": {},
   "source": [
    "Es importante aclarar que las tres variables a analizar serán razonamiento cuantitativo, lectura crítica y competencias ciudadanas; cada una con su respectiva variable categórica. Además, se incluye el periodo y la variable a utilizar para conglomerados que será departamento"
   ]
  },
  {
   "cell_type": "code",
   "execution_count": 3,
   "metadata": {},
   "outputs": [],
   "source": [
    "data<-data.frame(periodo=sp161718$periodo, departamento=sp161718$estu_depto_reside, raz_cuant_punt=sp161718$raz_cuant_punt, raz_cuant_des=sp161718$raz_cuant_des, lect_crit_punt=sp161718$lect_crit_punt, lect_crit_des=sp161718$lect_crit_des, comp_ciud_punt=sp161718$comp_ciud_punt, comp_ciud_des=sp161718$comp_ciud_des) #Nuevo Dataframe a usar"
   ]
  },
  {
   "cell_type": "code",
   "execution_count": 4,
   "metadata": {},
   "outputs": [
    {
     "data": {
      "text/html": [
       "<style>\n",
       ".list-inline {list-style: none; margin:0; padding: 0}\n",
       ".list-inline>li {display: inline-block}\n",
       ".list-inline>li:not(:last-child)::after {content: \"\\00b7\"; padding: 0 .5ex}\n",
       "</style>\n",
       "<ol class=list-inline><li>20163</li><li>20162</li><li>20173</li><li>20172</li><li>20183</li><li>20182</li><li>20184</li></ol>\n"
      ],
      "text/latex": [
       "\\begin{enumerate*}\n",
       "\\item 20163\n",
       "\\item 20162\n",
       "\\item 20173\n",
       "\\item 20172\n",
       "\\item 20183\n",
       "\\item 20182\n",
       "\\item 20184\n",
       "\\end{enumerate*}\n"
      ],
      "text/markdown": [
       "1. 20163\n",
       "2. 20162\n",
       "3. 20173\n",
       "4. 20172\n",
       "5. 20183\n",
       "6. 20182\n",
       "7. 20184\n",
       "\n",
       "\n"
      ],
      "text/plain": [
       "[1] 20163 20162 20173 20172 20183 20182 20184"
      ]
     },
     "metadata": {},
     "output_type": "display_data"
    },
    {
     "data": {
      "text/html": [
       "<style>\n",
       ".list-inline {list-style: none; margin:0; padding: 0}\n",
       ".list-inline>li {display: inline-block}\n",
       ".list-inline>li:not(:last-child)::after {content: \"\\00b7\"; padding: 0 .5ex}\n",
       "</style>\n",
       "<ol class=list-inline><li>3</li><li>2</li><li>1</li><li>4</li></ol>\n"
      ],
      "text/latex": [
       "\\begin{enumerate*}\n",
       "\\item 3\n",
       "\\item 2\n",
       "\\item 1\n",
       "\\item 4\n",
       "\\end{enumerate*}\n"
      ],
      "text/markdown": [
       "1. 3\n",
       "2. 2\n",
       "3. 1\n",
       "4. 4\n",
       "\n",
       "\n"
      ],
      "text/plain": [
       "[1] 3 2 1 4"
      ]
     },
     "metadata": {},
     "output_type": "display_data"
    }
   ],
   "source": [
    "unique(data$periodo) #Se mira los tipos de periodo para utilizar revalue\n",
    "unique(data$raz_cuant_des) #Se mira los tipos de variable categórica para hacer conversión"
   ]
  },
  {
   "cell_type": "markdown",
   "metadata": {},
   "source": [
    "Primeramente, se hace el ajuste a la columna de periodo, para que esta contenga únicamente el año correspondiente. <br>\n",
    "La función revalue obtiene como parámetros una lista tipo factor y el vector de valores a reemplazar, en donde el índice es el valor a reemplazar y su dato correspondiente es el nuevo valor. "
   ]
  },
  {
   "cell_type": "code",
   "execution_count": 5,
   "metadata": {},
   "outputs": [],
   "source": [
    "library(plyr) #Librería necesaria para revalue"
   ]
  },
  {
   "cell_type": "code",
   "execution_count": 6,
   "metadata": {
    "scrolled": false
   },
   "outputs": [
    {
     "data": {
      "text/html": [
       "<table>\n",
       "<caption>A data.frame: 6 × 8</caption>\n",
       "<thead>\n",
       "\t<tr><th></th><th scope=col>periodo</th><th scope=col>departamento</th><th scope=col>raz_cuant_punt</th><th scope=col>raz_cuant_des</th><th scope=col>lect_crit_punt</th><th scope=col>lect_crit_des</th><th scope=col>comp_ciud_punt</th><th scope=col>comp_ciud_des</th></tr>\n",
       "\t<tr><th></th><th scope=col>&lt;fct&gt;</th><th scope=col>&lt;fct&gt;</th><th scope=col>&lt;int&gt;</th><th scope=col>&lt;fct&gt;</th><th scope=col>&lt;int&gt;</th><th scope=col>&lt;fct&gt;</th><th scope=col>&lt;int&gt;</th><th scope=col>&lt;fct&gt;</th></tr>\n",
       "</thead>\n",
       "<tbody>\n",
       "\t<tr><th scope=row>1</th><td>2016</td><td>ATLANTICO   </td><td>160</td><td>Bueno    </td><td>130</td><td>Aceptable </td><td>167</td><td>Bueno     </td></tr>\n",
       "\t<tr><th scope=row>2</th><td>2016</td><td>CUNDINAMARCA</td><td>138</td><td>Aceptable</td><td>132</td><td>Aceptable </td><td> 77</td><td>Deficiente</td></tr>\n",
       "\t<tr><th scope=row>3</th><td>2016</td><td>CALDAS      </td><td>146</td><td>Aceptable</td><td>157</td><td>Aceptable </td><td>150</td><td>Aceptable </td></tr>\n",
       "\t<tr><th scope=row>4</th><td>2016</td><td>MAGDALENA   </td><td>160</td><td>Bueno    </td><td>172</td><td>Bueno     </td><td>151</td><td>Aceptable </td></tr>\n",
       "\t<tr><th scope=row>5</th><td>2016</td><td>CORDOBA     </td><td>130</td><td>Aceptable</td><td>122</td><td>Deficiente</td><td>144</td><td>Aceptable </td></tr>\n",
       "\t<tr><th scope=row>6</th><td>2016</td><td>CAUCA       </td><td>159</td><td>Bueno    </td><td>129</td><td>Aceptable </td><td>147</td><td>Aceptable </td></tr>\n",
       "</tbody>\n",
       "</table>\n"
      ],
      "text/latex": [
       "A data.frame: 6 × 8\n",
       "\\begin{tabular}{r|llllllll}\n",
       "  & periodo & departamento & raz\\_cuant\\_punt & raz\\_cuant\\_des & lect\\_crit\\_punt & lect\\_crit\\_des & comp\\_ciud\\_punt & comp\\_ciud\\_des\\\\\n",
       "  & <fct> & <fct> & <int> & <fct> & <int> & <fct> & <int> & <fct>\\\\\n",
       "\\hline\n",
       "\t1 & 2016 & ATLANTICO    & 160 & Bueno     & 130 & Aceptable  & 167 & Bueno     \\\\\n",
       "\t2 & 2016 & CUNDINAMARCA & 138 & Aceptable & 132 & Aceptable  &  77 & Deficiente\\\\\n",
       "\t3 & 2016 & CALDAS       & 146 & Aceptable & 157 & Aceptable  & 150 & Aceptable \\\\\n",
       "\t4 & 2016 & MAGDALENA    & 160 & Bueno     & 172 & Bueno      & 151 & Aceptable \\\\\n",
       "\t5 & 2016 & CORDOBA      & 130 & Aceptable & 122 & Deficiente & 144 & Aceptable \\\\\n",
       "\t6 & 2016 & CAUCA        & 159 & Bueno     & 129 & Aceptable  & 147 & Aceptable \\\\\n",
       "\\end{tabular}\n"
      ],
      "text/markdown": [
       "\n",
       "A data.frame: 6 × 8\n",
       "\n",
       "| <!--/--> | periodo &lt;fct&gt; | departamento &lt;fct&gt; | raz_cuant_punt &lt;int&gt; | raz_cuant_des &lt;fct&gt; | lect_crit_punt &lt;int&gt; | lect_crit_des &lt;fct&gt; | comp_ciud_punt &lt;int&gt; | comp_ciud_des &lt;fct&gt; |\n",
       "|---|---|---|---|---|---|---|---|---|\n",
       "| 1 | 2016 | ATLANTICO    | 160 | Bueno     | 130 | Aceptable  | 167 | Bueno      |\n",
       "| 2 | 2016 | CUNDINAMARCA | 138 | Aceptable | 132 | Aceptable  |  77 | Deficiente |\n",
       "| 3 | 2016 | CALDAS       | 146 | Aceptable | 157 | Aceptable  | 150 | Aceptable  |\n",
       "| 4 | 2016 | MAGDALENA    | 160 | Bueno     | 172 | Bueno      | 151 | Aceptable  |\n",
       "| 5 | 2016 | CORDOBA      | 130 | Aceptable | 122 | Deficiente | 144 | Aceptable  |\n",
       "| 6 | 2016 | CAUCA        | 159 | Bueno     | 129 | Aceptable  | 147 | Aceptable  |\n",
       "\n"
      ],
      "text/plain": [
       "  periodo departamento raz_cuant_punt raz_cuant_des lect_crit_punt\n",
       "1 2016    ATLANTICO    160            Bueno         130           \n",
       "2 2016    CUNDINAMARCA 138            Aceptable     132           \n",
       "3 2016    CALDAS       146            Aceptable     157           \n",
       "4 2016    MAGDALENA    160            Bueno         172           \n",
       "5 2016    CORDOBA      130            Aceptable     122           \n",
       "6 2016    CAUCA        159            Bueno         129           \n",
       "  lect_crit_des comp_ciud_punt comp_ciud_des\n",
       "1 Aceptable     167            Bueno        \n",
       "2 Aceptable      77            Deficiente   \n",
       "3 Aceptable     150            Aceptable    \n",
       "4 Bueno         151            Aceptable    \n",
       "5 Deficiente    144            Aceptable    \n",
       "6 Aceptable     147            Aceptable    "
      ]
     },
     "metadata": {},
     "output_type": "display_data"
    }
   ],
   "source": [
    "temp<-factor(data$periodo) #Para aplicar la función revalue, es necesario pasarle una variable tipo factor\n",
    "#Se hace el ajuste para que periodo sea únicamente el año\n",
    "data$periodo<-revalue(temp, c(\"20163\"=\"2016\", \"20162\"=\"2016\", \"20173\"=\"2017\", \"20172\"=\"2017\",\"20183\"=\"2018\",\"20182\"=\"2018\",\"20184\"=\"2018\")) #Uso de revalue\n",
    "#Se hace la conversion de variables categoricas\n",
    "data$raz_cuant_des<-factor(data$raz_cuant_des, levels = c(1,2,3,4), labels = c(\"Deficiente\",\"Aceptable\",\"Bueno\",\"Excelente\"))\n",
    "data$lect_crit_des<-factor(data$lect_crit_des, levels = c(1,2,3,4), labels = c(\"Deficiente\",\"Aceptable\",\"Bueno\",\"Excelente\")) \n",
    "data$comp_ciud_des<-factor(data$comp_ciud_des, levels = c(1,2,3,4), labels = c(\"Deficiente\",\"Aceptable\",\"Bueno\",\"Excelente\")) \n",
    "head(data) #Se verifica que se hayan hecho los cambios correctamente"
   ]
  },
  {
   "cell_type": "code",
   "execution_count": 72,
   "metadata": {},
   "outputs": [],
   "source": [
    "#Función para obetener los principales datos estadísticos\n",
    "mystats <- function(x, na.omit=FALSE){\n",
    "  if (na.omit)\n",
    "    x <- x[!is.na(x)]\n",
    "  m <- mean(x)\n",
    "  n <- length(x)\n",
    "  s <- sd(x)\n",
    "  skew <- sum((x-m)^3/s^3)/n\n",
    "  kurt <- sum((x-m)^4/s^4)/n - 3\n",
    "  return(c(\"tamaño\"=n, \"media\"=m, \"desviación estándar\"=s, \"simetría\"=skew, \"kurtosis\"=kurt))\n",
    "}"
   ]
  },
  {
   "cell_type": "code",
   "execution_count": 8,
   "metadata": {},
   "outputs": [
    {
     "data": {
      "text/html": [
       "<table>\n",
       "<caption>A data.frame: 5 × 3</caption>\n",
       "<thead>\n",
       "\t<tr><th></th><th scope=col>stats.raz.cuant</th><th scope=col>stats.lect.crit</th><th scope=col>stats.comp.ciud</th></tr>\n",
       "\t<tr><th></th><th scope=col>&lt;dbl&gt;</th><th scope=col>&lt;dbl&gt;</th><th scope=col>&lt;dbl&gt;</th></tr>\n",
       "</thead>\n",
       "<tbody>\n",
       "\t<tr><th scope=row>tamaño</th><td>725295.0</td><td>725295.0</td><td>725295.0</td></tr>\n",
       "\t<tr><th scope=row>media</th><td>   149.5</td><td>   150.1</td><td>   144.8</td></tr>\n",
       "\t<tr><th scope=row>desviación estándar</th><td>    30.7</td><td>    31.0</td><td>    32.5</td></tr>\n",
       "\t<tr><th scope=row>simetría</th><td>     0.2</td><td>     0.0</td><td>    -0.1</td></tr>\n",
       "\t<tr><th scope=row>kurtosis</th><td>     0.1</td><td>    -0.3</td><td>     0.0</td></tr>\n",
       "</tbody>\n",
       "</table>\n"
      ],
      "text/latex": [
       "A data.frame: 5 × 3\n",
       "\\begin{tabular}{r|lll}\n",
       "  & stats.raz.cuant & stats.lect.crit & stats.comp.ciud\\\\\n",
       "  & <dbl> & <dbl> & <dbl>\\\\\n",
       "\\hline\n",
       "\ttamaño & 725295.0 & 725295.0 & 725295.0\\\\\n",
       "\tmedia &    149.5 &    150.1 &    144.8\\\\\n",
       "\tdesviación estándar &     30.7 &     31.0 &     32.5\\\\\n",
       "\tsimetría &      0.2 &      0.0 &     -0.1\\\\\n",
       "\tkurtosis &      0.1 &     -0.3 &      0.0\\\\\n",
       "\\end{tabular}\n"
      ],
      "text/markdown": [
       "\n",
       "A data.frame: 5 × 3\n",
       "\n",
       "| <!--/--> | stats.raz.cuant &lt;dbl&gt; | stats.lect.crit &lt;dbl&gt; | stats.comp.ciud &lt;dbl&gt; |\n",
       "|---|---|---|---|\n",
       "| tamaño | 725295.0 | 725295.0 | 725295.0 |\n",
       "| media |    149.5 |    150.1 |    144.8 |\n",
       "| desviación estándar |     30.7 |     31.0 |     32.5 |\n",
       "| simetría |      0.2 |      0.0 |     -0.1 |\n",
       "| kurtosis |      0.1 |     -0.3 |      0.0 |\n",
       "\n"
      ],
      "text/plain": [
       "                    stats.raz.cuant stats.lect.crit stats.comp.ciud\n",
       "tamaño              725295.0        725295.0        725295.0       \n",
       "media                  149.5           150.1           144.8       \n",
       "desviación estándar     30.7            31.0            32.5       \n",
       "simetría                 0.2             0.0            -0.1       \n",
       "kurtosis                 0.1            -0.3             0.0       "
      ]
     },
     "metadata": {},
     "output_type": "display_data"
    }
   ],
   "source": [
    "#stats poblacion\n",
    "stats.raz.cuant<-round(mystats(data[,'raz_cuant_punt']),1)\n",
    "stats.lect.crit<-round(mystats(data[,'lect_crit_punt']),1)\n",
    "stats.comp.ciud<-round(mystats(data[,'comp_ciud_punt']),1)\n",
    "data.frame(stats.raz.cuant,stats.lect.crit,stats.comp.ciud)"
   ]
  },
  {
   "cell_type": "code",
   "execution_count": 10,
   "metadata": {},
   "outputs": [],
   "source": [
    "library(samplingbook)\n",
    "library(repr)\n",
    "options(repr.plot.width=12, repr.plot.height=12)"
   ]
  },
  {
   "cell_type": "markdown",
   "metadata": {},
   "source": [
    "<h3 align=\"left\">Tamaño de Muestra</h3><br> "
   ]
  },
  {
   "cell_type": "markdown",
   "metadata": {},
   "source": [
    "Antes de hacer cualquier muestreo, es necesario conocer el tamaño de muestra adecuado para la población. Esto se hace a continuación, para esto se toma un nivel de confianza de $95\\%$ y la proporción predeterminada de $0.5$."
   ]
  },
  {
   "cell_type": "code",
   "execution_count": 11,
   "metadata": {},
   "outputs": [
    {
     "name": "stdout",
     "output_type": "stream",
     "text": [
      "\n",
      "sample.size.prop object: Sample size for proportion estimate\n",
      "With finite population correction: N=725295, precision e=0.05 and expected proportion P=0.5\n",
      "\n",
      "Sample size needed: 384\n",
      "\n"
     ]
    }
   ],
   "source": [
    "tmuestra<-sample.size.prop(e=0.05, P = 0.5, N = nrow(data), level = 0.95)\n",
    "print(tmuestra)"
   ]
  },
  {
   "cell_type": "markdown",
   "metadata": {},
   "source": [
    "A continuación, se procede a realizar cada uno de los muestreos con sus respectivas inferencias para cada variable. <br>\n",
    "El análisis se realizará al final, de tal forma que se puedan comparar todos los muestreos realizados."
   ]
  },
  {
   "cell_type": "markdown",
   "metadata": {},
   "source": [
    "<h3 align=\"left\">Muestreo Aleatorio Simple</h3><br> "
   ]
  },
  {
   "cell_type": "code",
   "execution_count": 12,
   "metadata": {},
   "outputs": [
    {
     "data": {
      "image/png": "[encoded data removed]",
      "text/plain": [
       "Plot with title \"Histogram of comp_ciud_punt\""
      ]
     },
     "metadata": {
      "image/png": {
       "height": 720,
       "width": 720
      },
      "text/plain": {
       "height": 720,
       "width": 720
      }
     },
     "output_type": "display_data"
    }
   ],
   "source": [
    "mas<- sample(1:nrow(data),size=384,replace=FALSE) #Se realiza el MAS\n",
    "d.mas<-data[mas,]\n",
    "par(mfrow=c(3,1))\n",
    "with(d.mas, hist(raz_cuant_punt, nclass = 50, cex.main=2.5, cex.axis=1.5, cex.lab=1.5))\n",
    "with(d.mas, hist(lect_crit_punt, nclass = 50, cex.main=2.5, cex.axis=1.5, cex.lab=1.5))\n",
    "with(d.mas, hist(comp_ciud_punt, nclass = 50, cex.main=2.5, cex.axis=1.5, cex.lab=1.5))\n",
    "par(mfrow=c(1,1))"
   ]
  },
  {
   "cell_type": "code",
   "execution_count": 13,
   "metadata": {},
   "outputs": [
    {
     "data": {
      "text/html": [
       "<table>\n",
       "<caption>A data.frame: 5 × 3</caption>\n",
       "<thead>\n",
       "\t<tr><th></th><th scope=col>stats.mas.raz.cuant</th><th scope=col>stats.mas.lect.crit</th><th scope=col>stats.mas.comp.ciud</th></tr>\n",
       "\t<tr><th></th><th scope=col>&lt;dbl&gt;</th><th scope=col>&lt;dbl&gt;</th><th scope=col>&lt;dbl&gt;</th></tr>\n",
       "</thead>\n",
       "<tbody>\n",
       "\t<tr><th scope=row>tamaño</th><td>384.0</td><td>384.0</td><td>384.0</td></tr>\n",
       "\t<tr><th scope=row>media</th><td>150.1</td><td>149.4</td><td>145.4</td></tr>\n",
       "\t<tr><th scope=row>desviación estándar</th><td> 30.6</td><td> 31.3</td><td> 33.1</td></tr>\n",
       "\t<tr><th scope=row>simetría</th><td>  0.2</td><td>  0.0</td><td>  0.1</td></tr>\n",
       "\t<tr><th scope=row>kurtosis</th><td> -0.4</td><td> -0.5</td><td>  0.5</td></tr>\n",
       "</tbody>\n",
       "</table>\n"
      ],
      "text/latex": [
       "A data.frame: 5 × 3\n",
       "\\begin{tabular}{r|lll}\n",
       "  & stats.mas.raz.cuant & stats.mas.lect.crit & stats.mas.comp.ciud\\\\\n",
       "  & <dbl> & <dbl> & <dbl>\\\\\n",
       "\\hline\n",
       "\ttamaño & 384.0 & 384.0 & 384.0\\\\\n",
       "\tmedia & 150.1 & 149.4 & 145.4\\\\\n",
       "\tdesviación estándar &  30.6 &  31.3 &  33.1\\\\\n",
       "\tsimetría &   0.2 &   0.0 &   0.1\\\\\n",
       "\tkurtosis &  -0.4 &  -0.5 &   0.5\\\\\n",
       "\\end{tabular}\n"
      ],
      "text/markdown": [
       "\n",
       "A data.frame: 5 × 3\n",
       "\n",
       "| <!--/--> | stats.mas.raz.cuant &lt;dbl&gt; | stats.mas.lect.crit &lt;dbl&gt; | stats.mas.comp.ciud &lt;dbl&gt; |\n",
       "|---|---|---|---|\n",
       "| tamaño | 384.0 | 384.0 | 384.0 |\n",
       "| media | 150.1 | 149.4 | 145.4 |\n",
       "| desviación estándar |  30.6 |  31.3 |  33.1 |\n",
       "| simetría |   0.2 |   0.0 |   0.1 |\n",
       "| kurtosis |  -0.4 |  -0.5 |   0.5 |\n",
       "\n"
      ],
      "text/plain": [
       "                    stats.mas.raz.cuant stats.mas.lect.crit stats.mas.comp.ciud\n",
       "tamaño              384.0               384.0               384.0              \n",
       "media               150.1               149.4               145.4              \n",
       "desviación estándar  30.6                31.3                33.1              \n",
       "simetría              0.2                 0.0                 0.1              \n",
       "kurtosis             -0.4                -0.5                 0.5              "
      ]
     },
     "metadata": {},
     "output_type": "display_data"
    }
   ],
   "source": [
    "#stats MAS\n",
    "stats.mas.raz.cuant<-round(mystats(data[mas,'raz_cuant_punt']),1)\n",
    "stats.mas.lect.crit<-round(mystats(data[mas,'lect_crit_punt']),1)\n",
    "stats.mas.comp.ciud<-round(mystats(data[mas,'comp_ciud_punt']),1)\n",
    "data.frame(stats.mas.raz.cuant,stats.mas.lect.crit,stats.mas.comp.ciud)"
   ]
  },
  {
   "cell_type": "code",
   "execution_count": 14,
   "metadata": {},
   "outputs": [],
   "source": [
    "inf_manual <- function(data, n_conf){\n",
    "    media <- mean(na.omit(data)) # Pedimos la media\n",
    "    desv <- sd(na.omit(data)) # La desviación estándar\n",
    "    N <- length(na.omit(data)) # El tamaño válido de la muestra\n",
    "    error.est <- desv/sqrt(N) # Calculamos el error estándar\n",
    "    error <- n_conf*error.est # Fijamos Z=2 para indicar un nivel de confianza de 95%\n",
    "    lim.inf <- media-error # Límite inferior del intervalo\n",
    "    lim.sup <- media+error # Límite superior del intervalo\n",
    "    inferencia<- data.frame(media, desv, N, error.est, error, lim.inf, lim.sup)\n",
    "  return(inferencia)\n",
    "}"
   ]
  },
  {
   "cell_type": "code",
   "execution_count": 15,
   "metadata": {},
   "outputs": [
    {
     "data": {
      "text/html": [
       "<table>\n",
       "<caption>A data.frame: 1 × 7</caption>\n",
       "<thead>\n",
       "\t<tr><th scope=col>media</th><th scope=col>desv</th><th scope=col>N</th><th scope=col>error.est</th><th scope=col>error</th><th scope=col>lim.inf</th><th scope=col>lim.sup</th></tr>\n",
       "\t<tr><th scope=col>&lt;dbl&gt;</th><th scope=col>&lt;dbl&gt;</th><th scope=col>&lt;dbl&gt;</th><th scope=col>&lt;dbl&gt;</th><th scope=col>&lt;dbl&gt;</th><th scope=col>&lt;dbl&gt;</th><th scope=col>&lt;dbl&gt;</th></tr>\n",
       "</thead>\n",
       "<tbody>\n",
       "\t<tr><td>150.1</td><td>30.56</td><td>384</td><td>1.56</td><td>2.56</td><td>147.55</td><td>152.66</td></tr>\n",
       "</tbody>\n",
       "</table>\n"
      ],
      "text/latex": [
       "A data.frame: 1 × 7\n",
       "\\begin{tabular}{lllllll}\n",
       " media & desv & N & error.est & error & lim.inf & lim.sup\\\\\n",
       " <dbl> & <dbl> & <dbl> & <dbl> & <dbl> & <dbl> & <dbl>\\\\\n",
       "\\hline\n",
       "\t 150.1 & 30.56 & 384 & 1.56 & 2.56 & 147.55 & 152.66\\\\\n",
       "\\end{tabular}\n"
      ],
      "text/markdown": [
       "\n",
       "A data.frame: 1 × 7\n",
       "\n",
       "| media &lt;dbl&gt; | desv &lt;dbl&gt; | N &lt;dbl&gt; | error.est &lt;dbl&gt; | error &lt;dbl&gt; | lim.inf &lt;dbl&gt; | lim.sup &lt;dbl&gt; |\n",
       "|---|---|---|---|---|---|---|\n",
       "| 150.1 | 30.56 | 384 | 1.56 | 2.56 | 147.55 | 152.66 |\n",
       "\n"
      ],
      "text/plain": [
       "  media desv  N   error.est error lim.inf lim.sup\n",
       "1 150.1 30.56 384 1.56      2.56  147.55  152.66 "
      ]
     },
     "metadata": {},
     "output_type": "display_data"
    },
    {
     "data": {
      "text/html": [
       "<table>\n",
       "<caption>A data.frame: 1 × 7</caption>\n",
       "<thead>\n",
       "\t<tr><th scope=col>media</th><th scope=col>desv</th><th scope=col>N</th><th scope=col>error.est</th><th scope=col>error</th><th scope=col>lim.inf</th><th scope=col>lim.sup</th></tr>\n",
       "\t<tr><th scope=col>&lt;dbl&gt;</th><th scope=col>&lt;dbl&gt;</th><th scope=col>&lt;dbl&gt;</th><th scope=col>&lt;dbl&gt;</th><th scope=col>&lt;dbl&gt;</th><th scope=col>&lt;dbl&gt;</th><th scope=col>&lt;dbl&gt;</th></tr>\n",
       "</thead>\n",
       "<tbody>\n",
       "\t<tr><td>149.41</td><td>31.34</td><td>384</td><td>1.6</td><td>2.62</td><td>146.79</td><td>152.03</td></tr>\n",
       "</tbody>\n",
       "</table>\n"
      ],
      "text/latex": [
       "A data.frame: 1 × 7\n",
       "\\begin{tabular}{lllllll}\n",
       " media & desv & N & error.est & error & lim.inf & lim.sup\\\\\n",
       " <dbl> & <dbl> & <dbl> & <dbl> & <dbl> & <dbl> & <dbl>\\\\\n",
       "\\hline\n",
       "\t 149.41 & 31.34 & 384 & 1.6 & 2.62 & 146.79 & 152.03\\\\\n",
       "\\end{tabular}\n"
      ],
      "text/markdown": [
       "\n",
       "A data.frame: 1 × 7\n",
       "\n",
       "| media &lt;dbl&gt; | desv &lt;dbl&gt; | N &lt;dbl&gt; | error.est &lt;dbl&gt; | error &lt;dbl&gt; | lim.inf &lt;dbl&gt; | lim.sup &lt;dbl&gt; |\n",
       "|---|---|---|---|---|---|---|\n",
       "| 149.41 | 31.34 | 384 | 1.6 | 2.62 | 146.79 | 152.03 |\n",
       "\n"
      ],
      "text/plain": [
       "  media  desv  N   error.est error lim.inf lim.sup\n",
       "1 149.41 31.34 384 1.6       2.62  146.79  152.03 "
      ]
     },
     "metadata": {},
     "output_type": "display_data"
    },
    {
     "data": {
      "text/html": [
       "<table>\n",
       "<caption>A data.frame: 1 × 7</caption>\n",
       "<thead>\n",
       "\t<tr><th scope=col>media</th><th scope=col>desv</th><th scope=col>N</th><th scope=col>error.est</th><th scope=col>error</th><th scope=col>lim.inf</th><th scope=col>lim.sup</th></tr>\n",
       "\t<tr><th scope=col>&lt;dbl&gt;</th><th scope=col>&lt;dbl&gt;</th><th scope=col>&lt;dbl&gt;</th><th scope=col>&lt;dbl&gt;</th><th scope=col>&lt;dbl&gt;</th><th scope=col>&lt;dbl&gt;</th><th scope=col>&lt;dbl&gt;</th></tr>\n",
       "</thead>\n",
       "<tbody>\n",
       "\t<tr><td>145.38</td><td>33.11</td><td>384</td><td>1.69</td><td>2.77</td><td>142.61</td><td>148.15</td></tr>\n",
       "</tbody>\n",
       "</table>\n"
      ],
      "text/latex": [
       "A data.frame: 1 × 7\n",
       "\\begin{tabular}{lllllll}\n",
       " media & desv & N & error.est & error & lim.inf & lim.sup\\\\\n",
       " <dbl> & <dbl> & <dbl> & <dbl> & <dbl> & <dbl> & <dbl>\\\\\n",
       "\\hline\n",
       "\t 145.38 & 33.11 & 384 & 1.69 & 2.77 & 142.61 & 148.15\\\\\n",
       "\\end{tabular}\n"
      ],
      "text/markdown": [
       "\n",
       "A data.frame: 1 × 7\n",
       "\n",
       "| media &lt;dbl&gt; | desv &lt;dbl&gt; | N &lt;dbl&gt; | error.est &lt;dbl&gt; | error &lt;dbl&gt; | lim.inf &lt;dbl&gt; | lim.sup &lt;dbl&gt; |\n",
       "|---|---|---|---|---|---|---|\n",
       "| 145.38 | 33.11 | 384 | 1.69 | 2.77 | 142.61 | 148.15 |\n",
       "\n"
      ],
      "text/plain": [
       "  media  desv  N   error.est error lim.inf lim.sup\n",
       "1 145.38 33.11 384 1.69      2.77  142.61  148.15 "
      ]
     },
     "metadata": {},
     "output_type": "display_data"
    }
   ],
   "source": [
    "infmas_raz_cuant90<- inf_manual(d.mas$raz_cuant_punt,1.64)\n",
    "round(infmas_raz_cuant90,2)\n",
    "\n",
    "infmas_lect_crit90<- inf_manual(d.mas$lect_crit_punt,1.64)\n",
    "round(infmas_lect_crit90,2)\n",
    "\n",
    "infmas_comp_ciud90<- inf_manual(d.mas$comp_ciud_punt,1.64)\n",
    "round(infmas_comp_ciud90,2)"
   ]
  },
  {
   "cell_type": "code",
   "execution_count": 16,
   "metadata": {},
   "outputs": [
    {
     "data": {
      "text/html": [
       "<table>\n",
       "<caption>A data.frame: 1 × 7</caption>\n",
       "<thead>\n",
       "\t<tr><th scope=col>media</th><th scope=col>desv</th><th scope=col>N</th><th scope=col>error.est</th><th scope=col>error</th><th scope=col>lim.inf</th><th scope=col>lim.sup</th></tr>\n",
       "\t<tr><th scope=col>&lt;dbl&gt;</th><th scope=col>&lt;dbl&gt;</th><th scope=col>&lt;dbl&gt;</th><th scope=col>&lt;dbl&gt;</th><th scope=col>&lt;dbl&gt;</th><th scope=col>&lt;dbl&gt;</th><th scope=col>&lt;dbl&gt;</th></tr>\n",
       "</thead>\n",
       "<tbody>\n",
       "\t<tr><td>150.1</td><td>30.56</td><td>384</td><td>1.56</td><td>3.06</td><td>147.05</td><td>153.16</td></tr>\n",
       "</tbody>\n",
       "</table>\n"
      ],
      "text/latex": [
       "A data.frame: 1 × 7\n",
       "\\begin{tabular}{lllllll}\n",
       " media & desv & N & error.est & error & lim.inf & lim.sup\\\\\n",
       " <dbl> & <dbl> & <dbl> & <dbl> & <dbl> & <dbl> & <dbl>\\\\\n",
       "\\hline\n",
       "\t 150.1 & 30.56 & 384 & 1.56 & 3.06 & 147.05 & 153.16\\\\\n",
       "\\end{tabular}\n"
      ],
      "text/markdown": [
       "\n",
       "A data.frame: 1 × 7\n",
       "\n",
       "| media &lt;dbl&gt; | desv &lt;dbl&gt; | N &lt;dbl&gt; | error.est &lt;dbl&gt; | error &lt;dbl&gt; | lim.inf &lt;dbl&gt; | lim.sup &lt;dbl&gt; |\n",
       "|---|---|---|---|---|---|---|\n",
       "| 150.1 | 30.56 | 384 | 1.56 | 3.06 | 147.05 | 153.16 |\n",
       "\n"
      ],
      "text/plain": [
       "  media desv  N   error.est error lim.inf lim.sup\n",
       "1 150.1 30.56 384 1.56      3.06  147.05  153.16 "
      ]
     },
     "metadata": {},
     "output_type": "display_data"
    },
    {
     "data": {
      "text/html": [
       "<table>\n",
       "<caption>A data.frame: 1 × 7</caption>\n",
       "<thead>\n",
       "\t<tr><th scope=col>media</th><th scope=col>desv</th><th scope=col>N</th><th scope=col>error.est</th><th scope=col>error</th><th scope=col>lim.inf</th><th scope=col>lim.sup</th></tr>\n",
       "\t<tr><th scope=col>&lt;dbl&gt;</th><th scope=col>&lt;dbl&gt;</th><th scope=col>&lt;dbl&gt;</th><th scope=col>&lt;dbl&gt;</th><th scope=col>&lt;dbl&gt;</th><th scope=col>&lt;dbl&gt;</th><th scope=col>&lt;dbl&gt;</th></tr>\n",
       "</thead>\n",
       "<tbody>\n",
       "\t<tr><td>149.41</td><td>31.34</td><td>384</td><td>1.6</td><td>3.13</td><td>146.27</td><td>152.54</td></tr>\n",
       "</tbody>\n",
       "</table>\n"
      ],
      "text/latex": [
       "A data.frame: 1 × 7\n",
       "\\begin{tabular}{lllllll}\n",
       " media & desv & N & error.est & error & lim.inf & lim.sup\\\\\n",
       " <dbl> & <dbl> & <dbl> & <dbl> & <dbl> & <dbl> & <dbl>\\\\\n",
       "\\hline\n",
       "\t 149.41 & 31.34 & 384 & 1.6 & 3.13 & 146.27 & 152.54\\\\\n",
       "\\end{tabular}\n"
      ],
      "text/markdown": [
       "\n",
       "A data.frame: 1 × 7\n",
       "\n",
       "| media &lt;dbl&gt; | desv &lt;dbl&gt; | N &lt;dbl&gt; | error.est &lt;dbl&gt; | error &lt;dbl&gt; | lim.inf &lt;dbl&gt; | lim.sup &lt;dbl&gt; |\n",
       "|---|---|---|---|---|---|---|\n",
       "| 149.41 | 31.34 | 384 | 1.6 | 3.13 | 146.27 | 152.54 |\n",
       "\n"
      ],
      "text/plain": [
       "  media  desv  N   error.est error lim.inf lim.sup\n",
       "1 149.41 31.34 384 1.6       3.13  146.27  152.54 "
      ]
     },
     "metadata": {},
     "output_type": "display_data"
    },
    {
     "data": {
      "text/html": [
       "<table>\n",
       "<caption>A data.frame: 1 × 7</caption>\n",
       "<thead>\n",
       "\t<tr><th scope=col>media</th><th scope=col>desv</th><th scope=col>N</th><th scope=col>error.est</th><th scope=col>error</th><th scope=col>lim.inf</th><th scope=col>lim.sup</th></tr>\n",
       "\t<tr><th scope=col>&lt;dbl&gt;</th><th scope=col>&lt;dbl&gt;</th><th scope=col>&lt;dbl&gt;</th><th scope=col>&lt;dbl&gt;</th><th scope=col>&lt;dbl&gt;</th><th scope=col>&lt;dbl&gt;</th><th scope=col>&lt;dbl&gt;</th></tr>\n",
       "</thead>\n",
       "<tbody>\n",
       "\t<tr><td>145.38</td><td>33.11</td><td>384</td><td>1.69</td><td>3.31</td><td>142.07</td><td>148.69</td></tr>\n",
       "</tbody>\n",
       "</table>\n"
      ],
      "text/latex": [
       "A data.frame: 1 × 7\n",
       "\\begin{tabular}{lllllll}\n",
       " media & desv & N & error.est & error & lim.inf & lim.sup\\\\\n",
       " <dbl> & <dbl> & <dbl> & <dbl> & <dbl> & <dbl> & <dbl>\\\\\n",
       "\\hline\n",
       "\t 145.38 & 33.11 & 384 & 1.69 & 3.31 & 142.07 & 148.69\\\\\n",
       "\\end{tabular}\n"
      ],
      "text/markdown": [
       "\n",
       "A data.frame: 1 × 7\n",
       "\n",
       "| media &lt;dbl&gt; | desv &lt;dbl&gt; | N &lt;dbl&gt; | error.est &lt;dbl&gt; | error &lt;dbl&gt; | lim.inf &lt;dbl&gt; | lim.sup &lt;dbl&gt; |\n",
       "|---|---|---|---|---|---|---|\n",
       "| 145.38 | 33.11 | 384 | 1.69 | 3.31 | 142.07 | 148.69 |\n",
       "\n"
      ],
      "text/plain": [
       "  media  desv  N   error.est error lim.inf lim.sup\n",
       "1 145.38 33.11 384 1.69      3.31  142.07  148.69 "
      ]
     },
     "metadata": {},
     "output_type": "display_data"
    }
   ],
   "source": [
    "infmas_raz_cuant95<- inf_manual(d.mas$raz_cuant_punt,1.96)\n",
    "round(infmas_raz_cuant95,2)\n",
    "\n",
    "infmas_lect_crit95<- inf_manual(d.mas$lect_crit_punt,1.96)\n",
    "round(infmas_lect_crit95,2)\n",
    "\n",
    "infmas_comp_ciud95<- inf_manual(d.mas$comp_ciud_punt,1.96)\n",
    "round(infmas_comp_ciud95,2)"
   ]
  },
  {
   "cell_type": "code",
   "execution_count": 17,
   "metadata": {},
   "outputs": [
    {
     "data": {
      "text/html": [
       "<table>\n",
       "<caption>A data.frame: 1 × 7</caption>\n",
       "<thead>\n",
       "\t<tr><th scope=col>media</th><th scope=col>desv</th><th scope=col>N</th><th scope=col>error.est</th><th scope=col>error</th><th scope=col>lim.inf</th><th scope=col>lim.sup</th></tr>\n",
       "\t<tr><th scope=col>&lt;dbl&gt;</th><th scope=col>&lt;dbl&gt;</th><th scope=col>&lt;dbl&gt;</th><th scope=col>&lt;dbl&gt;</th><th scope=col>&lt;dbl&gt;</th><th scope=col>&lt;dbl&gt;</th><th scope=col>&lt;dbl&gt;</th></tr>\n",
       "</thead>\n",
       "<tbody>\n",
       "\t<tr><td>150.1</td><td>30.56</td><td>384</td><td>1.56</td><td>4.01</td><td>146.1</td><td>154.11</td></tr>\n",
       "</tbody>\n",
       "</table>\n"
      ],
      "text/latex": [
       "A data.frame: 1 × 7\n",
       "\\begin{tabular}{lllllll}\n",
       " media & desv & N & error.est & error & lim.inf & lim.sup\\\\\n",
       " <dbl> & <dbl> & <dbl> & <dbl> & <dbl> & <dbl> & <dbl>\\\\\n",
       "\\hline\n",
       "\t 150.1 & 30.56 & 384 & 1.56 & 4.01 & 146.1 & 154.11\\\\\n",
       "\\end{tabular}\n"
      ],
      "text/markdown": [
       "\n",
       "A data.frame: 1 × 7\n",
       "\n",
       "| media &lt;dbl&gt; | desv &lt;dbl&gt; | N &lt;dbl&gt; | error.est &lt;dbl&gt; | error &lt;dbl&gt; | lim.inf &lt;dbl&gt; | lim.sup &lt;dbl&gt; |\n",
       "|---|---|---|---|---|---|---|\n",
       "| 150.1 | 30.56 | 384 | 1.56 | 4.01 | 146.1 | 154.11 |\n",
       "\n"
      ],
      "text/plain": [
       "  media desv  N   error.est error lim.inf lim.sup\n",
       "1 150.1 30.56 384 1.56      4.01  146.1   154.11 "
      ]
     },
     "metadata": {},
     "output_type": "display_data"
    },
    {
     "data": {
      "text/html": [
       "<table>\n",
       "<caption>A data.frame: 1 × 7</caption>\n",
       "<thead>\n",
       "\t<tr><th scope=col>media</th><th scope=col>desv</th><th scope=col>N</th><th scope=col>error.est</th><th scope=col>error</th><th scope=col>lim.inf</th><th scope=col>lim.sup</th></tr>\n",
       "\t<tr><th scope=col>&lt;dbl&gt;</th><th scope=col>&lt;dbl&gt;</th><th scope=col>&lt;dbl&gt;</th><th scope=col>&lt;dbl&gt;</th><th scope=col>&lt;dbl&gt;</th><th scope=col>&lt;dbl&gt;</th><th scope=col>&lt;dbl&gt;</th></tr>\n",
       "</thead>\n",
       "<tbody>\n",
       "\t<tr><td>149.41</td><td>31.34</td><td>384</td><td>1.6</td><td>4.11</td><td>145.3</td><td>153.52</td></tr>\n",
       "</tbody>\n",
       "</table>\n"
      ],
      "text/latex": [
       "A data.frame: 1 × 7\n",
       "\\begin{tabular}{lllllll}\n",
       " media & desv & N & error.est & error & lim.inf & lim.sup\\\\\n",
       " <dbl> & <dbl> & <dbl> & <dbl> & <dbl> & <dbl> & <dbl>\\\\\n",
       "\\hline\n",
       "\t 149.41 & 31.34 & 384 & 1.6 & 4.11 & 145.3 & 153.52\\\\\n",
       "\\end{tabular}\n"
      ],
      "text/markdown": [
       "\n",
       "A data.frame: 1 × 7\n",
       "\n",
       "| media &lt;dbl&gt; | desv &lt;dbl&gt; | N &lt;dbl&gt; | error.est &lt;dbl&gt; | error &lt;dbl&gt; | lim.inf &lt;dbl&gt; | lim.sup &lt;dbl&gt; |\n",
       "|---|---|---|---|---|---|---|\n",
       "| 149.41 | 31.34 | 384 | 1.6 | 4.11 | 145.3 | 153.52 |\n",
       "\n"
      ],
      "text/plain": [
       "  media  desv  N   error.est error lim.inf lim.sup\n",
       "1 149.41 31.34 384 1.6       4.11  145.3   153.52 "
      ]
     },
     "metadata": {},
     "output_type": "display_data"
    },
    {
     "data": {
      "text/html": [
       "<table>\n",
       "<caption>A data.frame: 1 × 7</caption>\n",
       "<thead>\n",
       "\t<tr><th scope=col>media</th><th scope=col>desv</th><th scope=col>N</th><th scope=col>error.est</th><th scope=col>error</th><th scope=col>lim.inf</th><th scope=col>lim.sup</th></tr>\n",
       "\t<tr><th scope=col>&lt;dbl&gt;</th><th scope=col>&lt;dbl&gt;</th><th scope=col>&lt;dbl&gt;</th><th scope=col>&lt;dbl&gt;</th><th scope=col>&lt;dbl&gt;</th><th scope=col>&lt;dbl&gt;</th><th scope=col>&lt;dbl&gt;</th></tr>\n",
       "</thead>\n",
       "<tbody>\n",
       "\t<tr><td>145.38</td><td>33.11</td><td>384</td><td>1.69</td><td>4.34</td><td>141.03</td><td>149.72</td></tr>\n",
       "</tbody>\n",
       "</table>\n"
      ],
      "text/latex": [
       "A data.frame: 1 × 7\n",
       "\\begin{tabular}{lllllll}\n",
       " media & desv & N & error.est & error & lim.inf & lim.sup\\\\\n",
       " <dbl> & <dbl> & <dbl> & <dbl> & <dbl> & <dbl> & <dbl>\\\\\n",
       "\\hline\n",
       "\t 145.38 & 33.11 & 384 & 1.69 & 4.34 & 141.03 & 149.72\\\\\n",
       "\\end{tabular}\n"
      ],
      "text/markdown": [
       "\n",
       "A data.frame: 1 × 7\n",
       "\n",
       "| media &lt;dbl&gt; | desv &lt;dbl&gt; | N &lt;dbl&gt; | error.est &lt;dbl&gt; | error &lt;dbl&gt; | lim.inf &lt;dbl&gt; | lim.sup &lt;dbl&gt; |\n",
       "|---|---|---|---|---|---|---|\n",
       "| 145.38 | 33.11 | 384 | 1.69 | 4.34 | 141.03 | 149.72 |\n",
       "\n"
      ],
      "text/plain": [
       "  media  desv  N   error.est error lim.inf lim.sup\n",
       "1 145.38 33.11 384 1.69      4.34  141.03  149.72 "
      ]
     },
     "metadata": {},
     "output_type": "display_data"
    }
   ],
   "source": [
    "infmas_raz_cuant99<- inf_manual(d.mas$raz_cuant_punt,2.57)\n",
    "round(infmas_raz_cuant99,2)\n",
    "\n",
    "infmas_lect_crit99<- inf_manual(d.mas$lect_crit_punt,2.57)\n",
    "round(infmas_lect_crit99,2)\n",
    "\n",
    "infmas_comp_ciud99<- inf_manual(d.mas$comp_ciud_punt,2.57)\n",
    "round(infmas_comp_ciud99,2)"
   ]
  },
  {
   "cell_type": "markdown",
   "metadata": {},
   "source": [
    "<h3 align=\"left\">Muestreo Estratificado</h3><br> "
   ]
  },
  {
   "cell_type": "code",
   "execution_count": 19,
   "metadata": {},
   "outputs": [],
   "source": [
    "library(magrittr) # Permite leer la función %>%\n",
    "library(dplyr) # Contiene la función select\n",
    "library(SamplingUtil) # Contiene la funcion nstrata que nos permite calcular los estratos"
   ]
  },
  {
   "cell_type": "code",
   "execution_count": 20,
   "metadata": {},
   "outputs": [],
   "source": [
    "praz<-data.frame(praz=data$raz_cuant_punt)\n",
    "draz<- data.frame(draz=data$raz_cuant_des)\n",
    "dataraz<- data.frame(praz,draz)\n",
    "\n",
    "plect<-data.frame(plect=data$lect_crit_punt)\n",
    "dlect<- data.frame(dlect=data$lect_crit_des)\n",
    "datalect<- data.frame(plect,dlect)\n",
    "\n",
    "pcomp<-data.frame(pcomp=data$comp_ciud_punt)\n",
    "dcomp<- data.frame(dcomp=data$comp_ciud_des)\n",
    "datacomp<- data.frame(pcomp,dcomp)"
   ]
  },
  {
   "cell_type": "code",
   "execution_count": 23,
   "metadata": {},
   "outputs": [
    {
     "data": {
      "text/html": [
       "<table>\n",
       "<caption>A tibble: 4 × 4</caption>\n",
       "<thead>\n",
       "\t<tr><th scope=col>draz</th><th scope=col>n</th><th scope=col>s</th><th scope=col>p</th></tr>\n",
       "\t<tr><th scope=col>&lt;fct&gt;</th><th scope=col>&lt;int&gt;</th><th scope=col>&lt;dbl&gt;</th><th scope=col>&lt;dbl&gt;</th></tr>\n",
       "</thead>\n",
       "<tbody>\n",
       "\t<tr><td>Deficiente</td><td>168183</td><td>12.148419</td><td>0.23188220</td></tr>\n",
       "\t<tr><td>Aceptable </td><td>234534</td><td> 7.978031</td><td>0.32336360</td></tr>\n",
       "\t<tr><td>Bueno     </td><td>292264</td><td>13.121279</td><td>0.40295880</td></tr>\n",
       "\t<tr><td>Excelente </td><td> 30314</td><td>15.831535</td><td>0.04179541</td></tr>\n",
       "</tbody>\n",
       "</table>\n"
      ],
      "text/latex": [
       "A tibble: 4 × 4\n",
       "\\begin{tabular}{llll}\n",
       " draz & n & s & p\\\\\n",
       " <fct> & <int> & <dbl> & <dbl>\\\\\n",
       "\\hline\n",
       "\t Deficiente & 168183 & 12.148419 & 0.23188220\\\\\n",
       "\t Aceptable  & 234534 &  7.978031 & 0.32336360\\\\\n",
       "\t Bueno      & 292264 & 13.121279 & 0.40295880\\\\\n",
       "\t Excelente  &  30314 & 15.831535 & 0.04179541\\\\\n",
       "\\end{tabular}\n"
      ],
      "text/markdown": [
       "\n",
       "A tibble: 4 × 4\n",
       "\n",
       "| draz &lt;fct&gt; | n &lt;int&gt; | s &lt;dbl&gt; | p &lt;dbl&gt; |\n",
       "|---|---|---|---|\n",
       "| Deficiente | 168183 | 12.148419 | 0.23188220 |\n",
       "| Aceptable  | 234534 |  7.978031 | 0.32336360 |\n",
       "| Bueno      | 292264 | 13.121279 | 0.40295880 |\n",
       "| Excelente  |  30314 | 15.831535 | 0.04179541 |\n",
       "\n"
      ],
      "text/plain": [
       "  draz       n      s         p         \n",
       "1 Deficiente 168183 12.148419 0.23188220\n",
       "2 Aceptable  234534  7.978031 0.32336360\n",
       "3 Bueno      292264 13.121279 0.40295880\n",
       "4 Excelente   30314 15.831535 0.04179541"
      ]
     },
     "metadata": {},
     "output_type": "display_data"
    },
    {
     "data": {
      "text/html": [
       "<table>\n",
       "<caption>A tibble: 4 × 4</caption>\n",
       "<thead>\n",
       "\t<tr><th scope=col>dlect</th><th scope=col>n</th><th scope=col>s</th><th scope=col>p</th></tr>\n",
       "\t<tr><th scope=col>&lt;fct&gt;</th><th scope=col>&lt;int&gt;</th><th scope=col>&lt;dbl&gt;</th><th scope=col>&lt;dbl&gt;</th></tr>\n",
       "</thead>\n",
       "<tbody>\n",
       "\t<tr><td>Deficiente</td><td>157557</td><td>12.949062</td><td>0.21723161</td></tr>\n",
       "\t<tr><td>Aceptable </td><td>270686</td><td> 9.385729</td><td>0.37320814</td></tr>\n",
       "\t<tr><td>Bueno     </td><td>255418</td><td>11.562116</td><td>0.35215740</td></tr>\n",
       "\t<tr><td>Excelente </td><td> 41634</td><td>10.098844</td><td>0.05740285</td></tr>\n",
       "</tbody>\n",
       "</table>\n"
      ],
      "text/latex": [
       "A tibble: 4 × 4\n",
       "\\begin{tabular}{llll}\n",
       " dlect & n & s & p\\\\\n",
       " <fct> & <int> & <dbl> & <dbl>\\\\\n",
       "\\hline\n",
       "\t Deficiente & 157557 & 12.949062 & 0.21723161\\\\\n",
       "\t Aceptable  & 270686 &  9.385729 & 0.37320814\\\\\n",
       "\t Bueno      & 255418 & 11.562116 & 0.35215740\\\\\n",
       "\t Excelente  &  41634 & 10.098844 & 0.05740285\\\\\n",
       "\\end{tabular}\n"
      ],
      "text/markdown": [
       "\n",
       "A tibble: 4 × 4\n",
       "\n",
       "| dlect &lt;fct&gt; | n &lt;int&gt; | s &lt;dbl&gt; | p &lt;dbl&gt; |\n",
       "|---|---|---|---|\n",
       "| Deficiente | 157557 | 12.949062 | 0.21723161 |\n",
       "| Aceptable  | 270686 |  9.385729 | 0.37320814 |\n",
       "| Bueno      | 255418 | 11.562116 | 0.35215740 |\n",
       "| Excelente  |  41634 | 10.098844 | 0.05740285 |\n",
       "\n"
      ],
      "text/plain": [
       "  dlect      n      s         p         \n",
       "1 Deficiente 157557 12.949062 0.21723161\n",
       "2 Aceptable  270686  9.385729 0.37320814\n",
       "3 Bueno      255418 11.562116 0.35215740\n",
       "4 Excelente   41634 10.098844 0.05740285"
      ]
     },
     "metadata": {},
     "output_type": "display_data"
    },
    {
     "data": {
      "text/html": [
       "<table>\n",
       "<caption>A tibble: 4 × 4</caption>\n",
       "<thead>\n",
       "\t<tr><th scope=col>dcomp</th><th scope=col>n</th><th scope=col>s</th><th scope=col>p</th></tr>\n",
       "\t<tr><th scope=col>&lt;fct&gt;</th><th scope=col>&lt;int&gt;</th><th scope=col>&lt;dbl&gt;</th><th scope=col>&lt;dbl&gt;</th></tr>\n",
       "</thead>\n",
       "<tbody>\n",
       "\t<tr><td>Deficiente</td><td>202064</td><td>15.354723</td><td>0.27859561</td></tr>\n",
       "\t<tr><td>Aceptable </td><td>248924</td><td> 9.157064</td><td>0.34320380</td></tr>\n",
       "\t<tr><td>Bueno     </td><td>246438</td><td>11.539646</td><td>0.33977623</td></tr>\n",
       "\t<tr><td>Excelente </td><td> 27869</td><td>13.287947</td><td>0.03842437</td></tr>\n",
       "</tbody>\n",
       "</table>\n"
      ],
      "text/latex": [
       "A tibble: 4 × 4\n",
       "\\begin{tabular}{llll}\n",
       " dcomp & n & s & p\\\\\n",
       " <fct> & <int> & <dbl> & <dbl>\\\\\n",
       "\\hline\n",
       "\t Deficiente & 202064 & 15.354723 & 0.27859561\\\\\n",
       "\t Aceptable  & 248924 &  9.157064 & 0.34320380\\\\\n",
       "\t Bueno      & 246438 & 11.539646 & 0.33977623\\\\\n",
       "\t Excelente  &  27869 & 13.287947 & 0.03842437\\\\\n",
       "\\end{tabular}\n"
      ],
      "text/markdown": [
       "\n",
       "A tibble: 4 × 4\n",
       "\n",
       "| dcomp &lt;fct&gt; | n &lt;int&gt; | s &lt;dbl&gt; | p &lt;dbl&gt; |\n",
       "|---|---|---|---|\n",
       "| Deficiente | 202064 | 15.354723 | 0.27859561 |\n",
       "| Aceptable  | 248924 |  9.157064 | 0.34320380 |\n",
       "| Bueno      | 246438 | 11.539646 | 0.33977623 |\n",
       "| Excelente  |  27869 | 13.287947 | 0.03842437 |\n",
       "\n"
      ],
      "text/plain": [
       "  dcomp      n      s         p         \n",
       "1 Deficiente 202064 15.354723 0.27859561\n",
       "2 Aceptable  248924  9.157064 0.34320380\n",
       "3 Bueno      246438 11.539646 0.33977623\n",
       "4 Excelente   27869 13.287947 0.03842437"
      ]
     },
     "metadata": {},
     "output_type": "display_data"
    }
   ],
   "source": [
    "EstratosRaz <- dataraz %>%\n",
    "  select(draz, praz) %>%\n",
    "  group_by(draz) %>%\n",
    "  summarise(n=n(), \n",
    "            s=sd(praz)) %>%\n",
    "  mutate(p=n/sum(n))\n",
    "\n",
    "EstratosRaz\n",
    "\n",
    "EstratosLect <- datalect %>%\n",
    "  select(dlect, plect) %>%\n",
    "  group_by(dlect) %>%\n",
    "  summarise(n=n(), \n",
    "            s=sd(plect)) %>%\n",
    "  mutate(p=n/sum(n))\n",
    "\n",
    "EstratosLect\n",
    "\n",
    "EstratosComp <- datacomp %>%\n",
    "  select(dcomp, pcomp) %>%\n",
    "  group_by(dcomp) %>%\n",
    "  summarise(n=n(), \n",
    "            s=sd(pcomp)) %>%\n",
    "  mutate(p=n/sum(n))\n",
    "\n",
    "EstratosComp"
   ]
  },
  {
   "cell_type": "code",
   "execution_count": 24,
   "metadata": {},
   "outputs": [],
   "source": [
    "nsizeProp384raz<-nstrata(n=384,wh=EstratosRaz[,4],method=\"proportional\")\n",
    "nsizeProp384lect<-nstrata(n=384,wh=EstratosLect[,4],method=\"proportional\")\n",
    "nsizeProp384comp<-nstrata(n=384,wh=EstratosComp[,4],method=\"proportional\")"
   ]
  },
  {
   "cell_type": "code",
   "execution_count": 25,
   "metadata": {},
   "outputs": [
    {
     "data": {
      "text/html": [
       "<table>\n",
       "<caption>A data.frame: 4 × 2</caption>\n",
       "<thead>\n",
       "\t<tr><th scope=col>des</th><th scope=col>p</th></tr>\n",
       "\t<tr><th scope=col>&lt;fct&gt;</th><th scope=col>&lt;dbl&gt;</th></tr>\n",
       "</thead>\n",
       "<tbody>\n",
       "\t<tr><td>Deficiente</td><td> 90</td></tr>\n",
       "\t<tr><td>Aceptable </td><td>125</td></tr>\n",
       "\t<tr><td>Bueno     </td><td>155</td></tr>\n",
       "\t<tr><td>Excelente </td><td> 17</td></tr>\n",
       "</tbody>\n",
       "</table>\n"
      ],
      "text/latex": [
       "A data.frame: 4 × 2\n",
       "\\begin{tabular}{ll}\n",
       " des & p\\\\\n",
       " <fct> & <dbl>\\\\\n",
       "\\hline\n",
       "\t Deficiente &  90\\\\\n",
       "\t Aceptable  & 125\\\\\n",
       "\t Bueno      & 155\\\\\n",
       "\t Excelente  &  17\\\\\n",
       "\\end{tabular}\n"
      ],
      "text/markdown": [
       "\n",
       "A data.frame: 4 × 2\n",
       "\n",
       "| des &lt;fct&gt; | p &lt;dbl&gt; |\n",
       "|---|---|\n",
       "| Deficiente |  90 |\n",
       "| Aceptable  | 125 |\n",
       "| Bueno      | 155 |\n",
       "| Excelente  |  17 |\n",
       "\n"
      ],
      "text/plain": [
       "  des        p  \n",
       "1 Deficiente  90\n",
       "2 Aceptable  125\n",
       "3 Bueno      155\n",
       "4 Excelente   17"
      ]
     },
     "metadata": {},
     "output_type": "display_data"
    },
    {
     "data": {
      "text/html": [
       "<table>\n",
       "<caption>A data.frame: 4 × 2</caption>\n",
       "<thead>\n",
       "\t<tr><th scope=col>des</th><th scope=col>p</th></tr>\n",
       "\t<tr><th scope=col>&lt;fct&gt;</th><th scope=col>&lt;dbl&gt;</th></tr>\n",
       "</thead>\n",
       "<tbody>\n",
       "\t<tr><td>Deficiente</td><td> 84</td></tr>\n",
       "\t<tr><td>Aceptable </td><td>144</td></tr>\n",
       "\t<tr><td>Bueno     </td><td>136</td></tr>\n",
       "\t<tr><td>Excelente </td><td> 23</td></tr>\n",
       "</tbody>\n",
       "</table>\n"
      ],
      "text/latex": [
       "A data.frame: 4 × 2\n",
       "\\begin{tabular}{ll}\n",
       " des & p\\\\\n",
       " <fct> & <dbl>\\\\\n",
       "\\hline\n",
       "\t Deficiente &  84\\\\\n",
       "\t Aceptable  & 144\\\\\n",
       "\t Bueno      & 136\\\\\n",
       "\t Excelente  &  23\\\\\n",
       "\\end{tabular}\n"
      ],
      "text/markdown": [
       "\n",
       "A data.frame: 4 × 2\n",
       "\n",
       "| des &lt;fct&gt; | p &lt;dbl&gt; |\n",
       "|---|---|\n",
       "| Deficiente |  84 |\n",
       "| Aceptable  | 144 |\n",
       "| Bueno      | 136 |\n",
       "| Excelente  |  23 |\n",
       "\n"
      ],
      "text/plain": [
       "  des        p  \n",
       "1 Deficiente  84\n",
       "2 Aceptable  144\n",
       "3 Bueno      136\n",
       "4 Excelente   23"
      ]
     },
     "metadata": {},
     "output_type": "display_data"
    },
    {
     "data": {
      "text/html": [
       "<table>\n",
       "<caption>A data.frame: 4 × 2</caption>\n",
       "<thead>\n",
       "\t<tr><th scope=col>des</th><th scope=col>p</th></tr>\n",
       "\t<tr><th scope=col>&lt;fct&gt;</th><th scope=col>&lt;dbl&gt;</th></tr>\n",
       "</thead>\n",
       "<tbody>\n",
       "\t<tr><td>Deficiente</td><td>107</td></tr>\n",
       "\t<tr><td>Aceptable </td><td>132</td></tr>\n",
       "\t<tr><td>Bueno     </td><td>131</td></tr>\n",
       "\t<tr><td>Excelente </td><td> 15</td></tr>\n",
       "</tbody>\n",
       "</table>\n"
      ],
      "text/latex": [
       "A data.frame: 4 × 2\n",
       "\\begin{tabular}{ll}\n",
       " des & p\\\\\n",
       " <fct> & <dbl>\\\\\n",
       "\\hline\n",
       "\t Deficiente & 107\\\\\n",
       "\t Aceptable  & 132\\\\\n",
       "\t Bueno      & 131\\\\\n",
       "\t Excelente  &  15\\\\\n",
       "\\end{tabular}\n"
      ],
      "text/markdown": [
       "\n",
       "A data.frame: 4 × 2\n",
       "\n",
       "| des &lt;fct&gt; | p &lt;dbl&gt; |\n",
       "|---|---|\n",
       "| Deficiente | 107 |\n",
       "| Aceptable  | 132 |\n",
       "| Bueno      | 131 |\n",
       "| Excelente  |  15 |\n",
       "\n"
      ],
      "text/plain": [
       "  des        p  \n",
       "1 Deficiente 107\n",
       "2 Aceptable  132\n",
       "3 Bueno      131\n",
       "4 Excelente   15"
      ]
     },
     "metadata": {},
     "output_type": "display_data"
    }
   ],
   "source": [
    "data.frame(des=EstratosRaz$draz,nsizeProp384raz)\n",
    "data.frame(des=EstratosLect$dlect,nsizeProp384lect)\n",
    "data.frame(des=EstratosComp$dcomp,nsizeProp384comp)"
   ]
  },
  {
   "cell_type": "code",
   "execution_count": 26,
   "metadata": {},
   "outputs": [],
   "source": [
    "muestradeficienteRaz<- sample(1:nrow(data[data$raz_cuant_des=='Deficiente',]),size=90,replace=FALSE)\n",
    "muestraaceptableRaz<- sample(1:nrow(data[data$raz_cuant_des=='Aceptable',]),size=125,replace=FALSE)\n",
    "muestrabuenoRaz<- sample(1:nrow(data[data$raz_cuant_des=='Bueno',]),size=155,replace=FALSE)\n",
    "muestraexcelenteRaz<- sample(1:nrow(data[data$raz_cuant_des=='Excelente',]),size=17,replace=FALSE)\n",
    "\n",
    "mestratoraz<-c(muestradeficienteRaz,muestraaceptableRaz,muestrabuenoRaz,muestraexcelenteRaz)"
   ]
  },
  {
   "cell_type": "code",
   "execution_count": 27,
   "metadata": {},
   "outputs": [],
   "source": [
    "muestradeficienteLect<- sample(1:nrow(data[data$lect_crit_des=='Deficiente',]),size=84,replace=FALSE)\n",
    "muestraaceptableLect<- sample(1:nrow(data[data$lect_crit_des=='Aceptable',]),size=144,replace=FALSE)\n",
    "muestrabuenoLect<- sample(1:nrow(data[data$lect_crit_des=='Bueno',]),size=136,replace=FALSE)\n",
    "muestraexcelenteLect<- sample(1:nrow(data[data$lect_crit_des=='Excelente',]),size=23,replace=FALSE)\n",
    "\n",
    "mestratolect<-c(muestradeficienteLect,muestraaceptableLect,muestrabuenoLect,muestraexcelenteLect)"
   ]
  },
  {
   "cell_type": "code",
   "execution_count": 28,
   "metadata": {},
   "outputs": [],
   "source": [
    "muestradeficienteComp<- sample(1:nrow(data[data$comp_ciud_des=='Deficiente',]),size=107,replace=FALSE)\n",
    "muestraaceptableComp<- sample(1:nrow(data[data$comp_ciud_des=='Aceptable',]),size=132,replace=FALSE)\n",
    "muestrabuenoComp<- sample(1:nrow(data[data$comp_ciud_des=='Bueno',]),size=131,replace=FALSE)\n",
    "muestraexcelenteComp<- sample(1:nrow(data[data$comp_ciud_des=='Excelente',]),size=15,replace=FALSE)\n",
    "\n",
    "mestratocomp<-c(muestradeficienteComp,muestraaceptableComp,muestrabuenoComp,muestraexcelenteComp)"
   ]
  },
  {
   "cell_type": "code",
   "execution_count": 40,
   "metadata": {},
   "outputs": [
    {
     "data": {
      "image/png": "[encoded data removed]",
      "text/plain": [
       "Plot with title \"Histogram of comp_ciud_punt\""
      ]
     },
     "metadata": {
      "image/png": {
       "height": 720,
       "width": 720
      },
      "text/plain": {
       "height": 720,
       "width": 720
      }
     },
     "output_type": "display_data"
    }
   ],
   "source": [
    "par(mfrow=c(2,3))\n",
    "with(d.mas, hist(raz_cuant_punt, nclass = 50, cex.main=2.5, cex.axis=1.5, cex.lab=1.5))\n",
    "with(d.mas, hist(lect_crit_punt, nclass = 50, cex.main=2.5, cex.axis=1.5, cex.lab=1.5))\n",
    "with(d.mas, hist(comp_ciud_punt, nclass = 50, cex.main=2.5, cex.axis=1.5, cex.lab=1.5))\n",
    "\n",
    "with(data[mestratoraz,], hist(raz_cuant_punt, nclass = 50, cex.main=2.5, cex.axis=1.5, cex.lab=1.5))\n",
    "with(data[mestratolect,], hist(lect_crit_punt, nclass = 50, cex.main=2.5, cex.axis=1.5, cex.lab=1.5))\n",
    "with(data[mestratocomp,], hist(comp_ciud_punt, nclass = 50, cex.main=2.5, cex.axis=1.5, cex.lab=1.5))\n",
    "par(mfrow=c(1,1))"
   ]
  },
  {
   "cell_type": "markdown",
   "metadata": {},
   "source": [
    "Inferencia ME"
   ]
  },
  {
   "cell_type": "code",
   "execution_count": 30,
   "metadata": {},
   "outputs": [
    {
     "data": {
      "text/html": [
       "<table>\n",
       "<caption>A data.frame: 5 × 3</caption>\n",
       "<thead>\n",
       "\t<tr><th></th><th scope=col>stats.mmeraz.raz.cuant</th><th scope=col>stats.mmelect.lect.crit</th><th scope=col>stats.mmecomp.comp.ciud</th></tr>\n",
       "\t<tr><th></th><th scope=col>&lt;dbl&gt;</th><th scope=col>&lt;dbl&gt;</th><th scope=col>&lt;dbl&gt;</th></tr>\n",
       "</thead>\n",
       "<tbody>\n",
       "\t<tr><th scope=row>tamaño</th><td>387.0</td><td>387.0</td><td>385.0</td></tr>\n",
       "\t<tr><th scope=row>media</th><td>148.2</td><td>151.1</td><td>147.4</td></tr>\n",
       "\t<tr><th scope=row>desviación estándar</th><td> 29.4</td><td> 28.3</td><td> 29.2</td></tr>\n",
       "\t<tr><th scope=row>simetría</th><td>  0.2</td><td> -0.1</td><td>  0.0</td></tr>\n",
       "\t<tr><th scope=row>kurtosis</th><td> -0.5</td><td> -0.6</td><td> -0.6</td></tr>\n",
       "</tbody>\n",
       "</table>\n"
      ],
      "text/latex": [
       "A data.frame: 5 × 3\n",
       "\\begin{tabular}{r|lll}\n",
       "  & stats.mmeraz.raz.cuant & stats.mmelect.lect.crit & stats.mmecomp.comp.ciud\\\\\n",
       "  & <dbl> & <dbl> & <dbl>\\\\\n",
       "\\hline\n",
       "\ttamaño & 387.0 & 387.0 & 385.0\\\\\n",
       "\tmedia & 148.2 & 151.1 & 147.4\\\\\n",
       "\tdesviación estándar &  29.4 &  28.3 &  29.2\\\\\n",
       "\tsimetría &   0.2 &  -0.1 &   0.0\\\\\n",
       "\tkurtosis &  -0.5 &  -0.6 &  -0.6\\\\\n",
       "\\end{tabular}\n"
      ],
      "text/markdown": [
       "\n",
       "A data.frame: 5 × 3\n",
       "\n",
       "| <!--/--> | stats.mmeraz.raz.cuant &lt;dbl&gt; | stats.mmelect.lect.crit &lt;dbl&gt; | stats.mmecomp.comp.ciud &lt;dbl&gt; |\n",
       "|---|---|---|---|\n",
       "| tamaño | 387.0 | 387.0 | 385.0 |\n",
       "| media | 148.2 | 151.1 | 147.4 |\n",
       "| desviación estándar |  29.4 |  28.3 |  29.2 |\n",
       "| simetría |   0.2 |  -0.1 |   0.0 |\n",
       "| kurtosis |  -0.5 |  -0.6 |  -0.6 |\n",
       "\n"
      ],
      "text/plain": [
       "                    stats.mmeraz.raz.cuant stats.mmelect.lect.crit\n",
       "tamaño              387.0                  387.0                  \n",
       "media               148.2                  151.1                  \n",
       "desviación estándar  29.4                   28.3                  \n",
       "simetría              0.2                   -0.1                  \n",
       "kurtosis             -0.5                   -0.6                  \n",
       "                    stats.mmecomp.comp.ciud\n",
       "tamaño              385.0                  \n",
       "media               147.4                  \n",
       "desviación estándar  29.2                  \n",
       "simetría              0.0                  \n",
       "kurtosis             -0.6                  "
      ]
     },
     "metadata": {},
     "output_type": "display_data"
    }
   ],
   "source": [
    "stats.mmeraz.raz.cuant<-round(mystats(data[mestratoraz,'raz_cuant_punt']),1)\n",
    "stats.mmelect.lect.crit<-round(mystats(data[mestratolect,'lect_crit_punt']),1)\n",
    "stats.mmecomp.comp.ciud<-round(mystats(data[mestratocomp,'comp_ciud_punt']),1)\n",
    "data.frame(stats.mmeraz.raz.cuant,stats.mmelect.lect.crit,stats.mmecomp.comp.ciud)"
   ]
  },
  {
   "cell_type": "code",
   "execution_count": 31,
   "metadata": {},
   "outputs": [],
   "source": [
    "d.mmeraz<-data[mestratoraz,]\n",
    "d.mmelect<-data[mestratolect,]\n",
    "d.mmecomp<-data[mestratocomp,]"
   ]
  },
  {
   "cell_type": "code",
   "execution_count": 85,
   "metadata": {},
   "outputs": [
    {
     "data": {
      "text/html": [
       "<table>\n",
       "<caption>A data.frame: 1 × 7</caption>\n",
       "<thead>\n",
       "\t<tr><th scope=col>media</th><th scope=col>desv</th><th scope=col>N</th><th scope=col>error.est</th><th scope=col>error</th><th scope=col>lim.inf</th><th scope=col>lim.sup</th></tr>\n",
       "\t<tr><th scope=col>&lt;dbl&gt;</th><th scope=col>&lt;dbl&gt;</th><th scope=col>&lt;dbl&gt;</th><th scope=col>&lt;dbl&gt;</th><th scope=col>&lt;dbl&gt;</th><th scope=col>&lt;dbl&gt;</th><th scope=col>&lt;dbl&gt;</th></tr>\n",
       "</thead>\n",
       "<tbody>\n",
       "\t<tr><td>148.22</td><td>29.44</td><td>387</td><td>1.5</td><td>2.45</td><td>145.77</td><td>150.67</td></tr>\n",
       "</tbody>\n",
       "</table>\n"
      ],
      "text/latex": [
       "A data.frame: 1 × 7\n",
       "\\begin{tabular}{lllllll}\n",
       " media & desv & N & error.est & error & lim.inf & lim.sup\\\\\n",
       " <dbl> & <dbl> & <dbl> & <dbl> & <dbl> & <dbl> & <dbl>\\\\\n",
       "\\hline\n",
       "\t 148.22 & 29.44 & 387 & 1.5 & 2.45 & 145.77 & 150.67\\\\\n",
       "\\end{tabular}\n"
      ],
      "text/markdown": [
       "\n",
       "A data.frame: 1 × 7\n",
       "\n",
       "| media &lt;dbl&gt; | desv &lt;dbl&gt; | N &lt;dbl&gt; | error.est &lt;dbl&gt; | error &lt;dbl&gt; | lim.inf &lt;dbl&gt; | lim.sup &lt;dbl&gt; |\n",
       "|---|---|---|---|---|---|---|\n",
       "| 148.22 | 29.44 | 387 | 1.5 | 2.45 | 145.77 | 150.67 |\n",
       "\n"
      ],
      "text/plain": [
       "  media  desv  N   error.est error lim.inf lim.sup\n",
       "1 148.22 29.44 387 1.5       2.45  145.77  150.67 "
      ]
     },
     "metadata": {},
     "output_type": "display_data"
    },
    {
     "data": {
      "text/html": [
       "<table>\n",
       "<caption>A data.frame: 1 × 7</caption>\n",
       "<thead>\n",
       "\t<tr><th scope=col>media</th><th scope=col>desv</th><th scope=col>N</th><th scope=col>error.est</th><th scope=col>error</th><th scope=col>lim.inf</th><th scope=col>lim.sup</th></tr>\n",
       "\t<tr><th scope=col>&lt;dbl&gt;</th><th scope=col>&lt;dbl&gt;</th><th scope=col>&lt;dbl&gt;</th><th scope=col>&lt;dbl&gt;</th><th scope=col>&lt;dbl&gt;</th><th scope=col>&lt;dbl&gt;</th><th scope=col>&lt;dbl&gt;</th></tr>\n",
       "</thead>\n",
       "<tbody>\n",
       "\t<tr><td>151.1</td><td>28.33</td><td>387</td><td>1.44</td><td>2.36</td><td>148.74</td><td>153.46</td></tr>\n",
       "</tbody>\n",
       "</table>\n"
      ],
      "text/latex": [
       "A data.frame: 1 × 7\n",
       "\\begin{tabular}{lllllll}\n",
       " media & desv & N & error.est & error & lim.inf & lim.sup\\\\\n",
       " <dbl> & <dbl> & <dbl> & <dbl> & <dbl> & <dbl> & <dbl>\\\\\n",
       "\\hline\n",
       "\t 151.1 & 28.33 & 387 & 1.44 & 2.36 & 148.74 & 153.46\\\\\n",
       "\\end{tabular}\n"
      ],
      "text/markdown": [
       "\n",
       "A data.frame: 1 × 7\n",
       "\n",
       "| media &lt;dbl&gt; | desv &lt;dbl&gt; | N &lt;dbl&gt; | error.est &lt;dbl&gt; | error &lt;dbl&gt; | lim.inf &lt;dbl&gt; | lim.sup &lt;dbl&gt; |\n",
       "|---|---|---|---|---|---|---|\n",
       "| 151.1 | 28.33 | 387 | 1.44 | 2.36 | 148.74 | 153.46 |\n",
       "\n"
      ],
      "text/plain": [
       "  media desv  N   error.est error lim.inf lim.sup\n",
       "1 151.1 28.33 387 1.44      2.36  148.74  153.46 "
      ]
     },
     "metadata": {},
     "output_type": "display_data"
    },
    {
     "data": {
      "text/html": [
       "<table>\n",
       "<caption>A data.frame: 1 × 7</caption>\n",
       "<thead>\n",
       "\t<tr><th scope=col>media</th><th scope=col>desv</th><th scope=col>N</th><th scope=col>error.est</th><th scope=col>error</th><th scope=col>lim.inf</th><th scope=col>lim.sup</th></tr>\n",
       "\t<tr><th scope=col>&lt;dbl&gt;</th><th scope=col>&lt;dbl&gt;</th><th scope=col>&lt;dbl&gt;</th><th scope=col>&lt;dbl&gt;</th><th scope=col>&lt;dbl&gt;</th><th scope=col>&lt;dbl&gt;</th><th scope=col>&lt;dbl&gt;</th></tr>\n",
       "</thead>\n",
       "<tbody>\n",
       "\t<tr><td>147.38</td><td>29.17</td><td>385</td><td>1.49</td><td>2.44</td><td>144.94</td><td>149.82</td></tr>\n",
       "</tbody>\n",
       "</table>\n"
      ],
      "text/latex": [
       "A data.frame: 1 × 7\n",
       "\\begin{tabular}{lllllll}\n",
       " media & desv & N & error.est & error & lim.inf & lim.sup\\\\\n",
       " <dbl> & <dbl> & <dbl> & <dbl> & <dbl> & <dbl> & <dbl>\\\\\n",
       "\\hline\n",
       "\t 147.38 & 29.17 & 385 & 1.49 & 2.44 & 144.94 & 149.82\\\\\n",
       "\\end{tabular}\n"
      ],
      "text/markdown": [
       "\n",
       "A data.frame: 1 × 7\n",
       "\n",
       "| media &lt;dbl&gt; | desv &lt;dbl&gt; | N &lt;dbl&gt; | error.est &lt;dbl&gt; | error &lt;dbl&gt; | lim.inf &lt;dbl&gt; | lim.sup &lt;dbl&gt; |\n",
       "|---|---|---|---|---|---|---|\n",
       "| 147.38 | 29.17 | 385 | 1.49 | 2.44 | 144.94 | 149.82 |\n",
       "\n"
      ],
      "text/plain": [
       "  media  desv  N   error.est error lim.inf lim.sup\n",
       "1 147.38 29.17 385 1.49      2.44  144.94  149.82 "
      ]
     },
     "metadata": {},
     "output_type": "display_data"
    }
   ],
   "source": [
    "infme_raz_cuant90<- inf_manual(d.mmeraz$raz_cuant_punt,1.64)\n",
    "round(infme_raz_cuant90,2)\n",
    "\n",
    "infme_lect_crit90<-inf_manual(d.mmelect$lect_crit_punt,1.64)\n",
    "round(infme_lect_crit90,2)\n",
    "\n",
    "infme_comp_ciud90<-inf_manual(d.mmecomp$comp_ciud_punt,1.64)\n",
    "round(infme_comp_ciud90,2)"
   ]
  },
  {
   "cell_type": "code",
   "execution_count": 86,
   "metadata": {},
   "outputs": [
    {
     "data": {
      "text/html": [
       "<table>\n",
       "<caption>A data.frame: 1 × 7</caption>\n",
       "<thead>\n",
       "\t<tr><th scope=col>media</th><th scope=col>desv</th><th scope=col>N</th><th scope=col>error.est</th><th scope=col>error</th><th scope=col>lim.inf</th><th scope=col>lim.sup</th></tr>\n",
       "\t<tr><th scope=col>&lt;dbl&gt;</th><th scope=col>&lt;dbl&gt;</th><th scope=col>&lt;dbl&gt;</th><th scope=col>&lt;dbl&gt;</th><th scope=col>&lt;dbl&gt;</th><th scope=col>&lt;dbl&gt;</th><th scope=col>&lt;dbl&gt;</th></tr>\n",
       "</thead>\n",
       "<tbody>\n",
       "\t<tr><td>148.22</td><td>29.44</td><td>387</td><td>1.5</td><td>2.93</td><td>145.29</td><td>151.15</td></tr>\n",
       "</tbody>\n",
       "</table>\n"
      ],
      "text/latex": [
       "A data.frame: 1 × 7\n",
       "\\begin{tabular}{lllllll}\n",
       " media & desv & N & error.est & error & lim.inf & lim.sup\\\\\n",
       " <dbl> & <dbl> & <dbl> & <dbl> & <dbl> & <dbl> & <dbl>\\\\\n",
       "\\hline\n",
       "\t 148.22 & 29.44 & 387 & 1.5 & 2.93 & 145.29 & 151.15\\\\\n",
       "\\end{tabular}\n"
      ],
      "text/markdown": [
       "\n",
       "A data.frame: 1 × 7\n",
       "\n",
       "| media &lt;dbl&gt; | desv &lt;dbl&gt; | N &lt;dbl&gt; | error.est &lt;dbl&gt; | error &lt;dbl&gt; | lim.inf &lt;dbl&gt; | lim.sup &lt;dbl&gt; |\n",
       "|---|---|---|---|---|---|---|\n",
       "| 148.22 | 29.44 | 387 | 1.5 | 2.93 | 145.29 | 151.15 |\n",
       "\n"
      ],
      "text/plain": [
       "  media  desv  N   error.est error lim.inf lim.sup\n",
       "1 148.22 29.44 387 1.5       2.93  145.29  151.15 "
      ]
     },
     "metadata": {},
     "output_type": "display_data"
    },
    {
     "data": {
      "text/html": [
       "<table>\n",
       "<caption>A data.frame: 1 × 7</caption>\n",
       "<thead>\n",
       "\t<tr><th scope=col>media</th><th scope=col>desv</th><th scope=col>N</th><th scope=col>error.est</th><th scope=col>error</th><th scope=col>lim.inf</th><th scope=col>lim.sup</th></tr>\n",
       "\t<tr><th scope=col>&lt;dbl&gt;</th><th scope=col>&lt;dbl&gt;</th><th scope=col>&lt;dbl&gt;</th><th scope=col>&lt;dbl&gt;</th><th scope=col>&lt;dbl&gt;</th><th scope=col>&lt;dbl&gt;</th><th scope=col>&lt;dbl&gt;</th></tr>\n",
       "</thead>\n",
       "<tbody>\n",
       "\t<tr><td>151.1</td><td>28.33</td><td>387</td><td>1.44</td><td>2.82</td><td>148.28</td><td>153.92</td></tr>\n",
       "</tbody>\n",
       "</table>\n"
      ],
      "text/latex": [
       "A data.frame: 1 × 7\n",
       "\\begin{tabular}{lllllll}\n",
       " media & desv & N & error.est & error & lim.inf & lim.sup\\\\\n",
       " <dbl> & <dbl> & <dbl> & <dbl> & <dbl> & <dbl> & <dbl>\\\\\n",
       "\\hline\n",
       "\t 151.1 & 28.33 & 387 & 1.44 & 2.82 & 148.28 & 153.92\\\\\n",
       "\\end{tabular}\n"
      ],
      "text/markdown": [
       "\n",
       "A data.frame: 1 × 7\n",
       "\n",
       "| media &lt;dbl&gt; | desv &lt;dbl&gt; | N &lt;dbl&gt; | error.est &lt;dbl&gt; | error &lt;dbl&gt; | lim.inf &lt;dbl&gt; | lim.sup &lt;dbl&gt; |\n",
       "|---|---|---|---|---|---|---|\n",
       "| 151.1 | 28.33 | 387 | 1.44 | 2.82 | 148.28 | 153.92 |\n",
       "\n"
      ],
      "text/plain": [
       "  media desv  N   error.est error lim.inf lim.sup\n",
       "1 151.1 28.33 387 1.44      2.82  148.28  153.92 "
      ]
     },
     "metadata": {},
     "output_type": "display_data"
    },
    {
     "data": {
      "text/html": [
       "<table>\n",
       "<caption>A data.frame: 1 × 7</caption>\n",
       "<thead>\n",
       "\t<tr><th scope=col>media</th><th scope=col>desv</th><th scope=col>N</th><th scope=col>error.est</th><th scope=col>error</th><th scope=col>lim.inf</th><th scope=col>lim.sup</th></tr>\n",
       "\t<tr><th scope=col>&lt;dbl&gt;</th><th scope=col>&lt;dbl&gt;</th><th scope=col>&lt;dbl&gt;</th><th scope=col>&lt;dbl&gt;</th><th scope=col>&lt;dbl&gt;</th><th scope=col>&lt;dbl&gt;</th><th scope=col>&lt;dbl&gt;</th></tr>\n",
       "</thead>\n",
       "<tbody>\n",
       "\t<tr><td>147.38</td><td>29.17</td><td>385</td><td>1.49</td><td>2.91</td><td>144.47</td><td>150.29</td></tr>\n",
       "</tbody>\n",
       "</table>\n"
      ],
      "text/latex": [
       "A data.frame: 1 × 7\n",
       "\\begin{tabular}{lllllll}\n",
       " media & desv & N & error.est & error & lim.inf & lim.sup\\\\\n",
       " <dbl> & <dbl> & <dbl> & <dbl> & <dbl> & <dbl> & <dbl>\\\\\n",
       "\\hline\n",
       "\t 147.38 & 29.17 & 385 & 1.49 & 2.91 & 144.47 & 150.29\\\\\n",
       "\\end{tabular}\n"
      ],
      "text/markdown": [
       "\n",
       "A data.frame: 1 × 7\n",
       "\n",
       "| media &lt;dbl&gt; | desv &lt;dbl&gt; | N &lt;dbl&gt; | error.est &lt;dbl&gt; | error &lt;dbl&gt; | lim.inf &lt;dbl&gt; | lim.sup &lt;dbl&gt; |\n",
       "|---|---|---|---|---|---|---|\n",
       "| 147.38 | 29.17 | 385 | 1.49 | 2.91 | 144.47 | 150.29 |\n",
       "\n"
      ],
      "text/plain": [
       "  media  desv  N   error.est error lim.inf lim.sup\n",
       "1 147.38 29.17 385 1.49      2.91  144.47  150.29 "
      ]
     },
     "metadata": {},
     "output_type": "display_data"
    }
   ],
   "source": [
    "infme_raz_cuant95<- inf_manual(d.mmeraz$raz_cuant_punt,1.96)\n",
    "round(infme_raz_cuant95,2)\n",
    "\n",
    "infme_lect_crit95<-inf_manual(d.mmelect$lect_crit_punt,1.96)\n",
    "round(infme_lect_crit95,2)\n",
    "\n",
    "infme_comp_ciud95<- inf_manual(d.mmecomp$comp_ciud_punt,1.96)\n",
    "round(infme_comp_ciud95,2)"
   ]
  },
  {
   "cell_type": "code",
   "execution_count": 87,
   "metadata": {},
   "outputs": [
    {
     "data": {
      "text/html": [
       "<table>\n",
       "<caption>A data.frame: 1 × 7</caption>\n",
       "<thead>\n",
       "\t<tr><th scope=col>media</th><th scope=col>desv</th><th scope=col>N</th><th scope=col>error.est</th><th scope=col>error</th><th scope=col>lim.inf</th><th scope=col>lim.sup</th></tr>\n",
       "\t<tr><th scope=col>&lt;dbl&gt;</th><th scope=col>&lt;dbl&gt;</th><th scope=col>&lt;dbl&gt;</th><th scope=col>&lt;dbl&gt;</th><th scope=col>&lt;dbl&gt;</th><th scope=col>&lt;dbl&gt;</th><th scope=col>&lt;dbl&gt;</th></tr>\n",
       "</thead>\n",
       "<tbody>\n",
       "\t<tr><td>148.22</td><td>29.44</td><td>387</td><td>1.5</td><td>3.85</td><td>144.37</td><td>152.07</td></tr>\n",
       "</tbody>\n",
       "</table>\n"
      ],
      "text/latex": [
       "A data.frame: 1 × 7\n",
       "\\begin{tabular}{lllllll}\n",
       " media & desv & N & error.est & error & lim.inf & lim.sup\\\\\n",
       " <dbl> & <dbl> & <dbl> & <dbl> & <dbl> & <dbl> & <dbl>\\\\\n",
       "\\hline\n",
       "\t 148.22 & 29.44 & 387 & 1.5 & 3.85 & 144.37 & 152.07\\\\\n",
       "\\end{tabular}\n"
      ],
      "text/markdown": [
       "\n",
       "A data.frame: 1 × 7\n",
       "\n",
       "| media &lt;dbl&gt; | desv &lt;dbl&gt; | N &lt;dbl&gt; | error.est &lt;dbl&gt; | error &lt;dbl&gt; | lim.inf &lt;dbl&gt; | lim.sup &lt;dbl&gt; |\n",
       "|---|---|---|---|---|---|---|\n",
       "| 148.22 | 29.44 | 387 | 1.5 | 3.85 | 144.37 | 152.07 |\n",
       "\n"
      ],
      "text/plain": [
       "  media  desv  N   error.est error lim.inf lim.sup\n",
       "1 148.22 29.44 387 1.5       3.85  144.37  152.07 "
      ]
     },
     "metadata": {},
     "output_type": "display_data"
    },
    {
     "data": {
      "text/html": [
       "<table>\n",
       "<caption>A data.frame: 1 × 7</caption>\n",
       "<thead>\n",
       "\t<tr><th scope=col>media</th><th scope=col>desv</th><th scope=col>N</th><th scope=col>error.est</th><th scope=col>error</th><th scope=col>lim.inf</th><th scope=col>lim.sup</th></tr>\n",
       "\t<tr><th scope=col>&lt;dbl&gt;</th><th scope=col>&lt;dbl&gt;</th><th scope=col>&lt;dbl&gt;</th><th scope=col>&lt;dbl&gt;</th><th scope=col>&lt;dbl&gt;</th><th scope=col>&lt;dbl&gt;</th><th scope=col>&lt;dbl&gt;</th></tr>\n",
       "</thead>\n",
       "<tbody>\n",
       "\t<tr><td>151.1</td><td>28.33</td><td>387</td><td>1.44</td><td>3.7</td><td>147.4</td><td>154.8</td></tr>\n",
       "</tbody>\n",
       "</table>\n"
      ],
      "text/latex": [
       "A data.frame: 1 × 7\n",
       "\\begin{tabular}{lllllll}\n",
       " media & desv & N & error.est & error & lim.inf & lim.sup\\\\\n",
       " <dbl> & <dbl> & <dbl> & <dbl> & <dbl> & <dbl> & <dbl>\\\\\n",
       "\\hline\n",
       "\t 151.1 & 28.33 & 387 & 1.44 & 3.7 & 147.4 & 154.8\\\\\n",
       "\\end{tabular}\n"
      ],
      "text/markdown": [
       "\n",
       "A data.frame: 1 × 7\n",
       "\n",
       "| media &lt;dbl&gt; | desv &lt;dbl&gt; | N &lt;dbl&gt; | error.est &lt;dbl&gt; | error &lt;dbl&gt; | lim.inf &lt;dbl&gt; | lim.sup &lt;dbl&gt; |\n",
       "|---|---|---|---|---|---|---|\n",
       "| 151.1 | 28.33 | 387 | 1.44 | 3.7 | 147.4 | 154.8 |\n",
       "\n"
      ],
      "text/plain": [
       "  media desv  N   error.est error lim.inf lim.sup\n",
       "1 151.1 28.33 387 1.44      3.7   147.4   154.8  "
      ]
     },
     "metadata": {},
     "output_type": "display_data"
    },
    {
     "data": {
      "text/html": [
       "<table>\n",
       "<caption>A data.frame: 1 × 7</caption>\n",
       "<thead>\n",
       "\t<tr><th scope=col>media</th><th scope=col>desv</th><th scope=col>N</th><th scope=col>error.est</th><th scope=col>error</th><th scope=col>lim.inf</th><th scope=col>lim.sup</th></tr>\n",
       "\t<tr><th scope=col>&lt;dbl&gt;</th><th scope=col>&lt;dbl&gt;</th><th scope=col>&lt;dbl&gt;</th><th scope=col>&lt;dbl&gt;</th><th scope=col>&lt;dbl&gt;</th><th scope=col>&lt;dbl&gt;</th><th scope=col>&lt;dbl&gt;</th></tr>\n",
       "</thead>\n",
       "<tbody>\n",
       "\t<tr><td>147.38</td><td>29.17</td><td>385</td><td>1.49</td><td>3.82</td><td>143.56</td><td>151.2</td></tr>\n",
       "</tbody>\n",
       "</table>\n"
      ],
      "text/latex": [
       "A data.frame: 1 × 7\n",
       "\\begin{tabular}{lllllll}\n",
       " media & desv & N & error.est & error & lim.inf & lim.sup\\\\\n",
       " <dbl> & <dbl> & <dbl> & <dbl> & <dbl> & <dbl> & <dbl>\\\\\n",
       "\\hline\n",
       "\t 147.38 & 29.17 & 385 & 1.49 & 3.82 & 143.56 & 151.2\\\\\n",
       "\\end{tabular}\n"
      ],
      "text/markdown": [
       "\n",
       "A data.frame: 1 × 7\n",
       "\n",
       "| media &lt;dbl&gt; | desv &lt;dbl&gt; | N &lt;dbl&gt; | error.est &lt;dbl&gt; | error &lt;dbl&gt; | lim.inf &lt;dbl&gt; | lim.sup &lt;dbl&gt; |\n",
       "|---|---|---|---|---|---|---|\n",
       "| 147.38 | 29.17 | 385 | 1.49 | 3.82 | 143.56 | 151.2 |\n",
       "\n"
      ],
      "text/plain": [
       "  media  desv  N   error.est error lim.inf lim.sup\n",
       "1 147.38 29.17 385 1.49      3.82  143.56  151.2  "
      ]
     },
     "metadata": {},
     "output_type": "display_data"
    }
   ],
   "source": [
    "infme_raz_cuant99<-inf_manual(d.mmeraz$raz_cuant_punt,2.57)\n",
    "round(infme_raz_cuant99,2)\n",
    "\n",
    "infme_lect_crit99<- inf_manual(d.mmelect$lect_crit_punt,2.57)\n",
    "round(infme_lect_crit99,2)\n",
    "\n",
    "infme_comp_ciud99<- inf_manual(d.mmecomp$comp_ciud_punt,2.57)\n",
    "round(infme_comp_ciud99,2)"
   ]
  },
  {
   "cell_type": "markdown",
   "metadata": {},
   "source": [
    "<h3 align=\"left\">Muestreo por Conglomerados</h3><br> "
   ]
  },
  {
   "cell_type": "code",
   "execution_count": 58,
   "metadata": {},
   "outputs": [
    {
     "data": {
      "text/html": [
       "<style>\n",
       ".list-inline {list-style: none; margin:0; padding: 0}\n",
       ".list-inline>li {display: inline-block}\n",
       ".list-inline>li:not(:last-child)::after {content: \"\\00b7\"; padding: 0 .5ex}\n",
       "</style>\n",
       "<ol class=list-inline><li>ATLANTICO</li><li>CUNDINAMARCA</li><li>CALDAS</li><li>MAGDALENA</li><li>CORDOBA</li><li>CAUCA</li><li>BOGOTA</li><li>ANTIOQUIA</li><li>META</li><li>CESAR</li><li>VALLE</li><li>TOLIMA</li><li>BOYACA</li><li>SANTANDER</li><li>BOLIVAR</li><li></li><li>HUILA</li><li>NORTE SANTANDER</li><li>SUCRE</li><li>QUINDIO</li><li>VAUPES</li><li>RISARALDA</li><li>NARINO</li><li>CAQUETA</li><li>CASANARE</li><li>CHOCO</li><li>PUTUMAYO</li><li>LA GUAJIRA</li><li>GUAVIARE</li><li>ARAUCA</li><li>SAN ANDRES</li><li>VICHADA</li><li>AMAZONAS</li><li>EXTRANJERO</li><li>GUAINIA</li></ol>\n",
       "\n",
       "<details>\n",
       "\t<summary style=display:list-item;cursor:pointer>\n",
       "\t\t<strong>Levels</strong>:\n",
       "\t</summary>\n",
       "\t<style>\n",
       "\t.list-inline {list-style: none; margin:0; padding: 0}\n",
       "\t.list-inline>li {display: inline-block}\n",
       "\t.list-inline>li:not(:last-child)::after {content: \"\\00b7\"; padding: 0 .5ex}\n",
       "\t</style>\n",
       "\t<ol class=list-inline><li>''</li><li>'AMAZONAS'</li><li>'ANTIOQUIA'</li><li>'ARAUCA'</li><li>'ATLANTICO'</li><li>'BOGOTA'</li><li>'BOLIVAR'</li><li>'BOYACA'</li><li>'CALDAS'</li><li>'CAQUETA'</li><li>'CASANARE'</li><li>'CAUCA'</li><li>'CESAR'</li><li>'CHOCO'</li><li>'CORDOBA'</li><li>'CUNDINAMARCA'</li><li>'EXTRANJERO'</li><li>'GUAINIA'</li><li>'GUAVIARE'</li><li>'HUILA'</li><li>'LA GUAJIRA'</li><li>'MAGDALENA'</li><li>'META'</li><li>'NARINO'</li><li>'NORTE SANTANDER'</li><li>'PUTUMAYO'</li><li>'QUINDIO'</li><li>'RISARALDA'</li><li>'SAN ANDRES'</li><li>'SANTANDER'</li><li>'SUCRE'</li><li>'TOLIMA'</li><li>'VALLE'</li><li>'VAUPES'</li><li>'VICHADA'</li></ol>\n",
       "</details>"
      ],
      "text/latex": [
       "\\begin{enumerate*}\n",
       "\\item ATLANTICO\n",
       "\\item CUNDINAMARCA\n",
       "\\item CALDAS\n",
       "\\item MAGDALENA\n",
       "\\item CORDOBA\n",
       "\\item CAUCA\n",
       "\\item BOGOTA\n",
       "\\item ANTIOQUIA\n",
       "\\item META\n",
       "\\item CESAR\n",
       "\\item VALLE\n",
       "\\item TOLIMA\n",
       "\\item BOYACA\n",
       "\\item SANTANDER\n",
       "\\item BOLIVAR\n",
       "\\item \n",
       "\\item HUILA\n",
       "\\item NORTE SANTANDER\n",
       "\\item SUCRE\n",
       "\\item QUINDIO\n",
       "\\item VAUPES\n",
       "\\item RISARALDA\n",
       "\\item NARINO\n",
       "\\item CAQUETA\n",
       "\\item CASANARE\n",
       "\\item CHOCO\n",
       "\\item PUTUMAYO\n",
       "\\item LA GUAJIRA\n",
       "\\item GUAVIARE\n",
       "\\item ARAUCA\n",
       "\\item SAN ANDRES\n",
       "\\item VICHADA\n",
       "\\item AMAZONAS\n",
       "\\item EXTRANJERO\n",
       "\\item GUAINIA\n",
       "\\end{enumerate*}\n",
       "\n",
       "\\emph{Levels}: \\begin{enumerate*}\n",
       "\\item ''\n",
       "\\item 'AMAZONAS'\n",
       "\\item 'ANTIOQUIA'\n",
       "\\item 'ARAUCA'\n",
       "\\item 'ATLANTICO'\n",
       "\\item 'BOGOTA'\n",
       "\\item 'BOLIVAR'\n",
       "\\item 'BOYACA'\n",
       "\\item 'CALDAS'\n",
       "\\item 'CAQUETA'\n",
       "\\item 'CASANARE'\n",
       "\\item 'CAUCA'\n",
       "\\item 'CESAR'\n",
       "\\item 'CHOCO'\n",
       "\\item 'CORDOBA'\n",
       "\\item 'CUNDINAMARCA'\n",
       "\\item 'EXTRANJERO'\n",
       "\\item 'GUAINIA'\n",
       "\\item 'GUAVIARE'\n",
       "\\item 'HUILA'\n",
       "\\item 'LA GUAJIRA'\n",
       "\\item 'MAGDALENA'\n",
       "\\item 'META'\n",
       "\\item 'NARINO'\n",
       "\\item 'NORTE SANTANDER'\n",
       "\\item 'PUTUMAYO'\n",
       "\\item 'QUINDIO'\n",
       "\\item 'RISARALDA'\n",
       "\\item 'SAN ANDRES'\n",
       "\\item 'SANTANDER'\n",
       "\\item 'SUCRE'\n",
       "\\item 'TOLIMA'\n",
       "\\item 'VALLE'\n",
       "\\item 'VAUPES'\n",
       "\\item 'VICHADA'\n",
       "\\end{enumerate*}\n"
      ],
      "text/markdown": [
       "1. ATLANTICO\n",
       "2. CUNDINAMARCA\n",
       "3. CALDAS\n",
       "4. MAGDALENA\n",
       "5. CORDOBA\n",
       "6. CAUCA\n",
       "7. BOGOTA\n",
       "8. ANTIOQUIA\n",
       "9. META\n",
       "10. CESAR\n",
       "11. VALLE\n",
       "12. TOLIMA\n",
       "13. BOYACA\n",
       "14. SANTANDER\n",
       "15. BOLIVAR\n",
       "16. \n",
       "17. HUILA\n",
       "18. NORTE SANTANDER\n",
       "19. SUCRE\n",
       "20. QUINDIO\n",
       "21. VAUPES\n",
       "22. RISARALDA\n",
       "23. NARINO\n",
       "24. CAQUETA\n",
       "25. CASANARE\n",
       "26. CHOCO\n",
       "27. PUTUMAYO\n",
       "28. LA GUAJIRA\n",
       "29. GUAVIARE\n",
       "30. ARAUCA\n",
       "31. SAN ANDRES\n",
       "32. VICHADA\n",
       "33. AMAZONAS\n",
       "34. EXTRANJERO\n",
       "35. GUAINIA\n",
       "\n",
       "\n",
       "\n",
       "**Levels**: 1. ''\n",
       "2. 'AMAZONAS'\n",
       "3. 'ANTIOQUIA'\n",
       "4. 'ARAUCA'\n",
       "5. 'ATLANTICO'\n",
       "6. 'BOGOTA'\n",
       "7. 'BOLIVAR'\n",
       "8. 'BOYACA'\n",
       "9. 'CALDAS'\n",
       "10. 'CAQUETA'\n",
       "11. 'CASANARE'\n",
       "12. 'CAUCA'\n",
       "13. 'CESAR'\n",
       "14. 'CHOCO'\n",
       "15. 'CORDOBA'\n",
       "16. 'CUNDINAMARCA'\n",
       "17. 'EXTRANJERO'\n",
       "18. 'GUAINIA'\n",
       "19. 'GUAVIARE'\n",
       "20. 'HUILA'\n",
       "21. 'LA GUAJIRA'\n",
       "22. 'MAGDALENA'\n",
       "23. 'META'\n",
       "24. 'NARINO'\n",
       "25. 'NORTE SANTANDER'\n",
       "26. 'PUTUMAYO'\n",
       "27. 'QUINDIO'\n",
       "28. 'RISARALDA'\n",
       "29. 'SAN ANDRES'\n",
       "30. 'SANTANDER'\n",
       "31. 'SUCRE'\n",
       "32. 'TOLIMA'\n",
       "33. 'VALLE'\n",
       "34. 'VAUPES'\n",
       "35. 'VICHADA'\n",
       "\n",
       "\n"
      ],
      "text/plain": [
       " [1] ATLANTICO       CUNDINAMARCA    CALDAS          MAGDALENA      \n",
       " [5] CORDOBA         CAUCA           BOGOTA          ANTIOQUIA      \n",
       " [9] META            CESAR           VALLE           TOLIMA         \n",
       "[13] BOYACA          SANTANDER       BOLIVAR                        \n",
       "[17] HUILA           NORTE SANTANDER SUCRE           QUINDIO        \n",
       "[21] VAUPES          RISARALDA       NARINO          CAQUETA        \n",
       "[25] CASANARE        CHOCO           PUTUMAYO        LA GUAJIRA     \n",
       "[29] GUAVIARE        ARAUCA          SAN ANDRES      VICHADA        \n",
       "[33] AMAZONAS        EXTRANJERO      GUAINIA        \n",
       "35 Levels:  AMAZONAS ANTIOQUIA ARAUCA ATLANTICO BOGOTA BOLIVAR ... VICHADA"
      ]
     },
     "metadata": {},
     "output_type": "display_data"
    },
    {
     "name": "stderr",
     "output_type": "stream",
     "text": [
      "The following `from` values were not present in `x`: NARIÃ‘O, NARIÃƒâ€˜O\n",
      "\n"
     ]
    },
    {
     "data": {
      "text/html": [
       "<style>\n",
       ".list-inline {list-style: none; margin:0; padding: 0}\n",
       ".list-inline>li {display: inline-block}\n",
       ".list-inline>li:not(:last-child)::after {content: \"\\00b7\"; padding: 0 .5ex}\n",
       "</style>\n",
       "<ol class=list-inline><li>ATLANTICO</li><li>CUNDINAMARCA</li><li>CALDAS</li><li>MAGDALENA</li><li>CORDOBA</li><li>CAUCA</li><li>BOGOTA</li><li>ANTIOQUIA</li><li>META</li><li>CESAR</li><li>VALLE</li><li>TOLIMA</li><li>BOYACA</li><li>SANTANDER</li><li>BOLIVAR</li><li></li><li>HUILA</li><li>NORTE SANTANDER</li><li>SUCRE</li><li>QUINDIO</li><li>VAUPES</li><li>RISARALDA</li><li>NARINO</li><li>CAQUETA</li><li>CASANARE</li><li>CHOCO</li><li>PUTUMAYO</li><li>LA GUAJIRA</li><li>GUAVIARE</li><li>ARAUCA</li><li>SAN ANDRES</li><li>VICHADA</li><li>AMAZONAS</li><li>EXTRANJERO</li><li>GUAINIA</li></ol>\n",
       "\n",
       "<details>\n",
       "\t<summary style=display:list-item;cursor:pointer>\n",
       "\t\t<strong>Levels</strong>:\n",
       "\t</summary>\n",
       "\t<style>\n",
       "\t.list-inline {list-style: none; margin:0; padding: 0}\n",
       "\t.list-inline>li {display: inline-block}\n",
       "\t.list-inline>li:not(:last-child)::after {content: \"\\00b7\"; padding: 0 .5ex}\n",
       "\t</style>\n",
       "\t<ol class=list-inline><li>''</li><li>'AMAZONAS'</li><li>'ANTIOQUIA'</li><li>'ARAUCA'</li><li>'ATLANTICO'</li><li>'BOGOTA'</li><li>'BOLIVAR'</li><li>'BOYACA'</li><li>'CALDAS'</li><li>'CAQUETA'</li><li>'CASANARE'</li><li>'CAUCA'</li><li>'CESAR'</li><li>'CHOCO'</li><li>'CORDOBA'</li><li>'CUNDINAMARCA'</li><li>'EXTRANJERO'</li><li>'GUAINIA'</li><li>'GUAVIARE'</li><li>'HUILA'</li><li>'LA GUAJIRA'</li><li>'MAGDALENA'</li><li>'META'</li><li>'NARINO'</li><li>'NORTE SANTANDER'</li><li>'PUTUMAYO'</li><li>'QUINDIO'</li><li>'RISARALDA'</li><li>'SAN ANDRES'</li><li>'SANTANDER'</li><li>'SUCRE'</li><li>'TOLIMA'</li><li>'VALLE'</li><li>'VAUPES'</li><li>'VICHADA'</li></ol>\n",
       "</details>"
      ],
      "text/latex": [
       "\\begin{enumerate*}\n",
       "\\item ATLANTICO\n",
       "\\item CUNDINAMARCA\n",
       "\\item CALDAS\n",
       "\\item MAGDALENA\n",
       "\\item CORDOBA\n",
       "\\item CAUCA\n",
       "\\item BOGOTA\n",
       "\\item ANTIOQUIA\n",
       "\\item META\n",
       "\\item CESAR\n",
       "\\item VALLE\n",
       "\\item TOLIMA\n",
       "\\item BOYACA\n",
       "\\item SANTANDER\n",
       "\\item BOLIVAR\n",
       "\\item \n",
       "\\item HUILA\n",
       "\\item NORTE SANTANDER\n",
       "\\item SUCRE\n",
       "\\item QUINDIO\n",
       "\\item VAUPES\n",
       "\\item RISARALDA\n",
       "\\item NARINO\n",
       "\\item CAQUETA\n",
       "\\item CASANARE\n",
       "\\item CHOCO\n",
       "\\item PUTUMAYO\n",
       "\\item LA GUAJIRA\n",
       "\\item GUAVIARE\n",
       "\\item ARAUCA\n",
       "\\item SAN ANDRES\n",
       "\\item VICHADA\n",
       "\\item AMAZONAS\n",
       "\\item EXTRANJERO\n",
       "\\item GUAINIA\n",
       "\\end{enumerate*}\n",
       "\n",
       "\\emph{Levels}: \\begin{enumerate*}\n",
       "\\item ''\n",
       "\\item 'AMAZONAS'\n",
       "\\item 'ANTIOQUIA'\n",
       "\\item 'ARAUCA'\n",
       "\\item 'ATLANTICO'\n",
       "\\item 'BOGOTA'\n",
       "\\item 'BOLIVAR'\n",
       "\\item 'BOYACA'\n",
       "\\item 'CALDAS'\n",
       "\\item 'CAQUETA'\n",
       "\\item 'CASANARE'\n",
       "\\item 'CAUCA'\n",
       "\\item 'CESAR'\n",
       "\\item 'CHOCO'\n",
       "\\item 'CORDOBA'\n",
       "\\item 'CUNDINAMARCA'\n",
       "\\item 'EXTRANJERO'\n",
       "\\item 'GUAINIA'\n",
       "\\item 'GUAVIARE'\n",
       "\\item 'HUILA'\n",
       "\\item 'LA GUAJIRA'\n",
       "\\item 'MAGDALENA'\n",
       "\\item 'META'\n",
       "\\item 'NARINO'\n",
       "\\item 'NORTE SANTANDER'\n",
       "\\item 'PUTUMAYO'\n",
       "\\item 'QUINDIO'\n",
       "\\item 'RISARALDA'\n",
       "\\item 'SAN ANDRES'\n",
       "\\item 'SANTANDER'\n",
       "\\item 'SUCRE'\n",
       "\\item 'TOLIMA'\n",
       "\\item 'VALLE'\n",
       "\\item 'VAUPES'\n",
       "\\item 'VICHADA'\n",
       "\\end{enumerate*}\n"
      ],
      "text/markdown": [
       "1. ATLANTICO\n",
       "2. CUNDINAMARCA\n",
       "3. CALDAS\n",
       "4. MAGDALENA\n",
       "5. CORDOBA\n",
       "6. CAUCA\n",
       "7. BOGOTA\n",
       "8. ANTIOQUIA\n",
       "9. META\n",
       "10. CESAR\n",
       "11. VALLE\n",
       "12. TOLIMA\n",
       "13. BOYACA\n",
       "14. SANTANDER\n",
       "15. BOLIVAR\n",
       "16. \n",
       "17. HUILA\n",
       "18. NORTE SANTANDER\n",
       "19. SUCRE\n",
       "20. QUINDIO\n",
       "21. VAUPES\n",
       "22. RISARALDA\n",
       "23. NARINO\n",
       "24. CAQUETA\n",
       "25. CASANARE\n",
       "26. CHOCO\n",
       "27. PUTUMAYO\n",
       "28. LA GUAJIRA\n",
       "29. GUAVIARE\n",
       "30. ARAUCA\n",
       "31. SAN ANDRES\n",
       "32. VICHADA\n",
       "33. AMAZONAS\n",
       "34. EXTRANJERO\n",
       "35. GUAINIA\n",
       "\n",
       "\n",
       "\n",
       "**Levels**: 1. ''\n",
       "2. 'AMAZONAS'\n",
       "3. 'ANTIOQUIA'\n",
       "4. 'ARAUCA'\n",
       "5. 'ATLANTICO'\n",
       "6. 'BOGOTA'\n",
       "7. 'BOLIVAR'\n",
       "8. 'BOYACA'\n",
       "9. 'CALDAS'\n",
       "10. 'CAQUETA'\n",
       "11. 'CASANARE'\n",
       "12. 'CAUCA'\n",
       "13. 'CESAR'\n",
       "14. 'CHOCO'\n",
       "15. 'CORDOBA'\n",
       "16. 'CUNDINAMARCA'\n",
       "17. 'EXTRANJERO'\n",
       "18. 'GUAINIA'\n",
       "19. 'GUAVIARE'\n",
       "20. 'HUILA'\n",
       "21. 'LA GUAJIRA'\n",
       "22. 'MAGDALENA'\n",
       "23. 'META'\n",
       "24. 'NARINO'\n",
       "25. 'NORTE SANTANDER'\n",
       "26. 'PUTUMAYO'\n",
       "27. 'QUINDIO'\n",
       "28. 'RISARALDA'\n",
       "29. 'SAN ANDRES'\n",
       "30. 'SANTANDER'\n",
       "31. 'SUCRE'\n",
       "32. 'TOLIMA'\n",
       "33. 'VALLE'\n",
       "34. 'VAUPES'\n",
       "35. 'VICHADA'\n",
       "\n",
       "\n"
      ],
      "text/plain": [
       " [1] ATLANTICO       CUNDINAMARCA    CALDAS          MAGDALENA      \n",
       " [5] CORDOBA         CAUCA           BOGOTA          ANTIOQUIA      \n",
       " [9] META            CESAR           VALLE           TOLIMA         \n",
       "[13] BOYACA          SANTANDER       BOLIVAR                        \n",
       "[17] HUILA           NORTE SANTANDER SUCRE           QUINDIO        \n",
       "[21] VAUPES          RISARALDA       NARINO          CAQUETA        \n",
       "[25] CASANARE        CHOCO           PUTUMAYO        LA GUAJIRA     \n",
       "[29] GUAVIARE        ARAUCA          SAN ANDRES      VICHADA        \n",
       "[33] AMAZONAS        EXTRANJERO      GUAINIA        \n",
       "35 Levels:  AMAZONAS ANTIOQUIA ARAUCA ATLANTICO BOGOTA BOLIVAR ... VICHADA"
      ]
     },
     "metadata": {},
     "output_type": "display_data"
    }
   ],
   "source": [
    "unique(data$departamento)\n",
    "\n",
    "temp<-factor(data$departamento)\n",
    "data$departamento<-revalue(temp, c(\"NARIÃ‘O\"=\"NARINO\", \"NARIÃƒâ\\200\\230O\"=\"NARINO\"))\n",
    "\n",
    "unique(data$departamento)"
   ]
  },
  {
   "cell_type": "code",
   "execution_count": 59,
   "metadata": {},
   "outputs": [],
   "source": [
    "ddeptos <- data.frame(ddeptos=data$departamento)\n",
    "\n",
    "praz<-data.frame(praz=data$raz_cuant_punt)\n",
    "dataraz<- data.frame(praz,ddeptos)\n",
    "\n",
    "plect<-data.frame(plect=data$lect_crit_punt)\n",
    "datalect<- data.frame(plect,ddeptos)\n",
    "\n",
    "pcomp<-data.frame(pcomp=data$comp_ciud_punt)\n",
    "datacomp<- data.frame(pcomp,ddeptos)"
   ]
  },
  {
   "cell_type": "code",
   "execution_count": 68,
   "metadata": {
    "scrolled": true
   },
   "outputs": [
    {
     "data": {
      "text/html": [
       "<table>\n",
       "<caption>A tibble: 35 × 4</caption>\n",
       "<thead>\n",
       "\t<tr><th scope=col>ddeptos</th><th scope=col>n</th><th scope=col>s</th><th scope=col>p</th></tr>\n",
       "\t<tr><th scope=col>&lt;fct&gt;</th><th scope=col>&lt;int&gt;</th><th scope=col>&lt;dbl&gt;</th><th scope=col>&lt;dbl&gt;</th></tr>\n",
       "</thead>\n",
       "<tbody>\n",
       "\t<tr><td>               </td><td>  1997</td><td>30.86974</td><td>0.0027533624</td></tr>\n",
       "\t<tr><td>AMAZONAS       </td><td>   195</td><td>29.87807</td><td>0.0002688561</td></tr>\n",
       "\t<tr><td>ANTIOQUIA      </td><td> 86465</td><td>32.25236</td><td>0.1192135614</td></tr>\n",
       "\t<tr><td>ARAUCA         </td><td>  1863</td><td>26.66001</td><td>0.0025686100</td></tr>\n",
       "\t<tr><td>ATLANTICO      </td><td> 41127</td><td>30.34594</td><td>0.0567038240</td></tr>\n",
       "\t<tr><td>BOGOTA         </td><td>210798</td><td>30.12218</td><td>0.2906376026</td></tr>\n",
       "\t<tr><td>BOLIVAR        </td><td> 22906</td><td>30.65915</td><td>0.0315816323</td></tr>\n",
       "\t<tr><td>BOYACA         </td><td> 17955</td><td>28.47879</td><td>0.0247554443</td></tr>\n",
       "\t<tr><td>CALDAS         </td><td> 14227</td><td>30.31349</td><td>0.0196154668</td></tr>\n",
       "\t<tr><td>CAQUETA        </td><td>  4098</td><td>27.76922</td><td>0.0056501148</td></tr>\n",
       "\t<tr><td>CASANARE       </td><td>  3762</td><td>27.41497</td><td>0.0051868550</td></tr>\n",
       "\t<tr><td>CAUCA          </td><td> 15567</td><td>30.11147</td><td>0.0214629909</td></tr>\n",
       "\t<tr><td>CESAR          </td><td> 10656</td><td>28.69656</td><td>0.0146919529</td></tr>\n",
       "\t<tr><td>CHOCO          </td><td>  4834</td><td>23.44087</td><td>0.0066648743</td></tr>\n",
       "\t<tr><td>CORDOBA        </td><td> 17234</td><td>28.93634</td><td>0.0237613661</td></tr>\n",
       "\t<tr><td>CUNDINAMARCA   </td><td> 39227</td><td>28.31731</td><td>0.0540842002</td></tr>\n",
       "\t<tr><td>EXTRANJERO     </td><td>   122</td><td>34.53198</td><td>0.0001682074</td></tr>\n",
       "\t<tr><td>GUAINIA        </td><td>    83</td><td>23.15131</td><td>0.0001144362</td></tr>\n",
       "\t<tr><td>GUAVIARE       </td><td>   376</td><td>26.72707</td><td>0.0005184098</td></tr>\n",
       "\t<tr><td>HUILA          </td><td> 14732</td><td>28.73042</td><td>0.0203117352</td></tr>\n",
       "\t<tr><td>LA GUAJIRA     </td><td>  7109</td><td>27.24389</td><td>0.0098015290</td></tr>\n",
       "\t<tr><td>MAGDALENA      </td><td> 10748</td><td>29.58802</td><td>0.0148187979</td></tr>\n",
       "\t<tr><td>META           </td><td> 14413</td><td>27.95687</td><td>0.0198719142</td></tr>\n",
       "\t<tr><td>NARINO         </td><td> 16267</td><td>28.39925</td><td>0.0224281155</td></tr>\n",
       "\t<tr><td>NORTE SANTANDER</td><td> 21222</td><td>28.91571</td><td>0.0292598184</td></tr>\n",
       "\t<tr><td>PUTUMAYO       </td><td>  2333</td><td>27.15459</td><td>0.0032166222</td></tr>\n",
       "\t<tr><td>QUINDIO        </td><td>  8746</td><td>29.40640</td><td>0.0120585417</td></tr>\n",
       "\t<tr><td>RISARALDA      </td><td> 15238</td><td>29.50405</td><td>0.0210093824</td></tr>\n",
       "\t<tr><td>SAN ANDRES     </td><td>   410</td><td>25.83066</td><td>0.0005652872</td></tr>\n",
       "\t<tr><td>SANTANDER      </td><td> 36348</td><td>31.23973</td><td>0.0501147809</td></tr>\n",
       "\t<tr><td>SUCRE          </td><td>  9480</td><td>28.21909</td><td>0.0130705437</td></tr>\n",
       "\t<tr><td>TOLIMA         </td><td> 18530</td><td>28.32955</td><td>0.0255482252</td></tr>\n",
       "\t<tr><td>VALLE          </td><td> 55996</td><td>30.37852</td><td>0.0772044478</td></tr>\n",
       "\t<tr><td>VAUPES         </td><td>    91</td><td>25.57178</td><td>0.0001254662</td></tr>\n",
       "\t<tr><td>VICHADA        </td><td>   140</td><td>26.51480</td><td>0.0001930249</td></tr>\n",
       "</tbody>\n",
       "</table>\n"
      ],
      "text/latex": [
       "A tibble: 35 × 4\n",
       "\\begin{tabular}{llll}\n",
       " ddeptos & n & s & p\\\\\n",
       " <fct> & <int> & <dbl> & <dbl>\\\\\n",
       "\\hline\n",
       "\t                 &   1997 & 30.86974 & 0.0027533624\\\\\n",
       "\t AMAZONAS        &    195 & 29.87807 & 0.0002688561\\\\\n",
       "\t ANTIOQUIA       &  86465 & 32.25236 & 0.1192135614\\\\\n",
       "\t ARAUCA          &   1863 & 26.66001 & 0.0025686100\\\\\n",
       "\t ATLANTICO       &  41127 & 30.34594 & 0.0567038240\\\\\n",
       "\t BOGOTA          & 210798 & 30.12218 & 0.2906376026\\\\\n",
       "\t BOLIVAR         &  22906 & 30.65915 & 0.0315816323\\\\\n",
       "\t BOYACA          &  17955 & 28.47879 & 0.0247554443\\\\\n",
       "\t CALDAS          &  14227 & 30.31349 & 0.0196154668\\\\\n",
       "\t CAQUETA         &   4098 & 27.76922 & 0.0056501148\\\\\n",
       "\t CASANARE        &   3762 & 27.41497 & 0.0051868550\\\\\n",
       "\t CAUCA           &  15567 & 30.11147 & 0.0214629909\\\\\n",
       "\t CESAR           &  10656 & 28.69656 & 0.0146919529\\\\\n",
       "\t CHOCO           &   4834 & 23.44087 & 0.0066648743\\\\\n",
       "\t CORDOBA         &  17234 & 28.93634 & 0.0237613661\\\\\n",
       "\t CUNDINAMARCA    &  39227 & 28.31731 & 0.0540842002\\\\\n",
       "\t EXTRANJERO      &    122 & 34.53198 & 0.0001682074\\\\\n",
       "\t GUAINIA         &     83 & 23.15131 & 0.0001144362\\\\\n",
       "\t GUAVIARE        &    376 & 26.72707 & 0.0005184098\\\\\n",
       "\t HUILA           &  14732 & 28.73042 & 0.0203117352\\\\\n",
       "\t LA GUAJIRA      &   7109 & 27.24389 & 0.0098015290\\\\\n",
       "\t MAGDALENA       &  10748 & 29.58802 & 0.0148187979\\\\\n",
       "\t META            &  14413 & 27.95687 & 0.0198719142\\\\\n",
       "\t NARINO          &  16267 & 28.39925 & 0.0224281155\\\\\n",
       "\t NORTE SANTANDER &  21222 & 28.91571 & 0.0292598184\\\\\n",
       "\t PUTUMAYO        &   2333 & 27.15459 & 0.0032166222\\\\\n",
       "\t QUINDIO         &   8746 & 29.40640 & 0.0120585417\\\\\n",
       "\t RISARALDA       &  15238 & 29.50405 & 0.0210093824\\\\\n",
       "\t SAN ANDRES      &    410 & 25.83066 & 0.0005652872\\\\\n",
       "\t SANTANDER       &  36348 & 31.23973 & 0.0501147809\\\\\n",
       "\t SUCRE           &   9480 & 28.21909 & 0.0130705437\\\\\n",
       "\t TOLIMA          &  18530 & 28.32955 & 0.0255482252\\\\\n",
       "\t VALLE           &  55996 & 30.37852 & 0.0772044478\\\\\n",
       "\t VAUPES          &     91 & 25.57178 & 0.0001254662\\\\\n",
       "\t VICHADA         &    140 & 26.51480 & 0.0001930249\\\\\n",
       "\\end{tabular}\n"
      ],
      "text/markdown": [
       "\n",
       "A tibble: 35 × 4\n",
       "\n",
       "| ddeptos &lt;fct&gt; | n &lt;int&gt; | s &lt;dbl&gt; | p &lt;dbl&gt; |\n",
       "|---|---|---|---|\n",
       "| <!----> |   1997 | 30.86974 | 0.0027533624 |\n",
       "| AMAZONAS        |    195 | 29.87807 | 0.0002688561 |\n",
       "| ANTIOQUIA       |  86465 | 32.25236 | 0.1192135614 |\n",
       "| ARAUCA          |   1863 | 26.66001 | 0.0025686100 |\n",
       "| ATLANTICO       |  41127 | 30.34594 | 0.0567038240 |\n",
       "| BOGOTA          | 210798 | 30.12218 | 0.2906376026 |\n",
       "| BOLIVAR         |  22906 | 30.65915 | 0.0315816323 |\n",
       "| BOYACA          |  17955 | 28.47879 | 0.0247554443 |\n",
       "| CALDAS          |  14227 | 30.31349 | 0.0196154668 |\n",
       "| CAQUETA         |   4098 | 27.76922 | 0.0056501148 |\n",
       "| CASANARE        |   3762 | 27.41497 | 0.0051868550 |\n",
       "| CAUCA           |  15567 | 30.11147 | 0.0214629909 |\n",
       "| CESAR           |  10656 | 28.69656 | 0.0146919529 |\n",
       "| CHOCO           |   4834 | 23.44087 | 0.0066648743 |\n",
       "| CORDOBA         |  17234 | 28.93634 | 0.0237613661 |\n",
       "| CUNDINAMARCA    |  39227 | 28.31731 | 0.0540842002 |\n",
       "| EXTRANJERO      |    122 | 34.53198 | 0.0001682074 |\n",
       "| GUAINIA         |     83 | 23.15131 | 0.0001144362 |\n",
       "| GUAVIARE        |    376 | 26.72707 | 0.0005184098 |\n",
       "| HUILA           |  14732 | 28.73042 | 0.0203117352 |\n",
       "| LA GUAJIRA      |   7109 | 27.24389 | 0.0098015290 |\n",
       "| MAGDALENA       |  10748 | 29.58802 | 0.0148187979 |\n",
       "| META            |  14413 | 27.95687 | 0.0198719142 |\n",
       "| NARINO          |  16267 | 28.39925 | 0.0224281155 |\n",
       "| NORTE SANTANDER |  21222 | 28.91571 | 0.0292598184 |\n",
       "| PUTUMAYO        |   2333 | 27.15459 | 0.0032166222 |\n",
       "| QUINDIO         |   8746 | 29.40640 | 0.0120585417 |\n",
       "| RISARALDA       |  15238 | 29.50405 | 0.0210093824 |\n",
       "| SAN ANDRES      |    410 | 25.83066 | 0.0005652872 |\n",
       "| SANTANDER       |  36348 | 31.23973 | 0.0501147809 |\n",
       "| SUCRE           |   9480 | 28.21909 | 0.0130705437 |\n",
       "| TOLIMA          |  18530 | 28.32955 | 0.0255482252 |\n",
       "| VALLE           |  55996 | 30.37852 | 0.0772044478 |\n",
       "| VAUPES          |     91 | 25.57178 | 0.0001254662 |\n",
       "| VICHADA         |    140 | 26.51480 | 0.0001930249 |\n",
       "\n"
      ],
      "text/plain": [
       "   ddeptos         n      s        p           \n",
       "1                    1997 30.86974 0.0027533624\n",
       "2  AMAZONAS           195 29.87807 0.0002688561\n",
       "3  ANTIOQUIA        86465 32.25236 0.1192135614\n",
       "4  ARAUCA            1863 26.66001 0.0025686100\n",
       "5  ATLANTICO        41127 30.34594 0.0567038240\n",
       "6  BOGOTA          210798 30.12218 0.2906376026\n",
       "7  BOLIVAR          22906 30.65915 0.0315816323\n",
       "8  BOYACA           17955 28.47879 0.0247554443\n",
       "9  CALDAS           14227 30.31349 0.0196154668\n",
       "10 CAQUETA           4098 27.76922 0.0056501148\n",
       "11 CASANARE          3762 27.41497 0.0051868550\n",
       "12 CAUCA            15567 30.11147 0.0214629909\n",
       "13 CESAR            10656 28.69656 0.0146919529\n",
       "14 CHOCO             4834 23.44087 0.0066648743\n",
       "15 CORDOBA          17234 28.93634 0.0237613661\n",
       "16 CUNDINAMARCA     39227 28.31731 0.0540842002\n",
       "17 EXTRANJERO         122 34.53198 0.0001682074\n",
       "18 GUAINIA             83 23.15131 0.0001144362\n",
       "19 GUAVIARE           376 26.72707 0.0005184098\n",
       "20 HUILA            14732 28.73042 0.0203117352\n",
       "21 LA GUAJIRA        7109 27.24389 0.0098015290\n",
       "22 MAGDALENA        10748 29.58802 0.0148187979\n",
       "23 META             14413 27.95687 0.0198719142\n",
       "24 NARINO           16267 28.39925 0.0224281155\n",
       "25 NORTE SANTANDER  21222 28.91571 0.0292598184\n",
       "26 PUTUMAYO          2333 27.15459 0.0032166222\n",
       "27 QUINDIO           8746 29.40640 0.0120585417\n",
       "28 RISARALDA        15238 29.50405 0.0210093824\n",
       "29 SAN ANDRES         410 25.83066 0.0005652872\n",
       "30 SANTANDER        36348 31.23973 0.0501147809\n",
       "31 SUCRE             9480 28.21909 0.0130705437\n",
       "32 TOLIMA           18530 28.32955 0.0255482252\n",
       "33 VALLE            55996 30.37852 0.0772044478\n",
       "34 VAUPES              91 25.57178 0.0001254662\n",
       "35 VICHADA            140 26.51480 0.0001930249"
      ]
     },
     "metadata": {},
     "output_type": "display_data"
    }
   ],
   "source": [
    "Conglomerados <- dataraz %>%\n",
    "  select(ddeptos, praz) %>%\n",
    "  group_by(ddeptos) %>%\n",
    "  summarise(n=n(), \n",
    "            s=sd(praz)) %>%\n",
    "  mutate(p=n/sum(n))\n",
    "\n",
    "Conglomerados"
   ]
  },
  {
   "cell_type": "code",
   "execution_count": 69,
   "metadata": {},
   "outputs": [],
   "source": [
    "nsProp384<-nstrata(n=384,wh=Conglomerados[,4],method=\"proportional\")"
   ]
  },
  {
   "cell_type": "code",
   "execution_count": 70,
   "metadata": {
    "scrolled": true
   },
   "outputs": [
    {
     "data": {
      "text/html": [
       "<table>\n",
       "<caption>A data.frame: 35 × 2</caption>\n",
       "<thead>\n",
       "\t<tr><th scope=col>des</th><th scope=col>p</th></tr>\n",
       "\t<tr><th scope=col>&lt;fct&gt;</th><th scope=col>&lt;dbl&gt;</th></tr>\n",
       "</thead>\n",
       "<tbody>\n",
       "\t<tr><td>               </td><td>  2</td></tr>\n",
       "\t<tr><td>AMAZONAS       </td><td>  1</td></tr>\n",
       "\t<tr><td>ANTIOQUIA      </td><td> 46</td></tr>\n",
       "\t<tr><td>ARAUCA         </td><td>  1</td></tr>\n",
       "\t<tr><td>ATLANTICO      </td><td> 22</td></tr>\n",
       "\t<tr><td>BOGOTA         </td><td>112</td></tr>\n",
       "\t<tr><td>BOLIVAR        </td><td> 13</td></tr>\n",
       "\t<tr><td>BOYACA         </td><td> 10</td></tr>\n",
       "\t<tr><td>CALDAS         </td><td>  8</td></tr>\n",
       "\t<tr><td>CAQUETA        </td><td>  3</td></tr>\n",
       "\t<tr><td>CASANARE       </td><td>  2</td></tr>\n",
       "\t<tr><td>CAUCA          </td><td>  9</td></tr>\n",
       "\t<tr><td>CESAR          </td><td>  6</td></tr>\n",
       "\t<tr><td>CHOCO          </td><td>  3</td></tr>\n",
       "\t<tr><td>CORDOBA        </td><td> 10</td></tr>\n",
       "\t<tr><td>CUNDINAMARCA   </td><td> 21</td></tr>\n",
       "\t<tr><td>EXTRANJERO     </td><td>  1</td></tr>\n",
       "\t<tr><td>GUAINIA        </td><td>  1</td></tr>\n",
       "\t<tr><td>GUAVIARE       </td><td>  1</td></tr>\n",
       "\t<tr><td>HUILA          </td><td>  8</td></tr>\n",
       "\t<tr><td>LA GUAJIRA     </td><td>  4</td></tr>\n",
       "\t<tr><td>MAGDALENA      </td><td>  6</td></tr>\n",
       "\t<tr><td>META           </td><td>  8</td></tr>\n",
       "\t<tr><td>NARINO         </td><td>  9</td></tr>\n",
       "\t<tr><td>NORTE SANTANDER</td><td> 12</td></tr>\n",
       "\t<tr><td>PUTUMAYO       </td><td>  2</td></tr>\n",
       "\t<tr><td>QUINDIO        </td><td>  5</td></tr>\n",
       "\t<tr><td>RISARALDA      </td><td>  9</td></tr>\n",
       "\t<tr><td>SAN ANDRES     </td><td>  1</td></tr>\n",
       "\t<tr><td>SANTANDER      </td><td> 20</td></tr>\n",
       "\t<tr><td>SUCRE          </td><td>  6</td></tr>\n",
       "\t<tr><td>TOLIMA         </td><td> 10</td></tr>\n",
       "\t<tr><td>VALLE          </td><td> 30</td></tr>\n",
       "\t<tr><td>VAUPES         </td><td>  1</td></tr>\n",
       "\t<tr><td>VICHADA        </td><td>  1</td></tr>\n",
       "</tbody>\n",
       "</table>\n"
      ],
      "text/latex": [
       "A data.frame: 35 × 2\n",
       "\\begin{tabular}{ll}\n",
       " des & p\\\\\n",
       " <fct> & <dbl>\\\\\n",
       "\\hline\n",
       "\t                 &   2\\\\\n",
       "\t AMAZONAS        &   1\\\\\n",
       "\t ANTIOQUIA       &  46\\\\\n",
       "\t ARAUCA          &   1\\\\\n",
       "\t ATLANTICO       &  22\\\\\n",
       "\t BOGOTA          & 112\\\\\n",
       "\t BOLIVAR         &  13\\\\\n",
       "\t BOYACA          &  10\\\\\n",
       "\t CALDAS          &   8\\\\\n",
       "\t CAQUETA         &   3\\\\\n",
       "\t CASANARE        &   2\\\\\n",
       "\t CAUCA           &   9\\\\\n",
       "\t CESAR           &   6\\\\\n",
       "\t CHOCO           &   3\\\\\n",
       "\t CORDOBA         &  10\\\\\n",
       "\t CUNDINAMARCA    &  21\\\\\n",
       "\t EXTRANJERO      &   1\\\\\n",
       "\t GUAINIA         &   1\\\\\n",
       "\t GUAVIARE        &   1\\\\\n",
       "\t HUILA           &   8\\\\\n",
       "\t LA GUAJIRA      &   4\\\\\n",
       "\t MAGDALENA       &   6\\\\\n",
       "\t META            &   8\\\\\n",
       "\t NARINO          &   9\\\\\n",
       "\t NORTE SANTANDER &  12\\\\\n",
       "\t PUTUMAYO        &   2\\\\\n",
       "\t QUINDIO         &   5\\\\\n",
       "\t RISARALDA       &   9\\\\\n",
       "\t SAN ANDRES      &   1\\\\\n",
       "\t SANTANDER       &  20\\\\\n",
       "\t SUCRE           &   6\\\\\n",
       "\t TOLIMA          &  10\\\\\n",
       "\t VALLE           &  30\\\\\n",
       "\t VAUPES          &   1\\\\\n",
       "\t VICHADA         &   1\\\\\n",
       "\\end{tabular}\n"
      ],
      "text/markdown": [
       "\n",
       "A data.frame: 35 × 2\n",
       "\n",
       "| des &lt;fct&gt; | p &lt;dbl&gt; |\n",
       "|---|---|\n",
       "| <!----> |   2 |\n",
       "| AMAZONAS        |   1 |\n",
       "| ANTIOQUIA       |  46 |\n",
       "| ARAUCA          |   1 |\n",
       "| ATLANTICO       |  22 |\n",
       "| BOGOTA          | 112 |\n",
       "| BOLIVAR         |  13 |\n",
       "| BOYACA          |  10 |\n",
       "| CALDAS          |   8 |\n",
       "| CAQUETA         |   3 |\n",
       "| CASANARE        |   2 |\n",
       "| CAUCA           |   9 |\n",
       "| CESAR           |   6 |\n",
       "| CHOCO           |   3 |\n",
       "| CORDOBA         |  10 |\n",
       "| CUNDINAMARCA    |  21 |\n",
       "| EXTRANJERO      |   1 |\n",
       "| GUAINIA         |   1 |\n",
       "| GUAVIARE        |   1 |\n",
       "| HUILA           |   8 |\n",
       "| LA GUAJIRA      |   4 |\n",
       "| MAGDALENA       |   6 |\n",
       "| META            |   8 |\n",
       "| NARINO          |   9 |\n",
       "| NORTE SANTANDER |  12 |\n",
       "| PUTUMAYO        |   2 |\n",
       "| QUINDIO         |   5 |\n",
       "| RISARALDA       |   9 |\n",
       "| SAN ANDRES      |   1 |\n",
       "| SANTANDER       |  20 |\n",
       "| SUCRE           |   6 |\n",
       "| TOLIMA          |  10 |\n",
       "| VALLE           |  30 |\n",
       "| VAUPES          |   1 |\n",
       "| VICHADA         |   1 |\n",
       "\n"
      ],
      "text/plain": [
       "   des             p  \n",
       "1                    2\n",
       "2  AMAZONAS          1\n",
       "3  ANTIOQUIA        46\n",
       "4  ARAUCA            1\n",
       "5  ATLANTICO        22\n",
       "6  BOGOTA          112\n",
       "7  BOLIVAR          13\n",
       "8  BOYACA           10\n",
       "9  CALDAS            8\n",
       "10 CAQUETA           3\n",
       "11 CASANARE          2\n",
       "12 CAUCA             9\n",
       "13 CESAR             6\n",
       "14 CHOCO             3\n",
       "15 CORDOBA          10\n",
       "16 CUNDINAMARCA     21\n",
       "17 EXTRANJERO        1\n",
       "18 GUAINIA           1\n",
       "19 GUAVIARE          1\n",
       "20 HUILA             8\n",
       "21 LA GUAJIRA        4\n",
       "22 MAGDALENA         6\n",
       "23 META              8\n",
       "24 NARINO            9\n",
       "25 NORTE SANTANDER  12\n",
       "26 PUTUMAYO          2\n",
       "27 QUINDIO           5\n",
       "28 RISARALDA         9\n",
       "29 SAN ANDRES        1\n",
       "30 SANTANDER        20\n",
       "31 SUCRE             6\n",
       "32 TOLIMA           10\n",
       "33 VALLE            30\n",
       "34 VAUPES            1\n",
       "35 VICHADA           1"
      ]
     },
     "metadata": {},
     "output_type": "display_data"
    }
   ],
   "source": [
    "data.frame(des=Conglomerados$ddeptos,nsProp384)"
   ]
  },
  {
   "cell_type": "code",
   "execution_count": 79,
   "metadata": {
    "scrolled": true
   },
   "outputs": [
    {
     "data": {
      "text/html": [
       "<table>\n",
       "<caption>A data.frame: 6 × 8</caption>\n",
       "<thead>\n",
       "\t<tr><th></th><th scope=col>periodo</th><th scope=col>departamento</th><th scope=col>raz_cuant_punt</th><th scope=col>raz_cuant_des</th><th scope=col>lect_crit_punt</th><th scope=col>lect_crit_des</th><th scope=col>comp_ciud_punt</th><th scope=col>comp_ciud_des</th></tr>\n",
       "\t<tr><th></th><th scope=col>&lt;fct&gt;</th><th scope=col>&lt;fct&gt;</th><th scope=col>&lt;int&gt;</th><th scope=col>&lt;fct&gt;</th><th scope=col>&lt;int&gt;</th><th scope=col>&lt;fct&gt;</th><th scope=col>&lt;int&gt;</th><th scope=col>&lt;fct&gt;</th></tr>\n",
       "</thead>\n",
       "<tbody>\n",
       "\t<tr><th scope=row>106</th><td>2016</td><td>BOYACA      </td><td>145</td><td>Aceptable </td><td>142</td><td>Aceptable </td><td>165</td><td>Bueno     </td></tr>\n",
       "\t<tr><th scope=row>82552</th><td>2016</td><td>CUNDINAMARCA</td><td>107</td><td>Deficiente</td><td>116</td><td>Deficiente</td><td> 95</td><td>Deficiente</td></tr>\n",
       "\t<tr><th scope=row>38256</th><td>2016</td><td>BOGOTA      </td><td>133</td><td>Aceptable </td><td>177</td><td>Bueno     </td><td>179</td><td>Bueno     </td></tr>\n",
       "\t<tr><th scope=row>2780</th><td>2016</td><td>BOYACA      </td><td>141</td><td>Aceptable </td><td>147</td><td>Aceptable </td><td>153</td><td>Aceptable </td></tr>\n",
       "\t<tr><th scope=row>48117</th><td>2016</td><td>CORDOBA     </td><td>124</td><td>Deficiente</td><td> 86</td><td>Deficiente</td><td> 91</td><td>Deficiente</td></tr>\n",
       "\t<tr><th scope=row>7232</th><td>2016</td><td>RISARALDA   </td><td>182</td><td>Bueno     </td><td>167</td><td>Bueno     </td><td>202</td><td>Excelente </td></tr>\n",
       "</tbody>\n",
       "</table>\n"
      ],
      "text/latex": [
       "A data.frame: 6 × 8\n",
       "\\begin{tabular}{r|llllllll}\n",
       "  & periodo & departamento & raz\\_cuant\\_punt & raz\\_cuant\\_des & lect\\_crit\\_punt & lect\\_crit\\_des & comp\\_ciud\\_punt & comp\\_ciud\\_des\\\\\n",
       "  & <fct> & <fct> & <int> & <fct> & <int> & <fct> & <int> & <fct>\\\\\n",
       "\\hline\n",
       "\t106 & 2016 & BOYACA       & 145 & Aceptable  & 142 & Aceptable  & 165 & Bueno     \\\\\n",
       "\t82552 & 2016 & CUNDINAMARCA & 107 & Deficiente & 116 & Deficiente &  95 & Deficiente\\\\\n",
       "\t38256 & 2016 & BOGOTA       & 133 & Aceptable  & 177 & Bueno      & 179 & Bueno     \\\\\n",
       "\t2780 & 2016 & BOYACA       & 141 & Aceptable  & 147 & Aceptable  & 153 & Aceptable \\\\\n",
       "\t48117 & 2016 & CORDOBA      & 124 & Deficiente &  86 & Deficiente &  91 & Deficiente\\\\\n",
       "\t7232 & 2016 & RISARALDA    & 182 & Bueno      & 167 & Bueno      & 202 & Excelente \\\\\n",
       "\\end{tabular}\n"
      ],
      "text/markdown": [
       "\n",
       "A data.frame: 6 × 8\n",
       "\n",
       "| <!--/--> | periodo &lt;fct&gt; | departamento &lt;fct&gt; | raz_cuant_punt &lt;int&gt; | raz_cuant_des &lt;fct&gt; | lect_crit_punt &lt;int&gt; | lect_crit_des &lt;fct&gt; | comp_ciud_punt &lt;int&gt; | comp_ciud_des &lt;fct&gt; |\n",
       "|---|---|---|---|---|---|---|---|---|\n",
       "| 106 | 2016 | BOYACA       | 145 | Aceptable  | 142 | Aceptable  | 165 | Bueno      |\n",
       "| 82552 | 2016 | CUNDINAMARCA | 107 | Deficiente | 116 | Deficiente |  95 | Deficiente |\n",
       "| 38256 | 2016 | BOGOTA       | 133 | Aceptable  | 177 | Bueno      | 179 | Bueno      |\n",
       "| 2780 | 2016 | BOYACA       | 141 | Aceptable  | 147 | Aceptable  | 153 | Aceptable  |\n",
       "| 48117 | 2016 | CORDOBA      | 124 | Deficiente |  86 | Deficiente |  91 | Deficiente |\n",
       "| 7232 | 2016 | RISARALDA    | 182 | Bueno      | 167 | Bueno      | 202 | Excelente  |\n",
       "\n"
      ],
      "text/plain": [
       "      periodo departamento raz_cuant_punt raz_cuant_des lect_crit_punt\n",
       "106   2016    BOYACA       145            Aceptable     142           \n",
       "82552 2016    CUNDINAMARCA 107            Deficiente    116           \n",
       "38256 2016    BOGOTA       133            Aceptable     177           \n",
       "2780  2016    BOYACA       141            Aceptable     147           \n",
       "48117 2016    CORDOBA      124            Deficiente     86           \n",
       "7232  2016    RISARALDA    182            Bueno         167           \n",
       "      lect_crit_des comp_ciud_punt comp_ciud_des\n",
       "106   Aceptable     165            Bueno        \n",
       "82552 Deficiente     95            Deficiente   \n",
       "38256 Bueno         179            Bueno        \n",
       "2780  Aceptable     153            Aceptable    \n",
       "48117 Deficiente     91            Deficiente   \n",
       "7232  Bueno         202            Excelente    "
      ]
     },
     "metadata": {},
     "output_type": "display_data"
    }
   ],
   "source": [
    "neAMAZONAS<-1 # Cantidad de sujetos en AMAZONAS\n",
    "meAMAZONAS_384<- sample(1:nrow(data[data$departamento=='AMAZONAS',]),size=neAMAZONAS,replace=FALSE)\n",
    "\n",
    "neANTIOQUIA<-46 # Cantidad de sujetos en ANTIOQUIA\n",
    "meANTIOQUIA_384<- sample(1:nrow(data[data$departamento=='ANTIOQUIA',]),size=neANTIOQUIA,replace=FALSE)\n",
    "\n",
    "neARAUCA<-1 # Cantidad de sujetos en ARAUCA\n",
    "meARAUCA_384<- sample(1:nrow(data[data$departamento=='ARAUCA',]),size=neARAUCA,replace=FALSE)\n",
    "\n",
    "neATLANTICO<-22 # Cantidad de sujetos en ATLANTICO\n",
    "meATLANTICO_384<- sample(1:nrow(data[data$departamento=='ATLANTICO',]),size=neATLANTICO,replace=FALSE)\n",
    "\n",
    "neBOGOTA<-112 # Cantidad de sujetos en BOGOTA\n",
    "meBOGOTA_384<- sample(1:nrow(data[data$departamento=='BOGOTA',]),size=neBOGOTA,replace=FALSE)\n",
    "\n",
    "neBOLIVAR<-13 # Cantidad de sujetos en BOLIVAR\n",
    "meBOLIVAR_384<- sample(1:nrow(data[data$departamento=='BOLIVAR',]),size=neBOLIVAR,replace=FALSE)\n",
    "\n",
    "neBOYACA<-10 # Cantidad de sujetos en BOYACA\n",
    "meBOYACA_384<- sample(1:nrow(data[data$departamento=='BOYACA',]),size=neBOYACA,replace=FALSE)\n",
    "\n",
    "neCALDAS<-8 # Cantidad de sujetos en CALDAS\n",
    "meCALDAS_384<- sample(1:nrow(data[data$departamento=='CALDAS',]),size=neCALDAS,replace=FALSE)\n",
    "\n",
    "neCAQUETA<-3 # Cantidad de sujetos en CAQUETA\n",
    "meCAQUETA_384<- sample(1:nrow(data[data$departamento=='CAQUETA',]),size=neCAQUETA,replace=FALSE)\n",
    "\n",
    "neCASANARE<-2 # Cantidad de sujetos en CASANARE\n",
    "meCASANARE_384<- sample(1:nrow(data[data$departamento=='CASANARE',]),size=neCASANARE,replace=FALSE)\n",
    "\n",
    "neCAUCA<-9 # Cantidad de sujetos en CAUCA\n",
    "meCAUCA_384<- sample(1:nrow(data[data$departamento=='CAUCA',]),size=neCAUCA,replace=FALSE)\n",
    "\n",
    "neCESAR<-6 # Cantidad de sujetos en CESAR\n",
    "meCESAR_384<- sample(1:nrow(data[data$departamento=='CESAR',]),size=neCESAR,replace=FALSE)\n",
    "\n",
    "neCHOCO<-3 # Cantidad de sujetos en CHOCO\n",
    "meCHOCO_384<- sample(1:nrow(data[data$departamento=='CHOCO',]),size=neCHOCO,replace=FALSE)\n",
    "\n",
    "neCORDOBA<-10 # Cantidad de sujetos en CORDOBA\n",
    "meCORDOBA_384<- sample(1:nrow(data[data$departamento=='CORDOBA',]),size=neCORDOBA,replace=FALSE)\n",
    "\n",
    "neCUNDINAMARCA<-21 # Cantidad de sujetos en CUNDINAMARCA\n",
    "meCUNDINAMARCA_384<- sample(1:nrow(data[data$departamento=='CUNDINAMARCA',]),size=neCUNDINAMARCA,replace=FALSE)\n",
    "\n",
    "neEXTRANJERO<-1 # Cantidad de sujetos en EXTRANJERO\n",
    "meEXTRANJERO_384<- sample(1:nrow(data[data$departamento=='EXTRANJERO',]),size=neEXTRANJERO,replace=FALSE)\n",
    "\n",
    "neGUAINIA<-1 # Cantidad de sujetos en GUAINIA\n",
    "meGUAINIA_384<- sample(1:nrow(data[data$departamento=='GUAINIA',]),size=neGUAINIA,replace=FALSE)\n",
    "\n",
    "neGUAVIARE<-1 # Cantidad de sujetos en GUAVIARE\n",
    "meGUAVIARE_384<- sample(1:nrow(data[data$departamento=='GUAVIARE',]),size=neGUAVIARE,replace=FALSE)\n",
    "\n",
    "neHUILA<-8 # Cantidad de sujetos en HUILA\n",
    "meHUILA_384<- sample(1:nrow(data[data$departamento=='HUILA',]),size=neHUILA,replace=FALSE)\n",
    "\n",
    "neGUAJIRA<-4 # Cantidad de sujetos en GUAJIRA\n",
    "meGUAJIRA_384<- sample(1:nrow(data[data$departamento=='LA GUAJIRA',]),size=neGUAJIRA,replace=FALSE)\n",
    "\n",
    "neMAGDALENA<-6 # Cantidad de sujetos en MAGDALENA\n",
    "meMAGDALENA_384<- sample(1:nrow(data[data$departamento=='MAGDALENA',]),size=neMAGDALENA,replace=FALSE)\n",
    "\n",
    "neMETA<-8 # Cantidad de sujetos en META\n",
    "meMETA_384<- sample(1:nrow(data[data$departamento=='META',]),size=neMETA,replace=FALSE)\n",
    "\n",
    "neNARINO<-9 # Cantidad de sujetos en NARINO\n",
    "meNARINO_384<- sample(1:nrow(data[data$departamento=='NARINO',]),size=neNARINO,replace=FALSE)\n",
    "\n",
    "neNORTE_SANTANDER<-12 # Cantidad de sujetos en NORTE_SANTANDER\n",
    "meNORTE_SANTANDER_384<- sample(1:nrow(data[data$departamento=='NORTE SANTANDER',]),size=neNORTE_SANTANDER,replace=FALSE)\n",
    "\n",
    "nePUTUMAYO<-2 # Cantidad de sujetos en PUTUMAYO\n",
    "mePUTUMAYO_384<- sample(1:nrow(data[data$departamento=='PUTUMAYO',]),size=nePUTUMAYO,replace=FALSE)\n",
    "\n",
    "neQUINDIO<-5 # Cantidad de sujetos en QUINDIO\n",
    "meQUINDIO_384<- sample(1:nrow(data[data$departamento=='QUINDIO',]),size=neQUINDIO,replace=FALSE)\n",
    "\n",
    "neRISARALDA<-9 # Cantidad de sujetos en RISARALDA\n",
    "meRISARALDA_384<- sample(1:nrow(data[data$departamento=='RISARALDA',]),size=neRISARALDA,replace=FALSE)\n",
    "\n",
    "neSAN_ANDRES<-1 # Cantidad de sujetos en SAN_ANDRES\n",
    "meSAN_ANDRES_384<- sample(1:nrow(data[data$departamento=='SAN ANDRES',]),size=neSAN_ANDRES,replace=FALSE)\n",
    "\n",
    "neSANTANDER<-20 # Cantidad de sujetos en SANTANDER\n",
    "meSANTANDER_384<- sample(1:nrow(data[data$departamento=='SANTANDER',]),size=neSANTANDER,replace=FALSE)\n",
    "\n",
    "neSUCRE<-6 # Cantidad de sujetos en SUCRE\n",
    "meSUCRE_384<- sample(1:nrow(data[data$departamento=='SUCRE',]),size=neSUCRE,replace=FALSE)\n",
    "\n",
    "neTOLIMA<-10 # Cantidad de sujetos en TOLIMA\n",
    "meTOLIMA_384<- sample(1:nrow(data[data$departamento=='TOLIMA',]),size=neTOLIMA,replace=FALSE)\n",
    "\n",
    "neVALLE<-30 # Cantidad de sujetos en VALLE\n",
    "meVALLE_384<- sample(1:nrow(data[data$departamento=='VALLE',]),size=neVALLE,replace=FALSE)\n",
    "\n",
    "neVAUPES<-1 # Cantidad de sujetos en VAUPES\n",
    "meVAUPES_384<- sample(1:nrow(data[data$departamento=='VAUPES',]),size=neVAUPES,replace=FALSE)\n",
    "\n",
    "neVICHADA<-1 # Cantidad de sujetos en VICHADA\n",
    "meVICHADA_384<- sample(1:nrow(data[data$departamento=='VICHADA',]),size=neVICHADA,replace=FALSE)\n",
    "\n",
    "estrato384<-c( meAMAZONAS_384,meANTIOQUIA_384,meARAUCA_384,meATLANTICO_384,meBOGOTA_384,meBOLIVAR_384,meBOYACA_384,meCALDAS_384,meCAQUETA_384,meCASANARE_384,meCAUCA_384,meCESAR_384,meCHOCO_384,meCORDOBA_384,meCUNDINAMARCA_384,meEXTRANJERO_384,meGUAINIA_384,meGUAVIARE_384,meHUILA_384,meGUAJIRA_384,meMAGDALENA_384,meMETA_384,meNARINO_384,meNORTE_SANTANDER_384,mePUTUMAYO_384,meQUINDIO_384,meRISARALDA_384,meSAN_ANDRES_384,meSANTANDER_384,meSUCRE_384,meTOLIMA_384,meVALLE_384,meVAUPES_384,meVICHADA_384) # Unimos los tres vectores                                                                       \n",
    "\n",
    "mc384<- data[estrato384,]\n",
    "head(mc384)"
   ]
  },
  {
   "cell_type": "code",
   "execution_count": 81,
   "metadata": {},
   "outputs": [
    {
     "data": {
      "image/png": "[encoded data removed]",
      "text/plain": [
       "Plot with title \"Histogram of comp_ciud_punt\""
      ]
     },
     "metadata": {
      "image/png": {
       "height": 720,
       "width": 720
      },
      "text/plain": {
       "height": 720,
       "width": 720
      }
     },
     "output_type": "display_data"
    }
   ],
   "source": [
    "par(mfrow=c(1,3))\n",
    "\n",
    "with(mc384, hist(raz_cuant_punt, nclass = 50, cex.main=2.5, cex.axis=1.5, cex.lab=1.5))\n",
    "with(mc384, hist(lect_crit_punt, nclass = 50, cex.main=2.5, cex.axis=1.5, cex.lab=1.5))\n",
    "with(mc384, hist(comp_ciud_punt, nclass = 50, cex.main=2.5, cex.axis=1.5, cex.lab=1.5))\n",
    "par(mfrow=c(1,1))"
   ]
  },
  {
   "cell_type": "markdown",
   "metadata": {},
   "source": [
    "<h3 align=\"left\">Muestreo Sistemático</h3><br> "
   ]
  },
  {
   "cell_type": "markdown",
   "metadata": {
    "slideshow": {
     "slide_type": "-"
    }
   },
   "source": [
    "El muestreo sistemático sí puede ser procedente debido a que no se observa alguna periodicidad en los datos a analizar, por lo que este probablemente sea lo suficientemente representativo"
   ]
  },
  {
   "cell_type": "code",
   "execution_count": 37,
   "metadata": {},
   "outputs": [
    {
     "data": {
      "image/png": "[encoded data removed]",
      "text/plain": [
       "Plot with title \"Histogram of comp_ciud_punt\""
      ]
     },
     "metadata": {
      "image/png": {
       "height": 720,
       "width": 720
      },
      "text/plain": {
       "height": 720,
       "width": 720
      }
     },
     "output_type": "display_data"
    }
   ],
   "source": [
    "msis<- sys.sample(N=nrow(data),n=384)\n",
    "d.msis<-data[msis,]\n",
    "par(mfrow=c(3,3))\n",
    "with(d.mas, hist(raz_cuant_punt, nclass = 50, cex.main=2.5, cex.axis=1.5, cex.lab=1.5))\n",
    "with(d.mas, hist(lect_crit_punt, nclass = 50, cex.main=2.5, cex.axis=1.5, cex.lab=1.5))\n",
    "with(d.mas, hist(comp_ciud_punt, nclass = 50, cex.main=2.5, cex.axis=1.5, cex.lab=1.5))\n",
    "\n",
    "with(data[mestratoraz,], hist(raz_cuant_punt, nclass = 50, cex.main=2.5, cex.axis=1.5, cex.lab=1.5))\n",
    "with(data[mestratolect,], hist(lect_crit_punt, nclass = 50, cex.main=2.5, cex.axis=1.5, cex.lab=1.5))\n",
    "with(data[mestratocomp,], hist(comp_ciud_punt, nclass = 50, cex.main=2.5, cex.axis=1.5, cex.lab=1.5))\n",
    "\n",
    "with(d.msis, hist(raz_cuant_punt, nclass = 50, cex.main=2.5, cex.axis=1.5, cex.lab=1.5))\n",
    "with(d.msis, hist(lect_crit_punt, nclass = 50, cex.main=2.5, cex.axis=1.5, cex.lab=1.5))\n",
    "with(d.msis, hist(comp_ciud_punt, nclass = 50, cex.main=2.5, cex.axis=1.5, cex.lab=1.5))\n",
    "\n",
    "par(mfrow=c(1,1))"
   ]
  },
  {
   "cell_type": "code",
   "execution_count": 41,
   "metadata": {},
   "outputs": [
    {
     "data": {
      "text/html": [
       "<table>\n",
       "<caption>A data.frame: 5 × 3</caption>\n",
       "<thead>\n",
       "\t<tr><th></th><th scope=col>stats.msis.raz.cuant</th><th scope=col>stats.msis.lect.crit</th><th scope=col>stats.msis.comp.ciud</th></tr>\n",
       "\t<tr><th></th><th scope=col>&lt;dbl&gt;</th><th scope=col>&lt;dbl&gt;</th><th scope=col>&lt;dbl&gt;</th></tr>\n",
       "</thead>\n",
       "<tbody>\n",
       "\t<tr><th scope=row>tamaño</th><td>384.0</td><td>384.0</td><td>384.0</td></tr>\n",
       "\t<tr><th scope=row>media</th><td>151.5</td><td>151.4</td><td>146.0</td></tr>\n",
       "\t<tr><th scope=row>desviación estándar</th><td> 33.6</td><td> 30.0</td><td> 33.4</td></tr>\n",
       "\t<tr><th scope=row>simetría</th><td>  0.5</td><td>  0.0</td><td> -0.5</td></tr>\n",
       "\t<tr><th scope=row>kurtosis</th><td>  1.0</td><td> -0.5</td><td>  1.7</td></tr>\n",
       "</tbody>\n",
       "</table>\n"
      ],
      "text/latex": [
       "A data.frame: 5 × 3\n",
       "\\begin{tabular}{r|lll}\n",
       "  & stats.msis.raz.cuant & stats.msis.lect.crit & stats.msis.comp.ciud\\\\\n",
       "  & <dbl> & <dbl> & <dbl>\\\\\n",
       "\\hline\n",
       "\ttamaño & 384.0 & 384.0 & 384.0\\\\\n",
       "\tmedia & 151.5 & 151.4 & 146.0\\\\\n",
       "\tdesviación estándar &  33.6 &  30.0 &  33.4\\\\\n",
       "\tsimetría &   0.5 &   0.0 &  -0.5\\\\\n",
       "\tkurtosis &   1.0 &  -0.5 &   1.7\\\\\n",
       "\\end{tabular}\n"
      ],
      "text/markdown": [
       "\n",
       "A data.frame: 5 × 3\n",
       "\n",
       "| <!--/--> | stats.msis.raz.cuant &lt;dbl&gt; | stats.msis.lect.crit &lt;dbl&gt; | stats.msis.comp.ciud &lt;dbl&gt; |\n",
       "|---|---|---|---|\n",
       "| tamaño | 384.0 | 384.0 | 384.0 |\n",
       "| media | 151.5 | 151.4 | 146.0 |\n",
       "| desviación estándar |  33.6 |  30.0 |  33.4 |\n",
       "| simetría |   0.5 |   0.0 |  -0.5 |\n",
       "| kurtosis |   1.0 |  -0.5 |   1.7 |\n",
       "\n"
      ],
      "text/plain": [
       "                    stats.msis.raz.cuant stats.msis.lect.crit\n",
       "tamaño              384.0                384.0               \n",
       "media               151.5                151.4               \n",
       "desviación estándar  33.6                 30.0               \n",
       "simetría              0.5                  0.0               \n",
       "kurtosis              1.0                 -0.5               \n",
       "                    stats.msis.comp.ciud\n",
       "tamaño              384.0               \n",
       "media               146.0               \n",
       "desviación estándar  33.4               \n",
       "simetría             -0.5               \n",
       "kurtosis              1.7               "
      ]
     },
     "metadata": {},
     "output_type": "display_data"
    }
   ],
   "source": [
    "#stats MAS\n",
    "stats.msis.raz.cuant<-round(mystats(data[msis,'raz_cuant_punt']),1)\n",
    "stats.msis.lect.crit<-round(mystats(data[msis,'lect_crit_punt']),1)\n",
    "stats.msis.comp.ciud<-round(mystats(data[msis,'comp_ciud_punt']),1)\n",
    "data.frame(stats.msis.raz.cuant,stats.msis.lect.crit,stats.msis.comp.ciud)"
   ]
  },
  {
   "cell_type": "code",
   "execution_count": 88,
   "metadata": {},
   "outputs": [
    {
     "data": {
      "text/html": [
       "<table>\n",
       "<caption>A data.frame: 1 × 7</caption>\n",
       "<thead>\n",
       "\t<tr><th scope=col>media</th><th scope=col>desv</th><th scope=col>N</th><th scope=col>error.est</th><th scope=col>error</th><th scope=col>lim.inf</th><th scope=col>lim.sup</th></tr>\n",
       "\t<tr><th scope=col>&lt;dbl&gt;</th><th scope=col>&lt;dbl&gt;</th><th scope=col>&lt;dbl&gt;</th><th scope=col>&lt;dbl&gt;</th><th scope=col>&lt;dbl&gt;</th><th scope=col>&lt;dbl&gt;</th><th scope=col>&lt;dbl&gt;</th></tr>\n",
       "</thead>\n",
       "<tbody>\n",
       "\t<tr><td>151.54</td><td>33.61</td><td>384</td><td>1.71</td><td>2.81</td><td>148.73</td><td>154.36</td></tr>\n",
       "</tbody>\n",
       "</table>\n"
      ],
      "text/latex": [
       "A data.frame: 1 × 7\n",
       "\\begin{tabular}{lllllll}\n",
       " media & desv & N & error.est & error & lim.inf & lim.sup\\\\\n",
       " <dbl> & <dbl> & <dbl> & <dbl> & <dbl> & <dbl> & <dbl>\\\\\n",
       "\\hline\n",
       "\t 151.54 & 33.61 & 384 & 1.71 & 2.81 & 148.73 & 154.36\\\\\n",
       "\\end{tabular}\n"
      ],
      "text/markdown": [
       "\n",
       "A data.frame: 1 × 7\n",
       "\n",
       "| media &lt;dbl&gt; | desv &lt;dbl&gt; | N &lt;dbl&gt; | error.est &lt;dbl&gt; | error &lt;dbl&gt; | lim.inf &lt;dbl&gt; | lim.sup &lt;dbl&gt; |\n",
       "|---|---|---|---|---|---|---|\n",
       "| 151.54 | 33.61 | 384 | 1.71 | 2.81 | 148.73 | 154.36 |\n",
       "\n"
      ],
      "text/plain": [
       "  media  desv  N   error.est error lim.inf lim.sup\n",
       "1 151.54 33.61 384 1.71      2.81  148.73  154.36 "
      ]
     },
     "metadata": {},
     "output_type": "display_data"
    },
    {
     "data": {
      "text/html": [
       "<table>\n",
       "<caption>A data.frame: 1 × 7</caption>\n",
       "<thead>\n",
       "\t<tr><th scope=col>media</th><th scope=col>desv</th><th scope=col>N</th><th scope=col>error.est</th><th scope=col>error</th><th scope=col>lim.inf</th><th scope=col>lim.sup</th></tr>\n",
       "\t<tr><th scope=col>&lt;dbl&gt;</th><th scope=col>&lt;dbl&gt;</th><th scope=col>&lt;dbl&gt;</th><th scope=col>&lt;dbl&gt;</th><th scope=col>&lt;dbl&gt;</th><th scope=col>&lt;dbl&gt;</th><th scope=col>&lt;dbl&gt;</th></tr>\n",
       "</thead>\n",
       "<tbody>\n",
       "\t<tr><td>151.44</td><td>30</td><td>384</td><td>1.53</td><td>2.51</td><td>148.93</td><td>153.95</td></tr>\n",
       "</tbody>\n",
       "</table>\n"
      ],
      "text/latex": [
       "A data.frame: 1 × 7\n",
       "\\begin{tabular}{lllllll}\n",
       " media & desv & N & error.est & error & lim.inf & lim.sup\\\\\n",
       " <dbl> & <dbl> & <dbl> & <dbl> & <dbl> & <dbl> & <dbl>\\\\\n",
       "\\hline\n",
       "\t 151.44 & 30 & 384 & 1.53 & 2.51 & 148.93 & 153.95\\\\\n",
       "\\end{tabular}\n"
      ],
      "text/markdown": [
       "\n",
       "A data.frame: 1 × 7\n",
       "\n",
       "| media &lt;dbl&gt; | desv &lt;dbl&gt; | N &lt;dbl&gt; | error.est &lt;dbl&gt; | error &lt;dbl&gt; | lim.inf &lt;dbl&gt; | lim.sup &lt;dbl&gt; |\n",
       "|---|---|---|---|---|---|---|\n",
       "| 151.44 | 30 | 384 | 1.53 | 2.51 | 148.93 | 153.95 |\n",
       "\n"
      ],
      "text/plain": [
       "  media  desv N   error.est error lim.inf lim.sup\n",
       "1 151.44 30   384 1.53      2.51  148.93  153.95 "
      ]
     },
     "metadata": {},
     "output_type": "display_data"
    },
    {
     "data": {
      "text/html": [
       "<table>\n",
       "<caption>A data.frame: 1 × 7</caption>\n",
       "<thead>\n",
       "\t<tr><th scope=col>media</th><th scope=col>desv</th><th scope=col>N</th><th scope=col>error.est</th><th scope=col>error</th><th scope=col>lim.inf</th><th scope=col>lim.sup</th></tr>\n",
       "\t<tr><th scope=col>&lt;dbl&gt;</th><th scope=col>&lt;dbl&gt;</th><th scope=col>&lt;dbl&gt;</th><th scope=col>&lt;dbl&gt;</th><th scope=col>&lt;dbl&gt;</th><th scope=col>&lt;dbl&gt;</th><th scope=col>&lt;dbl&gt;</th></tr>\n",
       "</thead>\n",
       "<tbody>\n",
       "\t<tr><td>145.97</td><td>33.35</td><td>384</td><td>1.7</td><td>2.79</td><td>143.18</td><td>148.76</td></tr>\n",
       "</tbody>\n",
       "</table>\n"
      ],
      "text/latex": [
       "A data.frame: 1 × 7\n",
       "\\begin{tabular}{lllllll}\n",
       " media & desv & N & error.est & error & lim.inf & lim.sup\\\\\n",
       " <dbl> & <dbl> & <dbl> & <dbl> & <dbl> & <dbl> & <dbl>\\\\\n",
       "\\hline\n",
       "\t 145.97 & 33.35 & 384 & 1.7 & 2.79 & 143.18 & 148.76\\\\\n",
       "\\end{tabular}\n"
      ],
      "text/markdown": [
       "\n",
       "A data.frame: 1 × 7\n",
       "\n",
       "| media &lt;dbl&gt; | desv &lt;dbl&gt; | N &lt;dbl&gt; | error.est &lt;dbl&gt; | error &lt;dbl&gt; | lim.inf &lt;dbl&gt; | lim.sup &lt;dbl&gt; |\n",
       "|---|---|---|---|---|---|---|\n",
       "| 145.97 | 33.35 | 384 | 1.7 | 2.79 | 143.18 | 148.76 |\n",
       "\n"
      ],
      "text/plain": [
       "  media  desv  N   error.est error lim.inf lim.sup\n",
       "1 145.97 33.35 384 1.7       2.79  143.18  148.76 "
      ]
     },
     "metadata": {},
     "output_type": "display_data"
    }
   ],
   "source": [
    "infms_raz_cuant90<- inf_manual(d.msis$raz_cuant_punt,1.64)\n",
    "round(infms_raz_cuant90,2)\n",
    "\n",
    "infms_lect_crit90<- inf_manual(d.msis$lect_crit_punt,1.64)\n",
    "round(infms_lect_crit90,2)\n",
    "\n",
    "infms_comp_ciud90<- inf_manual(d.msis$comp_ciud_punt,1.64)\n",
    "round(infms_comp_ciud90,2)"
   ]
  },
  {
   "cell_type": "code",
   "execution_count": 89,
   "metadata": {},
   "outputs": [
    {
     "data": {
      "text/html": [
       "<table>\n",
       "<caption>A data.frame: 1 × 7</caption>\n",
       "<thead>\n",
       "\t<tr><th scope=col>media</th><th scope=col>desv</th><th scope=col>N</th><th scope=col>error.est</th><th scope=col>error</th><th scope=col>lim.inf</th><th scope=col>lim.sup</th></tr>\n",
       "\t<tr><th scope=col>&lt;dbl&gt;</th><th scope=col>&lt;dbl&gt;</th><th scope=col>&lt;dbl&gt;</th><th scope=col>&lt;dbl&gt;</th><th scope=col>&lt;dbl&gt;</th><th scope=col>&lt;dbl&gt;</th><th scope=col>&lt;dbl&gt;</th></tr>\n",
       "</thead>\n",
       "<tbody>\n",
       "\t<tr><td>151.54</td><td>33.61</td><td>384</td><td>1.71</td><td>3.36</td><td>148.18</td><td>154.91</td></tr>\n",
       "</tbody>\n",
       "</table>\n"
      ],
      "text/latex": [
       "A data.frame: 1 × 7\n",
       "\\begin{tabular}{lllllll}\n",
       " media & desv & N & error.est & error & lim.inf & lim.sup\\\\\n",
       " <dbl> & <dbl> & <dbl> & <dbl> & <dbl> & <dbl> & <dbl>\\\\\n",
       "\\hline\n",
       "\t 151.54 & 33.61 & 384 & 1.71 & 3.36 & 148.18 & 154.91\\\\\n",
       "\\end{tabular}\n"
      ],
      "text/markdown": [
       "\n",
       "A data.frame: 1 × 7\n",
       "\n",
       "| media &lt;dbl&gt; | desv &lt;dbl&gt; | N &lt;dbl&gt; | error.est &lt;dbl&gt; | error &lt;dbl&gt; | lim.inf &lt;dbl&gt; | lim.sup &lt;dbl&gt; |\n",
       "|---|---|---|---|---|---|---|\n",
       "| 151.54 | 33.61 | 384 | 1.71 | 3.36 | 148.18 | 154.91 |\n",
       "\n"
      ],
      "text/plain": [
       "  media  desv  N   error.est error lim.inf lim.sup\n",
       "1 151.54 33.61 384 1.71      3.36  148.18  154.91 "
      ]
     },
     "metadata": {},
     "output_type": "display_data"
    },
    {
     "data": {
      "text/html": [
       "<table>\n",
       "<caption>A data.frame: 1 × 7</caption>\n",
       "<thead>\n",
       "\t<tr><th scope=col>media</th><th scope=col>desv</th><th scope=col>N</th><th scope=col>error.est</th><th scope=col>error</th><th scope=col>lim.inf</th><th scope=col>lim.sup</th></tr>\n",
       "\t<tr><th scope=col>&lt;dbl&gt;</th><th scope=col>&lt;dbl&gt;</th><th scope=col>&lt;dbl&gt;</th><th scope=col>&lt;dbl&gt;</th><th scope=col>&lt;dbl&gt;</th><th scope=col>&lt;dbl&gt;</th><th scope=col>&lt;dbl&gt;</th></tr>\n",
       "</thead>\n",
       "<tbody>\n",
       "\t<tr><td>151.44</td><td>30</td><td>384</td><td>1.53</td><td>3</td><td>148.44</td><td>154.44</td></tr>\n",
       "</tbody>\n",
       "</table>\n"
      ],
      "text/latex": [
       "A data.frame: 1 × 7\n",
       "\\begin{tabular}{lllllll}\n",
       " media & desv & N & error.est & error & lim.inf & lim.sup\\\\\n",
       " <dbl> & <dbl> & <dbl> & <dbl> & <dbl> & <dbl> & <dbl>\\\\\n",
       "\\hline\n",
       "\t 151.44 & 30 & 384 & 1.53 & 3 & 148.44 & 154.44\\\\\n",
       "\\end{tabular}\n"
      ],
      "text/markdown": [
       "\n",
       "A data.frame: 1 × 7\n",
       "\n",
       "| media &lt;dbl&gt; | desv &lt;dbl&gt; | N &lt;dbl&gt; | error.est &lt;dbl&gt; | error &lt;dbl&gt; | lim.inf &lt;dbl&gt; | lim.sup &lt;dbl&gt; |\n",
       "|---|---|---|---|---|---|---|\n",
       "| 151.44 | 30 | 384 | 1.53 | 3 | 148.44 | 154.44 |\n",
       "\n"
      ],
      "text/plain": [
       "  media  desv N   error.est error lim.inf lim.sup\n",
       "1 151.44 30   384 1.53      3     148.44  154.44 "
      ]
     },
     "metadata": {},
     "output_type": "display_data"
    },
    {
     "data": {
      "text/html": [
       "<table>\n",
       "<caption>A data.frame: 1 × 7</caption>\n",
       "<thead>\n",
       "\t<tr><th scope=col>media</th><th scope=col>desv</th><th scope=col>N</th><th scope=col>error.est</th><th scope=col>error</th><th scope=col>lim.inf</th><th scope=col>lim.sup</th></tr>\n",
       "\t<tr><th scope=col>&lt;dbl&gt;</th><th scope=col>&lt;dbl&gt;</th><th scope=col>&lt;dbl&gt;</th><th scope=col>&lt;dbl&gt;</th><th scope=col>&lt;dbl&gt;</th><th scope=col>&lt;dbl&gt;</th><th scope=col>&lt;dbl&gt;</th></tr>\n",
       "</thead>\n",
       "<tbody>\n",
       "\t<tr><td>145.97</td><td>33.35</td><td>384</td><td>1.7</td><td>3.34</td><td>142.63</td><td>149.3</td></tr>\n",
       "</tbody>\n",
       "</table>\n"
      ],
      "text/latex": [
       "A data.frame: 1 × 7\n",
       "\\begin{tabular}{lllllll}\n",
       " media & desv & N & error.est & error & lim.inf & lim.sup\\\\\n",
       " <dbl> & <dbl> & <dbl> & <dbl> & <dbl> & <dbl> & <dbl>\\\\\n",
       "\\hline\n",
       "\t 145.97 & 33.35 & 384 & 1.7 & 3.34 & 142.63 & 149.3\\\\\n",
       "\\end{tabular}\n"
      ],
      "text/markdown": [
       "\n",
       "A data.frame: 1 × 7\n",
       "\n",
       "| media &lt;dbl&gt; | desv &lt;dbl&gt; | N &lt;dbl&gt; | error.est &lt;dbl&gt; | error &lt;dbl&gt; | lim.inf &lt;dbl&gt; | lim.sup &lt;dbl&gt; |\n",
       "|---|---|---|---|---|---|---|\n",
       "| 145.97 | 33.35 | 384 | 1.7 | 3.34 | 142.63 | 149.3 |\n",
       "\n"
      ],
      "text/plain": [
       "  media  desv  N   error.est error lim.inf lim.sup\n",
       "1 145.97 33.35 384 1.7       3.34  142.63  149.3  "
      ]
     },
     "metadata": {},
     "output_type": "display_data"
    }
   ],
   "source": [
    "infms_raz_cuant95<- inf_manual(d.msis$raz_cuant_punt,1.96)\n",
    "round(infms_raz_cuant95,2)\n",
    "\n",
    "infms_lect_crit95<- inf_manual(d.msis$lect_crit_punt,1.96)\n",
    "round(infms_lect_crit95,2)\n",
    "\n",
    "infms_comp_ciud95<-inf_manual(d.msis$comp_ciud_punt,1.96)\n",
    "round(infms_comp_ciud95,2)"
   ]
  },
  {
   "cell_type": "code",
   "execution_count": 90,
   "metadata": {},
   "outputs": [
    {
     "data": {
      "text/html": [
       "<table>\n",
       "<caption>A data.frame: 1 × 7</caption>\n",
       "<thead>\n",
       "\t<tr><th scope=col>media</th><th scope=col>desv</th><th scope=col>N</th><th scope=col>error.est</th><th scope=col>error</th><th scope=col>lim.inf</th><th scope=col>lim.sup</th></tr>\n",
       "\t<tr><th scope=col>&lt;dbl&gt;</th><th scope=col>&lt;dbl&gt;</th><th scope=col>&lt;dbl&gt;</th><th scope=col>&lt;dbl&gt;</th><th scope=col>&lt;dbl&gt;</th><th scope=col>&lt;dbl&gt;</th><th scope=col>&lt;dbl&gt;</th></tr>\n",
       "</thead>\n",
       "<tbody>\n",
       "\t<tr><td>151.54</td><td>33.61</td><td>384</td><td>1.71</td><td>4.41</td><td>147.14</td><td>155.95</td></tr>\n",
       "</tbody>\n",
       "</table>\n"
      ],
      "text/latex": [
       "A data.frame: 1 × 7\n",
       "\\begin{tabular}{lllllll}\n",
       " media & desv & N & error.est & error & lim.inf & lim.sup\\\\\n",
       " <dbl> & <dbl> & <dbl> & <dbl> & <dbl> & <dbl> & <dbl>\\\\\n",
       "\\hline\n",
       "\t 151.54 & 33.61 & 384 & 1.71 & 4.41 & 147.14 & 155.95\\\\\n",
       "\\end{tabular}\n"
      ],
      "text/markdown": [
       "\n",
       "A data.frame: 1 × 7\n",
       "\n",
       "| media &lt;dbl&gt; | desv &lt;dbl&gt; | N &lt;dbl&gt; | error.est &lt;dbl&gt; | error &lt;dbl&gt; | lim.inf &lt;dbl&gt; | lim.sup &lt;dbl&gt; |\n",
       "|---|---|---|---|---|---|---|\n",
       "| 151.54 | 33.61 | 384 | 1.71 | 4.41 | 147.14 | 155.95 |\n",
       "\n"
      ],
      "text/plain": [
       "  media  desv  N   error.est error lim.inf lim.sup\n",
       "1 151.54 33.61 384 1.71      4.41  147.14  155.95 "
      ]
     },
     "metadata": {},
     "output_type": "display_data"
    },
    {
     "data": {
      "text/html": [
       "<table>\n",
       "<caption>A data.frame: 1 × 7</caption>\n",
       "<thead>\n",
       "\t<tr><th scope=col>media</th><th scope=col>desv</th><th scope=col>N</th><th scope=col>error.est</th><th scope=col>error</th><th scope=col>lim.inf</th><th scope=col>lim.sup</th></tr>\n",
       "\t<tr><th scope=col>&lt;dbl&gt;</th><th scope=col>&lt;dbl&gt;</th><th scope=col>&lt;dbl&gt;</th><th scope=col>&lt;dbl&gt;</th><th scope=col>&lt;dbl&gt;</th><th scope=col>&lt;dbl&gt;</th><th scope=col>&lt;dbl&gt;</th></tr>\n",
       "</thead>\n",
       "<tbody>\n",
       "\t<tr><td>151.44</td><td>30</td><td>384</td><td>1.53</td><td>3.93</td><td>147.51</td><td>155.38</td></tr>\n",
       "</tbody>\n",
       "</table>\n"
      ],
      "text/latex": [
       "A data.frame: 1 × 7\n",
       "\\begin{tabular}{lllllll}\n",
       " media & desv & N & error.est & error & lim.inf & lim.sup\\\\\n",
       " <dbl> & <dbl> & <dbl> & <dbl> & <dbl> & <dbl> & <dbl>\\\\\n",
       "\\hline\n",
       "\t 151.44 & 30 & 384 & 1.53 & 3.93 & 147.51 & 155.38\\\\\n",
       "\\end{tabular}\n"
      ],
      "text/markdown": [
       "\n",
       "A data.frame: 1 × 7\n",
       "\n",
       "| media &lt;dbl&gt; | desv &lt;dbl&gt; | N &lt;dbl&gt; | error.est &lt;dbl&gt; | error &lt;dbl&gt; | lim.inf &lt;dbl&gt; | lim.sup &lt;dbl&gt; |\n",
       "|---|---|---|---|---|---|---|\n",
       "| 151.44 | 30 | 384 | 1.53 | 3.93 | 147.51 | 155.38 |\n",
       "\n"
      ],
      "text/plain": [
       "  media  desv N   error.est error lim.inf lim.sup\n",
       "1 151.44 30   384 1.53      3.93  147.51  155.38 "
      ]
     },
     "metadata": {},
     "output_type": "display_data"
    },
    {
     "data": {
      "text/html": [
       "<table>\n",
       "<caption>A data.frame: 1 × 7</caption>\n",
       "<thead>\n",
       "\t<tr><th scope=col>media</th><th scope=col>desv</th><th scope=col>N</th><th scope=col>error.est</th><th scope=col>error</th><th scope=col>lim.inf</th><th scope=col>lim.sup</th></tr>\n",
       "\t<tr><th scope=col>&lt;dbl&gt;</th><th scope=col>&lt;dbl&gt;</th><th scope=col>&lt;dbl&gt;</th><th scope=col>&lt;dbl&gt;</th><th scope=col>&lt;dbl&gt;</th><th scope=col>&lt;dbl&gt;</th><th scope=col>&lt;dbl&gt;</th></tr>\n",
       "</thead>\n",
       "<tbody>\n",
       "\t<tr><td>145.97</td><td>33.35</td><td>384</td><td>1.7</td><td>4.37</td><td>141.59</td><td>150.34</td></tr>\n",
       "</tbody>\n",
       "</table>\n"
      ],
      "text/latex": [
       "A data.frame: 1 × 7\n",
       "\\begin{tabular}{lllllll}\n",
       " media & desv & N & error.est & error & lim.inf & lim.sup\\\\\n",
       " <dbl> & <dbl> & <dbl> & <dbl> & <dbl> & <dbl> & <dbl>\\\\\n",
       "\\hline\n",
       "\t 145.97 & 33.35 & 384 & 1.7 & 4.37 & 141.59 & 150.34\\\\\n",
       "\\end{tabular}\n"
      ],
      "text/markdown": [
       "\n",
       "A data.frame: 1 × 7\n",
       "\n",
       "| media &lt;dbl&gt; | desv &lt;dbl&gt; | N &lt;dbl&gt; | error.est &lt;dbl&gt; | error &lt;dbl&gt; | lim.inf &lt;dbl&gt; | lim.sup &lt;dbl&gt; |\n",
       "|---|---|---|---|---|---|---|\n",
       "| 145.97 | 33.35 | 384 | 1.7 | 4.37 | 141.59 | 150.34 |\n",
       "\n"
      ],
      "text/plain": [
       "  media  desv  N   error.est error lim.inf lim.sup\n",
       "1 145.97 33.35 384 1.7       4.37  141.59  150.34 "
      ]
     },
     "metadata": {},
     "output_type": "display_data"
    }
   ],
   "source": [
    "infms_raz_cuant99<-inf_manual(d.msis$raz_cuant_punt,2.57)\n",
    "round(infms_raz_cuant99,2)\n",
    "\n",
    "infms_lect_crit99<- inf_manual(d.msis$lect_crit_punt,2.57)\n",
    "round(infms_lect_crit99,2)\n",
    "\n",
    "infms_comp_ciud99<- inf_manual(d.msis$comp_ciud_punt,2.57)\n",
    "round(infms_comp_ciud99,2)"
   ]
  },
  {
   "cell_type": "markdown",
   "metadata": {},
   "source": [
    "<h3 align=\"left\">Análisis y Comparación</h3><br> "
   ]
  },
  {
   "cell_type": "code",
   "execution_count": null,
   "metadata": {},
   "outputs": [],
   "source": []
  }
 ],
 "metadata": {
  "kernelspec": {
   "display_name": "R",
   "language": "R",
   "name": "ir"
  },
  "language_info": {
   "codemirror_mode": "r",
   "file_extension": ".r",
   "mimetype": "text/x-r-source",
   "name": "R",
   "pygments_lexer": "r",
   "version": "4.0.0"
  }
 },
 "nbformat": 4,
 "nbformat_minor": 4
}
