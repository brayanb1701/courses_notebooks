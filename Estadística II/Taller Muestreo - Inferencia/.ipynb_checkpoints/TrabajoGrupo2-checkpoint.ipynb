{
 "cells": [
  {
   "cell_type": "markdown",
   "metadata": {},
   "source": [
    "<div style=\"text-align: justify\">\n",
    "<font size=6><br>\n",
    "<h4 align=\"center\">Estadística II</h4></font><font size=5><h4 align=\"center\">Grupo F1</h4></font> \n",
    "\n",
    "<font size=5><h4 align=\"left\">Intregrantes: </h4></font>      \n",
    "2172016 - Kevin Javier Lozano Galvis<br><br>\n",
    "2170688 - Brayan Rodolfo Barajas Ochoa<br><br>\n",
    "2160090 - Kevin Joel Dlaikan Castillo<br> \n",
    "    \n",
    "<font size=5><h4 align=\"center\">Trabajo Muestreo - Inferencia</h4></font>  \n",
    "\n",
    "\n",
    "      \n"
   ]
  },
  {
   "cell_type": "markdown",
   "metadata": {},
   "source": [
    " \n",
    "En los siguientes enlaces encontrará los datos relacionados con los resultados de las pruebas de estado para las Instituciones de Educación Superior (IES) colombianas de carácter universitario de los últimos tres (3) años: <br>\n",
    "\n",
    "https://www.dropbox.com/s/xgsf3l5gjw0h0q4/saberpro.RData?dl=1\n",
    "\n",
    "Considere estos datos como una población finita. Las variables que componen la tabla son:\n",
    "\n",
    "- **periodo:** año de realización de la prueba. La variable se presenta fragmentada debido al origen de los datos. Requiere agruparse adecuadamente. Para ello, consulte la función `revalue` y describa, brevemente, su funcionamiento.\n",
    "- **apli_consecutivo:** consecutivo asignado al estudiante en el momento de presentar la prueba. Único por estudiante. \n",
    "- **estu_depto_reside:** departamento de residencia del estudiante.\n",
    "- **estu_cod_reside_depto:** código DANE del departamento de residencia del estudiante.\n",
    "- **inst_cod_institucion:** código de la IES ante el ministerio. Único por Institución.\n",
    "- **inst_nombre_institucion:** Nombre de la Institución. Algunas presentan sedes y subsedes.\n",
    "- **raz_cuant_punt:** Puntaje Razonamiento Cuantitativo.\n",
    "- **raz_cuant_des:** Nivel de Desempeño Razonamiento Cuantitativo (categórica).\n",
    "- **lect_crit_punt:** Puntaje Lectura Crítica.\n",
    "- **lect_crit_des:** Nivel de Desempeño Lectura Crítica (categórica).\n",
    "- **comp_ciud_punt:** Puntaje Competencias Ciudadanas.\n",
    "- **comp_ciud_des:** Nivel de Desempeño Competencias Ciudadanas (categórica).\n",
    "- **ingles_punt:** Puntaje Inglés.\n",
    "- **ingles_desem:** Nivel de Desempeño en Inglés (categórica).\n",
    "- **comu_escr_punt:** Puntaje Comunicación Escrita.\n",
    "- **comu_escr_des:** Nivel de Desempeño Comunicación Escrita (categórica).\n",
    "\n",
    "Tenga en cuenta que algunas variables categóricas figuran como numéricas, haga la correspondiente transformación.\n",
    "\n",
    "Los puntos a desarrollar son:\n",
    "\n",
    "1. Realice muestreo aleatorio simple y realice las estimaciones (inferencia) correspondientes. Tenga en cuenta que son múltiples variables\n",
    "2. Realice los correspondientes muestreos estratificados y compare los resultados con los anteriores. Explique las diferencias y/o similitudes\n",
    "3. Realice los correspondientes muestreos por conglomerados y compare los resultados con los puntos 1 y 2. Explique las diferencias y/o similitudes\n",
    "4. ¿Considera que es procedente realizar un muestreo sistemático? Argumente su respuesta\n",
    "5. Si la respuesta del punto 4 fue positiva, realice el correspondiente muestreo y compare con los anteriores\n",
    "6. Para las estimaciones emplee los siguientes niveles de confianza: 90%, 95% y 99%.\n",
    "\n",
    "El trabajo puede entregarse en formato PDF o como notebook de jupyter\n",
    "\n",
    "**Recomendaciones:**\n",
    "\n",
    "- Procure tabular de manera adecuada las estimaciones para optimizar espacio\n",
    "- Evite extenderse en las explicaciones\n",
    "- Trate de optimizar el uso de gráficas (visite el siguiente repositorio si desea una guía: https://github.com/karlosmantilla/graficas-basicas-descriptivas-\n",
    "- Referencie las fórmulas empleadas en los cálculos"
   ]
  },
  {
   "cell_type": "markdown",
   "metadata": {},
   "source": [
    "<h3 align=\"center\">Desarrollo</h3><br> "
   ]
  },
  {
   "cell_type": "code",
   "execution_count": 1,
   "metadata": {},
   "outputs": [],
   "source": [
    "load(url('https://www.dropbox.com/s/xgsf3l5gjw0h0q4/saberpro.RData?dl=1')) # Se carga la Data esde una url"
   ]
  },
  {
   "cell_type": "code",
   "execution_count": 2,
   "metadata": {},
   "outputs": [
    {
     "data": {
      "text/html": [
       "'sp161718'"
      ],
      "text/latex": [
       "'sp161718'"
      ],
      "text/markdown": [
       "'sp161718'"
      ],
      "text/plain": [
       "[1] \"sp161718\""
      ]
     },
     "metadata": {},
     "output_type": "display_data"
    },
    {
     "data": {
      "text/html": [
       "<style>\n",
       ".list-inline {list-style: none; margin:0; padding: 0}\n",
       ".list-inline>li {display: inline-block}\n",
       ".list-inline>li:not(:last-child)::after {content: \"\\00b7\"; padding: 0 .5ex}\n",
       "</style>\n",
       "<ol class=list-inline><li>725295</li><li>16</li></ol>\n"
      ],
      "text/latex": [
       "\\begin{enumerate*}\n",
       "\\item 725295\n",
       "\\item 16\n",
       "\\end{enumerate*}\n"
      ],
      "text/markdown": [
       "1. 725295\n",
       "2. 16\n",
       "\n",
       "\n"
      ],
      "text/plain": [
       "[1] 725295     16"
      ]
     },
     "metadata": {},
     "output_type": "display_data"
    },
    {
     "data": {
      "text/html": [
       "<style>\n",
       ".list-inline {list-style: none; margin:0; padding: 0}\n",
       ".list-inline>li {display: inline-block}\n",
       ".list-inline>li:not(:last-child)::after {content: \"\\00b7\"; padding: 0 .5ex}\n",
       "</style>\n",
       "<ol class=list-inline><li>'periodo'</li><li>'apli_consecutivo'</li><li>'estu_depto_reside'</li><li>'estu_cod_reside_depto'</li><li>'inst_cod_institucion'</li><li>'inst_nombre_institucion'</li><li>'raz_cuant_punt'</li><li>'raz_cuant_des'</li><li>'lect_crit_punt'</li><li>'lect_crit_des'</li><li>'comp_ciud_punt'</li><li>'comp_ciud_des'</li><li>'ingles_punt'</li><li>'ingles_desem'</li><li>'comu_escr_punt'</li><li>'comu_escr_des'</li></ol>\n"
      ],
      "text/latex": [
       "\\begin{enumerate*}\n",
       "\\item 'periodo'\n",
       "\\item 'apli\\_consecutivo'\n",
       "\\item 'estu\\_depto\\_reside'\n",
       "\\item 'estu\\_cod\\_reside\\_depto'\n",
       "\\item 'inst\\_cod\\_institucion'\n",
       "\\item 'inst\\_nombre\\_institucion'\n",
       "\\item 'raz\\_cuant\\_punt'\n",
       "\\item 'raz\\_cuant\\_des'\n",
       "\\item 'lect\\_crit\\_punt'\n",
       "\\item 'lect\\_crit\\_des'\n",
       "\\item 'comp\\_ciud\\_punt'\n",
       "\\item 'comp\\_ciud\\_des'\n",
       "\\item 'ingles\\_punt'\n",
       "\\item 'ingles\\_desem'\n",
       "\\item 'comu\\_escr\\_punt'\n",
       "\\item 'comu\\_escr\\_des'\n",
       "\\end{enumerate*}\n"
      ],
      "text/markdown": [
       "1. 'periodo'\n",
       "2. 'apli_consecutivo'\n",
       "3. 'estu_depto_reside'\n",
       "4. 'estu_cod_reside_depto'\n",
       "5. 'inst_cod_institucion'\n",
       "6. 'inst_nombre_institucion'\n",
       "7. 'raz_cuant_punt'\n",
       "8. 'raz_cuant_des'\n",
       "9. 'lect_crit_punt'\n",
       "10. 'lect_crit_des'\n",
       "11. 'comp_ciud_punt'\n",
       "12. 'comp_ciud_des'\n",
       "13. 'ingles_punt'\n",
       "14. 'ingles_desem'\n",
       "15. 'comu_escr_punt'\n",
       "16. 'comu_escr_des'\n",
       "\n",
       "\n"
      ],
      "text/plain": [
       " [1] \"periodo\"                 \"apli_consecutivo\"       \n",
       " [3] \"estu_depto_reside\"       \"estu_cod_reside_depto\"  \n",
       " [5] \"inst_cod_institucion\"    \"inst_nombre_institucion\"\n",
       " [7] \"raz_cuant_punt\"          \"raz_cuant_des\"          \n",
       " [9] \"lect_crit_punt\"          \"lect_crit_des\"          \n",
       "[11] \"comp_ciud_punt\"          \"comp_ciud_des\"          \n",
       "[13] \"ingles_punt\"             \"ingles_desem\"           \n",
       "[15] \"comu_escr_punt\"          \"comu_escr_des\"          "
      ]
     },
     "metadata": {},
     "output_type": "display_data"
    }
   ],
   "source": [
    "ls()\n",
    "dim(sp161718) #dimensiones Dataframe\n",
    "names(sp161718) #Nombres Variables"
   ]
  },
  {
   "cell_type": "markdown",
   "metadata": {},
   "source": [
    "Es importante aclarar que las tres variables a analizar serán razonamiento cuantitativo, lectura crítica y competencias ciudadanas; cada una con su respectiva variable categórica. Además, se incluye el periodo y la variable a utilizar para conglomerados que será departamento"
   ]
  },
  {
   "cell_type": "code",
   "execution_count": 3,
   "metadata": {},
   "outputs": [],
   "source": [
    "data<-data.frame(periodo=sp161718$periodo, departamento=sp161718$estu_depto_reside, raz_cuant_punt=sp161718$raz_cuant_punt, raz_cuant_des=sp161718$raz_cuant_des, lect_crit_punt=sp161718$lect_crit_punt, lect_crit_des=sp161718$lect_crit_des, comp_ciud_punt=sp161718$comp_ciud_punt, comp_ciud_des=sp161718$comp_ciud_des) #Nuevo Dataframe a usar"
   ]
  },
  {
   "cell_type": "code",
   "execution_count": 4,
   "metadata": {},
   "outputs": [
    {
     "data": {
      "text/html": [
       "<style>\n",
       ".list-inline {list-style: none; margin:0; padding: 0}\n",
       ".list-inline>li {display: inline-block}\n",
       ".list-inline>li:not(:last-child)::after {content: \"\\00b7\"; padding: 0 .5ex}\n",
       "</style>\n",
       "<ol class=list-inline><li>20163</li><li>20162</li><li>20173</li><li>20172</li><li>20183</li><li>20182</li><li>20184</li></ol>\n"
      ],
      "text/latex": [
       "\\begin{enumerate*}\n",
       "\\item 20163\n",
       "\\item 20162\n",
       "\\item 20173\n",
       "\\item 20172\n",
       "\\item 20183\n",
       "\\item 20182\n",
       "\\item 20184\n",
       "\\end{enumerate*}\n"
      ],
      "text/markdown": [
       "1. 20163\n",
       "2. 20162\n",
       "3. 20173\n",
       "4. 20172\n",
       "5. 20183\n",
       "6. 20182\n",
       "7. 20184\n",
       "\n",
       "\n"
      ],
      "text/plain": [
       "[1] 20163 20162 20173 20172 20183 20182 20184"
      ]
     },
     "metadata": {},
     "output_type": "display_data"
    },
    {
     "data": {
      "text/html": [
       "<style>\n",
       ".list-inline {list-style: none; margin:0; padding: 0}\n",
       ".list-inline>li {display: inline-block}\n",
       ".list-inline>li:not(:last-child)::after {content: \"\\00b7\"; padding: 0 .5ex}\n",
       "</style>\n",
       "<ol class=list-inline><li>3</li><li>2</li><li>1</li><li>4</li></ol>\n"
      ],
      "text/latex": [
       "\\begin{enumerate*}\n",
       "\\item 3\n",
       "\\item 2\n",
       "\\item 1\n",
       "\\item 4\n",
       "\\end{enumerate*}\n"
      ],
      "text/markdown": [
       "1. 3\n",
       "2. 2\n",
       "3. 1\n",
       "4. 4\n",
       "\n",
       "\n"
      ],
      "text/plain": [
       "[1] 3 2 1 4"
      ]
     },
     "metadata": {},
     "output_type": "display_data"
    }
   ],
   "source": [
    "unique(data$periodo) #Se mira los tipos de periodo para utilizar revalue\n",
    "unique(data$raz_cuant_des) #Se mira los tipos de variable categórica para hacer conversión"
   ]
  },
  {
   "cell_type": "markdown",
   "metadata": {},
   "source": [
    "Primeramente, se hace el ajuste a la columna de periodo, para que esta contenga únicamente el año correspondiente. <br>\n",
    "La función revalue obtiene como parámetros una lista tipo factor y el vector de valores a reemplazar, en donde el índice es el valor a reemplazar y su dato correspondiente es el nuevo valor. "
   ]
  },
  {
   "cell_type": "code",
   "execution_count": 5,
   "metadata": {},
   "outputs": [],
   "source": [
    "library(plyr) #Librería necesaria para revalue"
   ]
  },
  {
   "cell_type": "code",
   "execution_count": 6,
   "metadata": {
    "scrolled": true
   },
   "outputs": [
    {
     "data": {
      "text/html": [
       "<table>\n",
       "<caption>A data.frame: 6 × 8</caption>\n",
       "<thead>\n",
       "\t<tr><th></th><th scope=col>periodo</th><th scope=col>departamento</th><th scope=col>raz_cuant_punt</th><th scope=col>raz_cuant_des</th><th scope=col>lect_crit_punt</th><th scope=col>lect_crit_des</th><th scope=col>comp_ciud_punt</th><th scope=col>comp_ciud_des</th></tr>\n",
       "\t<tr><th></th><th scope=col>&lt;fct&gt;</th><th scope=col>&lt;fct&gt;</th><th scope=col>&lt;int&gt;</th><th scope=col>&lt;fct&gt;</th><th scope=col>&lt;int&gt;</th><th scope=col>&lt;fct&gt;</th><th scope=col>&lt;int&gt;</th><th scope=col>&lt;fct&gt;</th></tr>\n",
       "</thead>\n",
       "<tbody>\n",
       "\t<tr><th scope=row>1</th><td>2016</td><td>ATLANTICO   </td><td>160</td><td>Bueno    </td><td>130</td><td>Aceptable </td><td>167</td><td>Bueno     </td></tr>\n",
       "\t<tr><th scope=row>2</th><td>2016</td><td>CUNDINAMARCA</td><td>138</td><td>Aceptable</td><td>132</td><td>Aceptable </td><td> 77</td><td>Deficiente</td></tr>\n",
       "\t<tr><th scope=row>3</th><td>2016</td><td>CALDAS      </td><td>146</td><td>Aceptable</td><td>157</td><td>Aceptable </td><td>150</td><td>Aceptable </td></tr>\n",
       "\t<tr><th scope=row>4</th><td>2016</td><td>MAGDALENA   </td><td>160</td><td>Bueno    </td><td>172</td><td>Bueno     </td><td>151</td><td>Aceptable </td></tr>\n",
       "\t<tr><th scope=row>5</th><td>2016</td><td>CORDOBA     </td><td>130</td><td>Aceptable</td><td>122</td><td>Deficiente</td><td>144</td><td>Aceptable </td></tr>\n",
       "\t<tr><th scope=row>6</th><td>2016</td><td>CAUCA       </td><td>159</td><td>Bueno    </td><td>129</td><td>Aceptable </td><td>147</td><td>Aceptable </td></tr>\n",
       "</tbody>\n",
       "</table>\n"
      ],
      "text/latex": [
       "A data.frame: 6 × 8\n",
       "\\begin{tabular}{r|llllllll}\n",
       "  & periodo & departamento & raz\\_cuant\\_punt & raz\\_cuant\\_des & lect\\_crit\\_punt & lect\\_crit\\_des & comp\\_ciud\\_punt & comp\\_ciud\\_des\\\\\n",
       "  & <fct> & <fct> & <int> & <fct> & <int> & <fct> & <int> & <fct>\\\\\n",
       "\\hline\n",
       "\t1 & 2016 & ATLANTICO    & 160 & Bueno     & 130 & Aceptable  & 167 & Bueno     \\\\\n",
       "\t2 & 2016 & CUNDINAMARCA & 138 & Aceptable & 132 & Aceptable  &  77 & Deficiente\\\\\n",
       "\t3 & 2016 & CALDAS       & 146 & Aceptable & 157 & Aceptable  & 150 & Aceptable \\\\\n",
       "\t4 & 2016 & MAGDALENA    & 160 & Bueno     & 172 & Bueno      & 151 & Aceptable \\\\\n",
       "\t5 & 2016 & CORDOBA      & 130 & Aceptable & 122 & Deficiente & 144 & Aceptable \\\\\n",
       "\t6 & 2016 & CAUCA        & 159 & Bueno     & 129 & Aceptable  & 147 & Aceptable \\\\\n",
       "\\end{tabular}\n"
      ],
      "text/markdown": [
       "\n",
       "A data.frame: 6 × 8\n",
       "\n",
       "| <!--/--> | periodo &lt;fct&gt; | departamento &lt;fct&gt; | raz_cuant_punt &lt;int&gt; | raz_cuant_des &lt;fct&gt; | lect_crit_punt &lt;int&gt; | lect_crit_des &lt;fct&gt; | comp_ciud_punt &lt;int&gt; | comp_ciud_des &lt;fct&gt; |\n",
       "|---|---|---|---|---|---|---|---|---|\n",
       "| 1 | 2016 | ATLANTICO    | 160 | Bueno     | 130 | Aceptable  | 167 | Bueno      |\n",
       "| 2 | 2016 | CUNDINAMARCA | 138 | Aceptable | 132 | Aceptable  |  77 | Deficiente |\n",
       "| 3 | 2016 | CALDAS       | 146 | Aceptable | 157 | Aceptable  | 150 | Aceptable  |\n",
       "| 4 | 2016 | MAGDALENA    | 160 | Bueno     | 172 | Bueno      | 151 | Aceptable  |\n",
       "| 5 | 2016 | CORDOBA      | 130 | Aceptable | 122 | Deficiente | 144 | Aceptable  |\n",
       "| 6 | 2016 | CAUCA        | 159 | Bueno     | 129 | Aceptable  | 147 | Aceptable  |\n",
       "\n"
      ],
      "text/plain": [
       "  periodo departamento raz_cuant_punt raz_cuant_des lect_crit_punt\n",
       "1 2016    ATLANTICO    160            Bueno         130           \n",
       "2 2016    CUNDINAMARCA 138            Aceptable     132           \n",
       "3 2016    CALDAS       146            Aceptable     157           \n",
       "4 2016    MAGDALENA    160            Bueno         172           \n",
       "5 2016    CORDOBA      130            Aceptable     122           \n",
       "6 2016    CAUCA        159            Bueno         129           \n",
       "  lect_crit_des comp_ciud_punt comp_ciud_des\n",
       "1 Aceptable     167            Bueno        \n",
       "2 Aceptable      77            Deficiente   \n",
       "3 Aceptable     150            Aceptable    \n",
       "4 Bueno         151            Aceptable    \n",
       "5 Deficiente    144            Aceptable    \n",
       "6 Aceptable     147            Aceptable    "
      ]
     },
     "metadata": {},
     "output_type": "display_data"
    }
   ],
   "source": [
    "temp<-factor(data$periodo) #Para aplicar la función revalue, es necesario pasarle una variable tipo factor\n",
    "#Se hace el ajuste para que periodo sea únicamente el año\n",
    "data$periodo<-revalue(temp, c(\"20163\"=\"2016\", \"20162\"=\"2016\", \"20173\"=\"2017\", \"20172\"=\"2017\",\"20183\"=\"2018\",\"20182\"=\"2018\",\"20184\"=\"2018\")) #Uso de revalue\n",
    "#Se hace la conversion de variables categoricas\n",
    "data$raz_cuant_des<-factor(data$raz_cuant_des, levels = c(1,2,3,4), labels = c(\"Deficiente\",\"Aceptable\",\"Bueno\",\"Excelente\"))\n",
    "data$lect_crit_des<-factor(data$lect_crit_des, levels = c(1,2,3,4), labels = c(\"Deficiente\",\"Aceptable\",\"Bueno\",\"Excelente\")) \n",
    "data$comp_ciud_des<-factor(data$comp_ciud_des, levels = c(1,2,3,4), labels = c(\"Deficiente\",\"Aceptable\",\"Bueno\",\"Excelente\")) \n",
    "head(data) #Se verifica que se hayan hecho los cambios correctamente"
   ]
  },
  {
   "cell_type": "markdown",
   "metadata": {},
   "source": [
    "A continuación se construye el negativo de la función de log-verosimilitud, el cual se usará más adelante para hacer estimación por máxima verosimilitud en cada muestreo. Matemáticamente se define\n",
    "$$\n",
    "{\\large\n",
    "- ln\\, L(\\theta) = - ln \\prod_{i=1}^{n} f\\left( x_{i}|\\theta\\right) = - \\sum_{i=1}^{n} ln\\, f\\left( x_{i}|\\theta\\right)\n",
    "}\n",
    "$$"
   ]
  },
  {
   "cell_type": "code",
   "execution_count": 91,
   "metadata": {},
   "outputs": [],
   "source": [
    "d.raz_cuant<-na.omit(data$raz_cuant_punt) # Para trabajar con los datos muestrales que requerimos\n",
    "NegLogLikrazcuant = function(mu,sigma){-sum(dnorm(d.raz_cuant,mu,sigma,log = TRUE))}\n",
    "\n",
    "d.lect_crit<-na.omit(data$lect_crit_punt) # Para trabajar con los datos muestrales que requerimos\n",
    "NegLogLiklectcrit = function(mu,sigma){-sum(dnorm(d.lect_crit,mu,sigma,log = TRUE))}\n",
    "\n",
    "d.comp_ciud<-na.omit(data$comp_ciud_punt) # Para trabajar con los datos muestrales que requerimos\n",
    "NegLogLikcompciud = function(mu,sigma){-sum(dnorm(d.comp_ciud,mu,sigma,log = TRUE))}"
   ]
  },
  {
   "cell_type": "code",
   "execution_count": 7,
   "metadata": {},
   "outputs": [],
   "source": [
    "#Función para obetener los principales datos estadísticos\n",
    "mystats <- function(x, na.omit=FALSE){\n",
    "  if (na.omit)\n",
    "    x <- x[!is.na(x)]\n",
    "  m <- mean(x)\n",
    "  n <- length(x)\n",
    "  s <- sd(x)\n",
    "  skew <- sum((x-m)^3/s^3)/n\n",
    "  kurt <- sum((x-m)^4/s^4)/n - 3\n",
    "  return(c(\"tamaño\"=n, \"media\"=m, \"desviación estándar\"=s, \"simetría\"=skew, \"kurtosis\"=kurt))\n",
    "}"
   ]
  },
  {
   "cell_type": "code",
   "execution_count": 8,
   "metadata": {},
   "outputs": [
    {
     "data": {
      "text/html": [
       "<table>\n",
       "<caption>A data.frame: 5 × 3</caption>\n",
       "<thead>\n",
       "\t<tr><th></th><th scope=col>stats.raz.cuant</th><th scope=col>stats.lect.crit</th><th scope=col>stats.comp.ciud</th></tr>\n",
       "\t<tr><th></th><th scope=col>&lt;dbl&gt;</th><th scope=col>&lt;dbl&gt;</th><th scope=col>&lt;dbl&gt;</th></tr>\n",
       "</thead>\n",
       "<tbody>\n",
       "\t<tr><th scope=row>tamaño</th><td>725295.0</td><td>725295.0</td><td>725295.0</td></tr>\n",
       "\t<tr><th scope=row>media</th><td>   149.5</td><td>   150.1</td><td>   144.8</td></tr>\n",
       "\t<tr><th scope=row>desviación estándar</th><td>    30.7</td><td>    31.0</td><td>    32.5</td></tr>\n",
       "\t<tr><th scope=row>simetría</th><td>     0.2</td><td>     0.0</td><td>    -0.1</td></tr>\n",
       "\t<tr><th scope=row>kurtosis</th><td>     0.1</td><td>    -0.3</td><td>     0.0</td></tr>\n",
       "</tbody>\n",
       "</table>\n"
      ],
      "text/latex": [
       "A data.frame: 5 × 3\n",
       "\\begin{tabular}{r|lll}\n",
       "  & stats.raz.cuant & stats.lect.crit & stats.comp.ciud\\\\\n",
       "  & <dbl> & <dbl> & <dbl>\\\\\n",
       "\\hline\n",
       "\ttamaño & 725295.0 & 725295.0 & 725295.0\\\\\n",
       "\tmedia &    149.5 &    150.1 &    144.8\\\\\n",
       "\tdesviación estándar &     30.7 &     31.0 &     32.5\\\\\n",
       "\tsimetría &      0.2 &      0.0 &     -0.1\\\\\n",
       "\tkurtosis &      0.1 &     -0.3 &      0.0\\\\\n",
       "\\end{tabular}\n"
      ],
      "text/markdown": [
       "\n",
       "A data.frame: 5 × 3\n",
       "\n",
       "| <!--/--> | stats.raz.cuant &lt;dbl&gt; | stats.lect.crit &lt;dbl&gt; | stats.comp.ciud &lt;dbl&gt; |\n",
       "|---|---|---|---|\n",
       "| tamaño | 725295.0 | 725295.0 | 725295.0 |\n",
       "| media |    149.5 |    150.1 |    144.8 |\n",
       "| desviación estándar |     30.7 |     31.0 |     32.5 |\n",
       "| simetría |      0.2 |      0.0 |     -0.1 |\n",
       "| kurtosis |      0.1 |     -0.3 |      0.0 |\n",
       "\n"
      ],
      "text/plain": [
       "                    stats.raz.cuant stats.lect.crit stats.comp.ciud\n",
       "tamaño              725295.0        725295.0        725295.0       \n",
       "media                  149.5           150.1           144.8       \n",
       "desviación estándar     30.7            31.0            32.5       \n",
       "simetría                 0.2             0.0            -0.1       \n",
       "kurtosis                 0.1            -0.3             0.0       "
      ]
     },
     "metadata": {},
     "output_type": "display_data"
    }
   ],
   "source": [
    "#stats poblacion\n",
    "stats.raz.cuant<-round(mystats(data[,'raz_cuant_punt']),1)\n",
    "stats.lect.crit<-round(mystats(data[,'lect_crit_punt']),1)\n",
    "stats.comp.ciud<-round(mystats(data[,'comp_ciud_punt']),1)\n",
    "data.frame(stats.raz.cuant,stats.lect.crit,stats.comp.ciud)"
   ]
  },
  {
   "cell_type": "code",
   "execution_count": 79,
   "metadata": {},
   "outputs": [],
   "source": [
    "#Librerias necesarias\n",
    "library(samplingbook)\n",
    "library(stats4) # para la función mle\n",
    "library(repr)\n",
    "options(repr.plot.width=12, repr.plot.height=12)"
   ]
  },
  {
   "cell_type": "markdown",
   "metadata": {},
   "source": [
    "<h3 align=\"left\">Tamaño de Muestra</h3>"
   ]
  },
  {
   "cell_type": "markdown",
   "metadata": {},
   "source": [
    "Antes de hacer cualquier muestreo, es necesario conocer el tamaño de muestra adecuado para la población. Esto se hace a continuación, para esto se toma un nivel de confianza de $95\\%$ y la proporción predeterminada de $0.5$."
   ]
  },
  {
   "cell_type": "code",
   "execution_count": 11,
   "metadata": {},
   "outputs": [
    {
     "name": "stdout",
     "output_type": "stream",
     "text": [
      "\n",
      "sample.size.prop object: Sample size for proportion estimate\n",
      "With finite population correction: N=725295, precision e=0.05 and expected proportion P=0.5\n",
      "\n",
      "Sample size needed: 384\n",
      "\n"
     ]
    }
   ],
   "source": [
    "tmuestra<-sample.size.prop(e=0.05, P = 0.5, N = nrow(data), level = 0.95)\n",
    "print(tmuestra)"
   ]
  },
  {
   "cell_type": "markdown",
   "metadata": {},
   "source": [
    "A continuación, se procede a realizar cada uno de los muestreos con sus respectivas inferencias para cada variable. <br>\n",
    "El análisis se realizará al final, de tal forma que se puedan comparar todos los muestreos realizados."
   ]
  },
  {
   "cell_type": "markdown",
   "metadata": {},
   "source": [
    "<h3 align=\"left\">Muestreo Aleatorio Simple</h3><br> "
   ]
  },
  {
   "cell_type": "code",
   "execution_count": 12,
   "metadata": {},
   "outputs": [
    {
     "data": {
      "image/png": "[encoded data removed]",
      "text/plain": [
       "Plot with title \"Competencias Ciudadanas (MAS)\""
      ]
     },
     "metadata": {
      "image/png": {
       "height": 720,
       "width": 720
      },
      "text/plain": {
       "height": 720,
       "width": 720
      }
     },
     "output_type": "display_data"
    }
   ],
   "source": [
    "mas<- sample(1:nrow(data),size=384,replace=FALSE) #Se realiza el MAS\n",
    "d.mas<-data[mas,]\n",
    "par(mfrow=c(3,2))\n",
    "with(d.mas, hist(raz_cuant_punt, nclass = 50, cex.main=2.5, cex.axis=1.5, cex.lab=1.5, main = 'Razonamiento Cuantitativo (MAS)'))\n",
    "with(d.mas, plot(raz_cuant_des,raz_cuant_punt, cex.main=2.5, cex.axis=1.5, cex.lab=1.5))\n",
    "with(d.mas, hist(lect_crit_punt, nclass = 50, cex.main=2.5, cex.axis=1.5, cex.lab=1.5, main = 'Lectura Crítica (MAS)'))\n",
    "with(d.mas, plot(lect_crit_des,lect_crit_punt,cex.main=2.5, cex.axis=1.5, cex.lab=1.5))\n",
    "with(d.mas, hist(comp_ciud_punt, nclass = 50, cex.main=2.5, cex.axis=1.5, cex.lab=1.5, main = 'Competencias Ciudadanas (MAS)'))\n",
    "with(d.mas, plot(comp_ciud_des,comp_ciud_punt, cex.main=2.5, cex.axis=1.5, cex.lab=1.5))\n",
    "par(mfrow=c(1,1))"
   ]
  },
  {
   "cell_type": "code",
   "execution_count": 13,
   "metadata": {
    "scrolled": true
   },
   "outputs": [
    {
     "data": {
      "text/html": [
       "<table>\n",
       "<caption>A data.frame: 5 × 3</caption>\n",
       "<thead>\n",
       "\t<tr><th></th><th scope=col>stats.mas.raz.cuant</th><th scope=col>stats.mas.lect.crit</th><th scope=col>stats.mas.comp.ciud</th></tr>\n",
       "\t<tr><th></th><th scope=col>&lt;dbl&gt;</th><th scope=col>&lt;dbl&gt;</th><th scope=col>&lt;dbl&gt;</th></tr>\n",
       "</thead>\n",
       "<tbody>\n",
       "\t<tr><th scope=row>tamaño</th><td>384.0</td><td>384.0</td><td>384.0</td></tr>\n",
       "\t<tr><th scope=row>media</th><td>149.6</td><td>148.6</td><td>143.5</td></tr>\n",
       "\t<tr><th scope=row>desviación estándar</th><td> 30.4</td><td> 30.6</td><td> 32.9</td></tr>\n",
       "\t<tr><th scope=row>simetría</th><td>  0.1</td><td>  0.2</td><td> -0.1</td></tr>\n",
       "\t<tr><th scope=row>kurtosis</th><td> -0.4</td><td> -0.3</td><td> -0.6</td></tr>\n",
       "</tbody>\n",
       "</table>\n"
      ],
      "text/latex": [
       "A data.frame: 5 × 3\n",
       "\\begin{tabular}{r|lll}\n",
       "  & stats.mas.raz.cuant & stats.mas.lect.crit & stats.mas.comp.ciud\\\\\n",
       "  & <dbl> & <dbl> & <dbl>\\\\\n",
       "\\hline\n",
       "\ttamaño & 384.0 & 384.0 & 384.0\\\\\n",
       "\tmedia & 149.6 & 148.6 & 143.5\\\\\n",
       "\tdesviación estándar &  30.4 &  30.6 &  32.9\\\\\n",
       "\tsimetría &   0.1 &   0.2 &  -0.1\\\\\n",
       "\tkurtosis &  -0.4 &  -0.3 &  -0.6\\\\\n",
       "\\end{tabular}\n"
      ],
      "text/markdown": [
       "\n",
       "A data.frame: 5 × 3\n",
       "\n",
       "| <!--/--> | stats.mas.raz.cuant &lt;dbl&gt; | stats.mas.lect.crit &lt;dbl&gt; | stats.mas.comp.ciud &lt;dbl&gt; |\n",
       "|---|---|---|---|\n",
       "| tamaño | 384.0 | 384.0 | 384.0 |\n",
       "| media | 149.6 | 148.6 | 143.5 |\n",
       "| desviación estándar |  30.4 |  30.6 |  32.9 |\n",
       "| simetría |   0.1 |   0.2 |  -0.1 |\n",
       "| kurtosis |  -0.4 |  -0.3 |  -0.6 |\n",
       "\n"
      ],
      "text/plain": [
       "                    stats.mas.raz.cuant stats.mas.lect.crit stats.mas.comp.ciud\n",
       "tamaño              384.0               384.0               384.0              \n",
       "media               149.6               148.6               143.5              \n",
       "desviación estándar  30.4                30.6                32.9              \n",
       "simetría              0.1                 0.2                -0.1              \n",
       "kurtosis             -0.4                -0.3                -0.6              "
      ]
     },
     "metadata": {},
     "output_type": "display_data"
    }
   ],
   "source": [
    "#stats MAS\n",
    "stats.mas.raz.cuant<-round(mystats(data[mas,'raz_cuant_punt']),1)\n",
    "stats.mas.lect.crit<-round(mystats(data[mas,'lect_crit_punt']),1)\n",
    "stats.mas.comp.ciud<-round(mystats(data[mas,'comp_ciud_punt']),1)\n",
    "data.frame(stats.mas.raz.cuant,stats.mas.lect.crit,stats.mas.comp.ciud)"
   ]
  },
  {
   "cell_type": "markdown",
   "metadata": {},
   "source": [
    "**Estimación por Máxima Verosimilitud**"
   ]
  },
  {
   "cell_type": "code",
   "execution_count": 92,
   "metadata": {},
   "outputs": [
    {
     "data": {
      "text/plain": [
       "Maximum likelihood estimation\n",
       "\n",
       "Call:\n",
       "mle(minuslogl = NegLogLikrazcuant, start = list(mu = mean(na.omit(d.mas$raz_cuant_punt)), \n",
       "    sigma = sd(na.omit(d.mas$raz_cuant_punt))))\n",
       "\n",
       "Coefficients:\n",
       "       Estimate Std. Error\n",
       "mu    149.45116 0.03603884\n",
       "sigma  30.69224 0.02548334\n",
       "\n",
       "-2 log L: 7025133 "
      ]
     },
     "metadata": {},
     "output_type": "display_data"
    },
    {
     "name": "stderr",
     "output_type": "stream",
     "text": [
      "Warning message in dnorm(d.lect_crit, mu, sigma, log = TRUE):\n",
      "\"NaNs produced\"\n",
      "Warning message in dnorm(d.lect_crit, mu, sigma, log = TRUE):\n",
      "\"NaNs produced\"\n"
     ]
    },
    {
     "data": {
      "text/plain": [
       "Maximum likelihood estimation\n",
       "\n",
       "Call:\n",
       "mle(minuslogl = NegLogLiklectcrit, start = list(mu = mean(na.omit(d.mas$lect_crit_punt)), \n",
       "    sigma = sd(na.omit(d.mas$lect_crit_punt))))\n",
       "\n",
       "Coefficients:\n",
       "       Estimate Std. Error\n",
       "mu    150.12227 0.03638785\n",
       "sigma  30.98946 0.02573013\n",
       "\n",
       "-2 log L: 7039112 "
      ]
     },
     "metadata": {},
     "output_type": "display_data"
    },
    {
     "name": "stderr",
     "output_type": "stream",
     "text": [
      "Warning message in dnorm(d.comp_ciud, mu, sigma, log = TRUE):\n",
      "\"NaNs produced\"\n",
      "Warning message in dnorm(d.comp_ciud, mu, sigma, log = TRUE):\n",
      "\"NaNs produced\"\n"
     ]
    },
    {
     "data": {
      "text/plain": [
       "Maximum likelihood estimation\n",
       "\n",
       "Call:\n",
       "mle(minuslogl = NegLogLikcompciud, start = list(mu = mean(na.omit(d.mas$comp_ciud_punt)), \n",
       "    sigma = sd(na.omit(d.mas$comp_ciud_punt))))\n",
       "\n",
       "Coefficients:\n",
       "       Estimate Std. Error\n",
       "mu    144.75917 0.03811955\n",
       "sigma  32.46423 0.02695458\n",
       "\n",
       "-2 log L: 7106553 "
      ]
     },
     "metadata": {},
     "output_type": "display_data"
    }
   ],
   "source": [
    "EMVraz.cuant.mas = mle(NegLogLikrazcuant, start = list(mu=mean(na.omit(d.mas$raz_cuant_punt)), sigma=sd(na.omit(d.mas$raz_cuant_punt))))\n",
    "summary(EMVraz.cuant.mas) # Para visualizar los valores\n",
    "                                               \n",
    "EMVlect.crit.mas = mle(NegLogLiklectcrit, start = list(mu=mean(na.omit(d.mas$lect_crit_punt)), sigma=sd(na.omit(d.mas$lect_crit_punt))))\n",
    "summary(EMVlect.crit.mas) # Para visualizar los valores\n",
    "                                               \n",
    "EMVcomp.ciud.mas = mle(NegLogLikcompciud, start = list(mu=mean(na.omit(d.mas$comp_ciud_punt)), sigma=sd(na.omit(d.mas$comp_ciud_punt))))\n",
    "summary(EMVcomp.ciud.mas) # Para visualizar los valores"
   ]
  },
  {
   "cell_type": "markdown",
   "metadata": {},
   "source": [
    "Comparando estas estimaciones de la media y la desviación a partir del MAS con la media y desviación poblacional, se puede observar que se tiene una aproximación muy buena en cada una de las variables seleccionadas."
   ]
  },
  {
   "cell_type": "markdown",
   "metadata": {},
   "source": [
    "**Intervalos de Confianza**"
   ]
  },
  {
   "cell_type": "code",
   "execution_count": 14,
   "metadata": {},
   "outputs": [],
   "source": [
    "inf_manual <- function(data, n_conf){\n",
    "    media <- mean(na.omit(data)) # Pedimos la media\n",
    "    desv <- sd(na.omit(data)) # La desviación estándar\n",
    "    N <- length(na.omit(data)) # El tamaño válido de la muestra\n",
    "    error.est <- desv/sqrt(N) # Calculamos el error estándar\n",
    "    error <- n_conf*error.est # Fijamos Z=2 para indicar un nivel de confianza de 95%\n",
    "    lim.inf <- media-error # Límite inferior del intervalo\n",
    "    lim.sup <- media+error # Límite superior del intervalo\n",
    "    inferencia<- data.frame(media, desv, N, error.est, error, lim.inf, lim.sup)\n",
    "  return(inferencia)\n",
    "}"
   ]
  },
  {
   "cell_type": "code",
   "execution_count": 15,
   "metadata": {},
   "outputs": [
    {
     "data": {
      "text/html": [
       "<table>\n",
       "<caption>A data.frame: 1 × 7</caption>\n",
       "<thead>\n",
       "\t<tr><th scope=col>media</th><th scope=col>desv</th><th scope=col>N</th><th scope=col>error.est</th><th scope=col>error</th><th scope=col>lim.inf</th><th scope=col>lim.sup</th></tr>\n",
       "\t<tr><th scope=col>&lt;dbl&gt;</th><th scope=col>&lt;dbl&gt;</th><th scope=col>&lt;dbl&gt;</th><th scope=col>&lt;dbl&gt;</th><th scope=col>&lt;dbl&gt;</th><th scope=col>&lt;dbl&gt;</th><th scope=col>&lt;dbl&gt;</th></tr>\n",
       "</thead>\n",
       "<tbody>\n",
       "\t<tr><td>149.55</td><td>30.37</td><td>384</td><td>1.55</td><td>2.54</td><td>147.01</td><td>152.1</td></tr>\n",
       "</tbody>\n",
       "</table>\n"
      ],
      "text/latex": [
       "A data.frame: 1 × 7\n",
       "\\begin{tabular}{lllllll}\n",
       " media & desv & N & error.est & error & lim.inf & lim.sup\\\\\n",
       " <dbl> & <dbl> & <dbl> & <dbl> & <dbl> & <dbl> & <dbl>\\\\\n",
       "\\hline\n",
       "\t 149.55 & 30.37 & 384 & 1.55 & 2.54 & 147.01 & 152.1\\\\\n",
       "\\end{tabular}\n"
      ],
      "text/markdown": [
       "\n",
       "A data.frame: 1 × 7\n",
       "\n",
       "| media &lt;dbl&gt; | desv &lt;dbl&gt; | N &lt;dbl&gt; | error.est &lt;dbl&gt; | error &lt;dbl&gt; | lim.inf &lt;dbl&gt; | lim.sup &lt;dbl&gt; |\n",
       "|---|---|---|---|---|---|---|\n",
       "| 149.55 | 30.37 | 384 | 1.55 | 2.54 | 147.01 | 152.1 |\n",
       "\n"
      ],
      "text/plain": [
       "  media  desv  N   error.est error lim.inf lim.sup\n",
       "1 149.55 30.37 384 1.55      2.54  147.01  152.1  "
      ]
     },
     "metadata": {},
     "output_type": "display_data"
    },
    {
     "data": {
      "text/html": [
       "<table>\n",
       "<caption>A data.frame: 1 × 7</caption>\n",
       "<thead>\n",
       "\t<tr><th scope=col>media</th><th scope=col>desv</th><th scope=col>N</th><th scope=col>error.est</th><th scope=col>error</th><th scope=col>lim.inf</th><th scope=col>lim.sup</th></tr>\n",
       "\t<tr><th scope=col>&lt;dbl&gt;</th><th scope=col>&lt;dbl&gt;</th><th scope=col>&lt;dbl&gt;</th><th scope=col>&lt;dbl&gt;</th><th scope=col>&lt;dbl&gt;</th><th scope=col>&lt;dbl&gt;</th><th scope=col>&lt;dbl&gt;</th></tr>\n",
       "</thead>\n",
       "<tbody>\n",
       "\t<tr><td>148.58</td><td>30.57</td><td>384</td><td>1.56</td><td>2.56</td><td>146.02</td><td>151.14</td></tr>\n",
       "</tbody>\n",
       "</table>\n"
      ],
      "text/latex": [
       "A data.frame: 1 × 7\n",
       "\\begin{tabular}{lllllll}\n",
       " media & desv & N & error.est & error & lim.inf & lim.sup\\\\\n",
       " <dbl> & <dbl> & <dbl> & <dbl> & <dbl> & <dbl> & <dbl>\\\\\n",
       "\\hline\n",
       "\t 148.58 & 30.57 & 384 & 1.56 & 2.56 & 146.02 & 151.14\\\\\n",
       "\\end{tabular}\n"
      ],
      "text/markdown": [
       "\n",
       "A data.frame: 1 × 7\n",
       "\n",
       "| media &lt;dbl&gt; | desv &lt;dbl&gt; | N &lt;dbl&gt; | error.est &lt;dbl&gt; | error &lt;dbl&gt; | lim.inf &lt;dbl&gt; | lim.sup &lt;dbl&gt; |\n",
       "|---|---|---|---|---|---|---|\n",
       "| 148.58 | 30.57 | 384 | 1.56 | 2.56 | 146.02 | 151.14 |\n",
       "\n"
      ],
      "text/plain": [
       "  media  desv  N   error.est error lim.inf lim.sup\n",
       "1 148.58 30.57 384 1.56      2.56  146.02  151.14 "
      ]
     },
     "metadata": {},
     "output_type": "display_data"
    },
    {
     "data": {
      "text/html": [
       "<table>\n",
       "<caption>A data.frame: 1 × 7</caption>\n",
       "<thead>\n",
       "\t<tr><th scope=col>media</th><th scope=col>desv</th><th scope=col>N</th><th scope=col>error.est</th><th scope=col>error</th><th scope=col>lim.inf</th><th scope=col>lim.sup</th></tr>\n",
       "\t<tr><th scope=col>&lt;dbl&gt;</th><th scope=col>&lt;dbl&gt;</th><th scope=col>&lt;dbl&gt;</th><th scope=col>&lt;dbl&gt;</th><th scope=col>&lt;dbl&gt;</th><th scope=col>&lt;dbl&gt;</th><th scope=col>&lt;dbl&gt;</th></tr>\n",
       "</thead>\n",
       "<tbody>\n",
       "\t<tr><td>143.51</td><td>32.9</td><td>384</td><td>1.68</td><td>2.75</td><td>140.76</td><td>146.27</td></tr>\n",
       "</tbody>\n",
       "</table>\n"
      ],
      "text/latex": [
       "A data.frame: 1 × 7\n",
       "\\begin{tabular}{lllllll}\n",
       " media & desv & N & error.est & error & lim.inf & lim.sup\\\\\n",
       " <dbl> & <dbl> & <dbl> & <dbl> & <dbl> & <dbl> & <dbl>\\\\\n",
       "\\hline\n",
       "\t 143.51 & 32.9 & 384 & 1.68 & 2.75 & 140.76 & 146.27\\\\\n",
       "\\end{tabular}\n"
      ],
      "text/markdown": [
       "\n",
       "A data.frame: 1 × 7\n",
       "\n",
       "| media &lt;dbl&gt; | desv &lt;dbl&gt; | N &lt;dbl&gt; | error.est &lt;dbl&gt; | error &lt;dbl&gt; | lim.inf &lt;dbl&gt; | lim.sup &lt;dbl&gt; |\n",
       "|---|---|---|---|---|---|---|\n",
       "| 143.51 | 32.9 | 384 | 1.68 | 2.75 | 140.76 | 146.27 |\n",
       "\n"
      ],
      "text/plain": [
       "  media  desv N   error.est error lim.inf lim.sup\n",
       "1 143.51 32.9 384 1.68      2.75  140.76  146.27 "
      ]
     },
     "metadata": {},
     "output_type": "display_data"
    }
   ],
   "source": [
    "infmas_raz_cuant90<- inf_manual(d.mas$raz_cuant_punt,1.64)\n",
    "round(infmas_raz_cuant90,2)\n",
    "\n",
    "infmas_lect_crit90<- inf_manual(d.mas$lect_crit_punt,1.64)\n",
    "round(infmas_lect_crit90,2)\n",
    "\n",
    "infmas_comp_ciud90<- inf_manual(d.mas$comp_ciud_punt,1.64)\n",
    "round(infmas_comp_ciud90,2)"
   ]
  },
  {
   "cell_type": "code",
   "execution_count": 16,
   "metadata": {},
   "outputs": [
    {
     "data": {
      "text/html": [
       "<table>\n",
       "<caption>A data.frame: 1 × 7</caption>\n",
       "<thead>\n",
       "\t<tr><th scope=col>media</th><th scope=col>desv</th><th scope=col>N</th><th scope=col>error.est</th><th scope=col>error</th><th scope=col>lim.inf</th><th scope=col>lim.sup</th></tr>\n",
       "\t<tr><th scope=col>&lt;dbl&gt;</th><th scope=col>&lt;dbl&gt;</th><th scope=col>&lt;dbl&gt;</th><th scope=col>&lt;dbl&gt;</th><th scope=col>&lt;dbl&gt;</th><th scope=col>&lt;dbl&gt;</th><th scope=col>&lt;dbl&gt;</th></tr>\n",
       "</thead>\n",
       "<tbody>\n",
       "\t<tr><td>149.55</td><td>30.37</td><td>384</td><td>1.55</td><td>3.04</td><td>146.52</td><td>152.59</td></tr>\n",
       "</tbody>\n",
       "</table>\n"
      ],
      "text/latex": [
       "A data.frame: 1 × 7\n",
       "\\begin{tabular}{lllllll}\n",
       " media & desv & N & error.est & error & lim.inf & lim.sup\\\\\n",
       " <dbl> & <dbl> & <dbl> & <dbl> & <dbl> & <dbl> & <dbl>\\\\\n",
       "\\hline\n",
       "\t 149.55 & 30.37 & 384 & 1.55 & 3.04 & 146.52 & 152.59\\\\\n",
       "\\end{tabular}\n"
      ],
      "text/markdown": [
       "\n",
       "A data.frame: 1 × 7\n",
       "\n",
       "| media &lt;dbl&gt; | desv &lt;dbl&gt; | N &lt;dbl&gt; | error.est &lt;dbl&gt; | error &lt;dbl&gt; | lim.inf &lt;dbl&gt; | lim.sup &lt;dbl&gt; |\n",
       "|---|---|---|---|---|---|---|\n",
       "| 149.55 | 30.37 | 384 | 1.55 | 3.04 | 146.52 | 152.59 |\n",
       "\n"
      ],
      "text/plain": [
       "  media  desv  N   error.est error lim.inf lim.sup\n",
       "1 149.55 30.37 384 1.55      3.04  146.52  152.59 "
      ]
     },
     "metadata": {},
     "output_type": "display_data"
    },
    {
     "data": {
      "text/html": [
       "<table>\n",
       "<caption>A data.frame: 1 × 7</caption>\n",
       "<thead>\n",
       "\t<tr><th scope=col>media</th><th scope=col>desv</th><th scope=col>N</th><th scope=col>error.est</th><th scope=col>error</th><th scope=col>lim.inf</th><th scope=col>lim.sup</th></tr>\n",
       "\t<tr><th scope=col>&lt;dbl&gt;</th><th scope=col>&lt;dbl&gt;</th><th scope=col>&lt;dbl&gt;</th><th scope=col>&lt;dbl&gt;</th><th scope=col>&lt;dbl&gt;</th><th scope=col>&lt;dbl&gt;</th><th scope=col>&lt;dbl&gt;</th></tr>\n",
       "</thead>\n",
       "<tbody>\n",
       "\t<tr><td>148.58</td><td>30.57</td><td>384</td><td>1.56</td><td>3.06</td><td>145.52</td><td>151.64</td></tr>\n",
       "</tbody>\n",
       "</table>\n"
      ],
      "text/latex": [
       "A data.frame: 1 × 7\n",
       "\\begin{tabular}{lllllll}\n",
       " media & desv & N & error.est & error & lim.inf & lim.sup\\\\\n",
       " <dbl> & <dbl> & <dbl> & <dbl> & <dbl> & <dbl> & <dbl>\\\\\n",
       "\\hline\n",
       "\t 148.58 & 30.57 & 384 & 1.56 & 3.06 & 145.52 & 151.64\\\\\n",
       "\\end{tabular}\n"
      ],
      "text/markdown": [
       "\n",
       "A data.frame: 1 × 7\n",
       "\n",
       "| media &lt;dbl&gt; | desv &lt;dbl&gt; | N &lt;dbl&gt; | error.est &lt;dbl&gt; | error &lt;dbl&gt; | lim.inf &lt;dbl&gt; | lim.sup &lt;dbl&gt; |\n",
       "|---|---|---|---|---|---|---|\n",
       "| 148.58 | 30.57 | 384 | 1.56 | 3.06 | 145.52 | 151.64 |\n",
       "\n"
      ],
      "text/plain": [
       "  media  desv  N   error.est error lim.inf lim.sup\n",
       "1 148.58 30.57 384 1.56      3.06  145.52  151.64 "
      ]
     },
     "metadata": {},
     "output_type": "display_data"
    },
    {
     "data": {
      "text/html": [
       "<table>\n",
       "<caption>A data.frame: 1 × 7</caption>\n",
       "<thead>\n",
       "\t<tr><th scope=col>media</th><th scope=col>desv</th><th scope=col>N</th><th scope=col>error.est</th><th scope=col>error</th><th scope=col>lim.inf</th><th scope=col>lim.sup</th></tr>\n",
       "\t<tr><th scope=col>&lt;dbl&gt;</th><th scope=col>&lt;dbl&gt;</th><th scope=col>&lt;dbl&gt;</th><th scope=col>&lt;dbl&gt;</th><th scope=col>&lt;dbl&gt;</th><th scope=col>&lt;dbl&gt;</th><th scope=col>&lt;dbl&gt;</th></tr>\n",
       "</thead>\n",
       "<tbody>\n",
       "\t<tr><td>143.51</td><td>32.9</td><td>384</td><td>1.68</td><td>3.29</td><td>140.22</td><td>146.8</td></tr>\n",
       "</tbody>\n",
       "</table>\n"
      ],
      "text/latex": [
       "A data.frame: 1 × 7\n",
       "\\begin{tabular}{lllllll}\n",
       " media & desv & N & error.est & error & lim.inf & lim.sup\\\\\n",
       " <dbl> & <dbl> & <dbl> & <dbl> & <dbl> & <dbl> & <dbl>\\\\\n",
       "\\hline\n",
       "\t 143.51 & 32.9 & 384 & 1.68 & 3.29 & 140.22 & 146.8\\\\\n",
       "\\end{tabular}\n"
      ],
      "text/markdown": [
       "\n",
       "A data.frame: 1 × 7\n",
       "\n",
       "| media &lt;dbl&gt; | desv &lt;dbl&gt; | N &lt;dbl&gt; | error.est &lt;dbl&gt; | error &lt;dbl&gt; | lim.inf &lt;dbl&gt; | lim.sup &lt;dbl&gt; |\n",
       "|---|---|---|---|---|---|---|\n",
       "| 143.51 | 32.9 | 384 | 1.68 | 3.29 | 140.22 | 146.8 |\n",
       "\n"
      ],
      "text/plain": [
       "  media  desv N   error.est error lim.inf lim.sup\n",
       "1 143.51 32.9 384 1.68      3.29  140.22  146.8  "
      ]
     },
     "metadata": {},
     "output_type": "display_data"
    }
   ],
   "source": [
    "infmas_raz_cuant95<- inf_manual(d.mas$raz_cuant_punt,1.96)\n",
    "round(infmas_raz_cuant95,2)\n",
    "\n",
    "infmas_lect_crit95<- inf_manual(d.mas$lect_crit_punt,1.96)\n",
    "round(infmas_lect_crit95,2)\n",
    "\n",
    "infmas_comp_ciud95<- inf_manual(d.mas$comp_ciud_punt,1.96)\n",
    "round(infmas_comp_ciud95,2)"
   ]
  },
  {
   "cell_type": "code",
   "execution_count": 17,
   "metadata": {},
   "outputs": [
    {
     "data": {
      "text/html": [
       "<table>\n",
       "<caption>A data.frame: 1 × 7</caption>\n",
       "<thead>\n",
       "\t<tr><th scope=col>media</th><th scope=col>desv</th><th scope=col>N</th><th scope=col>error.est</th><th scope=col>error</th><th scope=col>lim.inf</th><th scope=col>lim.sup</th></tr>\n",
       "\t<tr><th scope=col>&lt;dbl&gt;</th><th scope=col>&lt;dbl&gt;</th><th scope=col>&lt;dbl&gt;</th><th scope=col>&lt;dbl&gt;</th><th scope=col>&lt;dbl&gt;</th><th scope=col>&lt;dbl&gt;</th><th scope=col>&lt;dbl&gt;</th></tr>\n",
       "</thead>\n",
       "<tbody>\n",
       "\t<tr><td>149.55</td><td>30.37</td><td>384</td><td>1.55</td><td>3.98</td><td>145.57</td><td>153.54</td></tr>\n",
       "</tbody>\n",
       "</table>\n"
      ],
      "text/latex": [
       "A data.frame: 1 × 7\n",
       "\\begin{tabular}{lllllll}\n",
       " media & desv & N & error.est & error & lim.inf & lim.sup\\\\\n",
       " <dbl> & <dbl> & <dbl> & <dbl> & <dbl> & <dbl> & <dbl>\\\\\n",
       "\\hline\n",
       "\t 149.55 & 30.37 & 384 & 1.55 & 3.98 & 145.57 & 153.54\\\\\n",
       "\\end{tabular}\n"
      ],
      "text/markdown": [
       "\n",
       "A data.frame: 1 × 7\n",
       "\n",
       "| media &lt;dbl&gt; | desv &lt;dbl&gt; | N &lt;dbl&gt; | error.est &lt;dbl&gt; | error &lt;dbl&gt; | lim.inf &lt;dbl&gt; | lim.sup &lt;dbl&gt; |\n",
       "|---|---|---|---|---|---|---|\n",
       "| 149.55 | 30.37 | 384 | 1.55 | 3.98 | 145.57 | 153.54 |\n",
       "\n"
      ],
      "text/plain": [
       "  media  desv  N   error.est error lim.inf lim.sup\n",
       "1 149.55 30.37 384 1.55      3.98  145.57  153.54 "
      ]
     },
     "metadata": {},
     "output_type": "display_data"
    },
    {
     "data": {
      "text/html": [
       "<table>\n",
       "<caption>A data.frame: 1 × 7</caption>\n",
       "<thead>\n",
       "\t<tr><th scope=col>media</th><th scope=col>desv</th><th scope=col>N</th><th scope=col>error.est</th><th scope=col>error</th><th scope=col>lim.inf</th><th scope=col>lim.sup</th></tr>\n",
       "\t<tr><th scope=col>&lt;dbl&gt;</th><th scope=col>&lt;dbl&gt;</th><th scope=col>&lt;dbl&gt;</th><th scope=col>&lt;dbl&gt;</th><th scope=col>&lt;dbl&gt;</th><th scope=col>&lt;dbl&gt;</th><th scope=col>&lt;dbl&gt;</th></tr>\n",
       "</thead>\n",
       "<tbody>\n",
       "\t<tr><td>148.58</td><td>30.57</td><td>384</td><td>1.56</td><td>4.01</td><td>144.57</td><td>152.59</td></tr>\n",
       "</tbody>\n",
       "</table>\n"
      ],
      "text/latex": [
       "A data.frame: 1 × 7\n",
       "\\begin{tabular}{lllllll}\n",
       " media & desv & N & error.est & error & lim.inf & lim.sup\\\\\n",
       " <dbl> & <dbl> & <dbl> & <dbl> & <dbl> & <dbl> & <dbl>\\\\\n",
       "\\hline\n",
       "\t 148.58 & 30.57 & 384 & 1.56 & 4.01 & 144.57 & 152.59\\\\\n",
       "\\end{tabular}\n"
      ],
      "text/markdown": [
       "\n",
       "A data.frame: 1 × 7\n",
       "\n",
       "| media &lt;dbl&gt; | desv &lt;dbl&gt; | N &lt;dbl&gt; | error.est &lt;dbl&gt; | error &lt;dbl&gt; | lim.inf &lt;dbl&gt; | lim.sup &lt;dbl&gt; |\n",
       "|---|---|---|---|---|---|---|\n",
       "| 148.58 | 30.57 | 384 | 1.56 | 4.01 | 144.57 | 152.59 |\n",
       "\n"
      ],
      "text/plain": [
       "  media  desv  N   error.est error lim.inf lim.sup\n",
       "1 148.58 30.57 384 1.56      4.01  144.57  152.59 "
      ]
     },
     "metadata": {},
     "output_type": "display_data"
    },
    {
     "data": {
      "text/html": [
       "<table>\n",
       "<caption>A data.frame: 1 × 7</caption>\n",
       "<thead>\n",
       "\t<tr><th scope=col>media</th><th scope=col>desv</th><th scope=col>N</th><th scope=col>error.est</th><th scope=col>error</th><th scope=col>lim.inf</th><th scope=col>lim.sup</th></tr>\n",
       "\t<tr><th scope=col>&lt;dbl&gt;</th><th scope=col>&lt;dbl&gt;</th><th scope=col>&lt;dbl&gt;</th><th scope=col>&lt;dbl&gt;</th><th scope=col>&lt;dbl&gt;</th><th scope=col>&lt;dbl&gt;</th><th scope=col>&lt;dbl&gt;</th></tr>\n",
       "</thead>\n",
       "<tbody>\n",
       "\t<tr><td>143.51</td><td>32.9</td><td>384</td><td>1.68</td><td>4.32</td><td>139.2</td><td>147.83</td></tr>\n",
       "</tbody>\n",
       "</table>\n"
      ],
      "text/latex": [
       "A data.frame: 1 × 7\n",
       "\\begin{tabular}{lllllll}\n",
       " media & desv & N & error.est & error & lim.inf & lim.sup\\\\\n",
       " <dbl> & <dbl> & <dbl> & <dbl> & <dbl> & <dbl> & <dbl>\\\\\n",
       "\\hline\n",
       "\t 143.51 & 32.9 & 384 & 1.68 & 4.32 & 139.2 & 147.83\\\\\n",
       "\\end{tabular}\n"
      ],
      "text/markdown": [
       "\n",
       "A data.frame: 1 × 7\n",
       "\n",
       "| media &lt;dbl&gt; | desv &lt;dbl&gt; | N &lt;dbl&gt; | error.est &lt;dbl&gt; | error &lt;dbl&gt; | lim.inf &lt;dbl&gt; | lim.sup &lt;dbl&gt; |\n",
       "|---|---|---|---|---|---|---|\n",
       "| 143.51 | 32.9 | 384 | 1.68 | 4.32 | 139.2 | 147.83 |\n",
       "\n"
      ],
      "text/plain": [
       "  media  desv N   error.est error lim.inf lim.sup\n",
       "1 143.51 32.9 384 1.68      4.32  139.2   147.83 "
      ]
     },
     "metadata": {},
     "output_type": "display_data"
    }
   ],
   "source": [
    "infmas_raz_cuant99<- inf_manual(d.mas$raz_cuant_punt,2.57)\n",
    "round(infmas_raz_cuant99,2)\n",
    "\n",
    "infmas_lect_crit99<- inf_manual(d.mas$lect_crit_punt,2.57)\n",
    "round(infmas_lect_crit99,2)\n",
    "\n",
    "infmas_comp_ciud99<- inf_manual(d.mas$comp_ciud_punt,2.57)\n",
    "round(infmas_comp_ciud99,2)"
   ]
  },
  {
   "cell_type": "markdown",
   "metadata": {},
   "source": [
    "<h3 align=\"left\">Muestreo Estratificado</h3><br> "
   ]
  },
  {
   "cell_type": "code",
   "execution_count": 19,
   "metadata": {},
   "outputs": [],
   "source": [
    "library(magrittr) # Permite leer la función %>%\n",
    "library(dplyr) # Contiene la función select\n",
    "library(SamplingUtil) # Contiene la funcion nstrata que nos permite calcular los estratos"
   ]
  },
  {
   "cell_type": "code",
   "execution_count": 20,
   "metadata": {},
   "outputs": [],
   "source": [
    "praz<-data.frame(praz=data$raz_cuant_punt)\n",
    "draz<- data.frame(draz=data$raz_cuant_des)\n",
    "dataraz<- data.frame(praz,draz)\n",
    "\n",
    "plect<-data.frame(plect=data$lect_crit_punt)\n",
    "dlect<- data.frame(dlect=data$lect_crit_des)\n",
    "datalect<- data.frame(plect,dlect)\n",
    "\n",
    "pcomp<-data.frame(pcomp=data$comp_ciud_punt)\n",
    "dcomp<- data.frame(dcomp=data$comp_ciud_des)\n",
    "datacomp<- data.frame(pcomp,dcomp)"
   ]
  },
  {
   "cell_type": "code",
   "execution_count": 21,
   "metadata": {},
   "outputs": [
    {
     "data": {
      "text/html": [
       "<table>\n",
       "<caption>A tibble: 4 × 4</caption>\n",
       "<thead>\n",
       "\t<tr><th scope=col>draz</th><th scope=col>n</th><th scope=col>s</th><th scope=col>p</th></tr>\n",
       "\t<tr><th scope=col>&lt;fct&gt;</th><th scope=col>&lt;int&gt;</th><th scope=col>&lt;dbl&gt;</th><th scope=col>&lt;dbl&gt;</th></tr>\n",
       "</thead>\n",
       "<tbody>\n",
       "\t<tr><td>Deficiente</td><td>168183</td><td>12.148419</td><td>0.23188220</td></tr>\n",
       "\t<tr><td>Aceptable </td><td>234534</td><td> 7.978031</td><td>0.32336360</td></tr>\n",
       "\t<tr><td>Bueno     </td><td>292264</td><td>13.121279</td><td>0.40295880</td></tr>\n",
       "\t<tr><td>Excelente </td><td> 30314</td><td>15.831535</td><td>0.04179541</td></tr>\n",
       "</tbody>\n",
       "</table>\n"
      ],
      "text/latex": [
       "A tibble: 4 × 4\n",
       "\\begin{tabular}{llll}\n",
       " draz & n & s & p\\\\\n",
       " <fct> & <int> & <dbl> & <dbl>\\\\\n",
       "\\hline\n",
       "\t Deficiente & 168183 & 12.148419 & 0.23188220\\\\\n",
       "\t Aceptable  & 234534 &  7.978031 & 0.32336360\\\\\n",
       "\t Bueno      & 292264 & 13.121279 & 0.40295880\\\\\n",
       "\t Excelente  &  30314 & 15.831535 & 0.04179541\\\\\n",
       "\\end{tabular}\n"
      ],
      "text/markdown": [
       "\n",
       "A tibble: 4 × 4\n",
       "\n",
       "| draz &lt;fct&gt; | n &lt;int&gt; | s &lt;dbl&gt; | p &lt;dbl&gt; |\n",
       "|---|---|---|---|\n",
       "| Deficiente | 168183 | 12.148419 | 0.23188220 |\n",
       "| Aceptable  | 234534 |  7.978031 | 0.32336360 |\n",
       "| Bueno      | 292264 | 13.121279 | 0.40295880 |\n",
       "| Excelente  |  30314 | 15.831535 | 0.04179541 |\n",
       "\n"
      ],
      "text/plain": [
       "  draz       n      s         p         \n",
       "1 Deficiente 168183 12.148419 0.23188220\n",
       "2 Aceptable  234534  7.978031 0.32336360\n",
       "3 Bueno      292264 13.121279 0.40295880\n",
       "4 Excelente   30314 15.831535 0.04179541"
      ]
     },
     "metadata": {},
     "output_type": "display_data"
    },
    {
     "data": {
      "text/html": [
       "<table>\n",
       "<caption>A tibble: 4 × 4</caption>\n",
       "<thead>\n",
       "\t<tr><th scope=col>dlect</th><th scope=col>n</th><th scope=col>s</th><th scope=col>p</th></tr>\n",
       "\t<tr><th scope=col>&lt;fct&gt;</th><th scope=col>&lt;int&gt;</th><th scope=col>&lt;dbl&gt;</th><th scope=col>&lt;dbl&gt;</th></tr>\n",
       "</thead>\n",
       "<tbody>\n",
       "\t<tr><td>Deficiente</td><td>157557</td><td>12.949062</td><td>0.21723161</td></tr>\n",
       "\t<tr><td>Aceptable </td><td>270686</td><td> 9.385729</td><td>0.37320814</td></tr>\n",
       "\t<tr><td>Bueno     </td><td>255418</td><td>11.562116</td><td>0.35215740</td></tr>\n",
       "\t<tr><td>Excelente </td><td> 41634</td><td>10.098844</td><td>0.05740285</td></tr>\n",
       "</tbody>\n",
       "</table>\n"
      ],
      "text/latex": [
       "A tibble: 4 × 4\n",
       "\\begin{tabular}{llll}\n",
       " dlect & n & s & p\\\\\n",
       " <fct> & <int> & <dbl> & <dbl>\\\\\n",
       "\\hline\n",
       "\t Deficiente & 157557 & 12.949062 & 0.21723161\\\\\n",
       "\t Aceptable  & 270686 &  9.385729 & 0.37320814\\\\\n",
       "\t Bueno      & 255418 & 11.562116 & 0.35215740\\\\\n",
       "\t Excelente  &  41634 & 10.098844 & 0.05740285\\\\\n",
       "\\end{tabular}\n"
      ],
      "text/markdown": [
       "\n",
       "A tibble: 4 × 4\n",
       "\n",
       "| dlect &lt;fct&gt; | n &lt;int&gt; | s &lt;dbl&gt; | p &lt;dbl&gt; |\n",
       "|---|---|---|---|\n",
       "| Deficiente | 157557 | 12.949062 | 0.21723161 |\n",
       "| Aceptable  | 270686 |  9.385729 | 0.37320814 |\n",
       "| Bueno      | 255418 | 11.562116 | 0.35215740 |\n",
       "| Excelente  |  41634 | 10.098844 | 0.05740285 |\n",
       "\n"
      ],
      "text/plain": [
       "  dlect      n      s         p         \n",
       "1 Deficiente 157557 12.949062 0.21723161\n",
       "2 Aceptable  270686  9.385729 0.37320814\n",
       "3 Bueno      255418 11.562116 0.35215740\n",
       "4 Excelente   41634 10.098844 0.05740285"
      ]
     },
     "metadata": {},
     "output_type": "display_data"
    },
    {
     "data": {
      "text/html": [
       "<table>\n",
       "<caption>A tibble: 4 × 4</caption>\n",
       "<thead>\n",
       "\t<tr><th scope=col>dcomp</th><th scope=col>n</th><th scope=col>s</th><th scope=col>p</th></tr>\n",
       "\t<tr><th scope=col>&lt;fct&gt;</th><th scope=col>&lt;int&gt;</th><th scope=col>&lt;dbl&gt;</th><th scope=col>&lt;dbl&gt;</th></tr>\n",
       "</thead>\n",
       "<tbody>\n",
       "\t<tr><td>Deficiente</td><td>202064</td><td>15.354723</td><td>0.27859561</td></tr>\n",
       "\t<tr><td>Aceptable </td><td>248924</td><td> 9.157064</td><td>0.34320380</td></tr>\n",
       "\t<tr><td>Bueno     </td><td>246438</td><td>11.539646</td><td>0.33977623</td></tr>\n",
       "\t<tr><td>Excelente </td><td> 27869</td><td>13.287947</td><td>0.03842437</td></tr>\n",
       "</tbody>\n",
       "</table>\n"
      ],
      "text/latex": [
       "A tibble: 4 × 4\n",
       "\\begin{tabular}{llll}\n",
       " dcomp & n & s & p\\\\\n",
       " <fct> & <int> & <dbl> & <dbl>\\\\\n",
       "\\hline\n",
       "\t Deficiente & 202064 & 15.354723 & 0.27859561\\\\\n",
       "\t Aceptable  & 248924 &  9.157064 & 0.34320380\\\\\n",
       "\t Bueno      & 246438 & 11.539646 & 0.33977623\\\\\n",
       "\t Excelente  &  27869 & 13.287947 & 0.03842437\\\\\n",
       "\\end{tabular}\n"
      ],
      "text/markdown": [
       "\n",
       "A tibble: 4 × 4\n",
       "\n",
       "| dcomp &lt;fct&gt; | n &lt;int&gt; | s &lt;dbl&gt; | p &lt;dbl&gt; |\n",
       "|---|---|---|---|\n",
       "| Deficiente | 202064 | 15.354723 | 0.27859561 |\n",
       "| Aceptable  | 248924 |  9.157064 | 0.34320380 |\n",
       "| Bueno      | 246438 | 11.539646 | 0.33977623 |\n",
       "| Excelente  |  27869 | 13.287947 | 0.03842437 |\n",
       "\n"
      ],
      "text/plain": [
       "  dcomp      n      s         p         \n",
       "1 Deficiente 202064 15.354723 0.27859561\n",
       "2 Aceptable  248924  9.157064 0.34320380\n",
       "3 Bueno      246438 11.539646 0.33977623\n",
       "4 Excelente   27869 13.287947 0.03842437"
      ]
     },
     "metadata": {},
     "output_type": "display_data"
    }
   ],
   "source": [
    "EstratosRaz <- dataraz %>%\n",
    "  select(draz, praz) %>%\n",
    "  group_by(draz) %>%\n",
    "  summarise(n=n(), .groups=\"drop_last\",\n",
    "            s=sd(praz)) %>%\n",
    "  mutate(p=n/sum(n))\n",
    "\n",
    "EstratosRaz\n",
    "\n",
    "EstratosLect <- datalect %>%\n",
    "  select(dlect, plect) %>%\n",
    "  group_by(dlect) %>%\n",
    "  summarise(n=n(), .groups=\"drop_last\",\n",
    "            s=sd(plect)) %>%\n",
    "  mutate(p=n/sum(n))\n",
    "\n",
    "EstratosLect\n",
    "\n",
    "EstratosComp <- datacomp %>%\n",
    "  select(dcomp, pcomp) %>%\n",
    "  group_by(dcomp) %>%\n",
    "  summarise(n=n(), .groups=\"drop_last\",\n",
    "            s=sd(pcomp)) %>%\n",
    "  mutate(p=n/sum(n))\n",
    "\n",
    "EstratosComp"
   ]
  },
  {
   "cell_type": "code",
   "execution_count": 22,
   "metadata": {},
   "outputs": [],
   "source": [
    "nsizeProp384raz<-nstrata(n=384,wh=EstratosRaz[,4],method=\"proportional\")\n",
    "nsizeProp384lect<-nstrata(n=384,wh=EstratosLect[,4],method=\"proportional\")\n",
    "nsizeProp384comp<-nstrata(n=384,wh=EstratosComp[,4],method=\"proportional\")"
   ]
  },
  {
   "cell_type": "code",
   "execution_count": 23,
   "metadata": {},
   "outputs": [
    {
     "data": {
      "text/html": [
       "<table>\n",
       "<caption>A data.frame: 4 × 2</caption>\n",
       "<thead>\n",
       "\t<tr><th scope=col>des</th><th scope=col>p</th></tr>\n",
       "\t<tr><th scope=col>&lt;fct&gt;</th><th scope=col>&lt;dbl&gt;</th></tr>\n",
       "</thead>\n",
       "<tbody>\n",
       "\t<tr><td>Deficiente</td><td> 90</td></tr>\n",
       "\t<tr><td>Aceptable </td><td>125</td></tr>\n",
       "\t<tr><td>Bueno     </td><td>155</td></tr>\n",
       "\t<tr><td>Excelente </td><td> 17</td></tr>\n",
       "</tbody>\n",
       "</table>\n"
      ],
      "text/latex": [
       "A data.frame: 4 × 2\n",
       "\\begin{tabular}{ll}\n",
       " des & p\\\\\n",
       " <fct> & <dbl>\\\\\n",
       "\\hline\n",
       "\t Deficiente &  90\\\\\n",
       "\t Aceptable  & 125\\\\\n",
       "\t Bueno      & 155\\\\\n",
       "\t Excelente  &  17\\\\\n",
       "\\end{tabular}\n"
      ],
      "text/markdown": [
       "\n",
       "A data.frame: 4 × 2\n",
       "\n",
       "| des &lt;fct&gt; | p &lt;dbl&gt; |\n",
       "|---|---|\n",
       "| Deficiente |  90 |\n",
       "| Aceptable  | 125 |\n",
       "| Bueno      | 155 |\n",
       "| Excelente  |  17 |\n",
       "\n"
      ],
      "text/plain": [
       "  des        p  \n",
       "1 Deficiente  90\n",
       "2 Aceptable  125\n",
       "3 Bueno      155\n",
       "4 Excelente   17"
      ]
     },
     "metadata": {},
     "output_type": "display_data"
    },
    {
     "data": {
      "text/html": [
       "<table>\n",
       "<caption>A data.frame: 4 × 2</caption>\n",
       "<thead>\n",
       "\t<tr><th scope=col>des</th><th scope=col>p</th></tr>\n",
       "\t<tr><th scope=col>&lt;fct&gt;</th><th scope=col>&lt;dbl&gt;</th></tr>\n",
       "</thead>\n",
       "<tbody>\n",
       "\t<tr><td>Deficiente</td><td> 84</td></tr>\n",
       "\t<tr><td>Aceptable </td><td>144</td></tr>\n",
       "\t<tr><td>Bueno     </td><td>136</td></tr>\n",
       "\t<tr><td>Excelente </td><td> 23</td></tr>\n",
       "</tbody>\n",
       "</table>\n"
      ],
      "text/latex": [
       "A data.frame: 4 × 2\n",
       "\\begin{tabular}{ll}\n",
       " des & p\\\\\n",
       " <fct> & <dbl>\\\\\n",
       "\\hline\n",
       "\t Deficiente &  84\\\\\n",
       "\t Aceptable  & 144\\\\\n",
       "\t Bueno      & 136\\\\\n",
       "\t Excelente  &  23\\\\\n",
       "\\end{tabular}\n"
      ],
      "text/markdown": [
       "\n",
       "A data.frame: 4 × 2\n",
       "\n",
       "| des &lt;fct&gt; | p &lt;dbl&gt; |\n",
       "|---|---|\n",
       "| Deficiente |  84 |\n",
       "| Aceptable  | 144 |\n",
       "| Bueno      | 136 |\n",
       "| Excelente  |  23 |\n",
       "\n"
      ],
      "text/plain": [
       "  des        p  \n",
       "1 Deficiente  84\n",
       "2 Aceptable  144\n",
       "3 Bueno      136\n",
       "4 Excelente   23"
      ]
     },
     "metadata": {},
     "output_type": "display_data"
    },
    {
     "data": {
      "text/html": [
       "<table>\n",
       "<caption>A data.frame: 4 × 2</caption>\n",
       "<thead>\n",
       "\t<tr><th scope=col>des</th><th scope=col>p</th></tr>\n",
       "\t<tr><th scope=col>&lt;fct&gt;</th><th scope=col>&lt;dbl&gt;</th></tr>\n",
       "</thead>\n",
       "<tbody>\n",
       "\t<tr><td>Deficiente</td><td>107</td></tr>\n",
       "\t<tr><td>Aceptable </td><td>132</td></tr>\n",
       "\t<tr><td>Bueno     </td><td>131</td></tr>\n",
       "\t<tr><td>Excelente </td><td> 15</td></tr>\n",
       "</tbody>\n",
       "</table>\n"
      ],
      "text/latex": [
       "A data.frame: 4 × 2\n",
       "\\begin{tabular}{ll}\n",
       " des & p\\\\\n",
       " <fct> & <dbl>\\\\\n",
       "\\hline\n",
       "\t Deficiente & 107\\\\\n",
       "\t Aceptable  & 132\\\\\n",
       "\t Bueno      & 131\\\\\n",
       "\t Excelente  &  15\\\\\n",
       "\\end{tabular}\n"
      ],
      "text/markdown": [
       "\n",
       "A data.frame: 4 × 2\n",
       "\n",
       "| des &lt;fct&gt; | p &lt;dbl&gt; |\n",
       "|---|---|\n",
       "| Deficiente | 107 |\n",
       "| Aceptable  | 132 |\n",
       "| Bueno      | 131 |\n",
       "| Excelente  |  15 |\n",
       "\n"
      ],
      "text/plain": [
       "  des        p  \n",
       "1 Deficiente 107\n",
       "2 Aceptable  132\n",
       "3 Bueno      131\n",
       "4 Excelente   15"
      ]
     },
     "metadata": {},
     "output_type": "display_data"
    }
   ],
   "source": [
    "data.frame(des=EstratosRaz$draz,nsizeProp384raz)\n",
    "data.frame(des=EstratosLect$dlect,nsizeProp384lect)\n",
    "data.frame(des=EstratosComp$dcomp,nsizeProp384comp)"
   ]
  },
  {
   "cell_type": "code",
   "execution_count": 24,
   "metadata": {},
   "outputs": [],
   "source": [
    "muestradeficienteRaz<- sample(1:nrow(data[data$raz_cuant_des=='Deficiente',]),size=90,replace=FALSE)\n",
    "muestraaceptableRaz<- sample(1:nrow(data[data$raz_cuant_des=='Aceptable',]),size=125,replace=FALSE)\n",
    "muestrabuenoRaz<- sample(1:nrow(data[data$raz_cuant_des=='Bueno',]),size=155,replace=FALSE)\n",
    "muestraexcelenteRaz<- sample(1:nrow(data[data$raz_cuant_des=='Excelente',]),size=17,replace=FALSE)\n",
    "\n",
    "mestratoraz<-c(muestradeficienteRaz,muestraaceptableRaz,muestrabuenoRaz,muestraexcelenteRaz)"
   ]
  },
  {
   "cell_type": "code",
   "execution_count": 25,
   "metadata": {},
   "outputs": [],
   "source": [
    "muestradeficienteLect<- sample(1:nrow(data[data$lect_crit_des=='Deficiente',]),size=84,replace=FALSE)\n",
    "muestraaceptableLect<- sample(1:nrow(data[data$lect_crit_des=='Aceptable',]),size=144,replace=FALSE)\n",
    "muestrabuenoLect<- sample(1:nrow(data[data$lect_crit_des=='Bueno',]),size=136,replace=FALSE)\n",
    "muestraexcelenteLect<- sample(1:nrow(data[data$lect_crit_des=='Excelente',]),size=23,replace=FALSE)\n",
    "\n",
    "mestratolect<-c(muestradeficienteLect,muestraaceptableLect,muestrabuenoLect,muestraexcelenteLect)"
   ]
  },
  {
   "cell_type": "code",
   "execution_count": 26,
   "metadata": {},
   "outputs": [],
   "source": [
    "muestradeficienteComp<- sample(1:nrow(data[data$comp_ciud_des=='Deficiente',]),size=107,replace=FALSE)\n",
    "muestraaceptableComp<- sample(1:nrow(data[data$comp_ciud_des=='Aceptable',]),size=132,replace=FALSE)\n",
    "muestrabuenoComp<- sample(1:nrow(data[data$comp_ciud_des=='Bueno',]),size=131,replace=FALSE)\n",
    "muestraexcelenteComp<- sample(1:nrow(data[data$comp_ciud_des=='Excelente',]),size=15,replace=FALSE)\n",
    "\n",
    "mestratocomp<-c(muestradeficienteComp,muestraaceptableComp,muestrabuenoComp,muestraexcelenteComp)"
   ]
  },
  {
   "cell_type": "code",
   "execution_count": 27,
   "metadata": {},
   "outputs": [
    {
     "data": {
      "image/png": "[encoded data removed]",
      "text/plain": [
       "Plot with title \"Competencias Ciudadanas (ME)\""
      ]
     },
     "metadata": {
      "image/png": {
       "height": 720,
       "width": 720
      },
      "text/plain": {
       "height": 720,
       "width": 720
      }
     },
     "output_type": "display_data"
    }
   ],
   "source": [
    "par(mfrow=c(3,2))\n",
    "with(data[mestratoraz,], hist(raz_cuant_punt, nclass = 50, cex.main=2.5, cex.axis=1.5, cex.lab=1.5, main = 'Razonamiento Cuantitativo (ME)'))\n",
    "with(data[mestratoraz,], plot(raz_cuant_des,raz_cuant_punt,  cex.main=2.5, cex.axis=1.5, cex.lab=1.5))\n",
    "with(data[mestratolect,], hist(lect_crit_punt, nclass = 50, cex.main=2.5, cex.axis=1.5, cex.lab=1.5,main = 'Lectura Crítica (ME)'))\n",
    "with(data[mestratolect,], plot(lect_crit_des,lect_crit_punt, cex.main=2.5, cex.axis=1.5, cex.lab=1.5))\n",
    "with(data[mestratocomp,], hist(comp_ciud_punt, nclass = 50, cex.main=2.5, cex.axis=1.5, cex.lab=1.5,main = 'Competencias Ciudadanas (ME)'))\n",
    "with(data[mestratocomp,], plot(comp_ciud_des,comp_ciud_punt, cex.main=2.5, cex.axis=1.5, cex.lab=1.5))\n",
    "par(mfrow=c(1,1))"
   ]
  },
  {
   "cell_type": "markdown",
   "metadata": {},
   "source": [
    "Inferencia ME"
   ]
  },
  {
   "cell_type": "code",
   "execution_count": 28,
   "metadata": {},
   "outputs": [
    {
     "data": {
      "text/html": [
       "<table>\n",
       "<caption>A data.frame: 5 × 3</caption>\n",
       "<thead>\n",
       "\t<tr><th></th><th scope=col>stats.mmeraz.raz.cuant</th><th scope=col>stats.mmelect.lect.crit</th><th scope=col>stats.mmecomp.comp.ciud</th></tr>\n",
       "\t<tr><th></th><th scope=col>&lt;dbl&gt;</th><th scope=col>&lt;dbl&gt;</th><th scope=col>&lt;dbl&gt;</th></tr>\n",
       "</thead>\n",
       "<tbody>\n",
       "\t<tr><th scope=row>tamaño</th><td>387.0</td><td>387.0</td><td>385.0</td></tr>\n",
       "\t<tr><th scope=row>media</th><td>148.1</td><td>151.8</td><td>149.1</td></tr>\n",
       "\t<tr><th scope=row>desviación estándar</th><td> 29.4</td><td> 32.5</td><td> 31.3</td></tr>\n",
       "\t<tr><th scope=row>simetría</th><td>  0.0</td><td> -0.1</td><td>  0.0</td></tr>\n",
       "\t<tr><th scope=row>kurtosis</th><td> -0.5</td><td>  1.4</td><td> -0.7</td></tr>\n",
       "</tbody>\n",
       "</table>\n"
      ],
      "text/latex": [
       "A data.frame: 5 × 3\n",
       "\\begin{tabular}{r|lll}\n",
       "  & stats.mmeraz.raz.cuant & stats.mmelect.lect.crit & stats.mmecomp.comp.ciud\\\\\n",
       "  & <dbl> & <dbl> & <dbl>\\\\\n",
       "\\hline\n",
       "\ttamaño & 387.0 & 387.0 & 385.0\\\\\n",
       "\tmedia & 148.1 & 151.8 & 149.1\\\\\n",
       "\tdesviación estándar &  29.4 &  32.5 &  31.3\\\\\n",
       "\tsimetría &   0.0 &  -0.1 &   0.0\\\\\n",
       "\tkurtosis &  -0.5 &   1.4 &  -0.7\\\\\n",
       "\\end{tabular}\n"
      ],
      "text/markdown": [
       "\n",
       "A data.frame: 5 × 3\n",
       "\n",
       "| <!--/--> | stats.mmeraz.raz.cuant &lt;dbl&gt; | stats.mmelect.lect.crit &lt;dbl&gt; | stats.mmecomp.comp.ciud &lt;dbl&gt; |\n",
       "|---|---|---|---|\n",
       "| tamaño | 387.0 | 387.0 | 385.0 |\n",
       "| media | 148.1 | 151.8 | 149.1 |\n",
       "| desviación estándar |  29.4 |  32.5 |  31.3 |\n",
       "| simetría |   0.0 |  -0.1 |   0.0 |\n",
       "| kurtosis |  -0.5 |   1.4 |  -0.7 |\n",
       "\n"
      ],
      "text/plain": [
       "                    stats.mmeraz.raz.cuant stats.mmelect.lect.crit\n",
       "tamaño              387.0                  387.0                  \n",
       "media               148.1                  151.8                  \n",
       "desviación estándar  29.4                   32.5                  \n",
       "simetría              0.0                   -0.1                  \n",
       "kurtosis             -0.5                    1.4                  \n",
       "                    stats.mmecomp.comp.ciud\n",
       "tamaño              385.0                  \n",
       "media               149.1                  \n",
       "desviación estándar  31.3                  \n",
       "simetría              0.0                  \n",
       "kurtosis             -0.7                  "
      ]
     },
     "metadata": {},
     "output_type": "display_data"
    }
   ],
   "source": [
    "stats.mmeraz.raz.cuant<-round(mystats(data[mestratoraz,'raz_cuant_punt']),1)\n",
    "stats.mmelect.lect.crit<-round(mystats(data[mestratolect,'lect_crit_punt']),1)\n",
    "stats.mmecomp.comp.ciud<-round(mystats(data[mestratocomp,'comp_ciud_punt']),1)\n",
    "data.frame(stats.mmeraz.raz.cuant,stats.mmelect.lect.crit,stats.mmecomp.comp.ciud)"
   ]
  },
  {
   "cell_type": "code",
   "execution_count": 29,
   "metadata": {},
   "outputs": [],
   "source": [
    "d.mmeraz<-data[mestratoraz,]\n",
    "d.mmelect<-data[mestratolect,]\n",
    "d.mmecomp<-data[mestratocomp,]"
   ]
  },
  {
   "cell_type": "markdown",
   "metadata": {},
   "source": [
    "**Estimación por Máxima Verosimilitud**"
   ]
  },
  {
   "cell_type": "code",
   "execution_count": 93,
   "metadata": {},
   "outputs": [
    {
     "name": "stderr",
     "output_type": "stream",
     "text": [
      "Warning message in dnorm(d.raz_cuant, mu, sigma, log = TRUE):\n",
      "\"NaNs produced\"\n"
     ]
    },
    {
     "data": {
      "text/plain": [
       "Maximum likelihood estimation\n",
       "\n",
       "Call:\n",
       "mle(minuslogl = NegLogLikrazcuant, start = list(mu = mean(na.omit(d.mmeraz$raz_cuant_punt)), \n",
       "    sigma = sd(na.omit(d.mmeraz$raz_cuant_punt))))\n",
       "\n",
       "Coefficients:\n",
       "       Estimate Std. Error\n",
       "mu    149.45119 0.03603887\n",
       "sigma  30.69222 0.02548330\n",
       "\n",
       "-2 log L: 7025133 "
      ]
     },
     "metadata": {},
     "output_type": "display_data"
    },
    {
     "name": "stderr",
     "output_type": "stream",
     "text": [
      "Warning message in dnorm(d.lect_crit, mu, sigma, log = TRUE):\n",
      "\"NaNs produced\"\n",
      "Warning message in dnorm(d.lect_crit, mu, sigma, log = TRUE):\n",
      "\"NaNs produced\"\n",
      "Warning message in dnorm(d.lect_crit, mu, sigma, log = TRUE):\n",
      "\"NaNs produced\"\n"
     ]
    },
    {
     "data": {
      "text/plain": [
       "Maximum likelihood estimation\n",
       "\n",
       "Call:\n",
       "mle(minuslogl = NegLogLiklectcrit, start = list(mu = mean(na.omit(d.mmelect$lect_crit_punt)), \n",
       "    sigma = sd(na.omit(d.mmelect$lect_crit_punt))))\n",
       "\n",
       "Coefficients:\n",
       "      Estimate Std. Error\n",
       "mu    150.1224 0.03638844\n",
       "sigma  30.9899 0.02573105\n",
       "\n",
       "-2 log L: 7039112 "
      ]
     },
     "metadata": {},
     "output_type": "display_data"
    },
    {
     "name": "stderr",
     "output_type": "stream",
     "text": [
      "Warning message in dnorm(d.comp_ciud, mu, sigma, log = TRUE):\n",
      "\"NaNs produced\"\n",
      "Warning message in dnorm(d.comp_ciud, mu, sigma, log = TRUE):\n",
      "\"NaNs produced\"\n"
     ]
    },
    {
     "data": {
      "text/plain": [
       "Maximum likelihood estimation\n",
       "\n",
       "Call:\n",
       "mle(minuslogl = NegLogLikcompciud, start = list(mu = mean(na.omit(d.mmecomp$comp_ciud_punt)), \n",
       "    sigma = sd(na.omit(d.mmecomp$comp_ciud_punt))))\n",
       "\n",
       "Coefficients:\n",
       "       Estimate Std. Error\n",
       "mu    144.76005 0.03812071\n",
       "sigma  32.46526 0.02695671\n",
       "\n",
       "-2 log L: 7106553 "
      ]
     },
     "metadata": {},
     "output_type": "display_data"
    }
   ],
   "source": [
    "EMVraz.cuant.me = mle(NegLogLikrazcuant, start = list(mu=mean(na.omit(d.mmeraz$raz_cuant_punt)), sigma=sd(na.omit(d.mmeraz$raz_cuant_punt))))\n",
    "summary(EMVraz.cuant.me) # Para visualizar los valores\n",
    "                                               \n",
    "EMVlect.crit.me = mle(NegLogLiklectcrit, start = list(mu=mean(na.omit(d.mmelect$lect_crit_punt)), sigma=sd(na.omit(d.mmelect$lect_crit_punt))))\n",
    "summary(EMVlect.crit.me) # Para visualizar los valores\n",
    "                                               \n",
    "EMVcomp.ciud.me = mle(NegLogLikcompciud, start = list(mu=mean(na.omit(d.mmecomp$comp_ciud_punt)), sigma=sd(na.omit(d.mmecomp$comp_ciud_punt))))\n",
    "summary(EMVcomp.ciud.me) # Para visualizar los valores"
   ]
  },
  {
   "cell_type": "markdown",
   "metadata": {},
   "source": [
    "Así como con el MAS, las estimaciones de la media y desviación poblacional en el ME son una aproximación muy buena en cada una de las variables seleccionadas."
   ]
  },
  {
   "cell_type": "markdown",
   "metadata": {},
   "source": [
    "**Intervalos de Confianza**"
   ]
  },
  {
   "cell_type": "code",
   "execution_count": 69,
   "metadata": {},
   "outputs": [
    {
     "data": {
      "text/html": [
       "<table>\n",
       "<caption>A data.frame: 1 × 7</caption>\n",
       "<thead>\n",
       "\t<tr><th scope=col>media</th><th scope=col>desv</th><th scope=col>N</th><th scope=col>error.est</th><th scope=col>error</th><th scope=col>lim.inf</th><th scope=col>lim.sup</th></tr>\n",
       "\t<tr><th scope=col>&lt;dbl&gt;</th><th scope=col>&lt;dbl&gt;</th><th scope=col>&lt;dbl&gt;</th><th scope=col>&lt;dbl&gt;</th><th scope=col>&lt;dbl&gt;</th><th scope=col>&lt;dbl&gt;</th><th scope=col>&lt;dbl&gt;</th></tr>\n",
       "</thead>\n",
       "<tbody>\n",
       "\t<tr><td>148.11</td><td>29.42</td><td>387</td><td>1.5</td><td>2.45</td><td>145.66</td><td>150.57</td></tr>\n",
       "</tbody>\n",
       "</table>\n"
      ],
      "text/latex": [
       "A data.frame: 1 × 7\n",
       "\\begin{tabular}{lllllll}\n",
       " media & desv & N & error.est & error & lim.inf & lim.sup\\\\\n",
       " <dbl> & <dbl> & <dbl> & <dbl> & <dbl> & <dbl> & <dbl>\\\\\n",
       "\\hline\n",
       "\t 148.11 & 29.42 & 387 & 1.5 & 2.45 & 145.66 & 150.57\\\\\n",
       "\\end{tabular}\n"
      ],
      "text/markdown": [
       "\n",
       "A data.frame: 1 × 7\n",
       "\n",
       "| media &lt;dbl&gt; | desv &lt;dbl&gt; | N &lt;dbl&gt; | error.est &lt;dbl&gt; | error &lt;dbl&gt; | lim.inf &lt;dbl&gt; | lim.sup &lt;dbl&gt; |\n",
       "|---|---|---|---|---|---|---|\n",
       "| 148.11 | 29.42 | 387 | 1.5 | 2.45 | 145.66 | 150.57 |\n",
       "\n"
      ],
      "text/plain": [
       "  media  desv  N   error.est error lim.inf lim.sup\n",
       "1 148.11 29.42 387 1.5       2.45  145.66  150.57 "
      ]
     },
     "metadata": {},
     "output_type": "display_data"
    },
    {
     "data": {
      "text/html": [
       "<table>\n",
       "<caption>A data.frame: 1 × 7</caption>\n",
       "<thead>\n",
       "\t<tr><th scope=col>media</th><th scope=col>desv</th><th scope=col>N</th><th scope=col>error.est</th><th scope=col>error</th><th scope=col>lim.inf</th><th scope=col>lim.sup</th></tr>\n",
       "\t<tr><th scope=col>&lt;dbl&gt;</th><th scope=col>&lt;dbl&gt;</th><th scope=col>&lt;dbl&gt;</th><th scope=col>&lt;dbl&gt;</th><th scope=col>&lt;dbl&gt;</th><th scope=col>&lt;dbl&gt;</th><th scope=col>&lt;dbl&gt;</th></tr>\n",
       "</thead>\n",
       "<tbody>\n",
       "\t<tr><td>151.79</td><td>32.54</td><td>387</td><td>1.65</td><td>2.71</td><td>149.07</td><td>154.5</td></tr>\n",
       "</tbody>\n",
       "</table>\n"
      ],
      "text/latex": [
       "A data.frame: 1 × 7\n",
       "\\begin{tabular}{lllllll}\n",
       " media & desv & N & error.est & error & lim.inf & lim.sup\\\\\n",
       " <dbl> & <dbl> & <dbl> & <dbl> & <dbl> & <dbl> & <dbl>\\\\\n",
       "\\hline\n",
       "\t 151.79 & 32.54 & 387 & 1.65 & 2.71 & 149.07 & 154.5\\\\\n",
       "\\end{tabular}\n"
      ],
      "text/markdown": [
       "\n",
       "A data.frame: 1 × 7\n",
       "\n",
       "| media &lt;dbl&gt; | desv &lt;dbl&gt; | N &lt;dbl&gt; | error.est &lt;dbl&gt; | error &lt;dbl&gt; | lim.inf &lt;dbl&gt; | lim.sup &lt;dbl&gt; |\n",
       "|---|---|---|---|---|---|---|\n",
       "| 151.79 | 32.54 | 387 | 1.65 | 2.71 | 149.07 | 154.5 |\n",
       "\n"
      ],
      "text/plain": [
       "  media  desv  N   error.est error lim.inf lim.sup\n",
       "1 151.79 32.54 387 1.65      2.71  149.07  154.5  "
      ]
     },
     "metadata": {},
     "output_type": "display_data"
    },
    {
     "data": {
      "text/html": [
       "<table>\n",
       "<caption>A data.frame: 1 × 7</caption>\n",
       "<thead>\n",
       "\t<tr><th scope=col>media</th><th scope=col>desv</th><th scope=col>N</th><th scope=col>error.est</th><th scope=col>error</th><th scope=col>lim.inf</th><th scope=col>lim.sup</th></tr>\n",
       "\t<tr><th scope=col>&lt;dbl&gt;</th><th scope=col>&lt;dbl&gt;</th><th scope=col>&lt;dbl&gt;</th><th scope=col>&lt;dbl&gt;</th><th scope=col>&lt;dbl&gt;</th><th scope=col>&lt;dbl&gt;</th><th scope=col>&lt;dbl&gt;</th></tr>\n",
       "</thead>\n",
       "<tbody>\n",
       "\t<tr><td>149.07</td><td>31.3</td><td>385</td><td>1.6</td><td>2.62</td><td>146.46</td><td>151.69</td></tr>\n",
       "</tbody>\n",
       "</table>\n"
      ],
      "text/latex": [
       "A data.frame: 1 × 7\n",
       "\\begin{tabular}{lllllll}\n",
       " media & desv & N & error.est & error & lim.inf & lim.sup\\\\\n",
       " <dbl> & <dbl> & <dbl> & <dbl> & <dbl> & <dbl> & <dbl>\\\\\n",
       "\\hline\n",
       "\t 149.07 & 31.3 & 385 & 1.6 & 2.62 & 146.46 & 151.69\\\\\n",
       "\\end{tabular}\n"
      ],
      "text/markdown": [
       "\n",
       "A data.frame: 1 × 7\n",
       "\n",
       "| media &lt;dbl&gt; | desv &lt;dbl&gt; | N &lt;dbl&gt; | error.est &lt;dbl&gt; | error &lt;dbl&gt; | lim.inf &lt;dbl&gt; | lim.sup &lt;dbl&gt; |\n",
       "|---|---|---|---|---|---|---|\n",
       "| 149.07 | 31.3 | 385 | 1.6 | 2.62 | 146.46 | 151.69 |\n",
       "\n"
      ],
      "text/plain": [
       "  media  desv N   error.est error lim.inf lim.sup\n",
       "1 149.07 31.3 385 1.6       2.62  146.46  151.69 "
      ]
     },
     "metadata": {},
     "output_type": "display_data"
    }
   ],
   "source": [
    "infme_raz_cuant90<- inf_manual(d.mmeraz$raz_cuant_punt,1.64)\n",
    "round(infme_raz_cuant90,2)\n",
    "\n",
    "infme_lect_crit90<-inf_manual(d.mmelect$lect_crit_punt,1.64)\n",
    "round(infme_lect_crit90,2)\n",
    "\n",
    "infme_comp_ciud90<-inf_manual(d.mmecomp$comp_ciud_punt,1.64)\n",
    "round(infme_comp_ciud90,2)"
   ]
  },
  {
   "cell_type": "code",
   "execution_count": 70,
   "metadata": {},
   "outputs": [
    {
     "data": {
      "text/html": [
       "<table>\n",
       "<caption>A data.frame: 1 × 7</caption>\n",
       "<thead>\n",
       "\t<tr><th scope=col>media</th><th scope=col>desv</th><th scope=col>N</th><th scope=col>error.est</th><th scope=col>error</th><th scope=col>lim.inf</th><th scope=col>lim.sup</th></tr>\n",
       "\t<tr><th scope=col>&lt;dbl&gt;</th><th scope=col>&lt;dbl&gt;</th><th scope=col>&lt;dbl&gt;</th><th scope=col>&lt;dbl&gt;</th><th scope=col>&lt;dbl&gt;</th><th scope=col>&lt;dbl&gt;</th><th scope=col>&lt;dbl&gt;</th></tr>\n",
       "</thead>\n",
       "<tbody>\n",
       "\t<tr><td>148.11</td><td>29.42</td><td>387</td><td>1.5</td><td>2.93</td><td>145.18</td><td>151.05</td></tr>\n",
       "</tbody>\n",
       "</table>\n"
      ],
      "text/latex": [
       "A data.frame: 1 × 7\n",
       "\\begin{tabular}{lllllll}\n",
       " media & desv & N & error.est & error & lim.inf & lim.sup\\\\\n",
       " <dbl> & <dbl> & <dbl> & <dbl> & <dbl> & <dbl> & <dbl>\\\\\n",
       "\\hline\n",
       "\t 148.11 & 29.42 & 387 & 1.5 & 2.93 & 145.18 & 151.05\\\\\n",
       "\\end{tabular}\n"
      ],
      "text/markdown": [
       "\n",
       "A data.frame: 1 × 7\n",
       "\n",
       "| media &lt;dbl&gt; | desv &lt;dbl&gt; | N &lt;dbl&gt; | error.est &lt;dbl&gt; | error &lt;dbl&gt; | lim.inf &lt;dbl&gt; | lim.sup &lt;dbl&gt; |\n",
       "|---|---|---|---|---|---|---|\n",
       "| 148.11 | 29.42 | 387 | 1.5 | 2.93 | 145.18 | 151.05 |\n",
       "\n"
      ],
      "text/plain": [
       "  media  desv  N   error.est error lim.inf lim.sup\n",
       "1 148.11 29.42 387 1.5       2.93  145.18  151.05 "
      ]
     },
     "metadata": {},
     "output_type": "display_data"
    },
    {
     "data": {
      "text/html": [
       "<table>\n",
       "<caption>A data.frame: 1 × 7</caption>\n",
       "<thead>\n",
       "\t<tr><th scope=col>media</th><th scope=col>desv</th><th scope=col>N</th><th scope=col>error.est</th><th scope=col>error</th><th scope=col>lim.inf</th><th scope=col>lim.sup</th></tr>\n",
       "\t<tr><th scope=col>&lt;dbl&gt;</th><th scope=col>&lt;dbl&gt;</th><th scope=col>&lt;dbl&gt;</th><th scope=col>&lt;dbl&gt;</th><th scope=col>&lt;dbl&gt;</th><th scope=col>&lt;dbl&gt;</th><th scope=col>&lt;dbl&gt;</th></tr>\n",
       "</thead>\n",
       "<tbody>\n",
       "\t<tr><td>151.79</td><td>32.54</td><td>387</td><td>1.65</td><td>3.24</td><td>148.54</td><td>155.03</td></tr>\n",
       "</tbody>\n",
       "</table>\n"
      ],
      "text/latex": [
       "A data.frame: 1 × 7\n",
       "\\begin{tabular}{lllllll}\n",
       " media & desv & N & error.est & error & lim.inf & lim.sup\\\\\n",
       " <dbl> & <dbl> & <dbl> & <dbl> & <dbl> & <dbl> & <dbl>\\\\\n",
       "\\hline\n",
       "\t 151.79 & 32.54 & 387 & 1.65 & 3.24 & 148.54 & 155.03\\\\\n",
       "\\end{tabular}\n"
      ],
      "text/markdown": [
       "\n",
       "A data.frame: 1 × 7\n",
       "\n",
       "| media &lt;dbl&gt; | desv &lt;dbl&gt; | N &lt;dbl&gt; | error.est &lt;dbl&gt; | error &lt;dbl&gt; | lim.inf &lt;dbl&gt; | lim.sup &lt;dbl&gt; |\n",
       "|---|---|---|---|---|---|---|\n",
       "| 151.79 | 32.54 | 387 | 1.65 | 3.24 | 148.54 | 155.03 |\n",
       "\n"
      ],
      "text/plain": [
       "  media  desv  N   error.est error lim.inf lim.sup\n",
       "1 151.79 32.54 387 1.65      3.24  148.54  155.03 "
      ]
     },
     "metadata": {},
     "output_type": "display_data"
    },
    {
     "data": {
      "text/html": [
       "<table>\n",
       "<caption>A data.frame: 1 × 7</caption>\n",
       "<thead>\n",
       "\t<tr><th scope=col>media</th><th scope=col>desv</th><th scope=col>N</th><th scope=col>error.est</th><th scope=col>error</th><th scope=col>lim.inf</th><th scope=col>lim.sup</th></tr>\n",
       "\t<tr><th scope=col>&lt;dbl&gt;</th><th scope=col>&lt;dbl&gt;</th><th scope=col>&lt;dbl&gt;</th><th scope=col>&lt;dbl&gt;</th><th scope=col>&lt;dbl&gt;</th><th scope=col>&lt;dbl&gt;</th><th scope=col>&lt;dbl&gt;</th></tr>\n",
       "</thead>\n",
       "<tbody>\n",
       "\t<tr><td>149.07</td><td>31.3</td><td>385</td><td>1.6</td><td>3.13</td><td>145.95</td><td>152.2</td></tr>\n",
       "</tbody>\n",
       "</table>\n"
      ],
      "text/latex": [
       "A data.frame: 1 × 7\n",
       "\\begin{tabular}{lllllll}\n",
       " media & desv & N & error.est & error & lim.inf & lim.sup\\\\\n",
       " <dbl> & <dbl> & <dbl> & <dbl> & <dbl> & <dbl> & <dbl>\\\\\n",
       "\\hline\n",
       "\t 149.07 & 31.3 & 385 & 1.6 & 3.13 & 145.95 & 152.2\\\\\n",
       "\\end{tabular}\n"
      ],
      "text/markdown": [
       "\n",
       "A data.frame: 1 × 7\n",
       "\n",
       "| media &lt;dbl&gt; | desv &lt;dbl&gt; | N &lt;dbl&gt; | error.est &lt;dbl&gt; | error &lt;dbl&gt; | lim.inf &lt;dbl&gt; | lim.sup &lt;dbl&gt; |\n",
       "|---|---|---|---|---|---|---|\n",
       "| 149.07 | 31.3 | 385 | 1.6 | 3.13 | 145.95 | 152.2 |\n",
       "\n"
      ],
      "text/plain": [
       "  media  desv N   error.est error lim.inf lim.sup\n",
       "1 149.07 31.3 385 1.6       3.13  145.95  152.2  "
      ]
     },
     "metadata": {},
     "output_type": "display_data"
    }
   ],
   "source": [
    "infme_raz_cuant95<- inf_manual(d.mmeraz$raz_cuant_punt,1.96)\n",
    "round(infme_raz_cuant95,2)\n",
    "\n",
    "infme_lect_crit95<-inf_manual(d.mmelect$lect_crit_punt,1.96)\n",
    "round(infme_lect_crit95,2)\n",
    "\n",
    "infme_comp_ciud95<- inf_manual(d.mmecomp$comp_ciud_punt,1.96)\n",
    "round(infme_comp_ciud95,2)"
   ]
  },
  {
   "cell_type": "code",
   "execution_count": 71,
   "metadata": {},
   "outputs": [
    {
     "data": {
      "text/html": [
       "<table>\n",
       "<caption>A data.frame: 1 × 7</caption>\n",
       "<thead>\n",
       "\t<tr><th scope=col>media</th><th scope=col>desv</th><th scope=col>N</th><th scope=col>error.est</th><th scope=col>error</th><th scope=col>lim.inf</th><th scope=col>lim.sup</th></tr>\n",
       "\t<tr><th scope=col>&lt;dbl&gt;</th><th scope=col>&lt;dbl&gt;</th><th scope=col>&lt;dbl&gt;</th><th scope=col>&lt;dbl&gt;</th><th scope=col>&lt;dbl&gt;</th><th scope=col>&lt;dbl&gt;</th><th scope=col>&lt;dbl&gt;</th></tr>\n",
       "</thead>\n",
       "<tbody>\n",
       "\t<tr><td>148.11</td><td>29.42</td><td>387</td><td>1.5</td><td>3.84</td><td>144.27</td><td>151.96</td></tr>\n",
       "</tbody>\n",
       "</table>\n"
      ],
      "text/latex": [
       "A data.frame: 1 × 7\n",
       "\\begin{tabular}{lllllll}\n",
       " media & desv & N & error.est & error & lim.inf & lim.sup\\\\\n",
       " <dbl> & <dbl> & <dbl> & <dbl> & <dbl> & <dbl> & <dbl>\\\\\n",
       "\\hline\n",
       "\t 148.11 & 29.42 & 387 & 1.5 & 3.84 & 144.27 & 151.96\\\\\n",
       "\\end{tabular}\n"
      ],
      "text/markdown": [
       "\n",
       "A data.frame: 1 × 7\n",
       "\n",
       "| media &lt;dbl&gt; | desv &lt;dbl&gt; | N &lt;dbl&gt; | error.est &lt;dbl&gt; | error &lt;dbl&gt; | lim.inf &lt;dbl&gt; | lim.sup &lt;dbl&gt; |\n",
       "|---|---|---|---|---|---|---|\n",
       "| 148.11 | 29.42 | 387 | 1.5 | 3.84 | 144.27 | 151.96 |\n",
       "\n"
      ],
      "text/plain": [
       "  media  desv  N   error.est error lim.inf lim.sup\n",
       "1 148.11 29.42 387 1.5       3.84  144.27  151.96 "
      ]
     },
     "metadata": {},
     "output_type": "display_data"
    },
    {
     "data": {
      "text/html": [
       "<table>\n",
       "<caption>A data.frame: 1 × 7</caption>\n",
       "<thead>\n",
       "\t<tr><th scope=col>media</th><th scope=col>desv</th><th scope=col>N</th><th scope=col>error.est</th><th scope=col>error</th><th scope=col>lim.inf</th><th scope=col>lim.sup</th></tr>\n",
       "\t<tr><th scope=col>&lt;dbl&gt;</th><th scope=col>&lt;dbl&gt;</th><th scope=col>&lt;dbl&gt;</th><th scope=col>&lt;dbl&gt;</th><th scope=col>&lt;dbl&gt;</th><th scope=col>&lt;dbl&gt;</th><th scope=col>&lt;dbl&gt;</th></tr>\n",
       "</thead>\n",
       "<tbody>\n",
       "\t<tr><td>151.79</td><td>32.54</td><td>387</td><td>1.65</td><td>4.25</td><td>147.53</td><td>156.04</td></tr>\n",
       "</tbody>\n",
       "</table>\n"
      ],
      "text/latex": [
       "A data.frame: 1 × 7\n",
       "\\begin{tabular}{lllllll}\n",
       " media & desv & N & error.est & error & lim.inf & lim.sup\\\\\n",
       " <dbl> & <dbl> & <dbl> & <dbl> & <dbl> & <dbl> & <dbl>\\\\\n",
       "\\hline\n",
       "\t 151.79 & 32.54 & 387 & 1.65 & 4.25 & 147.53 & 156.04\\\\\n",
       "\\end{tabular}\n"
      ],
      "text/markdown": [
       "\n",
       "A data.frame: 1 × 7\n",
       "\n",
       "| media &lt;dbl&gt; | desv &lt;dbl&gt; | N &lt;dbl&gt; | error.est &lt;dbl&gt; | error &lt;dbl&gt; | lim.inf &lt;dbl&gt; | lim.sup &lt;dbl&gt; |\n",
       "|---|---|---|---|---|---|---|\n",
       "| 151.79 | 32.54 | 387 | 1.65 | 4.25 | 147.53 | 156.04 |\n",
       "\n"
      ],
      "text/plain": [
       "  media  desv  N   error.est error lim.inf lim.sup\n",
       "1 151.79 32.54 387 1.65      4.25  147.53  156.04 "
      ]
     },
     "metadata": {},
     "output_type": "display_data"
    },
    {
     "data": {
      "text/html": [
       "<table>\n",
       "<caption>A data.frame: 1 × 7</caption>\n",
       "<thead>\n",
       "\t<tr><th scope=col>media</th><th scope=col>desv</th><th scope=col>N</th><th scope=col>error.est</th><th scope=col>error</th><th scope=col>lim.inf</th><th scope=col>lim.sup</th></tr>\n",
       "\t<tr><th scope=col>&lt;dbl&gt;</th><th scope=col>&lt;dbl&gt;</th><th scope=col>&lt;dbl&gt;</th><th scope=col>&lt;dbl&gt;</th><th scope=col>&lt;dbl&gt;</th><th scope=col>&lt;dbl&gt;</th><th scope=col>&lt;dbl&gt;</th></tr>\n",
       "</thead>\n",
       "<tbody>\n",
       "\t<tr><td>149.07</td><td>31.3</td><td>385</td><td>1.6</td><td>4.1</td><td>144.97</td><td>153.17</td></tr>\n",
       "</tbody>\n",
       "</table>\n"
      ],
      "text/latex": [
       "A data.frame: 1 × 7\n",
       "\\begin{tabular}{lllllll}\n",
       " media & desv & N & error.est & error & lim.inf & lim.sup\\\\\n",
       " <dbl> & <dbl> & <dbl> & <dbl> & <dbl> & <dbl> & <dbl>\\\\\n",
       "\\hline\n",
       "\t 149.07 & 31.3 & 385 & 1.6 & 4.1 & 144.97 & 153.17\\\\\n",
       "\\end{tabular}\n"
      ],
      "text/markdown": [
       "\n",
       "A data.frame: 1 × 7\n",
       "\n",
       "| media &lt;dbl&gt; | desv &lt;dbl&gt; | N &lt;dbl&gt; | error.est &lt;dbl&gt; | error &lt;dbl&gt; | lim.inf &lt;dbl&gt; | lim.sup &lt;dbl&gt; |\n",
       "|---|---|---|---|---|---|---|\n",
       "| 149.07 | 31.3 | 385 | 1.6 | 4.1 | 144.97 | 153.17 |\n",
       "\n"
      ],
      "text/plain": [
       "  media  desv N   error.est error lim.inf lim.sup\n",
       "1 149.07 31.3 385 1.6       4.1   144.97  153.17 "
      ]
     },
     "metadata": {},
     "output_type": "display_data"
    }
   ],
   "source": [
    "infme_raz_cuant99<-inf_manual(d.mmeraz$raz_cuant_punt,2.57)\n",
    "round(infme_raz_cuant99,2)\n",
    "\n",
    "infme_lect_crit99<- inf_manual(d.mmelect$lect_crit_punt,2.57)\n",
    "round(infme_lect_crit99,2)\n",
    "\n",
    "infme_comp_ciud99<- inf_manual(d.mmecomp$comp_ciud_punt,2.57)\n",
    "round(infme_comp_ciud99,2)"
   ]
  },
  {
   "cell_type": "markdown",
   "metadata": {},
   "source": [
    "<h3 align=\"left\">Muestreo por Conglomerados</h3><br> "
   ]
  },
  {
   "cell_type": "markdown",
   "metadata": {},
   "source": [
    "Dado que se usará la columna de departamentos como filtro, es necesario arreglar el nombre de NARIÑO cambiándole la Ñ por una N."
   ]
  },
  {
   "cell_type": "code",
   "execution_count": 33,
   "metadata": {
    "scrolled": true
   },
   "outputs": [
    {
     "data": {
      "text/html": [
       "<style>\n",
       ".list-inline {list-style: none; margin:0; padding: 0}\n",
       ".list-inline>li {display: inline-block}\n",
       ".list-inline>li:not(:last-child)::after {content: \"\\00b7\"; padding: 0 .5ex}\n",
       "</style>\n",
       "<ol class=list-inline><li>ATLANTICO</li><li>CUNDINAMARCA</li><li>CALDAS</li><li>MAGDALENA</li><li>CORDOBA</li><li>CAUCA</li><li>BOGOTA</li><li>ANTIOQUIA</li><li>META</li><li>CESAR</li><li>VALLE</li><li>TOLIMA</li><li>BOYACA</li><li>SANTANDER</li><li>BOLIVAR</li><li></li><li>HUILA</li><li>NORTE SANTANDER</li><li>SUCRE</li><li>QUINDIO</li><li>VAUPES</li><li>RISARALDA</li><li>NARIÃ‘O</li><li>CAQUETA</li><li>CASANARE</li><li>CHOCO</li><li>PUTUMAYO</li><li>LA GUAJIRA</li><li>GUAVIARE</li><li>ARAUCA</li><li>SAN ANDRES</li><li>VICHADA</li><li>AMAZONAS</li><li>EXTRANJERO</li><li>GUAINIA</li><li>NARIÃƒâ\\200\\230O</li></ol>\n",
       "\n",
       "<details>\n",
       "\t<summary style=display:list-item;cursor:pointer>\n",
       "\t\t<strong>Levels</strong>:\n",
       "\t</summary>\n",
       "\t<style>\n",
       "\t.list-inline {list-style: none; margin:0; padding: 0}\n",
       "\t.list-inline>li {display: inline-block}\n",
       "\t.list-inline>li:not(:last-child)::after {content: \"\\00b7\"; padding: 0 .5ex}\n",
       "\t</style>\n",
       "\t<ol class=list-inline><li>''</li><li>'AMAZONAS'</li><li>'ANTIOQUIA'</li><li>'ARAUCA'</li><li>'ATLANTICO'</li><li>'BOGOTA'</li><li>'BOLIVAR'</li><li>'BOYACA'</li><li>'CALDAS'</li><li>'CAQUETA'</li><li>'CASANARE'</li><li>'CAUCA'</li><li>'CESAR'</li><li>'CHOCO'</li><li>'CORDOBA'</li><li>'CUNDINAMARCA'</li><li>'EXTRANJERO'</li><li>'GUAINIA'</li><li>'GUAVIARE'</li><li>'HUILA'</li><li>'LA GUAJIRA'</li><li>'MAGDALENA'</li><li>'META'</li><li>'NARIÃ‘O'</li><li>'NORTE SANTANDER'</li><li>'PUTUMAYO'</li><li>'QUINDIO'</li><li>'RISARALDA'</li><li>'SAN ANDRES'</li><li>'SANTANDER'</li><li>'SUCRE'</li><li>'TOLIMA'</li><li>'VALLE'</li><li>'VAUPES'</li><li>'VICHADA'</li><li>'NARIÃƒâ\\200\\230O'</li></ol>\n",
       "</details>"
      ],
      "text/latex": [
       "\\begin{enumerate*}\n",
       "\\item ATLANTICO\n",
       "\\item CUNDINAMARCA\n",
       "\\item CALDAS\n",
       "\\item MAGDALENA\n",
       "\\item CORDOBA\n",
       "\\item CAUCA\n",
       "\\item BOGOTA\n",
       "\\item ANTIOQUIA\n",
       "\\item META\n",
       "\\item CESAR\n",
       "\\item VALLE\n",
       "\\item TOLIMA\n",
       "\\item BOYACA\n",
       "\\item SANTANDER\n",
       "\\item BOLIVAR\n",
       "\\item \n",
       "\\item HUILA\n",
       "\\item NORTE SANTANDER\n",
       "\\item SUCRE\n",
       "\\item QUINDIO\n",
       "\\item VAUPES\n",
       "\\item RISARALDA\n",
       "\\item NARIÃ‘O\n",
       "\\item CAQUETA\n",
       "\\item CASANARE\n",
       "\\item CHOCO\n",
       "\\item PUTUMAYO\n",
       "\\item LA GUAJIRA\n",
       "\\item GUAVIARE\n",
       "\\item ARAUCA\n",
       "\\item SAN ANDRES\n",
       "\\item VICHADA\n",
       "\\item AMAZONAS\n",
       "\\item EXTRANJERO\n",
       "\\item GUAINIA\n",
       "\\item NARIÃƒâ\\textbackslash{}200\\textbackslash{}230O\n",
       "\\end{enumerate*}\n",
       "\n",
       "\\emph{Levels}: \\begin{enumerate*}\n",
       "\\item ''\n",
       "\\item 'AMAZONAS'\n",
       "\\item 'ANTIOQUIA'\n",
       "\\item 'ARAUCA'\n",
       "\\item 'ATLANTICO'\n",
       "\\item 'BOGOTA'\n",
       "\\item 'BOLIVAR'\n",
       "\\item 'BOYACA'\n",
       "\\item 'CALDAS'\n",
       "\\item 'CAQUETA'\n",
       "\\item 'CASANARE'\n",
       "\\item 'CAUCA'\n",
       "\\item 'CESAR'\n",
       "\\item 'CHOCO'\n",
       "\\item 'CORDOBA'\n",
       "\\item 'CUNDINAMARCA'\n",
       "\\item 'EXTRANJERO'\n",
       "\\item 'GUAINIA'\n",
       "\\item 'GUAVIARE'\n",
       "\\item 'HUILA'\n",
       "\\item 'LA GUAJIRA'\n",
       "\\item 'MAGDALENA'\n",
       "\\item 'META'\n",
       "\\item 'NARIÃ‘O'\n",
       "\\item 'NORTE SANTANDER'\n",
       "\\item 'PUTUMAYO'\n",
       "\\item 'QUINDIO'\n",
       "\\item 'RISARALDA'\n",
       "\\item 'SAN ANDRES'\n",
       "\\item 'SANTANDER'\n",
       "\\item 'SUCRE'\n",
       "\\item 'TOLIMA'\n",
       "\\item 'VALLE'\n",
       "\\item 'VAUPES'\n",
       "\\item 'VICHADA'\n",
       "\\item 'NARIÃƒâ\\textbackslash{}200\\textbackslash{}230O'\n",
       "\\end{enumerate*}\n"
      ],
      "text/markdown": [
       "1. ATLANTICO\n",
       "2. CUNDINAMARCA\n",
       "3. CALDAS\n",
       "4. MAGDALENA\n",
       "5. CORDOBA\n",
       "6. CAUCA\n",
       "7. BOGOTA\n",
       "8. ANTIOQUIA\n",
       "9. META\n",
       "10. CESAR\n",
       "11. VALLE\n",
       "12. TOLIMA\n",
       "13. BOYACA\n",
       "14. SANTANDER\n",
       "15. BOLIVAR\n",
       "16. \n",
       "17. HUILA\n",
       "18. NORTE SANTANDER\n",
       "19. SUCRE\n",
       "20. QUINDIO\n",
       "21. VAUPES\n",
       "22. RISARALDA\n",
       "23. NARIÃ‘O\n",
       "24. CAQUETA\n",
       "25. CASANARE\n",
       "26. CHOCO\n",
       "27. PUTUMAYO\n",
       "28. LA GUAJIRA\n",
       "29. GUAVIARE\n",
       "30. ARAUCA\n",
       "31. SAN ANDRES\n",
       "32. VICHADA\n",
       "33. AMAZONAS\n",
       "34. EXTRANJERO\n",
       "35. GUAINIA\n",
       "36. NARIÃƒâ\\200\\230O\n",
       "\n",
       "\n",
       "\n",
       "**Levels**: 1. ''\n",
       "2. 'AMAZONAS'\n",
       "3. 'ANTIOQUIA'\n",
       "4. 'ARAUCA'\n",
       "5. 'ATLANTICO'\n",
       "6. 'BOGOTA'\n",
       "7. 'BOLIVAR'\n",
       "8. 'BOYACA'\n",
       "9. 'CALDAS'\n",
       "10. 'CAQUETA'\n",
       "11. 'CASANARE'\n",
       "12. 'CAUCA'\n",
       "13. 'CESAR'\n",
       "14. 'CHOCO'\n",
       "15. 'CORDOBA'\n",
       "16. 'CUNDINAMARCA'\n",
       "17. 'EXTRANJERO'\n",
       "18. 'GUAINIA'\n",
       "19. 'GUAVIARE'\n",
       "20. 'HUILA'\n",
       "21. 'LA GUAJIRA'\n",
       "22. 'MAGDALENA'\n",
       "23. 'META'\n",
       "24. 'NARIÃ‘O'\n",
       "25. 'NORTE SANTANDER'\n",
       "26. 'PUTUMAYO'\n",
       "27. 'QUINDIO'\n",
       "28. 'RISARALDA'\n",
       "29. 'SAN ANDRES'\n",
       "30. 'SANTANDER'\n",
       "31. 'SUCRE'\n",
       "32. 'TOLIMA'\n",
       "33. 'VALLE'\n",
       "34. 'VAUPES'\n",
       "35. 'VICHADA'\n",
       "36. 'NARIÃƒâ\\200\\230O'\n",
       "\n",
       "\n"
      ],
      "text/plain": [
       " [1] ATLANTICO       CUNDINAMARCA    CALDAS          MAGDALENA      \n",
       " [5] CORDOBA         CAUCA           BOGOTA          ANTIOQUIA      \n",
       " [9] META            CESAR           VALLE           TOLIMA         \n",
       "[13] BOYACA          SANTANDER       BOLIVAR                        \n",
       "[17] HUILA           NORTE SANTANDER SUCRE           QUINDIO        \n",
       "[21] VAUPES          RISARALDA       NARIÃ‘O         CAQUETA        \n",
       "[25] CASANARE        CHOCO           PUTUMAYO        LA GUAJIRA     \n",
       "[29] GUAVIARE        ARAUCA          SAN ANDRES      VICHADA        \n",
       "[33] AMAZONAS        EXTRANJERO      GUAINIA         NARIÃƒâ\\200\\230O     \n",
       "36 Levels:  AMAZONAS ANTIOQUIA ARAUCA ATLANTICO BOGOTA BOLIVAR ... NARIÃƒâ\\200\\230O"
      ]
     },
     "metadata": {},
     "output_type": "display_data"
    },
    {
     "data": {
      "text/html": [
       "<style>\n",
       ".list-inline {list-style: none; margin:0; padding: 0}\n",
       ".list-inline>li {display: inline-block}\n",
       ".list-inline>li:not(:last-child)::after {content: \"\\00b7\"; padding: 0 .5ex}\n",
       "</style>\n",
       "<ol class=list-inline><li>ATLANTICO</li><li>CUNDINAMARCA</li><li>CALDAS</li><li>MAGDALENA</li><li>CORDOBA</li><li>CAUCA</li><li>BOGOTA</li><li>ANTIOQUIA</li><li>META</li><li>CESAR</li><li>VALLE</li><li>TOLIMA</li><li>BOYACA</li><li>SANTANDER</li><li>BOLIVAR</li><li></li><li>HUILA</li><li>NORTE SANTANDER</li><li>SUCRE</li><li>QUINDIO</li><li>VAUPES</li><li>RISARALDA</li><li>NARINO</li><li>CAQUETA</li><li>CASANARE</li><li>CHOCO</li><li>PUTUMAYO</li><li>LA GUAJIRA</li><li>GUAVIARE</li><li>ARAUCA</li><li>SAN ANDRES</li><li>VICHADA</li><li>AMAZONAS</li><li>EXTRANJERO</li><li>GUAINIA</li></ol>\n",
       "\n",
       "<details>\n",
       "\t<summary style=display:list-item;cursor:pointer>\n",
       "\t\t<strong>Levels</strong>:\n",
       "\t</summary>\n",
       "\t<style>\n",
       "\t.list-inline {list-style: none; margin:0; padding: 0}\n",
       "\t.list-inline>li {display: inline-block}\n",
       "\t.list-inline>li:not(:last-child)::after {content: \"\\00b7\"; padding: 0 .5ex}\n",
       "\t</style>\n",
       "\t<ol class=list-inline><li>''</li><li>'AMAZONAS'</li><li>'ANTIOQUIA'</li><li>'ARAUCA'</li><li>'ATLANTICO'</li><li>'BOGOTA'</li><li>'BOLIVAR'</li><li>'BOYACA'</li><li>'CALDAS'</li><li>'CAQUETA'</li><li>'CASANARE'</li><li>'CAUCA'</li><li>'CESAR'</li><li>'CHOCO'</li><li>'CORDOBA'</li><li>'CUNDINAMARCA'</li><li>'EXTRANJERO'</li><li>'GUAINIA'</li><li>'GUAVIARE'</li><li>'HUILA'</li><li>'LA GUAJIRA'</li><li>'MAGDALENA'</li><li>'META'</li><li>'NARINO'</li><li>'NORTE SANTANDER'</li><li>'PUTUMAYO'</li><li>'QUINDIO'</li><li>'RISARALDA'</li><li>'SAN ANDRES'</li><li>'SANTANDER'</li><li>'SUCRE'</li><li>'TOLIMA'</li><li>'VALLE'</li><li>'VAUPES'</li><li>'VICHADA'</li></ol>\n",
       "</details>"
      ],
      "text/latex": [
       "\\begin{enumerate*}\n",
       "\\item ATLANTICO\n",
       "\\item CUNDINAMARCA\n",
       "\\item CALDAS\n",
       "\\item MAGDALENA\n",
       "\\item CORDOBA\n",
       "\\item CAUCA\n",
       "\\item BOGOTA\n",
       "\\item ANTIOQUIA\n",
       "\\item META\n",
       "\\item CESAR\n",
       "\\item VALLE\n",
       "\\item TOLIMA\n",
       "\\item BOYACA\n",
       "\\item SANTANDER\n",
       "\\item BOLIVAR\n",
       "\\item \n",
       "\\item HUILA\n",
       "\\item NORTE SANTANDER\n",
       "\\item SUCRE\n",
       "\\item QUINDIO\n",
       "\\item VAUPES\n",
       "\\item RISARALDA\n",
       "\\item NARINO\n",
       "\\item CAQUETA\n",
       "\\item CASANARE\n",
       "\\item CHOCO\n",
       "\\item PUTUMAYO\n",
       "\\item LA GUAJIRA\n",
       "\\item GUAVIARE\n",
       "\\item ARAUCA\n",
       "\\item SAN ANDRES\n",
       "\\item VICHADA\n",
       "\\item AMAZONAS\n",
       "\\item EXTRANJERO\n",
       "\\item GUAINIA\n",
       "\\end{enumerate*}\n",
       "\n",
       "\\emph{Levels}: \\begin{enumerate*}\n",
       "\\item ''\n",
       "\\item 'AMAZONAS'\n",
       "\\item 'ANTIOQUIA'\n",
       "\\item 'ARAUCA'\n",
       "\\item 'ATLANTICO'\n",
       "\\item 'BOGOTA'\n",
       "\\item 'BOLIVAR'\n",
       "\\item 'BOYACA'\n",
       "\\item 'CALDAS'\n",
       "\\item 'CAQUETA'\n",
       "\\item 'CASANARE'\n",
       "\\item 'CAUCA'\n",
       "\\item 'CESAR'\n",
       "\\item 'CHOCO'\n",
       "\\item 'CORDOBA'\n",
       "\\item 'CUNDINAMARCA'\n",
       "\\item 'EXTRANJERO'\n",
       "\\item 'GUAINIA'\n",
       "\\item 'GUAVIARE'\n",
       "\\item 'HUILA'\n",
       "\\item 'LA GUAJIRA'\n",
       "\\item 'MAGDALENA'\n",
       "\\item 'META'\n",
       "\\item 'NARINO'\n",
       "\\item 'NORTE SANTANDER'\n",
       "\\item 'PUTUMAYO'\n",
       "\\item 'QUINDIO'\n",
       "\\item 'RISARALDA'\n",
       "\\item 'SAN ANDRES'\n",
       "\\item 'SANTANDER'\n",
       "\\item 'SUCRE'\n",
       "\\item 'TOLIMA'\n",
       "\\item 'VALLE'\n",
       "\\item 'VAUPES'\n",
       "\\item 'VICHADA'\n",
       "\\end{enumerate*}\n"
      ],
      "text/markdown": [
       "1. ATLANTICO\n",
       "2. CUNDINAMARCA\n",
       "3. CALDAS\n",
       "4. MAGDALENA\n",
       "5. CORDOBA\n",
       "6. CAUCA\n",
       "7. BOGOTA\n",
       "8. ANTIOQUIA\n",
       "9. META\n",
       "10. CESAR\n",
       "11. VALLE\n",
       "12. TOLIMA\n",
       "13. BOYACA\n",
       "14. SANTANDER\n",
       "15. BOLIVAR\n",
       "16. \n",
       "17. HUILA\n",
       "18. NORTE SANTANDER\n",
       "19. SUCRE\n",
       "20. QUINDIO\n",
       "21. VAUPES\n",
       "22. RISARALDA\n",
       "23. NARINO\n",
       "24. CAQUETA\n",
       "25. CASANARE\n",
       "26. CHOCO\n",
       "27. PUTUMAYO\n",
       "28. LA GUAJIRA\n",
       "29. GUAVIARE\n",
       "30. ARAUCA\n",
       "31. SAN ANDRES\n",
       "32. VICHADA\n",
       "33. AMAZONAS\n",
       "34. EXTRANJERO\n",
       "35. GUAINIA\n",
       "\n",
       "\n",
       "\n",
       "**Levels**: 1. ''\n",
       "2. 'AMAZONAS'\n",
       "3. 'ANTIOQUIA'\n",
       "4. 'ARAUCA'\n",
       "5. 'ATLANTICO'\n",
       "6. 'BOGOTA'\n",
       "7. 'BOLIVAR'\n",
       "8. 'BOYACA'\n",
       "9. 'CALDAS'\n",
       "10. 'CAQUETA'\n",
       "11. 'CASANARE'\n",
       "12. 'CAUCA'\n",
       "13. 'CESAR'\n",
       "14. 'CHOCO'\n",
       "15. 'CORDOBA'\n",
       "16. 'CUNDINAMARCA'\n",
       "17. 'EXTRANJERO'\n",
       "18. 'GUAINIA'\n",
       "19. 'GUAVIARE'\n",
       "20. 'HUILA'\n",
       "21. 'LA GUAJIRA'\n",
       "22. 'MAGDALENA'\n",
       "23. 'META'\n",
       "24. 'NARINO'\n",
       "25. 'NORTE SANTANDER'\n",
       "26. 'PUTUMAYO'\n",
       "27. 'QUINDIO'\n",
       "28. 'RISARALDA'\n",
       "29. 'SAN ANDRES'\n",
       "30. 'SANTANDER'\n",
       "31. 'SUCRE'\n",
       "32. 'TOLIMA'\n",
       "33. 'VALLE'\n",
       "34. 'VAUPES'\n",
       "35. 'VICHADA'\n",
       "\n",
       "\n"
      ],
      "text/plain": [
       " [1] ATLANTICO       CUNDINAMARCA    CALDAS          MAGDALENA      \n",
       " [5] CORDOBA         CAUCA           BOGOTA          ANTIOQUIA      \n",
       " [9] META            CESAR           VALLE           TOLIMA         \n",
       "[13] BOYACA          SANTANDER       BOLIVAR                        \n",
       "[17] HUILA           NORTE SANTANDER SUCRE           QUINDIO        \n",
       "[21] VAUPES          RISARALDA       NARINO          CAQUETA        \n",
       "[25] CASANARE        CHOCO           PUTUMAYO        LA GUAJIRA     \n",
       "[29] GUAVIARE        ARAUCA          SAN ANDRES      VICHADA        \n",
       "[33] AMAZONAS        EXTRANJERO      GUAINIA        \n",
       "35 Levels:  AMAZONAS ANTIOQUIA ARAUCA ATLANTICO BOGOTA BOLIVAR ... VICHADA"
      ]
     },
     "metadata": {},
     "output_type": "display_data"
    }
   ],
   "source": [
    "unique(data$departamento)\n",
    "\n",
    "temp<-factor(data$departamento)\n",
    "data$departamento<-revalue(temp, c(\"NARIÃ‘O\"=\"NARINO\", \"NARIÃƒâ\\200\\230O\"=\"NARINO\"))\n",
    "\n",
    "unique(data$departamento)"
   ]
  },
  {
   "cell_type": "code",
   "execution_count": 34,
   "metadata": {},
   "outputs": [],
   "source": [
    "ddeptos <- data.frame(ddeptos=data$departamento)\n",
    "\n",
    "praz<-data.frame(praz=data$raz_cuant_punt)\n",
    "dataraz<- data.frame(praz,ddeptos)\n",
    "\n",
    "plect<-data.frame(plect=data$lect_crit_punt)\n",
    "datalect<- data.frame(plect,ddeptos)\n",
    "\n",
    "pcomp<-data.frame(pcomp=data$comp_ciud_punt)\n",
    "datacomp<- data.frame(pcomp,ddeptos)"
   ]
  },
  {
   "cell_type": "code",
   "execution_count": 35,
   "metadata": {
    "scrolled": true
   },
   "outputs": [
    {
     "data": {
      "text/html": [
       "<table>\n",
       "<caption>A tibble: 35 × 4</caption>\n",
       "<thead>\n",
       "\t<tr><th scope=col>ddeptos</th><th scope=col>n</th><th scope=col>s</th><th scope=col>p</th></tr>\n",
       "\t<tr><th scope=col>&lt;fct&gt;</th><th scope=col>&lt;int&gt;</th><th scope=col>&lt;dbl&gt;</th><th scope=col>&lt;dbl&gt;</th></tr>\n",
       "</thead>\n",
       "<tbody>\n",
       "\t<tr><td>               </td><td>  1997</td><td>30.86974</td><td>0.0027533624</td></tr>\n",
       "\t<tr><td>AMAZONAS       </td><td>   195</td><td>29.87807</td><td>0.0002688561</td></tr>\n",
       "\t<tr><td>ANTIOQUIA      </td><td> 86465</td><td>32.25236</td><td>0.1192135614</td></tr>\n",
       "\t<tr><td>ARAUCA         </td><td>  1863</td><td>26.66001</td><td>0.0025686100</td></tr>\n",
       "\t<tr><td>ATLANTICO      </td><td> 41127</td><td>30.34594</td><td>0.0567038240</td></tr>\n",
       "\t<tr><td>BOGOTA         </td><td>210798</td><td>30.12218</td><td>0.2906376026</td></tr>\n",
       "\t<tr><td>BOLIVAR        </td><td> 22906</td><td>30.65915</td><td>0.0315816323</td></tr>\n",
       "\t<tr><td>BOYACA         </td><td> 17955</td><td>28.47879</td><td>0.0247554443</td></tr>\n",
       "\t<tr><td>CALDAS         </td><td> 14227</td><td>30.31349</td><td>0.0196154668</td></tr>\n",
       "\t<tr><td>CAQUETA        </td><td>  4098</td><td>27.76922</td><td>0.0056501148</td></tr>\n",
       "\t<tr><td>CASANARE       </td><td>  3762</td><td>27.41497</td><td>0.0051868550</td></tr>\n",
       "\t<tr><td>CAUCA          </td><td> 15567</td><td>30.11147</td><td>0.0214629909</td></tr>\n",
       "\t<tr><td>CESAR          </td><td> 10656</td><td>28.69656</td><td>0.0146919529</td></tr>\n",
       "\t<tr><td>CHOCO          </td><td>  4834</td><td>23.44087</td><td>0.0066648743</td></tr>\n",
       "\t<tr><td>CORDOBA        </td><td> 17234</td><td>28.93634</td><td>0.0237613661</td></tr>\n",
       "\t<tr><td>CUNDINAMARCA   </td><td> 39227</td><td>28.31731</td><td>0.0540842002</td></tr>\n",
       "\t<tr><td>EXTRANJERO     </td><td>   122</td><td>34.53198</td><td>0.0001682074</td></tr>\n",
       "\t<tr><td>GUAINIA        </td><td>    83</td><td>23.15131</td><td>0.0001144362</td></tr>\n",
       "\t<tr><td>GUAVIARE       </td><td>   376</td><td>26.72707</td><td>0.0005184098</td></tr>\n",
       "\t<tr><td>HUILA          </td><td> 14732</td><td>28.73042</td><td>0.0203117352</td></tr>\n",
       "\t<tr><td>LA GUAJIRA     </td><td>  7109</td><td>27.24389</td><td>0.0098015290</td></tr>\n",
       "\t<tr><td>MAGDALENA      </td><td> 10748</td><td>29.58802</td><td>0.0148187979</td></tr>\n",
       "\t<tr><td>META           </td><td> 14413</td><td>27.95687</td><td>0.0198719142</td></tr>\n",
       "\t<tr><td>NARINO         </td><td> 16267</td><td>28.39925</td><td>0.0224281155</td></tr>\n",
       "\t<tr><td>NORTE SANTANDER</td><td> 21222</td><td>28.91571</td><td>0.0292598184</td></tr>\n",
       "\t<tr><td>PUTUMAYO       </td><td>  2333</td><td>27.15459</td><td>0.0032166222</td></tr>\n",
       "\t<tr><td>QUINDIO        </td><td>  8746</td><td>29.40640</td><td>0.0120585417</td></tr>\n",
       "\t<tr><td>RISARALDA      </td><td> 15238</td><td>29.50405</td><td>0.0210093824</td></tr>\n",
       "\t<tr><td>SAN ANDRES     </td><td>   410</td><td>25.83066</td><td>0.0005652872</td></tr>\n",
       "\t<tr><td>SANTANDER      </td><td> 36348</td><td>31.23973</td><td>0.0501147809</td></tr>\n",
       "\t<tr><td>SUCRE          </td><td>  9480</td><td>28.21909</td><td>0.0130705437</td></tr>\n",
       "\t<tr><td>TOLIMA         </td><td> 18530</td><td>28.32955</td><td>0.0255482252</td></tr>\n",
       "\t<tr><td>VALLE          </td><td> 55996</td><td>30.37852</td><td>0.0772044478</td></tr>\n",
       "\t<tr><td>VAUPES         </td><td>    91</td><td>25.57178</td><td>0.0001254662</td></tr>\n",
       "\t<tr><td>VICHADA        </td><td>   140</td><td>26.51480</td><td>0.0001930249</td></tr>\n",
       "</tbody>\n",
       "</table>\n"
      ],
      "text/latex": [
       "A tibble: 35 × 4\n",
       "\\begin{tabular}{llll}\n",
       " ddeptos & n & s & p\\\\\n",
       " <fct> & <int> & <dbl> & <dbl>\\\\\n",
       "\\hline\n",
       "\t                 &   1997 & 30.86974 & 0.0027533624\\\\\n",
       "\t AMAZONAS        &    195 & 29.87807 & 0.0002688561\\\\\n",
       "\t ANTIOQUIA       &  86465 & 32.25236 & 0.1192135614\\\\\n",
       "\t ARAUCA          &   1863 & 26.66001 & 0.0025686100\\\\\n",
       "\t ATLANTICO       &  41127 & 30.34594 & 0.0567038240\\\\\n",
       "\t BOGOTA          & 210798 & 30.12218 & 0.2906376026\\\\\n",
       "\t BOLIVAR         &  22906 & 30.65915 & 0.0315816323\\\\\n",
       "\t BOYACA          &  17955 & 28.47879 & 0.0247554443\\\\\n",
       "\t CALDAS          &  14227 & 30.31349 & 0.0196154668\\\\\n",
       "\t CAQUETA         &   4098 & 27.76922 & 0.0056501148\\\\\n",
       "\t CASANARE        &   3762 & 27.41497 & 0.0051868550\\\\\n",
       "\t CAUCA           &  15567 & 30.11147 & 0.0214629909\\\\\n",
       "\t CESAR           &  10656 & 28.69656 & 0.0146919529\\\\\n",
       "\t CHOCO           &   4834 & 23.44087 & 0.0066648743\\\\\n",
       "\t CORDOBA         &  17234 & 28.93634 & 0.0237613661\\\\\n",
       "\t CUNDINAMARCA    &  39227 & 28.31731 & 0.0540842002\\\\\n",
       "\t EXTRANJERO      &    122 & 34.53198 & 0.0001682074\\\\\n",
       "\t GUAINIA         &     83 & 23.15131 & 0.0001144362\\\\\n",
       "\t GUAVIARE        &    376 & 26.72707 & 0.0005184098\\\\\n",
       "\t HUILA           &  14732 & 28.73042 & 0.0203117352\\\\\n",
       "\t LA GUAJIRA      &   7109 & 27.24389 & 0.0098015290\\\\\n",
       "\t MAGDALENA       &  10748 & 29.58802 & 0.0148187979\\\\\n",
       "\t META            &  14413 & 27.95687 & 0.0198719142\\\\\n",
       "\t NARINO          &  16267 & 28.39925 & 0.0224281155\\\\\n",
       "\t NORTE SANTANDER &  21222 & 28.91571 & 0.0292598184\\\\\n",
       "\t PUTUMAYO        &   2333 & 27.15459 & 0.0032166222\\\\\n",
       "\t QUINDIO         &   8746 & 29.40640 & 0.0120585417\\\\\n",
       "\t RISARALDA       &  15238 & 29.50405 & 0.0210093824\\\\\n",
       "\t SAN ANDRES      &    410 & 25.83066 & 0.0005652872\\\\\n",
       "\t SANTANDER       &  36348 & 31.23973 & 0.0501147809\\\\\n",
       "\t SUCRE           &   9480 & 28.21909 & 0.0130705437\\\\\n",
       "\t TOLIMA          &  18530 & 28.32955 & 0.0255482252\\\\\n",
       "\t VALLE           &  55996 & 30.37852 & 0.0772044478\\\\\n",
       "\t VAUPES          &     91 & 25.57178 & 0.0001254662\\\\\n",
       "\t VICHADA         &    140 & 26.51480 & 0.0001930249\\\\\n",
       "\\end{tabular}\n"
      ],
      "text/markdown": [
       "\n",
       "A tibble: 35 × 4\n",
       "\n",
       "| ddeptos &lt;fct&gt; | n &lt;int&gt; | s &lt;dbl&gt; | p &lt;dbl&gt; |\n",
       "|---|---|---|---|\n",
       "| <!----> |   1997 | 30.86974 | 0.0027533624 |\n",
       "| AMAZONAS        |    195 | 29.87807 | 0.0002688561 |\n",
       "| ANTIOQUIA       |  86465 | 32.25236 | 0.1192135614 |\n",
       "| ARAUCA          |   1863 | 26.66001 | 0.0025686100 |\n",
       "| ATLANTICO       |  41127 | 30.34594 | 0.0567038240 |\n",
       "| BOGOTA          | 210798 | 30.12218 | 0.2906376026 |\n",
       "| BOLIVAR         |  22906 | 30.65915 | 0.0315816323 |\n",
       "| BOYACA          |  17955 | 28.47879 | 0.0247554443 |\n",
       "| CALDAS          |  14227 | 30.31349 | 0.0196154668 |\n",
       "| CAQUETA         |   4098 | 27.76922 | 0.0056501148 |\n",
       "| CASANARE        |   3762 | 27.41497 | 0.0051868550 |\n",
       "| CAUCA           |  15567 | 30.11147 | 0.0214629909 |\n",
       "| CESAR           |  10656 | 28.69656 | 0.0146919529 |\n",
       "| CHOCO           |   4834 | 23.44087 | 0.0066648743 |\n",
       "| CORDOBA         |  17234 | 28.93634 | 0.0237613661 |\n",
       "| CUNDINAMARCA    |  39227 | 28.31731 | 0.0540842002 |\n",
       "| EXTRANJERO      |    122 | 34.53198 | 0.0001682074 |\n",
       "| GUAINIA         |     83 | 23.15131 | 0.0001144362 |\n",
       "| GUAVIARE        |    376 | 26.72707 | 0.0005184098 |\n",
       "| HUILA           |  14732 | 28.73042 | 0.0203117352 |\n",
       "| LA GUAJIRA      |   7109 | 27.24389 | 0.0098015290 |\n",
       "| MAGDALENA       |  10748 | 29.58802 | 0.0148187979 |\n",
       "| META            |  14413 | 27.95687 | 0.0198719142 |\n",
       "| NARINO          |  16267 | 28.39925 | 0.0224281155 |\n",
       "| NORTE SANTANDER |  21222 | 28.91571 | 0.0292598184 |\n",
       "| PUTUMAYO        |   2333 | 27.15459 | 0.0032166222 |\n",
       "| QUINDIO         |   8746 | 29.40640 | 0.0120585417 |\n",
       "| RISARALDA       |  15238 | 29.50405 | 0.0210093824 |\n",
       "| SAN ANDRES      |    410 | 25.83066 | 0.0005652872 |\n",
       "| SANTANDER       |  36348 | 31.23973 | 0.0501147809 |\n",
       "| SUCRE           |   9480 | 28.21909 | 0.0130705437 |\n",
       "| TOLIMA          |  18530 | 28.32955 | 0.0255482252 |\n",
       "| VALLE           |  55996 | 30.37852 | 0.0772044478 |\n",
       "| VAUPES          |     91 | 25.57178 | 0.0001254662 |\n",
       "| VICHADA         |    140 | 26.51480 | 0.0001930249 |\n",
       "\n"
      ],
      "text/plain": [
       "   ddeptos         n      s        p           \n",
       "1                    1997 30.86974 0.0027533624\n",
       "2  AMAZONAS           195 29.87807 0.0002688561\n",
       "3  ANTIOQUIA        86465 32.25236 0.1192135614\n",
       "4  ARAUCA            1863 26.66001 0.0025686100\n",
       "5  ATLANTICO        41127 30.34594 0.0567038240\n",
       "6  BOGOTA          210798 30.12218 0.2906376026\n",
       "7  BOLIVAR          22906 30.65915 0.0315816323\n",
       "8  BOYACA           17955 28.47879 0.0247554443\n",
       "9  CALDAS           14227 30.31349 0.0196154668\n",
       "10 CAQUETA           4098 27.76922 0.0056501148\n",
       "11 CASANARE          3762 27.41497 0.0051868550\n",
       "12 CAUCA            15567 30.11147 0.0214629909\n",
       "13 CESAR            10656 28.69656 0.0146919529\n",
       "14 CHOCO             4834 23.44087 0.0066648743\n",
       "15 CORDOBA          17234 28.93634 0.0237613661\n",
       "16 CUNDINAMARCA     39227 28.31731 0.0540842002\n",
       "17 EXTRANJERO         122 34.53198 0.0001682074\n",
       "18 GUAINIA             83 23.15131 0.0001144362\n",
       "19 GUAVIARE           376 26.72707 0.0005184098\n",
       "20 HUILA            14732 28.73042 0.0203117352\n",
       "21 LA GUAJIRA        7109 27.24389 0.0098015290\n",
       "22 MAGDALENA        10748 29.58802 0.0148187979\n",
       "23 META             14413 27.95687 0.0198719142\n",
       "24 NARINO           16267 28.39925 0.0224281155\n",
       "25 NORTE SANTANDER  21222 28.91571 0.0292598184\n",
       "26 PUTUMAYO          2333 27.15459 0.0032166222\n",
       "27 QUINDIO           8746 29.40640 0.0120585417\n",
       "28 RISARALDA        15238 29.50405 0.0210093824\n",
       "29 SAN ANDRES         410 25.83066 0.0005652872\n",
       "30 SANTANDER        36348 31.23973 0.0501147809\n",
       "31 SUCRE             9480 28.21909 0.0130705437\n",
       "32 TOLIMA           18530 28.32955 0.0255482252\n",
       "33 VALLE            55996 30.37852 0.0772044478\n",
       "34 VAUPES              91 25.57178 0.0001254662\n",
       "35 VICHADA            140 26.51480 0.0001930249"
      ]
     },
     "metadata": {},
     "output_type": "display_data"
    }
   ],
   "source": [
    "Conglomerados <- dataraz %>%\n",
    "  select(ddeptos, praz) %>%\n",
    "  group_by(ddeptos) %>%\n",
    "  summarise(n=n(), .groups=\"drop_last\",\n",
    "            s=sd(praz)) %>%\n",
    "  mutate(p=n/sum(n))\n",
    "\n",
    "Conglomerados"
   ]
  },
  {
   "cell_type": "code",
   "execution_count": 36,
   "metadata": {},
   "outputs": [],
   "source": [
    "nsProp384<-nstrata(n=384,wh=Conglomerados[,4],method=\"proportional\")"
   ]
  },
  {
   "cell_type": "code",
   "execution_count": 40,
   "metadata": {
    "scrolled": true
   },
   "outputs": [
    {
     "data": {
      "text/html": [
       "<table>\n",
       "<caption>A data.frame: 35 × 2</caption>\n",
       "<thead>\n",
       "\t<tr><th scope=col>des</th><th scope=col>p</th></tr>\n",
       "\t<tr><th scope=col>&lt;fct&gt;</th><th scope=col>&lt;dbl&gt;</th></tr>\n",
       "</thead>\n",
       "<tbody>\n",
       "\t<tr><td>               </td><td>  2</td></tr>\n",
       "\t<tr><td>AMAZONAS       </td><td>  1</td></tr>\n",
       "\t<tr><td>ANTIOQUIA      </td><td> 46</td></tr>\n",
       "\t<tr><td>ARAUCA         </td><td>  1</td></tr>\n",
       "\t<tr><td>ATLANTICO      </td><td> 22</td></tr>\n",
       "\t<tr><td>BOGOTA         </td><td>112</td></tr>\n",
       "\t<tr><td>BOLIVAR        </td><td> 13</td></tr>\n",
       "\t<tr><td>BOYACA         </td><td> 10</td></tr>\n",
       "\t<tr><td>CALDAS         </td><td>  8</td></tr>\n",
       "\t<tr><td>CAQUETA        </td><td>  3</td></tr>\n",
       "\t<tr><td>CASANARE       </td><td>  2</td></tr>\n",
       "\t<tr><td>CAUCA          </td><td>  9</td></tr>\n",
       "\t<tr><td>CESAR          </td><td>  6</td></tr>\n",
       "\t<tr><td>CHOCO          </td><td>  3</td></tr>\n",
       "\t<tr><td>CORDOBA        </td><td> 10</td></tr>\n",
       "\t<tr><td>CUNDINAMARCA   </td><td> 21</td></tr>\n",
       "\t<tr><td>EXTRANJERO     </td><td>  1</td></tr>\n",
       "\t<tr><td>GUAINIA        </td><td>  1</td></tr>\n",
       "\t<tr><td>GUAVIARE       </td><td>  1</td></tr>\n",
       "\t<tr><td>HUILA          </td><td>  8</td></tr>\n",
       "\t<tr><td>LA GUAJIRA     </td><td>  4</td></tr>\n",
       "\t<tr><td>MAGDALENA      </td><td>  6</td></tr>\n",
       "\t<tr><td>META           </td><td>  8</td></tr>\n",
       "\t<tr><td>NARINO         </td><td>  9</td></tr>\n",
       "\t<tr><td>NORTE SANTANDER</td><td> 12</td></tr>\n",
       "\t<tr><td>PUTUMAYO       </td><td>  2</td></tr>\n",
       "\t<tr><td>QUINDIO        </td><td>  5</td></tr>\n",
       "\t<tr><td>RISARALDA      </td><td>  9</td></tr>\n",
       "\t<tr><td>SAN ANDRES     </td><td>  1</td></tr>\n",
       "\t<tr><td>SANTANDER      </td><td> 20</td></tr>\n",
       "\t<tr><td>SUCRE          </td><td>  6</td></tr>\n",
       "\t<tr><td>TOLIMA         </td><td> 10</td></tr>\n",
       "\t<tr><td>VALLE          </td><td> 30</td></tr>\n",
       "\t<tr><td>VAUPES         </td><td>  1</td></tr>\n",
       "\t<tr><td>VICHADA        </td><td>  1</td></tr>\n",
       "</tbody>\n",
       "</table>\n"
      ],
      "text/latex": [
       "A data.frame: 35 × 2\n",
       "\\begin{tabular}{ll}\n",
       " des & p\\\\\n",
       " <fct> & <dbl>\\\\\n",
       "\\hline\n",
       "\t                 &   2\\\\\n",
       "\t AMAZONAS        &   1\\\\\n",
       "\t ANTIOQUIA       &  46\\\\\n",
       "\t ARAUCA          &   1\\\\\n",
       "\t ATLANTICO       &  22\\\\\n",
       "\t BOGOTA          & 112\\\\\n",
       "\t BOLIVAR         &  13\\\\\n",
       "\t BOYACA          &  10\\\\\n",
       "\t CALDAS          &   8\\\\\n",
       "\t CAQUETA         &   3\\\\\n",
       "\t CASANARE        &   2\\\\\n",
       "\t CAUCA           &   9\\\\\n",
       "\t CESAR           &   6\\\\\n",
       "\t CHOCO           &   3\\\\\n",
       "\t CORDOBA         &  10\\\\\n",
       "\t CUNDINAMARCA    &  21\\\\\n",
       "\t EXTRANJERO      &   1\\\\\n",
       "\t GUAINIA         &   1\\\\\n",
       "\t GUAVIARE        &   1\\\\\n",
       "\t HUILA           &   8\\\\\n",
       "\t LA GUAJIRA      &   4\\\\\n",
       "\t MAGDALENA       &   6\\\\\n",
       "\t META            &   8\\\\\n",
       "\t NARINO          &   9\\\\\n",
       "\t NORTE SANTANDER &  12\\\\\n",
       "\t PUTUMAYO        &   2\\\\\n",
       "\t QUINDIO         &   5\\\\\n",
       "\t RISARALDA       &   9\\\\\n",
       "\t SAN ANDRES      &   1\\\\\n",
       "\t SANTANDER       &  20\\\\\n",
       "\t SUCRE           &   6\\\\\n",
       "\t TOLIMA          &  10\\\\\n",
       "\t VALLE           &  30\\\\\n",
       "\t VAUPES          &   1\\\\\n",
       "\t VICHADA         &   1\\\\\n",
       "\\end{tabular}\n"
      ],
      "text/markdown": [
       "\n",
       "A data.frame: 35 × 2\n",
       "\n",
       "| des &lt;fct&gt; | p &lt;dbl&gt; |\n",
       "|---|---|\n",
       "| <!----> |   2 |\n",
       "| AMAZONAS        |   1 |\n",
       "| ANTIOQUIA       |  46 |\n",
       "| ARAUCA          |   1 |\n",
       "| ATLANTICO       |  22 |\n",
       "| BOGOTA          | 112 |\n",
       "| BOLIVAR         |  13 |\n",
       "| BOYACA          |  10 |\n",
       "| CALDAS          |   8 |\n",
       "| CAQUETA         |   3 |\n",
       "| CASANARE        |   2 |\n",
       "| CAUCA           |   9 |\n",
       "| CESAR           |   6 |\n",
       "| CHOCO           |   3 |\n",
       "| CORDOBA         |  10 |\n",
       "| CUNDINAMARCA    |  21 |\n",
       "| EXTRANJERO      |   1 |\n",
       "| GUAINIA         |   1 |\n",
       "| GUAVIARE        |   1 |\n",
       "| HUILA           |   8 |\n",
       "| LA GUAJIRA      |   4 |\n",
       "| MAGDALENA       |   6 |\n",
       "| META            |   8 |\n",
       "| NARINO          |   9 |\n",
       "| NORTE SANTANDER |  12 |\n",
       "| PUTUMAYO        |   2 |\n",
       "| QUINDIO         |   5 |\n",
       "| RISARALDA       |   9 |\n",
       "| SAN ANDRES      |   1 |\n",
       "| SANTANDER       |  20 |\n",
       "| SUCRE           |   6 |\n",
       "| TOLIMA          |  10 |\n",
       "| VALLE           |  30 |\n",
       "| VAUPES          |   1 |\n",
       "| VICHADA         |   1 |\n",
       "\n"
      ],
      "text/plain": [
       "   des             p  \n",
       "1                    2\n",
       "2  AMAZONAS          1\n",
       "3  ANTIOQUIA        46\n",
       "4  ARAUCA            1\n",
       "5  ATLANTICO        22\n",
       "6  BOGOTA          112\n",
       "7  BOLIVAR          13\n",
       "8  BOYACA           10\n",
       "9  CALDAS            8\n",
       "10 CAQUETA           3\n",
       "11 CASANARE          2\n",
       "12 CAUCA             9\n",
       "13 CESAR             6\n",
       "14 CHOCO             3\n",
       "15 CORDOBA          10\n",
       "16 CUNDINAMARCA     21\n",
       "17 EXTRANJERO        1\n",
       "18 GUAINIA           1\n",
       "19 GUAVIARE          1\n",
       "20 HUILA             8\n",
       "21 LA GUAJIRA        4\n",
       "22 MAGDALENA         6\n",
       "23 META              8\n",
       "24 NARINO            9\n",
       "25 NORTE SANTANDER  12\n",
       "26 PUTUMAYO          2\n",
       "27 QUINDIO           5\n",
       "28 RISARALDA         9\n",
       "29 SAN ANDRES        1\n",
       "30 SANTANDER        20\n",
       "31 SUCRE             6\n",
       "32 TOLIMA           10\n",
       "33 VALLE            30\n",
       "34 VAUPES            1\n",
       "35 VICHADA           1"
      ]
     },
     "metadata": {},
     "output_type": "display_data"
    }
   ],
   "source": [
    "data.frame(des=Conglomerados$ddeptos,nsProp384)"
   ]
  },
  {
   "cell_type": "code",
   "execution_count": 43,
   "metadata": {
    "scrolled": true
   },
   "outputs": [
    {
     "data": {
      "text/html": [
       "<table>\n",
       "<caption>A data.frame: 6 × 8</caption>\n",
       "<thead>\n",
       "\t<tr><th></th><th scope=col>periodo</th><th scope=col>departamento</th><th scope=col>raz_cuant_punt</th><th scope=col>raz_cuant_des</th><th scope=col>lect_crit_punt</th><th scope=col>lect_crit_des</th><th scope=col>comp_ciud_punt</th><th scope=col>comp_ciud_des</th></tr>\n",
       "\t<tr><th></th><th scope=col>&lt;fct&gt;</th><th scope=col>&lt;fct&gt;</th><th scope=col>&lt;int&gt;</th><th scope=col>&lt;fct&gt;</th><th scope=col>&lt;int&gt;</th><th scope=col>&lt;fct&gt;</th><th scope=col>&lt;int&gt;</th><th scope=col>&lt;fct&gt;</th></tr>\n",
       "</thead>\n",
       "<tbody>\n",
       "\t<tr><th scope=row>186</th><td>2016</td><td>TOLIMA      </td><td>170</td><td>Bueno     </td><td>140</td><td>Aceptable </td><td>146</td><td>Aceptable </td></tr>\n",
       "\t<tr><th scope=row>53623</th><td>2016</td><td>QUINDIO     </td><td>139</td><td>Aceptable </td><td>112</td><td>Deficiente</td><td>156</td><td>Aceptable </td></tr>\n",
       "\t<tr><th scope=row>47354</th><td>2016</td><td>CUNDINAMARCA</td><td>106</td><td>Deficiente</td><td>116</td><td>Deficiente</td><td>119</td><td>Deficiente</td></tr>\n",
       "\t<tr><th scope=row>24903</th><td>2016</td><td>ANTIOQUIA   </td><td>197</td><td>Bueno     </td><td>168</td><td>Bueno     </td><td>201</td><td>Excelente </td></tr>\n",
       "\t<tr><th scope=row>4886</th><td>2016</td><td>BOGOTA      </td><td>190</td><td>Bueno     </td><td>195</td><td>Bueno     </td><td>183</td><td>Bueno     </td></tr>\n",
       "\t<tr><th scope=row>44634</th><td>2016</td><td>CORDOBA     </td><td>140</td><td>Aceptable </td><td>137</td><td>Aceptable </td><td>110</td><td>Deficiente</td></tr>\n",
       "</tbody>\n",
       "</table>\n"
      ],
      "text/latex": [
       "A data.frame: 6 × 8\n",
       "\\begin{tabular}{r|llllllll}\n",
       "  & periodo & departamento & raz\\_cuant\\_punt & raz\\_cuant\\_des & lect\\_crit\\_punt & lect\\_crit\\_des & comp\\_ciud\\_punt & comp\\_ciud\\_des\\\\\n",
       "  & <fct> & <fct> & <int> & <fct> & <int> & <fct> & <int> & <fct>\\\\\n",
       "\\hline\n",
       "\t186 & 2016 & TOLIMA       & 170 & Bueno      & 140 & Aceptable  & 146 & Aceptable \\\\\n",
       "\t53623 & 2016 & QUINDIO      & 139 & Aceptable  & 112 & Deficiente & 156 & Aceptable \\\\\n",
       "\t47354 & 2016 & CUNDINAMARCA & 106 & Deficiente & 116 & Deficiente & 119 & Deficiente\\\\\n",
       "\t24903 & 2016 & ANTIOQUIA    & 197 & Bueno      & 168 & Bueno      & 201 & Excelente \\\\\n",
       "\t4886 & 2016 & BOGOTA       & 190 & Bueno      & 195 & Bueno      & 183 & Bueno     \\\\\n",
       "\t44634 & 2016 & CORDOBA      & 140 & Aceptable  & 137 & Aceptable  & 110 & Deficiente\\\\\n",
       "\\end{tabular}\n"
      ],
      "text/markdown": [
       "\n",
       "A data.frame: 6 × 8\n",
       "\n",
       "| <!--/--> | periodo &lt;fct&gt; | departamento &lt;fct&gt; | raz_cuant_punt &lt;int&gt; | raz_cuant_des &lt;fct&gt; | lect_crit_punt &lt;int&gt; | lect_crit_des &lt;fct&gt; | comp_ciud_punt &lt;int&gt; | comp_ciud_des &lt;fct&gt; |\n",
       "|---|---|---|---|---|---|---|---|---|\n",
       "| 186 | 2016 | TOLIMA       | 170 | Bueno      | 140 | Aceptable  | 146 | Aceptable  |\n",
       "| 53623 | 2016 | QUINDIO      | 139 | Aceptable  | 112 | Deficiente | 156 | Aceptable  |\n",
       "| 47354 | 2016 | CUNDINAMARCA | 106 | Deficiente | 116 | Deficiente | 119 | Deficiente |\n",
       "| 24903 | 2016 | ANTIOQUIA    | 197 | Bueno      | 168 | Bueno      | 201 | Excelente  |\n",
       "| 4886 | 2016 | BOGOTA       | 190 | Bueno      | 195 | Bueno      | 183 | Bueno      |\n",
       "| 44634 | 2016 | CORDOBA      | 140 | Aceptable  | 137 | Aceptable  | 110 | Deficiente |\n",
       "\n"
      ],
      "text/plain": [
       "      periodo departamento raz_cuant_punt raz_cuant_des lect_crit_punt\n",
       "186   2016    TOLIMA       170            Bueno         140           \n",
       "53623 2016    QUINDIO      139            Aceptable     112           \n",
       "47354 2016    CUNDINAMARCA 106            Deficiente    116           \n",
       "24903 2016    ANTIOQUIA    197            Bueno         168           \n",
       "4886  2016    BOGOTA       190            Bueno         195           \n",
       "44634 2016    CORDOBA      140            Aceptable     137           \n",
       "      lect_crit_des comp_ciud_punt comp_ciud_des\n",
       "186   Aceptable     146            Aceptable    \n",
       "53623 Deficiente    156            Aceptable    \n",
       "47354 Deficiente    119            Deficiente   \n",
       "24903 Bueno         201            Excelente    \n",
       "4886  Bueno         183            Bueno        \n",
       "44634 Aceptable     110            Deficiente   "
      ]
     },
     "metadata": {},
     "output_type": "display_data"
    }
   ],
   "source": [
    "neAMAZONAS<-1 # Cantidad de sujetos en AMAZONAS\n",
    "meAMAZONAS_384<- sample(1:nrow(data[data$departamento=='AMAZONAS',]),size=neAMAZONAS,replace=FALSE)\n",
    "\n",
    "neANTIOQUIA<-46 # Cantidad de sujetos en ANTIOQUIA\n",
    "meANTIOQUIA_384<- sample(1:nrow(data[data$departamento=='ANTIOQUIA',]),size=neANTIOQUIA,replace=FALSE)\n",
    "\n",
    "neARAUCA<-1 # Cantidad de sujetos en ARAUCA\n",
    "meARAUCA_384<- sample(1:nrow(data[data$departamento=='ARAUCA',]),size=neARAUCA,replace=FALSE)\n",
    "\n",
    "neATLANTICO<-22 # Cantidad de sujetos en ATLANTICO\n",
    "meATLANTICO_384<- sample(1:nrow(data[data$departamento=='ATLANTICO',]),size=neATLANTICO,replace=FALSE)\n",
    "\n",
    "neBOGOTA<-112 # Cantidad de sujetos en BOGOTA\n",
    "meBOGOTA_384<- sample(1:nrow(data[data$departamento=='BOGOTA',]),size=neBOGOTA,replace=FALSE)\n",
    "\n",
    "neBOLIVAR<-13 # Cantidad de sujetos en BOLIVAR\n",
    "meBOLIVAR_384<- sample(1:nrow(data[data$departamento=='BOLIVAR',]),size=neBOLIVAR,replace=FALSE)\n",
    "\n",
    "neBOYACA<-10 # Cantidad de sujetos en BOYACA\n",
    "meBOYACA_384<- sample(1:nrow(data[data$departamento=='BOYACA',]),size=neBOYACA,replace=FALSE)\n",
    "\n",
    "neCALDAS<-8 # Cantidad de sujetos en CALDAS\n",
    "meCALDAS_384<- sample(1:nrow(data[data$departamento=='CALDAS',]),size=neCALDAS,replace=FALSE)\n",
    "\n",
    "neCAQUETA<-3 # Cantidad de sujetos en CAQUETA\n",
    "meCAQUETA_384<- sample(1:nrow(data[data$departamento=='CAQUETA',]),size=neCAQUETA,replace=FALSE)\n",
    "\n",
    "neCASANARE<-2 # Cantidad de sujetos en CASANARE\n",
    "meCASANARE_384<- sample(1:nrow(data[data$departamento=='CASANARE',]),size=neCASANARE,replace=FALSE)\n",
    "\n",
    "neCAUCA<-9 # Cantidad de sujetos en CAUCA\n",
    "meCAUCA_384<- sample(1:nrow(data[data$departamento=='CAUCA',]),size=neCAUCA,replace=FALSE)\n",
    "\n",
    "neCESAR<-6 # Cantidad de sujetos en CESAR\n",
    "meCESAR_384<- sample(1:nrow(data[data$departamento=='CESAR',]),size=neCESAR,replace=FALSE)\n",
    "\n",
    "neCHOCO<-3 # Cantidad de sujetos en CHOCO\n",
    "meCHOCO_384<- sample(1:nrow(data[data$departamento=='CHOCO',]),size=neCHOCO,replace=FALSE)\n",
    "\n",
    "neCORDOBA<-10 # Cantidad de sujetos en CORDOBA\n",
    "meCORDOBA_384<- sample(1:nrow(data[data$departamento=='CORDOBA',]),size=neCORDOBA,replace=FALSE)\n",
    "\n",
    "neCUNDINAMARCA<-21 # Cantidad de sujetos en CUNDINAMARCA\n",
    "meCUNDINAMARCA_384<- sample(1:nrow(data[data$departamento=='CUNDINAMARCA',]),size=neCUNDINAMARCA,replace=FALSE)\n",
    "\n",
    "neEXTRANJERO<-1 # Cantidad de sujetos en EXTRANJERO\n",
    "meEXTRANJERO_384<- sample(1:nrow(data[data$departamento=='EXTRANJERO',]),size=neEXTRANJERO,replace=FALSE)\n",
    "\n",
    "neGUAINIA<-1 # Cantidad de sujetos en GUAINIA\n",
    "meGUAINIA_384<- sample(1:nrow(data[data$departamento=='GUAINIA',]),size=neGUAINIA,replace=FALSE)\n",
    "\n",
    "neGUAVIARE<-1 # Cantidad de sujetos en GUAVIARE\n",
    "meGUAVIARE_384<- sample(1:nrow(data[data$departamento=='GUAVIARE',]),size=neGUAVIARE,replace=FALSE)\n",
    "\n",
    "neHUILA<-8 # Cantidad de sujetos en HUILA\n",
    "meHUILA_384<- sample(1:nrow(data[data$departamento=='HUILA',]),size=neHUILA,replace=FALSE)\n",
    "\n",
    "neGUAJIRA<-4 # Cantidad de sujetos en GUAJIRA\n",
    "meGUAJIRA_384<- sample(1:nrow(data[data$departamento=='LA GUAJIRA',]),size=neGUAJIRA,replace=FALSE)\n",
    "\n",
    "neMAGDALENA<-6 # Cantidad de sujetos en MAGDALENA\n",
    "meMAGDALENA_384<- sample(1:nrow(data[data$departamento=='MAGDALENA',]),size=neMAGDALENA,replace=FALSE)\n",
    "\n",
    "neMETA<-8 # Cantidad de sujetos en META\n",
    "meMETA_384<- sample(1:nrow(data[data$departamento=='META',]),size=neMETA,replace=FALSE)\n",
    "\n",
    "neNARINO<-9 # Cantidad de sujetos en NARINO\n",
    "meNARINO_384<- sample(1:nrow(data[data$departamento=='NARINO',]),size=neNARINO,replace=FALSE)\n",
    "\n",
    "neNORTE_SANTANDER<-12 # Cantidad de sujetos en NORTE_SANTANDER\n",
    "meNORTE_SANTANDER_384<- sample(1:nrow(data[data$departamento=='NORTE SANTANDER',]),size=neNORTE_SANTANDER,replace=FALSE)\n",
    "\n",
    "nePUTUMAYO<-2 # Cantidad de sujetos en PUTUMAYO\n",
    "mePUTUMAYO_384<- sample(1:nrow(data[data$departamento=='PUTUMAYO',]),size=nePUTUMAYO,replace=FALSE)\n",
    "\n",
    "neQUINDIO<-5 # Cantidad de sujetos en QUINDIO\n",
    "meQUINDIO_384<- sample(1:nrow(data[data$departamento=='QUINDIO',]),size=neQUINDIO,replace=FALSE)\n",
    "\n",
    "neRISARALDA<-9 # Cantidad de sujetos en RISARALDA\n",
    "meRISARALDA_384<- sample(1:nrow(data[data$departamento=='RISARALDA',]),size=neRISARALDA,replace=FALSE)\n",
    "\n",
    "neSAN_ANDRES<-1 # Cantidad de sujetos en SAN_ANDRES\n",
    "meSAN_ANDRES_384<- sample(1:nrow(data[data$departamento=='SAN ANDRES',]),size=neSAN_ANDRES,replace=FALSE)\n",
    "\n",
    "neSANTANDER<-20 # Cantidad de sujetos en SANTANDER\n",
    "meSANTANDER_384<- sample(1:nrow(data[data$departamento=='SANTANDER',]),size=neSANTANDER,replace=FALSE)\n",
    "\n",
    "neSUCRE<-6 # Cantidad de sujetos en SUCRE\n",
    "meSUCRE_384<- sample(1:nrow(data[data$departamento=='SUCRE',]),size=neSUCRE,replace=FALSE)\n",
    "\n",
    "neTOLIMA<-10 # Cantidad de sujetos en TOLIMA\n",
    "meTOLIMA_384<- sample(1:nrow(data[data$departamento=='TOLIMA',]),size=neTOLIMA,replace=FALSE)\n",
    "\n",
    "neVALLE<-30 # Cantidad de sujetos en VALLE\n",
    "meVALLE_384<- sample(1:nrow(data[data$departamento=='VALLE',]),size=neVALLE,replace=FALSE)\n",
    "\n",
    "neVAUPES<-1 # Cantidad de sujetos en VAUPES\n",
    "meVAUPES_384<- sample(1:nrow(data[data$departamento=='VAUPES',]),size=neVAUPES,replace=FALSE)\n",
    "\n",
    "neVICHADA<-1 # Cantidad de sujetos en VICHADA\n",
    "meVICHADA_384<- sample(1:nrow(data[data$departamento=='VICHADA',]),size=neVICHADA,replace=FALSE)\n",
    "\n",
    "mcon<-c( meAMAZONAS_384,meANTIOQUIA_384,meARAUCA_384,meATLANTICO_384,meBOGOTA_384,meBOLIVAR_384,meBOYACA_384,meCALDAS_384,meCAQUETA_384,meCASANARE_384,meCAUCA_384,meCESAR_384,meCHOCO_384,meCORDOBA_384,meCUNDINAMARCA_384,meEXTRANJERO_384,meGUAINIA_384,meGUAVIARE_384,meHUILA_384,meGUAJIRA_384,meMAGDALENA_384,meMETA_384,meNARINO_384,meNORTE_SANTANDER_384,mePUTUMAYO_384,meQUINDIO_384,meRISARALDA_384,meSAN_ANDRES_384,meSANTANDER_384,meSUCRE_384,meTOLIMA_384,meVALLE_384,meVAUPES_384,meVICHADA_384) # Unimos los tres vectores                                                                       \n",
    "mc384<-data[mcon,]\n",
    "head(mc384)"
   ]
  },
  {
   "cell_type": "code",
   "execution_count": 44,
   "metadata": {},
   "outputs": [
    {
     "data": {
      "image/png": "[encoded data removed]",
      "text/plain": [
       "Plot with title \"Competencias Ciudadanas (MC)\""
      ]
     },
     "metadata": {
      "image/png": {
       "height": 720,
       "width": 720
      },
      "text/plain": {
       "height": 720,
       "width": 720
      }
     },
     "output_type": "display_data"
    }
   ],
   "source": [
    "par(mfrow=c(3,2))\n",
    "\n",
    "with(mc384, hist(raz_cuant_punt, nclass = 50, cex.main=2.5, cex.axis=1.5, cex.lab=1.5,main = 'Razonamiento Cuantitativo (MC)'))\n",
    "with(mc384, plot(raz_cuant_des,raz_cuant_punt,  cex.main=2.5, cex.axis=1.5, cex.lab=1.5))\n",
    "with(mc384, hist(lect_crit_punt, nclass = 50, cex.main=2.5, cex.axis=1.5, cex.lab=1.5,main = 'Lectura Crítica (MC)'))\n",
    "with(mc384, plot(lect_crit_des,lect_crit_punt,  cex.main=2.5, cex.axis=1.5, cex.lab=1.5))\n",
    "with(mc384, hist(comp_ciud_punt, nclass = 50, cex.main=2.5, cex.axis=1.5, cex.lab=1.5,main = 'Competencias Ciudadanas (MC)'))\n",
    "with(mc384, plot(comp_ciud_des,comp_ciud_punt,  cex.main=2.5, cex.axis=1.5, cex.lab=1.5))\n",
    "par(mfrow=c(1,1))"
   ]
  },
  {
   "cell_type": "markdown",
   "metadata": {},
   "source": [
    "Inferencia MC"
   ]
  },
  {
   "cell_type": "code",
   "execution_count": 45,
   "metadata": {},
   "outputs": [
    {
     "data": {
      "text/html": [
       "<table>\n",
       "<caption>A data.frame: 5 × 3</caption>\n",
       "<thead>\n",
       "\t<tr><th></th><th scope=col>stats.mmcraz.raz.cuant</th><th scope=col>stats.mmclect.lect.crit</th><th scope=col>stats.mmccomp.comp.ciud</th></tr>\n",
       "\t<tr><th></th><th scope=col>&lt;dbl&gt;</th><th scope=col>&lt;dbl&gt;</th><th scope=col>&lt;dbl&gt;</th></tr>\n",
       "</thead>\n",
       "<tbody>\n",
       "\t<tr><th scope=row>tamaño</th><td>402.0</td><td>402.0</td><td>402.0</td></tr>\n",
       "\t<tr><th scope=row>media</th><td>152.1</td><td>151.7</td><td>151.1</td></tr>\n",
       "\t<tr><th scope=row>desviación estándar</th><td> 30.1</td><td> 29.6</td><td> 30.2</td></tr>\n",
       "\t<tr><th scope=row>simetría</th><td>  0.3</td><td> -0.1</td><td>  0.1</td></tr>\n",
       "\t<tr><th scope=row>kurtosis</th><td>  0.6</td><td> -0.6</td><td>  0.5</td></tr>\n",
       "</tbody>\n",
       "</table>\n"
      ],
      "text/latex": [
       "A data.frame: 5 × 3\n",
       "\\begin{tabular}{r|lll}\n",
       "  & stats.mmcraz.raz.cuant & stats.mmclect.lect.crit & stats.mmccomp.comp.ciud\\\\\n",
       "  & <dbl> & <dbl> & <dbl>\\\\\n",
       "\\hline\n",
       "\ttamaño & 402.0 & 402.0 & 402.0\\\\\n",
       "\tmedia & 152.1 & 151.7 & 151.1\\\\\n",
       "\tdesviación estándar &  30.1 &  29.6 &  30.2\\\\\n",
       "\tsimetría &   0.3 &  -0.1 &   0.1\\\\\n",
       "\tkurtosis &   0.6 &  -0.6 &   0.5\\\\\n",
       "\\end{tabular}\n"
      ],
      "text/markdown": [
       "\n",
       "A data.frame: 5 × 3\n",
       "\n",
       "| <!--/--> | stats.mmcraz.raz.cuant &lt;dbl&gt; | stats.mmclect.lect.crit &lt;dbl&gt; | stats.mmccomp.comp.ciud &lt;dbl&gt; |\n",
       "|---|---|---|---|\n",
       "| tamaño | 402.0 | 402.0 | 402.0 |\n",
       "| media | 152.1 | 151.7 | 151.1 |\n",
       "| desviación estándar |  30.1 |  29.6 |  30.2 |\n",
       "| simetría |   0.3 |  -0.1 |   0.1 |\n",
       "| kurtosis |   0.6 |  -0.6 |   0.5 |\n",
       "\n"
      ],
      "text/plain": [
       "                    stats.mmcraz.raz.cuant stats.mmclect.lect.crit\n",
       "tamaño              402.0                  402.0                  \n",
       "media               152.1                  151.7                  \n",
       "desviación estándar  30.1                   29.6                  \n",
       "simetría              0.3                   -0.1                  \n",
       "kurtosis              0.6                   -0.6                  \n",
       "                    stats.mmccomp.comp.ciud\n",
       "tamaño              402.0                  \n",
       "media               151.1                  \n",
       "desviación estándar  30.2                  \n",
       "simetría              0.1                  \n",
       "kurtosis              0.5                  "
      ]
     },
     "metadata": {},
     "output_type": "display_data"
    }
   ],
   "source": [
    "stats.mmcraz.raz.cuant<-round(mystats(data[mcon,'raz_cuant_punt']),1)\n",
    "stats.mmclect.lect.crit<-round(mystats(data[mcon,'lect_crit_punt']),1)\n",
    "stats.mmccomp.comp.ciud<-round(mystats(data[mcon,'comp_ciud_punt']),1)\n",
    "data.frame(stats.mmcraz.raz.cuant,stats.mmclect.lect.crit,stats.mmccomp.comp.ciud)"
   ]
  },
  {
   "cell_type": "code",
   "execution_count": 46,
   "metadata": {},
   "outputs": [],
   "source": [
    "d.mcon<-data[mcon,]"
   ]
  },
  {
   "cell_type": "markdown",
   "metadata": {},
   "source": [
    "**Estimación por Máxima Verosimilitud**"
   ]
  },
  {
   "cell_type": "code",
   "execution_count": 94,
   "metadata": {},
   "outputs": [
    {
     "name": "stderr",
     "output_type": "stream",
     "text": [
      "Warning message in dnorm(d.raz_cuant, mu, sigma, log = TRUE):\n",
      "\"NaNs produced\"\n",
      "Warning message in dnorm(d.raz_cuant, mu, sigma, log = TRUE):\n",
      "\"NaNs produced\"\n"
     ]
    },
    {
     "data": {
      "text/plain": [
       "Maximum likelihood estimation\n",
       "\n",
       "Call:\n",
       "mle(minuslogl = NegLogLikrazcuant, start = list(mu = mean(na.omit(d.mcon$raz_cuant_punt)), \n",
       "    sigma = sd(na.omit(d.mcon$raz_cuant_punt))))\n",
       "\n",
       "Coefficients:\n",
       "      Estimate Std. Error\n",
       "mu    149.4512 0.03603892\n",
       "sigma  30.6923 0.02548343\n",
       "\n",
       "-2 log L: 7025133 "
      ]
     },
     "metadata": {},
     "output_type": "display_data"
    },
    {
     "name": "stderr",
     "output_type": "stream",
     "text": [
      "Warning message in dnorm(d.lect_crit, mu, sigma, log = TRUE):\n",
      "\"NaNs produced\"\n",
      "Warning message in dnorm(d.lect_crit, mu, sigma, log = TRUE):\n",
      "\"NaNs produced\"\n"
     ]
    },
    {
     "data": {
      "text/plain": [
       "Maximum likelihood estimation\n",
       "\n",
       "Call:\n",
       "mle(minuslogl = NegLogLiklectcrit, start = list(mu = mean(na.omit(d.mcon$lect_crit_punt)), \n",
       "    sigma = sd(na.omit(d.mcon$lect_crit_punt))))\n",
       "\n",
       "Coefficients:\n",
       "       Estimate Std. Error\n",
       "mu    150.12224 0.03638783\n",
       "sigma  30.98941 0.02573003\n",
       "\n",
       "-2 log L: 7039112 "
      ]
     },
     "metadata": {},
     "output_type": "display_data"
    },
    {
     "name": "stderr",
     "output_type": "stream",
     "text": [
      "Warning message in dnorm(d.comp_ciud, mu, sigma, log = TRUE):\n",
      "\"NaNs produced\"\n",
      "Warning message in dnorm(d.comp_ciud, mu, sigma, log = TRUE):\n",
      "\"NaNs produced\"\n",
      "Warning message in dnorm(d.comp_ciud, mu, sigma, log = TRUE):\n",
      "\"NaNs produced\"\n",
      "Warning message in dnorm(d.comp_ciud, mu, sigma, log = TRUE):\n",
      "\"NaNs produced\"\n",
      "Warning message in dnorm(d.comp_ciud, mu, sigma, log = TRUE):\n",
      "\"NaNs produced\"\n"
     ]
    },
    {
     "data": {
      "text/plain": [
       "Maximum likelihood estimation\n",
       "\n",
       "Call:\n",
       "mle(minuslogl = NegLogLikcompciud, start = list(mu = mean(na.omit(d.mcon$comp_ciud_punt)), \n",
       "    sigma = sd(na.omit(d.mcon$comp_ciud_punt))))\n",
       "\n",
       "Coefficients:\n",
       "       Estimate Std. Error\n",
       "mu    144.75271 0.03811406\n",
       "sigma  32.45962 0.02694499\n",
       "\n",
       "-2 log L: 7106553 "
      ]
     },
     "metadata": {},
     "output_type": "display_data"
    }
   ],
   "source": [
    "EMVraz.cuant.me = mle(NegLogLikrazcuant, start = list(mu=mean(na.omit(d.mcon$raz_cuant_punt)), sigma=sd(na.omit(d.mcon$raz_cuant_punt))))\n",
    "summary(EMVraz.cuant.me) # Para visualizar los valores\n",
    "                                               \n",
    "EMVlect.crit.me = mle(NegLogLiklectcrit, start = list(mu=mean(na.omit(d.mcon$lect_crit_punt)), sigma=sd(na.omit(d.mcon$lect_crit_punt))))\n",
    "summary(EMVlect.crit.me) # Para visualizar los valores\n",
    "                                               \n",
    "EMVcomp.ciud.me = mle(NegLogLikcompciud, start = list(mu=mean(na.omit(d.mcon$comp_ciud_punt)), sigma=sd(na.omit(d.mcon$comp_ciud_punt))))\n",
    "summary(EMVcomp.ciud.me) # Para visualizar los valores"
   ]
  },
  {
   "cell_type": "markdown",
   "metadata": {},
   "source": [
    "Así como en los muestreos realizados hasta ahora, en el muestreo por conglomerados también se obtiene una estimación bastante precisa en cada una de las variables tanto para la media como la desviación."
   ]
  },
  {
   "cell_type": "markdown",
   "metadata": {},
   "source": [
    "**Intervalos de Confianza**"
   ]
  },
  {
   "cell_type": "code",
   "execution_count": 62,
   "metadata": {},
   "outputs": [
    {
     "data": {
      "text/html": [
       "<table>\n",
       "<caption>A data.frame: 1 × 7</caption>\n",
       "<thead>\n",
       "\t<tr><th scope=col>media</th><th scope=col>desv</th><th scope=col>N</th><th scope=col>error.est</th><th scope=col>error</th><th scope=col>lim.inf</th><th scope=col>lim.sup</th></tr>\n",
       "\t<tr><th scope=col>&lt;dbl&gt;</th><th scope=col>&lt;dbl&gt;</th><th scope=col>&lt;dbl&gt;</th><th scope=col>&lt;dbl&gt;</th><th scope=col>&lt;dbl&gt;</th><th scope=col>&lt;dbl&gt;</th><th scope=col>&lt;dbl&gt;</th></tr>\n",
       "</thead>\n",
       "<tbody>\n",
       "\t<tr><td>152.13</td><td>30.15</td><td>402</td><td>1.5</td><td>2.47</td><td>149.67</td><td>154.6</td></tr>\n",
       "</tbody>\n",
       "</table>\n"
      ],
      "text/latex": [
       "A data.frame: 1 × 7\n",
       "\\begin{tabular}{lllllll}\n",
       " media & desv & N & error.est & error & lim.inf & lim.sup\\\\\n",
       " <dbl> & <dbl> & <dbl> & <dbl> & <dbl> & <dbl> & <dbl>\\\\\n",
       "\\hline\n",
       "\t 152.13 & 30.15 & 402 & 1.5 & 2.47 & 149.67 & 154.6\\\\\n",
       "\\end{tabular}\n"
      ],
      "text/markdown": [
       "\n",
       "A data.frame: 1 × 7\n",
       "\n",
       "| media &lt;dbl&gt; | desv &lt;dbl&gt; | N &lt;dbl&gt; | error.est &lt;dbl&gt; | error &lt;dbl&gt; | lim.inf &lt;dbl&gt; | lim.sup &lt;dbl&gt; |\n",
       "|---|---|---|---|---|---|---|\n",
       "| 152.13 | 30.15 | 402 | 1.5 | 2.47 | 149.67 | 154.6 |\n",
       "\n"
      ],
      "text/plain": [
       "  media  desv  N   error.est error lim.inf lim.sup\n",
       "1 152.13 30.15 402 1.5       2.47  149.67  154.6  "
      ]
     },
     "metadata": {},
     "output_type": "display_data"
    },
    {
     "data": {
      "text/html": [
       "<table>\n",
       "<caption>A data.frame: 1 × 7</caption>\n",
       "<thead>\n",
       "\t<tr><th scope=col>media</th><th scope=col>desv</th><th scope=col>N</th><th scope=col>error.est</th><th scope=col>error</th><th scope=col>lim.inf</th><th scope=col>lim.sup</th></tr>\n",
       "\t<tr><th scope=col>&lt;dbl&gt;</th><th scope=col>&lt;dbl&gt;</th><th scope=col>&lt;dbl&gt;</th><th scope=col>&lt;dbl&gt;</th><th scope=col>&lt;dbl&gt;</th><th scope=col>&lt;dbl&gt;</th><th scope=col>&lt;dbl&gt;</th></tr>\n",
       "</thead>\n",
       "<tbody>\n",
       "\t<tr><td>151.73</td><td>29.64</td><td>402</td><td>1.48</td><td>2.42</td><td>149.31</td><td>154.16</td></tr>\n",
       "</tbody>\n",
       "</table>\n"
      ],
      "text/latex": [
       "A data.frame: 1 × 7\n",
       "\\begin{tabular}{lllllll}\n",
       " media & desv & N & error.est & error & lim.inf & lim.sup\\\\\n",
       " <dbl> & <dbl> & <dbl> & <dbl> & <dbl> & <dbl> & <dbl>\\\\\n",
       "\\hline\n",
       "\t 151.73 & 29.64 & 402 & 1.48 & 2.42 & 149.31 & 154.16\\\\\n",
       "\\end{tabular}\n"
      ],
      "text/markdown": [
       "\n",
       "A data.frame: 1 × 7\n",
       "\n",
       "| media &lt;dbl&gt; | desv &lt;dbl&gt; | N &lt;dbl&gt; | error.est &lt;dbl&gt; | error &lt;dbl&gt; | lim.inf &lt;dbl&gt; | lim.sup &lt;dbl&gt; |\n",
       "|---|---|---|---|---|---|---|\n",
       "| 151.73 | 29.64 | 402 | 1.48 | 2.42 | 149.31 | 154.16 |\n",
       "\n"
      ],
      "text/plain": [
       "  media  desv  N   error.est error lim.inf lim.sup\n",
       "1 151.73 29.64 402 1.48      2.42  149.31  154.16 "
      ]
     },
     "metadata": {},
     "output_type": "display_data"
    },
    {
     "data": {
      "text/html": [
       "<table>\n",
       "<caption>A data.frame: 1 × 7</caption>\n",
       "<thead>\n",
       "\t<tr><th scope=col>media</th><th scope=col>desv</th><th scope=col>N</th><th scope=col>error.est</th><th scope=col>error</th><th scope=col>lim.inf</th><th scope=col>lim.sup</th></tr>\n",
       "\t<tr><th scope=col>&lt;dbl&gt;</th><th scope=col>&lt;dbl&gt;</th><th scope=col>&lt;dbl&gt;</th><th scope=col>&lt;dbl&gt;</th><th scope=col>&lt;dbl&gt;</th><th scope=col>&lt;dbl&gt;</th><th scope=col>&lt;dbl&gt;</th></tr>\n",
       "</thead>\n",
       "<tbody>\n",
       "\t<tr><td>151.08</td><td>30.21</td><td>402</td><td>1.51</td><td>2.47</td><td>148.61</td><td>153.55</td></tr>\n",
       "</tbody>\n",
       "</table>\n"
      ],
      "text/latex": [
       "A data.frame: 1 × 7\n",
       "\\begin{tabular}{lllllll}\n",
       " media & desv & N & error.est & error & lim.inf & lim.sup\\\\\n",
       " <dbl> & <dbl> & <dbl> & <dbl> & <dbl> & <dbl> & <dbl>\\\\\n",
       "\\hline\n",
       "\t 151.08 & 30.21 & 402 & 1.51 & 2.47 & 148.61 & 153.55\\\\\n",
       "\\end{tabular}\n"
      ],
      "text/markdown": [
       "\n",
       "A data.frame: 1 × 7\n",
       "\n",
       "| media &lt;dbl&gt; | desv &lt;dbl&gt; | N &lt;dbl&gt; | error.est &lt;dbl&gt; | error &lt;dbl&gt; | lim.inf &lt;dbl&gt; | lim.sup &lt;dbl&gt; |\n",
       "|---|---|---|---|---|---|---|\n",
       "| 151.08 | 30.21 | 402 | 1.51 | 2.47 | 148.61 | 153.55 |\n",
       "\n"
      ],
      "text/plain": [
       "  media  desv  N   error.est error lim.inf lim.sup\n",
       "1 151.08 30.21 402 1.51      2.47  148.61  153.55 "
      ]
     },
     "metadata": {},
     "output_type": "display_data"
    }
   ],
   "source": [
    "infmc_raz_cuant90<- inf_manual(d.mcon$raz_cuant_punt,1.64)\n",
    "round(infmc_raz_cuant90,2)\n",
    "\n",
    "infmc_lect_crit90<-inf_manual(d.mcon$lect_crit_punt,1.64)\n",
    "round(infmc_lect_crit90,2)\n",
    "\n",
    "infmc_comp_ciud90<-inf_manual(d.mcon$comp_ciud_punt,1.64)\n",
    "round(infmc_comp_ciud90,2)"
   ]
  },
  {
   "cell_type": "code",
   "execution_count": 63,
   "metadata": {},
   "outputs": [
    {
     "data": {
      "text/html": [
       "<table>\n",
       "<caption>A data.frame: 1 × 7</caption>\n",
       "<thead>\n",
       "\t<tr><th scope=col>media</th><th scope=col>desv</th><th scope=col>N</th><th scope=col>error.est</th><th scope=col>error</th><th scope=col>lim.inf</th><th scope=col>lim.sup</th></tr>\n",
       "\t<tr><th scope=col>&lt;dbl&gt;</th><th scope=col>&lt;dbl&gt;</th><th scope=col>&lt;dbl&gt;</th><th scope=col>&lt;dbl&gt;</th><th scope=col>&lt;dbl&gt;</th><th scope=col>&lt;dbl&gt;</th><th scope=col>&lt;dbl&gt;</th></tr>\n",
       "</thead>\n",
       "<tbody>\n",
       "\t<tr><td>152.13</td><td>30.15</td><td>402</td><td>1.5</td><td>2.95</td><td>149.19</td><td>155.08</td></tr>\n",
       "</tbody>\n",
       "</table>\n"
      ],
      "text/latex": [
       "A data.frame: 1 × 7\n",
       "\\begin{tabular}{lllllll}\n",
       " media & desv & N & error.est & error & lim.inf & lim.sup\\\\\n",
       " <dbl> & <dbl> & <dbl> & <dbl> & <dbl> & <dbl> & <dbl>\\\\\n",
       "\\hline\n",
       "\t 152.13 & 30.15 & 402 & 1.5 & 2.95 & 149.19 & 155.08\\\\\n",
       "\\end{tabular}\n"
      ],
      "text/markdown": [
       "\n",
       "A data.frame: 1 × 7\n",
       "\n",
       "| media &lt;dbl&gt; | desv &lt;dbl&gt; | N &lt;dbl&gt; | error.est &lt;dbl&gt; | error &lt;dbl&gt; | lim.inf &lt;dbl&gt; | lim.sup &lt;dbl&gt; |\n",
       "|---|---|---|---|---|---|---|\n",
       "| 152.13 | 30.15 | 402 | 1.5 | 2.95 | 149.19 | 155.08 |\n",
       "\n"
      ],
      "text/plain": [
       "  media  desv  N   error.est error lim.inf lim.sup\n",
       "1 152.13 30.15 402 1.5       2.95  149.19  155.08 "
      ]
     },
     "metadata": {},
     "output_type": "display_data"
    },
    {
     "data": {
      "text/html": [
       "<table>\n",
       "<caption>A data.frame: 1 × 7</caption>\n",
       "<thead>\n",
       "\t<tr><th scope=col>media</th><th scope=col>desv</th><th scope=col>N</th><th scope=col>error.est</th><th scope=col>error</th><th scope=col>lim.inf</th><th scope=col>lim.sup</th></tr>\n",
       "\t<tr><th scope=col>&lt;dbl&gt;</th><th scope=col>&lt;dbl&gt;</th><th scope=col>&lt;dbl&gt;</th><th scope=col>&lt;dbl&gt;</th><th scope=col>&lt;dbl&gt;</th><th scope=col>&lt;dbl&gt;</th><th scope=col>&lt;dbl&gt;</th></tr>\n",
       "</thead>\n",
       "<tbody>\n",
       "\t<tr><td>151.73</td><td>29.64</td><td>402</td><td>1.48</td><td>2.9</td><td>148.83</td><td>154.63</td></tr>\n",
       "</tbody>\n",
       "</table>\n"
      ],
      "text/latex": [
       "A data.frame: 1 × 7\n",
       "\\begin{tabular}{lllllll}\n",
       " media & desv & N & error.est & error & lim.inf & lim.sup\\\\\n",
       " <dbl> & <dbl> & <dbl> & <dbl> & <dbl> & <dbl> & <dbl>\\\\\n",
       "\\hline\n",
       "\t 151.73 & 29.64 & 402 & 1.48 & 2.9 & 148.83 & 154.63\\\\\n",
       "\\end{tabular}\n"
      ],
      "text/markdown": [
       "\n",
       "A data.frame: 1 × 7\n",
       "\n",
       "| media &lt;dbl&gt; | desv &lt;dbl&gt; | N &lt;dbl&gt; | error.est &lt;dbl&gt; | error &lt;dbl&gt; | lim.inf &lt;dbl&gt; | lim.sup &lt;dbl&gt; |\n",
       "|---|---|---|---|---|---|---|\n",
       "| 151.73 | 29.64 | 402 | 1.48 | 2.9 | 148.83 | 154.63 |\n",
       "\n"
      ],
      "text/plain": [
       "  media  desv  N   error.est error lim.inf lim.sup\n",
       "1 151.73 29.64 402 1.48      2.9   148.83  154.63 "
      ]
     },
     "metadata": {},
     "output_type": "display_data"
    },
    {
     "data": {
      "text/html": [
       "<table>\n",
       "<caption>A data.frame: 1 × 7</caption>\n",
       "<thead>\n",
       "\t<tr><th scope=col>media</th><th scope=col>desv</th><th scope=col>N</th><th scope=col>error.est</th><th scope=col>error</th><th scope=col>lim.inf</th><th scope=col>lim.sup</th></tr>\n",
       "\t<tr><th scope=col>&lt;dbl&gt;</th><th scope=col>&lt;dbl&gt;</th><th scope=col>&lt;dbl&gt;</th><th scope=col>&lt;dbl&gt;</th><th scope=col>&lt;dbl&gt;</th><th scope=col>&lt;dbl&gt;</th><th scope=col>&lt;dbl&gt;</th></tr>\n",
       "</thead>\n",
       "<tbody>\n",
       "\t<tr><td>151.08</td><td>30.21</td><td>402</td><td>1.51</td><td>2.95</td><td>148.13</td><td>154.03</td></tr>\n",
       "</tbody>\n",
       "</table>\n"
      ],
      "text/latex": [
       "A data.frame: 1 × 7\n",
       "\\begin{tabular}{lllllll}\n",
       " media & desv & N & error.est & error & lim.inf & lim.sup\\\\\n",
       " <dbl> & <dbl> & <dbl> & <dbl> & <dbl> & <dbl> & <dbl>\\\\\n",
       "\\hline\n",
       "\t 151.08 & 30.21 & 402 & 1.51 & 2.95 & 148.13 & 154.03\\\\\n",
       "\\end{tabular}\n"
      ],
      "text/markdown": [
       "\n",
       "A data.frame: 1 × 7\n",
       "\n",
       "| media &lt;dbl&gt; | desv &lt;dbl&gt; | N &lt;dbl&gt; | error.est &lt;dbl&gt; | error &lt;dbl&gt; | lim.inf &lt;dbl&gt; | lim.sup &lt;dbl&gt; |\n",
       "|---|---|---|---|---|---|---|\n",
       "| 151.08 | 30.21 | 402 | 1.51 | 2.95 | 148.13 | 154.03 |\n",
       "\n"
      ],
      "text/plain": [
       "  media  desv  N   error.est error lim.inf lim.sup\n",
       "1 151.08 30.21 402 1.51      2.95  148.13  154.03 "
      ]
     },
     "metadata": {},
     "output_type": "display_data"
    }
   ],
   "source": [
    "infmc_raz_cuant95<- inf_manual(d.mcon$raz_cuant_punt,1.96)\n",
    "round(infmc_raz_cuant95,2)\n",
    "\n",
    "infmc_lect_crit95<-inf_manual(d.mcon$lect_crit_punt,1.96)\n",
    "round(infmc_lect_crit95,2)\n",
    "\n",
    "infmc_comp_ciud95<- inf_manual(d.mcon$comp_ciud_punt,1.96)\n",
    "round(infmc_comp_ciud95,2)"
   ]
  },
  {
   "cell_type": "code",
   "execution_count": 64,
   "metadata": {},
   "outputs": [
    {
     "data": {
      "text/html": [
       "<table>\n",
       "<caption>A data.frame: 1 × 7</caption>\n",
       "<thead>\n",
       "\t<tr><th scope=col>media</th><th scope=col>desv</th><th scope=col>N</th><th scope=col>error.est</th><th scope=col>error</th><th scope=col>lim.inf</th><th scope=col>lim.sup</th></tr>\n",
       "\t<tr><th scope=col>&lt;dbl&gt;</th><th scope=col>&lt;dbl&gt;</th><th scope=col>&lt;dbl&gt;</th><th scope=col>&lt;dbl&gt;</th><th scope=col>&lt;dbl&gt;</th><th scope=col>&lt;dbl&gt;</th><th scope=col>&lt;dbl&gt;</th></tr>\n",
       "</thead>\n",
       "<tbody>\n",
       "\t<tr><td>152.13</td><td>30.15</td><td>402</td><td>1.5</td><td>3.86</td><td>148.27</td><td>156</td></tr>\n",
       "</tbody>\n",
       "</table>\n"
      ],
      "text/latex": [
       "A data.frame: 1 × 7\n",
       "\\begin{tabular}{lllllll}\n",
       " media & desv & N & error.est & error & lim.inf & lim.sup\\\\\n",
       " <dbl> & <dbl> & <dbl> & <dbl> & <dbl> & <dbl> & <dbl>\\\\\n",
       "\\hline\n",
       "\t 152.13 & 30.15 & 402 & 1.5 & 3.86 & 148.27 & 156\\\\\n",
       "\\end{tabular}\n"
      ],
      "text/markdown": [
       "\n",
       "A data.frame: 1 × 7\n",
       "\n",
       "| media &lt;dbl&gt; | desv &lt;dbl&gt; | N &lt;dbl&gt; | error.est &lt;dbl&gt; | error &lt;dbl&gt; | lim.inf &lt;dbl&gt; | lim.sup &lt;dbl&gt; |\n",
       "|---|---|---|---|---|---|---|\n",
       "| 152.13 | 30.15 | 402 | 1.5 | 3.86 | 148.27 | 156 |\n",
       "\n"
      ],
      "text/plain": [
       "  media  desv  N   error.est error lim.inf lim.sup\n",
       "1 152.13 30.15 402 1.5       3.86  148.27  156    "
      ]
     },
     "metadata": {},
     "output_type": "display_data"
    },
    {
     "data": {
      "text/html": [
       "<table>\n",
       "<caption>A data.frame: 1 × 7</caption>\n",
       "<thead>\n",
       "\t<tr><th scope=col>media</th><th scope=col>desv</th><th scope=col>N</th><th scope=col>error.est</th><th scope=col>error</th><th scope=col>lim.inf</th><th scope=col>lim.sup</th></tr>\n",
       "\t<tr><th scope=col>&lt;dbl&gt;</th><th scope=col>&lt;dbl&gt;</th><th scope=col>&lt;dbl&gt;</th><th scope=col>&lt;dbl&gt;</th><th scope=col>&lt;dbl&gt;</th><th scope=col>&lt;dbl&gt;</th><th scope=col>&lt;dbl&gt;</th></tr>\n",
       "</thead>\n",
       "<tbody>\n",
       "\t<tr><td>151.73</td><td>29.64</td><td>402</td><td>1.48</td><td>3.8</td><td>147.93</td><td>155.53</td></tr>\n",
       "</tbody>\n",
       "</table>\n"
      ],
      "text/latex": [
       "A data.frame: 1 × 7\n",
       "\\begin{tabular}{lllllll}\n",
       " media & desv & N & error.est & error & lim.inf & lim.sup\\\\\n",
       " <dbl> & <dbl> & <dbl> & <dbl> & <dbl> & <dbl> & <dbl>\\\\\n",
       "\\hline\n",
       "\t 151.73 & 29.64 & 402 & 1.48 & 3.8 & 147.93 & 155.53\\\\\n",
       "\\end{tabular}\n"
      ],
      "text/markdown": [
       "\n",
       "A data.frame: 1 × 7\n",
       "\n",
       "| media &lt;dbl&gt; | desv &lt;dbl&gt; | N &lt;dbl&gt; | error.est &lt;dbl&gt; | error &lt;dbl&gt; | lim.inf &lt;dbl&gt; | lim.sup &lt;dbl&gt; |\n",
       "|---|---|---|---|---|---|---|\n",
       "| 151.73 | 29.64 | 402 | 1.48 | 3.8 | 147.93 | 155.53 |\n",
       "\n"
      ],
      "text/plain": [
       "  media  desv  N   error.est error lim.inf lim.sup\n",
       "1 151.73 29.64 402 1.48      3.8   147.93  155.53 "
      ]
     },
     "metadata": {},
     "output_type": "display_data"
    },
    {
     "data": {
      "text/html": [
       "<table>\n",
       "<caption>A data.frame: 1 × 7</caption>\n",
       "<thead>\n",
       "\t<tr><th scope=col>media</th><th scope=col>desv</th><th scope=col>N</th><th scope=col>error.est</th><th scope=col>error</th><th scope=col>lim.inf</th><th scope=col>lim.sup</th></tr>\n",
       "\t<tr><th scope=col>&lt;dbl&gt;</th><th scope=col>&lt;dbl&gt;</th><th scope=col>&lt;dbl&gt;</th><th scope=col>&lt;dbl&gt;</th><th scope=col>&lt;dbl&gt;</th><th scope=col>&lt;dbl&gt;</th><th scope=col>&lt;dbl&gt;</th></tr>\n",
       "</thead>\n",
       "<tbody>\n",
       "\t<tr><td>151.08</td><td>30.21</td><td>402</td><td>1.51</td><td>3.87</td><td>147.21</td><td>154.95</td></tr>\n",
       "</tbody>\n",
       "</table>\n"
      ],
      "text/latex": [
       "A data.frame: 1 × 7\n",
       "\\begin{tabular}{lllllll}\n",
       " media & desv & N & error.est & error & lim.inf & lim.sup\\\\\n",
       " <dbl> & <dbl> & <dbl> & <dbl> & <dbl> & <dbl> & <dbl>\\\\\n",
       "\\hline\n",
       "\t 151.08 & 30.21 & 402 & 1.51 & 3.87 & 147.21 & 154.95\\\\\n",
       "\\end{tabular}\n"
      ],
      "text/markdown": [
       "\n",
       "A data.frame: 1 × 7\n",
       "\n",
       "| media &lt;dbl&gt; | desv &lt;dbl&gt; | N &lt;dbl&gt; | error.est &lt;dbl&gt; | error &lt;dbl&gt; | lim.inf &lt;dbl&gt; | lim.sup &lt;dbl&gt; |\n",
       "|---|---|---|---|---|---|---|\n",
       "| 151.08 | 30.21 | 402 | 1.51 | 3.87 | 147.21 | 154.95 |\n",
       "\n"
      ],
      "text/plain": [
       "  media  desv  N   error.est error lim.inf lim.sup\n",
       "1 151.08 30.21 402 1.51      3.87  147.21  154.95 "
      ]
     },
     "metadata": {},
     "output_type": "display_data"
    }
   ],
   "source": [
    "infmc_raz_cuant99<-inf_manual(d.mcon$raz_cuant_punt,2.57)\n",
    "round(infmc_raz_cuant99,2)\n",
    "\n",
    "infmc_lect_crit99<- inf_manual(d.mcon$lect_crit_punt,2.57)\n",
    "round(infmc_lect_crit99,2)\n",
    "\n",
    "infmc_comp_ciud99<- inf_manual(d.mcon$comp_ciud_punt,2.57)\n",
    "round(infmc_comp_ciud99,2)"
   ]
  },
  {
   "cell_type": "markdown",
   "metadata": {},
   "source": [
    "<h3 align=\"left\">Muestreo Sistemático</h3><br> "
   ]
  },
  {
   "cell_type": "markdown",
   "metadata": {
    "slideshow": {
     "slide_type": "-"
    }
   },
   "source": [
    "El muestreo sistemático sí puede ser procedente debido a que no se observa alguna periodicidad en los datos a analizar, por lo que este probablemente sea lo suficientemente representativo"
   ]
  },
  {
   "cell_type": "code",
   "execution_count": 51,
   "metadata": {},
   "outputs": [
    {
     "data": {
      "image/png": "[encoded data removed]",
      "text/plain": [
       "Plot with title \"Competencias Ciudadanas (MS)\""
      ]
     },
     "metadata": {
      "image/png": {
       "height": 720,
       "width": 720
      },
      "text/plain": {
       "height": 720,
       "width": 720
      }
     },
     "output_type": "display_data"
    }
   ],
   "source": [
    "msis<- sys.sample(N=nrow(data),n=384)\n",
    "d.msis<-data[msis,]\n",
    "par(mfrow=c(3,2))\n",
    "with(d.msis, hist(raz_cuant_punt, nclass = 50, cex.main=2.5, cex.axis=1.5, cex.lab=1.5,main = 'Razonamiento Cuantitativo (MS)'))\n",
    "with(d.msis, plot(raz_cuant_des,raz_cuant_punt, cex.main=2.5, cex.axis=1.5, cex.lab=1.5))\n",
    "with(d.msis, hist(lect_crit_punt, nclass = 50, cex.main=2.5, cex.axis=1.5, cex.lab=1.5,main = 'Lectura Crítica (MS)'))\n",
    "with(d.msis, plot(lect_crit_des,lect_crit_punt, cex.main=2.5, cex.axis=1.5, cex.lab=1.5))\n",
    "with(d.msis, hist(comp_ciud_punt, nclass = 50, cex.main=2.5, cex.axis=1.5, cex.lab=1.5,main = 'Competencias Ciudadanas (MS)'))\n",
    "with(d.msis, plot(comp_ciud_des,comp_ciud_punt,  cex.main=2.5, cex.axis=1.5, cex.lab=1.5))\n",
    "par(mfrow=c(1,1))"
   ]
  },
  {
   "cell_type": "code",
   "execution_count": 52,
   "metadata": {
    "scrolled": true
   },
   "outputs": [
    {
     "data": {
      "text/html": [
       "<table>\n",
       "<caption>A data.frame: 5 × 3</caption>\n",
       "<thead>\n",
       "\t<tr><th></th><th scope=col>stats.msis.raz.cuant</th><th scope=col>stats.msis.lect.crit</th><th scope=col>stats.msis.comp.ciud</th></tr>\n",
       "\t<tr><th></th><th scope=col>&lt;dbl&gt;</th><th scope=col>&lt;dbl&gt;</th><th scope=col>&lt;dbl&gt;</th></tr>\n",
       "</thead>\n",
       "<tbody>\n",
       "\t<tr><th scope=row>tamaño</th><td>384.0</td><td>384.0</td><td>384.0</td></tr>\n",
       "\t<tr><th scope=row>media</th><td>151.4</td><td>151.5</td><td>147.2</td></tr>\n",
       "\t<tr><th scope=row>desviación estándar</th><td> 32.3</td><td> 30.8</td><td> 30.4</td></tr>\n",
       "\t<tr><th scope=row>simetría</th><td>  0.3</td><td> -0.1</td><td> -0.2</td></tr>\n",
       "\t<tr><th scope=row>kurtosis</th><td>  0.4</td><td> -0.5</td><td> -0.7</td></tr>\n",
       "</tbody>\n",
       "</table>\n"
      ],
      "text/latex": [
       "A data.frame: 5 × 3\n",
       "\\begin{tabular}{r|lll}\n",
       "  & stats.msis.raz.cuant & stats.msis.lect.crit & stats.msis.comp.ciud\\\\\n",
       "  & <dbl> & <dbl> & <dbl>\\\\\n",
       "\\hline\n",
       "\ttamaño & 384.0 & 384.0 & 384.0\\\\\n",
       "\tmedia & 151.4 & 151.5 & 147.2\\\\\n",
       "\tdesviación estándar &  32.3 &  30.8 &  30.4\\\\\n",
       "\tsimetría &   0.3 &  -0.1 &  -0.2\\\\\n",
       "\tkurtosis &   0.4 &  -0.5 &  -0.7\\\\\n",
       "\\end{tabular}\n"
      ],
      "text/markdown": [
       "\n",
       "A data.frame: 5 × 3\n",
       "\n",
       "| <!--/--> | stats.msis.raz.cuant &lt;dbl&gt; | stats.msis.lect.crit &lt;dbl&gt; | stats.msis.comp.ciud &lt;dbl&gt; |\n",
       "|---|---|---|---|\n",
       "| tamaño | 384.0 | 384.0 | 384.0 |\n",
       "| media | 151.4 | 151.5 | 147.2 |\n",
       "| desviación estándar |  32.3 |  30.8 |  30.4 |\n",
       "| simetría |   0.3 |  -0.1 |  -0.2 |\n",
       "| kurtosis |   0.4 |  -0.5 |  -0.7 |\n",
       "\n"
      ],
      "text/plain": [
       "                    stats.msis.raz.cuant stats.msis.lect.crit\n",
       "tamaño              384.0                384.0               \n",
       "media               151.4                151.5               \n",
       "desviación estándar  32.3                 30.8               \n",
       "simetría              0.3                 -0.1               \n",
       "kurtosis              0.4                 -0.5               \n",
       "                    stats.msis.comp.ciud\n",
       "tamaño              384.0               \n",
       "media               147.2               \n",
       "desviación estándar  30.4               \n",
       "simetría             -0.2               \n",
       "kurtosis             -0.7               "
      ]
     },
     "metadata": {},
     "output_type": "display_data"
    }
   ],
   "source": [
    "#stats MAS\n",
    "stats.msis.raz.cuant<-round(mystats(data[msis,'raz_cuant_punt']),1)\n",
    "stats.msis.lect.crit<-round(mystats(data[msis,'lect_crit_punt']),1)\n",
    "stats.msis.comp.ciud<-round(mystats(data[msis,'comp_ciud_punt']),1)\n",
    "data.frame(stats.msis.raz.cuant,stats.msis.lect.crit,stats.msis.comp.ciud)"
   ]
  },
  {
   "cell_type": "markdown",
   "metadata": {},
   "source": [
    "**Estimación por Máxima Verosimilitud**"
   ]
  },
  {
   "cell_type": "code",
   "execution_count": 95,
   "metadata": {},
   "outputs": [
    {
     "name": "stderr",
     "output_type": "stream",
     "text": [
      "Warning message in dnorm(d.raz_cuant, mu, sigma, log = TRUE):\n",
      "\"NaNs produced\"\n",
      "Warning message in dnorm(d.raz_cuant, mu, sigma, log = TRUE):\n",
      "\"NaNs produced\"\n",
      "Warning message in dnorm(d.raz_cuant, mu, sigma, log = TRUE):\n",
      "\"NaNs produced\"\n"
     ]
    },
    {
     "data": {
      "text/plain": [
       "Maximum likelihood estimation\n",
       "\n",
       "Call:\n",
       "mle(minuslogl = NegLogLikrazcuant, start = list(mu = mean(na.omit(d.msis$raz_cuant_punt)), \n",
       "    sigma = sd(na.omit(d.msis$raz_cuant_punt))))\n",
       "\n",
       "Coefficients:\n",
       "       Estimate Std. Error\n",
       "mu    149.45140 0.03603929\n",
       "sigma  30.69262 0.02548411\n",
       "\n",
       "-2 log L: 7025133 "
      ]
     },
     "metadata": {},
     "output_type": "display_data"
    },
    {
     "name": "stderr",
     "output_type": "stream",
     "text": [
      "Warning message in dnorm(d.lect_crit, mu, sigma, log = TRUE):\n",
      "\"NaNs produced\"\n",
      "Warning message in dnorm(d.lect_crit, mu, sigma, log = TRUE):\n",
      "\"NaNs produced\"\n"
     ]
    },
    {
     "data": {
      "text/plain": [
       "Maximum likelihood estimation\n",
       "\n",
       "Call:\n",
       "mle(minuslogl = NegLogLiklectcrit, start = list(mu = mean(na.omit(d.msis$lect_crit_punt)), \n",
       "    sigma = sd(na.omit(d.msis$lect_crit_punt))))\n",
       "\n",
       "Coefficients:\n",
       "       Estimate Std. Error\n",
       "mu    150.12235 0.03638784\n",
       "sigma  30.98946 0.02573012\n",
       "\n",
       "-2 log L: 7039112 "
      ]
     },
     "metadata": {},
     "output_type": "display_data"
    },
    {
     "name": "stderr",
     "output_type": "stream",
     "text": [
      "Warning message in dnorm(d.comp_ciud, mu, sigma, log = TRUE):\n",
      "\"NaNs produced\"\n",
      "Warning message in dnorm(d.comp_ciud, mu, sigma, log = TRUE):\n",
      "\"NaNs produced\"\n"
     ]
    },
    {
     "data": {
      "text/plain": [
       "Maximum likelihood estimation\n",
       "\n",
       "Call:\n",
       "mle(minuslogl = NegLogLikcompciud, start = list(mu = mean(na.omit(d.msis$comp_ciud_punt)), \n",
       "    sigma = sd(na.omit(d.msis$comp_ciud_punt))))\n",
       "\n",
       "Coefficients:\n",
       "       Estimate Std. Error\n",
       "mu    144.75908 0.03811929\n",
       "sigma  32.46401 0.02695413\n",
       "\n",
       "-2 log L: 7106553 "
      ]
     },
     "metadata": {},
     "output_type": "display_data"
    }
   ],
   "source": [
    "EMVraz.cuant.msis = mle(NegLogLikrazcuant, start = list(mu=mean(na.omit(d.msis$raz_cuant_punt)), sigma=sd(na.omit(d.msis$raz_cuant_punt))))\n",
    "summary(EMVraz.cuant.msis) # Para visualizar los valores\n",
    "                                               \n",
    "EMVlect.crit.msis = mle(NegLogLiklectcrit, start = list(mu=mean(na.omit(d.msis$lect_crit_punt)), sigma=sd(na.omit(d.msis$lect_crit_punt))))\n",
    "summary(EMVlect.crit.msis) # Para visualizar los valores\n",
    "                                               \n",
    "EMVcomp.ciud.msis = mle(NegLogLikcompciud, start = list(mu=mean(na.omit(d.msis$comp_ciud_punt)), sigma=sd(na.omit(d.msis$comp_ciud_punt))))\n",
    "summary(EMVcomp.ciud.msis) # Para visualizar los valores"
   ]
  },
  {
   "cell_type": "markdown",
   "metadata": {},
   "source": [
    "Con estos resultados, se puede corroborar que el Muestreo Sistemático es una buena aproximación a la población, así como el resto de muestreos realizados."
   ]
  },
  {
   "cell_type": "markdown",
   "metadata": {},
   "source": [
    "**Intervalos de Confianza**"
   ]
  },
  {
   "cell_type": "code",
   "execution_count": 53,
   "metadata": {},
   "outputs": [
    {
     "data": {
      "text/html": [
       "<table>\n",
       "<caption>A data.frame: 1 × 7</caption>\n",
       "<thead>\n",
       "\t<tr><th scope=col>media</th><th scope=col>desv</th><th scope=col>N</th><th scope=col>error.est</th><th scope=col>error</th><th scope=col>lim.inf</th><th scope=col>lim.sup</th></tr>\n",
       "\t<tr><th scope=col>&lt;dbl&gt;</th><th scope=col>&lt;dbl&gt;</th><th scope=col>&lt;dbl&gt;</th><th scope=col>&lt;dbl&gt;</th><th scope=col>&lt;dbl&gt;</th><th scope=col>&lt;dbl&gt;</th><th scope=col>&lt;dbl&gt;</th></tr>\n",
       "</thead>\n",
       "<tbody>\n",
       "\t<tr><td>151.43</td><td>32.27</td><td>384</td><td>1.65</td><td>2.7</td><td>148.73</td><td>154.13</td></tr>\n",
       "</tbody>\n",
       "</table>\n"
      ],
      "text/latex": [
       "A data.frame: 1 × 7\n",
       "\\begin{tabular}{lllllll}\n",
       " media & desv & N & error.est & error & lim.inf & lim.sup\\\\\n",
       " <dbl> & <dbl> & <dbl> & <dbl> & <dbl> & <dbl> & <dbl>\\\\\n",
       "\\hline\n",
       "\t 151.43 & 32.27 & 384 & 1.65 & 2.7 & 148.73 & 154.13\\\\\n",
       "\\end{tabular}\n"
      ],
      "text/markdown": [
       "\n",
       "A data.frame: 1 × 7\n",
       "\n",
       "| media &lt;dbl&gt; | desv &lt;dbl&gt; | N &lt;dbl&gt; | error.est &lt;dbl&gt; | error &lt;dbl&gt; | lim.inf &lt;dbl&gt; | lim.sup &lt;dbl&gt; |\n",
       "|---|---|---|---|---|---|---|\n",
       "| 151.43 | 32.27 | 384 | 1.65 | 2.7 | 148.73 | 154.13 |\n",
       "\n"
      ],
      "text/plain": [
       "  media  desv  N   error.est error lim.inf lim.sup\n",
       "1 151.43 32.27 384 1.65      2.7   148.73  154.13 "
      ]
     },
     "metadata": {},
     "output_type": "display_data"
    },
    {
     "data": {
      "text/html": [
       "<table>\n",
       "<caption>A data.frame: 1 × 7</caption>\n",
       "<thead>\n",
       "\t<tr><th scope=col>media</th><th scope=col>desv</th><th scope=col>N</th><th scope=col>error.est</th><th scope=col>error</th><th scope=col>lim.inf</th><th scope=col>lim.sup</th></tr>\n",
       "\t<tr><th scope=col>&lt;dbl&gt;</th><th scope=col>&lt;dbl&gt;</th><th scope=col>&lt;dbl&gt;</th><th scope=col>&lt;dbl&gt;</th><th scope=col>&lt;dbl&gt;</th><th scope=col>&lt;dbl&gt;</th><th scope=col>&lt;dbl&gt;</th></tr>\n",
       "</thead>\n",
       "<tbody>\n",
       "\t<tr><td>151.46</td><td>30.84</td><td>384</td><td>1.57</td><td>2.58</td><td>148.88</td><td>154.04</td></tr>\n",
       "</tbody>\n",
       "</table>\n"
      ],
      "text/latex": [
       "A data.frame: 1 × 7\n",
       "\\begin{tabular}{lllllll}\n",
       " media & desv & N & error.est & error & lim.inf & lim.sup\\\\\n",
       " <dbl> & <dbl> & <dbl> & <dbl> & <dbl> & <dbl> & <dbl>\\\\\n",
       "\\hline\n",
       "\t 151.46 & 30.84 & 384 & 1.57 & 2.58 & 148.88 & 154.04\\\\\n",
       "\\end{tabular}\n"
      ],
      "text/markdown": [
       "\n",
       "A data.frame: 1 × 7\n",
       "\n",
       "| media &lt;dbl&gt; | desv &lt;dbl&gt; | N &lt;dbl&gt; | error.est &lt;dbl&gt; | error &lt;dbl&gt; | lim.inf &lt;dbl&gt; | lim.sup &lt;dbl&gt; |\n",
       "|---|---|---|---|---|---|---|\n",
       "| 151.46 | 30.84 | 384 | 1.57 | 2.58 | 148.88 | 154.04 |\n",
       "\n"
      ],
      "text/plain": [
       "  media  desv  N   error.est error lim.inf lim.sup\n",
       "1 151.46 30.84 384 1.57      2.58  148.88  154.04 "
      ]
     },
     "metadata": {},
     "output_type": "display_data"
    },
    {
     "data": {
      "text/html": [
       "<table>\n",
       "<caption>A data.frame: 1 × 7</caption>\n",
       "<thead>\n",
       "\t<tr><th scope=col>media</th><th scope=col>desv</th><th scope=col>N</th><th scope=col>error.est</th><th scope=col>error</th><th scope=col>lim.inf</th><th scope=col>lim.sup</th></tr>\n",
       "\t<tr><th scope=col>&lt;dbl&gt;</th><th scope=col>&lt;dbl&gt;</th><th scope=col>&lt;dbl&gt;</th><th scope=col>&lt;dbl&gt;</th><th scope=col>&lt;dbl&gt;</th><th scope=col>&lt;dbl&gt;</th><th scope=col>&lt;dbl&gt;</th></tr>\n",
       "</thead>\n",
       "<tbody>\n",
       "\t<tr><td>147.19</td><td>30.4</td><td>384</td><td>1.55</td><td>2.54</td><td>144.65</td><td>149.74</td></tr>\n",
       "</tbody>\n",
       "</table>\n"
      ],
      "text/latex": [
       "A data.frame: 1 × 7\n",
       "\\begin{tabular}{lllllll}\n",
       " media & desv & N & error.est & error & lim.inf & lim.sup\\\\\n",
       " <dbl> & <dbl> & <dbl> & <dbl> & <dbl> & <dbl> & <dbl>\\\\\n",
       "\\hline\n",
       "\t 147.19 & 30.4 & 384 & 1.55 & 2.54 & 144.65 & 149.74\\\\\n",
       "\\end{tabular}\n"
      ],
      "text/markdown": [
       "\n",
       "A data.frame: 1 × 7\n",
       "\n",
       "| media &lt;dbl&gt; | desv &lt;dbl&gt; | N &lt;dbl&gt; | error.est &lt;dbl&gt; | error &lt;dbl&gt; | lim.inf &lt;dbl&gt; | lim.sup &lt;dbl&gt; |\n",
       "|---|---|---|---|---|---|---|\n",
       "| 147.19 | 30.4 | 384 | 1.55 | 2.54 | 144.65 | 149.74 |\n",
       "\n"
      ],
      "text/plain": [
       "  media  desv N   error.est error lim.inf lim.sup\n",
       "1 147.19 30.4 384 1.55      2.54  144.65  149.74 "
      ]
     },
     "metadata": {},
     "output_type": "display_data"
    }
   ],
   "source": [
    "infms_raz_cuant90<- inf_manual(d.msis$raz_cuant_punt,1.64)\n",
    "round(infms_raz_cuant90,2)\n",
    "\n",
    "infms_lect_crit90<- inf_manual(d.msis$lect_crit_punt,1.64)\n",
    "round(infms_lect_crit90,2)\n",
    "\n",
    "infms_comp_ciud90<- inf_manual(d.msis$comp_ciud_punt,1.64)\n",
    "round(infms_comp_ciud90,2)"
   ]
  },
  {
   "cell_type": "code",
   "execution_count": 54,
   "metadata": {},
   "outputs": [
    {
     "data": {
      "text/html": [
       "<table>\n",
       "<caption>A data.frame: 1 × 7</caption>\n",
       "<thead>\n",
       "\t<tr><th scope=col>media</th><th scope=col>desv</th><th scope=col>N</th><th scope=col>error.est</th><th scope=col>error</th><th scope=col>lim.inf</th><th scope=col>lim.sup</th></tr>\n",
       "\t<tr><th scope=col>&lt;dbl&gt;</th><th scope=col>&lt;dbl&gt;</th><th scope=col>&lt;dbl&gt;</th><th scope=col>&lt;dbl&gt;</th><th scope=col>&lt;dbl&gt;</th><th scope=col>&lt;dbl&gt;</th><th scope=col>&lt;dbl&gt;</th></tr>\n",
       "</thead>\n",
       "<tbody>\n",
       "\t<tr><td>151.43</td><td>32.27</td><td>384</td><td>1.65</td><td>3.23</td><td>148.2</td><td>154.65</td></tr>\n",
       "</tbody>\n",
       "</table>\n"
      ],
      "text/latex": [
       "A data.frame: 1 × 7\n",
       "\\begin{tabular}{lllllll}\n",
       " media & desv & N & error.est & error & lim.inf & lim.sup\\\\\n",
       " <dbl> & <dbl> & <dbl> & <dbl> & <dbl> & <dbl> & <dbl>\\\\\n",
       "\\hline\n",
       "\t 151.43 & 32.27 & 384 & 1.65 & 3.23 & 148.2 & 154.65\\\\\n",
       "\\end{tabular}\n"
      ],
      "text/markdown": [
       "\n",
       "A data.frame: 1 × 7\n",
       "\n",
       "| media &lt;dbl&gt; | desv &lt;dbl&gt; | N &lt;dbl&gt; | error.est &lt;dbl&gt; | error &lt;dbl&gt; | lim.inf &lt;dbl&gt; | lim.sup &lt;dbl&gt; |\n",
       "|---|---|---|---|---|---|---|\n",
       "| 151.43 | 32.27 | 384 | 1.65 | 3.23 | 148.2 | 154.65 |\n",
       "\n"
      ],
      "text/plain": [
       "  media  desv  N   error.est error lim.inf lim.sup\n",
       "1 151.43 32.27 384 1.65      3.23  148.2   154.65 "
      ]
     },
     "metadata": {},
     "output_type": "display_data"
    },
    {
     "data": {
      "text/html": [
       "<table>\n",
       "<caption>A data.frame: 1 × 7</caption>\n",
       "<thead>\n",
       "\t<tr><th scope=col>media</th><th scope=col>desv</th><th scope=col>N</th><th scope=col>error.est</th><th scope=col>error</th><th scope=col>lim.inf</th><th scope=col>lim.sup</th></tr>\n",
       "\t<tr><th scope=col>&lt;dbl&gt;</th><th scope=col>&lt;dbl&gt;</th><th scope=col>&lt;dbl&gt;</th><th scope=col>&lt;dbl&gt;</th><th scope=col>&lt;dbl&gt;</th><th scope=col>&lt;dbl&gt;</th><th scope=col>&lt;dbl&gt;</th></tr>\n",
       "</thead>\n",
       "<tbody>\n",
       "\t<tr><td>151.46</td><td>30.84</td><td>384</td><td>1.57</td><td>3.08</td><td>148.37</td><td>154.54</td></tr>\n",
       "</tbody>\n",
       "</table>\n"
      ],
      "text/latex": [
       "A data.frame: 1 × 7\n",
       "\\begin{tabular}{lllllll}\n",
       " media & desv & N & error.est & error & lim.inf & lim.sup\\\\\n",
       " <dbl> & <dbl> & <dbl> & <dbl> & <dbl> & <dbl> & <dbl>\\\\\n",
       "\\hline\n",
       "\t 151.46 & 30.84 & 384 & 1.57 & 3.08 & 148.37 & 154.54\\\\\n",
       "\\end{tabular}\n"
      ],
      "text/markdown": [
       "\n",
       "A data.frame: 1 × 7\n",
       "\n",
       "| media &lt;dbl&gt; | desv &lt;dbl&gt; | N &lt;dbl&gt; | error.est &lt;dbl&gt; | error &lt;dbl&gt; | lim.inf &lt;dbl&gt; | lim.sup &lt;dbl&gt; |\n",
       "|---|---|---|---|---|---|---|\n",
       "| 151.46 | 30.84 | 384 | 1.57 | 3.08 | 148.37 | 154.54 |\n",
       "\n"
      ],
      "text/plain": [
       "  media  desv  N   error.est error lim.inf lim.sup\n",
       "1 151.46 30.84 384 1.57      3.08  148.37  154.54 "
      ]
     },
     "metadata": {},
     "output_type": "display_data"
    },
    {
     "data": {
      "text/html": [
       "<table>\n",
       "<caption>A data.frame: 1 × 7</caption>\n",
       "<thead>\n",
       "\t<tr><th scope=col>media</th><th scope=col>desv</th><th scope=col>N</th><th scope=col>error.est</th><th scope=col>error</th><th scope=col>lim.inf</th><th scope=col>lim.sup</th></tr>\n",
       "\t<tr><th scope=col>&lt;dbl&gt;</th><th scope=col>&lt;dbl&gt;</th><th scope=col>&lt;dbl&gt;</th><th scope=col>&lt;dbl&gt;</th><th scope=col>&lt;dbl&gt;</th><th scope=col>&lt;dbl&gt;</th><th scope=col>&lt;dbl&gt;</th></tr>\n",
       "</thead>\n",
       "<tbody>\n",
       "\t<tr><td>147.19</td><td>30.4</td><td>384</td><td>1.55</td><td>3.04</td><td>144.15</td><td>150.23</td></tr>\n",
       "</tbody>\n",
       "</table>\n"
      ],
      "text/latex": [
       "A data.frame: 1 × 7\n",
       "\\begin{tabular}{lllllll}\n",
       " media & desv & N & error.est & error & lim.inf & lim.sup\\\\\n",
       " <dbl> & <dbl> & <dbl> & <dbl> & <dbl> & <dbl> & <dbl>\\\\\n",
       "\\hline\n",
       "\t 147.19 & 30.4 & 384 & 1.55 & 3.04 & 144.15 & 150.23\\\\\n",
       "\\end{tabular}\n"
      ],
      "text/markdown": [
       "\n",
       "A data.frame: 1 × 7\n",
       "\n",
       "| media &lt;dbl&gt; | desv &lt;dbl&gt; | N &lt;dbl&gt; | error.est &lt;dbl&gt; | error &lt;dbl&gt; | lim.inf &lt;dbl&gt; | lim.sup &lt;dbl&gt; |\n",
       "|---|---|---|---|---|---|---|\n",
       "| 147.19 | 30.4 | 384 | 1.55 | 3.04 | 144.15 | 150.23 |\n",
       "\n"
      ],
      "text/plain": [
       "  media  desv N   error.est error lim.inf lim.sup\n",
       "1 147.19 30.4 384 1.55      3.04  144.15  150.23 "
      ]
     },
     "metadata": {},
     "output_type": "display_data"
    }
   ],
   "source": [
    "infms_raz_cuant95<- inf_manual(d.msis$raz_cuant_punt,1.96)\n",
    "round(infms_raz_cuant95,2)\n",
    "\n",
    "infms_lect_crit95<- inf_manual(d.msis$lect_crit_punt,1.96)\n",
    "round(infms_lect_crit95,2)\n",
    "\n",
    "infms_comp_ciud95<-inf_manual(d.msis$comp_ciud_punt,1.96)\n",
    "round(infms_comp_ciud95,2)"
   ]
  },
  {
   "cell_type": "code",
   "execution_count": 55,
   "metadata": {},
   "outputs": [
    {
     "data": {
      "text/html": [
       "<table>\n",
       "<caption>A data.frame: 1 × 7</caption>\n",
       "<thead>\n",
       "\t<tr><th scope=col>media</th><th scope=col>desv</th><th scope=col>N</th><th scope=col>error.est</th><th scope=col>error</th><th scope=col>lim.inf</th><th scope=col>lim.sup</th></tr>\n",
       "\t<tr><th scope=col>&lt;dbl&gt;</th><th scope=col>&lt;dbl&gt;</th><th scope=col>&lt;dbl&gt;</th><th scope=col>&lt;dbl&gt;</th><th scope=col>&lt;dbl&gt;</th><th scope=col>&lt;dbl&gt;</th><th scope=col>&lt;dbl&gt;</th></tr>\n",
       "</thead>\n",
       "<tbody>\n",
       "\t<tr><td>151.43</td><td>32.27</td><td>384</td><td>1.65</td><td>4.23</td><td>147.2</td><td>155.66</td></tr>\n",
       "</tbody>\n",
       "</table>\n"
      ],
      "text/latex": [
       "A data.frame: 1 × 7\n",
       "\\begin{tabular}{lllllll}\n",
       " media & desv & N & error.est & error & lim.inf & lim.sup\\\\\n",
       " <dbl> & <dbl> & <dbl> & <dbl> & <dbl> & <dbl> & <dbl>\\\\\n",
       "\\hline\n",
       "\t 151.43 & 32.27 & 384 & 1.65 & 4.23 & 147.2 & 155.66\\\\\n",
       "\\end{tabular}\n"
      ],
      "text/markdown": [
       "\n",
       "A data.frame: 1 × 7\n",
       "\n",
       "| media &lt;dbl&gt; | desv &lt;dbl&gt; | N &lt;dbl&gt; | error.est &lt;dbl&gt; | error &lt;dbl&gt; | lim.inf &lt;dbl&gt; | lim.sup &lt;dbl&gt; |\n",
       "|---|---|---|---|---|---|---|\n",
       "| 151.43 | 32.27 | 384 | 1.65 | 4.23 | 147.2 | 155.66 |\n",
       "\n"
      ],
      "text/plain": [
       "  media  desv  N   error.est error lim.inf lim.sup\n",
       "1 151.43 32.27 384 1.65      4.23  147.2   155.66 "
      ]
     },
     "metadata": {},
     "output_type": "display_data"
    },
    {
     "data": {
      "text/html": [
       "<table>\n",
       "<caption>A data.frame: 1 × 7</caption>\n",
       "<thead>\n",
       "\t<tr><th scope=col>media</th><th scope=col>desv</th><th scope=col>N</th><th scope=col>error.est</th><th scope=col>error</th><th scope=col>lim.inf</th><th scope=col>lim.sup</th></tr>\n",
       "\t<tr><th scope=col>&lt;dbl&gt;</th><th scope=col>&lt;dbl&gt;</th><th scope=col>&lt;dbl&gt;</th><th scope=col>&lt;dbl&gt;</th><th scope=col>&lt;dbl&gt;</th><th scope=col>&lt;dbl&gt;</th><th scope=col>&lt;dbl&gt;</th></tr>\n",
       "</thead>\n",
       "<tbody>\n",
       "\t<tr><td>151.46</td><td>30.84</td><td>384</td><td>1.57</td><td>4.05</td><td>147.41</td><td>155.5</td></tr>\n",
       "</tbody>\n",
       "</table>\n"
      ],
      "text/latex": [
       "A data.frame: 1 × 7\n",
       "\\begin{tabular}{lllllll}\n",
       " media & desv & N & error.est & error & lim.inf & lim.sup\\\\\n",
       " <dbl> & <dbl> & <dbl> & <dbl> & <dbl> & <dbl> & <dbl>\\\\\n",
       "\\hline\n",
       "\t 151.46 & 30.84 & 384 & 1.57 & 4.05 & 147.41 & 155.5\\\\\n",
       "\\end{tabular}\n"
      ],
      "text/markdown": [
       "\n",
       "A data.frame: 1 × 7\n",
       "\n",
       "| media &lt;dbl&gt; | desv &lt;dbl&gt; | N &lt;dbl&gt; | error.est &lt;dbl&gt; | error &lt;dbl&gt; | lim.inf &lt;dbl&gt; | lim.sup &lt;dbl&gt; |\n",
       "|---|---|---|---|---|---|---|\n",
       "| 151.46 | 30.84 | 384 | 1.57 | 4.05 | 147.41 | 155.5 |\n",
       "\n"
      ],
      "text/plain": [
       "  media  desv  N   error.est error lim.inf lim.sup\n",
       "1 151.46 30.84 384 1.57      4.05  147.41  155.5  "
      ]
     },
     "metadata": {},
     "output_type": "display_data"
    },
    {
     "data": {
      "text/html": [
       "<table>\n",
       "<caption>A data.frame: 1 × 7</caption>\n",
       "<thead>\n",
       "\t<tr><th scope=col>media</th><th scope=col>desv</th><th scope=col>N</th><th scope=col>error.est</th><th scope=col>error</th><th scope=col>lim.inf</th><th scope=col>lim.sup</th></tr>\n",
       "\t<tr><th scope=col>&lt;dbl&gt;</th><th scope=col>&lt;dbl&gt;</th><th scope=col>&lt;dbl&gt;</th><th scope=col>&lt;dbl&gt;</th><th scope=col>&lt;dbl&gt;</th><th scope=col>&lt;dbl&gt;</th><th scope=col>&lt;dbl&gt;</th></tr>\n",
       "</thead>\n",
       "<tbody>\n",
       "\t<tr><td>147.19</td><td>30.4</td><td>384</td><td>1.55</td><td>3.99</td><td>143.21</td><td>151.18</td></tr>\n",
       "</tbody>\n",
       "</table>\n"
      ],
      "text/latex": [
       "A data.frame: 1 × 7\n",
       "\\begin{tabular}{lllllll}\n",
       " media & desv & N & error.est & error & lim.inf & lim.sup\\\\\n",
       " <dbl> & <dbl> & <dbl> & <dbl> & <dbl> & <dbl> & <dbl>\\\\\n",
       "\\hline\n",
       "\t 147.19 & 30.4 & 384 & 1.55 & 3.99 & 143.21 & 151.18\\\\\n",
       "\\end{tabular}\n"
      ],
      "text/markdown": [
       "\n",
       "A data.frame: 1 × 7\n",
       "\n",
       "| media &lt;dbl&gt; | desv &lt;dbl&gt; | N &lt;dbl&gt; | error.est &lt;dbl&gt; | error &lt;dbl&gt; | lim.inf &lt;dbl&gt; | lim.sup &lt;dbl&gt; |\n",
       "|---|---|---|---|---|---|---|\n",
       "| 147.19 | 30.4 | 384 | 1.55 | 3.99 | 143.21 | 151.18 |\n",
       "\n"
      ],
      "text/plain": [
       "  media  desv N   error.est error lim.inf lim.sup\n",
       "1 147.19 30.4 384 1.55      3.99  143.21  151.18 "
      ]
     },
     "metadata": {},
     "output_type": "display_data"
    }
   ],
   "source": [
    "infms_raz_cuant99<-inf_manual(d.msis$raz_cuant_punt,2.57)\n",
    "round(infms_raz_cuant99,2)\n",
    "\n",
    "infms_lect_crit99<- inf_manual(d.msis$lect_crit_punt,2.57)\n",
    "round(infms_lect_crit99,2)\n",
    "\n",
    "infms_comp_ciud99<- inf_manual(d.msis$comp_ciud_punt,2.57)\n",
    "round(infms_comp_ciud99,2)"
   ]
  },
  {
   "cell_type": "markdown",
   "metadata": {},
   "source": [
    "<h3 align=\"left\">Análisis y Comparación</h3><br> "
   ]
  },
  {
   "cell_type": "code",
   "execution_count": 56,
   "metadata": {
    "scrolled": false
   },
   "outputs": [
    {
     "data": {
      "image/png": "[encoded data removed]",
      "text/plain": [
       "Plot with title \"MS\""
      ]
     },
     "metadata": {
      "image/png": {
       "height": 720,
       "width": 720
      },
      "text/plain": {
       "height": 720,
       "width": 720
      }
     },
     "output_type": "display_data"
    }
   ],
   "source": [
    "par(mfrow=c(5,3))\n",
    "with(data, hist(raz_cuant_punt, nclass = 50, cex.main=2.5, cex.axis=1.5, cex.lab=1.5, main = 'Población RC'))\n",
    "with(data, hist(lect_crit_punt, nclass = 50, cex.main=2.5, cex.axis=1.5, cex.lab=1.5, main = 'Población LC'))\n",
    "with(data, hist(comp_ciud_punt, nclass = 50, cex.main=2.5, cex.axis=1.5, cex.lab=1.5, main = 'Población CC'))\n",
    "with(d.mas, hist(raz_cuant_punt, nclass = 50, cex.main=2.5, cex.axis=1.5, cex.lab=1.5, main = 'MAS'))\n",
    "with(d.mas, hist(lect_crit_punt, nclass = 50, cex.main=2.5, cex.axis=1.5, cex.lab=1.5, main = 'MAS'))\n",
    "with(d.mas, hist(comp_ciud_punt, nclass = 50, cex.main=2.5, cex.axis=1.5, cex.lab=1.5, main = 'MAS'))\n",
    "with(data[mestratoraz,], hist(raz_cuant_punt, nclass = 50, cex.main=2.5, cex.axis=1.5, cex.lab=1.5, main = 'ME'))\n",
    "with(data[mestratolect,], hist(lect_crit_punt, nclass = 50, cex.main=2.5, cex.axis=1.5, cex.lab=1.5,main = 'ME'))\n",
    "with(data[mestratocomp,], hist(comp_ciud_punt, nclass = 50, cex.main=2.5, cex.axis=1.5, cex.lab=1.5,main = 'ME'))\n",
    "with(mc384, hist(raz_cuant_punt, nclass = 50, cex.main=2.5, cex.axis=1.5, cex.lab=1.5,main = 'MC'))\n",
    "with(mc384, hist(lect_crit_punt, nclass = 50, cex.main=2.5, cex.axis=1.5, cex.lab=1.5,main = 'MC'))\n",
    "with(mc384, hist(comp_ciud_punt, nclass = 50, cex.main=2.5, cex.axis=1.5, cex.lab=1.5,main = 'MC'))\n",
    "with(d.msis, hist(raz_cuant_punt, nclass = 50, cex.main=2.5, cex.axis=1.5, cex.lab=1.5,main = 'MS'))\n",
    "with(d.msis, hist(lect_crit_punt, nclass = 50, cex.main=2.5, cex.axis=1.5, cex.lab=1.5,main = 'MS'))\n",
    "with(d.msis, hist(comp_ciud_punt, nclass = 50, cex.main=2.5, cex.axis=1.5, cex.lab=1.5,main = 'MS'))\n",
    "\n",
    "par(mfrow=c(1,1))"
   ]
  },
  {
   "cell_type": "code",
   "execution_count": 57,
   "metadata": {
    "scrolled": true
   },
   "outputs": [
    {
     "data": {
      "image/png": "[encoded data removed]",
      "text/plain": [
       "Plot with title \"MS\""
      ]
     },
     "metadata": {
      "image/png": {
       "height": 720,
       "width": 720
      },
      "text/plain": {
       "height": 720,
       "width": 720
      }
     },
     "output_type": "display_data"
    }
   ],
   "source": [
    "par(mfrow=c(3,5))\n",
    "with(data, plot(raz_cuant_des,raz_cuant_punt,cex.main=2.5, cex.axis=1.5, cex.lab=1.5,,main = 'Población RC'))\n",
    "with(d.mas, plot(raz_cuant_des,raz_cuant_punt, cex.main=2.5, cex.axis=1.5, cex.lab=1.5, main = 'MAS'))\n",
    "with(data[mestratoraz,], plot(raz_cuant_des,raz_cuant_punt,  cex.main=2.5, cex.axis=1.5, cex.lab=1.5, main = 'ME'))\n",
    "with(mc384, plot(raz_cuant_des,raz_cuant_punt,  cex.main=2.5, cex.axis=1.5, cex.lab=1.5,main = 'MC'))\n",
    "with(d.msis, plot(raz_cuant_des,raz_cuant_punt, cex.main=2.5, cex.axis=1.5, cex.lab=1.5,main = 'MS'))\n",
    "\n",
    "with(data, plot(lect_crit_des,lect_crit_punt,cex.main=2.5, cex.axis=1.5, cex.lab=1.5,,main = 'Población LC'))\n",
    "with(d.mas, plot(lect_crit_des,lect_crit_punt,cex.main=2.5, cex.axis=1.5, cex.lab=1.5, main = 'MAS'))\n",
    "with(data[mestratolect,], plot(lect_crit_des,lect_crit_punt, cex.main=2.5, cex.axis=1.5, cex.lab=1.5,main = 'ME'))\n",
    "with(mc384, plot(lect_crit_des,lect_crit_punt,  cex.main=2.5, cex.axis=1.5, cex.lab=1.5,main = 'MC'))\n",
    "with(d.msis, plot(lect_crit_des,lect_crit_punt, cex.main=2.5, cex.axis=1.5, cex.lab=1.5,main = 'MS'))\n",
    "\n",
    "with(data, plot(comp_ciud_des,comp_ciud_punt,cex.main=2.5, cex.axis=1.5, cex.lab=1.5,, main = 'Población CC'))\n",
    "with(d.mas, plot(comp_ciud_des,comp_ciud_punt, cex.main=2.5, cex.axis=1.5, cex.lab=1.5, main = 'MAS'))\n",
    "with(data[mestratocomp,], plot(comp_ciud_des,comp_ciud_punt, cex.main=2.5, cex.axis=1.5, cex.lab=1.5,main = 'ME'))\n",
    "with(mc384, plot(comp_ciud_des,comp_ciud_punt,  cex.main=2.5, cex.axis=1.5, cex.lab=1.5,main = 'MC'))\n",
    "with(d.msis, plot(comp_ciud_des,comp_ciud_punt,  cex.main=2.5, cex.axis=1.5, cex.lab=1.5,main = 'MS'))\n",
    "\n",
    "par(mfrow=c(1,1))"
   ]
  },
  {
   "cell_type": "markdown",
   "metadata": {},
   "source": [
    "En general, como el tamaño adecuado de la muestra se mantiene constante, todos los muestreos en los histogramas y diagramas de cajas manifiestan una distribución similar a la población en las tres áreas de conocimientos. Sin embargo, algunos muestreos estan más acorde al ánalisis a realizar; en el caso de los puntajes con los desempeños (deficiente, aceptable, bueno y excelente), el muestreo estratificado es el más adecuado, ya que en este caso se contruye la muestra de tal manera que contenga elementos de cada estrato o subpoblación. \n",
    "\n",
    "Ahora, si se desea analizar por subgrupos que hacen referencia a un lugar geográfico como el caso de los departamentos, el muestreo por conglomerados es el más adecuado. Y por último, si no hace falta seleccionar específicamente los datos, un muestreo aleatorio simple arrojará resultados satisfactorios, al igual que un sistemático. Pero respecto al muestreo aleatorio, el muestreo sistemático puede garantizarnos una selección más equitativa de la población."
   ]
  },
  {
   "cell_type": "code",
   "execution_count": 73,
   "metadata": {},
   "outputs": [
    {
     "data": {
      "text/html": [
       "<table>\n",
       "<caption>A data.frame: 4 × 7</caption>\n",
       "<thead>\n",
       "\t<tr><th scope=col>media</th><th scope=col>desv</th><th scope=col>N</th><th scope=col>error.est</th><th scope=col>error</th><th scope=col>lim.inf</th><th scope=col>lim.sup</th></tr>\n",
       "\t<tr><th scope=col>&lt;dbl&gt;</th><th scope=col>&lt;dbl&gt;</th><th scope=col>&lt;int&gt;</th><th scope=col>&lt;dbl&gt;</th><th scope=col>&lt;dbl&gt;</th><th scope=col>&lt;dbl&gt;</th><th scope=col>&lt;dbl&gt;</th></tr>\n",
       "</thead>\n",
       "<tbody>\n",
       "\t<tr><td>149.5547</td><td>30.36535</td><td>384</td><td>1.549575</td><td>2.541303</td><td>147.0134</td><td>152.0960</td></tr>\n",
       "\t<tr><td>148.1137</td><td>29.42123</td><td>387</td><td>1.495565</td><td>2.452727</td><td>145.6610</td><td>150.5664</td></tr>\n",
       "\t<tr><td>152.1343</td><td>30.14705</td><td>402</td><td>1.503598</td><td>2.465901</td><td>149.6684</td><td>154.6002</td></tr>\n",
       "\t<tr><td>151.4271</td><td>32.26619</td><td>384</td><td>1.646577</td><td>2.700386</td><td>148.7267</td><td>154.1275</td></tr>\n",
       "</tbody>\n",
       "</table>\n"
      ],
      "text/latex": [
       "A data.frame: 4 × 7\n",
       "\\begin{tabular}{lllllll}\n",
       " media & desv & N & error.est & error & lim.inf & lim.sup\\\\\n",
       " <dbl> & <dbl> & <int> & <dbl> & <dbl> & <dbl> & <dbl>\\\\\n",
       "\\hline\n",
       "\t 149.5547 & 30.36535 & 384 & 1.549575 & 2.541303 & 147.0134 & 152.0960\\\\\n",
       "\t 148.1137 & 29.42123 & 387 & 1.495565 & 2.452727 & 145.6610 & 150.5664\\\\\n",
       "\t 152.1343 & 30.14705 & 402 & 1.503598 & 2.465901 & 149.6684 & 154.6002\\\\\n",
       "\t 151.4271 & 32.26619 & 384 & 1.646577 & 2.700386 & 148.7267 & 154.1275\\\\\n",
       "\\end{tabular}\n"
      ],
      "text/markdown": [
       "\n",
       "A data.frame: 4 × 7\n",
       "\n",
       "| media &lt;dbl&gt; | desv &lt;dbl&gt; | N &lt;int&gt; | error.est &lt;dbl&gt; | error &lt;dbl&gt; | lim.inf &lt;dbl&gt; | lim.sup &lt;dbl&gt; |\n",
       "|---|---|---|---|---|---|---|\n",
       "| 149.5547 | 30.36535 | 384 | 1.549575 | 2.541303 | 147.0134 | 152.0960 |\n",
       "| 148.1137 | 29.42123 | 387 | 1.495565 | 2.452727 | 145.6610 | 150.5664 |\n",
       "| 152.1343 | 30.14705 | 402 | 1.503598 | 2.465901 | 149.6684 | 154.6002 |\n",
       "| 151.4271 | 32.26619 | 384 | 1.646577 | 2.700386 | 148.7267 | 154.1275 |\n",
       "\n"
      ],
      "text/plain": [
       "  media    desv     N   error.est error    lim.inf  lim.sup \n",
       "1 149.5547 30.36535 384 1.549575  2.541303 147.0134 152.0960\n",
       "2 148.1137 29.42123 387 1.495565  2.452727 145.6610 150.5664\n",
       "3 152.1343 30.14705 402 1.503598  2.465901 149.6684 154.6002\n",
       "4 151.4271 32.26619 384 1.646577  2.700386 148.7267 154.1275"
      ]
     },
     "metadata": {},
     "output_type": "display_data"
    },
    {
     "data": {
      "text/html": [
       "<table>\n",
       "<caption>A data.frame: 4 × 7</caption>\n",
       "<thead>\n",
       "\t<tr><th scope=col>media</th><th scope=col>desv</th><th scope=col>N</th><th scope=col>error.est</th><th scope=col>error</th><th scope=col>lim.inf</th><th scope=col>lim.sup</th></tr>\n",
       "\t<tr><th scope=col>&lt;dbl&gt;</th><th scope=col>&lt;dbl&gt;</th><th scope=col>&lt;int&gt;</th><th scope=col>&lt;dbl&gt;</th><th scope=col>&lt;dbl&gt;</th><th scope=col>&lt;dbl&gt;</th><th scope=col>&lt;dbl&gt;</th></tr>\n",
       "</thead>\n",
       "<tbody>\n",
       "\t<tr><td>149.5547</td><td>30.36535</td><td>384</td><td>1.549575</td><td>3.037167</td><td>146.5175</td><td>152.5919</td></tr>\n",
       "\t<tr><td>148.1137</td><td>29.42123</td><td>387</td><td>1.495565</td><td>2.931308</td><td>145.1824</td><td>151.0450</td></tr>\n",
       "\t<tr><td>152.1343</td><td>30.14705</td><td>402</td><td>1.503598</td><td>2.947053</td><td>149.1873</td><td>155.0814</td></tr>\n",
       "\t<tr><td>151.4271</td><td>32.26619</td><td>384</td><td>1.646577</td><td>3.227291</td><td>148.1998</td><td>154.6544</td></tr>\n",
       "</tbody>\n",
       "</table>\n"
      ],
      "text/latex": [
       "A data.frame: 4 × 7\n",
       "\\begin{tabular}{lllllll}\n",
       " media & desv & N & error.est & error & lim.inf & lim.sup\\\\\n",
       " <dbl> & <dbl> & <int> & <dbl> & <dbl> & <dbl> & <dbl>\\\\\n",
       "\\hline\n",
       "\t 149.5547 & 30.36535 & 384 & 1.549575 & 3.037167 & 146.5175 & 152.5919\\\\\n",
       "\t 148.1137 & 29.42123 & 387 & 1.495565 & 2.931308 & 145.1824 & 151.0450\\\\\n",
       "\t 152.1343 & 30.14705 & 402 & 1.503598 & 2.947053 & 149.1873 & 155.0814\\\\\n",
       "\t 151.4271 & 32.26619 & 384 & 1.646577 & 3.227291 & 148.1998 & 154.6544\\\\\n",
       "\\end{tabular}\n"
      ],
      "text/markdown": [
       "\n",
       "A data.frame: 4 × 7\n",
       "\n",
       "| media &lt;dbl&gt; | desv &lt;dbl&gt; | N &lt;int&gt; | error.est &lt;dbl&gt; | error &lt;dbl&gt; | lim.inf &lt;dbl&gt; | lim.sup &lt;dbl&gt; |\n",
       "|---|---|---|---|---|---|---|\n",
       "| 149.5547 | 30.36535 | 384 | 1.549575 | 3.037167 | 146.5175 | 152.5919 |\n",
       "| 148.1137 | 29.42123 | 387 | 1.495565 | 2.931308 | 145.1824 | 151.0450 |\n",
       "| 152.1343 | 30.14705 | 402 | 1.503598 | 2.947053 | 149.1873 | 155.0814 |\n",
       "| 151.4271 | 32.26619 | 384 | 1.646577 | 3.227291 | 148.1998 | 154.6544 |\n",
       "\n"
      ],
      "text/plain": [
       "  media    desv     N   error.est error    lim.inf  lim.sup \n",
       "1 149.5547 30.36535 384 1.549575  3.037167 146.5175 152.5919\n",
       "2 148.1137 29.42123 387 1.495565  2.931308 145.1824 151.0450\n",
       "3 152.1343 30.14705 402 1.503598  2.947053 149.1873 155.0814\n",
       "4 151.4271 32.26619 384 1.646577  3.227291 148.1998 154.6544"
      ]
     },
     "metadata": {},
     "output_type": "display_data"
    },
    {
     "data": {
      "text/html": [
       "<table>\n",
       "<caption>A data.frame: 4 × 7</caption>\n",
       "<thead>\n",
       "\t<tr><th scope=col>media</th><th scope=col>desv</th><th scope=col>N</th><th scope=col>error.est</th><th scope=col>error</th><th scope=col>lim.inf</th><th scope=col>lim.sup</th></tr>\n",
       "\t<tr><th scope=col>&lt;dbl&gt;</th><th scope=col>&lt;dbl&gt;</th><th scope=col>&lt;int&gt;</th><th scope=col>&lt;dbl&gt;</th><th scope=col>&lt;dbl&gt;</th><th scope=col>&lt;dbl&gt;</th><th scope=col>&lt;dbl&gt;</th></tr>\n",
       "</thead>\n",
       "<tbody>\n",
       "\t<tr><td>149.5547</td><td>30.36535</td><td>384</td><td>1.549575</td><td>3.982408</td><td>145.5723</td><td>153.5371</td></tr>\n",
       "\t<tr><td>148.1137</td><td>29.42123</td><td>387</td><td>1.495565</td><td>3.843603</td><td>144.2701</td><td>151.9573</td></tr>\n",
       "\t<tr><td>152.1343</td><td>30.14705</td><td>402</td><td>1.503598</td><td>3.864248</td><td>148.2701</td><td>155.9986</td></tr>\n",
       "\t<tr><td>151.4271</td><td>32.26619</td><td>384</td><td>1.646577</td><td>4.231703</td><td>147.1954</td><td>155.6588</td></tr>\n",
       "</tbody>\n",
       "</table>\n"
      ],
      "text/latex": [
       "A data.frame: 4 × 7\n",
       "\\begin{tabular}{lllllll}\n",
       " media & desv & N & error.est & error & lim.inf & lim.sup\\\\\n",
       " <dbl> & <dbl> & <int> & <dbl> & <dbl> & <dbl> & <dbl>\\\\\n",
       "\\hline\n",
       "\t 149.5547 & 30.36535 & 384 & 1.549575 & 3.982408 & 145.5723 & 153.5371\\\\\n",
       "\t 148.1137 & 29.42123 & 387 & 1.495565 & 3.843603 & 144.2701 & 151.9573\\\\\n",
       "\t 152.1343 & 30.14705 & 402 & 1.503598 & 3.864248 & 148.2701 & 155.9986\\\\\n",
       "\t 151.4271 & 32.26619 & 384 & 1.646577 & 4.231703 & 147.1954 & 155.6588\\\\\n",
       "\\end{tabular}\n"
      ],
      "text/markdown": [
       "\n",
       "A data.frame: 4 × 7\n",
       "\n",
       "| media &lt;dbl&gt; | desv &lt;dbl&gt; | N &lt;int&gt; | error.est &lt;dbl&gt; | error &lt;dbl&gt; | lim.inf &lt;dbl&gt; | lim.sup &lt;dbl&gt; |\n",
       "|---|---|---|---|---|---|---|\n",
       "| 149.5547 | 30.36535 | 384 | 1.549575 | 3.982408 | 145.5723 | 153.5371 |\n",
       "| 148.1137 | 29.42123 | 387 | 1.495565 | 3.843603 | 144.2701 | 151.9573 |\n",
       "| 152.1343 | 30.14705 | 402 | 1.503598 | 3.864248 | 148.2701 | 155.9986 |\n",
       "| 151.4271 | 32.26619 | 384 | 1.646577 | 4.231703 | 147.1954 | 155.6588 |\n",
       "\n"
      ],
      "text/plain": [
       "  media    desv     N   error.est error    lim.inf  lim.sup \n",
       "1 149.5547 30.36535 384 1.549575  3.982408 145.5723 153.5371\n",
       "2 148.1137 29.42123 387 1.495565  3.843603 144.2701 151.9573\n",
       "3 152.1343 30.14705 402 1.503598  3.864248 148.2701 155.9986\n",
       "4 151.4271 32.26619 384 1.646577  4.231703 147.1954 155.6588"
      ]
     },
     "metadata": {},
     "output_type": "display_data"
    }
   ],
   "source": [
    "inf_raz_cuant90<- rbind(infmas_raz_cuant90,infme_raz_cuant90,infmc_raz_cuant90,infms_raz_cuant90)\n",
    "inf_raz_cuant90\n",
    "\n",
    "inf_raz_cuant95<- rbind(infmas_raz_cuant95,infme_raz_cuant95,infmc_raz_cuant95,infms_raz_cuant95)\n",
    "inf_raz_cuant95\n",
    "\n",
    "inf_raz_cuant99<- rbind(infmas_raz_cuant99,infme_raz_cuant99,infmc_raz_cuant99,infms_raz_cuant99)\n",
    "inf_raz_cuant99"
   ]
  },
  {
   "cell_type": "code",
   "execution_count": 74,
   "metadata": {},
   "outputs": [
    {
     "data": {
      "text/html": [
       "<table>\n",
       "<caption>A data.frame: 4 × 7</caption>\n",
       "<thead>\n",
       "\t<tr><th scope=col>media</th><th scope=col>desv</th><th scope=col>N</th><th scope=col>error.est</th><th scope=col>error</th><th scope=col>lim.inf</th><th scope=col>lim.sup</th></tr>\n",
       "\t<tr><th scope=col>&lt;dbl&gt;</th><th scope=col>&lt;dbl&gt;</th><th scope=col>&lt;int&gt;</th><th scope=col>&lt;dbl&gt;</th><th scope=col>&lt;dbl&gt;</th><th scope=col>&lt;dbl&gt;</th><th scope=col>&lt;dbl&gt;</th></tr>\n",
       "</thead>\n",
       "<tbody>\n",
       "\t<tr><td>148.5807</td><td>30.57198</td><td>384</td><td>1.560120</td><td>2.558597</td><td>146.0221</td><td>151.1393</td></tr>\n",
       "\t<tr><td>151.7855</td><td>32.53771</td><td>387</td><td>1.653985</td><td>2.712535</td><td>149.0730</td><td>154.4981</td></tr>\n",
       "\t<tr><td>151.7313</td><td>29.63742</td><td>402</td><td>1.478180</td><td>2.424215</td><td>149.3071</td><td>154.1556</td></tr>\n",
       "\t<tr><td>151.4583</td><td>30.84313</td><td>384</td><td>1.573957</td><td>2.581289</td><td>148.8770</td><td>154.0396</td></tr>\n",
       "</tbody>\n",
       "</table>\n"
      ],
      "text/latex": [
       "A data.frame: 4 × 7\n",
       "\\begin{tabular}{lllllll}\n",
       " media & desv & N & error.est & error & lim.inf & lim.sup\\\\\n",
       " <dbl> & <dbl> & <int> & <dbl> & <dbl> & <dbl> & <dbl>\\\\\n",
       "\\hline\n",
       "\t 148.5807 & 30.57198 & 384 & 1.560120 & 2.558597 & 146.0221 & 151.1393\\\\\n",
       "\t 151.7855 & 32.53771 & 387 & 1.653985 & 2.712535 & 149.0730 & 154.4981\\\\\n",
       "\t 151.7313 & 29.63742 & 402 & 1.478180 & 2.424215 & 149.3071 & 154.1556\\\\\n",
       "\t 151.4583 & 30.84313 & 384 & 1.573957 & 2.581289 & 148.8770 & 154.0396\\\\\n",
       "\\end{tabular}\n"
      ],
      "text/markdown": [
       "\n",
       "A data.frame: 4 × 7\n",
       "\n",
       "| media &lt;dbl&gt; | desv &lt;dbl&gt; | N &lt;int&gt; | error.est &lt;dbl&gt; | error &lt;dbl&gt; | lim.inf &lt;dbl&gt; | lim.sup &lt;dbl&gt; |\n",
       "|---|---|---|---|---|---|---|\n",
       "| 148.5807 | 30.57198 | 384 | 1.560120 | 2.558597 | 146.0221 | 151.1393 |\n",
       "| 151.7855 | 32.53771 | 387 | 1.653985 | 2.712535 | 149.0730 | 154.4981 |\n",
       "| 151.7313 | 29.63742 | 402 | 1.478180 | 2.424215 | 149.3071 | 154.1556 |\n",
       "| 151.4583 | 30.84313 | 384 | 1.573957 | 2.581289 | 148.8770 | 154.0396 |\n",
       "\n"
      ],
      "text/plain": [
       "  media    desv     N   error.est error    lim.inf  lim.sup \n",
       "1 148.5807 30.57198 384 1.560120  2.558597 146.0221 151.1393\n",
       "2 151.7855 32.53771 387 1.653985  2.712535 149.0730 154.4981\n",
       "3 151.7313 29.63742 402 1.478180  2.424215 149.3071 154.1556\n",
       "4 151.4583 30.84313 384 1.573957  2.581289 148.8770 154.0396"
      ]
     },
     "metadata": {},
     "output_type": "display_data"
    },
    {
     "data": {
      "text/html": [
       "<table>\n",
       "<caption>A data.frame: 4 × 7</caption>\n",
       "<thead>\n",
       "\t<tr><th scope=col>media</th><th scope=col>desv</th><th scope=col>N</th><th scope=col>error.est</th><th scope=col>error</th><th scope=col>lim.inf</th><th scope=col>lim.sup</th></tr>\n",
       "\t<tr><th scope=col>&lt;dbl&gt;</th><th scope=col>&lt;dbl&gt;</th><th scope=col>&lt;int&gt;</th><th scope=col>&lt;dbl&gt;</th><th scope=col>&lt;dbl&gt;</th><th scope=col>&lt;dbl&gt;</th><th scope=col>&lt;dbl&gt;</th></tr>\n",
       "</thead>\n",
       "<tbody>\n",
       "\t<tr><td>148.5807</td><td>30.57198</td><td>384</td><td>1.560120</td><td>3.057835</td><td>145.5229</td><td>151.6386</td></tr>\n",
       "\t<tr><td>151.7855</td><td>32.53771</td><td>387</td><td>1.653985</td><td>3.241810</td><td>148.5437</td><td>155.0273</td></tr>\n",
       "\t<tr><td>151.7313</td><td>29.63742</td><td>402</td><td>1.478180</td><td>2.897233</td><td>148.8341</td><td>154.6286</td></tr>\n",
       "\t<tr><td>151.4583</td><td>30.84313</td><td>384</td><td>1.573957</td><td>3.084955</td><td>148.3734</td><td>154.5433</td></tr>\n",
       "</tbody>\n",
       "</table>\n"
      ],
      "text/latex": [
       "A data.frame: 4 × 7\n",
       "\\begin{tabular}{lllllll}\n",
       " media & desv & N & error.est & error & lim.inf & lim.sup\\\\\n",
       " <dbl> & <dbl> & <int> & <dbl> & <dbl> & <dbl> & <dbl>\\\\\n",
       "\\hline\n",
       "\t 148.5807 & 30.57198 & 384 & 1.560120 & 3.057835 & 145.5229 & 151.6386\\\\\n",
       "\t 151.7855 & 32.53771 & 387 & 1.653985 & 3.241810 & 148.5437 & 155.0273\\\\\n",
       "\t 151.7313 & 29.63742 & 402 & 1.478180 & 2.897233 & 148.8341 & 154.6286\\\\\n",
       "\t 151.4583 & 30.84313 & 384 & 1.573957 & 3.084955 & 148.3734 & 154.5433\\\\\n",
       "\\end{tabular}\n"
      ],
      "text/markdown": [
       "\n",
       "A data.frame: 4 × 7\n",
       "\n",
       "| media &lt;dbl&gt; | desv &lt;dbl&gt; | N &lt;int&gt; | error.est &lt;dbl&gt; | error &lt;dbl&gt; | lim.inf &lt;dbl&gt; | lim.sup &lt;dbl&gt; |\n",
       "|---|---|---|---|---|---|---|\n",
       "| 148.5807 | 30.57198 | 384 | 1.560120 | 3.057835 | 145.5229 | 151.6386 |\n",
       "| 151.7855 | 32.53771 | 387 | 1.653985 | 3.241810 | 148.5437 | 155.0273 |\n",
       "| 151.7313 | 29.63742 | 402 | 1.478180 | 2.897233 | 148.8341 | 154.6286 |\n",
       "| 151.4583 | 30.84313 | 384 | 1.573957 | 3.084955 | 148.3734 | 154.5433 |\n",
       "\n"
      ],
      "text/plain": [
       "  media    desv     N   error.est error    lim.inf  lim.sup \n",
       "1 148.5807 30.57198 384 1.560120  3.057835 145.5229 151.6386\n",
       "2 151.7855 32.53771 387 1.653985  3.241810 148.5437 155.0273\n",
       "3 151.7313 29.63742 402 1.478180  2.897233 148.8341 154.6286\n",
       "4 151.4583 30.84313 384 1.573957  3.084955 148.3734 154.5433"
      ]
     },
     "metadata": {},
     "output_type": "display_data"
    },
    {
     "data": {
      "text/html": [
       "<table>\n",
       "<caption>A data.frame: 4 × 7</caption>\n",
       "<thead>\n",
       "\t<tr><th scope=col>media</th><th scope=col>desv</th><th scope=col>N</th><th scope=col>error.est</th><th scope=col>error</th><th scope=col>lim.inf</th><th scope=col>lim.sup</th></tr>\n",
       "\t<tr><th scope=col>&lt;dbl&gt;</th><th scope=col>&lt;dbl&gt;</th><th scope=col>&lt;int&gt;</th><th scope=col>&lt;dbl&gt;</th><th scope=col>&lt;dbl&gt;</th><th scope=col>&lt;dbl&gt;</th><th scope=col>&lt;dbl&gt;</th></tr>\n",
       "</thead>\n",
       "<tbody>\n",
       "\t<tr><td>148.5807</td><td>30.57198</td><td>384</td><td>1.560120</td><td>4.009508</td><td>144.5712</td><td>152.5902</td></tr>\n",
       "\t<tr><td>151.7855</td><td>32.53771</td><td>387</td><td>1.653985</td><td>4.250741</td><td>147.5348</td><td>156.0363</td></tr>\n",
       "\t<tr><td>151.7313</td><td>29.63742</td><td>402</td><td>1.478180</td><td>3.798923</td><td>147.9324</td><td>155.5303</td></tr>\n",
       "\t<tr><td>151.4583</td><td>30.84313</td><td>384</td><td>1.573957</td><td>4.045069</td><td>147.4133</td><td>155.5034</td></tr>\n",
       "</tbody>\n",
       "</table>\n"
      ],
      "text/latex": [
       "A data.frame: 4 × 7\n",
       "\\begin{tabular}{lllllll}\n",
       " media & desv & N & error.est & error & lim.inf & lim.sup\\\\\n",
       " <dbl> & <dbl> & <int> & <dbl> & <dbl> & <dbl> & <dbl>\\\\\n",
       "\\hline\n",
       "\t 148.5807 & 30.57198 & 384 & 1.560120 & 4.009508 & 144.5712 & 152.5902\\\\\n",
       "\t 151.7855 & 32.53771 & 387 & 1.653985 & 4.250741 & 147.5348 & 156.0363\\\\\n",
       "\t 151.7313 & 29.63742 & 402 & 1.478180 & 3.798923 & 147.9324 & 155.5303\\\\\n",
       "\t 151.4583 & 30.84313 & 384 & 1.573957 & 4.045069 & 147.4133 & 155.5034\\\\\n",
       "\\end{tabular}\n"
      ],
      "text/markdown": [
       "\n",
       "A data.frame: 4 × 7\n",
       "\n",
       "| media &lt;dbl&gt; | desv &lt;dbl&gt; | N &lt;int&gt; | error.est &lt;dbl&gt; | error &lt;dbl&gt; | lim.inf &lt;dbl&gt; | lim.sup &lt;dbl&gt; |\n",
       "|---|---|---|---|---|---|---|\n",
       "| 148.5807 | 30.57198 | 384 | 1.560120 | 4.009508 | 144.5712 | 152.5902 |\n",
       "| 151.7855 | 32.53771 | 387 | 1.653985 | 4.250741 | 147.5348 | 156.0363 |\n",
       "| 151.7313 | 29.63742 | 402 | 1.478180 | 3.798923 | 147.9324 | 155.5303 |\n",
       "| 151.4583 | 30.84313 | 384 | 1.573957 | 4.045069 | 147.4133 | 155.5034 |\n",
       "\n"
      ],
      "text/plain": [
       "  media    desv     N   error.est error    lim.inf  lim.sup \n",
       "1 148.5807 30.57198 384 1.560120  4.009508 144.5712 152.5902\n",
       "2 151.7855 32.53771 387 1.653985  4.250741 147.5348 156.0363\n",
       "3 151.7313 29.63742 402 1.478180  3.798923 147.9324 155.5303\n",
       "4 151.4583 30.84313 384 1.573957  4.045069 147.4133 155.5034"
      ]
     },
     "metadata": {},
     "output_type": "display_data"
    }
   ],
   "source": [
    "inf_lect_crit90<- rbind(infmas_lect_crit90,infme_lect_crit90,infmc_lect_crit90,infms_lect_crit90)\n",
    "inf_lect_crit90\n",
    "\n",
    "inf_lect_crit95<- rbind(infmas_lect_crit95,infme_lect_crit95,infmc_lect_crit95,infms_lect_crit95)\n",
    "inf_lect_crit95\n",
    "\n",
    "inf_lect_crit99<- rbind(infmas_lect_crit99,infme_lect_crit99,infmc_lect_crit99,infms_lect_crit99)\n",
    "inf_lect_crit99"
   ]
  },
  {
   "cell_type": "code",
   "execution_count": 75,
   "metadata": {},
   "outputs": [
    {
     "data": {
      "text/html": [
       "<table>\n",
       "<caption>A data.frame: 4 × 7</caption>\n",
       "<thead>\n",
       "\t<tr><th scope=col>media</th><th scope=col>desv</th><th scope=col>N</th><th scope=col>error.est</th><th scope=col>error</th><th scope=col>lim.inf</th><th scope=col>lim.sup</th></tr>\n",
       "\t<tr><th scope=col>&lt;dbl&gt;</th><th scope=col>&lt;dbl&gt;</th><th scope=col>&lt;int&gt;</th><th scope=col>&lt;dbl&gt;</th><th scope=col>&lt;dbl&gt;</th><th scope=col>&lt;dbl&gt;</th><th scope=col>&lt;dbl&gt;</th></tr>\n",
       "</thead>\n",
       "<tbody>\n",
       "\t<tr><td>143.5130</td><td>32.90377</td><td>384</td><td>1.679113</td><td>2.753746</td><td>140.7593</td><td>146.2668</td></tr>\n",
       "\t<tr><td>149.0727</td><td>31.29771</td><td>385</td><td>1.595079</td><td>2.615930</td><td>146.4568</td><td>151.6887</td></tr>\n",
       "\t<tr><td>151.0796</td><td>30.20831</td><td>402</td><td>1.506654</td><td>2.470912</td><td>148.6087</td><td>153.5505</td></tr>\n",
       "\t<tr><td>147.1927</td><td>30.40251</td><td>384</td><td>1.551472</td><td>2.544413</td><td>144.6483</td><td>149.7371</td></tr>\n",
       "</tbody>\n",
       "</table>\n"
      ],
      "text/latex": [
       "A data.frame: 4 × 7\n",
       "\\begin{tabular}{lllllll}\n",
       " media & desv & N & error.est & error & lim.inf & lim.sup\\\\\n",
       " <dbl> & <dbl> & <int> & <dbl> & <dbl> & <dbl> & <dbl>\\\\\n",
       "\\hline\n",
       "\t 143.5130 & 32.90377 & 384 & 1.679113 & 2.753746 & 140.7593 & 146.2668\\\\\n",
       "\t 149.0727 & 31.29771 & 385 & 1.595079 & 2.615930 & 146.4568 & 151.6887\\\\\n",
       "\t 151.0796 & 30.20831 & 402 & 1.506654 & 2.470912 & 148.6087 & 153.5505\\\\\n",
       "\t 147.1927 & 30.40251 & 384 & 1.551472 & 2.544413 & 144.6483 & 149.7371\\\\\n",
       "\\end{tabular}\n"
      ],
      "text/markdown": [
       "\n",
       "A data.frame: 4 × 7\n",
       "\n",
       "| media &lt;dbl&gt; | desv &lt;dbl&gt; | N &lt;int&gt; | error.est &lt;dbl&gt; | error &lt;dbl&gt; | lim.inf &lt;dbl&gt; | lim.sup &lt;dbl&gt; |\n",
       "|---|---|---|---|---|---|---|\n",
       "| 143.5130 | 32.90377 | 384 | 1.679113 | 2.753746 | 140.7593 | 146.2668 |\n",
       "| 149.0727 | 31.29771 | 385 | 1.595079 | 2.615930 | 146.4568 | 151.6887 |\n",
       "| 151.0796 | 30.20831 | 402 | 1.506654 | 2.470912 | 148.6087 | 153.5505 |\n",
       "| 147.1927 | 30.40251 | 384 | 1.551472 | 2.544413 | 144.6483 | 149.7371 |\n",
       "\n"
      ],
      "text/plain": [
       "  media    desv     N   error.est error    lim.inf  lim.sup \n",
       "1 143.5130 32.90377 384 1.679113  2.753746 140.7593 146.2668\n",
       "2 149.0727 31.29771 385 1.595079  2.615930 146.4568 151.6887\n",
       "3 151.0796 30.20831 402 1.506654  2.470912 148.6087 153.5505\n",
       "4 147.1927 30.40251 384 1.551472  2.544413 144.6483 149.7371"
      ]
     },
     "metadata": {},
     "output_type": "display_data"
    },
    {
     "data": {
      "text/html": [
       "<table>\n",
       "<caption>A data.frame: 4 × 7</caption>\n",
       "<thead>\n",
       "\t<tr><th scope=col>media</th><th scope=col>desv</th><th scope=col>N</th><th scope=col>error.est</th><th scope=col>error</th><th scope=col>lim.inf</th><th scope=col>lim.sup</th></tr>\n",
       "\t<tr><th scope=col>&lt;dbl&gt;</th><th scope=col>&lt;dbl&gt;</th><th scope=col>&lt;int&gt;</th><th scope=col>&lt;dbl&gt;</th><th scope=col>&lt;dbl&gt;</th><th scope=col>&lt;dbl&gt;</th><th scope=col>&lt;dbl&gt;</th></tr>\n",
       "</thead>\n",
       "<tbody>\n",
       "\t<tr><td>143.5130</td><td>32.90377</td><td>384</td><td>1.679113</td><td>3.291062</td><td>140.2220</td><td>146.8041</td></tr>\n",
       "\t<tr><td>149.0727</td><td>31.29771</td><td>385</td><td>1.595079</td><td>3.126355</td><td>145.9464</td><td>152.1991</td></tr>\n",
       "\t<tr><td>151.0796</td><td>30.20831</td><td>402</td><td>1.506654</td><td>2.953041</td><td>148.1266</td><td>154.0326</td></tr>\n",
       "\t<tr><td>147.1927</td><td>30.40251</td><td>384</td><td>1.551472</td><td>3.040884</td><td>144.1518</td><td>150.2336</td></tr>\n",
       "</tbody>\n",
       "</table>\n"
      ],
      "text/latex": [
       "A data.frame: 4 × 7\n",
       "\\begin{tabular}{lllllll}\n",
       " media & desv & N & error.est & error & lim.inf & lim.sup\\\\\n",
       " <dbl> & <dbl> & <int> & <dbl> & <dbl> & <dbl> & <dbl>\\\\\n",
       "\\hline\n",
       "\t 143.5130 & 32.90377 & 384 & 1.679113 & 3.291062 & 140.2220 & 146.8041\\\\\n",
       "\t 149.0727 & 31.29771 & 385 & 1.595079 & 3.126355 & 145.9464 & 152.1991\\\\\n",
       "\t 151.0796 & 30.20831 & 402 & 1.506654 & 2.953041 & 148.1266 & 154.0326\\\\\n",
       "\t 147.1927 & 30.40251 & 384 & 1.551472 & 3.040884 & 144.1518 & 150.2336\\\\\n",
       "\\end{tabular}\n"
      ],
      "text/markdown": [
       "\n",
       "A data.frame: 4 × 7\n",
       "\n",
       "| media &lt;dbl&gt; | desv &lt;dbl&gt; | N &lt;int&gt; | error.est &lt;dbl&gt; | error &lt;dbl&gt; | lim.inf &lt;dbl&gt; | lim.sup &lt;dbl&gt; |\n",
       "|---|---|---|---|---|---|---|\n",
       "| 143.5130 | 32.90377 | 384 | 1.679113 | 3.291062 | 140.2220 | 146.8041 |\n",
       "| 149.0727 | 31.29771 | 385 | 1.595079 | 3.126355 | 145.9464 | 152.1991 |\n",
       "| 151.0796 | 30.20831 | 402 | 1.506654 | 2.953041 | 148.1266 | 154.0326 |\n",
       "| 147.1927 | 30.40251 | 384 | 1.551472 | 3.040884 | 144.1518 | 150.2336 |\n",
       "\n"
      ],
      "text/plain": [
       "  media    desv     N   error.est error    lim.inf  lim.sup \n",
       "1 143.5130 32.90377 384 1.679113  3.291062 140.2220 146.8041\n",
       "2 149.0727 31.29771 385 1.595079  3.126355 145.9464 152.1991\n",
       "3 151.0796 30.20831 402 1.506654  2.953041 148.1266 154.0326\n",
       "4 147.1927 30.40251 384 1.551472  3.040884 144.1518 150.2336"
      ]
     },
     "metadata": {},
     "output_type": "display_data"
    },
    {
     "data": {
      "text/html": [
       "<table>\n",
       "<caption>A data.frame: 4 × 7</caption>\n",
       "<thead>\n",
       "\t<tr><th scope=col>media</th><th scope=col>desv</th><th scope=col>N</th><th scope=col>error.est</th><th scope=col>error</th><th scope=col>lim.inf</th><th scope=col>lim.sup</th></tr>\n",
       "\t<tr><th scope=col>&lt;dbl&gt;</th><th scope=col>&lt;dbl&gt;</th><th scope=col>&lt;int&gt;</th><th scope=col>&lt;dbl&gt;</th><th scope=col>&lt;dbl&gt;</th><th scope=col>&lt;dbl&gt;</th><th scope=col>&lt;dbl&gt;</th></tr>\n",
       "</thead>\n",
       "<tbody>\n",
       "\t<tr><td>143.5130</td><td>32.90377</td><td>384</td><td>1.679113</td><td>4.315321</td><td>139.1977</td><td>147.8283</td></tr>\n",
       "\t<tr><td>149.0727</td><td>31.29771</td><td>385</td><td>1.595079</td><td>4.099353</td><td>144.9734</td><td>153.1721</td></tr>\n",
       "\t<tr><td>151.0796</td><td>30.20831</td><td>402</td><td>1.506654</td><td>3.872100</td><td>147.2075</td><td>154.9517</td></tr>\n",
       "\t<tr><td>147.1927</td><td>30.40251</td><td>384</td><td>1.551472</td><td>3.987282</td><td>143.2054</td><td>151.1800</td></tr>\n",
       "</tbody>\n",
       "</table>\n"
      ],
      "text/latex": [
       "A data.frame: 4 × 7\n",
       "\\begin{tabular}{lllllll}\n",
       " media & desv & N & error.est & error & lim.inf & lim.sup\\\\\n",
       " <dbl> & <dbl> & <int> & <dbl> & <dbl> & <dbl> & <dbl>\\\\\n",
       "\\hline\n",
       "\t 143.5130 & 32.90377 & 384 & 1.679113 & 4.315321 & 139.1977 & 147.8283\\\\\n",
       "\t 149.0727 & 31.29771 & 385 & 1.595079 & 4.099353 & 144.9734 & 153.1721\\\\\n",
       "\t 151.0796 & 30.20831 & 402 & 1.506654 & 3.872100 & 147.2075 & 154.9517\\\\\n",
       "\t 147.1927 & 30.40251 & 384 & 1.551472 & 3.987282 & 143.2054 & 151.1800\\\\\n",
       "\\end{tabular}\n"
      ],
      "text/markdown": [
       "\n",
       "A data.frame: 4 × 7\n",
       "\n",
       "| media &lt;dbl&gt; | desv &lt;dbl&gt; | N &lt;int&gt; | error.est &lt;dbl&gt; | error &lt;dbl&gt; | lim.inf &lt;dbl&gt; | lim.sup &lt;dbl&gt; |\n",
       "|---|---|---|---|---|---|---|\n",
       "| 143.5130 | 32.90377 | 384 | 1.679113 | 4.315321 | 139.1977 | 147.8283 |\n",
       "| 149.0727 | 31.29771 | 385 | 1.595079 | 4.099353 | 144.9734 | 153.1721 |\n",
       "| 151.0796 | 30.20831 | 402 | 1.506654 | 3.872100 | 147.2075 | 154.9517 |\n",
       "| 147.1927 | 30.40251 | 384 | 1.551472 | 3.987282 | 143.2054 | 151.1800 |\n",
       "\n"
      ],
      "text/plain": [
       "  media    desv     N   error.est error    lim.inf  lim.sup \n",
       "1 143.5130 32.90377 384 1.679113  4.315321 139.1977 147.8283\n",
       "2 149.0727 31.29771 385 1.595079  4.099353 144.9734 153.1721\n",
       "3 151.0796 30.20831 402 1.506654  3.872100 147.2075 154.9517\n",
       "4 147.1927 30.40251 384 1.551472  3.987282 143.2054 151.1800"
      ]
     },
     "metadata": {},
     "output_type": "display_data"
    }
   ],
   "source": [
    "inf_comp_ciud90<- rbind(infmas_comp_ciud90,infme_comp_ciud90,infmc_comp_ciud90,infms_comp_ciud90)\n",
    "inf_comp_ciud90\n",
    "\n",
    "inf_comp_ciud95<- rbind(infmas_comp_ciud95,infme_comp_ciud95,infmc_comp_ciud95,infms_comp_ciud95)\n",
    "inf_comp_ciud95\n",
    "\n",
    "inf_comp_ciud99<- rbind(infmas_comp_ciud99,infme_comp_ciud99,infmc_comp_ciud99,infms_comp_ciud99)\n",
    "inf_comp_ciud99"
   ]
  },
  {
   "cell_type": "markdown",
   "metadata": {},
   "source": [
    "<h3 align=\"left\">Conclusiones</h3> "
   ]
  },
  {
   "cell_type": "markdown",
   "metadata": {},
   "source": [
    "- Al seleccionar un tamaño de muestra adecuado aplicando la fórmula correspondiente, los muestreos obtenidos son lo suficientemente representativos respecto a la población. Esto puede ser comprobado por medio de las estimaciones por máxima verosimilitud, las gráficas generadas, así como los intervalos de confianza obtenidos.\n",
    "- Si se comparan los intervalos de confianza de acuerdo al porcentaje seleccionado, se puede observar que a mayor porcentaje se reduce el intervalo, aunque esta reducción termina siendo poco notoria.\n",
    "- Todos los muestreos son representativos a la población, por tanto, el escoger alguno en específico depende principalmente del propósito del estudio que se quiera realizar con los datos. Por ejemplo, si se quiere analizar por desempeño, el más adecuado sería el estratificado; mientras que el MAS y el sistemático sirven para un análisis general, sin dejar de lado sus características particulares."
   ]
  }
 ],
 "metadata": {
  "kernelspec": {
   "display_name": "R",
   "language": "R",
   "name": "ir"
  },
  "language_info": {
   "codemirror_mode": "r",
   "file_extension": ".r",
   "mimetype": "text/x-r-source",
   "name": "R",
   "pygments_lexer": "r",
   "version": "4.0.0"
  }
 },
 "nbformat": 4,
 "nbformat_minor": 4
}
