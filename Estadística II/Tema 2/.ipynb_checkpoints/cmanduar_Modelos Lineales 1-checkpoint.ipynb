{
 "cells": [
  {
   "cell_type": "markdown",
   "metadata": {
    "slideshow": {
     "slide_type": "slide"
    }
   },
   "source": [
    "# MODELOS LINEALES (REGRESIÓN)"
   ]
  },
  {
   "cell_type": "markdown",
   "metadata": {
    "slideshow": {
     "slide_type": "slide"
    }
   },
   "source": [
    "Antes de entrar en el análisis de modelos lineales es necesario comprender de qué se trata el enfoque de la estadística aplicada. Para verlo de  manera sencilla se puede decir que la estadística empieza con un problema, continúa con la recolección de datos, sigue con el análisis de los mismos y finaliza con conclusiones.\n",
    "\n",
    "El aspecto más importante es la formulación correcta del problema ya que, de su comprensión, depende el desarrollo estadístico. La formulación del problema puede resumirse en los siguientes pasos <sup><a name=\"myfootnote1\">1</a></sup>\n",
    "\n",
    "1. Conocer los antecedentes.\n",
    "2. Entender los objetivos.\n",
    "3. Comprender lo que el 'cliente' busca.\n",
    "4. Poner el problema en términos estadísticos."
   ]
  },
  {
   "cell_type": "markdown",
   "metadata": {
    "slideshow": {
     "slide_type": "slide"
    }
   },
   "source": [
    "También es necesario conocer los datos recolectados. Para ello hay que tener en cuenta:\n",
    "\n",
    "1. Si los datos son observacionales o experimentales.\n",
    "2. Si hay cuestiones sin responder.\n",
    "3. Si existen valores perdidos.\n",
    "4. Cuál ha sido la forma de codificar los datos.\n",
    "5. Cuáles son las unidades de medidas.\n",
    "6. Revisar si existen datos corruptos o errores en las entradas.\n",
    "\n",
    "Una vez revisados estos aspectos, se procede con el análisis de los datos."
   ]
  },
  {
   "cell_type": "markdown",
   "metadata": {
    "slideshow": {
     "slide_type": "slide"
    }
   },
   "source": [
    "## Análisis Inicial o Análisis Exploratorio\n",
    "\n",
    "Aunque es un paso simple, se trata de un momento crucial para la comprensión de los datos. El análisis inicial da una perspectiva general del problema y permite identificar aspectos que podrían ser susceptibles de ajustar, antes de avanzarcon el proceso. Existen dos maneras de exploración: análisis numérico y análisis gráfico; ambos se complementan y ofrecen información.\n",
    "\n",
    "Para este procedimiento se va a emplear algunas bases de datos que se encuentran asociadas al programa `R`. Para este ejercicio se va a emplear la base de datos llamada `pima` asociada a la librería `faraway` (si no se encuentra instalada hay que proceder a instalarla). Los datos se llaman con la siguiente línea:"
   ]
  },
  {
   "cell_type": "code",
   "execution_count": 1,
   "metadata": {
    "slideshow": {
     "slide_type": "slide"
    }
   },
   "outputs": [],
   "source": [
    "data(pima, package=\"faraway\")"
   ]
  },
  {
   "cell_type": "markdown",
   "metadata": {
    "slideshow": {
     "slide_type": "slide"
    }
   },
   "source": [
    "En este comando hay dos argumentos para considerar: `data(x, package)`, donde el argumento `x` hace referencia al conjunto de datos a emplear (en este caso `pima`) y `package` se refiere a la librería asociada (`faraway`). Es importante anotar las comillas en el nombre del paquete o librería ya que la selección por parte del software se basa en caracteres, si no se colocan las comillas el programa lo interpreta como un objeto y puede generar un error en la ejecución del comando.\n",
    "\n",
    "Otra manera de hacerlo es llamar la librería y, luego, importar los datos. Se puede emplear la siguiente línea de comandos y los resultados son los mismos:"
   ]
  },
  {
   "cell_type": "code",
   "execution_count": 2,
   "metadata": {
    "slideshow": {
     "slide_type": "slide"
    }
   },
   "outputs": [],
   "source": [
    "library(faraway)\n",
    "data(pima)"
   ]
  },
  {
   "cell_type": "code",
   "execution_count": 3,
   "metadata": {
    "scrolled": true,
    "slideshow": {
     "slide_type": "slide"
    }
   },
   "outputs": [
    {
     "name": "stdout",
     "output_type": "stream",
     "text": [
      "'data.frame':\t768 obs. of  9 variables:\n",
      " $ pregnant : int  6 1 8 1 0 5 3 10 2 8 ...\n",
      " $ glucose  : int  148 85 183 89 137 116 78 115 197 125 ...\n",
      " $ diastolic: int  72 66 64 66 40 74 50 0 70 96 ...\n",
      " $ triceps  : int  35 29 0 23 35 0 32 0 45 0 ...\n",
      " $ insulin  : int  0 0 0 94 168 0 88 0 543 0 ...\n",
      " $ bmi      : num  33.6 26.6 23.3 28.1 43.1 25.6 31 35.3 30.5 0 ...\n",
      " $ diabetes : num  0.627 0.351 0.672 0.167 2.288 ...\n",
      " $ age      : int  50 31 32 21 33 30 26 29 53 54 ...\n",
      " $ test     : int  1 0 1 0 1 0 1 0 1 1 ...\n"
     ]
    }
   ],
   "source": [
    "str(pima)"
   ]
  },
  {
   "cell_type": "markdown",
   "metadata": {
    "slideshow": {
     "slide_type": "slide"
    }
   },
   "source": [
    "El conjunto de datos correspondea un estudio realizado por el Instituto Nacional de la Diabetes y Enfermedades Digestivas a 768 indígenas Pima adultas viviendo cerca de Phoenix. Las variables registradas son:\n",
    "\n",
    "- `pregnant` Numero de veces que ha estado embarazada.\n",
    "- `glucose` Concentración de glucosa plasmática a las 2 horas en una prueba oral de tolerancia a la glucosa.\n",
    "- `diastolic` Presión distólica (mm Hg).\n",
    "- `triceps` Espesor de los pliegues cutáneos en los tríceps (mm)\n",
    "-  `ìnsulin` 2 horas de insulina en suero (mu U/ml)\n",
    "- `bmi` Índice de Masa Corporal (peso en kg/altura en $m^{2}$)\n",
    "- `diabetes` Función pedigrí de la diabetes (Es una función que representa la probabilidad de que contraigan la enfermedad mediante la extrapolación de la historia de su antepasado)\n",
    "- `age` Edad en Años\n",
    "- `test` Prueba de signos de diabetes (0 = Negativo; 1 = Positivo)"
   ]
  },
  {
   "cell_type": "markdown",
   "metadata": {
    "slideshow": {
     "slide_type": "slide"
    }
   },
   "source": [
    "Una visión inicial de los datos se puede obtener mediante los comandos `head` y `tail` que muestran el inicio y el final de la tabla (tambien se puede usar el comando `View` pero este es procedente cuando la tabla es corta). Los comandos tienen dos elementos: `x` que hace referencia a la tabla que se desea visualizar y `n` que se refiere a la cantidad de observaciones a mostrar. Por defecto `n = 6`."
   ]
  },
  {
   "cell_type": "code",
   "execution_count": 4,
   "metadata": {
    "slideshow": {
     "slide_type": "slide"
    }
   },
   "outputs": [
    {
     "data": {
      "text/html": [
       "<table>\n",
       "<caption>A data.frame: 10 × 9</caption>\n",
       "<thead>\n",
       "\t<tr><th></th><th scope=col>pregnant</th><th scope=col>glucose</th><th scope=col>diastolic</th><th scope=col>triceps</th><th scope=col>insulin</th><th scope=col>bmi</th><th scope=col>diabetes</th><th scope=col>age</th><th scope=col>test</th></tr>\n",
       "\t<tr><th></th><th scope=col>&lt;int&gt;</th><th scope=col>&lt;int&gt;</th><th scope=col>&lt;int&gt;</th><th scope=col>&lt;int&gt;</th><th scope=col>&lt;int&gt;</th><th scope=col>&lt;dbl&gt;</th><th scope=col>&lt;dbl&gt;</th><th scope=col>&lt;int&gt;</th><th scope=col>&lt;int&gt;</th></tr>\n",
       "</thead>\n",
       "<tbody>\n",
       "\t<tr><th scope=row>1</th><td> 6</td><td>148</td><td>72</td><td>35</td><td>  0</td><td>33.6</td><td>0.627</td><td>50</td><td>1</td></tr>\n",
       "\t<tr><th scope=row>2</th><td> 1</td><td> 85</td><td>66</td><td>29</td><td>  0</td><td>26.6</td><td>0.351</td><td>31</td><td>0</td></tr>\n",
       "\t<tr><th scope=row>3</th><td> 8</td><td>183</td><td>64</td><td> 0</td><td>  0</td><td>23.3</td><td>0.672</td><td>32</td><td>1</td></tr>\n",
       "\t<tr><th scope=row>4</th><td> 1</td><td> 89</td><td>66</td><td>23</td><td> 94</td><td>28.1</td><td>0.167</td><td>21</td><td>0</td></tr>\n",
       "\t<tr><th scope=row>5</th><td> 0</td><td>137</td><td>40</td><td>35</td><td>168</td><td>43.1</td><td>2.288</td><td>33</td><td>1</td></tr>\n",
       "\t<tr><th scope=row>6</th><td> 5</td><td>116</td><td>74</td><td> 0</td><td>  0</td><td>25.6</td><td>0.201</td><td>30</td><td>0</td></tr>\n",
       "\t<tr><th scope=row>7</th><td> 3</td><td> 78</td><td>50</td><td>32</td><td> 88</td><td>31.0</td><td>0.248</td><td>26</td><td>1</td></tr>\n",
       "\t<tr><th scope=row>8</th><td>10</td><td>115</td><td> 0</td><td> 0</td><td>  0</td><td>35.3</td><td>0.134</td><td>29</td><td>0</td></tr>\n",
       "\t<tr><th scope=row>9</th><td> 2</td><td>197</td><td>70</td><td>45</td><td>543</td><td>30.5</td><td>0.158</td><td>53</td><td>1</td></tr>\n",
       "\t<tr><th scope=row>10</th><td> 8</td><td>125</td><td>96</td><td> 0</td><td>  0</td><td> 0.0</td><td>0.232</td><td>54</td><td>1</td></tr>\n",
       "</tbody>\n",
       "</table>\n"
      ],
      "text/latex": [
       "A data.frame: 10 × 9\n",
       "\\begin{tabular}{r|lllllllll}\n",
       "  & pregnant & glucose & diastolic & triceps & insulin & bmi & diabetes & age & test\\\\\n",
       "  & <int> & <int> & <int> & <int> & <int> & <dbl> & <dbl> & <int> & <int>\\\\\n",
       "\\hline\n",
       "\t1 &  6 & 148 & 72 & 35 &   0 & 33.6 & 0.627 & 50 & 1\\\\\n",
       "\t2 &  1 &  85 & 66 & 29 &   0 & 26.6 & 0.351 & 31 & 0\\\\\n",
       "\t3 &  8 & 183 & 64 &  0 &   0 & 23.3 & 0.672 & 32 & 1\\\\\n",
       "\t4 &  1 &  89 & 66 & 23 &  94 & 28.1 & 0.167 & 21 & 0\\\\\n",
       "\t5 &  0 & 137 & 40 & 35 & 168 & 43.1 & 2.288 & 33 & 1\\\\\n",
       "\t6 &  5 & 116 & 74 &  0 &   0 & 25.6 & 0.201 & 30 & 0\\\\\n",
       "\t7 &  3 &  78 & 50 & 32 &  88 & 31.0 & 0.248 & 26 & 1\\\\\n",
       "\t8 & 10 & 115 &  0 &  0 &   0 & 35.3 & 0.134 & 29 & 0\\\\\n",
       "\t9 &  2 & 197 & 70 & 45 & 543 & 30.5 & 0.158 & 53 & 1\\\\\n",
       "\t10 &  8 & 125 & 96 &  0 &   0 &  0.0 & 0.232 & 54 & 1\\\\\n",
       "\\end{tabular}\n"
      ],
      "text/markdown": [
       "\n",
       "A data.frame: 10 × 9\n",
       "\n",
       "| <!--/--> | pregnant &lt;int&gt; | glucose &lt;int&gt; | diastolic &lt;int&gt; | triceps &lt;int&gt; | insulin &lt;int&gt; | bmi &lt;dbl&gt; | diabetes &lt;dbl&gt; | age &lt;int&gt; | test &lt;int&gt; |\n",
       "|---|---|---|---|---|---|---|---|---|---|\n",
       "| 1 |  6 | 148 | 72 | 35 |   0 | 33.6 | 0.627 | 50 | 1 |\n",
       "| 2 |  1 |  85 | 66 | 29 |   0 | 26.6 | 0.351 | 31 | 0 |\n",
       "| 3 |  8 | 183 | 64 |  0 |   0 | 23.3 | 0.672 | 32 | 1 |\n",
       "| 4 |  1 |  89 | 66 | 23 |  94 | 28.1 | 0.167 | 21 | 0 |\n",
       "| 5 |  0 | 137 | 40 | 35 | 168 | 43.1 | 2.288 | 33 | 1 |\n",
       "| 6 |  5 | 116 | 74 |  0 |   0 | 25.6 | 0.201 | 30 | 0 |\n",
       "| 7 |  3 |  78 | 50 | 32 |  88 | 31.0 | 0.248 | 26 | 1 |\n",
       "| 8 | 10 | 115 |  0 |  0 |   0 | 35.3 | 0.134 | 29 | 0 |\n",
       "| 9 |  2 | 197 | 70 | 45 | 543 | 30.5 | 0.158 | 53 | 1 |\n",
       "| 10 |  8 | 125 | 96 |  0 |   0 |  0.0 | 0.232 | 54 | 1 |\n",
       "\n"
      ],
      "text/plain": [
       "   pregnant glucose diastolic triceps insulin bmi  diabetes age test\n",
       "1   6       148     72        35        0     33.6 0.627    50  1   \n",
       "2   1        85     66        29        0     26.6 0.351    31  0   \n",
       "3   8       183     64         0        0     23.3 0.672    32  1   \n",
       "4   1        89     66        23       94     28.1 0.167    21  0   \n",
       "5   0       137     40        35      168     43.1 2.288    33  1   \n",
       "6   5       116     74         0        0     25.6 0.201    30  0   \n",
       "7   3        78     50        32       88     31.0 0.248    26  1   \n",
       "8  10       115      0         0        0     35.3 0.134    29  0   \n",
       "9   2       197     70        45      543     30.5 0.158    53  1   \n",
       "10  8       125     96         0        0      0.0 0.232    54  1   "
      ]
     },
     "metadata": {},
     "output_type": "display_data"
    }
   ],
   "source": [
    "head(pima,10)"
   ]
  },
  {
   "cell_type": "code",
   "execution_count": 5,
   "metadata": {
    "scrolled": false,
    "slideshow": {
     "slide_type": "slide"
    }
   },
   "outputs": [
    {
     "data": {
      "text/html": [
       "<table>\n",
       "<caption>A data.frame: 10 × 9</caption>\n",
       "<thead>\n",
       "\t<tr><th></th><th scope=col>pregnant</th><th scope=col>glucose</th><th scope=col>diastolic</th><th scope=col>triceps</th><th scope=col>insulin</th><th scope=col>bmi</th><th scope=col>diabetes</th><th scope=col>age</th><th scope=col>test</th></tr>\n",
       "\t<tr><th></th><th scope=col>&lt;int&gt;</th><th scope=col>&lt;int&gt;</th><th scope=col>&lt;int&gt;</th><th scope=col>&lt;int&gt;</th><th scope=col>&lt;int&gt;</th><th scope=col>&lt;dbl&gt;</th><th scope=col>&lt;dbl&gt;</th><th scope=col>&lt;int&gt;</th><th scope=col>&lt;int&gt;</th></tr>\n",
       "</thead>\n",
       "<tbody>\n",
       "\t<tr><th scope=row>759</th><td> 1</td><td>106</td><td>76</td><td> 0</td><td>  0</td><td>37.5</td><td>0.197</td><td>26</td><td>0</td></tr>\n",
       "\t<tr><th scope=row>760</th><td> 6</td><td>190</td><td>92</td><td> 0</td><td>  0</td><td>35.5</td><td>0.278</td><td>66</td><td>1</td></tr>\n",
       "\t<tr><th scope=row>761</th><td> 2</td><td> 88</td><td>58</td><td>26</td><td> 16</td><td>28.4</td><td>0.766</td><td>22</td><td>0</td></tr>\n",
       "\t<tr><th scope=row>762</th><td> 9</td><td>170</td><td>74</td><td>31</td><td>  0</td><td>44.0</td><td>0.403</td><td>43</td><td>1</td></tr>\n",
       "\t<tr><th scope=row>763</th><td> 9</td><td> 89</td><td>62</td><td> 0</td><td>  0</td><td>22.5</td><td>0.142</td><td>33</td><td>0</td></tr>\n",
       "\t<tr><th scope=row>764</th><td>10</td><td>101</td><td>76</td><td>48</td><td>180</td><td>32.9</td><td>0.171</td><td>63</td><td>0</td></tr>\n",
       "\t<tr><th scope=row>765</th><td> 2</td><td>122</td><td>70</td><td>27</td><td>  0</td><td>36.8</td><td>0.340</td><td>27</td><td>0</td></tr>\n",
       "\t<tr><th scope=row>766</th><td> 5</td><td>121</td><td>72</td><td>23</td><td>112</td><td>26.2</td><td>0.245</td><td>30</td><td>0</td></tr>\n",
       "\t<tr><th scope=row>767</th><td> 1</td><td>126</td><td>60</td><td> 0</td><td>  0</td><td>30.1</td><td>0.349</td><td>47</td><td>1</td></tr>\n",
       "\t<tr><th scope=row>768</th><td> 1</td><td> 93</td><td>70</td><td>31</td><td>  0</td><td>30.4</td><td>0.315</td><td>23</td><td>0</td></tr>\n",
       "</tbody>\n",
       "</table>\n"
      ],
      "text/latex": [
       "A data.frame: 10 × 9\n",
       "\\begin{tabular}{r|lllllllll}\n",
       "  & pregnant & glucose & diastolic & triceps & insulin & bmi & diabetes & age & test\\\\\n",
       "  & <int> & <int> & <int> & <int> & <int> & <dbl> & <dbl> & <int> & <int>\\\\\n",
       "\\hline\n",
       "\t759 &  1 & 106 & 76 &  0 &   0 & 37.5 & 0.197 & 26 & 0\\\\\n",
       "\t760 &  6 & 190 & 92 &  0 &   0 & 35.5 & 0.278 & 66 & 1\\\\\n",
       "\t761 &  2 &  88 & 58 & 26 &  16 & 28.4 & 0.766 & 22 & 0\\\\\n",
       "\t762 &  9 & 170 & 74 & 31 &   0 & 44.0 & 0.403 & 43 & 1\\\\\n",
       "\t763 &  9 &  89 & 62 &  0 &   0 & 22.5 & 0.142 & 33 & 0\\\\\n",
       "\t764 & 10 & 101 & 76 & 48 & 180 & 32.9 & 0.171 & 63 & 0\\\\\n",
       "\t765 &  2 & 122 & 70 & 27 &   0 & 36.8 & 0.340 & 27 & 0\\\\\n",
       "\t766 &  5 & 121 & 72 & 23 & 112 & 26.2 & 0.245 & 30 & 0\\\\\n",
       "\t767 &  1 & 126 & 60 &  0 &   0 & 30.1 & 0.349 & 47 & 1\\\\\n",
       "\t768 &  1 &  93 & 70 & 31 &   0 & 30.4 & 0.315 & 23 & 0\\\\\n",
       "\\end{tabular}\n"
      ],
      "text/markdown": [
       "\n",
       "A data.frame: 10 × 9\n",
       "\n",
       "| <!--/--> | pregnant &lt;int&gt; | glucose &lt;int&gt; | diastolic &lt;int&gt; | triceps &lt;int&gt; | insulin &lt;int&gt; | bmi &lt;dbl&gt; | diabetes &lt;dbl&gt; | age &lt;int&gt; | test &lt;int&gt; |\n",
       "|---|---|---|---|---|---|---|---|---|---|\n",
       "| 759 |  1 | 106 | 76 |  0 |   0 | 37.5 | 0.197 | 26 | 0 |\n",
       "| 760 |  6 | 190 | 92 |  0 |   0 | 35.5 | 0.278 | 66 | 1 |\n",
       "| 761 |  2 |  88 | 58 | 26 |  16 | 28.4 | 0.766 | 22 | 0 |\n",
       "| 762 |  9 | 170 | 74 | 31 |   0 | 44.0 | 0.403 | 43 | 1 |\n",
       "| 763 |  9 |  89 | 62 |  0 |   0 | 22.5 | 0.142 | 33 | 0 |\n",
       "| 764 | 10 | 101 | 76 | 48 | 180 | 32.9 | 0.171 | 63 | 0 |\n",
       "| 765 |  2 | 122 | 70 | 27 |   0 | 36.8 | 0.340 | 27 | 0 |\n",
       "| 766 |  5 | 121 | 72 | 23 | 112 | 26.2 | 0.245 | 30 | 0 |\n",
       "| 767 |  1 | 126 | 60 |  0 |   0 | 30.1 | 0.349 | 47 | 1 |\n",
       "| 768 |  1 |  93 | 70 | 31 |   0 | 30.4 | 0.315 | 23 | 0 |\n",
       "\n"
      ],
      "text/plain": [
       "    pregnant glucose diastolic triceps insulin bmi  diabetes age test\n",
       "759  1       106     76         0        0     37.5 0.197    26  0   \n",
       "760  6       190     92         0        0     35.5 0.278    66  1   \n",
       "761  2        88     58        26       16     28.4 0.766    22  0   \n",
       "762  9       170     74        31        0     44.0 0.403    43  1   \n",
       "763  9        89     62         0        0     22.5 0.142    33  0   \n",
       "764 10       101     76        48      180     32.9 0.171    63  0   \n",
       "765  2       122     70        27        0     36.8 0.340    27  0   \n",
       "766  5       121     72        23      112     26.2 0.245    30  0   \n",
       "767  1       126     60         0        0     30.1 0.349    47  1   \n",
       "768  1        93     70        31        0     30.4 0.315    23  0   "
      ]
     },
     "metadata": {},
     "output_type": "display_data"
    }
   ],
   "source": [
    "tail(pima,10)"
   ]
  },
  {
   "cell_type": "markdown",
   "metadata": {
    "slideshow": {
     "slide_type": "slide"
    }
   },
   "source": [
    "Se puede empezar con un resumen numérico de los datos usando la función `summary`:"
   ]
  },
  {
   "cell_type": "code",
   "execution_count": 6,
   "metadata": {
    "scrolled": false,
    "slideshow": {
     "slide_type": "slide"
    }
   },
   "outputs": [
    {
     "data": {
      "text/plain": [
       "    pregnant         glucose        diastolic         triceps     \n",
       " Min.   : 0.000   Min.   :  0.0   Min.   :  0.00   Min.   : 0.00  \n",
       " 1st Qu.: 1.000   1st Qu.: 99.0   1st Qu.: 62.00   1st Qu.: 0.00  \n",
       " Median : 3.000   Median :117.0   Median : 72.00   Median :23.00  \n",
       " Mean   : 3.845   Mean   :120.9   Mean   : 69.11   Mean   :20.54  \n",
       " 3rd Qu.: 6.000   3rd Qu.:140.2   3rd Qu.: 80.00   3rd Qu.:32.00  \n",
       " Max.   :17.000   Max.   :199.0   Max.   :122.00   Max.   :99.00  \n",
       "    insulin           bmi           diabetes           age       \n",
       " Min.   :  0.0   Min.   : 0.00   Min.   :0.0780   Min.   :21.00  \n",
       " 1st Qu.:  0.0   1st Qu.:27.30   1st Qu.:0.2437   1st Qu.:24.00  \n",
       " Median : 30.5   Median :32.00   Median :0.3725   Median :29.00  \n",
       " Mean   : 79.8   Mean   :31.99   Mean   :0.4719   Mean   :33.24  \n",
       " 3rd Qu.:127.2   3rd Qu.:36.60   3rd Qu.:0.6262   3rd Qu.:41.00  \n",
       " Max.   :846.0   Max.   :67.10   Max.   :2.4200   Max.   :81.00  \n",
       "      test      \n",
       " Min.   :0.000  \n",
       " 1st Qu.:0.000  \n",
       " Median :0.000  \n",
       " Mean   :0.349  \n",
       " 3rd Qu.:1.000  \n",
       " Max.   :1.000  "
      ]
     },
     "metadata": {},
     "output_type": "display_data"
    }
   ],
   "source": [
    "summary(pima)"
   ]
  },
  {
   "cell_type": "markdown",
   "metadata": {
    "slideshow": {
     "slide_type": "slide"
    }
   },
   "source": [
    "Algunos datos se observan raros; por ejemplo, el número de veces que ha estado embarazada presenta un máximo de 17, raro pero no imposible. Sim embargo, la presión diastólica muestra valores cero lo cual puede corresponder a datos perdidos pues ausencia de presión en la sangre no es buen síntoma. Una opción para la comprender esta variables es ordenarla (usando la función `sort`)"
   ]
  },
  {
   "cell_type": "code",
   "execution_count": 7,
   "metadata": {
    "scrolled": true,
    "slideshow": {
     "slide_type": "slide"
    }
   },
   "outputs": [
    {
     "data": {
      "text/html": [
       "<ol class=list-inline>\n",
       "\t<li>0</li>\n",
       "\t<li>0</li>\n",
       "\t<li>0</li>\n",
       "\t<li>0</li>\n",
       "\t<li>0</li>\n",
       "\t<li>0</li>\n",
       "\t<li>0</li>\n",
       "\t<li>0</li>\n",
       "\t<li>0</li>\n",
       "\t<li>0</li>\n",
       "\t<li>0</li>\n",
       "\t<li>0</li>\n",
       "\t<li>0</li>\n",
       "\t<li>0</li>\n",
       "\t<li>0</li>\n",
       "\t<li>0</li>\n",
       "\t<li>0</li>\n",
       "\t<li>0</li>\n",
       "\t<li>0</li>\n",
       "\t<li>0</li>\n",
       "\t<li>0</li>\n",
       "\t<li>0</li>\n",
       "\t<li>0</li>\n",
       "\t<li>0</li>\n",
       "\t<li>0</li>\n",
       "\t<li>0</li>\n",
       "\t<li>0</li>\n",
       "\t<li>0</li>\n",
       "\t<li>0</li>\n",
       "\t<li>0</li>\n",
       "\t<li>0</li>\n",
       "\t<li>0</li>\n",
       "\t<li>0</li>\n",
       "\t<li>0</li>\n",
       "\t<li>0</li>\n",
       "\t<li>24</li>\n",
       "\t<li>30</li>\n",
       "\t<li>30</li>\n",
       "\t<li>38</li>\n",
       "\t<li>40</li>\n",
       "\t<li>44</li>\n",
       "\t<li>44</li>\n",
       "\t<li>44</li>\n",
       "\t<li>44</li>\n",
       "\t<li>46</li>\n",
       "\t<li>46</li>\n",
       "\t<li>48</li>\n",
       "\t<li>48</li>\n",
       "\t<li>48</li>\n",
       "\t<li>48</li>\n",
       "</ol>\n"
      ],
      "text/latex": [
       "\\begin{enumerate*}\n",
       "\\item 0\n",
       "\\item 0\n",
       "\\item 0\n",
       "\\item 0\n",
       "\\item 0\n",
       "\\item 0\n",
       "\\item 0\n",
       "\\item 0\n",
       "\\item 0\n",
       "\\item 0\n",
       "\\item 0\n",
       "\\item 0\n",
       "\\item 0\n",
       "\\item 0\n",
       "\\item 0\n",
       "\\item 0\n",
       "\\item 0\n",
       "\\item 0\n",
       "\\item 0\n",
       "\\item 0\n",
       "\\item 0\n",
       "\\item 0\n",
       "\\item 0\n",
       "\\item 0\n",
       "\\item 0\n",
       "\\item 0\n",
       "\\item 0\n",
       "\\item 0\n",
       "\\item 0\n",
       "\\item 0\n",
       "\\item 0\n",
       "\\item 0\n",
       "\\item 0\n",
       "\\item 0\n",
       "\\item 0\n",
       "\\item 24\n",
       "\\item 30\n",
       "\\item 30\n",
       "\\item 38\n",
       "\\item 40\n",
       "\\item 44\n",
       "\\item 44\n",
       "\\item 44\n",
       "\\item 44\n",
       "\\item 46\n",
       "\\item 46\n",
       "\\item 48\n",
       "\\item 48\n",
       "\\item 48\n",
       "\\item 48\n",
       "\\end{enumerate*}\n"
      ],
      "text/markdown": [
       "1. 0\n",
       "2. 0\n",
       "3. 0\n",
       "4. 0\n",
       "5. 0\n",
       "6. 0\n",
       "7. 0\n",
       "8. 0\n",
       "9. 0\n",
       "10. 0\n",
       "11. 0\n",
       "12. 0\n",
       "13. 0\n",
       "14. 0\n",
       "15. 0\n",
       "16. 0\n",
       "17. 0\n",
       "18. 0\n",
       "19. 0\n",
       "20. 0\n",
       "21. 0\n",
       "22. 0\n",
       "23. 0\n",
       "24. 0\n",
       "25. 0\n",
       "26. 0\n",
       "27. 0\n",
       "28. 0\n",
       "29. 0\n",
       "30. 0\n",
       "31. 0\n",
       "32. 0\n",
       "33. 0\n",
       "34. 0\n",
       "35. 0\n",
       "36. 24\n",
       "37. 30\n",
       "38. 30\n",
       "39. 38\n",
       "40. 40\n",
       "41. 44\n",
       "42. 44\n",
       "43. 44\n",
       "44. 44\n",
       "45. 46\n",
       "46. 46\n",
       "47. 48\n",
       "48. 48\n",
       "49. 48\n",
       "50. 48\n",
       "\n",
       "\n"
      ],
      "text/plain": [
       " [1]  0  0  0  0  0  0  0  0  0  0  0  0  0  0  0  0  0  0  0  0  0  0  0  0  0\n",
       "[26]  0  0  0  0  0  0  0  0  0  0 24 30 30 38 40 44 44 44 44 46 46 48 48 48 48"
      ]
     },
     "metadata": {},
     "output_type": "display_data"
    }
   ],
   "source": [
    "head(sort(pima$diastolic),50)"
   ]
  },
  {
   "cell_type": "markdown",
   "metadata": {
    "slideshow": {
     "slide_type": "slide"
    }
   },
   "source": [
    "Se aprecian 35 observaciones con valores cero lo que sugiere que el dato no se registró debido a problemas en la investigación por lo que asignar estas observaciones como datos perdidos sería lo correcto. El procedimiento es el siguiente:"
   ]
  },
  {
   "cell_type": "code",
   "execution_count": 8,
   "metadata": {
    "slideshow": {
     "slide_type": "slide"
    }
   },
   "outputs": [],
   "source": [
    "pima$diastolic[pima$diastolic == 0] <- NA\n",
    "pima$glucose[pima$glucose == 0] <- NA\n",
    "pima$triceps[pima$triceps == 0] <- NA\n",
    "pima$insulin[pima$insulin == 0] <- NA\n",
    "pima$bmi[pima$bmi == 0] <- NA"
   ]
  },
  {
   "cell_type": "code",
   "execution_count": 9,
   "metadata": {
    "slideshow": {
     "slide_type": "slide"
    }
   },
   "outputs": [
    {
     "data": {
      "text/plain": [
       "    pregnant         glucose        diastolic         triceps     \n",
       " Min.   : 0.000   Min.   : 44.0   Min.   : 24.00   Min.   : 7.00  \n",
       " 1st Qu.: 1.000   1st Qu.: 99.0   1st Qu.: 64.00   1st Qu.:22.00  \n",
       " Median : 3.000   Median :117.0   Median : 72.00   Median :29.00  \n",
       " Mean   : 3.845   Mean   :121.7   Mean   : 72.41   Mean   :29.15  \n",
       " 3rd Qu.: 6.000   3rd Qu.:141.0   3rd Qu.: 80.00   3rd Qu.:36.00  \n",
       " Max.   :17.000   Max.   :199.0   Max.   :122.00   Max.   :99.00  \n",
       "                  NA's   :5       NA's   :35       NA's   :227    \n",
       "    insulin            bmi           diabetes           age       \n",
       " Min.   : 14.00   Min.   :18.20   Min.   :0.0780   Min.   :21.00  \n",
       " 1st Qu.: 76.25   1st Qu.:27.50   1st Qu.:0.2437   1st Qu.:24.00  \n",
       " Median :125.00   Median :32.30   Median :0.3725   Median :29.00  \n",
       " Mean   :155.55   Mean   :32.46   Mean   :0.4719   Mean   :33.24  \n",
       " 3rd Qu.:190.00   3rd Qu.:36.60   3rd Qu.:0.6262   3rd Qu.:41.00  \n",
       " Max.   :846.00   Max.   :67.10   Max.   :2.4200   Max.   :81.00  \n",
       " NA's   :374      NA's   :11                                      \n",
       "      test      \n",
       " Min.   :0.000  \n",
       " 1st Qu.:0.000  \n",
       " Median :0.000  \n",
       " Mean   :0.349  \n",
       " 3rd Qu.:1.000  \n",
       " Max.   :1.000  \n",
       "                "
      ]
     },
     "metadata": {},
     "output_type": "display_data"
    }
   ],
   "source": [
    "summary(pima)"
   ]
  },
  {
   "cell_type": "markdown",
   "metadata": {
    "slideshow": {
     "slide_type": "slide"
    }
   },
   "source": [
    "Ahora se debe transformar en factor la variable `test` dado que se trata de una variable categórica:"
   ]
  },
  {
   "cell_type": "code",
   "execution_count": 10,
   "metadata": {
    "scrolled": false,
    "slideshow": {
     "slide_type": "slide"
    }
   },
   "outputs": [
    {
     "data": {
      "text/plain": [
       "    pregnant         glucose        diastolic         triceps     \n",
       " Min.   : 0.000   Min.   : 44.0   Min.   : 24.00   Min.   : 7.00  \n",
       " 1st Qu.: 1.000   1st Qu.: 99.0   1st Qu.: 64.00   1st Qu.:22.00  \n",
       " Median : 3.000   Median :117.0   Median : 72.00   Median :29.00  \n",
       " Mean   : 3.845   Mean   :121.7   Mean   : 72.41   Mean   :29.15  \n",
       " 3rd Qu.: 6.000   3rd Qu.:141.0   3rd Qu.: 80.00   3rd Qu.:36.00  \n",
       " Max.   :17.000   Max.   :199.0   Max.   :122.00   Max.   :99.00  \n",
       "                  NA's   :5       NA's   :35       NA's   :227    \n",
       "    insulin            bmi           diabetes           age       \n",
       " Min.   : 14.00   Min.   :18.20   Min.   :0.0780   Min.   :21.00  \n",
       " 1st Qu.: 76.25   1st Qu.:27.50   1st Qu.:0.2437   1st Qu.:24.00  \n",
       " Median :125.00   Median :32.30   Median :0.3725   Median :29.00  \n",
       " Mean   :155.55   Mean   :32.46   Mean   :0.4719   Mean   :33.24  \n",
       " 3rd Qu.:190.00   3rd Qu.:36.60   3rd Qu.:0.6262   3rd Qu.:41.00  \n",
       " Max.   :846.00   Max.   :67.10   Max.   :2.4200   Max.   :81.00  \n",
       " NA's   :374      NA's   :11                                      \n",
       "       test    \n",
       " negative:500  \n",
       " positive:268  \n",
       "               \n",
       "               \n",
       "               \n",
       "               \n",
       "               "
      ]
     },
     "metadata": {},
     "output_type": "display_data"
    }
   ],
   "source": [
    "pima$test <- factor(pima$test)\n",
    "levels(pima$test) <- c(\"negative\",\"positive\")\n",
    "summary(pima)"
   ]
  },
  {
   "cell_type": "code",
   "execution_count": 11,
   "metadata": {
    "slideshow": {
     "slide_type": "slide"
    }
   },
   "outputs": [
    {
     "data": {
      "text/html": [
       "<table>\n",
       "<caption>A data.frame: 6 × 9</caption>\n",
       "<thead>\n",
       "\t<tr><th></th><th scope=col>pregnant</th><th scope=col>glucose</th><th scope=col>diastolic</th><th scope=col>triceps</th><th scope=col>insulin</th><th scope=col>bmi</th><th scope=col>diabetes</th><th scope=col>age</th><th scope=col>test</th></tr>\n",
       "\t<tr><th></th><th scope=col>&lt;int&gt;</th><th scope=col>&lt;int&gt;</th><th scope=col>&lt;int&gt;</th><th scope=col>&lt;int&gt;</th><th scope=col>&lt;int&gt;</th><th scope=col>&lt;dbl&gt;</th><th scope=col>&lt;dbl&gt;</th><th scope=col>&lt;int&gt;</th><th scope=col>&lt;fct&gt;</th></tr>\n",
       "</thead>\n",
       "<tbody>\n",
       "\t<tr><th scope=row>1</th><td>6</td><td>148</td><td>72</td><td>35</td><td> NA</td><td>33.6</td><td>0.627</td><td>50</td><td>positive</td></tr>\n",
       "\t<tr><th scope=row>2</th><td>1</td><td> 85</td><td>66</td><td>29</td><td> NA</td><td>26.6</td><td>0.351</td><td>31</td><td>negative</td></tr>\n",
       "\t<tr><th scope=row>3</th><td>8</td><td>183</td><td>64</td><td>NA</td><td> NA</td><td>23.3</td><td>0.672</td><td>32</td><td>positive</td></tr>\n",
       "\t<tr><th scope=row>4</th><td>1</td><td> 89</td><td>66</td><td>23</td><td> 94</td><td>28.1</td><td>0.167</td><td>21</td><td>negative</td></tr>\n",
       "\t<tr><th scope=row>5</th><td>0</td><td>137</td><td>40</td><td>35</td><td>168</td><td>43.1</td><td>2.288</td><td>33</td><td>positive</td></tr>\n",
       "\t<tr><th scope=row>6</th><td>5</td><td>116</td><td>74</td><td>NA</td><td> NA</td><td>25.6</td><td>0.201</td><td>30</td><td>negative</td></tr>\n",
       "</tbody>\n",
       "</table>\n"
      ],
      "text/latex": [
       "A data.frame: 6 × 9\n",
       "\\begin{tabular}{r|lllllllll}\n",
       "  & pregnant & glucose & diastolic & triceps & insulin & bmi & diabetes & age & test\\\\\n",
       "  & <int> & <int> & <int> & <int> & <int> & <dbl> & <dbl> & <int> & <fct>\\\\\n",
       "\\hline\n",
       "\t1 & 6 & 148 & 72 & 35 &  NA & 33.6 & 0.627 & 50 & positive\\\\\n",
       "\t2 & 1 &  85 & 66 & 29 &  NA & 26.6 & 0.351 & 31 & negative\\\\\n",
       "\t3 & 8 & 183 & 64 & NA &  NA & 23.3 & 0.672 & 32 & positive\\\\\n",
       "\t4 & 1 &  89 & 66 & 23 &  94 & 28.1 & 0.167 & 21 & negative\\\\\n",
       "\t5 & 0 & 137 & 40 & 35 & 168 & 43.1 & 2.288 & 33 & positive\\\\\n",
       "\t6 & 5 & 116 & 74 & NA &  NA & 25.6 & 0.201 & 30 & negative\\\\\n",
       "\\end{tabular}\n"
      ],
      "text/markdown": [
       "\n",
       "A data.frame: 6 × 9\n",
       "\n",
       "| <!--/--> | pregnant &lt;int&gt; | glucose &lt;int&gt; | diastolic &lt;int&gt; | triceps &lt;int&gt; | insulin &lt;int&gt; | bmi &lt;dbl&gt; | diabetes &lt;dbl&gt; | age &lt;int&gt; | test &lt;fct&gt; |\n",
       "|---|---|---|---|---|---|---|---|---|---|\n",
       "| 1 | 6 | 148 | 72 | 35 |  NA | 33.6 | 0.627 | 50 | positive |\n",
       "| 2 | 1 |  85 | 66 | 29 |  NA | 26.6 | 0.351 | 31 | negative |\n",
       "| 3 | 8 | 183 | 64 | NA |  NA | 23.3 | 0.672 | 32 | positive |\n",
       "| 4 | 1 |  89 | 66 | 23 |  94 | 28.1 | 0.167 | 21 | negative |\n",
       "| 5 | 0 | 137 | 40 | 35 | 168 | 43.1 | 2.288 | 33 | positive |\n",
       "| 6 | 5 | 116 | 74 | NA |  NA | 25.6 | 0.201 | 30 | negative |\n",
       "\n"
      ],
      "text/plain": [
       "  pregnant glucose diastolic triceps insulin bmi  diabetes age test    \n",
       "1 6        148     72        35       NA     33.6 0.627    50  positive\n",
       "2 1         85     66        29       NA     26.6 0.351    31  negative\n",
       "3 8        183     64        NA       NA     23.3 0.672    32  positive\n",
       "4 1         89     66        23       94     28.1 0.167    21  negative\n",
       "5 0        137     40        35      168     43.1 2.288    33  positive\n",
       "6 5        116     74        NA       NA     25.6 0.201    30  negative"
      ]
     },
     "metadata": {},
     "output_type": "display_data"
    }
   ],
   "source": [
    "head(pima)"
   ]
  },
  {
   "cell_type": "markdown",
   "metadata": {
    "slideshow": {
     "slide_type": "slide"
    }
   },
   "source": [
    "Con esto corregido, el siguiente paso es la exploración gráfica. Ésta se puede hacer por dos vías: funciones básicas para gráficos y funciones especiales (de la librería `ggplot2`). Para las funciones básicas las lineas de comado son las siguientes:"
   ]
  },
  {
   "cell_type": "code",
   "execution_count": 12,
   "metadata": {
    "scrolled": false,
    "slideshow": {
     "slide_type": "slide"
    }
   },
   "outputs": [
    {
     "data": {
      "image/png": "[encoded data removed]",
      "text/plain": [
       "Plot with title \"\""
      ]
     },
     "metadata": {
      "image/png": {
       "height": 420,
       "width": 420
      },
      "text/plain": {
       "height": 420,
       "width": 420
      }
     },
     "output_type": "display_data"
    }
   ],
   "source": [
    "par(mfrow=c(2,3))\n",
    "hist(pima$diastolic,xlab=\"Diastolic\",main=\"\")\n",
    "plot(density(pima$diastolic,na.rm=TRUE),main=\"\")\n",
    "plot(sort(pima$diastolic),ylab=\"Sorted Diastolic\")\n",
    "plot(diabetes ~ diastolic,pima)\n",
    "plot(diabetes ~ test,pima)\n",
    "par(mfrow=c(1,1))"
   ]
  },
  {
   "cell_type": "markdown",
   "metadata": {
    "slideshow": {
     "slide_type": "slide"
    }
   },
   "source": [
    "## Estimación\n",
    "\n",
    "Los modelos lineales se utilizan para explicar la relación entre una variable dependiente $Y$ y una o más variables independientes $X_{1}, X_{2}, \\dots; X_{p}$ (que también suelen llamarse variables predictoras o explicatorias). El subíndice $p$ indica el número de predictores que intervienen en la relación.\n",
    "\n",
    "Si $p=1$ se denomina regresión simple, si $p>1$ se llama regresión múltiple. Un aspecto importante a tener en cuenta es que $Y$ debe ser siempre una variable continua, mientras que las covariables $X$ pueden ser continuas, discretas o categóricas. El análisis de la regresión busca dos objetivos:\n",
    "\n",
    "1. Predecir posibles respuestas dados unos valores específicos de los predictores\n",
    "2. Evaluar el efecto de (o la relación entre) las variables explicativas o independientes y la variable de respuesta o dependiente"
   ]
  },
  {
   "cell_type": "markdown",
   "metadata": {
    "slideshow": {
     "slide_type": "slide"
    }
   },
   "source": [
    "De manera general, el modelo puede expresarse de la forma:\n",
    "\n",
    "$$\n",
    "Y = f\\left(X_{1},X_{2},\\dots,X_{p}\\right) + \\varepsilon\n",
    "$$\n",
    "\n",
    "o bien\n",
    "\n",
    "$$\n",
    "Y = \\beta_{0} + \\beta_{1}X_{1} + \\beta_{2}X_{2} + \\dots + \\beta_{p}X_{p} + \\varepsilon\n",
    "$$\n",
    "\n",
    "y su correspondiente expresión matricial\n",
    "\n",
    "$$\n",
    "y = X\\beta + \\varepsilon\n",
    "$$\n",
    "\n",
    "En todos los casos, los valores $\\beta$ son desconocidos; la estimación se basa en calcular dichos valores con base en los datos recolectados. Se trata de una operación algebraica que, dependiendo del número de parámetros y de observaciones, representa complejidad. Por lo tanto, el uso de herramientas computacionales es de gran utilidad."
   ]
  },
  {
   "cell_type": "markdown",
   "metadata": {
    "slideshow": {
     "slide_type": "slide"
    }
   },
   "source": [
    "### REGRESIÓN SIMPLE\n",
    "\n",
    "* El valor esperado es:\n",
    "\n",
    "$$\n",
    "E \\left[ Y|X \\right] = \\beta_{0} + \\beta_{1} X\n",
    "$$\n",
    "\n",
    "* La Variable de Respuesta viene dada por:\n",
    "\n",
    "$$\n",
    "Y = \\beta_{0} + \\beta_{1} X + \\varepsilon\n",
    "$$\n",
    "\n",
    "* Se busca minimizar:\n",
    "\n",
    "$$\n",
    "L = \\sum_{i=1}^{n} \\varepsilon_{i}^{2} = \\sum_{i=1}^{n} \\left( y_{i} - \\beta_{0} - \\beta_{1} x_{i} \\right)^{2}\n",
    "$$\n",
    "\n",
    "* Los parámetros se calculan con:\n",
    "\n",
    "$$\n",
    "\\widehat{\\beta_{1}} = \\frac{\\sum_{i=1}^{n} x_{i}y_{i} - n\\overline{X}\\overline{Y}}{\\sum_{i=1}^{n} x_{i}^{2} - n \\overline{X}^{2}}\n",
    "$$\n",
    "\n",
    "$$\n",
    "\\widehat{\\beta_{0}} = \\overline{Y} - \\widehat{\\beta_{1}}\\overline{X}\n",
    "$$"
   ]
  },
  {
   "cell_type": "markdown",
   "metadata": {
    "slideshow": {
     "slide_type": "slide"
    }
   },
   "source": [
    "### Propiedades de los Parámetros:\n",
    "\n",
    "\\begin{eqnarray}\n",
    "E \\left[ \\widehat{\\beta_{1}} \\right] &=& \\beta_{1}\\\\\n",
    "E \\left[ \\widehat{\\beta_{0}} \\right] &=& \\beta_{0}\\\\\n",
    "Var \\left( \\widehat{\\beta_{1}} \\right) &=& \\frac{\\sigma^{2}}{\\sum_{i=1}^{n} x_{i}^{2} - n \\overline{X}^{2}}\\\\\n",
    "Var \\left( \\widehat{\\beta_{1}} \\right) &=& \\sigma^{2} \\left[ \\frac{1}{n} + \\frac{\\overline{X}^{2}}{\\sum_{i=1}^{n} x_{i}^{2} - n \\overline{X}^{2}} \\right]\n",
    "\\end{eqnarray}\n",
    "\n",
    "Ahora, para simplificar escritura consideremos\n",
    "\n",
    "$$\n",
    "S_{XX} = \\sum_{i=1}^{n} x_{i}^{2} - n \\overline{X}^{2} \\text{ y } S_{XY} = \\sum_{i=1}^{n} x_{i}y_{i} - n\\overline{X}\\overline{Y}\n",
    "$$"
   ]
  },
  {
   "cell_type": "markdown",
   "metadata": {
    "slideshow": {
     "slide_type": "slide"
    }
   },
   "source": [
    "Para estimar la varianza:\n",
    "\n",
    "\\begin{eqnarray}\n",
    "SS_{E} &=& S_{YY} - \\widehat{\\beta_{1}}S_{XX} \\\\\n",
    "E\\left[ SS_{E} \\right] &=& \\left( n - 2 \\right) \\sigma^{2}\\\\\n",
    "\\widehat{\\sigma}^{2} &=& \\frac{SS_{E}}{n-2} = MS_{E}\n",
    "\\end{eqnarray}\n",
    "\n",
    "Para contrastar las hipótesis:\n",
    "\n",
    "\n",
    "\\begin{equation}\n",
    "H_{0}: \\widehat{\\beta_{k}} = \\beta_{k}^{\\ast} \\qquad H_{0}: \\widehat{\\beta_{k}} \\neq \\beta_{k}^{\\ast} \\quad k=0,1\n",
    "\\end{equation}\n",
    "\n",
    "Y los estadísticos de prueba son:\n",
    "\n",
    "\\begin{equation}\n",
    "t_{\\beta_{0}} = \\frac{\\widehat{\\beta_{0}} - \\beta_{0}^{\\ast}}{\\sqrt{MS_{E}/S_{XX}}} \\qquad t_{\\beta_{1}} = \\frac{\\widehat{\\beta_{1}} - \\beta_{1}^{\\ast}}{\\sqrt{MS_{E}\\left( \\frac{1}{n} + \\frac{\\overline{X}^{2}}{S_{XX}} \\right)}}\n",
    "\\end{equation}\n"
   ]
  },
  {
   "cell_type": "markdown",
   "metadata": {
    "slideshow": {
     "slide_type": "slide"
    }
   },
   "source": [
    "Sin embargo $\\beta_{k}^{\\ast}$ se desconoce, entonces\n",
    "\n",
    "\\begin{equation}\n",
    "H_{0}: \\widehat{\\beta_{k}} = 0 \\qquad H_{0}: \\widehat{\\beta_{k}} \\neq 0 \\quad k=0,1\n",
    "\\end{equation}\n",
    "\n",
    "Si se descompone $S_{YY}$ se tiene:\n",
    "\n",
    "\\begin{equation}\n",
    "S_{YY} = \\sum_{i=1}^{n} \\left( y_{i} - \\overline{Y} \\right)^{2} = SS_{R} + SS_{E}\n",
    "\\end{equation}\n",
    "\n",
    "A partir del cual se obtiene:\n",
    "\n",
    "\\begin{equation}\n",
    "F_{0} = \\frac{SS_{R}/1}{SS_{E}/(n-2)} = \\frac{MS_{R}}{MS_{E}}\n",
    "\\end{equation}\n",
    "\n",
    "Que será el estadístico de contraste para la idoneidad del modelo"
   ]
  },
  {
   "cell_type": "markdown",
   "metadata": {
    "slideshow": {
     "slide_type": "slide"
    }
   },
   "source": [
    "## REGRESIÓN MÚLTIPLE\n",
    "\n",
    "* Modelo de Regresión Lineal Múltiple\n",
    "\n",
    "\\begin{equation}\n",
    "y = \\beta_{0} + \\beta_{1} X_{1} + \\beta_{2} X_{2} + \\dots + \\beta_{k} X_{k} + \\epsilon\n",
    "\\end{equation}\n",
    "\n",
    "* Modelo Observado\n",
    "\n",
    "\\begin{equation}\n",
    "y_{j} = \\beta_{0} + \\sum_{i=1}^{k} \\beta_{i} x_{ij} + \\epsilon_{j}\n",
    "\\end{equation}"
   ]
  },
  {
   "cell_type": "markdown",
   "metadata": {
    "slideshow": {
     "slide_type": "slide"
    }
   },
   "source": [
    "El modelo puede expresarse matricialmente:\n",
    "\n",
    "\\begin{equation}\n",
    "\\mathbf{y}_{n \\times 1} = \\mathbf{X}_{n \\times k} \\mathbf{\\beta}_{k \\times 1} + \\mathbf{\\epsilon}_{n \\times 1}\n",
    "\\end{equation}\n",
    "\n",
    "Siendo:\n",
    "\n",
    "$$\n",
    "\\mathbf{y} = \\begin{pmatrix}\n",
    "y_{1} \\\\\n",
    "\\vdots \\\\\n",
    "y_{n} \\\\\n",
    "\\end{pmatrix}\n",
    "\\qquad\n",
    "\\mathbf{X} = \\begin{pmatrix}\n",
    "1 & \\left( x_{11} - \\overline{x}_{1} \\right) & \\dots & \\left( x_{k1} - \\overline{x}_{k} \\right) \\\\\n",
    "\\vdots & \\vdots & \\vdots & \\vdots \\\\\n",
    "1 & \\left( x_{1n} - \\overline{x}_{1} \\right) & \\dots & \\left( x_{kn} - \\overline{x}_{k} \\right)\\\\\n",
    "\\end{pmatrix}\n",
    "$$\n",
    "\n",
    "$$\n",
    "\\mathbf{\\beta} = \\begin{pmatrix}\n",
    "\\beta_{0}\\\\\n",
    "\\beta_{1}\\\\\n",
    "\\vdots \\\\\n",
    "\\beta_{k}\\\\\n",
    "\\end{pmatrix}\n",
    "\\qquad\n",
    "\\mathbf{\\epsilon} = \\begin{pmatrix}\n",
    "\\epsilon_{1}\\\\\n",
    "\\vdots\\\\\n",
    "\\epsilon_{n}\\\\\n",
    "\\end{pmatrix}\n",
    "$$"
   ]
  },
  {
   "cell_type": "markdown",
   "metadata": {
    "slideshow": {
     "slide_type": "slide"
    }
   },
   "source": [
    "* Función de Pérdida\n",
    "\n",
    "\\begin{equation}\n",
    "L = \\mathbf{y y^{\\prime}} - 2 \\mathbf{\\beta^{\\prime} X^{\\prime} y} + \\mathbf{\\beta^{\\prime} X^{\\prime} X\\beta}\n",
    "\\end{equation}\n",
    "\n",
    "* Se Obtiene\n",
    "\n",
    "\\begin{equation}\n",
    "\\mathbf{X X^{\\prime} \\widehat{\\beta}} = \\mathbf{X^{\\prime} y}\n",
    "\\end{equation}\n",
    "\n",
    "Luego:\n",
    "\n",
    "* Parámetros\n",
    "\n",
    "\\begin{eqnarray}\n",
    "\\mathbf{\\widehat{\\beta}} &=& \\left( \\mathbf{X X^{\\prime}} \\right)^{-1} \\mathbf{X^{\\prime} y}\\\\\n",
    "E \\left[ \\widehat{\\beta} \\right] &=& \\beta\\\\\n",
    "Cov \\left( \\widehat{\\beta} \\right) &=& \\sigma^{2} \\left( \\mathbf{X X^{\\prime}} \\right)^{-1}\n",
    "\\end{eqnarray}"
   ]
  },
  {
   "cell_type": "markdown",
   "metadata": {
    "slideshow": {
     "slide_type": "slide"
    }
   },
   "source": [
    "* Se suele contrastar\n",
    "\n",
    "\\begin{eqnarray*}\n",
    "H_{0} &:& \\beta_{1} = \\beta_{2} = \\dots = \\beta_{k} = 0 \\\\\n",
    "H_{1} &:& \\beta_{i} \\neq 0, \\text{ para algún } i\n",
    "\\end{eqnarray*}\n",
    "\n",
    "Igual que en la RLS, se tiene:\n",
    "\n",
    "\\begin{equation}\n",
    "SS_{yy} = SS_{R} + SS_{E}\n",
    "\\end{equation}\n",
    "\n",
    "Además se tiene:\n",
    "\n",
    "\\begin{eqnarray}\n",
    "\\frac{SS_{R}}{\\sigma^{2}} &\\sim& \\chi^{2}_{k} \\\\\n",
    "\\frac{SS_{E}}{\\sigma^{2}} &\\sim& \\chi^{2}_{n-k-1} \n",
    "\\end{eqnarray}"
   ]
  },
  {
   "cell_type": "markdown",
   "metadata": {
    "slideshow": {
     "slide_type": "slide"
    }
   },
   "source": [
    "Con lo anterior se considera el estadístico:\n",
    "\n",
    "\\begin{equation}\n",
    "F_{0} = \\frac{SS_{R}/k}{SS_{E}/(n-k-1)} = \\frac{MS_{R}}{MS_{E}}\n",
    "\\end{equation}\n",
    "\n",
    "Contrastándolo contra $F_{\\alpha,k,n-k-1}$. Donde se emplean las siguientes identidades:\n",
    "\n",
    "\\begin{eqnarray}\n",
    "SS_{E} &=& SS_{yy} - \\sum_{i=1}^{k} \\widehat{\\beta}_{i}S_{iy}\\\\\n",
    "SS_{R} &=& \\sum_{i=1}^{k} \\widehat{\\beta}_{i}S_{iy}\n",
    "\\end{eqnarray}"
   ]
  },
  {
   "cell_type": "markdown",
   "metadata": {
    "slideshow": {
     "slide_type": "slide"
    }
   },
   "source": [
    "* Para el Contraste de Parámetros:\n",
    "\n",
    "\\begin{eqnarray*}\n",
    "H_{0} &:& \\beta_{i} = 0\\\\\n",
    "H_{1} &:& \\beta_{i} \\neq 0\n",
    "\\end{eqnarray*}\n",
    "\n",
    "Se emplea:\n",
    "\n",
    "\\begin{equation}\n",
    "t_{0} = \\frac{\\widehat{\\beta}_{i}}{\\sqrt{MS_{E}C_{ii}}}\n",
    "\\end{equation}\n",
    "\n",
    "Donde $C_{ii}$ se obtiene de:\n",
    "\n",
    "$$\n",
    "\\mathbf{X X^{\\prime}} = \\begin{pmatrix}\n",
    "\\boldsymbol{C_{11}} & C_{12} & \\dots & C_{1n}\\\\\n",
    "C_{21} & \\boldsymbol{C_{22}} & \\dots & C_{1n}\\\\\n",
    "\\vdots & \\vdots & \\vdots & \\vdots \\\\\n",
    "C_{n1} & C_{n2} & \\dots & \\boldsymbol{C_{nn}}\n",
    "\\end{pmatrix}\n",
    "$$"
   ]
  },
  {
   "cell_type": "markdown",
   "metadata": {
    "slideshow": {
     "slide_type": "slide"
    }
   },
   "source": [
    "### Ejemplo usando R\n",
    "\n",
    "La literatura presenta múltiples ejemplo para modelos lineales. Para este ejemplo, se usará un conjunto de datos asociado al programa R. Se analizará el caso particular del conjunto de datos denominado `gala` de la librería `faraway` que hace referencia a las especies encontradas en las Islas Galápago. Las variables que contiene son:\n",
    "\n",
    "- `Species` número de especies encontradas en la isla\n",
    "- `Endemics` número de especies endémicas\n",
    "- `Area` area de la isla en Km<sup>2</sup>\n",
    "- `Elevation` altitud de la isla en m\n",
    "- `Nearest` distancia desde la isla más cercana (Km)\n",
    "- `Scruz` Distancia de Santa Cruz a la isla\n",
    "- `Adjacent` área de la isla adjacente (Km<sup>2</sup>)\n",
    "\n",
    "El ajuste del modelo lineal se hace empleado el comando `lm()` cuya sintanxis debe especificar los predictores; además, se debe especificar un el argumento `data=` donde se relaciona el conjunto de datos a emplear.\n",
    "\n",
    "Primero, se deben cargar los datos:"
   ]
  },
  {
   "cell_type": "code",
   "execution_count": 13,
   "metadata": {
    "scrolled": true,
    "slideshow": {
     "slide_type": "slide"
    }
   },
   "outputs": [
    {
     "data": {
      "text/html": [
       "<table>\n",
       "<caption>A data.frame: 6 × 7</caption>\n",
       "<thead>\n",
       "\t<tr><th></th><th scope=col>Species</th><th scope=col>Endemics</th><th scope=col>Area</th><th scope=col>Elevation</th><th scope=col>Nearest</th><th scope=col>Scruz</th><th scope=col>Adjacent</th></tr>\n",
       "\t<tr><th></th><th scope=col>&lt;dbl&gt;</th><th scope=col>&lt;dbl&gt;</th><th scope=col>&lt;dbl&gt;</th><th scope=col>&lt;dbl&gt;</th><th scope=col>&lt;dbl&gt;</th><th scope=col>&lt;dbl&gt;</th><th scope=col>&lt;dbl&gt;</th></tr>\n",
       "</thead>\n",
       "<tbody>\n",
       "\t<tr><th scope=row>Baltra</th><td>58</td><td>23</td><td>25.09</td><td>346</td><td>0.6</td><td> 0.6</td><td>  1.84</td></tr>\n",
       "\t<tr><th scope=row>Bartolome</th><td>31</td><td>21</td><td> 1.24</td><td>109</td><td>0.6</td><td>26.3</td><td>572.33</td></tr>\n",
       "\t<tr><th scope=row>Caldwell</th><td> 3</td><td> 3</td><td> 0.21</td><td>114</td><td>2.8</td><td>58.7</td><td>  0.78</td></tr>\n",
       "\t<tr><th scope=row>Champion</th><td>25</td><td> 9</td><td> 0.10</td><td> 46</td><td>1.9</td><td>47.4</td><td>  0.18</td></tr>\n",
       "\t<tr><th scope=row>Coamano</th><td> 2</td><td> 1</td><td> 0.05</td><td> 77</td><td>1.9</td><td> 1.9</td><td>903.82</td></tr>\n",
       "\t<tr><th scope=row>Daphne.Major</th><td>18</td><td>11</td><td> 0.34</td><td>119</td><td>8.0</td><td> 8.0</td><td>  1.84</td></tr>\n",
       "</tbody>\n",
       "</table>\n"
      ],
      "text/latex": [
       "A data.frame: 6 × 7\n",
       "\\begin{tabular}{r|lllllll}\n",
       "  & Species & Endemics & Area & Elevation & Nearest & Scruz & Adjacent\\\\\n",
       "  & <dbl> & <dbl> & <dbl> & <dbl> & <dbl> & <dbl> & <dbl>\\\\\n",
       "\\hline\n",
       "\tBaltra & 58 & 23 & 25.09 & 346 & 0.6 &  0.6 &   1.84\\\\\n",
       "\tBartolome & 31 & 21 &  1.24 & 109 & 0.6 & 26.3 & 572.33\\\\\n",
       "\tCaldwell &  3 &  3 &  0.21 & 114 & 2.8 & 58.7 &   0.78\\\\\n",
       "\tChampion & 25 &  9 &  0.10 &  46 & 1.9 & 47.4 &   0.18\\\\\n",
       "\tCoamano &  2 &  1 &  0.05 &  77 & 1.9 &  1.9 & 903.82\\\\\n",
       "\tDaphne.Major & 18 & 11 &  0.34 & 119 & 8.0 &  8.0 &   1.84\\\\\n",
       "\\end{tabular}\n"
      ],
      "text/markdown": [
       "\n",
       "A data.frame: 6 × 7\n",
       "\n",
       "| <!--/--> | Species &lt;dbl&gt; | Endemics &lt;dbl&gt; | Area &lt;dbl&gt; | Elevation &lt;dbl&gt; | Nearest &lt;dbl&gt; | Scruz &lt;dbl&gt; | Adjacent &lt;dbl&gt; |\n",
       "|---|---|---|---|---|---|---|---|\n",
       "| Baltra | 58 | 23 | 25.09 | 346 | 0.6 |  0.6 |   1.84 |\n",
       "| Bartolome | 31 | 21 |  1.24 | 109 | 0.6 | 26.3 | 572.33 |\n",
       "| Caldwell |  3 |  3 |  0.21 | 114 | 2.8 | 58.7 |   0.78 |\n",
       "| Champion | 25 |  9 |  0.10 |  46 | 1.9 | 47.4 |   0.18 |\n",
       "| Coamano |  2 |  1 |  0.05 |  77 | 1.9 |  1.9 | 903.82 |\n",
       "| Daphne.Major | 18 | 11 |  0.34 | 119 | 8.0 |  8.0 |   1.84 |\n",
       "\n"
      ],
      "text/plain": [
       "             Species Endemics Area  Elevation Nearest Scruz Adjacent\n",
       "Baltra       58      23       25.09 346       0.6      0.6    1.84  \n",
       "Bartolome    31      21        1.24 109       0.6     26.3  572.33  \n",
       "Caldwell      3       3        0.21 114       2.8     58.7    0.78  \n",
       "Champion     25       9        0.10  46       1.9     47.4    0.18  \n",
       "Coamano       2       1        0.05  77       1.9      1.9  903.82  \n",
       "Daphne.Major 18      11        0.34 119       8.0      8.0    1.84  "
      ]
     },
     "metadata": {},
     "output_type": "display_data"
    }
   ],
   "source": [
    "data(gala, package=\"faraway\")\n",
    "head(gala)"
   ]
  },
  {
   "cell_type": "markdown",
   "metadata": {
    "slideshow": {
     "slide_type": "slide"
    }
   },
   "source": [
    "Lo correcto es iniciar con el planteamiento del problema. Para efectos del ejercicio se seleccionarán dos variables: `Species` y `Endemic`.\n",
    "Se busca establecer si el número de especies encontradas en la isla depende del número de Especies Endémicas.\n",
    "Lo siguiente es realizar un análisis exploratorio con las variables seleccionadas:"
   ]
  },
  {
   "cell_type": "code",
   "execution_count": 14,
   "metadata": {
    "scrolled": true,
    "slideshow": {
     "slide_type": "slide"
    }
   },
   "outputs": [
    {
     "data": {
      "text/plain": [
       "    Species          Endemics    \n",
       " Min.   :  2.00   Min.   : 0.00  \n",
       " 1st Qu.: 13.00   1st Qu.: 7.25  \n",
       " Median : 42.00   Median :18.00  \n",
       " Mean   : 85.23   Mean   :26.10  \n",
       " 3rd Qu.: 96.00   3rd Qu.:32.25  \n",
       " Max.   :444.00   Max.   :95.00  "
      ]
     },
     "metadata": {},
     "output_type": "display_data"
    }
   ],
   "source": [
    "# Un resumen numérico\n",
    "varsel<-gala[,c(1,2)]\n",
    "summary(varsel)"
   ]
  },
  {
   "cell_type": "code",
   "execution_count": 15,
   "metadata": {
    "scrolled": false,
    "slideshow": {
     "slide_type": "slide"
    }
   },
   "outputs": [
    {
     "data": {
      "image/png": "[encoded data removed]",
      "text/plain": [
       "Plot with title \"Dispersion Plot\""
      ]
     },
     "metadata": {
      "image/png": {
       "height": 420,
       "width": 420
      },
      "text/plain": {
       "height": 420,
       "width": 420
      }
     },
     "output_type": "display_data"
    }
   ],
   "source": [
    "# Algunos gráficos exploratorios\n",
    "par(mfrow=c(2,3))\n",
    "x <- varsel$Species\n",
    "boxplot(varsel, main=\"Boxplor for Species & Endemics\")\n",
    "h<-hist(x, breaks=25, col=\"red\", xlab=\"Species\", main=\"Histogram with \\n Density Curve\")\n",
    "xfit<-seq(min(x), max(x), length=40)\n",
    "yfit<-dnorm(xfit, mean=mean(x), sd=sd(x))\n",
    "yfit <- yfit*diff(h$mids[1:2])*length(x)\n",
    "lines(xfit, yfit, col=\"blue\", lwd=2)\n",
    "h<-hist(x, freq = F, breaks=25, col=\"red\", xlab=\"Species\", main=\"Histogram with \\n Normal Curve\")\n",
    "lines(density(x), col=\"blue\", lwd=2)\n",
    "plot(sort(x),ylab=\"Sorted Species\", main = \"Sorted Plot\")\n",
    "with(gala, plot(Endemics,Species, main = \"Dispersion Plot\"))\n",
    "par(mfrow=c(1,1))"
   ]
  },
  {
   "cell_type": "markdown",
   "metadata": {
    "slideshow": {
     "slide_type": "slide"
    }
   },
   "source": [
    "Ahora, se procede a estimar el modelo.\n",
    "El comando `lm()` hace referencia a la estimación de los modelos lineales; contiene dos elementos importantes en sus argumentos: `formula` y `data`. La primera describe la relación que se ha planteado para las variables donde la virgulilla (~) denota la dependencia; así, para el caso específico del ejercicio, debe escribirse: `Species~Endemics`, y en el segundo argumento debe declararse el conjunto de datos del cual se toman las variables: `data = varse` o, si se desea: `data = gala` ya que el primer conjunto de datos corresponde a una selección de variables del segundo.\n",
    "El comando `sumary` de la libreía `faraway` permite mostrar los estadísticos más relevantes para esta parte del ejercicio:"
   ]
  },
  {
   "cell_type": "code",
   "execution_count": 16,
   "metadata": {
    "scrolled": true,
    "slideshow": {
     "slide_type": "slide"
    }
   },
   "outputs": [
    {
     "name": "stdout",
     "output_type": "stream",
     "text": [
      "            Estimate Std. Error t value  Pr(>|t|)\n",
      "(Intercept) -21.0480     7.1138 -2.9588  0.006219\n",
      "Endemics      4.0721     0.1899 21.4433 < 2.2e-16\n",
      "\n",
      "n = 30, p = 2, Residual SE = 27.94996, R-Squared = 0.94\n"
     ]
    }
   ],
   "source": [
    "fit<-lm(Species~Endemics, data = varsel)\n",
    "library(faraway)\n",
    "sumary(fit)"
   ]
  },
  {
   "cell_type": "markdown",
   "metadata": {
    "slideshow": {
     "slide_type": "slide"
    }
   },
   "source": [
    "O bien, ver el resumen numérico del modelo completo:"
   ]
  },
  {
   "cell_type": "code",
   "execution_count": 17,
   "metadata": {
    "scrolled": true,
    "slideshow": {
     "slide_type": "slide"
    }
   },
   "outputs": [
    {
     "data": {
      "text/plain": [
       "\n",
       "Call:\n",
       "lm(formula = Species ~ Endemics, data = varsel)\n",
       "\n",
       "Residuals:\n",
       "    Min      1Q  Median      3Q     Max \n",
       "-71.791 -15.894   3.507  12.088  78.200 \n",
       "\n",
       "Coefficients:\n",
       "            Estimate Std. Error t value Pr(>|t|)    \n",
       "(Intercept) -21.0480     7.1138  -2.959  0.00622 ** \n",
       "Endemics      4.0721     0.1899  21.443  < 2e-16 ***\n",
       "---\n",
       "Signif. codes:  0 '***' 0.001 '**' 0.01 '*' 0.05 '.' 0.1 ' ' 1\n",
       "\n",
       "Residual standard error: 27.95 on 28 degrees of freedom\n",
       "Multiple R-squared:  0.9426,\tAdjusted R-squared:  0.9406 \n",
       "F-statistic: 459.8 on 1 and 28 DF,  p-value: < 2.2e-16\n"
      ]
     },
     "metadata": {},
     "output_type": "display_data"
    }
   ],
   "source": [
    "summary(fit)"
   ]
  },
  {
   "cell_type": "markdown",
   "metadata": {
    "slideshow": {
     "slide_type": "slide"
    }
   },
   "source": [
    "Del estadístico `F` se desprende el análisis de la Varianza:"
   ]
  },
  {
   "cell_type": "code",
   "execution_count": 18,
   "metadata": {
    "slideshow": {
     "slide_type": "slide"
    }
   },
   "outputs": [
    {
     "data": {
      "text/plain": [
       "            Df Sum Sq Mean Sq F value Pr(>F)    \n",
       "Endemics     1 359208  359208   459.8 <2e-16 ***\n",
       "Residuals   28  21874     781                   \n",
       "---\n",
       "Signif. codes:  0 '***' 0.001 '**' 0.01 '*' 0.05 '.' 0.1 ' ' 1"
      ]
     },
     "metadata": {},
     "output_type": "display_data"
    }
   ],
   "source": [
    "summary(aov(fit))"
   ]
  },
  {
   "cell_type": "markdown",
   "metadata": {
    "slideshow": {
     "slide_type": "slide"
    }
   },
   "source": [
    "Ahora, se pueden graficar los intervalos de confianza:"
   ]
  },
  {
   "cell_type": "code",
   "execution_count": 19,
   "metadata": {
    "scrolled": false,
    "slideshow": {
     "slide_type": "slide"
    }
   },
   "outputs": [
    {
     "data": {
      "image/png": "[encoded data removed]",
      "text/plain": [
       "plot without title"
      ]
     },
     "metadata": {
      "image/png": {
       "height": 420,
       "width": 420
      },
      "text/plain": {
       "height": 420,
       "width": 420
      }
     },
     "output_type": "display_data"
    }
   ],
   "source": [
    "x0<-seq(min(varsel$Endemics),max(varsel$Endemics),length=30)\n",
    "pred.m<-predict(fit,data.frame(Endemics=x0),interval=\"confidence\",se.fit=T)\n",
    "pred.p<-predict(fit,data.frame(Endemics=x0),interval=\"prediction\",se.fit=T)\n",
    "\n",
    "matplot(x0,cbind(pred.m$fit,pred.p$fit[,-1]),lty=c(1,2,2,3,3),\n",
    "        col=c(\"black\",\"red\",\"red\",\"blue\",\"blue\"),type=\"l\",xlab=\"Endemics\",\n",
    "        ylab=\"Species\")\n",
    "\n",
    "legend('topleft',c(\"Estim.Media\",\"Prediccion\"),lty=c(2,3),\n",
    "       col=c(\"red\",\"blue\"))\n",
    "\n",
    "points(varsel$Endemics,varsel$Species, pch = 20)"
   ]
  },
  {
   "cell_type": "markdown",
   "metadata": {
    "slideshow": {
     "slide_type": "slide"
    }
   },
   "source": [
    "### Ejercicio\n",
    "\n",
    "Con el mismo conjunto de datos `gala` el estudiante realizará la exploración de las diferentes combinaciones de variables usando como variable dependiente la denominada `Species`. Debe discutir la interpretación de los resultados con sus compañeros de clase.\n",
    "\n",
    "### Taller en clase\n",
    "\n",
    "El conjunto de datos del enlace https://www.dropbox.com/s/dn30luorh63w1h3/acme.csv?dl=0 contiene información sobre los excedentes de los rendimiento mensuales de la Corporación Acme registrada en las Bolsas de Valores de Nueva York durante un periodo de cinco años. Las variables del archivo son las siguientes:\n",
    "\n",
    "* `market` representa el excesos de rentas del mercado en conjunto\n",
    "* `acme` se refiere al excedo de rendimientos de la compañía Acme\n",
    "* `month` es una cadena de caracteres que denota el mes en el cual se recolectaron los datos\n",
    "\n",
    "El estudiante debe plantear el modelo lineal adecuado y realizar el correspondiente análisis."
   ]
  },
  {
   "cell_type": "markdown",
   "metadata": {
    "slideshow": {
     "slide_type": "slide"
    }
   },
   "source": [
    "### Taller en casa\n",
    "\n",
    "El estudiante debe descargar el archivo del siguiente enlace y realizar el respectivo análisis haciendo uso de los modelos lineales: https://www.dropbox.com/s/vv0f1k2y5nalpgx/bank-additional-full.csv?dl=0\n",
    "\n",
    "Los datos están relacionados con las campañas de marketing directo de una institución bancaria portuguesa. Las campañas de marketing se basaron en llamadas telefónicas. A menudo, se requería más de un contacto con el mismo cliente, para poder acceder si el producto (depósito bancario) estaba (\"sí\") o no (\"no\") suscrito.\n",
    "\n",
    "Las variables registradas son las siguientes:\n",
    "\n",
    "* `age` - edad\n",
    "* `job`- tipo de trabajo\n",
    "* `marital` - estado civil\n",
    "* `education` - nivel educativo\n",
    "* `default` - crédito en incumplimiento\n",
    "* `housing` - crédito de vivienda\n",
    "* `loan` - préstamos personal\n",
    "* `contact` - tipo de contacto realizado\n",
    "* `month` - mes en que se hizo el último contacto\n",
    "* `day_of_week` - último día de contacto de la semana\n",
    "* `duration` - duración del último contacto, en segundos\n",
    "* `campaign` - número de contactos realizados durante esta campaña y para este cliente\n",
    "* `pdays` - número de días que pasaron después de que el cliente fue contactado por última vez desde una campaña anterior (999 significa que el cliente no fue contactado previamente)\n",
    "* `previous`- número de contactos realizados antes de esta campaña y para este cliente\n",
    "* `poutcome` - resultado de la campaña de marketing anterior\n",
    "* `emp.var.rate`- tasa de variación del empleo - indicador trimestral\n",
    "* `cons.price.idx` - índice de precios al consumidor - indicador mensual\n",
    "* `cons.conf.idx` - índice de confianza del consumidor - indicador mensual\n",
    "* `euribor3m` - euribor tasa de 3 meses - indicador diario\n",
    "* `nr.employed` - número de empleados\n",
    "* `y` - ¿el cliente ha suscrito un depósito a plazo?\n",
    "\n",
    "Los datos fueron tomados de:\n",
    "S. Moro, R. Laureano and P. Cortez. Using Data Mining for Bank Direct Marketing: An Application of the CRISP-DM Methodology. \n",
    "  In P. Novais et al. (Eds.), Proceedings of the European Simulation and Modelling Conference - ESM'2011, pp. 117-121, Guimarães, Portugal, October, 2011. EUROSIS."
   ]
  }
 ],
 "metadata": {
  "kernelspec": {
   "display_name": "R",
   "language": "R",
   "name": "ir"
  },
  "language_info": {
   "codemirror_mode": "r",
   "file_extension": ".r",
   "mimetype": "text/x-r-source",
   "name": "R",
   "pygments_lexer": "r",
   "version": "4.0.0"
  }
 },
 "nbformat": 4,
 "nbformat_minor": 2
}
