{
 "cells": [
  {
   "cell_type": "code",
   "execution_count": 1,
   "metadata": {
    "colab": {
     "base_uri": "https://localhost:8080/",
     "height": 272
    },
    "colab_type": "code",
    "executionInfo": {
     "elapsed": 114188,
     "status": "ok",
     "timestamp": 1596345115476,
     "user": {
      "displayName": "Geyner Rojas",
      "photoUrl": "https://lh4.googleusercontent.com/-NYcJJq7XqjE/AAAAAAAAAAI/AAAAAAAAAQo/WClVFhKnEhw/s64/photo.jpg",
      "userId": "01809282963284296123"
     },
     "user_tz": 300
    },
    "id": "CMqArik-WWCR",
    "outputId": "39aaa3dc-3174-4433-e707-1759e395f828"
   },
   "outputs": [
    {
     "name": "stderr",
     "output_type": "stream",
     "text": [
      "Updating HTML index of packages in '.Library'\n",
      "Making 'packages.html' ... done\n",
      "also installing the dependencies ‘png’, ‘jpeg’, ‘checkmate’, ‘survival’, ‘Formula’, ‘latticeExtra’, ‘acepack’, ‘gridExtra’, ‘htmlTable’, ‘viridis’\n",
      "\n",
      "Updating HTML index of packages in '.Library'\n",
      "Making 'packages.html' ... done\n",
      "Updating HTML index of packages in '.Library'\n",
      "Making 'packages.html' ... done\n"
     ]
    }
   ],
   "source": [
    "#Librerias\n",
    "install.packages(\"corrplot\")\n",
    "install.packages(\"Hmisc\")\n",
    "install.packages(\"lmtest\")"
   ]
  },
  {
   "cell_type": "code",
   "execution_count": 1,
   "metadata": {
    "colab": {
     "base_uri": "https://localhost:8080/",
     "height": 527
    },
    "colab_type": "code",
    "executionInfo": {
     "elapsed": 116047,
     "status": "ok",
     "timestamp": 1596345117348,
     "user": {
      "displayName": "Geyner Rojas",
      "photoUrl": "https://lh4.googleusercontent.com/-NYcJJq7XqjE/AAAAAAAAAAI/AAAAAAAAAQo/WClVFhKnEhw/s64/photo.jpg",
      "userId": "01809282963284296123"
     },
     "user_tz": 300
    },
    "id": "Qw5ggK93W77Z",
    "outputId": "2da28db4-9c17-42e7-a761-2d4c9d1a7a4f"
   },
   "outputs": [
    {
     "name": "stderr",
     "output_type": "stream",
     "text": [
      "Warning message:\n",
      "\"package 'corrplot' was built under R version 4.0.2\"\n",
      "corrplot 0.84 loaded\n",
      "\n",
      "Warning message:\n",
      "\"package 'lmtest' was built under R version 4.0.2\"\n",
      "Loading required package: zoo\n",
      "\n",
      "\n",
      "Attaching package: 'zoo'\n",
      "\n",
      "\n",
      "The following objects are masked from 'package:base':\n",
      "\n",
      "    as.Date, as.Date.numeric\n",
      "\n",
      "\n",
      "Warning message:\n",
      "\"package 'Hmisc' was built under R version 4.0.2\"\n",
      "Loading required package: lattice\n",
      "\n",
      "Loading required package: survival\n",
      "\n",
      "Loading required package: Formula\n",
      "\n",
      "Loading required package: ggplot2\n",
      "\n",
      "\n",
      "Attaching package: 'Hmisc'\n",
      "\n",
      "\n",
      "The following objects are masked from 'package:base':\n",
      "\n",
      "    format.pval, units\n",
      "\n",
      "\n"
     ]
    }
   ],
   "source": [
    "library(\"corrplot\")\n",
    "library(\"lmtest\")\n",
    "library(\"Hmisc\")"
   ]
  },
  {
   "cell_type": "markdown",
   "metadata": {
    "colab_type": "text",
    "id": "YmR35y0KXJAz"
   },
   "source": [
    "**Importamos los datos**"
   ]
  },
  {
   "cell_type": "code",
   "execution_count": 2,
   "metadata": {
    "colab": {},
    "colab_type": "code",
    "id": "U0VMUbHf1Cdj"
   },
   "outputs": [],
   "source": [
    "dataset <-read.csv(url(\"https://raw.githubusercontent.com/beckam015/Estadistica2/master/bank-additional-full-full.csv\"))"
   ]
  },
  {
   "cell_type": "code",
   "execution_count": 3,
   "metadata": {
    "colab": {},
    "colab_type": "code",
    "id": "ezp_ffIniBAq"
   },
   "outputs": [
    {
     "data": {
      "text/html": [
       "<table>\n",
       "<caption>A data.frame: 6 × 21</caption>\n",
       "<thead>\n",
       "\t<tr><th></th><th scope=col>age</th><th scope=col>job</th><th scope=col>marital</th><th scope=col>education</th><th scope=col>default</th><th scope=col>housing</th><th scope=col>loan</th><th scope=col>contact</th><th scope=col>month</th><th scope=col>day_of_week</th><th scope=col>...</th><th scope=col>campaign</th><th scope=col>pdays</th><th scope=col>previous</th><th scope=col>poutcome</th><th scope=col>emp.var.rate</th><th scope=col>cons.price.idx</th><th scope=col>cons.conf.idx</th><th scope=col>euribor3m</th><th scope=col>nr.employed</th><th scope=col>y</th></tr>\n",
       "\t<tr><th></th><th scope=col>&lt;int&gt;</th><th scope=col>&lt;chr&gt;</th><th scope=col>&lt;chr&gt;</th><th scope=col>&lt;chr&gt;</th><th scope=col>&lt;chr&gt;</th><th scope=col>&lt;chr&gt;</th><th scope=col>&lt;chr&gt;</th><th scope=col>&lt;chr&gt;</th><th scope=col>&lt;chr&gt;</th><th scope=col>&lt;chr&gt;</th><th scope=col>...</th><th scope=col>&lt;int&gt;</th><th scope=col>&lt;int&gt;</th><th scope=col>&lt;int&gt;</th><th scope=col>&lt;chr&gt;</th><th scope=col>&lt;dbl&gt;</th><th scope=col>&lt;dbl&gt;</th><th scope=col>&lt;dbl&gt;</th><th scope=col>&lt;dbl&gt;</th><th scope=col>&lt;dbl&gt;</th><th scope=col>&lt;chr&gt;</th></tr>\n",
       "</thead>\n",
       "<tbody>\n",
       "\t<tr><th scope=row>1</th><td>56</td><td>housemaid</td><td>married</td><td>basic.4y   </td><td>no     </td><td>no </td><td>no </td><td>telephone</td><td>may</td><td>mon</td><td>...</td><td>1</td><td>999</td><td>0</td><td>nonexistent</td><td>1.1</td><td>93.994</td><td>-36.4</td><td>4.857</td><td>5191</td><td>no</td></tr>\n",
       "\t<tr><th scope=row>2</th><td>57</td><td>services </td><td>married</td><td>high.school</td><td>unknown</td><td>no </td><td>no </td><td>telephone</td><td>may</td><td>mon</td><td>...</td><td>1</td><td>999</td><td>0</td><td>nonexistent</td><td>1.1</td><td>93.994</td><td>-36.4</td><td>4.857</td><td>5191</td><td>no</td></tr>\n",
       "\t<tr><th scope=row>3</th><td>37</td><td>services </td><td>married</td><td>high.school</td><td>no     </td><td>yes</td><td>no </td><td>telephone</td><td>may</td><td>mon</td><td>...</td><td>1</td><td>999</td><td>0</td><td>nonexistent</td><td>1.1</td><td>93.994</td><td>-36.4</td><td>4.857</td><td>5191</td><td>no</td></tr>\n",
       "\t<tr><th scope=row>4</th><td>40</td><td>admin.   </td><td>married</td><td>basic.6y   </td><td>no     </td><td>no </td><td>no </td><td>telephone</td><td>may</td><td>mon</td><td>...</td><td>1</td><td>999</td><td>0</td><td>nonexistent</td><td>1.1</td><td>93.994</td><td>-36.4</td><td>4.857</td><td>5191</td><td>no</td></tr>\n",
       "\t<tr><th scope=row>5</th><td>56</td><td>services </td><td>married</td><td>high.school</td><td>no     </td><td>no </td><td>yes</td><td>telephone</td><td>may</td><td>mon</td><td>...</td><td>1</td><td>999</td><td>0</td><td>nonexistent</td><td>1.1</td><td>93.994</td><td>-36.4</td><td>4.857</td><td>5191</td><td>no</td></tr>\n",
       "\t<tr><th scope=row>6</th><td>45</td><td>services </td><td>married</td><td>basic.9y   </td><td>unknown</td><td>no </td><td>no </td><td>telephone</td><td>may</td><td>mon</td><td>...</td><td>1</td><td>999</td><td>0</td><td>nonexistent</td><td>1.1</td><td>93.994</td><td>-36.4</td><td>4.857</td><td>5191</td><td>no</td></tr>\n",
       "</tbody>\n",
       "</table>\n"
      ],
      "text/latex": [
       "A data.frame: 6 × 21\n",
       "\\begin{tabular}{r|lllllllllllllllllllll}\n",
       "  & age & job & marital & education & default & housing & loan & contact & month & day\\_of\\_week & ... & campaign & pdays & previous & poutcome & emp.var.rate & cons.price.idx & cons.conf.idx & euribor3m & nr.employed & y\\\\\n",
       "  & <int> & <chr> & <chr> & <chr> & <chr> & <chr> & <chr> & <chr> & <chr> & <chr> & ... & <int> & <int> & <int> & <chr> & <dbl> & <dbl> & <dbl> & <dbl> & <dbl> & <chr>\\\\\n",
       "\\hline\n",
       "\t1 & 56 & housemaid & married & basic.4y    & no      & no  & no  & telephone & may & mon & ... & 1 & 999 & 0 & nonexistent & 1.1 & 93.994 & -36.4 & 4.857 & 5191 & no\\\\\n",
       "\t2 & 57 & services  & married & high.school & unknown & no  & no  & telephone & may & mon & ... & 1 & 999 & 0 & nonexistent & 1.1 & 93.994 & -36.4 & 4.857 & 5191 & no\\\\\n",
       "\t3 & 37 & services  & married & high.school & no      & yes & no  & telephone & may & mon & ... & 1 & 999 & 0 & nonexistent & 1.1 & 93.994 & -36.4 & 4.857 & 5191 & no\\\\\n",
       "\t4 & 40 & admin.    & married & basic.6y    & no      & no  & no  & telephone & may & mon & ... & 1 & 999 & 0 & nonexistent & 1.1 & 93.994 & -36.4 & 4.857 & 5191 & no\\\\\n",
       "\t5 & 56 & services  & married & high.school & no      & no  & yes & telephone & may & mon & ... & 1 & 999 & 0 & nonexistent & 1.1 & 93.994 & -36.4 & 4.857 & 5191 & no\\\\\n",
       "\t6 & 45 & services  & married & basic.9y    & unknown & no  & no  & telephone & may & mon & ... & 1 & 999 & 0 & nonexistent & 1.1 & 93.994 & -36.4 & 4.857 & 5191 & no\\\\\n",
       "\\end{tabular}\n"
      ],
      "text/markdown": [
       "\n",
       "A data.frame: 6 × 21\n",
       "\n",
       "| <!--/--> | age &lt;int&gt; | job &lt;chr&gt; | marital &lt;chr&gt; | education &lt;chr&gt; | default &lt;chr&gt; | housing &lt;chr&gt; | loan &lt;chr&gt; | contact &lt;chr&gt; | month &lt;chr&gt; | day_of_week &lt;chr&gt; | ... ... | campaign &lt;int&gt; | pdays &lt;int&gt; | previous &lt;int&gt; | poutcome &lt;chr&gt; | emp.var.rate &lt;dbl&gt; | cons.price.idx &lt;dbl&gt; | cons.conf.idx &lt;dbl&gt; | euribor3m &lt;dbl&gt; | nr.employed &lt;dbl&gt; | y &lt;chr&gt; |\n",
       "|---|---|---|---|---|---|---|---|---|---|---|---|---|---|---|---|---|---|---|---|---|---|\n",
       "| 1 | 56 | housemaid | married | basic.4y    | no      | no  | no  | telephone | may | mon | ... | 1 | 999 | 0 | nonexistent | 1.1 | 93.994 | -36.4 | 4.857 | 5191 | no |\n",
       "| 2 | 57 | services  | married | high.school | unknown | no  | no  | telephone | may | mon | ... | 1 | 999 | 0 | nonexistent | 1.1 | 93.994 | -36.4 | 4.857 | 5191 | no |\n",
       "| 3 | 37 | services  | married | high.school | no      | yes | no  | telephone | may | mon | ... | 1 | 999 | 0 | nonexistent | 1.1 | 93.994 | -36.4 | 4.857 | 5191 | no |\n",
       "| 4 | 40 | admin.    | married | basic.6y    | no      | no  | no  | telephone | may | mon | ... | 1 | 999 | 0 | nonexistent | 1.1 | 93.994 | -36.4 | 4.857 | 5191 | no |\n",
       "| 5 | 56 | services  | married | high.school | no      | no  | yes | telephone | may | mon | ... | 1 | 999 | 0 | nonexistent | 1.1 | 93.994 | -36.4 | 4.857 | 5191 | no |\n",
       "| 6 | 45 | services  | married | basic.9y    | unknown | no  | no  | telephone | may | mon | ... | 1 | 999 | 0 | nonexistent | 1.1 | 93.994 | -36.4 | 4.857 | 5191 | no |\n",
       "\n"
      ],
      "text/plain": [
       "  age job       marital education   default housing loan contact   month\n",
       "1 56  housemaid married basic.4y    no      no      no   telephone may  \n",
       "2 57  services  married high.school unknown no      no   telephone may  \n",
       "3 37  services  married high.school no      yes     no   telephone may  \n",
       "4 40  admin.    married basic.6y    no      no      no   telephone may  \n",
       "5 56  services  married high.school no      no      yes  telephone may  \n",
       "6 45  services  married basic.9y    unknown no      no   telephone may  \n",
       "  day_of_week ... campaign pdays previous poutcome    emp.var.rate\n",
       "1 mon         ... 1        999   0        nonexistent 1.1         \n",
       "2 mon         ... 1        999   0        nonexistent 1.1         \n",
       "3 mon         ... 1        999   0        nonexistent 1.1         \n",
       "4 mon         ... 1        999   0        nonexistent 1.1         \n",
       "5 mon         ... 1        999   0        nonexistent 1.1         \n",
       "6 mon         ... 1        999   0        nonexistent 1.1         \n",
       "  cons.price.idx cons.conf.idx euribor3m nr.employed y \n",
       "1 93.994         -36.4         4.857     5191        no\n",
       "2 93.994         -36.4         4.857     5191        no\n",
       "3 93.994         -36.4         4.857     5191        no\n",
       "4 93.994         -36.4         4.857     5191        no\n",
       "5 93.994         -36.4         4.857     5191        no\n",
       "6 93.994         -36.4         4.857     5191        no"
      ]
     },
     "metadata": {},
     "output_type": "display_data"
    }
   ],
   "source": [
    "head(dataset)"
   ]
  },
  {
   "cell_type": "code",
   "execution_count": 4,
   "metadata": {
    "colab": {},
    "colab_type": "code",
    "id": "edYCxPRwAP3I"
   },
   "outputs": [],
   "source": [
    "info<-data.frame(\n",
    "  age=dataset$age,\n",
    "  dur=dataset$duration,\n",
    "  camp=dataset$campaign,\n",
    "  pdays=dataset$pdays,\n",
    "  evr=dataset$emp.var.rate,\n",
    "  cpi=dataset$cons.price.idx,\n",
    "  cci=dataset$cons.conf.idx,\n",
    "  eur=dataset$euribor3m,\n",
    "  emp=dataset$nr.employed,\n",
    "  prev=dataset$previous\n",
    ")"
   ]
  },
  {
   "cell_type": "code",
   "execution_count": null,
   "metadata": {
    "colab": {},
    "colab_type": "code",
    "id": "fPcsWWq_eeIu"
   },
   "outputs": [],
   "source": [
    "plot(info)"
   ]
  },
  {
   "cell_type": "markdown",
   "metadata": {
    "colab_type": "text",
    "id": "eKxcsG6veiyo"
   },
   "source": [
    "**Correlacion**"
   ]
  },
  {
   "cell_type": "code",
   "execution_count": 5,
   "metadata": {
    "colab": {},
    "colab_type": "code",
    "id": "4MLiaccKegHF"
   },
   "outputs": [
    {
     "data": {
      "text/plain": [
       "        age   dur  camp pdays   evr   cpi   cci   eur   emp  prev\n",
       "age    1.00  0.00  0.00 -0.03  0.00  0.00  0.13  0.01 -0.02  0.02\n",
       "dur    0.00  1.00 -0.07 -0.05 -0.03  0.01 -0.01 -0.03 -0.04  0.02\n",
       "camp   0.00 -0.07  1.00  0.05  0.15  0.13 -0.01  0.14  0.14 -0.08\n",
       "pdays -0.03 -0.05  0.05  1.00  0.27  0.08 -0.09  0.30  0.37 -0.59\n",
       "evr    0.00 -0.03  0.15  0.27  1.00  0.78  0.20  0.97  0.91 -0.42\n",
       "cpi    0.00  0.01  0.13  0.08  0.78  1.00  0.06  0.69  0.52 -0.20\n",
       "cci    0.13 -0.01 -0.01 -0.09  0.20  0.06  1.00  0.28  0.10 -0.05\n",
       "eur    0.01 -0.03  0.14  0.30  0.97  0.69  0.28  1.00  0.95 -0.45\n",
       "emp   -0.02 -0.04  0.14  0.37  0.91  0.52  0.10  0.95  1.00 -0.50\n",
       "prev   0.02  0.02 -0.08 -0.59 -0.42 -0.20 -0.05 -0.45 -0.50  1.00\n",
       "\n",
       "n= 41188 \n",
       "\n",
       "\n",
       "P\n",
       "      age    dur    camp   pdays  evr    cpi    cci    eur    emp    prev  \n",
       "age          0.8605 0.3512 0.0000 0.9400 0.8620 0.0000 0.0289 0.0003 0.0000\n",
       "dur   0.8605        0.0000 0.0000 0.0000 0.2810 0.0972 0.0000 0.0000 0.0000\n",
       "camp  0.3512 0.0000        0.0000 0.0000 0.0000 0.0053 0.0000 0.0000 0.0000\n",
       "pdays 0.0000 0.0000 0.0000        0.0000 0.0000 0.0000 0.0000 0.0000 0.0000\n",
       "evr   0.9400 0.0000 0.0000 0.0000        0.0000 0.0000 0.0000 0.0000 0.0000\n",
       "cpi   0.8620 0.2810 0.0000 0.0000 0.0000        0.0000 0.0000 0.0000 0.0000\n",
       "cci   0.0000 0.0972 0.0053 0.0000 0.0000 0.0000        0.0000 0.0000 0.0000\n",
       "eur   0.0289 0.0000 0.0000 0.0000 0.0000 0.0000 0.0000        0.0000 0.0000\n",
       "emp   0.0003 0.0000 0.0000 0.0000 0.0000 0.0000 0.0000 0.0000        0.0000\n",
       "prev  0.0000 0.0000 0.0000 0.0000 0.0000 0.0000 0.0000 0.0000 0.0000       "
      ]
     },
     "metadata": {},
     "output_type": "display_data"
    }
   ],
   "source": [
    "rcorr(as.matrix(info))"
   ]
  },
  {
   "cell_type": "markdown",
   "metadata": {
    "colab_type": "text",
    "id": "h2Gyk2hPetmr"
   },
   "source": [
    "**Definicion de modelos lineales**"
   ]
  },
  {
   "cell_type": "code",
   "execution_count": 6,
   "metadata": {
    "colab": {},
    "colab_type": "code",
    "id": "uQ6Yh2DVeqy_"
   },
   "outputs": [
    {
     "data": {
      "text/plain": [
       "\n",
       "Call:\n",
       "lm(formula = eur ~ ., data = info)\n",
       "\n",
       "Residuals:\n",
       "     Min       1Q   Median       3Q      Max \n",
       "-0.57888 -0.17510  0.00259  0.13971  1.04407 \n",
       "\n",
       "Coefficients:\n",
       "              Estimate Std. Error  t value Pr(>|t|)    \n",
       "(Intercept) -9.220e+01  6.275e-01 -146.945  < 2e-16 ***\n",
       "age          2.916e-04  1.032e-04    2.825  0.00472 ** \n",
       "dur          9.026e-06  4.129e-06    2.186  0.02881 *  \n",
       "camp        -6.600e-03  3.906e-04  -16.897  < 2e-16 ***\n",
       "pdays        1.917e-05  7.243e-06    2.646  0.00814 ** \n",
       "evr          4.117e-01  3.331e-03  123.600  < 2e-16 ***\n",
       "cpi          3.377e-01  4.325e-03   78.085  < 2e-16 ***\n",
       "cci          5.398e-02  2.640e-04  204.500  < 2e-16 ***\n",
       "emp          1.284e-02  5.370e-05  239.169  < 2e-16 ***\n",
       "prev         3.716e-03  2.886e-03    1.288  0.19780    \n",
       "---\n",
       "Signif. codes:  0 '***' 0.001 '**' 0.01 '*' 0.05 '.' 0.1 ' ' 1\n",
       "\n",
       "Residual standard error: 0.2162 on 41178 degrees of freedom\n",
       "Multiple R-squared:  0.9845,\tAdjusted R-squared:  0.9845 \n",
       "F-statistic: 2.898e+05 on 9 and 41178 DF,  p-value: < 2.2e-16\n"
      ]
     },
     "metadata": {},
     "output_type": "display_data"
    }
   ],
   "source": [
    "lm_all_v <- lm(eur ~ . , data = info)\n",
    "summary(lm_all_v)"
   ]
  },
  {
   "cell_type": "markdown",
   "metadata": {
    "colab_type": "text",
    "id": "27m5VcomfhRb"
   },
   "source": [
    "**Modelo lineal con variables elegidas gracias a la matriz de correlacion**"
   ]
  },
  {
   "cell_type": "code",
   "execution_count": 7,
   "metadata": {
    "colab": {},
    "colab_type": "code",
    "id": "m6N5KUqRfdYg"
   },
   "outputs": [
    {
     "data": {
      "text/plain": [
       "\n",
       "Call:\n",
       "lm(formula = eur ~ evr + cpi + cci + emp + prev, data = info)\n",
       "\n",
       "Residuals:\n",
       "     Min       1Q   Median       3Q      Max \n",
       "-0.55942 -0.17572  0.01432  0.14739  1.04944 \n",
       "\n",
       "Coefficients:\n",
       "              Estimate Std. Error t value Pr(>|t|)    \n",
       "(Intercept) -9.190e+01  6.295e-01 -145.99   <2e-16 ***\n",
       "evr          4.113e-01  3.343e-03  123.02   <2e-16 ***\n",
       "cpi          3.354e-01  4.331e-03   77.44   <2e-16 ***\n",
       "cci          5.410e-02  2.601e-04  207.96   <2e-16 ***\n",
       "emp          1.283e-02  5.375e-05  238.68   <2e-16 ***\n",
       "prev         5.770e-04  2.509e-03    0.23    0.818    \n",
       "---\n",
       "Signif. codes:  0 '***' 0.001 '**' 0.01 '*' 0.05 '.' 0.1 ' ' 1\n",
       "\n",
       "Residual standard error: 0.217 on 41182 degrees of freedom\n",
       "Multiple R-squared:  0.9843,\tAdjusted R-squared:  0.9843 \n",
       "F-statistic: 5.178e+05 on 5 and 41182 DF,  p-value: < 2.2e-16\n"
      ]
     },
     "metadata": {},
     "output_type": "display_data"
    }
   ],
   "source": [
    "lm_some_v <- lm(eur ~ evr+cpi+cci+emp+prev, data = info)\n",
    "summary(lm_some_v)"
   ]
  },
  {
   "cell_type": "markdown",
   "metadata": {
    "colab_type": "text",
    "id": "E87Jo_7wf21O"
   },
   "source": [
    "**Modelo lineal multiple con variables que segun la funcion stem son las optimas para usar**"
   ]
  },
  {
   "cell_type": "code",
   "execution_count": 8,
   "metadata": {
    "colab": {},
    "colab_type": "code",
    "id": "eznRBMUNfznR"
   },
   "outputs": [
    {
     "name": "stdout",
     "output_type": "stream",
     "text": [
      "Start:  AIC=-126138.4\n",
      "eur ~ age + dur + camp + pdays + evr + cpi + cci + emp + prev\n",
      "\n",
      "        Df Sum of Sq    RSS     AIC\n",
      "- prev   1      0.08 1925.5 -126139\n",
      "<none>               1925.4 -126138\n",
      "- dur    1      0.22 1925.7 -126136\n",
      "- pdays  1      0.33 1925.8 -126133\n",
      "- age    1      0.37 1925.8 -126132\n",
      "- camp   1     13.35 1938.8 -125856\n",
      "- cpi    1    285.10 2210.5 -120453\n",
      "- evr    1    714.34 2639.8 -113144\n",
      "- cci    1   1955.47 3880.9  -97271\n",
      "- emp    1   2674.71 4600.2  -90268\n",
      "\n",
      "Step:  AIC=-126138.7\n",
      "eur ~ age + dur + camp + pdays + evr + cpi + cci + emp\n",
      "\n",
      "        Df Sum of Sq    RSS     AIC\n",
      "<none>               1925.5 -126139\n",
      "- dur    1      0.22 1925.7 -126136\n",
      "- pdays  1      0.25 1925.8 -126135\n",
      "- age    1      0.38 1925.9 -126133\n",
      "- camp   1     13.38 1938.9 -125855\n",
      "- cpi    1    285.15 2210.7 -120453\n",
      "- evr    1    716.71 2642.2 -113108\n",
      "- cci    1   1971.31 3896.8  -97105\n",
      "- emp    1   2742.41 4667.9  -89668\n"
     ]
    },
    {
     "data": {
      "text/plain": [
       "\n",
       "Call:\n",
       "lm(formula = eur ~ age + dur + camp + pdays + evr + cpi + cci + \n",
       "    emp, data = info)\n",
       "\n",
       "Coefficients:\n",
       "(Intercept)          age          dur         camp        pdays          evr  \n",
       " -9.212e+01    2.935e-04    8.900e-06   -6.608e-03    1.451e-05    4.119e-01  \n",
       "        cpi          cci          emp  \n",
       "  3.375e-01    5.395e-02    1.283e-02  \n"
      ]
     },
     "metadata": {},
     "output_type": "display_data"
    }
   ],
   "source": [
    "step(lm_all_v)"
   ]
  },
  {
   "cell_type": "code",
   "execution_count": 9,
   "metadata": {
    "colab": {},
    "colab_type": "code",
    "id": "YX7ZzTe8f-lU"
   },
   "outputs": [
    {
     "data": {
      "text/plain": [
       "\n",
       "Call:\n",
       "lm(formula = eur ~ age + dur + camp + pdays + evr + cpi + cci + \n",
       "    emp, data = info)\n",
       "\n",
       "Residuals:\n",
       "     Min       1Q   Median       3Q      Max \n",
       "-0.57783 -0.17512  0.00253  0.13950  1.04399 \n",
       "\n",
       "Coefficients:\n",
       "              Estimate Std. Error  t value Pr(>|t|)    \n",
       "(Intercept) -9.212e+01  6.243e-01 -147.564  < 2e-16 ***\n",
       "age          2.935e-04  1.032e-04    2.845  0.00445 ** \n",
       "dur          8.900e-06  4.127e-06    2.156  0.03107 *  \n",
       "camp        -6.608e-03  3.906e-04  -16.918  < 2e-16 ***\n",
       "pdays        1.451e-05  6.277e-06    2.312  0.02077 *  \n",
       "evr          4.119e-01  3.327e-03  123.804  < 2e-16 ***\n",
       "cpi          3.375e-01  4.322e-03   78.091  < 2e-16 ***\n",
       "cci          5.395e-02  2.627e-04  205.324  < 2e-16 ***\n",
       "emp          1.283e-02  5.298e-05  242.175  < 2e-16 ***\n",
       "---\n",
       "Signif. codes:  0 '***' 0.001 '**' 0.01 '*' 0.05 '.' 0.1 ' ' 1\n",
       "\n",
       "Residual standard error: 0.2162 on 41179 degrees of freedom\n",
       "Multiple R-squared:  0.9845,\tAdjusted R-squared:  0.9845 \n",
       "F-statistic: 3.261e+05 on 8 and 41179 DF,  p-value: < 2.2e-16\n"
      ]
     },
     "metadata": {},
     "output_type": "display_data"
    }
   ],
   "source": [
    "lm_opti_v <- lm(eur ~ age + dur + camp + pdays + evr + cpi + cci + emp, data = info)\n",
    "summary(lm_opti_v)"
   ]
  },
  {
   "cell_type": "markdown",
   "metadata": {
    "colab_type": "text",
    "id": "ZyzSnFWtgOfS"
   },
   "source": [
    "**Comparaciones de los modelos**"
   ]
  },
  {
   "cell_type": "code",
   "execution_count": 17,
   "metadata": {
    "colab": {},
    "colab_type": "code",
    "id": "InQwx1bdgnUS"
   },
   "outputs": [
    {
     "data": {
      "text/html": [
       "<table>\n",
       "<caption>A data.frame: 3 × 2</caption>\n",
       "<thead>\n",
       "\t<tr><th></th><th scope=col>df</th><th scope=col>AIC</th></tr>\n",
       "\t<tr><th></th><th scope=col>&lt;dbl&gt;</th><th scope=col>&lt;dbl&gt;</th></tr>\n",
       "</thead>\n",
       "<tbody>\n",
       "\t<tr><th scope=row>lm_all_v</th><td>11</td><td>-9249.906</td></tr>\n",
       "\t<tr><th scope=row>lm_some_v</th><td> 7</td><td>-8948.444</td></tr>\n",
       "\t<tr><th scope=row>lm_opti_v</th><td>10</td><td>-9250.247</td></tr>\n",
       "</tbody>\n",
       "</table>\n"
      ],
      "text/latex": [
       "A data.frame: 3 × 2\n",
       "\\begin{tabular}{r|ll}\n",
       "  & df & AIC\\\\\n",
       "  & <dbl> & <dbl>\\\\\n",
       "\\hline\n",
       "\tlm\\_all\\_v & 11 & -9249.906\\\\\n",
       "\tlm\\_some\\_v &  7 & -8948.444\\\\\n",
       "\tlm\\_opti\\_v & 10 & -9250.247\\\\\n",
       "\\end{tabular}\n"
      ],
      "text/markdown": [
       "\n",
       "A data.frame: 3 × 2\n",
       "\n",
       "| <!--/--> | df &lt;dbl&gt; | AIC &lt;dbl&gt; |\n",
       "|---|---|---|\n",
       "| lm_all_v | 11 | -9249.906 |\n",
       "| lm_some_v |  7 | -8948.444 |\n",
       "| lm_opti_v | 10 | -9250.247 |\n",
       "\n"
      ],
      "text/plain": [
       "          df AIC      \n",
       "lm_all_v  11 -9249.906\n",
       "lm_some_v  7 -8948.444\n",
       "lm_opti_v 10 -9250.247"
      ]
     },
     "metadata": {},
     "output_type": "display_data"
    }
   ],
   "source": [
    "#Modelo 1 VS Modelo 2\n",
    "AIC(lm_all_v, lm_some_v,lm_opti_v)"
   ]
  },
  {
   "cell_type": "code",
   "execution_count": 18,
   "metadata": {
    "colab": {},
    "colab_type": "code",
    "id": "B-aq23rugnb6"
   },
   "outputs": [
    {
     "data": {
      "text/html": [
       "<table>\n",
       "<caption>A data.frame: 3 × 2</caption>\n",
       "<thead>\n",
       "\t<tr><th></th><th scope=col>df</th><th scope=col>BIC</th></tr>\n",
       "\t<tr><th></th><th scope=col>&lt;dbl&gt;</th><th scope=col>&lt;dbl&gt;</th></tr>\n",
       "</thead>\n",
       "<tbody>\n",
       "\t<tr><th scope=row>lm_all_v</th><td>11</td><td>-9155.021</td></tr>\n",
       "\t<tr><th scope=row>lm_some_v</th><td> 7</td><td>-8888.063</td></tr>\n",
       "\t<tr><th scope=row>lm_opti_v</th><td>10</td><td>-9163.988</td></tr>\n",
       "</tbody>\n",
       "</table>\n"
      ],
      "text/latex": [
       "A data.frame: 3 × 2\n",
       "\\begin{tabular}{r|ll}\n",
       "  & df & BIC\\\\\n",
       "  & <dbl> & <dbl>\\\\\n",
       "\\hline\n",
       "\tlm\\_all\\_v & 11 & -9155.021\\\\\n",
       "\tlm\\_some\\_v &  7 & -8888.063\\\\\n",
       "\tlm\\_opti\\_v & 10 & -9163.988\\\\\n",
       "\\end{tabular}\n"
      ],
      "text/markdown": [
       "\n",
       "A data.frame: 3 × 2\n",
       "\n",
       "| <!--/--> | df &lt;dbl&gt; | BIC &lt;dbl&gt; |\n",
       "|---|---|---|\n",
       "| lm_all_v | 11 | -9155.021 |\n",
       "| lm_some_v |  7 | -8888.063 |\n",
       "| lm_opti_v | 10 | -9163.988 |\n",
       "\n"
      ],
      "text/plain": [
       "          df BIC      \n",
       "lm_all_v  11 -9155.021\n",
       "lm_some_v  7 -8888.063\n",
       "lm_opti_v 10 -9163.988"
      ]
     },
     "metadata": {},
     "output_type": "display_data"
    }
   ],
   "source": [
    "#Modelo 1 VS Modelo 2\n",
    "BIC(lm_all_v, lm_some_v,lm_opti_v)"
   ]
  },
  {
   "cell_type": "code",
   "execution_count": 13,
   "metadata": {
    "colab": {},
    "colab_type": "code",
    "id": "CD-eij06gni9"
   },
   "outputs": [
    {
     "data": {
      "text/html": [
       "<table>\n",
       "<caption>A data.frame: 2 × 2</caption>\n",
       "<thead>\n",
       "\t<tr><th></th><th scope=col>df</th><th scope=col>AIC</th></tr>\n",
       "\t<tr><th></th><th scope=col>&lt;dbl&gt;</th><th scope=col>&lt;dbl&gt;</th></tr>\n",
       "</thead>\n",
       "<tbody>\n",
       "\t<tr><th scope=row>lm_all_v</th><td>11</td><td>-9249.906</td></tr>\n",
       "\t<tr><th scope=row>lm_opti_v</th><td>10</td><td>-9250.247</td></tr>\n",
       "</tbody>\n",
       "</table>\n"
      ],
      "text/latex": [
       "A data.frame: 2 × 2\n",
       "\\begin{tabular}{r|ll}\n",
       "  & df & AIC\\\\\n",
       "  & <dbl> & <dbl>\\\\\n",
       "\\hline\n",
       "\tlm\\_all\\_v & 11 & -9249.906\\\\\n",
       "\tlm\\_opti\\_v & 10 & -9250.247\\\\\n",
       "\\end{tabular}\n"
      ],
      "text/markdown": [
       "\n",
       "A data.frame: 2 × 2\n",
       "\n",
       "| <!--/--> | df &lt;dbl&gt; | AIC &lt;dbl&gt; |\n",
       "|---|---|---|\n",
       "| lm_all_v | 11 | -9249.906 |\n",
       "| lm_opti_v | 10 | -9250.247 |\n",
       "\n"
      ],
      "text/plain": [
       "          df AIC      \n",
       "lm_all_v  11 -9249.906\n",
       "lm_opti_v 10 -9250.247"
      ]
     },
     "metadata": {},
     "output_type": "display_data"
    }
   ],
   "source": [
    "#Modelo 1 VS Modelo 3\n",
    "AIC(lm_all_v, lm_opti_v)"
   ]
  },
  {
   "cell_type": "code",
   "execution_count": 14,
   "metadata": {
    "colab": {},
    "colab_type": "code",
    "id": "sO1gYqcsgQPZ"
   },
   "outputs": [
    {
     "data": {
      "text/html": [
       "<table>\n",
       "<caption>A data.frame: 2 × 2</caption>\n",
       "<thead>\n",
       "\t<tr><th></th><th scope=col>df</th><th scope=col>BIC</th></tr>\n",
       "\t<tr><th></th><th scope=col>&lt;dbl&gt;</th><th scope=col>&lt;dbl&gt;</th></tr>\n",
       "</thead>\n",
       "<tbody>\n",
       "\t<tr><th scope=row>lm_all_v</th><td>11</td><td>-9155.021</td></tr>\n",
       "\t<tr><th scope=row>lm_opti_v</th><td>10</td><td>-9163.988</td></tr>\n",
       "</tbody>\n",
       "</table>\n"
      ],
      "text/latex": [
       "A data.frame: 2 × 2\n",
       "\\begin{tabular}{r|ll}\n",
       "  & df & BIC\\\\\n",
       "  & <dbl> & <dbl>\\\\\n",
       "\\hline\n",
       "\tlm\\_all\\_v & 11 & -9155.021\\\\\n",
       "\tlm\\_opti\\_v & 10 & -9163.988\\\\\n",
       "\\end{tabular}\n"
      ],
      "text/markdown": [
       "\n",
       "A data.frame: 2 × 2\n",
       "\n",
       "| <!--/--> | df &lt;dbl&gt; | BIC &lt;dbl&gt; |\n",
       "|---|---|---|\n",
       "| lm_all_v | 11 | -9155.021 |\n",
       "| lm_opti_v | 10 | -9163.988 |\n",
       "\n"
      ],
      "text/plain": [
       "          df BIC      \n",
       "lm_all_v  11 -9155.021\n",
       "lm_opti_v 10 -9163.988"
      ]
     },
     "metadata": {},
     "output_type": "display_data"
    }
   ],
   "source": [
    "#Modelo 1 VS Modelo 3\n",
    "BIC(lm_all_v, lm_opti_v)"
   ]
  },
  {
   "cell_type": "code",
   "execution_count": null,
   "metadata": {
    "colab": {},
    "colab_type": "code",
    "id": "g-VbBeZ1g0Gv"
   },
   "outputs": [],
   "source": [
    "par(mfrow = c(2,2))\n",
    "plot(lm_all_v)\n",
    "par(mfrow= c(1,1))"
   ]
  },
  {
   "cell_type": "code",
   "execution_count": null,
   "metadata": {
    "colab": {},
    "colab_type": "code",
    "id": "1UnpYGIlg8uS"
   },
   "outputs": [],
   "source": [
    "par(mfrow = c(2,2))\n",
    "plot(lm_some_v)\n",
    "par(mfrow= c(1,1))"
   ]
  },
  {
   "cell_type": "code",
   "execution_count": null,
   "metadata": {
    "colab": {},
    "colab_type": "code",
    "id": "vE9sgV6qg-0t"
   },
   "outputs": [],
   "source": [
    "par(mfrow = c(2,2))\n",
    "plot(lm_opti_v)\n",
    "par(mfrow= c(1,1))"
   ]
  },
  {
   "cell_type": "code",
   "execution_count": null,
   "metadata": {
    "colab": {},
    "colab_type": "code",
    "id": "Y3FyNXELkJlj"
   },
   "outputs": [],
   "source": []
  }
 ],
 "metadata": {
  "colab": {
   "collapsed_sections": [],
   "name": "Copia de Untitled0.ipynb",
   "provenance": []
  },
  "kernelspec": {
   "display_name": "R",
   "language": "R",
   "name": "ir"
  },
  "language_info": {
   "codemirror_mode": "r",
   "file_extension": ".r",
   "mimetype": "text/x-r-source",
   "name": "R",
   "pygments_lexer": "r",
   "version": "4.0.0"
  }
 },
 "nbformat": 4,
 "nbformat_minor": 1
}
