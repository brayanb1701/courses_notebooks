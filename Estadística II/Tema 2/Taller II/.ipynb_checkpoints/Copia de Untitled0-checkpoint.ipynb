{
 "cells": [
  {
   "cell_type": "code",
   "execution_count": 1,
   "metadata": {
    "colab": {
     "base_uri": "https://localhost:8080/",
     "height": 272
    },
    "colab_type": "code",
    "executionInfo": {
     "elapsed": 114188,
     "status": "ok",
     "timestamp": 1596345115476,
     "user": {
      "displayName": "Geyner Rojas",
      "photoUrl": "https://lh4.googleusercontent.com/-NYcJJq7XqjE/AAAAAAAAAAI/AAAAAAAAAQo/WClVFhKnEhw/s64/photo.jpg",
      "userId": "01809282963284296123"
     },
     "user_tz": 300
    },
    "id": "CMqArik-WWCR",
    "outputId": "39aaa3dc-3174-4433-e707-1759e395f828"
   },
   "outputs": [
    {
     "name": "stderr",
     "output_type": "stream",
     "text": [
      "Updating HTML index of packages in '.Library'\n",
      "Making 'packages.html' ... done\n",
      "also installing the dependencies ‘png’, ‘jpeg’, ‘checkmate’, ‘survival’, ‘Formula’, ‘latticeExtra’, ‘acepack’, ‘gridExtra’, ‘htmlTable’, ‘viridis’\n",
      "\n",
      "Updating HTML index of packages in '.Library'\n",
      "Making 'packages.html' ... done\n",
      "Updating HTML index of packages in '.Library'\n",
      "Making 'packages.html' ... done\n"
     ]
    }
   ],
   "source": [
    "#Librerias\n",
    "install.packages(\"corrplot\")\n",
    "install.packages(\"Hmisc\")\n",
    "install.packages(\"lmtest\")"
   ]
  },
  {
   "cell_type": "code",
   "execution_count": 2,
   "metadata": {
    "colab": {
     "base_uri": "https://localhost:8080/",
     "height": 527
    },
    "colab_type": "code",
    "executionInfo": {
     "elapsed": 116047,
     "status": "ok",
     "timestamp": 1596345117348,
     "user": {
      "displayName": "Geyner Rojas",
      "photoUrl": "https://lh4.googleusercontent.com/-NYcJJq7XqjE/AAAAAAAAAAI/AAAAAAAAAQo/WClVFhKnEhw/s64/photo.jpg",
      "userId": "01809282963284296123"
     },
     "user_tz": 300
    },
    "id": "Qw5ggK93W77Z",
    "outputId": "2da28db4-9c17-42e7-a761-2d4c9d1a7a4f"
   },
   "outputs": [
    {
     "name": "stderr",
     "output_type": "stream",
     "text": [
      "corrplot 0.84 loaded\n",
      "Loading required package: zoo\n",
      "\n",
      "Attaching package: ‘zoo’\n",
      "\n",
      "The following objects are masked from ‘package:base’:\n",
      "\n",
      "    as.Date, as.Date.numeric\n",
      "\n",
      "Loading required package: lattice\n",
      "Loading required package: survival\n",
      "Loading required package: Formula\n",
      "Loading required package: ggplot2\n",
      "Registered S3 methods overwritten by 'ggplot2':\n",
      "  method         from \n",
      "  [.quosures     rlang\n",
      "  c.quosures     rlang\n",
      "  print.quosures rlang\n",
      "\n",
      "Attaching package: ‘Hmisc’\n",
      "\n",
      "The following objects are masked from ‘package:base’:\n",
      "\n",
      "    format.pval, units\n",
      "\n"
     ]
    }
   ],
   "source": [
    "library(\"corrplot\")\n",
    "library(\"lmtest\")\n",
    "library(\"Hmisc\")"
   ]
  },
  {
   "cell_type": "markdown",
   "metadata": {
    "colab_type": "text",
    "id": "YmR35y0KXJAz"
   },
   "source": [
    "**Importamos los datos**"
   ]
  },
  {
   "cell_type": "code",
   "execution_count": 3,
   "metadata": {
    "colab": {},
    "colab_type": "code",
    "id": "U0VMUbHf1Cdj"
   },
   "outputs": [],
   "source": [
    "dataset <-read.csv(url(\"https://raw.githubusercontent.com/beckam015/Estadistica2/master/bank-additional-full-full.csv\"))"
   ]
  },
  {
   "cell_type": "code",
   "execution_count": 4,
   "metadata": {
    "colab": {},
    "colab_type": "code",
    "id": "ezp_ffIniBAq"
   },
   "outputs": [
    {
     "data": {
      "text/html": [
       "<table>\n",
       "<thead><tr><th scope=col>age</th><th scope=col>job</th><th scope=col>marital</th><th scope=col>education</th><th scope=col>default</th><th scope=col>housing</th><th scope=col>loan</th><th scope=col>contact</th><th scope=col>month</th><th scope=col>day_of_week</th><th scope=col>...</th><th scope=col>campaign</th><th scope=col>pdays</th><th scope=col>previous</th><th scope=col>poutcome</th><th scope=col>emp.var.rate</th><th scope=col>cons.price.idx</th><th scope=col>cons.conf.idx</th><th scope=col>euribor3m</th><th scope=col>nr.employed</th><th scope=col>y</th></tr></thead>\n",
       "<tbody>\n",
       "\t<tr><td>56         </td><td>housemaid  </td><td>married    </td><td>basic.4y   </td><td>no         </td><td>no         </td><td>no         </td><td>telephone  </td><td>may        </td><td>mon        </td><td>...        </td><td>1          </td><td>999        </td><td>0          </td><td>nonexistent</td><td>1.1        </td><td>93.994     </td><td>-36.4      </td><td>4.857      </td><td>5191       </td><td>no         </td></tr>\n",
       "\t<tr><td>57         </td><td>services   </td><td>married    </td><td>high.school</td><td>unknown    </td><td>no         </td><td>no         </td><td>telephone  </td><td>may        </td><td>mon        </td><td>...        </td><td>1          </td><td>999        </td><td>0          </td><td>nonexistent</td><td>1.1        </td><td>93.994     </td><td>-36.4      </td><td>4.857      </td><td>5191       </td><td>no         </td></tr>\n",
       "\t<tr><td>37         </td><td>services   </td><td>married    </td><td>high.school</td><td>no         </td><td>yes        </td><td>no         </td><td>telephone  </td><td>may        </td><td>mon        </td><td>...        </td><td>1          </td><td>999        </td><td>0          </td><td>nonexistent</td><td>1.1        </td><td>93.994     </td><td>-36.4      </td><td>4.857      </td><td>5191       </td><td>no         </td></tr>\n",
       "\t<tr><td>40         </td><td>admin.     </td><td>married    </td><td>basic.6y   </td><td>no         </td><td>no         </td><td>no         </td><td>telephone  </td><td>may        </td><td>mon        </td><td>...        </td><td>1          </td><td>999        </td><td>0          </td><td>nonexistent</td><td>1.1        </td><td>93.994     </td><td>-36.4      </td><td>4.857      </td><td>5191       </td><td>no         </td></tr>\n",
       "\t<tr><td>56         </td><td>services   </td><td>married    </td><td>high.school</td><td>no         </td><td>no         </td><td>yes        </td><td>telephone  </td><td>may        </td><td>mon        </td><td>...        </td><td>1          </td><td>999        </td><td>0          </td><td>nonexistent</td><td>1.1        </td><td>93.994     </td><td>-36.4      </td><td>4.857      </td><td>5191       </td><td>no         </td></tr>\n",
       "\t<tr><td>45         </td><td>services   </td><td>married    </td><td>basic.9y   </td><td>unknown    </td><td>no         </td><td>no         </td><td>telephone  </td><td>may        </td><td>mon        </td><td>...        </td><td>1          </td><td>999        </td><td>0          </td><td>nonexistent</td><td>1.1        </td><td>93.994     </td><td>-36.4      </td><td>4.857      </td><td>5191       </td><td>no         </td></tr>\n",
       "</tbody>\n",
       "</table>\n"
      ],
      "text/latex": [
       "\\begin{tabular}{r|lllllllllllllllllllll}\n",
       " age & job & marital & education & default & housing & loan & contact & month & day\\_of\\_week & ... & campaign & pdays & previous & poutcome & emp.var.rate & cons.price.idx & cons.conf.idx & euribor3m & nr.employed & y\\\\\n",
       "\\hline\n",
       "\t 56          & housemaid   & married     & basic.4y    & no          & no          & no          & telephone   & may         & mon         & ...         & 1           & 999         & 0           & nonexistent & 1.1         & 93.994      & -36.4       & 4.857       & 5191        & no         \\\\\n",
       "\t 57          & services    & married     & high.school & unknown     & no          & no          & telephone   & may         & mon         & ...         & 1           & 999         & 0           & nonexistent & 1.1         & 93.994      & -36.4       & 4.857       & 5191        & no         \\\\\n",
       "\t 37          & services    & married     & high.school & no          & yes         & no          & telephone   & may         & mon         & ...         & 1           & 999         & 0           & nonexistent & 1.1         & 93.994      & -36.4       & 4.857       & 5191        & no         \\\\\n",
       "\t 40          & admin.      & married     & basic.6y    & no          & no          & no          & telephone   & may         & mon         & ...         & 1           & 999         & 0           & nonexistent & 1.1         & 93.994      & -36.4       & 4.857       & 5191        & no         \\\\\n",
       "\t 56          & services    & married     & high.school & no          & no          & yes         & telephone   & may         & mon         & ...         & 1           & 999         & 0           & nonexistent & 1.1         & 93.994      & -36.4       & 4.857       & 5191        & no         \\\\\n",
       "\t 45          & services    & married     & basic.9y    & unknown     & no          & no          & telephone   & may         & mon         & ...         & 1           & 999         & 0           & nonexistent & 1.1         & 93.994      & -36.4       & 4.857       & 5191        & no         \\\\\n",
       "\\end{tabular}\n"
      ],
      "text/markdown": [
       "\n",
       "| age | job | marital | education | default | housing | loan | contact | month | day_of_week | ... | campaign | pdays | previous | poutcome | emp.var.rate | cons.price.idx | cons.conf.idx | euribor3m | nr.employed | y |\n",
       "|---|---|---|---|---|---|---|---|---|---|---|---|---|---|---|---|---|---|---|---|---|\n",
       "| 56          | housemaid   | married     | basic.4y    | no          | no          | no          | telephone   | may         | mon         | ...         | 1           | 999         | 0           | nonexistent | 1.1         | 93.994      | -36.4       | 4.857       | 5191        | no          |\n",
       "| 57          | services    | married     | high.school | unknown     | no          | no          | telephone   | may         | mon         | ...         | 1           | 999         | 0           | nonexistent | 1.1         | 93.994      | -36.4       | 4.857       | 5191        | no          |\n",
       "| 37          | services    | married     | high.school | no          | yes         | no          | telephone   | may         | mon         | ...         | 1           | 999         | 0           | nonexistent | 1.1         | 93.994      | -36.4       | 4.857       | 5191        | no          |\n",
       "| 40          | admin.      | married     | basic.6y    | no          | no          | no          | telephone   | may         | mon         | ...         | 1           | 999         | 0           | nonexistent | 1.1         | 93.994      | -36.4       | 4.857       | 5191        | no          |\n",
       "| 56          | services    | married     | high.school | no          | no          | yes         | telephone   | may         | mon         | ...         | 1           | 999         | 0           | nonexistent | 1.1         | 93.994      | -36.4       | 4.857       | 5191        | no          |\n",
       "| 45          | services    | married     | basic.9y    | unknown     | no          | no          | telephone   | may         | mon         | ...         | 1           | 999         | 0           | nonexistent | 1.1         | 93.994      | -36.4       | 4.857       | 5191        | no          |\n",
       "\n"
      ],
      "text/plain": [
       "  age job       marital education   default housing loan contact   month\n",
       "1 56  housemaid married basic.4y    no      no      no   telephone may  \n",
       "2 57  services  married high.school unknown no      no   telephone may  \n",
       "3 37  services  married high.school no      yes     no   telephone may  \n",
       "4 40  admin.    married basic.6y    no      no      no   telephone may  \n",
       "5 56  services  married high.school no      no      yes  telephone may  \n",
       "6 45  services  married basic.9y    unknown no      no   telephone may  \n",
       "  day_of_week ... campaign pdays previous poutcome    emp.var.rate\n",
       "1 mon         ... 1        999   0        nonexistent 1.1         \n",
       "2 mon         ... 1        999   0        nonexistent 1.1         \n",
       "3 mon         ... 1        999   0        nonexistent 1.1         \n",
       "4 mon         ... 1        999   0        nonexistent 1.1         \n",
       "5 mon         ... 1        999   0        nonexistent 1.1         \n",
       "6 mon         ... 1        999   0        nonexistent 1.1         \n",
       "  cons.price.idx cons.conf.idx euribor3m nr.employed y \n",
       "1 93.994         -36.4         4.857     5191        no\n",
       "2 93.994         -36.4         4.857     5191        no\n",
       "3 93.994         -36.4         4.857     5191        no\n",
       "4 93.994         -36.4         4.857     5191        no\n",
       "5 93.994         -36.4         4.857     5191        no\n",
       "6 93.994         -36.4         4.857     5191        no"
      ]
     },
     "metadata": {},
     "output_type": "display_data"
    }
   ],
   "source": [
    "head(dataset)"
   ]
  },
  {
   "cell_type": "code",
   "execution_count": null,
   "metadata": {
    "colab": {},
    "colab_type": "code",
    "id": "edYCxPRwAP3I"
   },
   "outputs": [],
   "source": [
    "info<-data.frame(\n",
    "  age=dataset$age,\n",
    "  dur=dataset$duration,\n",
    "  camp=dataset$campaign,\n",
    "  pdays=dataset$pdays,\n",
    "  evr=dataset$emp.var.rate,\n",
    "  cpi=dataset$cons.price.idx,\n",
    "  cci=dataset$cons.conf.idx,\n",
    "  eur=dataset$euribor3m,\n",
    "  emp=dataset$nr.employed,\n",
    "  prev=dataset$previous\n",
    ")"
   ]
  },
  {
   "cell_type": "code",
   "execution_count": null,
   "metadata": {
    "colab": {},
    "colab_type": "code",
    "id": "fPcsWWq_eeIu"
   },
   "outputs": [],
   "source": [
    "plot(info)"
   ]
  },
  {
   "cell_type": "markdown",
   "metadata": {
    "colab_type": "text",
    "id": "eKxcsG6veiyo"
   },
   "source": [
    "**Correlacion**"
   ]
  },
  {
   "cell_type": "code",
   "execution_count": null,
   "metadata": {
    "colab": {},
    "colab_type": "code",
    "id": "4MLiaccKegHF"
   },
   "outputs": [],
   "source": [
    "rcorr(as.matrix(info))"
   ]
  },
  {
   "cell_type": "markdown",
   "metadata": {
    "colab_type": "text",
    "id": "h2Gyk2hPetmr"
   },
   "source": [
    "**Definicion de modelos lineales**"
   ]
  },
  {
   "cell_type": "code",
   "execution_count": null,
   "metadata": {
    "colab": {},
    "colab_type": "code",
    "id": "uQ6Yh2DVeqy_"
   },
   "outputs": [],
   "source": [
    "lm_all_v <- lm(eur ~ . , data = info)\n",
    "summary(lm_all_v)"
   ]
  },
  {
   "cell_type": "markdown",
   "metadata": {
    "colab_type": "text",
    "id": "27m5VcomfhRb"
   },
   "source": [
    "**Modelo lineal con variables elegidas gracias a la matriz de correlacion**"
   ]
  },
  {
   "cell_type": "code",
   "execution_count": null,
   "metadata": {
    "colab": {},
    "colab_type": "code",
    "id": "m6N5KUqRfdYg"
   },
   "outputs": [],
   "source": [
    "lm_some_v <- lm(eur ~ evr+cpi+cci+emp+prev, data = info)\n",
    "summary(lm_some_v)"
   ]
  },
  {
   "cell_type": "markdown",
   "metadata": {
    "colab_type": "text",
    "id": "E87Jo_7wf21O"
   },
   "source": [
    "**Modelo lineal multiple con variables que segun la funcion stem son las optimas para usar**"
   ]
  },
  {
   "cell_type": "code",
   "execution_count": null,
   "metadata": {
    "colab": {},
    "colab_type": "code",
    "id": "eznRBMUNfznR"
   },
   "outputs": [],
   "source": [
    "step(lm_all_v)"
   ]
  },
  {
   "cell_type": "code",
   "execution_count": null,
   "metadata": {
    "colab": {},
    "colab_type": "code",
    "id": "YX7ZzTe8f-lU"
   },
   "outputs": [],
   "source": [
    "lm_opti_v <- lm(eur ~ age + dur + camp + pdays + evr + cpi + cci + emp, data = info)\n",
    "summary(lm_opti_v)"
   ]
  },
  {
   "cell_type": "markdown",
   "metadata": {
    "colab_type": "text",
    "id": "ZyzSnFWtgOfS"
   },
   "source": [
    "**Comparaciones de los modelos**"
   ]
  },
  {
   "cell_type": "code",
   "execution_count": null,
   "metadata": {
    "colab": {},
    "colab_type": "code",
    "id": "InQwx1bdgnUS"
   },
   "outputs": [],
   "source": [
    "#Modelo 1 VS Modelo 2\n",
    "AIC(lm_all_v, lm_some_v)"
   ]
  },
  {
   "cell_type": "code",
   "execution_count": null,
   "metadata": {
    "colab": {},
    "colab_type": "code",
    "id": "B-aq23rugnb6"
   },
   "outputs": [],
   "source": [
    "#Modelo 1 VS Modelo 2\n",
    "BIC(lm_all_v, lm_some_v)"
   ]
  },
  {
   "cell_type": "code",
   "execution_count": null,
   "metadata": {
    "colab": {},
    "colab_type": "code",
    "id": "CD-eij06gni9"
   },
   "outputs": [],
   "source": [
    "#Modelo 1 VS Modelo 3\n",
    "AIC(lm_all_v, lm_opti_v)"
   ]
  },
  {
   "cell_type": "code",
   "execution_count": null,
   "metadata": {
    "colab": {},
    "colab_type": "code",
    "id": "sO1gYqcsgQPZ"
   },
   "outputs": [],
   "source": [
    "#Modelo 1 VS Modelo 3\n",
    "BIC(lm_all_v, lm_opti_v)"
   ]
  },
  {
   "cell_type": "code",
   "execution_count": null,
   "metadata": {
    "colab": {},
    "colab_type": "code",
    "id": "g-VbBeZ1g0Gv"
   },
   "outputs": [],
   "source": [
    "par(mfrow = c(2,2))\n",
    "plot(lm_all_v)\n",
    "par(mfrow= c(1,1))"
   ]
  },
  {
   "cell_type": "code",
   "execution_count": null,
   "metadata": {
    "colab": {},
    "colab_type": "code",
    "id": "1UnpYGIlg8uS"
   },
   "outputs": [],
   "source": [
    "par(mfrow = c(2,2))\n",
    "plot(lm_some_v)\n",
    "par(mfrow= c(1,1))"
   ]
  },
  {
   "cell_type": "code",
   "execution_count": null,
   "metadata": {
    "colab": {},
    "colab_type": "code",
    "id": "vE9sgV6qg-0t"
   },
   "outputs": [],
   "source": [
    "par(mfrow = c(2,2))\n",
    "plot(lm_opti_v)\n",
    "par(mfrow= c(1,1))"
   ]
  },
  {
   "cell_type": "code",
   "execution_count": null,
   "metadata": {
    "colab": {},
    "colab_type": "code",
    "id": "Y3FyNXELkJlj"
   },
   "outputs": [],
   "source": []
  }
 ],
 "metadata": {
  "colab": {
   "collapsed_sections": [],
   "name": "Copia de Untitled0.ipynb",
   "provenance": []
  },
  "kernelspec": {
   "display_name": "R",
   "language": "R",
   "name": "ir"
  },
  "language_info": {
   "codemirror_mode": "r",
   "file_extension": ".r",
   "mimetype": "text/x-r-source",
   "name": "R",
   "pygments_lexer": "r",
   "version": "4.0.0"
  }
 },
 "nbformat": 4,
 "nbformat_minor": 1
}
