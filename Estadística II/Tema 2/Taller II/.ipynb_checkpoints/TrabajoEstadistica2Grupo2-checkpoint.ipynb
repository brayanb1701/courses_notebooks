{
 "cells": [
  {
   "cell_type": "markdown",
   "metadata": {},
   "source": [
    "<div style=\"text-align: justify\">\n",
    "<font size=6><br>\n",
    "<h4 align=\"center\">Estadística II</h4></font><font size=5><h4 align=\"center\">Grupo F1</h4></font> \n",
    "\n",
    "<font size=5><h4 align=\"left\">Intregrantes: </h4></font>      \n",
    "2172016 - Kevin Javier Lozano Galvis<br><br>\n",
    "2170688 - Brayan Rodolfo Barajas Ochoa<br><br>\n",
    "2160090 - Kevin Joel Dlaikan Castillo<br> \n",
    "    \n",
    "<font size=5><h4 align=\"center\">Trabajo Prueba de Hipótesis - Correlación y Regresión</h4></font>  "
   ]
  },
  {
   "cell_type": "markdown",
   "metadata": {},
   "source": [
    "El estudiante debe descargar el archivo del siguiente enlace y realizar el respectivo análisis haciendo uso de los modelos lineales: <br>\n",
    "\n",
    "https://www.dropbox.com/s/vv0f1k2y5nalpgx/bank-additional-full.csv?dl=0\n",
    "\n",
    "Los datos están relacionados con las campañas de marketing directo de una institución bancaria portuguesa. Las campañas de marketing se basaron en llamadas telefónicas. A menudo, se requería más de un contacto con el mismo cliente, para poder acceder si el producto (depósito bancario) estaba (\"sí\") o no (\"no\") suscrito.\n",
    "\n",
    "Las variables registradas son las siguientes:\n",
    "\n",
    "- **age:** edad\n",
    "- **job:** tipo de trabajo\n",
    "- **marital:** estado civil\n",
    "- **education:** nivel educativo\n",
    "- **default:** crédito en incumplimiento\n",
    "- **housing:** crédito de vivienda\n",
    "- **loan:** préstamos personal\n",
    "- **contact:** tipo de contacto realizado\n",
    "- **month:** mes en que se hizo el último contacto\n",
    "- **day_of_week:** último día de contacto de la semana\n",
    "- **duration:** duración del último contacto, en segundos\n",
    "- **campaign:** número de contactos realizados durante esta campaña y para este cliente\n",
    "- **pdays:** número de días que pasaron después de que el cliente fue contactado por última vez desde una campaña anterior (999 significa que el cliente no fue contactado previamente)\n",
    "- **previous:** número de contactos realizados antes de esta campaña y para este cliente\n",
    "- **poutcome:** resultado de la campaña de marketing anterior\n",
    "- **emp.var.rate:** tasa de variación del empleo - indicador trimestral\n",
    "- **cons.price.idx:** índice de precios al consumidor - indicador mensual\n",
    "- **cons.conf.idx:** índice de confianza del consumidor - indicador mensual\n",
    "- **euribor3m:** euribor tasa de 3 meses - indicador diario\n",
    "- **nr.employed:** número de empleados\n",
    "- **y:** ¿el cliente ha suscrito un depósito a plazo?\n",
    "\n",
    "Los datos fueron tomados de: S. Moro, R. Laureano and P. Cortez. Using Data Mining for Bank Direct Marketing: An Application of the CRISP-DM Methodology. In P. Novais et al. (Eds.), Proceedings of the European Simulation and Modelling Conference - ESM'2011, pp. 117-121, Guimarães, Portugal, October, 2011. EUROSIS."
   ]
  },
  {
   "cell_type": "markdown",
   "metadata": {},
   "source": [
    "<h3 align=\"center\">Desarrollo</h3><br> "
   ]
  },
  {
   "cell_type": "code",
   "execution_count": 27,
   "metadata": {},
   "outputs": [],
   "source": [
    "library(\"corrplot\")\n",
    "library(\"lmtest\")\n",
    "library(\"Hmisc\")\n",
    "library(\"dplyr\")\n",
    "library(faraway)\n",
    "library(repr)\n",
    "options(repr.plot.width=12, repr.plot.height=12)"
   ]
  },
  {
   "cell_type": "code",
   "execution_count": 3,
   "metadata": {
    "scrolled": false
   },
   "outputs": [
    {
     "data": {
      "text/html": [
       "<table>\n",
       "<caption>A data.frame: 6 × 21</caption>\n",
       "<thead>\n",
       "\t<tr><th></th><th scope=col>age</th><th scope=col>job</th><th scope=col>marital</th><th scope=col>education</th><th scope=col>default</th><th scope=col>housing</th><th scope=col>loan</th><th scope=col>contact</th><th scope=col>month</th><th scope=col>day_of_week</th><th scope=col>...</th><th scope=col>campaign</th><th scope=col>pdays</th><th scope=col>previous</th><th scope=col>poutcome</th><th scope=col>emp.var.rate</th><th scope=col>cons.price.idx</th><th scope=col>cons.conf.idx</th><th scope=col>euribor3m</th><th scope=col>nr.employed</th><th scope=col>y</th></tr>\n",
       "\t<tr><th></th><th scope=col>&lt;int&gt;</th><th scope=col>&lt;chr&gt;</th><th scope=col>&lt;chr&gt;</th><th scope=col>&lt;chr&gt;</th><th scope=col>&lt;chr&gt;</th><th scope=col>&lt;chr&gt;</th><th scope=col>&lt;chr&gt;</th><th scope=col>&lt;chr&gt;</th><th scope=col>&lt;chr&gt;</th><th scope=col>&lt;chr&gt;</th><th scope=col>...</th><th scope=col>&lt;int&gt;</th><th scope=col>&lt;int&gt;</th><th scope=col>&lt;int&gt;</th><th scope=col>&lt;chr&gt;</th><th scope=col>&lt;dbl&gt;</th><th scope=col>&lt;dbl&gt;</th><th scope=col>&lt;dbl&gt;</th><th scope=col>&lt;dbl&gt;</th><th scope=col>&lt;dbl&gt;</th><th scope=col>&lt;chr&gt;</th></tr>\n",
       "</thead>\n",
       "<tbody>\n",
       "\t<tr><th scope=row>1</th><td>56</td><td>housemaid</td><td>married</td><td>basic.4y   </td><td>no     </td><td>no </td><td>no </td><td>telephone</td><td>may</td><td>mon</td><td>...</td><td>1</td><td>999</td><td>0</td><td>nonexistent</td><td>1.1</td><td>93.994</td><td>-36.4</td><td>4.857</td><td>5191</td><td>no</td></tr>\n",
       "\t<tr><th scope=row>2</th><td>57</td><td>services </td><td>married</td><td>high.school</td><td>unknown</td><td>no </td><td>no </td><td>telephone</td><td>may</td><td>mon</td><td>...</td><td>1</td><td>999</td><td>0</td><td>nonexistent</td><td>1.1</td><td>93.994</td><td>-36.4</td><td>4.857</td><td>5191</td><td>no</td></tr>\n",
       "\t<tr><th scope=row>3</th><td>37</td><td>services </td><td>married</td><td>high.school</td><td>no     </td><td>yes</td><td>no </td><td>telephone</td><td>may</td><td>mon</td><td>...</td><td>1</td><td>999</td><td>0</td><td>nonexistent</td><td>1.1</td><td>93.994</td><td>-36.4</td><td>4.857</td><td>5191</td><td>no</td></tr>\n",
       "\t<tr><th scope=row>4</th><td>40</td><td>admin.   </td><td>married</td><td>basic.6y   </td><td>no     </td><td>no </td><td>no </td><td>telephone</td><td>may</td><td>mon</td><td>...</td><td>1</td><td>999</td><td>0</td><td>nonexistent</td><td>1.1</td><td>93.994</td><td>-36.4</td><td>4.857</td><td>5191</td><td>no</td></tr>\n",
       "\t<tr><th scope=row>5</th><td>56</td><td>services </td><td>married</td><td>high.school</td><td>no     </td><td>no </td><td>yes</td><td>telephone</td><td>may</td><td>mon</td><td>...</td><td>1</td><td>999</td><td>0</td><td>nonexistent</td><td>1.1</td><td>93.994</td><td>-36.4</td><td>4.857</td><td>5191</td><td>no</td></tr>\n",
       "\t<tr><th scope=row>6</th><td>45</td><td>services </td><td>married</td><td>basic.9y   </td><td>unknown</td><td>no </td><td>no </td><td>telephone</td><td>may</td><td>mon</td><td>...</td><td>1</td><td>999</td><td>0</td><td>nonexistent</td><td>1.1</td><td>93.994</td><td>-36.4</td><td>4.857</td><td>5191</td><td>no</td></tr>\n",
       "</tbody>\n",
       "</table>\n"
      ],
      "text/latex": [
       "A data.frame: 6 × 21\n",
       "\\begin{tabular}{r|lllllllllllllllllllll}\n",
       "  & age & job & marital & education & default & housing & loan & contact & month & day\\_of\\_week & ... & campaign & pdays & previous & poutcome & emp.var.rate & cons.price.idx & cons.conf.idx & euribor3m & nr.employed & y\\\\\n",
       "  & <int> & <chr> & <chr> & <chr> & <chr> & <chr> & <chr> & <chr> & <chr> & <chr> & ... & <int> & <int> & <int> & <chr> & <dbl> & <dbl> & <dbl> & <dbl> & <dbl> & <chr>\\\\\n",
       "\\hline\n",
       "\t1 & 56 & housemaid & married & basic.4y    & no      & no  & no  & telephone & may & mon & ... & 1 & 999 & 0 & nonexistent & 1.1 & 93.994 & -36.4 & 4.857 & 5191 & no\\\\\n",
       "\t2 & 57 & services  & married & high.school & unknown & no  & no  & telephone & may & mon & ... & 1 & 999 & 0 & nonexistent & 1.1 & 93.994 & -36.4 & 4.857 & 5191 & no\\\\\n",
       "\t3 & 37 & services  & married & high.school & no      & yes & no  & telephone & may & mon & ... & 1 & 999 & 0 & nonexistent & 1.1 & 93.994 & -36.4 & 4.857 & 5191 & no\\\\\n",
       "\t4 & 40 & admin.    & married & basic.6y    & no      & no  & no  & telephone & may & mon & ... & 1 & 999 & 0 & nonexistent & 1.1 & 93.994 & -36.4 & 4.857 & 5191 & no\\\\\n",
       "\t5 & 56 & services  & married & high.school & no      & no  & yes & telephone & may & mon & ... & 1 & 999 & 0 & nonexistent & 1.1 & 93.994 & -36.4 & 4.857 & 5191 & no\\\\\n",
       "\t6 & 45 & services  & married & basic.9y    & unknown & no  & no  & telephone & may & mon & ... & 1 & 999 & 0 & nonexistent & 1.1 & 93.994 & -36.4 & 4.857 & 5191 & no\\\\\n",
       "\\end{tabular}\n"
      ],
      "text/markdown": [
       "\n",
       "A data.frame: 6 × 21\n",
       "\n",
       "| <!--/--> | age &lt;int&gt; | job &lt;chr&gt; | marital &lt;chr&gt; | education &lt;chr&gt; | default &lt;chr&gt; | housing &lt;chr&gt; | loan &lt;chr&gt; | contact &lt;chr&gt; | month &lt;chr&gt; | day_of_week &lt;chr&gt; | ... ... | campaign &lt;int&gt; | pdays &lt;int&gt; | previous &lt;int&gt; | poutcome &lt;chr&gt; | emp.var.rate &lt;dbl&gt; | cons.price.idx &lt;dbl&gt; | cons.conf.idx &lt;dbl&gt; | euribor3m &lt;dbl&gt; | nr.employed &lt;dbl&gt; | y &lt;chr&gt; |\n",
       "|---|---|---|---|---|---|---|---|---|---|---|---|---|---|---|---|---|---|---|---|---|---|\n",
       "| 1 | 56 | housemaid | married | basic.4y    | no      | no  | no  | telephone | may | mon | ... | 1 | 999 | 0 | nonexistent | 1.1 | 93.994 | -36.4 | 4.857 | 5191 | no |\n",
       "| 2 | 57 | services  | married | high.school | unknown | no  | no  | telephone | may | mon | ... | 1 | 999 | 0 | nonexistent | 1.1 | 93.994 | -36.4 | 4.857 | 5191 | no |\n",
       "| 3 | 37 | services  | married | high.school | no      | yes | no  | telephone | may | mon | ... | 1 | 999 | 0 | nonexistent | 1.1 | 93.994 | -36.4 | 4.857 | 5191 | no |\n",
       "| 4 | 40 | admin.    | married | basic.6y    | no      | no  | no  | telephone | may | mon | ... | 1 | 999 | 0 | nonexistent | 1.1 | 93.994 | -36.4 | 4.857 | 5191 | no |\n",
       "| 5 | 56 | services  | married | high.school | no      | no  | yes | telephone | may | mon | ... | 1 | 999 | 0 | nonexistent | 1.1 | 93.994 | -36.4 | 4.857 | 5191 | no |\n",
       "| 6 | 45 | services  | married | basic.9y    | unknown | no  | no  | telephone | may | mon | ... | 1 | 999 | 0 | nonexistent | 1.1 | 93.994 | -36.4 | 4.857 | 5191 | no |\n",
       "\n"
      ],
      "text/plain": [
       "  age job       marital education   default housing loan contact   month\n",
       "1 56  housemaid married basic.4y    no      no      no   telephone may  \n",
       "2 57  services  married high.school unknown no      no   telephone may  \n",
       "3 37  services  married high.school no      yes     no   telephone may  \n",
       "4 40  admin.    married basic.6y    no      no      no   telephone may  \n",
       "5 56  services  married high.school no      no      yes  telephone may  \n",
       "6 45  services  married basic.9y    unknown no      no   telephone may  \n",
       "  day_of_week ... campaign pdays previous poutcome    emp.var.rate\n",
       "1 mon         ... 1        999   0        nonexistent 1.1         \n",
       "2 mon         ... 1        999   0        nonexistent 1.1         \n",
       "3 mon         ... 1        999   0        nonexistent 1.1         \n",
       "4 mon         ... 1        999   0        nonexistent 1.1         \n",
       "5 mon         ... 1        999   0        nonexistent 1.1         \n",
       "6 mon         ... 1        999   0        nonexistent 1.1         \n",
       "  cons.price.idx cons.conf.idx euribor3m nr.employed y \n",
       "1 93.994         -36.4         4.857     5191        no\n",
       "2 93.994         -36.4         4.857     5191        no\n",
       "3 93.994         -36.4         4.857     5191        no\n",
       "4 93.994         -36.4         4.857     5191        no\n",
       "5 93.994         -36.4         4.857     5191        no\n",
       "6 93.994         -36.4         4.857     5191        no"
      ]
     },
     "metadata": {},
     "output_type": "display_data"
    }
   ],
   "source": [
    "data<-read.csv('https://www.dropbox.com/s/vv0f1k2y5nalpgx/bank-additional-full.csv?dl=1',sep =';' )\n",
    "head(data)"
   ]
  },
  {
   "cell_type": "markdown",
   "metadata": {},
   "source": [
    "Algunas columnas están como caracteres, por lo que estas se cambian a factor, es decir, como variables categóricas."
   ]
  },
  {
   "cell_type": "code",
   "execution_count": 9,
   "metadata": {},
   "outputs": [],
   "source": [
    "data <- data %>% \n",
    "mutate_if(is.character, factor)"
   ]
  },
  {
   "cell_type": "code",
   "execution_count": 10,
   "metadata": {
    "scrolled": true
   },
   "outputs": [
    {
     "data": {
      "text/plain": [
       "      age                 job            marital     \n",
       " Min.   :17.00   admin.     :10422   divorced: 4612  \n",
       " 1st Qu.:32.00   blue-collar: 9254   married :24928  \n",
       " Median :38.00   technician : 6743   single  :11568  \n",
       " Mean   :40.02   services   : 3969   unknown :   80  \n",
       " 3rd Qu.:47.00   management : 2924                   \n",
       " Max.   :98.00   retired    : 1720                   \n",
       "                 (Other)    : 6156                   \n",
       "               education        default         housing           loan      \n",
       " university.degree  :12168   no     :32588   no     :18622   no     :33950  \n",
       " high.school        : 9515   unknown: 8597   unknown:  990   unknown:  990  \n",
       " basic.9y           : 6045   yes    :    3   yes    :21576   yes    : 6248  \n",
       " professional.course: 5243                                                  \n",
       " basic.4y           : 4176                                                  \n",
       " basic.6y           : 2292                                                  \n",
       " (Other)            : 1749                                                  \n",
       "      contact          month       day_of_week    duration     \n",
       " cellular :26144   may    :13769   fri:7827    Min.   :   0.0  \n",
       " telephone:15044   jul    : 7174   mon:8514    1st Qu.: 102.0  \n",
       "                   aug    : 6178   thu:8623    Median : 180.0  \n",
       "                   jun    : 5318   tue:8090    Mean   : 258.3  \n",
       "                   nov    : 4101   wed:8134    3rd Qu.: 319.0  \n",
       "                   apr    : 2632               Max.   :4918.0  \n",
       "                   (Other): 2016                               \n",
       "    campaign          pdays          previous            poutcome    \n",
       " Min.   : 1.000   Min.   :  0.0   Min.   :0.000   failure    : 4252  \n",
       " 1st Qu.: 1.000   1st Qu.:999.0   1st Qu.:0.000   nonexistent:35563  \n",
       " Median : 2.000   Median :999.0   Median :0.000   success    : 1373  \n",
       " Mean   : 2.568   Mean   :962.5   Mean   :0.173                      \n",
       " 3rd Qu.: 3.000   3rd Qu.:999.0   3rd Qu.:0.000                      \n",
       " Max.   :56.000   Max.   :999.0   Max.   :7.000                      \n",
       "                                                                     \n",
       "  emp.var.rate      cons.price.idx  cons.conf.idx     euribor3m    \n",
       " Min.   :-3.40000   Min.   :92.20   Min.   :-50.8   Min.   :0.634  \n",
       " 1st Qu.:-1.80000   1st Qu.:93.08   1st Qu.:-42.7   1st Qu.:1.344  \n",
       " Median : 1.10000   Median :93.75   Median :-41.8   Median :4.857  \n",
       " Mean   : 0.08189   Mean   :93.58   Mean   :-40.5   Mean   :3.621  \n",
       " 3rd Qu.: 1.40000   3rd Qu.:93.99   3rd Qu.:-36.4   3rd Qu.:4.961  \n",
       " Max.   : 1.40000   Max.   :94.77   Max.   :-26.9   Max.   :5.045  \n",
       "                                                                   \n",
       "  nr.employed     y        \n",
       " Min.   :4964   no :36548  \n",
       " 1st Qu.:5099   yes: 4640  \n",
       " Median :5191              \n",
       " Mean   :5167              \n",
       " 3rd Qu.:5228              \n",
       " Max.   :5228              \n",
       "                           "
      ]
     },
     "metadata": {},
     "output_type": "display_data"
    }
   ],
   "source": [
    "summary(data)"
   ]
  },
  {
   "cell_type": "markdown",
   "metadata": {},
   "source": [
    "### Correlación"
   ]
  },
  {
   "cell_type": "markdown",
   "metadata": {},
   "source": [
    "Para mirar la correlación, se seleccionan las variables de tipo numérico."
   ]
  },
  {
   "cell_type": "code",
   "execution_count": 16,
   "metadata": {},
   "outputs": [],
   "source": [
    "info<-data.frame(\n",
    "    edad=data$age,\n",
    "    duracion=data$duration,\n",
    "    camp=data$campaign,\n",
    "    days=data$pdays,\n",
    "    prev=data$previous,\n",
    "    tve=data$emp.var.rate,\n",
    "    ipc=data$cons.price.idx,\n",
    "    icc=data$cons.conf.idx,\n",
    "    euri=data$euribor3m,\n",
    "    nrempl=data$nr.employed\n",
    ")"
   ]
  },
  {
   "cell_type": "code",
   "execution_count": 25,
   "metadata": {},
   "outputs": [
    {
     "data": {
      "image/png": "[encoded data removed]",
      "text/plain": [
       "plot without title"
      ]
     },
     "metadata": {
      "image/png": {
       "height": 720,
       "width": 720
      },
      "text/plain": {
       "height": 720,
       "width": 720
      }
     },
     "output_type": "display_data"
    }
   ],
   "source": [
    "plot(info, cex.main=2.5, cex.axis=1.5, cex.lab=1.5)"
   ]
  },
  {
   "cell_type": "code",
   "execution_count": 20,
   "metadata": {},
   "outputs": [
    {
     "data": {
      "text/plain": [
       "          edad duracion  camp  days  prev   tve   ipc   icc  euri nrempl\n",
       "edad      1.00     0.00  0.00 -0.03  0.02  0.00  0.00  0.13  0.01  -0.02\n",
       "duracion  0.00     1.00 -0.07 -0.05  0.02 -0.03  0.01 -0.01 -0.03  -0.04\n",
       "camp      0.00    -0.07  1.00  0.05 -0.08  0.15  0.13 -0.01  0.14   0.14\n",
       "days     -0.03    -0.05  0.05  1.00 -0.59  0.27  0.08 -0.09  0.30   0.37\n",
       "prev      0.02     0.02 -0.08 -0.59  1.00 -0.42 -0.20 -0.05 -0.45  -0.50\n",
       "tve       0.00    -0.03  0.15  0.27 -0.42  1.00  0.78  0.20  0.97   0.91\n",
       "ipc       0.00     0.01  0.13  0.08 -0.20  0.78  1.00  0.06  0.69   0.52\n",
       "icc       0.13    -0.01 -0.01 -0.09 -0.05  0.20  0.06  1.00  0.28   0.10\n",
       "euri      0.01    -0.03  0.14  0.30 -0.45  0.97  0.69  0.28  1.00   0.95\n",
       "nrempl   -0.02    -0.04  0.14  0.37 -0.50  0.91  0.52  0.10  0.95   1.00\n",
       "\n",
       "n= 41188 \n",
       "\n",
       "\n",
       "P\n",
       "         edad   duracion camp   days   prev   tve    ipc    icc    euri  \n",
       "edad            0.8605   0.3512 0.0000 0.0000 0.9400 0.8620 0.0000 0.0289\n",
       "duracion 0.8605          0.0000 0.0000 0.0000 0.0000 0.2810 0.0972 0.0000\n",
       "camp     0.3512 0.0000          0.0000 0.0000 0.0000 0.0000 0.0053 0.0000\n",
       "days     0.0000 0.0000   0.0000        0.0000 0.0000 0.0000 0.0000 0.0000\n",
       "prev     0.0000 0.0000   0.0000 0.0000        0.0000 0.0000 0.0000 0.0000\n",
       "tve      0.9400 0.0000   0.0000 0.0000 0.0000        0.0000 0.0000 0.0000\n",
       "ipc      0.8620 0.2810   0.0000 0.0000 0.0000 0.0000        0.0000 0.0000\n",
       "icc      0.0000 0.0972   0.0053 0.0000 0.0000 0.0000 0.0000        0.0000\n",
       "euri     0.0289 0.0000   0.0000 0.0000 0.0000 0.0000 0.0000 0.0000       \n",
       "nrempl   0.0003 0.0000   0.0000 0.0000 0.0000 0.0000 0.0000 0.0000 0.0000\n",
       "         nrempl\n",
       "edad     0.0003\n",
       "duracion 0.0000\n",
       "camp     0.0000\n",
       "days     0.0000\n",
       "prev     0.0000\n",
       "tve      0.0000\n",
       "ipc      0.0000\n",
       "icc      0.0000\n",
       "euri     0.0000\n",
       "nrempl         "
      ]
     },
     "metadata": {},
     "output_type": "display_data"
    }
   ],
   "source": [
    "corr.rel<-rcorr(as.matrix(info))\n",
    "corr.rel"
   ]
  },
  {
   "cell_type": "code",
   "execution_count": 22,
   "metadata": {},
   "outputs": [
    {
     "data": {
      "image/png": "[encoded data removed]",
      "text/plain": [
       "Plot with title \"\""
      ]
     },
     "metadata": {
      "image/png": {
       "height": 420,
       "width": 420
      },
      "text/plain": {
       "height": 420,
       "width": 420
      }
     },
     "output_type": "display_data"
    }
   ],
   "source": [
    "M <- corr.rel$r\n",
    "p_mat <- corr.rel$P\n",
    "corrplot(M, order = \"hclust\", p.mat = p_mat, sig.level = 0.05)"
   ]
  },
  {
   "cell_type": "markdown",
   "metadata": {},
   "source": [
    "Después de analizar los resultados obtenidos por correlación tanto en la matriz como en la gráfica presentada, se observan los valores que no tienen nada de correlación estadísticamente significativa, debido a la prueba de hipótesis considerando un $\\alpha=0.05$; además, en general se presenta poca correlación entre las variables. Sin embargo, existe un grupo particular de variables que sí presentan una correlación destacable."
   ]
  },
  {
   "cell_type": "markdown",
   "metadata": {},
   "source": [
    "### Modelos Lineales"
   ]
  },
  {
   "cell_type": "markdown",
   "metadata": {},
   "source": [
    "En la gráfica se puede observar una alta y notoria correlación entre las variables **ipc**, **nrempl**, **tve** y **euri**. Teniendo en cuenta lo anterior, se puede intentar plantear un modelo lineal; sin embargo, las variables que pueden ser dependientes son **ipc**, **tve** y **euri** debido a que son continuas, mientras que **nrempl** es discreta."
   ]
  },
  {
   "cell_type": "markdown",
   "metadata": {},
   "source": [
    "Primeramente, se toma como variable dependiente **euri** para analizar el modelo lineal y determinar si cumple con los supuestos."
   ]
  },
  {
   "cell_type": "markdown",
   "metadata": {},
   "source": [
    "#### Variable Euri"
   ]
  },
  {
   "cell_type": "markdown",
   "metadata": {},
   "source": [
    "Se inspecciona inicialmente un modelo con todas las variables para tener una idea general."
   ]
  },
  {
   "cell_type": "code",
   "execution_count": 52,
   "metadata": {},
   "outputs": [
    {
     "data": {
      "text/plain": [
       "\n",
       "Call:\n",
       "lm(formula = euri ~ ., data = info)\n",
       "\n",
       "Residuals:\n",
       "     Min       1Q   Median       3Q      Max \n",
       "-0.57888 -0.17510  0.00259  0.13971  1.04407 \n",
       "\n",
       "Coefficients:\n",
       "              Estimate Std. Error  t value Pr(>|t|)    \n",
       "(Intercept) -9.220e+01  6.275e-01 -146.945  < 2e-16 ***\n",
       "edad         2.916e-04  1.032e-04    2.825  0.00472 ** \n",
       "duracion     9.026e-06  4.129e-06    2.186  0.02881 *  \n",
       "camp        -6.600e-03  3.906e-04  -16.897  < 2e-16 ***\n",
       "days         1.917e-05  7.243e-06    2.646  0.00814 ** \n",
       "prev         3.716e-03  2.886e-03    1.288  0.19780    \n",
       "tve          4.117e-01  3.331e-03  123.600  < 2e-16 ***\n",
       "ipc          3.377e-01  4.325e-03   78.085  < 2e-16 ***\n",
       "icc          5.398e-02  2.640e-04  204.500  < 2e-16 ***\n",
       "nrempl       1.284e-02  5.370e-05  239.169  < 2e-16 ***\n",
       "---\n",
       "Signif. codes:  0 '***' 0.001 '**' 0.01 '*' 0.05 '.' 0.1 ' ' 1\n",
       "\n",
       "Residual standard error: 0.2162 on 41178 degrees of freedom\n",
       "Multiple R-squared:  0.9845,\tAdjusted R-squared:  0.9845 \n",
       "F-statistic: 2.898e+05 on 9 and 41178 DF,  p-value: < 2.2e-16\n"
      ]
     },
     "metadata": {},
     "output_type": "display_data"
    }
   ],
   "source": [
    "lm.comp.euri <- lm(euri ~ . , data = info)\n",
    "summary(lm.comp.euri)"
   ]
  },
  {
   "cell_type": "markdown",
   "metadata": {},
   "source": [
    "De lo anterior, se puede observar que las variables más significativas para el modelo son camp, tve, ipc, icc, y nrempl. Además, con la prueba F se observa que el modelo está bien definido."
   ]
  },
  {
   "cell_type": "markdown",
   "metadata": {},
   "source": [
    "Por lo anterior, se seleccionan algunas de las variables anteriormente mencionadas para ver si se obtiene un mejor modelo."
   ]
  },
  {
   "cell_type": "code",
   "execution_count": 81,
   "metadata": {},
   "outputs": [
    {
     "data": {
      "text/plain": [
       "\n",
       "Call:\n",
       "lm(formula = euri ~ tve + ipc + icc + nrempl, data = info)\n",
       "\n",
       "Residuals:\n",
       "     Min       1Q   Median       3Q      Max \n",
       "-0.55872 -0.17570  0.01434  0.14733  1.04944 \n",
       "\n",
       "Coefficients:\n",
       "              Estimate Std. Error t value Pr(>|t|)    \n",
       "(Intercept) -9.189e+01  6.259e-01 -146.80   <2e-16 ***\n",
       "tve          4.113e-01  3.338e-03  123.23   <2e-16 ***\n",
       "ipc          3.354e-01  4.331e-03   77.44   <2e-16 ***\n",
       "icc          5.409e-02  2.600e-04  208.03   <2e-16 ***\n",
       "nrempl       1.283e-02  5.236e-05  244.97   <2e-16 ***\n",
       "---\n",
       "Signif. codes:  0 '***' 0.001 '**' 0.01 '*' 0.05 '.' 0.1 ' ' 1\n",
       "\n",
       "Residual standard error: 0.217 on 41183 degrees of freedom\n",
       "Multiple R-squared:  0.9843,\tAdjusted R-squared:  0.9843 \n",
       "F-statistic: 6.473e+05 on 4 and 41183 DF,  p-value: < 2.2e-16\n"
      ]
     },
     "metadata": {},
     "output_type": "display_data"
    }
   ],
   "source": [
    "lm2.euri <- lm(euri ~ tve+ipc+icc+nrempl, data = info)\n",
    "summary(lm2.euri)"
   ]
  },
  {
   "cell_type": "markdown",
   "metadata": {},
   "source": [
    "Ahora, para comparar los dos modelos se utiliza el AIC y el BIC"
   ]
  },
  {
   "cell_type": "code",
   "execution_count": 82,
   "metadata": {},
   "outputs": [
    {
     "data": {
      "text/html": [
       "<table>\n",
       "<caption>A data.frame: 2 × 2</caption>\n",
       "<thead>\n",
       "\t<tr><th></th><th scope=col>df</th><th scope=col>AIC</th></tr>\n",
       "\t<tr><th></th><th scope=col>&lt;dbl&gt;</th><th scope=col>&lt;dbl&gt;</th></tr>\n",
       "</thead>\n",
       "<tbody>\n",
       "\t<tr><th scope=row>lm.comp.euri</th><td>11</td><td>-9249.906</td></tr>\n",
       "\t<tr><th scope=row>lm2.euri</th><td> 6</td><td>-8950.391</td></tr>\n",
       "</tbody>\n",
       "</table>\n"
      ],
      "text/latex": [
       "A data.frame: 2 × 2\n",
       "\\begin{tabular}{r|ll}\n",
       "  & df & AIC\\\\\n",
       "  & <dbl> & <dbl>\\\\\n",
       "\\hline\n",
       "\tlm.comp.euri & 11 & -9249.906\\\\\n",
       "\tlm2.euri &  6 & -8950.391\\\\\n",
       "\\end{tabular}\n"
      ],
      "text/markdown": [
       "\n",
       "A data.frame: 2 × 2\n",
       "\n",
       "| <!--/--> | df &lt;dbl&gt; | AIC &lt;dbl&gt; |\n",
       "|---|---|---|\n",
       "| lm.comp.euri | 11 | -9249.906 |\n",
       "| lm2.euri |  6 | -8950.391 |\n",
       "\n"
      ],
      "text/plain": [
       "             df AIC      \n",
       "lm.comp.euri 11 -9249.906\n",
       "lm2.euri      6 -8950.391"
      ]
     },
     "metadata": {},
     "output_type": "display_data"
    },
    {
     "data": {
      "text/html": [
       "<table>\n",
       "<caption>A data.frame: 2 × 2</caption>\n",
       "<thead>\n",
       "\t<tr><th></th><th scope=col>df</th><th scope=col>BIC</th></tr>\n",
       "\t<tr><th></th><th scope=col>&lt;dbl&gt;</th><th scope=col>&lt;dbl&gt;</th></tr>\n",
       "</thead>\n",
       "<tbody>\n",
       "\t<tr><th scope=row>lm.comp.euri</th><td>11</td><td>-9155.021</td></tr>\n",
       "\t<tr><th scope=row>lm2.euri</th><td> 6</td><td>-8898.636</td></tr>\n",
       "</tbody>\n",
       "</table>\n"
      ],
      "text/latex": [
       "A data.frame: 2 × 2\n",
       "\\begin{tabular}{r|ll}\n",
       "  & df & BIC\\\\\n",
       "  & <dbl> & <dbl>\\\\\n",
       "\\hline\n",
       "\tlm.comp.euri & 11 & -9155.021\\\\\n",
       "\tlm2.euri &  6 & -8898.636\\\\\n",
       "\\end{tabular}\n"
      ],
      "text/markdown": [
       "\n",
       "A data.frame: 2 × 2\n",
       "\n",
       "| <!--/--> | df &lt;dbl&gt; | BIC &lt;dbl&gt; |\n",
       "|---|---|---|\n",
       "| lm.comp.euri | 11 | -9155.021 |\n",
       "| lm2.euri |  6 | -8898.636 |\n",
       "\n"
      ],
      "text/plain": [
       "             df BIC      \n",
       "lm.comp.euri 11 -9155.021\n",
       "lm2.euri      6 -8898.636"
      ]
     },
     "metadata": {},
     "output_type": "display_data"
    }
   ],
   "source": [
    "AIC(lm.comp.euri,lm2.euri)\n",
    "BIC(lm.comp.euri,lm2.euri)"
   ]
  },
  {
   "cell_type": "markdown",
   "metadata": {},
   "source": [
    "Los resultados obtenidos muestran que el modelo obtenido con todas las variables es mejor que el segundo modelo lineal propuesto. Ahora veamos la forma \"óptima\" del modelo."
   ]
  },
  {
   "cell_type": "code",
   "execution_count": 69,
   "metadata": {},
   "outputs": [
    {
     "name": "stdout",
     "output_type": "stream",
     "text": [
      "Start:  AIC=-126138.4\n",
      "euri ~ edad + duracion + camp + days + prev + tve + ipc + icc + \n",
      "    nrempl\n",
      "\n",
      "           Df Sum of Sq    RSS     AIC\n",
      "- prev      1      0.08 1925.5 -126139\n",
      "<none>                  1925.4 -126138\n",
      "- duracion  1      0.22 1925.7 -126136\n",
      "- days      1      0.33 1925.8 -126133\n",
      "- edad      1      0.37 1925.8 -126132\n",
      "- camp      1     13.35 1938.8 -125856\n",
      "- ipc       1    285.10 2210.5 -120453\n",
      "- tve       1    714.34 2639.8 -113144\n",
      "- icc       1   1955.47 3880.9  -97271\n",
      "- nrempl    1   2674.71 4600.2  -90268\n",
      "\n",
      "Step:  AIC=-126138.7\n",
      "euri ~ edad + duracion + camp + days + tve + ipc + icc + nrempl\n",
      "\n",
      "           Df Sum of Sq    RSS     AIC\n",
      "<none>                  1925.5 -126139\n",
      "- duracion  1      0.22 1925.7 -126136\n",
      "- days      1      0.25 1925.8 -126135\n",
      "- edad      1      0.38 1925.9 -126133\n",
      "- camp      1     13.38 1938.9 -125855\n",
      "- ipc       1    285.15 2210.7 -120453\n",
      "- tve       1    716.71 2642.2 -113108\n",
      "- icc       1   1971.31 3896.8  -97105\n",
      "- nrempl    1   2742.41 4667.9  -89668\n"
     ]
    },
    {
     "data": {
      "text/plain": [
       "\n",
       "Call:\n",
       "lm(formula = euri ~ edad + duracion + camp + days + tve + ipc + \n",
       "    icc + nrempl, data = info)\n",
       "\n",
       "Coefficients:\n",
       "(Intercept)         edad     duracion         camp         days          tve  \n",
       " -9.212e+01    2.935e-04    8.900e-06   -6.608e-03    1.451e-05    4.119e-01  \n",
       "        ipc          icc       nrempl  \n",
       "  3.375e-01    5.395e-02    1.283e-02  \n"
      ]
     },
     "metadata": {},
     "output_type": "display_data"
    }
   ],
   "source": [
    "step(lm.comp.euri)"
   ]
  },
  {
   "cell_type": "code",
   "execution_count": 70,
   "metadata": {},
   "outputs": [
    {
     "data": {
      "text/plain": [
       "\n",
       "Call:\n",
       "lm(formula = euri ~ edad + duracion + camp + days + tve + ipc + \n",
       "    icc + nrempl, data = info)\n",
       "\n",
       "Residuals:\n",
       "     Min       1Q   Median       3Q      Max \n",
       "-0.57783 -0.17512  0.00253  0.13950  1.04399 \n",
       "\n",
       "Coefficients:\n",
       "              Estimate Std. Error  t value Pr(>|t|)    \n",
       "(Intercept) -9.212e+01  6.243e-01 -147.564  < 2e-16 ***\n",
       "edad         2.935e-04  1.032e-04    2.845  0.00445 ** \n",
       "duracion     8.900e-06  4.127e-06    2.156  0.03107 *  \n",
       "camp        -6.608e-03  3.906e-04  -16.918  < 2e-16 ***\n",
       "days         1.451e-05  6.277e-06    2.312  0.02077 *  \n",
       "tve          4.119e-01  3.327e-03  123.804  < 2e-16 ***\n",
       "ipc          3.375e-01  4.322e-03   78.091  < 2e-16 ***\n",
       "icc          5.395e-02  2.627e-04  205.324  < 2e-16 ***\n",
       "nrempl       1.283e-02  5.298e-05  242.175  < 2e-16 ***\n",
       "---\n",
       "Signif. codes:  0 '***' 0.001 '**' 0.01 '*' 0.05 '.' 0.1 ' ' 1\n",
       "\n",
       "Residual standard error: 0.2162 on 41179 degrees of freedom\n",
       "Multiple R-squared:  0.9845,\tAdjusted R-squared:  0.9845 \n",
       "F-statistic: 3.261e+05 on 8 and 41179 DF,  p-value: < 2.2e-16\n"
      ]
     },
     "metadata": {},
     "output_type": "display_data"
    }
   ],
   "source": [
    "lm.opt.euri <- lm(formula = euri ~ edad + duracion + camp + days + tve + ipc + icc + nrempl, data = info)\n",
    "summary(lm.opt.euri)"
   ]
  },
  {
   "cell_type": "markdown",
   "metadata": {},
   "source": [
    "Por prueba de hipótesis relacionada con F, el modelo está bien establecido.\n",
    "Ahora comparemos el modelo con los dos anteriores."
   ]
  },
  {
   "cell_type": "code",
   "execution_count": 71,
   "metadata": {},
   "outputs": [
    {
     "data": {
      "text/html": [
       "<table>\n",
       "<caption>A data.frame: 3 × 2</caption>\n",
       "<thead>\n",
       "\t<tr><th></th><th scope=col>df</th><th scope=col>AIC</th></tr>\n",
       "\t<tr><th></th><th scope=col>&lt;dbl&gt;</th><th scope=col>&lt;dbl&gt;</th></tr>\n",
       "</thead>\n",
       "<tbody>\n",
       "\t<tr><th scope=row>lm.comp.euri</th><td>11</td><td>-9249.906</td></tr>\n",
       "\t<tr><th scope=row>lm2.euri</th><td> 6</td><td>-8950.391</td></tr>\n",
       "\t<tr><th scope=row>lm.opt.euri</th><td>10</td><td>-9250.247</td></tr>\n",
       "</tbody>\n",
       "</table>\n"
      ],
      "text/latex": [
       "A data.frame: 3 × 2\n",
       "\\begin{tabular}{r|ll}\n",
       "  & df & AIC\\\\\n",
       "  & <dbl> & <dbl>\\\\\n",
       "\\hline\n",
       "\tlm.comp.euri & 11 & -9249.906\\\\\n",
       "\tlm2.euri &  6 & -8950.391\\\\\n",
       "\tlm.opt.euri & 10 & -9250.247\\\\\n",
       "\\end{tabular}\n"
      ],
      "text/markdown": [
       "\n",
       "A data.frame: 3 × 2\n",
       "\n",
       "| <!--/--> | df &lt;dbl&gt; | AIC &lt;dbl&gt; |\n",
       "|---|---|---|\n",
       "| lm.comp.euri | 11 | -9249.906 |\n",
       "| lm2.euri |  6 | -8950.391 |\n",
       "| lm.opt.euri | 10 | -9250.247 |\n",
       "\n"
      ],
      "text/plain": [
       "             df AIC      \n",
       "lm.comp.euri 11 -9249.906\n",
       "lm2.euri      6 -8950.391\n",
       "lm.opt.euri  10 -9250.247"
      ]
     },
     "metadata": {},
     "output_type": "display_data"
    },
    {
     "data": {
      "text/html": [
       "<table>\n",
       "<caption>A data.frame: 3 × 2</caption>\n",
       "<thead>\n",
       "\t<tr><th></th><th scope=col>df</th><th scope=col>BIC</th></tr>\n",
       "\t<tr><th></th><th scope=col>&lt;dbl&gt;</th><th scope=col>&lt;dbl&gt;</th></tr>\n",
       "</thead>\n",
       "<tbody>\n",
       "\t<tr><th scope=row>lm.comp.euri</th><td>11</td><td>-9155.021</td></tr>\n",
       "\t<tr><th scope=row>lm2.euri</th><td> 6</td><td>-8898.636</td></tr>\n",
       "\t<tr><th scope=row>lm.opt.euri</th><td>10</td><td>-9163.988</td></tr>\n",
       "</tbody>\n",
       "</table>\n"
      ],
      "text/latex": [
       "A data.frame: 3 × 2\n",
       "\\begin{tabular}{r|ll}\n",
       "  & df & BIC\\\\\n",
       "  & <dbl> & <dbl>\\\\\n",
       "\\hline\n",
       "\tlm.comp.euri & 11 & -9155.021\\\\\n",
       "\tlm2.euri &  6 & -8898.636\\\\\n",
       "\tlm.opt.euri & 10 & -9163.988\\\\\n",
       "\\end{tabular}\n"
      ],
      "text/markdown": [
       "\n",
       "A data.frame: 3 × 2\n",
       "\n",
       "| <!--/--> | df &lt;dbl&gt; | BIC &lt;dbl&gt; |\n",
       "|---|---|---|\n",
       "| lm.comp.euri | 11 | -9155.021 |\n",
       "| lm2.euri |  6 | -8898.636 |\n",
       "| lm.opt.euri | 10 | -9163.988 |\n",
       "\n"
      ],
      "text/plain": [
       "             df BIC      \n",
       "lm.comp.euri 11 -9155.021\n",
       "lm2.euri      6 -8898.636\n",
       "lm.opt.euri  10 -9163.988"
      ]
     },
     "metadata": {},
     "output_type": "display_data"
    }
   ],
   "source": [
    "AIC(lm.comp.euri,lm2.euri,lm.opt.euri)\n",
    "BIC(lm.comp.euri,lm2.euri,lm.opt.euri)"
   ]
  },
  {
   "cell_type": "markdown",
   "metadata": {},
   "source": [
    "Como se puede observar, el modelo óptimo mejora respecto a los otros dos modelos planteados, de acuerdo a los valores de AIC y BIC obtenidos."
   ]
  },
  {
   "cell_type": "markdown",
   "metadata": {},
   "source": [
    "##### Test para modelo \"óptimo\""
   ]
  },
  {
   "cell_type": "code",
   "execution_count": 76,
   "metadata": {
    "scrolled": false
   },
   "outputs": [
    {
     "data": {
      "image/png": "[encoded data removed]",
      "text/plain": [
       "Plot with title \"\""
      ]
     },
     "metadata": {
      "image/png": {
       "height": 720,
       "width": 720
      },
      "text/plain": {
       "height": 720,
       "width": 720
      }
     },
     "output_type": "display_data"
    }
   ],
   "source": [
    "par(mfrow = c(2,2))\n",
    "plot(lm.opt.euri)"
   ]
  },
  {
   "cell_type": "markdown",
   "metadata": {},
   "source": [
    "Para la linealidad, que se hace por inspección gráfica, se observa que no está definido un comportamiento lineal. Además, en cuanto a la segunda gráfica con la que se analiza el comportamiento normal, muy posiblemente tampoco se presente el mismo. Esto se verificará con los test, así como los demás supuestos."
   ]
  },
  {
   "cell_type": "code",
   "execution_count": 92,
   "metadata": {
    "scrolled": true
   },
   "outputs": [
    {
     "data": {
      "image/png": "[encoded data removed]",
      "text/plain": [
       "Plot with title \"Histograma\""
      ]
     },
     "metadata": {
      "image/png": {
       "height": 720,
       "width": 720
      },
      "text/plain": {
       "height": 720,
       "width": 720
      }
     },
     "output_type": "display_data"
    }
   ],
   "source": [
    "#Otra forma gráfica de ver el supuesto normal\n",
    "# El histograma y superponer una densidad normal para los residuos estandarizados o estudentizados\n",
    "r<-rstandard(lm.opt.euri)\n",
    "hist(r,prob=T,xlim=c(-3,3),xlab=\"Res.estudentizados\",main=\"Histograma\")\n",
    "lines(xseq<-seq(-3,3,length=100), dnorm(xseq,mean(r),sd(r)),\n",
    "      col = 'red')\n",
    "par(opar)"
   ]
  },
  {
   "cell_type": "markdown",
   "metadata": {},
   "source": [
    "Asimismo, con el histograma no parece muy claro que exista el suficiente comportamiento normal."
   ]
  },
  {
   "cell_type": "markdown",
   "metadata": {},
   "source": [
    "Para el supuesto de homocedasticidad:\n",
    "\n",
    "$$\n",
    "H_{0} : \\text{El modelo es Homocedástico}\\\\\n",
    "H_{1} : \\text{El modelo es Heterocedástico}\n",
    "$$"
   ]
  },
  {
   "cell_type": "code",
   "execution_count": 93,
   "metadata": {},
   "outputs": [
    {
     "data": {
      "text/plain": [
       "\n",
       "\tstudentized Breusch-Pagan test\n",
       "\n",
       "data:  lm.opt.euri\n",
       "BP = 2080.4, df = 8, p-value < 2.2e-16\n"
      ]
     },
     "metadata": {},
     "output_type": "display_data"
    }
   ],
   "source": [
    "# Homocedasticidad\n",
    "bptest(lm.opt.euri)"
   ]
  },
  {
   "cell_type": "markdown",
   "metadata": {},
   "source": [
    "Por prueba de hipótesis para homocedasticidad, se concluye que es heterocedástico."
   ]
  },
  {
   "cell_type": "markdown",
   "metadata": {},
   "source": [
    "Para el supuesto de incorrelación:\n",
    "\n",
    "$$\n",
    "H_{0} : \\text{Existe incorrelación }\\\\\n",
    "H_{1} : \\text{Existe autocorrelación}\n",
    "$$"
   ]
  },
  {
   "cell_type": "code",
   "execution_count": 94,
   "metadata": {},
   "outputs": [
    {
     "data": {
      "text/plain": [
       "\n",
       "\tDurbin-Watson test\n",
       "\n",
       "data:  lm.opt.euri\n",
       "DW = 0.014179, p-value < 2.2e-16\n",
       "alternative hypothesis: true autocorrelation is greater than 0\n"
      ]
     },
     "metadata": {},
     "output_type": "display_data"
    }
   ],
   "source": [
    "# Incorrelacion\n",
    "dwtest(lm.opt.euri)"
   ]
  },
  {
   "cell_type": "markdown",
   "metadata": {},
   "source": [
    "En este test, se evidencia que existe autocorrelación, debido a la prueba de hipótesis correspondiente."
   ]
  },
  {
   "cell_type": "code",
   "execution_count": 95,
   "metadata": {},
   "outputs": [
    {
     "name": "stderr",
     "output_type": "stream",
     "text": [
      "Warning message in ks.test(residuals(lm.opt.euri), pnorm, mean(r), sd(r)):\n",
      "\"ties should not be present for the Kolmogorov-Smirnov test\"\n"
     ]
    },
    {
     "data": {
      "text/plain": [
       "\n",
       "\tOne-sample Kolmogorov-Smirnov test\n",
       "\n",
       "data:  residuals(lm.opt.euri)\n",
       "D = 0.34088, p-value < 2.2e-16\n",
       "alternative hypothesis: two-sided\n"
      ]
     },
     "metadata": {},
     "output_type": "display_data"
    }
   ],
   "source": [
    "r<-rstandard(lm.opt.euri)\n",
    "# Normalidad\n",
    "ks.test(residuals(lm.opt.euri),pnorm,mean(r),sd(r))"
   ]
  },
  {
   "cell_type": "markdown",
   "metadata": {},
   "source": [
    "Los residuales no presentan un comportamiento normal, por la prueba de hipótesis correspondiente."
   ]
  },
  {
   "cell_type": "markdown",
   "metadata": {},
   "source": [
    "La prueba de Análisis de la Varianza (ANOVA) tiene como base las hipótesis:\n",
    "\n",
    "$$\n",
    "H_{0}: \\sigma^{2} = 0 \\\\\n",
    "H_{1}: \\sigma^{2} \\neq 0\n",
    "$$\n"
   ]
  },
  {
   "cell_type": "code",
   "execution_count": 96,
   "metadata": {},
   "outputs": [
    {
     "data": {
      "text/plain": [
       "               Df Sum Sq Mean Sq   F value Pr(>F)    \n",
       "edad            1     14      14     307.2 <2e-16 ***\n",
       "duracion        1    134     134    2865.9 <2e-16 ***\n",
       "camp            1   2194    2194   46920.6 <2e-16 ***\n",
       "days            1  10419   10419  222812.7 <2e-16 ***\n",
       "tve             1 104549  104549 2235873.0 <2e-16 ***\n",
       "ipc             1   1196    1196   25583.0 <2e-16 ***\n",
       "icc             1    729     729   15586.1 <2e-16 ***\n",
       "nrempl          1   2742    2742   58648.9 <2e-16 ***\n",
       "Residuals   41179   1926       0                     \n",
       "---\n",
       "Signif. codes:  0 '***' 0.001 '**' 0.01 '*' 0.05 '.' 0.1 ' ' 1"
      ]
     },
     "metadata": {},
     "output_type": "display_data"
    }
   ],
   "source": [
    "#ANOVA\n",
    "summary(aov(lm.opt.euri))"
   ]
  },
  {
   "cell_type": "markdown",
   "metadata": {},
   "source": [
    "Aunque todas las variables presentan significancia en el modelo, se puede concluir que este no se ajusta a los datos por lo que no sirve. Deberían explorarse otros tipos de modelos ya que no se aprecia alguna forma de transformar los datos tal que se ajusten a un modelo lineal."
   ]
  },
  {
   "cell_type": "markdown",
   "metadata": {},
   "source": [
    "A continuación, se detallan posibles modelos lineales \"óptimos\" considerando como variables dependientes a **ipc** y **tve** respectivamente. Aún así, muy seguramente tampoco se ajusten los modelos lineales debido a la misma situación mostrada anteriormente."
   ]
  },
  {
   "cell_type": "markdown",
   "metadata": {},
   "source": [
    "#### Variable ipc"
   ]
  },
  {
   "cell_type": "code",
   "execution_count": 97,
   "metadata": {},
   "outputs": [
    {
     "name": "stdout",
     "output_type": "stream",
     "text": [
      "Start:  AIC=-121076.2\n",
      "ipc ~ edad + duracion + camp + days + prev + tve + icc + euri + \n",
      "    nrempl\n",
      "\n",
      "           Df Sum of Sq    RSS     AIC\n",
      "<none>                  2177.2 -121076\n",
      "- duracion  1      0.11 2177.4 -121076\n",
      "- edad      1      0.14 2177.4 -121076\n",
      "- prev      1      3.02 2180.3 -121021\n",
      "- camp      1      6.47 2183.7 -120956\n",
      "- days      1      7.81 2185.1 -120931\n",
      "- euri      1    322.39 2499.6 -115391\n",
      "- tve       1    728.86 2906.1 -109185\n",
      "- icc       1    763.93 2941.2 -108691\n",
      "- nrempl    1   2095.59 4272.8  -93309\n"
     ]
    },
    {
     "data": {
      "text/plain": [
       "\n",
       "Call:\n",
       "lm(formula = ipc ~ edad + duracion + camp + days + prev + tve + \n",
       "    icc + euri + nrempl, data = info)\n",
       "\n",
       "Coefficients:\n",
       "(Intercept)         edad     duracion         camp         days         prev  \n",
       "  1.554e+02    1.770e-04    6.306e-06    4.602e-03   -9.347e-05   -2.319e-02  \n",
       "        tve          icc         euri       nrempl  \n",
       "  4.215e-01   -4.121e-02    3.819e-01   -1.254e-02  \n"
      ]
     },
     "metadata": {},
     "output_type": "display_data"
    }
   ],
   "source": [
    "step(lm(ipc ~ ., data = info))"
   ]
  },
  {
   "cell_type": "code",
   "execution_count": 98,
   "metadata": {},
   "outputs": [
    {
     "data": {
      "text/plain": [
       "\n",
       "Call:\n",
       "lm(formula = ipc ~ edad + duracion + camp + days + prev + tve + \n",
       "    icc + euri + nrempl, data = info)\n",
       "\n",
       "Residuals:\n",
       "     Min       1Q   Median       3Q      Max \n",
       "-0.87184 -0.11080 -0.04452  0.00354  0.58235 \n",
       "\n",
       "Coefficients:\n",
       "              Estimate Std. Error  t value Pr(>|t|)    \n",
       "(Intercept)  1.554e+02  3.040e-01  511.050   <2e-16 ***\n",
       "edad         1.770e-04  1.097e-04    1.613    0.107    \n",
       "duracion     6.306e-06  4.390e-06    1.436    0.151    \n",
       "camp         4.602e-03  4.162e-04   11.058   <2e-16 ***\n",
       "days        -9.347e-05  7.689e-06  -12.156   <2e-16 ***\n",
       "prev        -2.319e-02  3.067e-03   -7.564    4e-14 ***\n",
       "tve          4.215e-01  3.590e-03  117.409   <2e-16 ***\n",
       "icc         -4.121e-02  3.429e-04 -120.201   <2e-16 ***\n",
       "euri         3.819e-01  4.891e-03   78.085   <2e-16 ***\n",
       "nrempl      -1.254e-02  6.300e-05 -199.082   <2e-16 ***\n",
       "---\n",
       "Signif. codes:  0 '***' 0.001 '**' 0.01 '*' 0.05 '.' 0.1 ' ' 1\n",
       "\n",
       "Residual standard error: 0.2299 on 41178 degrees of freedom\n",
       "Multiple R-squared:  0.8422,\tAdjusted R-squared:  0.8422 \n",
       "F-statistic: 2.442e+04 on 9 and 41178 DF,  p-value: < 2.2e-16\n"
      ]
     },
     "metadata": {},
     "output_type": "display_data"
    }
   ],
   "source": [
    "fit.opt.ipc <- lm(formula = ipc ~ edad + duracion + camp + days + prev + tve + icc + euri + nrempl, data = info)\n",
    "summary(fit.opt.ipc)"
   ]
  },
  {
   "cell_type": "markdown",
   "metadata": {},
   "source": [
    "A partir de esto, se observa que la mayoria de las variables son importantes y por prueba de hipótesis se puede observar, tomando los datos de la ultima columna **pr**, que todas las variables excepto edad y duración son significativas ya que son menores a nuestro $\\alpha=0.05$."
   ]
  },
  {
   "cell_type": "markdown",
   "metadata": {},
   "source": [
    "##### Test ipc"
   ]
  },
  {
   "cell_type": "code",
   "execution_count": 99,
   "metadata": {},
   "outputs": [
    {
     "data": {
      "image/png": "[encoded data removed]",
      "text/plain": [
       "Plot with title \"\""
      ]
     },
     "metadata": {
      "image/png": {
       "height": 720,
       "width": 720
      },
      "text/plain": {
       "height": 720,
       "width": 720
      }
     },
     "output_type": "display_data"
    }
   ],
   "source": [
    "par(mfrow = c(2,2))\n",
    "plot(fit.opt.ipc) "
   ]
  },
  {
   "cell_type": "markdown",
   "metadata": {},
   "source": [
    "Observando los gráficos, no se detalla un comportamiento lineal, además, en la segunda gráfica se ve que no se aproxima a la distribución normal. Sin embargo, se hará el test para validarlo numéricamente. "
   ]
  },
  {
   "cell_type": "markdown",
   "metadata": {},
   "source": [
    "Pruebas de los supuestos del modelo"
   ]
  },
  {
   "cell_type": "code",
   "execution_count": 100,
   "metadata": {
    "scrolled": true
   },
   "outputs": [
    {
     "data": {
      "text/plain": [
       "\n",
       "\tstudentized Breusch-Pagan test\n",
       "\n",
       "data:  fit.opt.ipc\n",
       "BP = 2754.3, df = 9, p-value < 2.2e-16\n"
      ]
     },
     "metadata": {},
     "output_type": "display_data"
    }
   ],
   "source": [
    "# Homocedasticidad\n",
    "bptest(fit.opt.ipc)"
   ]
  },
  {
   "cell_type": "markdown",
   "metadata": {},
   "source": [
    "Por prueba de hipótesis, se puede ver que hay incumplimiento de homocedasticidad debido a que p-value es menor que la zona de rechazo $\\alpha=0.05$. Por lo tanto, hay heterocedasticidad."
   ]
  },
  {
   "cell_type": "code",
   "execution_count": 101,
   "metadata": {
    "scrolled": true
   },
   "outputs": [
    {
     "data": {
      "text/plain": [
       "\n",
       "\tDurbin-Watson test\n",
       "\n",
       "data:  fit.opt.ipc\n",
       "DW = 0.013117, p-value < 2.2e-16\n",
       "alternative hypothesis: true autocorrelation is greater than 0\n"
      ]
     },
     "metadata": {},
     "output_type": "display_data"
    }
   ],
   "source": [
    "# Incorrelacion\n",
    "dwtest(fit.opt.ipc)"
   ]
  },
  {
   "cell_type": "markdown",
   "metadata": {},
   "source": [
    "En este caso y por prueba de hipótesis, se observa que hay autocorrelación."
   ]
  },
  {
   "cell_type": "code",
   "execution_count": 102,
   "metadata": {
    "scrolled": true
   },
   "outputs": [
    {
     "name": "stderr",
     "output_type": "stream",
     "text": [
      "Warning message in ks.test(r, pnorm, mean(r), sd(r)):\n",
      "\"ties should not be present for the Kolmogorov-Smirnov test\"\n"
     ]
    },
    {
     "data": {
      "text/plain": [
       "\n",
       "\tOne-sample Kolmogorov-Smirnov test\n",
       "\n",
       "data:  r\n",
       "D = 0.24995, p-value < 2.2e-16\n",
       "alternative hypothesis: two-sided\n"
      ]
     },
     "metadata": {},
     "output_type": "display_data"
    }
   ],
   "source": [
    "# Normalidad\n",
    "# Kolmogorov-Smirnov:\n",
    "r<-rstandard(fit.opt.ipc)\n",
    "ks.test(r,pnorm,mean(r),sd(r))"
   ]
  },
  {
   "cell_type": "markdown",
   "metadata": {},
   "source": [
    "Por prueba de hipótesis, se ve que no se aproxima a una distribución normal. "
   ]
  },
  {
   "cell_type": "markdown",
   "metadata": {},
   "source": [
    "Finalmente, el modelo es el denominado `fit.opt.ipc` cuyos coeficientes son"
   ]
  },
  {
   "cell_type": "code",
   "execution_count": 103,
   "metadata": {
    "scrolled": true
   },
   "outputs": [
    {
     "name": "stdout",
     "output_type": "stream",
     "text": [
      "               Estimate  Std. Error   t value  Pr(>|t|)\n",
      "(Intercept)  1.5537e+02  3.0402e-01  511.0498 < 2.2e-16\n",
      "edad         1.7702e-04  1.0974e-04    1.6131    0.1067\n",
      "duracion     6.3060e-06  4.3904e-06    1.4363    0.1509\n",
      "camp         4.6024e-03  4.1620e-04   11.0581 < 2.2e-16\n",
      "days        -9.3474e-05  7.6894e-06  -12.1561 < 2.2e-16\n",
      "prev        -2.3195e-02  3.0666e-03   -7.5637 3.999e-14\n",
      "tve          4.2150e-01  3.5900e-03  117.4092 < 2.2e-16\n",
      "icc         -4.1213e-02  3.4286e-04 -120.2007 < 2.2e-16\n",
      "euri         3.8189e-01  4.8907e-03   78.0849 < 2.2e-16\n",
      "nrempl      -1.2543e-02  6.3002e-05 -199.0821 < 2.2e-16\n",
      "\n",
      "n = 41188, p = 10, Residual SE = 0.22994, R-Squared = 0.84\n"
     ]
    }
   ],
   "source": [
    "sumary(fit.opt.ipc)"
   ]
  },
  {
   "cell_type": "code",
   "execution_count": 104,
   "metadata": {
    "scrolled": true
   },
   "outputs": [
    {
     "data": {
      "text/plain": [
       "               Df Sum Sq Mean Sq   F value  Pr(>F)    \n",
       "edad            1      0       0 1.920e-01 0.66162    \n",
       "duracion        1      0       0 7.367e+00 0.00664 ** \n",
       "camp            1    228     228 4.313e+03 < 2e-16 ***\n",
       "days            1     74      74 1.392e+03 < 2e-16 ***\n",
       "prev            1    480     480 9.076e+03 < 2e-16 ***\n",
       "tve             1   7855    7855 1.486e+05 < 2e-16 ***\n",
       "icc             1    175     175 3.313e+03 < 2e-16 ***\n",
       "euri            1    715     715 1.353e+04 < 2e-16 ***\n",
       "nrempl          1   2096    2096 3.963e+04 < 2e-16 ***\n",
       "Residuals   41178   2177       0                      \n",
       "---\n",
       "Signif. codes:  0 '***' 0.001 '**' 0.01 '*' 0.05 '.' 0.1 ' ' 1"
      ]
     },
     "metadata": {},
     "output_type": "display_data"
    }
   ],
   "source": [
    "# Y la ANOVA\n",
    "summary(aov(fit.opt.ipc))"
   ]
  },
  {
   "cell_type": "markdown",
   "metadata": {},
   "source": [
    "Aquí se puede observar que la gran parte de las variables aportan al comportamiento, excepto la variable edad. Sin embargo, ocurre la misma situación que con la variable dependiente anterior ya que el modelo planteado no se ajusta correctamente."
   ]
  },
  {
   "cell_type": "markdown",
   "metadata": {},
   "source": [
    "#### Variable tve"
   ]
  },
  {
   "cell_type": "code",
   "execution_count": 105,
   "metadata": {},
   "outputs": [
    {
     "name": "stdout",
     "output_type": "stream",
     "text": [
      "Start:  AIC=-106874.5\n",
      "tve ~ edad + duracion + camp + days + prev + ipc + icc + euri + \n",
      "    nrempl\n",
      "\n",
      "           Df Sum of Sq    RSS     AIC\n",
      "- duracion  1      0.00 3073.6 -106877\n",
      "<none>                  3073.6 -106875\n",
      "- days      1      0.26 3073.9 -106873\n",
      "- edad      1      0.86 3074.5 -106865\n",
      "- prev      1      4.39 3078.0 -106818\n",
      "- camp      1      7.48 3081.1 -106776\n",
      "- icc       1     32.69 3106.3 -106441\n",
      "- nrempl    1     41.86 3115.5 -106319\n",
      "- ipc       1   1028.95 4102.6  -94983\n",
      "- euri      1   1140.32 4214.0  -93880\n",
      "\n",
      "Step:  AIC=-106876.5\n",
      "tve ~ edad + camp + days + prev + ipc + icc + euri + nrempl\n",
      "\n",
      "         Df Sum of Sq    RSS     AIC\n",
      "<none>                3073.6 -106877\n",
      "- days    1      0.26 3073.9 -106875\n",
      "- edad    1      0.86 3074.5 -106867\n",
      "- prev    1      4.40 3078.0 -106820\n",
      "- camp    1      7.53 3081.2 -106778\n",
      "- icc     1     32.69 3106.3 -106443\n",
      "- nrempl  1     41.89 3115.5 -106321\n",
      "- ipc     1   1029.00 4102.6  -94985\n",
      "- euri    1   1140.47 4214.1  -93881\n"
     ]
    },
    {
     "data": {
      "text/plain": [
       "\n",
       "Call:\n",
       "lm(formula = tve ~ edad + camp + days + prev + ipc + icc + euri + \n",
       "    nrempl, data = info)\n",
       "\n",
       "Coefficients:\n",
       "(Intercept)         edad         camp         days         prev          ipc  \n",
       " -7.111e+01   -4.416e-04    4.956e-03   -1.721e-05    2.796e-02    5.950e-01  \n",
       "        icc         euri       nrempl  \n",
       " -9.855e-03    6.572e-01    2.467e-03  \n"
      ]
     },
     "metadata": {},
     "output_type": "display_data"
    }
   ],
   "source": [
    "step(lm(tve ~ ., data = info))"
   ]
  },
  {
   "cell_type": "code",
   "execution_count": 106,
   "metadata": {
    "scrolled": false
   },
   "outputs": [
    {
     "data": {
      "text/plain": [
       "\n",
       "Call:\n",
       "lm(formula = tve ~ edad + camp + days + prev + ipc + icc + euri + \n",
       "    nrempl, data = info)\n",
       "\n",
       "Residuals:\n",
       "     Min       1Q   Median       3Q      Max \n",
       "-1.31237 -0.13654 -0.01586  0.15282  0.81587 \n",
       "\n",
       "Coefficients:\n",
       "              Estimate Std. Error t value Pr(>|t|)    \n",
       "(Intercept) -7.111e+01  9.139e-01 -77.808  < 2e-16 ***\n",
       "edad        -4.416e-04  1.304e-04  -3.387 0.000707 ***\n",
       "camp         4.956e-03  4.935e-04  10.043  < 2e-16 ***\n",
       "days        -1.721e-05  9.146e-06  -1.882 0.059902 .  \n",
       "prev         2.796e-02  3.642e-03   7.676 1.68e-14 ***\n",
       "ipc          5.950e-01  5.068e-03 117.413  < 2e-16 ***\n",
       "icc         -9.855e-03  4.709e-04 -20.928  < 2e-16 ***\n",
       "euri         6.572e-01  5.317e-03 123.610  < 2e-16 ***\n",
       "nrempl       2.467e-03  1.041e-04  23.690  < 2e-16 ***\n",
       "---\n",
       "Signif. codes:  0 '***' 0.001 '**' 0.01 '*' 0.05 '.' 0.1 ' ' 1\n",
       "\n",
       "Residual standard error: 0.2732 on 41179 degrees of freedom\n",
       "Multiple R-squared:  0.9698,\tAdjusted R-squared:  0.9698 \n",
       "F-statistic: 1.651e+05 on 8 and 41179 DF,  p-value: < 2.2e-16\n"
      ]
     },
     "metadata": {},
     "output_type": "display_data"
    }
   ],
   "source": [
    "fit.opt.tve <- lm(formula = tve ~ edad + camp + days + prev + ipc + icc + euri + nrempl, data = info)\n",
    "summary(fit.opt.tve)"
   ]
  },
  {
   "cell_type": "markdown",
   "metadata": {},
   "source": [
    "A partir de esto, se observa que la mayoria de las variables son importantes y por prueba de hipótesis se puede decir, tomando los datos de la ultima columna **pr** que todas las variables excepto days son significativas ya que son menores a nuestro $\\alpha=0.05$."
   ]
  },
  {
   "cell_type": "markdown",
   "metadata": {},
   "source": [
    "##### Test tve"
   ]
  },
  {
   "cell_type": "code",
   "execution_count": 107,
   "metadata": {},
   "outputs": [
    {
     "data": {
      "image/png": "[encoded data removed]",
      "text/plain": [
       "Plot with title \"\""
      ]
     },
     "metadata": {
      "image/png": {
       "height": 720,
       "width": 720
      },
      "text/plain": {
       "height": 720,
       "width": 720
      }
     },
     "output_type": "display_data"
    }
   ],
   "source": [
    "par(mfrow = c(2,2))\n",
    "plot(fit.opt.tve)"
   ]
  },
  {
   "cell_type": "markdown",
   "metadata": {},
   "source": [
    "Observando los gráficos, se puede observar que no se ve un comportamiento lineal, además, en la segunda gráfica se ve que no se aproxima a la distribución normal. Sin embargo, se hará el test para validarlo numéricamente. "
   ]
  },
  {
   "cell_type": "markdown",
   "metadata": {},
   "source": [
    "Prueba de los supuestos modelos"
   ]
  },
  {
   "cell_type": "code",
   "execution_count": 108,
   "metadata": {},
   "outputs": [
    {
     "data": {
      "text/plain": [
       "\n",
       "\tstudentized Breusch-Pagan test\n",
       "\n",
       "data:  fit.opt.tve\n",
       "BP = 4749.7, df = 8, p-value < 2.2e-16\n"
      ]
     },
     "metadata": {},
     "output_type": "display_data"
    }
   ],
   "source": [
    "# Homocedasticidad\n",
    "bptest(fit.opt.tve)"
   ]
  },
  {
   "cell_type": "markdown",
   "metadata": {},
   "source": [
    "Por prueba de hipótesis, se puede ver que hay incumplimiento de homocedasticidad debido a que p-value es menor que la zona de rechazo $\\alpha=0.05$. Por lo tanto, hay heterocedasticidad."
   ]
  },
  {
   "cell_type": "code",
   "execution_count": 110,
   "metadata": {
    "scrolled": true
   },
   "outputs": [
    {
     "data": {
      "text/plain": [
       "\n",
       "\tDurbin-Watson test\n",
       "\n",
       "data:  fit.opt.tve\n",
       "DW = 0.011104, p-value < 2.2e-16\n",
       "alternative hypothesis: true autocorrelation is greater than 0\n"
      ]
     },
     "metadata": {},
     "output_type": "display_data"
    }
   ],
   "source": [
    "# Incorrelacion\n",
    "dwtest(fit.opt.tve)"
   ]
  },
  {
   "cell_type": "markdown",
   "metadata": {},
   "source": [
    "En este caso y por prueba de hipótesis, se observa que hay autocorrelación."
   ]
  },
  {
   "cell_type": "code",
   "execution_count": 111,
   "metadata": {},
   "outputs": [
    {
     "name": "stderr",
     "output_type": "stream",
     "text": [
      "Warning message in ks.test(r, pnorm, mean(r), sd(r)):\n",
      "\"ties should not be present for the Kolmogorov-Smirnov test\"\n"
     ]
    },
    {
     "data": {
      "text/plain": [
       "\n",
       "\tOne-sample Kolmogorov-Smirnov test\n",
       "\n",
       "data:  r\n",
       "D = 0.1241, p-value < 2.2e-16\n",
       "alternative hypothesis: two-sided\n"
      ]
     },
     "metadata": {},
     "output_type": "display_data"
    }
   ],
   "source": [
    "# Normalidad\n",
    "# Kolmogorov-Smirnov:\n",
    "r<-rstandard(fit.opt.tve)\n",
    "ks.test(r,pnorm,mean(r),sd(r))"
   ]
  },
  {
   "cell_type": "markdown",
   "metadata": {},
   "source": [
    "Por prueba de hipótesis, se ve que no se aproxima a una distribución normal."
   ]
  },
  {
   "cell_type": "markdown",
   "metadata": {},
   "source": [
    "Finalmente, el modelo es el denominado `fit.opt.tve` cuyos coeficientes son"
   ]
  },
  {
   "cell_type": "code",
   "execution_count": 112,
   "metadata": {
    "scrolled": true
   },
   "outputs": [
    {
     "name": "stdout",
     "output_type": "stream",
     "text": [
      "               Estimate  Std. Error  t value  Pr(>|t|)\n",
      "(Intercept) -7.1108e+01  9.1389e-01 -77.8079 < 2.2e-16\n",
      "edad        -4.4161e-04  1.3037e-04  -3.3872 0.0007066\n",
      "camp         4.9563e-03  4.9350e-04  10.0430 < 2.2e-16\n",
      "days        -1.7208e-05  9.1457e-06  -1.8816 0.0599017\n",
      "prev         2.7958e-02  3.6424e-03   7.6756 1.683e-14\n",
      "ipc          5.9503e-01  5.0678e-03 117.4135 < 2.2e-16\n",
      "icc         -9.8554e-03  4.7091e-04 -20.9284 < 2.2e-16\n",
      "euri         6.5724e-01  5.3171e-03 123.6098 < 2.2e-16\n",
      "nrempl       2.4670e-03  1.0413e-04  23.6904 < 2.2e-16\n",
      "\n",
      "n = 41188, p = 9, Residual SE = 0.27321, R-Squared = 0.97\n"
     ]
    }
   ],
   "source": [
    "sumary(fit.opt.tve)"
   ]
  },
  {
   "cell_type": "code",
   "execution_count": 113,
   "metadata": {
    "scrolled": true
   },
   "outputs": [
    {
     "data": {
      "text/plain": [
       "               Df Sum Sq Mean Sq   F value Pr(>F)    \n",
       "edad            1      0       0 1.870e-01  0.665    \n",
       "camp            1   2310    2310 3.095e+04 <2e-16 ***\n",
       "days            1   7061    7061 9.460e+04 <2e-16 ***\n",
       "prev            1  10106   10106 1.354e+05 <2e-16 ***\n",
       "ipc             1  49539   49539 6.637e+05 <2e-16 ***\n",
       "icc             1   2365    2365 3.169e+04 <2e-16 ***\n",
       "euri            1  27149   27149 3.637e+05 <2e-16 ***\n",
       "nrempl          1     42      42 5.612e+02 <2e-16 ***\n",
       "Residuals   41179   3074       0                     \n",
       "---\n",
       "Signif. codes:  0 '***' 0.001 '**' 0.01 '*' 0.05 '.' 0.1 ' ' 1"
      ]
     },
     "metadata": {},
     "output_type": "display_data"
    }
   ],
   "source": [
    "# Y la ANOVA\n",
    "summary(aov(fit.opt.tve))"
   ]
  },
  {
   "cell_type": "markdown",
   "metadata": {},
   "source": [
    "Aquí se puede observar que la gran parte de las variables aportan al comportamiento, excepto la variable edad. "
   ]
  },
  {
   "cell_type": "markdown",
   "metadata": {},
   "source": [
    "Finalmente, se obsreva que con ninguna de las tres variables dependientes seleccionadas fue posible ajustar un modelo lineal al conjunto de datos."
   ]
  },
  {
   "cell_type": "markdown",
   "metadata": {},
   "source": [
    "Se podría intentar realizar el modelo com alguna variable categórica ya que no se cumplen con los supuestos; pero en este caso resulta evidente que ninguno de los factores disponibles se asocia a las variables dependientes de las cuales se pretende hallar un modelo."
   ]
  }
 ],
 "metadata": {
  "kernelspec": {
   "display_name": "R",
   "language": "R",
   "name": "ir"
  },
  "language_info": {
   "codemirror_mode": "r",
   "file_extension": ".r",
   "mimetype": "text/x-r-source",
   "name": "R",
   "pygments_lexer": "r",
   "version": "4.0.0"
  }
 },
 "nbformat": 4,
 "nbformat_minor": 4
}
