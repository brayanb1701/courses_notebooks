{
 "cells": [
  {
   "cell_type": "markdown",
   "metadata": {},
   "source": [
    "<div style=\"text-align: justify\">\n",
    "<font size=6><br>\n",
    "<h4 align=\"center\">Estadística II</h4></font><font size=5><h4 align=\"center\">Grupo F1</h4></font> \n",
    "\n",
    "<font size=5><h4 align=\"left\">Intregrantes: </h4></font>      \n",
    "2172016 - Kevin Javier Lozano Galvis<br><br>\n",
    "2170688 - Brayan Rodolfo Barajas Ochoa<br><br>\n",
    "2160090 - Kevin Joel Dlaikan Castillo<br> \n",
    "    \n",
    "<font size=5><h4 align=\"center\">Ejercicio Series de Tiempo</h4></font>  "
   ]
  },
  {
   "cell_type": "markdown",
   "metadata": {
    "colab_type": "text",
    "id": "bRyEqIQDLXD1"
   },
   "source": [
    "Use los datos de COVID - 19 en Colombia para hacer el análisis de series de tiempo. La tabla la encuentra en https://www.datos.gov.co/Salud-y-Protecci-n-Social/Casos-positivos-de-COVID-19-en-Colombia/gt2j-8ykr/data o ya generada en https://www.dropbox.com/s/6zhlsye308tikf9/covid_19.csv?dl=0\n",
    "Compare los casos mediante Fecha de Notificación, Fecha de Diagnóstico, etc."
   ]
  },
  {
   "cell_type": "code",
   "execution_count": 19,
   "metadata": {
    "colab": {},
    "colab_type": "code",
    "id": "xYm0MFAJLXD1"
   },
   "outputs": [],
   "source": [
    "library(pracma)\n",
    "library(forecast)\n",
    "library(readr)\n",
    "library(padr)\n",
    "library(dplyr) # for the pipe operator"
   ]
  },
  {
   "cell_type": "code",
   "execution_count": 4,
   "metadata": {
    "colab": {
     "base_uri": "https://localhost:8080/",
     "height": 286
    },
    "colab_type": "code",
    "id": "-AEdflGjLXD4",
    "outputId": "11524c46-4f12-4944-a9e1-501b34604fcd"
   },
   "outputs": [
    {
     "name": "stderr",
     "output_type": "stream",
     "text": [
      "Parsed with column specification:\n",
      "cols(\n",
      "  .default = col_character(),\n",
      "  `ID de caso` = \u001b[32mcol_double()\u001b[39m,\n",
      "  `Fecha de notificación` = \u001b[34mcol_datetime(format = \"\")\u001b[39m,\n",
      "  Edad = \u001b[32mcol_double()\u001b[39m,\n",
      "  `Fecha de muerte` = \u001b[34mcol_datetime(format = \"\")\u001b[39m,\n",
      "  `Fecha diagnostico` = \u001b[34mcol_datetime(format = \"\")\u001b[39m,\n",
      "  `Fecha recuperado` = \u001b[34mcol_datetime(format = \"\")\u001b[39m,\n",
      "  `fecha reporte web` = \u001b[34mcol_datetime(format = \"\")\u001b[39m,\n",
      "  `Codigo departamento` = \u001b[32mcol_double()\u001b[39m,\n",
      "  `Codigo pais` = \u001b[32mcol_double()\u001b[39m\n",
      ")\n",
      "\n",
      "See spec(...) for full column specifications.\n",
      "\n"
     ]
    }
   ],
   "source": [
    "covid_19 <- read_csv(\"https://www.dropbox.com/s/6zhlsye308tikf9/covid_19.csv?dl=1\")"
   ]
  },
  {
   "cell_type": "code",
   "execution_count": 5,
   "metadata": {
    "colab": {
     "base_uri": "https://localhost:8080/",
     "height": 350
    },
    "colab_type": "code",
    "id": "nWbD3ELfLXD7",
    "outputId": "60ec873d-d490-4f7b-af8b-5166ae2f5ee3"
   },
   "outputs": [
    {
     "data": {
      "text/html": [
       "<table>\n",
       "<caption>A tibble: 6 × 21</caption>\n",
       "<thead>\n",
       "\t<tr><th scope=col>ID de caso</th><th scope=col>Fecha de notificación</th><th scope=col>Código DIVIPOLA</th><th scope=col>Ciudad de ubicación</th><th scope=col>Departamento o Distrito</th><th scope=col>atención</th><th scope=col>Edad</th><th scope=col>Sexo</th><th scope=col>Tipo</th><th scope=col>Estado</th><th scope=col>...</th><th scope=col>FIS</th><th scope=col>Fecha de muerte</th><th scope=col>Fecha diagnostico</th><th scope=col>Fecha recuperado</th><th scope=col>fecha reporte web</th><th scope=col>Tipo recuperación</th><th scope=col>Codigo departamento</th><th scope=col>Codigo pais</th><th scope=col>Pertenencia etnica</th><th scope=col>Nombre grupo etnico</th></tr>\n",
       "\t<tr><th scope=col>&lt;dbl&gt;</th><th scope=col>&lt;dttm&gt;</th><th scope=col>&lt;chr&gt;</th><th scope=col>&lt;chr&gt;</th><th scope=col>&lt;chr&gt;</th><th scope=col>&lt;chr&gt;</th><th scope=col>&lt;dbl&gt;</th><th scope=col>&lt;chr&gt;</th><th scope=col>&lt;chr&gt;</th><th scope=col>&lt;chr&gt;</th><th scope=col>...</th><th scope=col>&lt;chr&gt;</th><th scope=col>&lt;dttm&gt;</th><th scope=col>&lt;dttm&gt;</th><th scope=col>&lt;dttm&gt;</th><th scope=col>&lt;dttm&gt;</th><th scope=col>&lt;chr&gt;</th><th scope=col>&lt;dbl&gt;</th><th scope=col>&lt;dbl&gt;</th><th scope=col>&lt;chr&gt;</th><th scope=col>&lt;chr&gt;</th></tr>\n",
       "</thead>\n",
       "<tbody>\n",
       "\t<tr><td>1</td><td>2020-03-02</td><td>11001</td><td>Bogotá D.C.        </td><td>Bogotá D.C.    </td><td>Recuperado</td><td>19</td><td>F</td><td>Importado  </td><td>Leve</td><td>...</td><td>2020-02-27T00:00:00.000</td><td>NA</td><td>2020-03-06</td><td>2020-03-13</td><td>2020-03-06</td><td>PCR</td><td>11</td><td>380</td><td>Otro</td><td>NA</td></tr>\n",
       "\t<tr><td>2</td><td>2020-03-06</td><td>76111</td><td>Guadalajara de Buga</td><td>Valle del Cauca</td><td>Recuperado</td><td>34</td><td>M</td><td>Importado  </td><td>Leve</td><td>...</td><td>2020-03-04T00:00:00.000</td><td>NA</td><td>2020-03-09</td><td>2020-03-19</td><td>2020-03-09</td><td>PCR</td><td>76</td><td>724</td><td>Otro</td><td>NA</td></tr>\n",
       "\t<tr><td>3</td><td>2020-03-07</td><td>05001</td><td>Medellín           </td><td>Antioquia      </td><td>Recuperado</td><td>50</td><td>F</td><td>Importado  </td><td>Leve</td><td>...</td><td>2020-02-29T00:00:00.000</td><td>NA</td><td>2020-03-09</td><td>2020-03-15</td><td>2020-03-09</td><td>PCR</td><td> 5</td><td>724</td><td>Otro</td><td>NA</td></tr>\n",
       "\t<tr><td>4</td><td>2020-03-09</td><td>05001</td><td>Medellín           </td><td>Antioquia      </td><td>Recuperado</td><td>55</td><td>M</td><td>Relacionado</td><td>Leve</td><td>...</td><td>2020-03-06T00:00:00.000</td><td>NA</td><td>2020-03-11</td><td>2020-03-26</td><td>2020-03-11</td><td>PCR</td><td> 5</td><td> NA</td><td>Otro</td><td>NA</td></tr>\n",
       "\t<tr><td>5</td><td>2020-03-09</td><td>05001</td><td>Medellín           </td><td>Antioquia      </td><td>Recuperado</td><td>25</td><td>M</td><td>Relacionado</td><td>Leve</td><td>...</td><td>2020-03-08T00:00:00.000</td><td>NA</td><td>2020-03-11</td><td>2020-03-23</td><td>2020-03-11</td><td>PCR</td><td> 5</td><td> NA</td><td>Otro</td><td>NA</td></tr>\n",
       "\t<tr><td>6</td><td>2020-03-10</td><td>05360</td><td>Itagüí             </td><td>Antioquia      </td><td>Recuperado</td><td>27</td><td>F</td><td>Relacionado</td><td>Leve</td><td>...</td><td>2020-03-06T00:00:00.000</td><td>NA</td><td>2020-03-11</td><td>2020-03-26</td><td>2020-03-11</td><td>PCR</td><td> 5</td><td> NA</td><td>Otro</td><td>NA</td></tr>\n",
       "</tbody>\n",
       "</table>\n"
      ],
      "text/latex": [
       "A tibble: 6 × 21\n",
       "\\begin{tabular}{lllllllllllllllllllll}\n",
       " ID de caso & Fecha de notificación & Código DIVIPOLA & Ciudad de ubicación & Departamento o Distrito & atención & Edad & Sexo & Tipo & Estado & ... & FIS & Fecha de muerte & Fecha diagnostico & Fecha recuperado & fecha reporte web & Tipo recuperación & Codigo departamento & Codigo pais & Pertenencia etnica & Nombre grupo etnico\\\\\n",
       " <dbl> & <dttm> & <chr> & <chr> & <chr> & <chr> & <dbl> & <chr> & <chr> & <chr> & ... & <chr> & <dttm> & <dttm> & <dttm> & <dttm> & <chr> & <dbl> & <dbl> & <chr> & <chr>\\\\\n",
       "\\hline\n",
       "\t 1 & 2020-03-02 & 11001 & Bogotá D.C.         & Bogotá D.C.     & Recuperado & 19 & F & Importado   & Leve & ... & 2020-02-27T00:00:00.000 & NA & 2020-03-06 & 2020-03-13 & 2020-03-06 & PCR & 11 & 380 & Otro & NA\\\\\n",
       "\t 2 & 2020-03-06 & 76111 & Guadalajara de Buga & Valle del Cauca & Recuperado & 34 & M & Importado   & Leve & ... & 2020-03-04T00:00:00.000 & NA & 2020-03-09 & 2020-03-19 & 2020-03-09 & PCR & 76 & 724 & Otro & NA\\\\\n",
       "\t 3 & 2020-03-07 & 05001 & Medellín            & Antioquia       & Recuperado & 50 & F & Importado   & Leve & ... & 2020-02-29T00:00:00.000 & NA & 2020-03-09 & 2020-03-15 & 2020-03-09 & PCR &  5 & 724 & Otro & NA\\\\\n",
       "\t 4 & 2020-03-09 & 05001 & Medellín            & Antioquia       & Recuperado & 55 & M & Relacionado & Leve & ... & 2020-03-06T00:00:00.000 & NA & 2020-03-11 & 2020-03-26 & 2020-03-11 & PCR &  5 &  NA & Otro & NA\\\\\n",
       "\t 5 & 2020-03-09 & 05001 & Medellín            & Antioquia       & Recuperado & 25 & M & Relacionado & Leve & ... & 2020-03-08T00:00:00.000 & NA & 2020-03-11 & 2020-03-23 & 2020-03-11 & PCR &  5 &  NA & Otro & NA\\\\\n",
       "\t 6 & 2020-03-10 & 05360 & Itagüí              & Antioquia       & Recuperado & 27 & F & Relacionado & Leve & ... & 2020-03-06T00:00:00.000 & NA & 2020-03-11 & 2020-03-26 & 2020-03-11 & PCR &  5 &  NA & Otro & NA\\\\\n",
       "\\end{tabular}\n"
      ],
      "text/markdown": [
       "\n",
       "A tibble: 6 × 21\n",
       "\n",
       "| ID de caso &lt;dbl&gt; | Fecha de notificación &lt;dttm&gt; | Código DIVIPOLA &lt;chr&gt; | Ciudad de ubicación &lt;chr&gt; | Departamento o Distrito &lt;chr&gt; | atención &lt;chr&gt; | Edad &lt;dbl&gt; | Sexo &lt;chr&gt; | Tipo &lt;chr&gt; | Estado &lt;chr&gt; | ... ... | FIS &lt;chr&gt; | Fecha de muerte &lt;dttm&gt; | Fecha diagnostico &lt;dttm&gt; | Fecha recuperado &lt;dttm&gt; | fecha reporte web &lt;dttm&gt; | Tipo recuperación &lt;chr&gt; | Codigo departamento &lt;dbl&gt; | Codigo pais &lt;dbl&gt; | Pertenencia etnica &lt;chr&gt; | Nombre grupo etnico &lt;chr&gt; |\n",
       "|---|---|---|---|---|---|---|---|---|---|---|---|---|---|---|---|---|---|---|---|---|\n",
       "| 1 | 2020-03-02 | 11001 | Bogotá D.C.         | Bogotá D.C.     | Recuperado | 19 | F | Importado   | Leve | ... | 2020-02-27T00:00:00.000 | NA | 2020-03-06 | 2020-03-13 | 2020-03-06 | PCR | 11 | 380 | Otro | NA |\n",
       "| 2 | 2020-03-06 | 76111 | Guadalajara de Buga | Valle del Cauca | Recuperado | 34 | M | Importado   | Leve | ... | 2020-03-04T00:00:00.000 | NA | 2020-03-09 | 2020-03-19 | 2020-03-09 | PCR | 76 | 724 | Otro | NA |\n",
       "| 3 | 2020-03-07 | 05001 | Medellín            | Antioquia       | Recuperado | 50 | F | Importado   | Leve | ... | 2020-02-29T00:00:00.000 | NA | 2020-03-09 | 2020-03-15 | 2020-03-09 | PCR |  5 | 724 | Otro | NA |\n",
       "| 4 | 2020-03-09 | 05001 | Medellín            | Antioquia       | Recuperado | 55 | M | Relacionado | Leve | ... | 2020-03-06T00:00:00.000 | NA | 2020-03-11 | 2020-03-26 | 2020-03-11 | PCR |  5 |  NA | Otro | NA |\n",
       "| 5 | 2020-03-09 | 05001 | Medellín            | Antioquia       | Recuperado | 25 | M | Relacionado | Leve | ... | 2020-03-08T00:00:00.000 | NA | 2020-03-11 | 2020-03-23 | 2020-03-11 | PCR |  5 |  NA | Otro | NA |\n",
       "| 6 | 2020-03-10 | 05360 | Itagüí              | Antioquia       | Recuperado | 27 | F | Relacionado | Leve | ... | 2020-03-06T00:00:00.000 | NA | 2020-03-11 | 2020-03-26 | 2020-03-11 | PCR |  5 |  NA | Otro | NA |\n",
       "\n"
      ],
      "text/plain": [
       "  ID de caso Fecha de notificación Código DIVIPOLA Ciudad de ubicación\n",
       "1 1          2020-03-02            11001           Bogotá D.C.        \n",
       "2 2          2020-03-06            76111           Guadalajara de Buga\n",
       "3 3          2020-03-07            05001           Medellín           \n",
       "4 4          2020-03-09            05001           Medellín           \n",
       "5 5          2020-03-09            05001           Medellín           \n",
       "6 6          2020-03-10            05360           Itagüí             \n",
       "  Departamento o Distrito atención   Edad Sexo Tipo        Estado ...\n",
       "1 Bogotá D.C.             Recuperado 19   F    Importado   Leve   ...\n",
       "2 Valle del Cauca         Recuperado 34   M    Importado   Leve   ...\n",
       "3 Antioquia               Recuperado 50   F    Importado   Leve   ...\n",
       "4 Antioquia               Recuperado 55   M    Relacionado Leve   ...\n",
       "5 Antioquia               Recuperado 25   M    Relacionado Leve   ...\n",
       "6 Antioquia               Recuperado 27   F    Relacionado Leve   ...\n",
       "  FIS                     Fecha de muerte Fecha diagnostico Fecha recuperado\n",
       "1 2020-02-27T00:00:00.000 <NA>            2020-03-06        2020-03-13      \n",
       "2 2020-03-04T00:00:00.000 <NA>            2020-03-09        2020-03-19      \n",
       "3 2020-02-29T00:00:00.000 <NA>            2020-03-09        2020-03-15      \n",
       "4 2020-03-06T00:00:00.000 <NA>            2020-03-11        2020-03-26      \n",
       "5 2020-03-08T00:00:00.000 <NA>            2020-03-11        2020-03-23      \n",
       "6 2020-03-06T00:00:00.000 <NA>            2020-03-11        2020-03-26      \n",
       "  fecha reporte web Tipo recuperación Codigo departamento Codigo pais\n",
       "1 2020-03-06        PCR               11                  380        \n",
       "2 2020-03-09        PCR               76                  724        \n",
       "3 2020-03-09        PCR                5                  724        \n",
       "4 2020-03-11        PCR                5                   NA        \n",
       "5 2020-03-11        PCR                5                   NA        \n",
       "6 2020-03-11        PCR                5                   NA        \n",
       "  Pertenencia etnica Nombre grupo etnico\n",
       "1 Otro               NA                 \n",
       "2 Otro               NA                 \n",
       "3 Otro               NA                 \n",
       "4 Otro               NA                 \n",
       "5 Otro               NA                 \n",
       "6 Otro               NA                 "
      ]
     },
     "metadata": {},
     "output_type": "display_data"
    }
   ],
   "source": [
    "head(covid_19)"
   ]
  },
  {
   "cell_type": "code",
   "execution_count": 6,
   "metadata": {
    "colab": {
     "base_uri": "https://localhost:8080/",
     "height": 34
    },
    "colab_type": "code",
    "id": "cRxKN3nX-a52",
    "outputId": "c026fe40-abce-4934-e7e4-2f88e7c835cb"
   },
   "outputs": [
    {
     "data": {
      "text/html": [
       "<style>\n",
       ".list-inline {list-style: none; margin:0; padding: 0}\n",
       ".list-inline>li {display: inline-block}\n",
       ".list-inline>li:not(:last-child)::after {content: \"\\00b7\"; padding: 0 .5ex}\n",
       "</style>\n",
       "<ol class=list-inline><li>276055</li><li>21</li></ol>\n"
      ],
      "text/latex": [
       "\\begin{enumerate*}\n",
       "\\item 276055\n",
       "\\item 21\n",
       "\\end{enumerate*}\n"
      ],
      "text/markdown": [
       "1. 276055\n",
       "2. 21\n",
       "\n",
       "\n"
      ],
      "text/plain": [
       "[1] 276055     21"
      ]
     },
     "metadata": {},
     "output_type": "display_data"
    }
   ],
   "source": [
    "dim(covid_19)"
   ]
  },
  {
   "cell_type": "markdown",
   "metadata": {},
   "source": [
    "Como en la clase se trabajó con Fecha de notificación, se intentará determinar series de tiempo para fecha de diagnóstivo, fecha recuperado y fecha de inicio de síntomas"
   ]
  },
  {
   "cell_type": "code",
   "execution_count": 7,
   "metadata": {
    "colab": {},
    "colab_type": "code",
    "id": "wqDGBQ2gLXD9"
   },
   "outputs": [],
   "source": [
    "covid_19$'Fecha diagnostico' <- as.Date(covid_19$'Fecha diagnostico')\n",
    "covid_19$'Fecha recuperado' <- as.Date(covid_19$'Fecha recuperado')\n",
    "covid_19$'FIS' <- as.Date(covid_19$'FIS')\n",
    "covid_19$'Fecha de notificación' <- as.Date(covid_19$'Fecha de notificación')"
   ]
  },
  {
   "cell_type": "code",
   "execution_count": 14,
   "metadata": {},
   "outputs": [
    {
     "data": {
      "text/html": [
       "<style>\n",
       ".list-inline {list-style: none; margin:0; padding: 0}\n",
       ".list-inline>li {display: inline-block}\n",
       ".list-inline>li:not(:last-child)::after {content: \"\\00b7\"; padding: 0 .5ex}\n",
       "</style>\n",
       "<ol class=list-inline><li><time datetime=\"2020-03-06\">2020-03-06</time></li><li><time datetime=\"2020-03-09\">2020-03-09</time></li><li><time datetime=\"2020-03-11\">2020-03-11</time></li><li><time datetime=\"2020-03-12\">2020-03-12</time></li><li><time datetime=\"2020-03-13\">2020-03-13</time></li><li><time datetime=\"2020-03-14\">2020-03-14</time></li><li><time datetime=\"2020-03-15\">2020-03-15</time></li><li><time datetime=\"2020-03-16\">2020-03-16</time></li><li><time datetime=\"2020-03-17\">2020-03-17</time></li><li><time datetime=\"2020-03-18\">2020-03-18</time></li><li><time datetime=\"2020-03-19\">2020-03-19</time></li><li><time datetime=\"2020-03-20\">2020-03-20</time></li><li><time datetime=\"2020-03-21\">2020-03-21</time></li><li><time datetime=\"2020-03-22\">2020-03-22</time></li><li><time datetime=\"2020-03-23\">2020-03-23</time></li><li><time datetime=\"2020-03-24\">2020-03-24</time></li><li><time datetime=\"2020-03-27\">2020-03-27</time></li><li><time datetime=\"2020-03-25\">2020-03-25</time></li><li><time datetime=\"2020-03-26\">2020-03-26</time></li><li><time datetime=\"2020-03-28\">2020-03-28</time></li><li><time datetime=\"2020-03-29\">2020-03-29</time></li><li><time datetime=\"2020-03-30\">2020-03-30</time></li><li><time datetime=\"2020-03-31\">2020-03-31</time></li><li><time datetime=\"2020-04-01\">2020-04-01</time></li><li><time datetime=\"2020-04-02\">2020-04-02</time></li><li><time datetime=\"2020-04-03\">2020-04-03</time></li><li><time datetime=\"2020-04-04\">2020-04-04</time></li><li><time datetime=\"2020-04-05\">2020-04-05</time></li><li><time datetime=\"2020-04-06\">2020-04-06</time></li><li><time datetime=\"2020-04-07\">2020-04-07</time></li><li><time datetime=\"2020-04-08\">2020-04-08</time></li><li><time datetime=\"2020-04-09\">2020-04-09</time></li><li><time datetime=\"2020-04-10\">2020-04-10</time></li><li><time datetime=\"2020-04-11\">2020-04-11</time></li><li><time datetime=\"2020-04-12\">2020-04-12</time></li><li><time datetime=\"2020-04-13\">2020-04-13</time></li><li><time datetime=\"2020-04-14\">2020-04-14</time></li><li><time datetime=\"2020-04-19\">2020-04-19</time></li><li><time datetime=\"2020-04-15\">2020-04-15</time></li><li><time datetime=\"2020-04-28\">2020-04-28</time></li><li><time datetime=\"2020-04-16\">2020-04-16</time></li><li><time datetime=\"2020-04-17\">2020-04-17</time></li><li><time datetime=\"2020-04-18\">2020-04-18</time></li><li><time datetime=\"2020-04-20\">2020-04-20</time></li><li><time datetime=\"2020-04-22\">2020-04-22</time></li><li><time datetime=\"2020-04-21\">2020-04-21</time></li><li><time datetime=\"2020-04-23\">2020-04-23</time></li><li><time datetime=\"2020-05-01\">2020-05-01</time></li><li><time datetime=\"2020-04-24\">2020-04-24</time></li><li><time datetime=\"2020-05-05\">2020-05-05</time></li><li><time datetime=\"2020-04-25\">2020-04-25</time></li><li><time datetime=\"2020-04-26\">2020-04-26</time></li><li><time datetime=\"2020-04-27\">2020-04-27</time></li><li><time datetime=\"2020-04-29\">2020-04-29</time></li><li><time datetime=\"2020-04-30\">2020-04-30</time></li><li><time datetime=\"2020-05-02\">2020-05-02</time></li><li><time datetime=\"2020-05-04\">2020-05-04</time></li><li><time datetime=\"2020-05-03\">2020-05-03</time></li><li><time datetime=\"&lt;NA&gt;\">&lt;NA&gt;</time></li><li><time datetime=\"2020-05-06\">2020-05-06</time></li><li><time datetime=\"2020-05-07\">2020-05-07</time></li><li><time datetime=\"2020-05-08\">2020-05-08</time></li><li><time datetime=\"2020-05-09\">2020-05-09</time></li><li><time datetime=\"2020-05-10\">2020-05-10</time></li><li><time datetime=\"2020-05-11\">2020-05-11</time></li><li><time datetime=\"2020-05-12\">2020-05-12</time></li><li><time datetime=\"2020-05-13\">2020-05-13</time></li><li><time datetime=\"2020-07-05\">2020-07-05</time></li><li><time datetime=\"2020-05-14\">2020-05-14</time></li><li><time datetime=\"2020-05-15\">2020-05-15</time></li><li><time datetime=\"2020-05-16\">2020-05-16</time></li><li><time datetime=\"2020-05-17\">2020-05-17</time></li><li><time datetime=\"2020-05-18\">2020-05-18</time></li><li><time datetime=\"2020-05-19\">2020-05-19</time></li><li><time datetime=\"2020-05-20\">2020-05-20</time></li><li><time datetime=\"2020-05-29\">2020-05-29</time></li><li><time datetime=\"2020-05-21\">2020-05-21</time></li><li><time datetime=\"2020-05-22\">2020-05-22</time></li><li><time datetime=\"2020-07-07\">2020-07-07</time></li><li><time datetime=\"2020-05-23\">2020-05-23</time></li><li><time datetime=\"2020-06-01\">2020-06-01</time></li><li><time datetime=\"2020-05-24\">2020-05-24</time></li><li><time datetime=\"2020-05-25\">2020-05-25</time></li><li><time datetime=\"2020-05-26\">2020-05-26</time></li><li><time datetime=\"2020-05-27\">2020-05-27</time></li><li><time datetime=\"2020-05-28\">2020-05-28</time></li><li><time datetime=\"2020-05-30\">2020-05-30</time></li><li><time datetime=\"2020-05-31\">2020-05-31</time></li><li><time datetime=\"2020-06-03\">2020-06-03</time></li><li><time datetime=\"2020-06-02\">2020-06-02</time></li><li><time datetime=\"2020-06-05\">2020-06-05</time></li><li><time datetime=\"2020-06-04\">2020-06-04</time></li><li><time datetime=\"2020-06-06\">2020-06-06</time></li><li><time datetime=\"2020-06-07\">2020-06-07</time></li><li><time datetime=\"2020-06-26\">2020-06-26</time></li><li><time datetime=\"2020-06-08\">2020-06-08</time></li><li><time datetime=\"2020-06-28\">2020-06-28</time></li><li><time datetime=\"2020-06-09\">2020-06-09</time></li><li><time datetime=\"2020-06-10\">2020-06-10</time></li><li><time datetime=\"2020-06-11\">2020-06-11</time></li><li><time datetime=\"2020-06-12\">2020-06-12</time></li><li><time datetime=\"2020-06-16\">2020-06-16</time></li><li><time datetime=\"2020-06-13\">2020-06-13</time></li><li><time datetime=\"2020-06-14\">2020-06-14</time></li><li><time datetime=\"2020-07-19\">2020-07-19</time></li><li><time datetime=\"2020-06-15\">2020-06-15</time></li><li><time datetime=\"2020-06-17\">2020-06-17</time></li><li><time datetime=\"2020-06-20\">2020-06-20</time></li><li><time datetime=\"2020-07-17\">2020-07-17</time></li><li><time datetime=\"2020-06-25\">2020-06-25</time></li><li><time datetime=\"2020-06-18\">2020-06-18</time></li><li><time datetime=\"2020-06-23\">2020-06-23</time></li><li><time datetime=\"2020-06-19\">2020-06-19</time></li><li><time datetime=\"2020-07-02\">2020-07-02</time></li><li><time datetime=\"2020-06-21\">2020-06-21</time></li><li><time datetime=\"2020-07-04\">2020-07-04</time></li><li><time datetime=\"2020-07-01\">2020-07-01</time></li><li><time datetime=\"2020-06-29\">2020-06-29</time></li><li><time datetime=\"2020-06-30\">2020-06-30</time></li><li><time datetime=\"2020-07-16\">2020-07-16</time></li><li><time datetime=\"2020-07-03\">2020-07-03</time></li><li><time datetime=\"2020-06-22\">2020-06-22</time></li><li><time datetime=\"2020-06-24\">2020-06-24</time></li><li><time datetime=\"2020-07-11\">2020-07-11</time></li><li><time datetime=\"2020-07-09\">2020-07-09</time></li><li><time datetime=\"2020-07-08\">2020-07-08</time></li><li><time datetime=\"2020-06-27\">2020-06-27</time></li><li><time datetime=\"2020-07-14\">2020-07-14</time></li><li><time datetime=\"2020-07-18\">2020-07-18</time></li><li><time datetime=\"2020-07-06\">2020-07-06</time></li><li><time datetime=\"2020-07-10\">2020-07-10</time></li><li><time datetime=\"2020-07-12\">2020-07-12</time></li><li><time datetime=\"2020-07-13\">2020-07-13</time></li><li><time datetime=\"2020-07-15\">2020-07-15</time></li><li><time datetime=\"2020-07-24\">2020-07-24</time></li><li><time datetime=\"2020-07-20\">2020-07-20</time></li><li><time datetime=\"2020-07-21\">2020-07-21</time></li><li><time datetime=\"2020-07-22\">2020-07-22</time></li><li><time datetime=\"2020-07-26\">2020-07-26</time></li><li><time datetime=\"2020-07-23\">2020-07-23</time></li><li><time datetime=\"2020-07-25\">2020-07-25</time></li><li><time datetime=\"2020-07-27\">2020-07-27</time></li><li><time datetime=\"2020-07-29\">2020-07-29</time></li><li><time datetime=\"2020-07-28\">2020-07-28</time></li></ol>\n"
      ],
      "text/latex": [
       "\\begin{enumerate*}\n",
       "\\item 2020-03-06\n",
       "\\item 2020-03-09\n",
       "\\item 2020-03-11\n",
       "\\item 2020-03-12\n",
       "\\item 2020-03-13\n",
       "\\item 2020-03-14\n",
       "\\item 2020-03-15\n",
       "\\item 2020-03-16\n",
       "\\item 2020-03-17\n",
       "\\item 2020-03-18\n",
       "\\item 2020-03-19\n",
       "\\item 2020-03-20\n",
       "\\item 2020-03-21\n",
       "\\item 2020-03-22\n",
       "\\item 2020-03-23\n",
       "\\item 2020-03-24\n",
       "\\item 2020-03-27\n",
       "\\item 2020-03-25\n",
       "\\item 2020-03-26\n",
       "\\item 2020-03-28\n",
       "\\item 2020-03-29\n",
       "\\item 2020-03-30\n",
       "\\item 2020-03-31\n",
       "\\item 2020-04-01\n",
       "\\item 2020-04-02\n",
       "\\item 2020-04-03\n",
       "\\item 2020-04-04\n",
       "\\item 2020-04-05\n",
       "\\item 2020-04-06\n",
       "\\item 2020-04-07\n",
       "\\item 2020-04-08\n",
       "\\item 2020-04-09\n",
       "\\item 2020-04-10\n",
       "\\item 2020-04-11\n",
       "\\item 2020-04-12\n",
       "\\item 2020-04-13\n",
       "\\item 2020-04-14\n",
       "\\item 2020-04-19\n",
       "\\item 2020-04-15\n",
       "\\item 2020-04-28\n",
       "\\item 2020-04-16\n",
       "\\item 2020-04-17\n",
       "\\item 2020-04-18\n",
       "\\item 2020-04-20\n",
       "\\item 2020-04-22\n",
       "\\item 2020-04-21\n",
       "\\item 2020-04-23\n",
       "\\item 2020-05-01\n",
       "\\item 2020-04-24\n",
       "\\item 2020-05-05\n",
       "\\item 2020-04-25\n",
       "\\item 2020-04-26\n",
       "\\item 2020-04-27\n",
       "\\item 2020-04-29\n",
       "\\item 2020-04-30\n",
       "\\item 2020-05-02\n",
       "\\item 2020-05-04\n",
       "\\item 2020-05-03\n",
       "\\item <NA>\n",
       "\\item 2020-05-06\n",
       "\\item 2020-05-07\n",
       "\\item 2020-05-08\n",
       "\\item 2020-05-09\n",
       "\\item 2020-05-10\n",
       "\\item 2020-05-11\n",
       "\\item 2020-05-12\n",
       "\\item 2020-05-13\n",
       "\\item 2020-07-05\n",
       "\\item 2020-05-14\n",
       "\\item 2020-05-15\n",
       "\\item 2020-05-16\n",
       "\\item 2020-05-17\n",
       "\\item 2020-05-18\n",
       "\\item 2020-05-19\n",
       "\\item 2020-05-20\n",
       "\\item 2020-05-29\n",
       "\\item 2020-05-21\n",
       "\\item 2020-05-22\n",
       "\\item 2020-07-07\n",
       "\\item 2020-05-23\n",
       "\\item 2020-06-01\n",
       "\\item 2020-05-24\n",
       "\\item 2020-05-25\n",
       "\\item 2020-05-26\n",
       "\\item 2020-05-27\n",
       "\\item 2020-05-28\n",
       "\\item 2020-05-30\n",
       "\\item 2020-05-31\n",
       "\\item 2020-06-03\n",
       "\\item 2020-06-02\n",
       "\\item 2020-06-05\n",
       "\\item 2020-06-04\n",
       "\\item 2020-06-06\n",
       "\\item 2020-06-07\n",
       "\\item 2020-06-26\n",
       "\\item 2020-06-08\n",
       "\\item 2020-06-28\n",
       "\\item 2020-06-09\n",
       "\\item 2020-06-10\n",
       "\\item 2020-06-11\n",
       "\\item 2020-06-12\n",
       "\\item 2020-06-16\n",
       "\\item 2020-06-13\n",
       "\\item 2020-06-14\n",
       "\\item 2020-07-19\n",
       "\\item 2020-06-15\n",
       "\\item 2020-06-17\n",
       "\\item 2020-06-20\n",
       "\\item 2020-07-17\n",
       "\\item 2020-06-25\n",
       "\\item 2020-06-18\n",
       "\\item 2020-06-23\n",
       "\\item 2020-06-19\n",
       "\\item 2020-07-02\n",
       "\\item 2020-06-21\n",
       "\\item 2020-07-04\n",
       "\\item 2020-07-01\n",
       "\\item 2020-06-29\n",
       "\\item 2020-06-30\n",
       "\\item 2020-07-16\n",
       "\\item 2020-07-03\n",
       "\\item 2020-06-22\n",
       "\\item 2020-06-24\n",
       "\\item 2020-07-11\n",
       "\\item 2020-07-09\n",
       "\\item 2020-07-08\n",
       "\\item 2020-06-27\n",
       "\\item 2020-07-14\n",
       "\\item 2020-07-18\n",
       "\\item 2020-07-06\n",
       "\\item 2020-07-10\n",
       "\\item 2020-07-12\n",
       "\\item 2020-07-13\n",
       "\\item 2020-07-15\n",
       "\\item 2020-07-24\n",
       "\\item 2020-07-20\n",
       "\\item 2020-07-21\n",
       "\\item 2020-07-22\n",
       "\\item 2020-07-26\n",
       "\\item 2020-07-23\n",
       "\\item 2020-07-25\n",
       "\\item 2020-07-27\n",
       "\\item 2020-07-29\n",
       "\\item 2020-07-28\n",
       "\\end{enumerate*}\n"
      ],
      "text/markdown": [
       "1. 2020-03-06\n",
       "2. 2020-03-09\n",
       "3. 2020-03-11\n",
       "4. 2020-03-12\n",
       "5. 2020-03-13\n",
       "6. 2020-03-14\n",
       "7. 2020-03-15\n",
       "8. 2020-03-16\n",
       "9. 2020-03-17\n",
       "10. 2020-03-18\n",
       "11. 2020-03-19\n",
       "12. 2020-03-20\n",
       "13. 2020-03-21\n",
       "14. 2020-03-22\n",
       "15. 2020-03-23\n",
       "16. 2020-03-24\n",
       "17. 2020-03-27\n",
       "18. 2020-03-25\n",
       "19. 2020-03-26\n",
       "20. 2020-03-28\n",
       "21. 2020-03-29\n",
       "22. 2020-03-30\n",
       "23. 2020-03-31\n",
       "24. 2020-04-01\n",
       "25. 2020-04-02\n",
       "26. 2020-04-03\n",
       "27. 2020-04-04\n",
       "28. 2020-04-05\n",
       "29. 2020-04-06\n",
       "30. 2020-04-07\n",
       "31. 2020-04-08\n",
       "32. 2020-04-09\n",
       "33. 2020-04-10\n",
       "34. 2020-04-11\n",
       "35. 2020-04-12\n",
       "36. 2020-04-13\n",
       "37. 2020-04-14\n",
       "38. 2020-04-19\n",
       "39. 2020-04-15\n",
       "40. 2020-04-28\n",
       "41. 2020-04-16\n",
       "42. 2020-04-17\n",
       "43. 2020-04-18\n",
       "44. 2020-04-20\n",
       "45. 2020-04-22\n",
       "46. 2020-04-21\n",
       "47. 2020-04-23\n",
       "48. 2020-05-01\n",
       "49. 2020-04-24\n",
       "50. 2020-05-05\n",
       "51. 2020-04-25\n",
       "52. 2020-04-26\n",
       "53. 2020-04-27\n",
       "54. 2020-04-29\n",
       "55. 2020-04-30\n",
       "56. 2020-05-02\n",
       "57. 2020-05-04\n",
       "58. 2020-05-03\n",
       "59. &lt;NA&gt;\n",
       "60. 2020-05-06\n",
       "61. 2020-05-07\n",
       "62. 2020-05-08\n",
       "63. 2020-05-09\n",
       "64. 2020-05-10\n",
       "65. 2020-05-11\n",
       "66. 2020-05-12\n",
       "67. 2020-05-13\n",
       "68. 2020-07-05\n",
       "69. 2020-05-14\n",
       "70. 2020-05-15\n",
       "71. 2020-05-16\n",
       "72. 2020-05-17\n",
       "73. 2020-05-18\n",
       "74. 2020-05-19\n",
       "75. 2020-05-20\n",
       "76. 2020-05-29\n",
       "77. 2020-05-21\n",
       "78. 2020-05-22\n",
       "79. 2020-07-07\n",
       "80. 2020-05-23\n",
       "81. 2020-06-01\n",
       "82. 2020-05-24\n",
       "83. 2020-05-25\n",
       "84. 2020-05-26\n",
       "85. 2020-05-27\n",
       "86. 2020-05-28\n",
       "87. 2020-05-30\n",
       "88. 2020-05-31\n",
       "89. 2020-06-03\n",
       "90. 2020-06-02\n",
       "91. 2020-06-05\n",
       "92. 2020-06-04\n",
       "93. 2020-06-06\n",
       "94. 2020-06-07\n",
       "95. 2020-06-26\n",
       "96. 2020-06-08\n",
       "97. 2020-06-28\n",
       "98. 2020-06-09\n",
       "99. 2020-06-10\n",
       "100. 2020-06-11\n",
       "101. 2020-06-12\n",
       "102. 2020-06-16\n",
       "103. 2020-06-13\n",
       "104. 2020-06-14\n",
       "105. 2020-07-19\n",
       "106. 2020-06-15\n",
       "107. 2020-06-17\n",
       "108. 2020-06-20\n",
       "109. 2020-07-17\n",
       "110. 2020-06-25\n",
       "111. 2020-06-18\n",
       "112. 2020-06-23\n",
       "113. 2020-06-19\n",
       "114. 2020-07-02\n",
       "115. 2020-06-21\n",
       "116. 2020-07-04\n",
       "117. 2020-07-01\n",
       "118. 2020-06-29\n",
       "119. 2020-06-30\n",
       "120. 2020-07-16\n",
       "121. 2020-07-03\n",
       "122. 2020-06-22\n",
       "123. 2020-06-24\n",
       "124. 2020-07-11\n",
       "125. 2020-07-09\n",
       "126. 2020-07-08\n",
       "127. 2020-06-27\n",
       "128. 2020-07-14\n",
       "129. 2020-07-18\n",
       "130. 2020-07-06\n",
       "131. 2020-07-10\n",
       "132. 2020-07-12\n",
       "133. 2020-07-13\n",
       "134. 2020-07-15\n",
       "135. 2020-07-24\n",
       "136. 2020-07-20\n",
       "137. 2020-07-21\n",
       "138. 2020-07-22\n",
       "139. 2020-07-26\n",
       "140. 2020-07-23\n",
       "141. 2020-07-25\n",
       "142. 2020-07-27\n",
       "143. 2020-07-29\n",
       "144. 2020-07-28\n",
       "\n",
       "\n"
      ],
      "text/plain": [
       "  [1] \"2020-03-06\" \"2020-03-09\" \"2020-03-11\" \"2020-03-12\" \"2020-03-13\"\n",
       "  [6] \"2020-03-14\" \"2020-03-15\" \"2020-03-16\" \"2020-03-17\" \"2020-03-18\"\n",
       " [11] \"2020-03-19\" \"2020-03-20\" \"2020-03-21\" \"2020-03-22\" \"2020-03-23\"\n",
       " [16] \"2020-03-24\" \"2020-03-27\" \"2020-03-25\" \"2020-03-26\" \"2020-03-28\"\n",
       " [21] \"2020-03-29\" \"2020-03-30\" \"2020-03-31\" \"2020-04-01\" \"2020-04-02\"\n",
       " [26] \"2020-04-03\" \"2020-04-04\" \"2020-04-05\" \"2020-04-06\" \"2020-04-07\"\n",
       " [31] \"2020-04-08\" \"2020-04-09\" \"2020-04-10\" \"2020-04-11\" \"2020-04-12\"\n",
       " [36] \"2020-04-13\" \"2020-04-14\" \"2020-04-19\" \"2020-04-15\" \"2020-04-28\"\n",
       " [41] \"2020-04-16\" \"2020-04-17\" \"2020-04-18\" \"2020-04-20\" \"2020-04-22\"\n",
       " [46] \"2020-04-21\" \"2020-04-23\" \"2020-05-01\" \"2020-04-24\" \"2020-05-05\"\n",
       " [51] \"2020-04-25\" \"2020-04-26\" \"2020-04-27\" \"2020-04-29\" \"2020-04-30\"\n",
       " [56] \"2020-05-02\" \"2020-05-04\" \"2020-05-03\" NA           \"2020-05-06\"\n",
       " [61] \"2020-05-07\" \"2020-05-08\" \"2020-05-09\" \"2020-05-10\" \"2020-05-11\"\n",
       " [66] \"2020-05-12\" \"2020-05-13\" \"2020-07-05\" \"2020-05-14\" \"2020-05-15\"\n",
       " [71] \"2020-05-16\" \"2020-05-17\" \"2020-05-18\" \"2020-05-19\" \"2020-05-20\"\n",
       " [76] \"2020-05-29\" \"2020-05-21\" \"2020-05-22\" \"2020-07-07\" \"2020-05-23\"\n",
       " [81] \"2020-06-01\" \"2020-05-24\" \"2020-05-25\" \"2020-05-26\" \"2020-05-27\"\n",
       " [86] \"2020-05-28\" \"2020-05-30\" \"2020-05-31\" \"2020-06-03\" \"2020-06-02\"\n",
       " [91] \"2020-06-05\" \"2020-06-04\" \"2020-06-06\" \"2020-06-07\" \"2020-06-26\"\n",
       " [96] \"2020-06-08\" \"2020-06-28\" \"2020-06-09\" \"2020-06-10\" \"2020-06-11\"\n",
       "[101] \"2020-06-12\" \"2020-06-16\" \"2020-06-13\" \"2020-06-14\" \"2020-07-19\"\n",
       "[106] \"2020-06-15\" \"2020-06-17\" \"2020-06-20\" \"2020-07-17\" \"2020-06-25\"\n",
       "[111] \"2020-06-18\" \"2020-06-23\" \"2020-06-19\" \"2020-07-02\" \"2020-06-21\"\n",
       "[116] \"2020-07-04\" \"2020-07-01\" \"2020-06-29\" \"2020-06-30\" \"2020-07-16\"\n",
       "[121] \"2020-07-03\" \"2020-06-22\" \"2020-06-24\" \"2020-07-11\" \"2020-07-09\"\n",
       "[126] \"2020-07-08\" \"2020-06-27\" \"2020-07-14\" \"2020-07-18\" \"2020-07-06\"\n",
       "[131] \"2020-07-10\" \"2020-07-12\" \"2020-07-13\" \"2020-07-15\" \"2020-07-24\"\n",
       "[136] \"2020-07-20\" \"2020-07-21\" \"2020-07-22\" \"2020-07-26\" \"2020-07-23\"\n",
       "[141] \"2020-07-25\" \"2020-07-27\" \"2020-07-29\" \"2020-07-28\""
      ]
     },
     "metadata": {},
     "output_type": "display_data"
    }
   ],
   "source": [
    "unique(covid_19$'Fecha diagnostico')"
   ]
  },
  {
   "cell_type": "code",
   "execution_count": 9,
   "metadata": {},
   "outputs": [
    {
     "data": {
      "text/html": [
       "<style>\n",
       ".list-inline {list-style: none; margin:0; padding: 0}\n",
       ".list-inline>li {display: inline-block}\n",
       ".list-inline>li:not(:last-child)::after {content: \"\\00b7\"; padding: 0 .5ex}\n",
       "</style>\n",
       "<ol class=list-inline><li><time datetime=\"2020-03-13\">2020-03-13</time></li><li><time datetime=\"2020-03-19\">2020-03-19</time></li><li><time datetime=\"2020-03-15\">2020-03-15</time></li><li><time datetime=\"2020-03-26\">2020-03-26</time></li><li><time datetime=\"2020-03-23\">2020-03-23</time></li><li><time datetime=\"2020-03-17\">2020-03-17</time></li><li><time datetime=\"2020-03-21\">2020-03-21</time></li><li><time datetime=\"2020-03-31\">2020-03-31</time></li><li><time datetime=\"2020-04-09\">2020-04-09</time></li><li><time datetime=\"2020-03-30\">2020-03-30</time></li><li><time datetime=\"2020-03-14\">2020-03-14</time></li><li><time datetime=\"2020-04-07\">2020-04-07</time></li><li><time datetime=\"2020-03-24\">2020-03-24</time></li><li><time datetime=\"2020-04-10\">2020-04-10</time></li><li><time datetime=\"2020-03-27\">2020-03-27</time></li><li><time datetime=\"2020-05-12\">2020-05-12</time></li><li><time datetime=\"2020-03-25\">2020-03-25</time></li><li><time datetime=\"2020-04-08\">2020-04-08</time></li><li><time datetime=\"2020-04-21\">2020-04-21</time></li><li><time datetime=\"2020-03-28\">2020-03-28</time></li><li><time datetime=\"2020-03-22\">2020-03-22</time></li><li><time datetime=\"2020-04-05\">2020-04-05</time></li><li><time datetime=\"2020-05-14\">2020-05-14</time></li><li><time datetime=\"2020-05-31\">2020-05-31</time></li><li><time datetime=\"2020-04-02\">2020-04-02</time></li><li><time datetime=\"2020-03-20\">2020-03-20</time></li><li><time datetime=\"2020-04-12\">2020-04-12</time></li><li><time datetime=\"2020-04-01\">2020-04-01</time></li><li><time datetime=\"2020-04-15\">2020-04-15</time></li><li><time datetime=\"2020-03-29\">2020-03-29</time></li><li><time datetime=\"2020-05-04\">2020-05-04</time></li><li><time datetime=\"2020-04-25\">2020-04-25</time></li><li><time datetime=\"2020-04-19\">2020-04-19</time></li><li><time datetime=\"2020-04-14\">2020-04-14</time></li><li><time datetime=\"2020-04-13\">2020-04-13</time></li><li><time datetime=\"2020-05-06\">2020-05-06</time></li><li><time datetime=\"2020-04-23\">2020-04-23</time></li><li><time datetime=\"2020-05-24\">2020-05-24</time></li><li><time datetime=\"2020-04-24\">2020-04-24</time></li><li><time datetime=\"2020-04-18\">2020-04-18</time></li><li><time datetime=\"2020-04-04\">2020-04-04</time></li><li><time datetime=\"2020-05-08\">2020-05-08</time></li><li><time datetime=\"2020-04-03\">2020-04-03</time></li><li><time datetime=\"2020-05-03\">2020-05-03</time></li><li><time datetime=\"2020-04-11\">2020-04-11</time></li><li><time datetime=\"&lt;NA&gt;\">&lt;NA&gt;</time></li><li><time datetime=\"2020-04-16\">2020-04-16</time></li><li><time datetime=\"2020-04-06\">2020-04-06</time></li><li><time datetime=\"2020-04-17\">2020-04-17</time></li><li><time datetime=\"2020-05-15\">2020-05-15</time></li><li><time datetime=\"2020-05-05\">2020-05-05</time></li><li><time datetime=\"2020-04-20\">2020-04-20</time></li><li><time datetime=\"2020-05-18\">2020-05-18</time></li><li><time datetime=\"2020-06-09\">2020-06-09</time></li><li><time datetime=\"2020-05-13\">2020-05-13</time></li><li><time datetime=\"2020-04-27\">2020-04-27</time></li><li><time datetime=\"2020-04-29\">2020-04-29</time></li><li><time datetime=\"2020-04-22\">2020-04-22</time></li><li><time datetime=\"2020-04-28\">2020-04-28</time></li><li><time datetime=\"2020-04-30\">2020-04-30</time></li><li><time datetime=\"2020-05-07\">2020-05-07</time></li><li><time datetime=\"2020-07-11\">2020-07-11</time></li><li><time datetime=\"2020-05-01\">2020-05-01</time></li><li><time datetime=\"2020-05-19\">2020-05-19</time></li><li><time datetime=\"2020-05-21\">2020-05-21</time></li><li><time datetime=\"2020-05-02\">2020-05-02</time></li><li><time datetime=\"2020-06-06\">2020-06-06</time></li><li><time datetime=\"2020-06-23\">2020-06-23</time></li><li><time datetime=\"2020-06-28\">2020-06-28</time></li><li><time datetime=\"2020-07-19\">2020-07-19</time></li><li><time datetime=\"2020-05-11\">2020-05-11</time></li><li><time datetime=\"2020-04-26\">2020-04-26</time></li><li><time datetime=\"2020-06-24\">2020-06-24</time></li><li><time datetime=\"2020-06-07\">2020-06-07</time></li><li><time datetime=\"2020-05-09\">2020-05-09</time></li><li><time datetime=\"2020-05-30\">2020-05-30</time></li><li><time datetime=\"2020-05-27\">2020-05-27</time></li><li><time datetime=\"2020-06-11\">2020-06-11</time></li><li><time datetime=\"2020-07-02\">2020-07-02</time></li><li><time datetime=\"2020-06-30\">2020-06-30</time></li><li><time datetime=\"2020-06-12\">2020-06-12</time></li><li><time datetime=\"2020-06-10\">2020-06-10</time></li><li><time datetime=\"2020-05-16\">2020-05-16</time></li><li><time datetime=\"2020-05-10\">2020-05-10</time></li><li><time datetime=\"2020-05-22\">2020-05-22</time></li><li><time datetime=\"2020-05-17\">2020-05-17</time></li><li><time datetime=\"2020-05-20\">2020-05-20</time></li><li><time datetime=\"2020-06-16\">2020-06-16</time></li><li><time datetime=\"2020-05-29\">2020-05-29</time></li><li><time datetime=\"2020-06-01\">2020-06-01</time></li><li><time datetime=\"2020-06-03\">2020-06-03</time></li><li><time datetime=\"2020-06-26\">2020-06-26</time></li><li><time datetime=\"2020-07-01\">2020-07-01</time></li><li><time datetime=\"2020-05-25\">2020-05-25</time></li><li><time datetime=\"2020-07-13\">2020-07-13</time></li><li><time datetime=\"2020-05-26\">2020-05-26</time></li><li><time datetime=\"2020-05-23\">2020-05-23</time></li><li><time datetime=\"2020-06-04\">2020-06-04</time></li><li><time datetime=\"2020-05-28\">2020-05-28</time></li><li><time datetime=\"2020-06-25\">2020-06-25</time></li><li><time datetime=\"2020-06-02\">2020-06-02</time></li><li><time datetime=\"2020-06-08\">2020-06-08</time></li><li><time datetime=\"2020-06-05\">2020-06-05</time></li><li><time datetime=\"2020-07-14\">2020-07-14</time></li><li><time datetime=\"2020-06-20\">2020-06-20</time></li><li><time datetime=\"2020-06-19\">2020-06-19</time></li><li><time datetime=\"2020-06-14\">2020-06-14</time></li><li><time datetime=\"2020-06-13\">2020-06-13</time></li><li><time datetime=\"2020-06-29\">2020-06-29</time></li><li><time datetime=\"2020-06-18\">2020-06-18</time></li><li><time datetime=\"2020-07-24\">2020-07-24</time></li><li><time datetime=\"2020-07-10\">2020-07-10</time></li><li><time datetime=\"2020-07-04\">2020-07-04</time></li><li><time datetime=\"2020-07-08\">2020-07-08</time></li><li><time datetime=\"2020-07-05\">2020-07-05</time></li><li><time datetime=\"2020-07-09\">2020-07-09</time></li><li><time datetime=\"2020-07-03\">2020-07-03</time></li><li><time datetime=\"2020-07-07\">2020-07-07</time></li><li><time datetime=\"2020-07-06\">2020-07-06</time></li><li><time datetime=\"2020-07-25\">2020-07-25</time></li><li><time datetime=\"2020-07-16\">2020-07-16</time></li><li><time datetime=\"2020-07-17\">2020-07-17</time></li><li><time datetime=\"2020-07-28\">2020-07-28</time></li><li><time datetime=\"2020-06-22\">2020-06-22</time></li><li><time datetime=\"2020-07-23\">2020-07-23</time></li><li><time datetime=\"2020-07-27\">2020-07-27</time></li><li><time datetime=\"2020-07-26\">2020-07-26</time></li><li><time datetime=\"2020-07-15\">2020-07-15</time></li><li><time datetime=\"2020-06-17\">2020-06-17</time></li><li><time datetime=\"2020-06-27\">2020-06-27</time></li><li><time datetime=\"2020-06-21\">2020-06-21</time></li><li><time datetime=\"2020-07-21\">2020-07-21</time></li><li><time datetime=\"2020-07-12\">2020-07-12</time></li><li><time datetime=\"2020-07-22\">2020-07-22</time></li><li><time datetime=\"2020-07-18\">2020-07-18</time></li><li><time datetime=\"2020-06-15\">2020-06-15</time></li><li><time datetime=\"2020-07-20\">2020-07-20</time></li><li><time datetime=\"2020-07-29\">2020-07-29</time></li></ol>\n"
      ],
      "text/latex": [
       "\\begin{enumerate*}\n",
       "\\item 2020-03-13\n",
       "\\item 2020-03-19\n",
       "\\item 2020-03-15\n",
       "\\item 2020-03-26\n",
       "\\item 2020-03-23\n",
       "\\item 2020-03-17\n",
       "\\item 2020-03-21\n",
       "\\item 2020-03-31\n",
       "\\item 2020-04-09\n",
       "\\item 2020-03-30\n",
       "\\item 2020-03-14\n",
       "\\item 2020-04-07\n",
       "\\item 2020-03-24\n",
       "\\item 2020-04-10\n",
       "\\item 2020-03-27\n",
       "\\item 2020-05-12\n",
       "\\item 2020-03-25\n",
       "\\item 2020-04-08\n",
       "\\item 2020-04-21\n",
       "\\item 2020-03-28\n",
       "\\item 2020-03-22\n",
       "\\item 2020-04-05\n",
       "\\item 2020-05-14\n",
       "\\item 2020-05-31\n",
       "\\item 2020-04-02\n",
       "\\item 2020-03-20\n",
       "\\item 2020-04-12\n",
       "\\item 2020-04-01\n",
       "\\item 2020-04-15\n",
       "\\item 2020-03-29\n",
       "\\item 2020-05-04\n",
       "\\item 2020-04-25\n",
       "\\item 2020-04-19\n",
       "\\item 2020-04-14\n",
       "\\item 2020-04-13\n",
       "\\item 2020-05-06\n",
       "\\item 2020-04-23\n",
       "\\item 2020-05-24\n",
       "\\item 2020-04-24\n",
       "\\item 2020-04-18\n",
       "\\item 2020-04-04\n",
       "\\item 2020-05-08\n",
       "\\item 2020-04-03\n",
       "\\item 2020-05-03\n",
       "\\item 2020-04-11\n",
       "\\item <NA>\n",
       "\\item 2020-04-16\n",
       "\\item 2020-04-06\n",
       "\\item 2020-04-17\n",
       "\\item 2020-05-15\n",
       "\\item 2020-05-05\n",
       "\\item 2020-04-20\n",
       "\\item 2020-05-18\n",
       "\\item 2020-06-09\n",
       "\\item 2020-05-13\n",
       "\\item 2020-04-27\n",
       "\\item 2020-04-29\n",
       "\\item 2020-04-22\n",
       "\\item 2020-04-28\n",
       "\\item 2020-04-30\n",
       "\\item 2020-05-07\n",
       "\\item 2020-07-11\n",
       "\\item 2020-05-01\n",
       "\\item 2020-05-19\n",
       "\\item 2020-05-21\n",
       "\\item 2020-05-02\n",
       "\\item 2020-06-06\n",
       "\\item 2020-06-23\n",
       "\\item 2020-06-28\n",
       "\\item 2020-07-19\n",
       "\\item 2020-05-11\n",
       "\\item 2020-04-26\n",
       "\\item 2020-06-24\n",
       "\\item 2020-06-07\n",
       "\\item 2020-05-09\n",
       "\\item 2020-05-30\n",
       "\\item 2020-05-27\n",
       "\\item 2020-06-11\n",
       "\\item 2020-07-02\n",
       "\\item 2020-06-30\n",
       "\\item 2020-06-12\n",
       "\\item 2020-06-10\n",
       "\\item 2020-05-16\n",
       "\\item 2020-05-10\n",
       "\\item 2020-05-22\n",
       "\\item 2020-05-17\n",
       "\\item 2020-05-20\n",
       "\\item 2020-06-16\n",
       "\\item 2020-05-29\n",
       "\\item 2020-06-01\n",
       "\\item 2020-06-03\n",
       "\\item 2020-06-26\n",
       "\\item 2020-07-01\n",
       "\\item 2020-05-25\n",
       "\\item 2020-07-13\n",
       "\\item 2020-05-26\n",
       "\\item 2020-05-23\n",
       "\\item 2020-06-04\n",
       "\\item 2020-05-28\n",
       "\\item 2020-06-25\n",
       "\\item 2020-06-02\n",
       "\\item 2020-06-08\n",
       "\\item 2020-06-05\n",
       "\\item 2020-07-14\n",
       "\\item 2020-06-20\n",
       "\\item 2020-06-19\n",
       "\\item 2020-06-14\n",
       "\\item 2020-06-13\n",
       "\\item 2020-06-29\n",
       "\\item 2020-06-18\n",
       "\\item 2020-07-24\n",
       "\\item 2020-07-10\n",
       "\\item 2020-07-04\n",
       "\\item 2020-07-08\n",
       "\\item 2020-07-05\n",
       "\\item 2020-07-09\n",
       "\\item 2020-07-03\n",
       "\\item 2020-07-07\n",
       "\\item 2020-07-06\n",
       "\\item 2020-07-25\n",
       "\\item 2020-07-16\n",
       "\\item 2020-07-17\n",
       "\\item 2020-07-28\n",
       "\\item 2020-06-22\n",
       "\\item 2020-07-23\n",
       "\\item 2020-07-27\n",
       "\\item 2020-07-26\n",
       "\\item 2020-07-15\n",
       "\\item 2020-06-17\n",
       "\\item 2020-06-27\n",
       "\\item 2020-06-21\n",
       "\\item 2020-07-21\n",
       "\\item 2020-07-12\n",
       "\\item 2020-07-22\n",
       "\\item 2020-07-18\n",
       "\\item 2020-06-15\n",
       "\\item 2020-07-20\n",
       "\\item 2020-07-29\n",
       "\\end{enumerate*}\n"
      ],
      "text/markdown": [
       "1. 2020-03-13\n",
       "2. 2020-03-19\n",
       "3. 2020-03-15\n",
       "4. 2020-03-26\n",
       "5. 2020-03-23\n",
       "6. 2020-03-17\n",
       "7. 2020-03-21\n",
       "8. 2020-03-31\n",
       "9. 2020-04-09\n",
       "10. 2020-03-30\n",
       "11. 2020-03-14\n",
       "12. 2020-04-07\n",
       "13. 2020-03-24\n",
       "14. 2020-04-10\n",
       "15. 2020-03-27\n",
       "16. 2020-05-12\n",
       "17. 2020-03-25\n",
       "18. 2020-04-08\n",
       "19. 2020-04-21\n",
       "20. 2020-03-28\n",
       "21. 2020-03-22\n",
       "22. 2020-04-05\n",
       "23. 2020-05-14\n",
       "24. 2020-05-31\n",
       "25. 2020-04-02\n",
       "26. 2020-03-20\n",
       "27. 2020-04-12\n",
       "28. 2020-04-01\n",
       "29. 2020-04-15\n",
       "30. 2020-03-29\n",
       "31. 2020-05-04\n",
       "32. 2020-04-25\n",
       "33. 2020-04-19\n",
       "34. 2020-04-14\n",
       "35. 2020-04-13\n",
       "36. 2020-05-06\n",
       "37. 2020-04-23\n",
       "38. 2020-05-24\n",
       "39. 2020-04-24\n",
       "40. 2020-04-18\n",
       "41. 2020-04-04\n",
       "42. 2020-05-08\n",
       "43. 2020-04-03\n",
       "44. 2020-05-03\n",
       "45. 2020-04-11\n",
       "46. &lt;NA&gt;\n",
       "47. 2020-04-16\n",
       "48. 2020-04-06\n",
       "49. 2020-04-17\n",
       "50. 2020-05-15\n",
       "51. 2020-05-05\n",
       "52. 2020-04-20\n",
       "53. 2020-05-18\n",
       "54. 2020-06-09\n",
       "55. 2020-05-13\n",
       "56. 2020-04-27\n",
       "57. 2020-04-29\n",
       "58. 2020-04-22\n",
       "59. 2020-04-28\n",
       "60. 2020-04-30\n",
       "61. 2020-05-07\n",
       "62. 2020-07-11\n",
       "63. 2020-05-01\n",
       "64. 2020-05-19\n",
       "65. 2020-05-21\n",
       "66. 2020-05-02\n",
       "67. 2020-06-06\n",
       "68. 2020-06-23\n",
       "69. 2020-06-28\n",
       "70. 2020-07-19\n",
       "71. 2020-05-11\n",
       "72. 2020-04-26\n",
       "73. 2020-06-24\n",
       "74. 2020-06-07\n",
       "75. 2020-05-09\n",
       "76. 2020-05-30\n",
       "77. 2020-05-27\n",
       "78. 2020-06-11\n",
       "79. 2020-07-02\n",
       "80. 2020-06-30\n",
       "81. 2020-06-12\n",
       "82. 2020-06-10\n",
       "83. 2020-05-16\n",
       "84. 2020-05-10\n",
       "85. 2020-05-22\n",
       "86. 2020-05-17\n",
       "87. 2020-05-20\n",
       "88. 2020-06-16\n",
       "89. 2020-05-29\n",
       "90. 2020-06-01\n",
       "91. 2020-06-03\n",
       "92. 2020-06-26\n",
       "93. 2020-07-01\n",
       "94. 2020-05-25\n",
       "95. 2020-07-13\n",
       "96. 2020-05-26\n",
       "97. 2020-05-23\n",
       "98. 2020-06-04\n",
       "99. 2020-05-28\n",
       "100. 2020-06-25\n",
       "101. 2020-06-02\n",
       "102. 2020-06-08\n",
       "103. 2020-06-05\n",
       "104. 2020-07-14\n",
       "105. 2020-06-20\n",
       "106. 2020-06-19\n",
       "107. 2020-06-14\n",
       "108. 2020-06-13\n",
       "109. 2020-06-29\n",
       "110. 2020-06-18\n",
       "111. 2020-07-24\n",
       "112. 2020-07-10\n",
       "113. 2020-07-04\n",
       "114. 2020-07-08\n",
       "115. 2020-07-05\n",
       "116. 2020-07-09\n",
       "117. 2020-07-03\n",
       "118. 2020-07-07\n",
       "119. 2020-07-06\n",
       "120. 2020-07-25\n",
       "121. 2020-07-16\n",
       "122. 2020-07-17\n",
       "123. 2020-07-28\n",
       "124. 2020-06-22\n",
       "125. 2020-07-23\n",
       "126. 2020-07-27\n",
       "127. 2020-07-26\n",
       "128. 2020-07-15\n",
       "129. 2020-06-17\n",
       "130. 2020-06-27\n",
       "131. 2020-06-21\n",
       "132. 2020-07-21\n",
       "133. 2020-07-12\n",
       "134. 2020-07-22\n",
       "135. 2020-07-18\n",
       "136. 2020-06-15\n",
       "137. 2020-07-20\n",
       "138. 2020-07-29\n",
       "\n",
       "\n"
      ],
      "text/plain": [
       "  [1] \"2020-03-13\" \"2020-03-19\" \"2020-03-15\" \"2020-03-26\" \"2020-03-23\"\n",
       "  [6] \"2020-03-17\" \"2020-03-21\" \"2020-03-31\" \"2020-04-09\" \"2020-03-30\"\n",
       " [11] \"2020-03-14\" \"2020-04-07\" \"2020-03-24\" \"2020-04-10\" \"2020-03-27\"\n",
       " [16] \"2020-05-12\" \"2020-03-25\" \"2020-04-08\" \"2020-04-21\" \"2020-03-28\"\n",
       " [21] \"2020-03-22\" \"2020-04-05\" \"2020-05-14\" \"2020-05-31\" \"2020-04-02\"\n",
       " [26] \"2020-03-20\" \"2020-04-12\" \"2020-04-01\" \"2020-04-15\" \"2020-03-29\"\n",
       " [31] \"2020-05-04\" \"2020-04-25\" \"2020-04-19\" \"2020-04-14\" \"2020-04-13\"\n",
       " [36] \"2020-05-06\" \"2020-04-23\" \"2020-05-24\" \"2020-04-24\" \"2020-04-18\"\n",
       " [41] \"2020-04-04\" \"2020-05-08\" \"2020-04-03\" \"2020-05-03\" \"2020-04-11\"\n",
       " [46] NA           \"2020-04-16\" \"2020-04-06\" \"2020-04-17\" \"2020-05-15\"\n",
       " [51] \"2020-05-05\" \"2020-04-20\" \"2020-05-18\" \"2020-06-09\" \"2020-05-13\"\n",
       " [56] \"2020-04-27\" \"2020-04-29\" \"2020-04-22\" \"2020-04-28\" \"2020-04-30\"\n",
       " [61] \"2020-05-07\" \"2020-07-11\" \"2020-05-01\" \"2020-05-19\" \"2020-05-21\"\n",
       " [66] \"2020-05-02\" \"2020-06-06\" \"2020-06-23\" \"2020-06-28\" \"2020-07-19\"\n",
       " [71] \"2020-05-11\" \"2020-04-26\" \"2020-06-24\" \"2020-06-07\" \"2020-05-09\"\n",
       " [76] \"2020-05-30\" \"2020-05-27\" \"2020-06-11\" \"2020-07-02\" \"2020-06-30\"\n",
       " [81] \"2020-06-12\" \"2020-06-10\" \"2020-05-16\" \"2020-05-10\" \"2020-05-22\"\n",
       " [86] \"2020-05-17\" \"2020-05-20\" \"2020-06-16\" \"2020-05-29\" \"2020-06-01\"\n",
       " [91] \"2020-06-03\" \"2020-06-26\" \"2020-07-01\" \"2020-05-25\" \"2020-07-13\"\n",
       " [96] \"2020-05-26\" \"2020-05-23\" \"2020-06-04\" \"2020-05-28\" \"2020-06-25\"\n",
       "[101] \"2020-06-02\" \"2020-06-08\" \"2020-06-05\" \"2020-07-14\" \"2020-06-20\"\n",
       "[106] \"2020-06-19\" \"2020-06-14\" \"2020-06-13\" \"2020-06-29\" \"2020-06-18\"\n",
       "[111] \"2020-07-24\" \"2020-07-10\" \"2020-07-04\" \"2020-07-08\" \"2020-07-05\"\n",
       "[116] \"2020-07-09\" \"2020-07-03\" \"2020-07-07\" \"2020-07-06\" \"2020-07-25\"\n",
       "[121] \"2020-07-16\" \"2020-07-17\" \"2020-07-28\" \"2020-06-22\" \"2020-07-23\"\n",
       "[126] \"2020-07-27\" \"2020-07-26\" \"2020-07-15\" \"2020-06-17\" \"2020-06-27\"\n",
       "[131] \"2020-06-21\" \"2020-07-21\" \"2020-07-12\" \"2020-07-22\" \"2020-07-18\"\n",
       "[136] \"2020-06-15\" \"2020-07-20\" \"2020-07-29\""
      ]
     },
     "metadata": {},
     "output_type": "display_data"
    }
   ],
   "source": [
    "unique(covid_19$'Fecha recuperado')"
   ]
  },
  {
   "cell_type": "code",
   "execution_count": 10,
   "metadata": {
    "scrolled": true
   },
   "outputs": [
    {
     "data": {
      "text/html": [
       "<style>\n",
       ".list-inline {list-style: none; margin:0; padding: 0}\n",
       ".list-inline>li {display: inline-block}\n",
       ".list-inline>li:not(:last-child)::after {content: \"\\00b7\"; padding: 0 .5ex}\n",
       "</style>\n",
       "<ol class=list-inline><li><time datetime=\"2020-02-27\">2020-02-27</time></li><li><time datetime=\"2020-03-04\">2020-03-04</time></li><li><time datetime=\"2020-02-29\">2020-02-29</time></li><li><time datetime=\"2020-03-06\">2020-03-06</time></li><li><time datetime=\"2020-03-08\">2020-03-08</time></li><li><time datetime=\"2020-03-02\">2020-03-02</time></li><li><time datetime=\"2020-03-07\">2020-03-07</time></li><li><time datetime=\"2020-03-09\">2020-03-09</time></li><li><time datetime=\"2020-02-28\">2020-02-28</time></li><li><time datetime=\"2020-03-10\">2020-03-10</time></li><li><time datetime=\"2020-03-12\">2020-03-12</time></li><li><time datetime=\"&lt;NA&gt;\">&lt;NA&gt;</time></li><li><time datetime=\"2020-03-11\">2020-03-11</time></li><li><time datetime=\"2020-03-13\">2020-03-13</time></li><li><time datetime=\"2020-03-05\">2020-03-05</time></li><li><time datetime=\"2020-03-14\">2020-03-14</time></li><li><time datetime=\"2020-03-15\">2020-03-15</time></li><li><time datetime=\"2020-03-16\">2020-03-16</time></li><li><time datetime=\"2020-03-18\">2020-03-18</time></li><li><time datetime=\"2020-03-17\">2020-03-17</time></li><li><time datetime=\"2020-03-19\">2020-03-19</time></li><li><time datetime=\"2020-03-20\">2020-03-20</time></li><li><time datetime=\"2020-03-21\">2020-03-21</time></li><li><time datetime=\"2020-03-22\">2020-03-22</time></li><li><time datetime=\"2020-03-23\">2020-03-23</time></li><li><time datetime=\"2020-03-24\">2020-03-24</time></li><li><time datetime=\"2020-03-25\">2020-03-25</time></li><li><time datetime=\"2020-03-27\">2020-03-27</time></li><li><time datetime=\"2020-03-26\">2020-03-26</time></li><li><time datetime=\"2020-03-28\">2020-03-28</time></li><li><time datetime=\"2020-03-29\">2020-03-29</time></li><li><time datetime=\"2020-03-01\">2020-03-01</time></li><li><time datetime=\"2020-03-30\">2020-03-30</time></li><li><time datetime=\"2020-03-31\">2020-03-31</time></li><li><time datetime=\"2020-04-01\">2020-04-01</time></li><li><time datetime=\"2020-04-03\">2020-04-03</time></li><li><time datetime=\"2020-04-02\">2020-04-02</time></li><li><time datetime=\"2020-04-04\">2020-04-04</time></li><li><time datetime=\"2020-04-05\">2020-04-05</time></li><li><time datetime=\"2020-04-06\">2020-04-06</time></li><li><time datetime=\"2020-04-07\">2020-04-07</time></li><li><time datetime=\"2020-04-09\">2020-04-09</time></li><li><time datetime=\"2020-04-10\">2020-04-10</time></li><li><time datetime=\"2020-04-08\">2020-04-08</time></li><li><time datetime=\"2020-04-11\">2020-04-11</time></li><li><time datetime=\"2020-04-12\">2020-04-12</time></li><li><time datetime=\"2020-04-13\">2020-04-13</time></li><li><time datetime=\"2020-04-23\">2020-04-23</time></li><li><time datetime=\"2020-04-14\">2020-04-14</time></li><li><time datetime=\"2020-04-15\">2020-04-15</time></li><li><time datetime=\"2020-04-17\">2020-04-17</time></li><li><time datetime=\"2020-04-16\">2020-04-16</time></li><li><time datetime=\"2020-04-18\">2020-04-18</time></li><li><time datetime=\"2020-04-19\">2020-04-19</time></li><li><time datetime=\"2020-04-20\">2020-04-20</time></li><li><time datetime=\"2020-04-26\">2020-04-26</time></li><li><time datetime=\"2020-04-21\">2020-04-21</time></li><li><time datetime=\"2020-04-29\">2020-04-29</time></li><li><time datetime=\"2020-04-22\">2020-04-22</time></li><li><time datetime=\"2020-04-25\">2020-04-25</time></li><li><time datetime=\"2020-04-24\">2020-04-24</time></li><li><time datetime=\"2020-04-27\">2020-04-27</time></li><li><time datetime=\"2020-04-28\">2020-04-28</time></li><li><time datetime=\"2020-04-30\">2020-04-30</time></li><li><time datetime=\"2020-05-02\">2020-05-02</time></li><li><time datetime=\"2020-05-01\">2020-05-01</time></li><li><time datetime=\"2020-05-22\">2020-05-22</time></li><li><time datetime=\"2020-05-03\">2020-05-03</time></li><li><time datetime=\"2020-05-06\">2020-05-06</time></li><li><time datetime=\"2020-05-05\">2020-05-05</time></li><li><time datetime=\"2020-05-04\">2020-05-04</time></li><li><time datetime=\"2020-05-07\">2020-05-07</time></li><li><time datetime=\"2020-03-03\">2020-03-03</time></li><li><time datetime=\"2020-05-09\">2020-05-09</time></li><li><time datetime=\"2020-05-08\">2020-05-08</time></li><li><time datetime=\"2020-06-25\">2020-06-25</time></li><li><time datetime=\"2020-05-10\">2020-05-10</time></li><li><time datetime=\"2020-05-11\">2020-05-11</time></li><li><time datetime=\"2020-06-21\">2020-06-21</time></li><li><time datetime=\"2020-05-12\">2020-05-12</time></li><li><time datetime=\"2020-05-13\">2020-05-13</time></li><li><time datetime=\"2020-05-14\">2020-05-14</time></li><li><time datetime=\"2020-05-15\">2020-05-15</time></li><li><time datetime=\"2020-05-16\">2020-05-16</time></li><li><time datetime=\"2020-05-17\">2020-05-17</time></li><li><time datetime=\"2020-05-23\">2020-05-23</time></li><li><time datetime=\"2020-05-18\">2020-05-18</time></li><li><time datetime=\"2020-05-19\">2020-05-19</time></li><li><time datetime=\"2020-05-20\">2020-05-20</time></li><li><time datetime=\"2020-06-23\">2020-06-23</time></li><li><time datetime=\"2020-05-21\">2020-05-21</time></li><li><time datetime=\"2020-05-24\">2020-05-24</time></li><li><time datetime=\"2020-05-25\">2020-05-25</time></li><li><time datetime=\"2020-05-29\">2020-05-29</time></li><li><time datetime=\"2020-05-26\">2020-05-26</time></li><li><time datetime=\"2020-05-27\">2020-05-27</time></li><li><time datetime=\"2020-05-28\">2020-05-28</time></li><li><time datetime=\"2020-06-03\">2020-06-03</time></li><li><time datetime=\"2020-05-30\">2020-05-30</time></li><li><time datetime=\"2020-05-31\">2020-05-31</time></li><li><time datetime=\"2020-06-20\">2020-06-20</time></li><li><time datetime=\"2020-06-01\">2020-06-01</time></li><li><time datetime=\"2020-06-02\">2020-06-02</time></li><li><time datetime=\"2020-06-07\">2020-06-07</time></li><li><time datetime=\"2020-06-04\">2020-06-04</time></li><li><time datetime=\"2020-06-05\">2020-06-05</time></li><li><time datetime=\"2020-06-08\">2020-06-08</time></li><li><time datetime=\"2020-06-06\">2020-06-06</time></li><li><time datetime=\"2020-06-09\">2020-06-09</time></li><li><time datetime=\"2020-06-30\">2020-06-30</time></li><li><time datetime=\"2020-06-15\">2020-06-15</time></li><li><time datetime=\"2020-06-27\">2020-06-27</time></li><li><time datetime=\"2020-06-10\">2020-06-10</time></li><li><time datetime=\"2020-06-16\">2020-06-16</time></li><li><time datetime=\"2020-06-24\">2020-06-24</time></li><li><time datetime=\"2020-06-29\">2020-06-29</time></li><li><time datetime=\"2020-06-11\">2020-06-11</time></li><li><time datetime=\"2020-06-12\">2020-06-12</time></li><li><time datetime=\"2020-06-28\">2020-06-28</time></li><li><time datetime=\"2020-06-13\">2020-06-13</time></li><li><time datetime=\"2020-07-01\">2020-07-01</time></li><li><time datetime=\"2020-06-14\">2020-06-14</time></li><li><time datetime=\"2020-06-26\">2020-06-26</time></li><li><time datetime=\"2020-07-04\">2020-07-04</time></li><li><time datetime=\"2020-07-08\">2020-07-08</time></li><li><time datetime=\"2020-06-17\">2020-06-17</time></li><li><time datetime=\"2020-06-18\">2020-06-18</time></li><li><time datetime=\"2020-06-19\">2020-06-19</time></li><li><time datetime=\"2020-06-22\">2020-06-22</time></li><li><time datetime=\"2020-07-02\">2020-07-02</time></li><li><time datetime=\"2020-07-10\">2020-07-10</time></li><li><time datetime=\"2020-07-03\">2020-07-03</time></li><li><time datetime=\"2020-07-06\">2020-07-06</time></li><li><time datetime=\"2020-07-05\">2020-07-05</time></li><li><time datetime=\"2020-07-07\">2020-07-07</time></li><li><time datetime=\"2020-07-09\">2020-07-09</time></li><li><time datetime=\"2020-07-15\">2020-07-15</time></li><li><time datetime=\"2020-07-11\">2020-07-11</time></li><li><time datetime=\"2020-07-12\">2020-07-12</time></li><li><time datetime=\"2020-07-13\">2020-07-13</time></li><li><time datetime=\"2020-07-14\">2020-07-14</time></li><li><time datetime=\"2020-07-16\">2020-07-16</time></li><li><time datetime=\"2020-07-17\">2020-07-17</time></li><li><time datetime=\"2020-07-18\">2020-07-18</time></li><li><time datetime=\"2020-07-19\">2020-07-19</time></li><li><time datetime=\"2020-07-20\">2020-07-20</time></li><li><time datetime=\"2020-07-21\">2020-07-21</time></li><li><time datetime=\"2020-07-22\">2020-07-22</time></li><li><time datetime=\"2020-07-23\">2020-07-23</time></li><li><time datetime=\"2020-07-24\">2020-07-24</time></li><li><time datetime=\"2020-07-25\">2020-07-25</time></li><li><time datetime=\"2020-07-26\">2020-07-26</time></li><li><time datetime=\"2020-07-27\">2020-07-27</time></li><li><time datetime=\"2020-07-28\">2020-07-28</time></li></ol>\n"
      ],
      "text/latex": [
       "\\begin{enumerate*}\n",
       "\\item 2020-02-27\n",
       "\\item 2020-03-04\n",
       "\\item 2020-02-29\n",
       "\\item 2020-03-06\n",
       "\\item 2020-03-08\n",
       "\\item 2020-03-02\n",
       "\\item 2020-03-07\n",
       "\\item 2020-03-09\n",
       "\\item 2020-02-28\n",
       "\\item 2020-03-10\n",
       "\\item 2020-03-12\n",
       "\\item <NA>\n",
       "\\item 2020-03-11\n",
       "\\item 2020-03-13\n",
       "\\item 2020-03-05\n",
       "\\item 2020-03-14\n",
       "\\item 2020-03-15\n",
       "\\item 2020-03-16\n",
       "\\item 2020-03-18\n",
       "\\item 2020-03-17\n",
       "\\item 2020-03-19\n",
       "\\item 2020-03-20\n",
       "\\item 2020-03-21\n",
       "\\item 2020-03-22\n",
       "\\item 2020-03-23\n",
       "\\item 2020-03-24\n",
       "\\item 2020-03-25\n",
       "\\item 2020-03-27\n",
       "\\item 2020-03-26\n",
       "\\item 2020-03-28\n",
       "\\item 2020-03-29\n",
       "\\item 2020-03-01\n",
       "\\item 2020-03-30\n",
       "\\item 2020-03-31\n",
       "\\item 2020-04-01\n",
       "\\item 2020-04-03\n",
       "\\item 2020-04-02\n",
       "\\item 2020-04-04\n",
       "\\item 2020-04-05\n",
       "\\item 2020-04-06\n",
       "\\item 2020-04-07\n",
       "\\item 2020-04-09\n",
       "\\item 2020-04-10\n",
       "\\item 2020-04-08\n",
       "\\item 2020-04-11\n",
       "\\item 2020-04-12\n",
       "\\item 2020-04-13\n",
       "\\item 2020-04-23\n",
       "\\item 2020-04-14\n",
       "\\item 2020-04-15\n",
       "\\item 2020-04-17\n",
       "\\item 2020-04-16\n",
       "\\item 2020-04-18\n",
       "\\item 2020-04-19\n",
       "\\item 2020-04-20\n",
       "\\item 2020-04-26\n",
       "\\item 2020-04-21\n",
       "\\item 2020-04-29\n",
       "\\item 2020-04-22\n",
       "\\item 2020-04-25\n",
       "\\item 2020-04-24\n",
       "\\item 2020-04-27\n",
       "\\item 2020-04-28\n",
       "\\item 2020-04-30\n",
       "\\item 2020-05-02\n",
       "\\item 2020-05-01\n",
       "\\item 2020-05-22\n",
       "\\item 2020-05-03\n",
       "\\item 2020-05-06\n",
       "\\item 2020-05-05\n",
       "\\item 2020-05-04\n",
       "\\item 2020-05-07\n",
       "\\item 2020-03-03\n",
       "\\item 2020-05-09\n",
       "\\item 2020-05-08\n",
       "\\item 2020-06-25\n",
       "\\item 2020-05-10\n",
       "\\item 2020-05-11\n",
       "\\item 2020-06-21\n",
       "\\item 2020-05-12\n",
       "\\item 2020-05-13\n",
       "\\item 2020-05-14\n",
       "\\item 2020-05-15\n",
       "\\item 2020-05-16\n",
       "\\item 2020-05-17\n",
       "\\item 2020-05-23\n",
       "\\item 2020-05-18\n",
       "\\item 2020-05-19\n",
       "\\item 2020-05-20\n",
       "\\item 2020-06-23\n",
       "\\item 2020-05-21\n",
       "\\item 2020-05-24\n",
       "\\item 2020-05-25\n",
       "\\item 2020-05-29\n",
       "\\item 2020-05-26\n",
       "\\item 2020-05-27\n",
       "\\item 2020-05-28\n",
       "\\item 2020-06-03\n",
       "\\item 2020-05-30\n",
       "\\item 2020-05-31\n",
       "\\item 2020-06-20\n",
       "\\item 2020-06-01\n",
       "\\item 2020-06-02\n",
       "\\item 2020-06-07\n",
       "\\item 2020-06-04\n",
       "\\item 2020-06-05\n",
       "\\item 2020-06-08\n",
       "\\item 2020-06-06\n",
       "\\item 2020-06-09\n",
       "\\item 2020-06-30\n",
       "\\item 2020-06-15\n",
       "\\item 2020-06-27\n",
       "\\item 2020-06-10\n",
       "\\item 2020-06-16\n",
       "\\item 2020-06-24\n",
       "\\item 2020-06-29\n",
       "\\item 2020-06-11\n",
       "\\item 2020-06-12\n",
       "\\item 2020-06-28\n",
       "\\item 2020-06-13\n",
       "\\item 2020-07-01\n",
       "\\item 2020-06-14\n",
       "\\item 2020-06-26\n",
       "\\item 2020-07-04\n",
       "\\item 2020-07-08\n",
       "\\item 2020-06-17\n",
       "\\item 2020-06-18\n",
       "\\item 2020-06-19\n",
       "\\item 2020-06-22\n",
       "\\item 2020-07-02\n",
       "\\item 2020-07-10\n",
       "\\item 2020-07-03\n",
       "\\item 2020-07-06\n",
       "\\item 2020-07-05\n",
       "\\item 2020-07-07\n",
       "\\item 2020-07-09\n",
       "\\item 2020-07-15\n",
       "\\item 2020-07-11\n",
       "\\item 2020-07-12\n",
       "\\item 2020-07-13\n",
       "\\item 2020-07-14\n",
       "\\item 2020-07-16\n",
       "\\item 2020-07-17\n",
       "\\item 2020-07-18\n",
       "\\item 2020-07-19\n",
       "\\item 2020-07-20\n",
       "\\item 2020-07-21\n",
       "\\item 2020-07-22\n",
       "\\item 2020-07-23\n",
       "\\item 2020-07-24\n",
       "\\item 2020-07-25\n",
       "\\item 2020-07-26\n",
       "\\item 2020-07-27\n",
       "\\item 2020-07-28\n",
       "\\end{enumerate*}\n"
      ],
      "text/markdown": [
       "1. 2020-02-27\n",
       "2. 2020-03-04\n",
       "3. 2020-02-29\n",
       "4. 2020-03-06\n",
       "5. 2020-03-08\n",
       "6. 2020-03-02\n",
       "7. 2020-03-07\n",
       "8. 2020-03-09\n",
       "9. 2020-02-28\n",
       "10. 2020-03-10\n",
       "11. 2020-03-12\n",
       "12. &lt;NA&gt;\n",
       "13. 2020-03-11\n",
       "14. 2020-03-13\n",
       "15. 2020-03-05\n",
       "16. 2020-03-14\n",
       "17. 2020-03-15\n",
       "18. 2020-03-16\n",
       "19. 2020-03-18\n",
       "20. 2020-03-17\n",
       "21. 2020-03-19\n",
       "22. 2020-03-20\n",
       "23. 2020-03-21\n",
       "24. 2020-03-22\n",
       "25. 2020-03-23\n",
       "26. 2020-03-24\n",
       "27. 2020-03-25\n",
       "28. 2020-03-27\n",
       "29. 2020-03-26\n",
       "30. 2020-03-28\n",
       "31. 2020-03-29\n",
       "32. 2020-03-01\n",
       "33. 2020-03-30\n",
       "34. 2020-03-31\n",
       "35. 2020-04-01\n",
       "36. 2020-04-03\n",
       "37. 2020-04-02\n",
       "38. 2020-04-04\n",
       "39. 2020-04-05\n",
       "40. 2020-04-06\n",
       "41. 2020-04-07\n",
       "42. 2020-04-09\n",
       "43. 2020-04-10\n",
       "44. 2020-04-08\n",
       "45. 2020-04-11\n",
       "46. 2020-04-12\n",
       "47. 2020-04-13\n",
       "48. 2020-04-23\n",
       "49. 2020-04-14\n",
       "50. 2020-04-15\n",
       "51. 2020-04-17\n",
       "52. 2020-04-16\n",
       "53. 2020-04-18\n",
       "54. 2020-04-19\n",
       "55. 2020-04-20\n",
       "56. 2020-04-26\n",
       "57. 2020-04-21\n",
       "58. 2020-04-29\n",
       "59. 2020-04-22\n",
       "60. 2020-04-25\n",
       "61. 2020-04-24\n",
       "62. 2020-04-27\n",
       "63. 2020-04-28\n",
       "64. 2020-04-30\n",
       "65. 2020-05-02\n",
       "66. 2020-05-01\n",
       "67. 2020-05-22\n",
       "68. 2020-05-03\n",
       "69. 2020-05-06\n",
       "70. 2020-05-05\n",
       "71. 2020-05-04\n",
       "72. 2020-05-07\n",
       "73. 2020-03-03\n",
       "74. 2020-05-09\n",
       "75. 2020-05-08\n",
       "76. 2020-06-25\n",
       "77. 2020-05-10\n",
       "78. 2020-05-11\n",
       "79. 2020-06-21\n",
       "80. 2020-05-12\n",
       "81. 2020-05-13\n",
       "82. 2020-05-14\n",
       "83. 2020-05-15\n",
       "84. 2020-05-16\n",
       "85. 2020-05-17\n",
       "86. 2020-05-23\n",
       "87. 2020-05-18\n",
       "88. 2020-05-19\n",
       "89. 2020-05-20\n",
       "90. 2020-06-23\n",
       "91. 2020-05-21\n",
       "92. 2020-05-24\n",
       "93. 2020-05-25\n",
       "94. 2020-05-29\n",
       "95. 2020-05-26\n",
       "96. 2020-05-27\n",
       "97. 2020-05-28\n",
       "98. 2020-06-03\n",
       "99. 2020-05-30\n",
       "100. 2020-05-31\n",
       "101. 2020-06-20\n",
       "102. 2020-06-01\n",
       "103. 2020-06-02\n",
       "104. 2020-06-07\n",
       "105. 2020-06-04\n",
       "106. 2020-06-05\n",
       "107. 2020-06-08\n",
       "108. 2020-06-06\n",
       "109. 2020-06-09\n",
       "110. 2020-06-30\n",
       "111. 2020-06-15\n",
       "112. 2020-06-27\n",
       "113. 2020-06-10\n",
       "114. 2020-06-16\n",
       "115. 2020-06-24\n",
       "116. 2020-06-29\n",
       "117. 2020-06-11\n",
       "118. 2020-06-12\n",
       "119. 2020-06-28\n",
       "120. 2020-06-13\n",
       "121. 2020-07-01\n",
       "122. 2020-06-14\n",
       "123. 2020-06-26\n",
       "124. 2020-07-04\n",
       "125. 2020-07-08\n",
       "126. 2020-06-17\n",
       "127. 2020-06-18\n",
       "128. 2020-06-19\n",
       "129. 2020-06-22\n",
       "130. 2020-07-02\n",
       "131. 2020-07-10\n",
       "132. 2020-07-03\n",
       "133. 2020-07-06\n",
       "134. 2020-07-05\n",
       "135. 2020-07-07\n",
       "136. 2020-07-09\n",
       "137. 2020-07-15\n",
       "138. 2020-07-11\n",
       "139. 2020-07-12\n",
       "140. 2020-07-13\n",
       "141. 2020-07-14\n",
       "142. 2020-07-16\n",
       "143. 2020-07-17\n",
       "144. 2020-07-18\n",
       "145. 2020-07-19\n",
       "146. 2020-07-20\n",
       "147. 2020-07-21\n",
       "148. 2020-07-22\n",
       "149. 2020-07-23\n",
       "150. 2020-07-24\n",
       "151. 2020-07-25\n",
       "152. 2020-07-26\n",
       "153. 2020-07-27\n",
       "154. 2020-07-28\n",
       "\n",
       "\n"
      ],
      "text/plain": [
       "  [1] \"2020-02-27\" \"2020-03-04\" \"2020-02-29\" \"2020-03-06\" \"2020-03-08\"\n",
       "  [6] \"2020-03-02\" \"2020-03-07\" \"2020-03-09\" \"2020-02-28\" \"2020-03-10\"\n",
       " [11] \"2020-03-12\" NA           \"2020-03-11\" \"2020-03-13\" \"2020-03-05\"\n",
       " [16] \"2020-03-14\" \"2020-03-15\" \"2020-03-16\" \"2020-03-18\" \"2020-03-17\"\n",
       " [21] \"2020-03-19\" \"2020-03-20\" \"2020-03-21\" \"2020-03-22\" \"2020-03-23\"\n",
       " [26] \"2020-03-24\" \"2020-03-25\" \"2020-03-27\" \"2020-03-26\" \"2020-03-28\"\n",
       " [31] \"2020-03-29\" \"2020-03-01\" \"2020-03-30\" \"2020-03-31\" \"2020-04-01\"\n",
       " [36] \"2020-04-03\" \"2020-04-02\" \"2020-04-04\" \"2020-04-05\" \"2020-04-06\"\n",
       " [41] \"2020-04-07\" \"2020-04-09\" \"2020-04-10\" \"2020-04-08\" \"2020-04-11\"\n",
       " [46] \"2020-04-12\" \"2020-04-13\" \"2020-04-23\" \"2020-04-14\" \"2020-04-15\"\n",
       " [51] \"2020-04-17\" \"2020-04-16\" \"2020-04-18\" \"2020-04-19\" \"2020-04-20\"\n",
       " [56] \"2020-04-26\" \"2020-04-21\" \"2020-04-29\" \"2020-04-22\" \"2020-04-25\"\n",
       " [61] \"2020-04-24\" \"2020-04-27\" \"2020-04-28\" \"2020-04-30\" \"2020-05-02\"\n",
       " [66] \"2020-05-01\" \"2020-05-22\" \"2020-05-03\" \"2020-05-06\" \"2020-05-05\"\n",
       " [71] \"2020-05-04\" \"2020-05-07\" \"2020-03-03\" \"2020-05-09\" \"2020-05-08\"\n",
       " [76] \"2020-06-25\" \"2020-05-10\" \"2020-05-11\" \"2020-06-21\" \"2020-05-12\"\n",
       " [81] \"2020-05-13\" \"2020-05-14\" \"2020-05-15\" \"2020-05-16\" \"2020-05-17\"\n",
       " [86] \"2020-05-23\" \"2020-05-18\" \"2020-05-19\" \"2020-05-20\" \"2020-06-23\"\n",
       " [91] \"2020-05-21\" \"2020-05-24\" \"2020-05-25\" \"2020-05-29\" \"2020-05-26\"\n",
       " [96] \"2020-05-27\" \"2020-05-28\" \"2020-06-03\" \"2020-05-30\" \"2020-05-31\"\n",
       "[101] \"2020-06-20\" \"2020-06-01\" \"2020-06-02\" \"2020-06-07\" \"2020-06-04\"\n",
       "[106] \"2020-06-05\" \"2020-06-08\" \"2020-06-06\" \"2020-06-09\" \"2020-06-30\"\n",
       "[111] \"2020-06-15\" \"2020-06-27\" \"2020-06-10\" \"2020-06-16\" \"2020-06-24\"\n",
       "[116] \"2020-06-29\" \"2020-06-11\" \"2020-06-12\" \"2020-06-28\" \"2020-06-13\"\n",
       "[121] \"2020-07-01\" \"2020-06-14\" \"2020-06-26\" \"2020-07-04\" \"2020-07-08\"\n",
       "[126] \"2020-06-17\" \"2020-06-18\" \"2020-06-19\" \"2020-06-22\" \"2020-07-02\"\n",
       "[131] \"2020-07-10\" \"2020-07-03\" \"2020-07-06\" \"2020-07-05\" \"2020-07-07\"\n",
       "[136] \"2020-07-09\" \"2020-07-15\" \"2020-07-11\" \"2020-07-12\" \"2020-07-13\"\n",
       "[141] \"2020-07-14\" \"2020-07-16\" \"2020-07-17\" \"2020-07-18\" \"2020-07-19\"\n",
       "[146] \"2020-07-20\" \"2020-07-21\" \"2020-07-22\" \"2020-07-23\" \"2020-07-24\"\n",
       "[151] \"2020-07-25\" \"2020-07-26\" \"2020-07-27\" \"2020-07-28\""
      ]
     },
     "metadata": {},
     "output_type": "display_data"
    }
   ],
   "source": [
    "unique(covid_19$'FIS')"
   ]
  },
  {
   "cell_type": "markdown",
   "metadata": {},
   "source": [
    "Como existen valores \"perdidos\" o NAs en las 3 fechas, es necesario excluirlos antes de proceder a determinar las series de tiempo"
   ]
  },
  {
   "cell_type": "code",
   "execution_count": 36,
   "metadata": {},
   "outputs": [
    {
     "name": "stderr",
     "output_type": "stream",
     "text": [
      "pad applied on the interval: day\n",
      "\n",
      "pad applied on the interval: day\n",
      "\n",
      "pad applied on the interval: day\n",
      "\n"
     ]
    }
   ],
   "source": [
    "casos.fd <- with(covid_19[!is.na(covid_19$'Fecha diagnostico'),],data.frame(table(`Fecha diagnostico`)))\n",
    "casos.fr <- with(covid_19[!is.na(covid_19$'Fecha recuperado'),],data.frame(table(`Fecha recuperado`)))\n",
    "casos.fis <- with(covid_19[!is.na(covid_19$'FIS'),],data.frame(table(`FIS`)))\n",
    "\n",
    "casos.fd$Fecha.diagnostico <- as.Date(casos.fd$Fecha.diagnostico)\n",
    "casos.fr$Fecha.recuperado <- as.Date(casos.fr$Fecha.recuperado)\n",
    "casos.fis$FIS <- as.Date(casos.fis$FIS)\n",
    "casos.fd <- casos.fd %>% pad\n",
    "casos.fd$Freq <- replace(casos.fd$Freq,is.na(casos.fd$Freq),0)\n",
    "casos.fr <- casos.fr %>% pad\n",
    "casos.fr$Freq <- replace(casos.fr$Freq,is.na(casos.fr$Freq),0)\n",
    "casos.fis <- casos.fis %>% pad\n",
    "casos.fis$Freq <- replace(casos.fis$Freq,is.na(casos.fis$Freq),0)"
   ]
  },
  {
   "cell_type": "code",
   "execution_count": 37,
   "metadata": {},
   "outputs": [
    {
     "data": {
      "text/html": [
       "<table>\n",
       "<caption>A data.frame: 6 × 2</caption>\n",
       "<thead>\n",
       "\t<tr><th></th><th scope=col>Fecha.diagnostico</th><th scope=col>Freq</th></tr>\n",
       "\t<tr><th></th><th scope=col>&lt;date&gt;</th><th scope=col>&lt;dbl&gt;</th></tr>\n",
       "</thead>\n",
       "<tbody>\n",
       "\t<tr><th scope=row>1</th><td>2020-03-06</td><td>1</td></tr>\n",
       "\t<tr><th scope=row>2</th><td>2020-03-07</td><td>0</td></tr>\n",
       "\t<tr><th scope=row>3</th><td>2020-03-08</td><td>0</td></tr>\n",
       "\t<tr><th scope=row>4</th><td>2020-03-09</td><td>2</td></tr>\n",
       "\t<tr><th scope=row>5</th><td>2020-03-10</td><td>0</td></tr>\n",
       "\t<tr><th scope=row>6</th><td>2020-03-11</td><td>6</td></tr>\n",
       "</tbody>\n",
       "</table>\n"
      ],
      "text/latex": [
       "A data.frame: 6 × 2\n",
       "\\begin{tabular}{r|ll}\n",
       "  & Fecha.diagnostico & Freq\\\\\n",
       "  & <date> & <dbl>\\\\\n",
       "\\hline\n",
       "\t1 & 2020-03-06 & 1\\\\\n",
       "\t2 & 2020-03-07 & 0\\\\\n",
       "\t3 & 2020-03-08 & 0\\\\\n",
       "\t4 & 2020-03-09 & 2\\\\\n",
       "\t5 & 2020-03-10 & 0\\\\\n",
       "\t6 & 2020-03-11 & 6\\\\\n",
       "\\end{tabular}\n"
      ],
      "text/markdown": [
       "\n",
       "A data.frame: 6 × 2\n",
       "\n",
       "| <!--/--> | Fecha.diagnostico &lt;date&gt; | Freq &lt;dbl&gt; |\n",
       "|---|---|---|\n",
       "| 1 | 2020-03-06 | 1 |\n",
       "| 2 | 2020-03-07 | 0 |\n",
       "| 3 | 2020-03-08 | 0 |\n",
       "| 4 | 2020-03-09 | 2 |\n",
       "| 5 | 2020-03-10 | 0 |\n",
       "| 6 | 2020-03-11 | 6 |\n",
       "\n"
      ],
      "text/plain": [
       "  Fecha.diagnostico Freq\n",
       "1 2020-03-06        1   \n",
       "2 2020-03-07        0   \n",
       "3 2020-03-08        0   \n",
       "4 2020-03-09        2   \n",
       "5 2020-03-10        0   \n",
       "6 2020-03-11        6   "
      ]
     },
     "metadata": {},
     "output_type": "display_data"
    },
    {
     "data": {
      "text/html": [
       "<table>\n",
       "<caption>A data.frame: 6 × 2</caption>\n",
       "<thead>\n",
       "\t<tr><th></th><th scope=col>Fecha.recuperado</th><th scope=col>Freq</th></tr>\n",
       "\t<tr><th></th><th scope=col>&lt;date&gt;</th><th scope=col>&lt;dbl&gt;</th></tr>\n",
       "</thead>\n",
       "<tbody>\n",
       "\t<tr><th scope=row>1</th><td>2020-03-13</td><td>1</td></tr>\n",
       "\t<tr><th scope=row>2</th><td>2020-03-14</td><td>1</td></tr>\n",
       "\t<tr><th scope=row>3</th><td>2020-03-15</td><td>1</td></tr>\n",
       "\t<tr><th scope=row>4</th><td>2020-03-16</td><td>0</td></tr>\n",
       "\t<tr><th scope=row>5</th><td>2020-03-17</td><td>1</td></tr>\n",
       "\t<tr><th scope=row>6</th><td>2020-03-18</td><td>0</td></tr>\n",
       "</tbody>\n",
       "</table>\n"
      ],
      "text/latex": [
       "A data.frame: 6 × 2\n",
       "\\begin{tabular}{r|ll}\n",
       "  & Fecha.recuperado & Freq\\\\\n",
       "  & <date> & <dbl>\\\\\n",
       "\\hline\n",
       "\t1 & 2020-03-13 & 1\\\\\n",
       "\t2 & 2020-03-14 & 1\\\\\n",
       "\t3 & 2020-03-15 & 1\\\\\n",
       "\t4 & 2020-03-16 & 0\\\\\n",
       "\t5 & 2020-03-17 & 1\\\\\n",
       "\t6 & 2020-03-18 & 0\\\\\n",
       "\\end{tabular}\n"
      ],
      "text/markdown": [
       "\n",
       "A data.frame: 6 × 2\n",
       "\n",
       "| <!--/--> | Fecha.recuperado &lt;date&gt; | Freq &lt;dbl&gt; |\n",
       "|---|---|---|\n",
       "| 1 | 2020-03-13 | 1 |\n",
       "| 2 | 2020-03-14 | 1 |\n",
       "| 3 | 2020-03-15 | 1 |\n",
       "| 4 | 2020-03-16 | 0 |\n",
       "| 5 | 2020-03-17 | 1 |\n",
       "| 6 | 2020-03-18 | 0 |\n",
       "\n"
      ],
      "text/plain": [
       "  Fecha.recuperado Freq\n",
       "1 2020-03-13       1   \n",
       "2 2020-03-14       1   \n",
       "3 2020-03-15       1   \n",
       "4 2020-03-16       0   \n",
       "5 2020-03-17       1   \n",
       "6 2020-03-18       0   "
      ]
     },
     "metadata": {},
     "output_type": "display_data"
    },
    {
     "data": {
      "text/html": [
       "<table>\n",
       "<caption>A data.frame: 6 × 2</caption>\n",
       "<thead>\n",
       "\t<tr><th></th><th scope=col>FIS</th><th scope=col>Freq</th></tr>\n",
       "\t<tr><th></th><th scope=col>&lt;date&gt;</th><th scope=col>&lt;dbl&gt;</th></tr>\n",
       "</thead>\n",
       "<tbody>\n",
       "\t<tr><th scope=row>1</th><td>2020-02-27</td><td>1</td></tr>\n",
       "\t<tr><th scope=row>2</th><td>2020-02-28</td><td>1</td></tr>\n",
       "\t<tr><th scope=row>3</th><td>2020-02-29</td><td>2</td></tr>\n",
       "\t<tr><th scope=row>4</th><td>2020-03-01</td><td>5</td></tr>\n",
       "\t<tr><th scope=row>5</th><td>2020-03-02</td><td>4</td></tr>\n",
       "\t<tr><th scope=row>6</th><td>2020-03-03</td><td>2</td></tr>\n",
       "</tbody>\n",
       "</table>\n"
      ],
      "text/latex": [
       "A data.frame: 6 × 2\n",
       "\\begin{tabular}{r|ll}\n",
       "  & FIS & Freq\\\\\n",
       "  & <date> & <dbl>\\\\\n",
       "\\hline\n",
       "\t1 & 2020-02-27 & 1\\\\\n",
       "\t2 & 2020-02-28 & 1\\\\\n",
       "\t3 & 2020-02-29 & 2\\\\\n",
       "\t4 & 2020-03-01 & 5\\\\\n",
       "\t5 & 2020-03-02 & 4\\\\\n",
       "\t6 & 2020-03-03 & 2\\\\\n",
       "\\end{tabular}\n"
      ],
      "text/markdown": [
       "\n",
       "A data.frame: 6 × 2\n",
       "\n",
       "| <!--/--> | FIS &lt;date&gt; | Freq &lt;dbl&gt; |\n",
       "|---|---|---|\n",
       "| 1 | 2020-02-27 | 1 |\n",
       "| 2 | 2020-02-28 | 1 |\n",
       "| 3 | 2020-02-29 | 2 |\n",
       "| 4 | 2020-03-01 | 5 |\n",
       "| 5 | 2020-03-02 | 4 |\n",
       "| 6 | 2020-03-03 | 2 |\n",
       "\n"
      ],
      "text/plain": [
       "  FIS        Freq\n",
       "1 2020-02-27 1   \n",
       "2 2020-02-28 1   \n",
       "3 2020-02-29 2   \n",
       "4 2020-03-01 5   \n",
       "5 2020-03-02 4   \n",
       "6 2020-03-03 2   "
      ]
     },
     "metadata": {},
     "output_type": "display_data"
    }
   ],
   "source": [
    "head(casos.fd)\n",
    "head(casos.fr)\n",
    "head(casos.fis)"
   ]
  },
  {
   "cell_type": "markdown",
   "metadata": {},
   "source": [
    "## Fecha de Diagnóstico"
   ]
  },
  {
   "cell_type": "code",
   "execution_count": 38,
   "metadata": {
    "colab": {
     "base_uri": "https://localhost:8080/",
     "height": 437
    },
    "colab_type": "code",
    "id": "d2dehCp2LXEC",
    "outputId": "ddfa5903-ed9f-4167-eb03-5cd79d786c83"
   },
   "outputs": [
    {
     "data": {
      "image/png": "[encoded data removed]",
      "text/plain": [
       "plot without title"
      ]
     },
     "metadata": {
      "image/png": {
       "height": 420,
       "width": 420
      },
      "text/plain": {
       "height": 420,
       "width": 420
      }
     },
     "output_type": "display_data"
    }
   ],
   "source": [
    "with(casos.fd, plot(Fecha.diagnostico, Freq))"
   ]
  },
  {
   "cell_type": "markdown",
   "metadata": {},
   "source": [
    "La gráfica pareciera tener un comportamiento similar a lo observado con fecha de notificación, sin embargo, en los últimos días no se observa un comportamiento del todo claro"
   ]
  },
  {
   "cell_type": "code",
   "execution_count": 40,
   "metadata": {
    "colab": {},
    "colab_type": "code",
    "id": "-v1cDCJmLXEF"
   },
   "outputs": [],
   "source": [
    "casosfd <- casos.fd$Freq"
   ]
  },
  {
   "cell_type": "markdown",
   "metadata": {},
   "source": [
    "Se trajará con tres escenarios, uno sin estacionalidad, otro con estacionalidad de 7 días y el último con estacionalidad de 14 días; aunque es poco probable que el de 14 días sea mejor modelo que alguno de los dos iniciales, ya que por el tipo de situación no parece haber esa relación."
   ]
  },
  {
   "cell_type": "code",
   "execution_count": 45,
   "metadata": {
    "colab": {},
    "colab_type": "code",
    "id": "NrXzXZl2LXEG"
   },
   "outputs": [],
   "source": [
    "casosfd.ts7<-ts(casosfd[-1], frequency = 7)\n",
    "casosfd.ts14<-ts(casosfd[-1], frequency = 14)\n",
    "casosfd.tsn<-ts(casosfd[-1])"
   ]
  },
  {
   "cell_type": "markdown",
   "metadata": {},
   "source": [
    "Solamente se grafica una de las series ya que la frecuencia no influye en la gráfica"
   ]
  },
  {
   "cell_type": "code",
   "execution_count": 46,
   "metadata": {
    "colab": {
     "base_uri": "https://localhost:8080/",
     "height": 857
    },
    "colab_type": "code",
    "id": "fdcps6Xw7iws",
    "outputId": "e891e175-c981-47a1-b20e-fb784242a685"
   },
   "outputs": [
    {
     "data": {
      "image/png": "[encoded data removed]",
      "text/plain": [
       "plot without title"
      ]
     },
     "metadata": {
      "image/png": {
       "height": 420,
       "width": 420
      },
      "text/plain": {
       "height": 420,
       "width": 420
      }
     },
     "output_type": "display_data"
    }
   ],
   "source": [
    "plot(casosfd.tsn)"
   ]
  },
  {
   "cell_type": "markdown",
   "metadata": {},
   "source": [
    "Se tiene una primera aproximación por descomposición, pero únicamente de las que tienen componente estacional"
   ]
  },
  {
   "cell_type": "code",
   "execution_count": 47,
   "metadata": {
    "colab": {
     "base_uri": "https://localhost:8080/",
     "height": 437
    },
    "colab_type": "code",
    "id": "kUcpQLWG7sn-",
    "outputId": "c66c0732-013f-464c-df0b-312894779db1"
   },
   "outputs": [
    {
     "data": {
      "image/png": "[encoded data removed]",
      "text/plain": [
       "plot without title"
      ]
     },
     "metadata": {
      "image/png": {
       "height": 420,
       "width": 420
      },
      "text/plain": {
       "height": 420,
       "width": 420
      }
     },
     "output_type": "display_data"
    },
    {
     "data": {
      "image/png": "[encoded data removed]",
      "text/plain": [
       "plot without title"
      ]
     },
     "metadata": {
      "image/png": {
       "height": 420,
       "width": 420
      },
      "text/plain": {
       "height": 420,
       "width": 420
      }
     },
     "output_type": "display_data"
    }
   ],
   "source": [
    "plot(decompose(casosfd.ts7))\n",
    "plot(decompose(casosfd.ts14))"
   ]
  },
  {
   "cell_type": "markdown",
   "metadata": {},
   "source": [
    "Así como en fecha de notificación, parecería poder modelarse de mejor forma con descomposición de tipo multiplicativo y no aditivo."
   ]
  },
  {
   "cell_type": "code",
   "execution_count": 48,
   "metadata": {
    "colab": {
     "base_uri": "https://localhost:8080/",
     "height": 437
    },
    "colab_type": "code",
    "id": "8dJsbm3q8HZw",
    "outputId": "42132d88-330b-489e-9d48-16deccc6a1e5"
   },
   "outputs": [
    {
     "data": {
      "image/png": "[encoded data removed]",
      "text/plain": [
       "plot without title"
      ]
     },
     "metadata": {
      "image/png": {
       "height": 420,
       "width": 420
      },
      "text/plain": {
       "height": 420,
       "width": 420
      }
     },
     "output_type": "display_data"
    },
    {
     "data": {
      "image/png": "[encoded data removed]",
      "text/plain": [
       "plot without title"
      ]
     },
     "metadata": {
      "image/png": {
       "height": 420,
       "width": 420
      },
      "text/plain": {
       "height": 420,
       "width": 420
      }
     },
     "output_type": "display_data"
    }
   ],
   "source": [
    "plot(decompose(casosfd.ts7, type = 'multiplicative'))\n",
    "plot(decompose(casosfd.ts14, type = 'multiplicative'))"
   ]
  },
  {
   "cell_type": "markdown",
   "metadata": {},
   "source": [
    "Se aprecia el cambio tanto en el componente estacional como el aleatorio; se aprecia que es mejor modelo que del tipo aditivo. En el de 7 días, se observa un valle y dos picos consecutivos. Aún así, es mejor analizarlo desde la metodología de Box-Jenkins"
   ]
  },
  {
   "cell_type": "code",
   "execution_count": 49,
   "metadata": {
    "colab": {
     "base_uri": "https://localhost:8080/",
     "height": 185
    },
    "colab_type": "code",
    "id": "FD6n9CzL8TAZ",
    "outputId": "794cfa2a-e2b6-49cb-c9b6-883b45753353"
   },
   "outputs": [
    {
     "data": {
      "text/plain": [
       "Series: casosfd.ts7 \n",
       "ARIMA(2,1,0) \n",
       "\n",
       "Coefficients:\n",
       "          ar1      ar2\n",
       "      -0.6228  -0.7475\n",
       "s.e.   0.0907   0.0906\n",
       "\n",
       "sigma^2 estimated as 1066563:  log likelihood=-1203.56\n",
       "AIC=2413.13   AICc=2413.3   BIC=2422.03"
      ]
     },
     "metadata": {},
     "output_type": "display_data"
    },
    {
     "data": {
      "text/plain": [
       "Series: casosfd.ts14 \n",
       "ARIMA(2,1,0)(0,0,1)[14] \n",
       "\n",
       "Coefficients:\n",
       "          ar1      ar2    sma1\n",
       "      -0.6667  -0.6235  0.4536\n",
       "s.e.   0.0931   0.1843  0.4115\n",
       "\n",
       "sigma^2 estimated as 1053709:  log likelihood=-1203.46\n",
       "AIC=2414.92   AICc=2415.21   BIC=2426.8"
      ]
     },
     "metadata": {},
     "output_type": "display_data"
    },
    {
     "data": {
      "text/plain": [
       "Series: casosfd.tsn \n",
       "ARIMA(2,1,0) \n",
       "\n",
       "Coefficients:\n",
       "          ar1      ar2\n",
       "      -0.6228  -0.7475\n",
       "s.e.   0.0907   0.0906\n",
       "\n",
       "sigma^2 estimated as 1066563:  log likelihood=-1203.56\n",
       "AIC=2413.13   AICc=2413.3   BIC=2422.03"
      ]
     },
     "metadata": {},
     "output_type": "display_data"
    }
   ],
   "source": [
    "auto.arima(casosfd.ts7)\n",
    "auto.arima(casosfd.ts14)\n",
    "auto.arima(casosfd.tsn)"
   ]
  },
  {
   "cell_type": "markdown",
   "metadata": {},
   "source": [
    "<div style=\"text-align: justify\">A partir de lo anterior ya se pueden observar algunos detalles; por ejemplo, en el caso de periodicidad de estacionalidad de 7 días no hubo ninguna diferencia con el que no tenía ninguna estacionalidad, lo que nos estaría diciendo que no se estaría presentando dicho componente estacional, sino un proceso arima con componente autorregresivo de orden 2, es decir, los datos observados un día específico están influenciados por los datos observados los dos días anteriores, se integra con los errores aunque estos no presentan patrón. <br>\n",
    "Por el AIC y BIC se observa que este modelo es mejor que el que tiene estacionalidad de 14 días, que se definió como un arima también con componente autorregresivo de orden dos y los errores de orden 1, así como un componente estacional de media móvil de orden 1.</div>\n",
    "<br>\n",
    "Se miran las gráficas para ver si se puede obtener mayor información al respecto."
   ]
  },
  {
   "cell_type": "code",
   "execution_count": 50,
   "metadata": {
    "colab": {
     "base_uri": "https://localhost:8080/",
     "height": 437
    },
    "colab_type": "code",
    "id": "nbFMV0kx86Lw",
    "outputId": "2113fa97-8948-4500-a529-653b8b58a320"
   },
   "outputs": [
    {
     "data": {
      "image/png": "[encoded data removed]",
      "text/plain": [
       "Plot with title \"Series  casosfd.tsn\""
      ]
     },
     "metadata": {
      "image/png": {
       "height": 420,
       "width": 420
      },
      "text/plain": {
       "height": 420,
       "width": 420
      }
     },
     "output_type": "display_data"
    }
   ],
   "source": [
    "par(mfrow = c(3,2))\n",
    "acf(casosfd.ts7)\n",
    "pacf(casosfd.ts7)\n",
    "acf(casosfd.ts14)\n",
    "pacf(casosfd.ts14)\n",
    "acf(casosfd.tsn)\n",
    "pacf(casosfd.tsn)"
   ]
  },
  {
   "cell_type": "markdown",
   "metadata": {},
   "source": [
    "Por la gráfica de función de autocorrelación, parece que todas son ARIMA, aunque la de autocorrelación parcial no es del todo clara, no se identifica componente estacional."
   ]
  },
  {
   "cell_type": "code",
   "execution_count": 51,
   "metadata": {
    "colab": {
     "base_uri": "https://localhost:8080/",
     "height": 146
    },
    "colab_type": "code",
    "id": "Nq38SuJk9u-d",
    "outputId": "1ad7ee54-df99-4141-f57c-b5be27f1ef65"
   },
   "outputs": [
    {
     "data": {
      "text/html": [
       "<dl>\n",
       "\t<dt>$pred</dt>\n",
       "\t\t<dd>A Time Series:<br><style>\n",
       ".list-inline {list-style: none; margin:0; padding: 0}\n",
       ".list-inline>li {display: inline-block}\n",
       ".list-inline>li:not(:last-child)::after {content: \"\\00b7\"; padding: 0 .5ex}\n",
       "</style>\n",
       "<ol class=list-inline><li>4060.08349296928</li><li>9870.18832505788</li><li>3364.85263540643</li><li>3073.52757456676</li><li>8117.4969381262</li></ol>\n",
       "</dd>\n",
       "\t<dt>$se</dt>\n",
       "\t\t<dd>A Time Series:<br><style>\n",
       ".list-inline {list-style: none; margin:0; padding: 0}\n",
       ".list-inline>li {display: inline-block}\n",
       ".list-inline>li:not(:last-child)::after {content: \"\\00b7\"; padding: 0 .5ex}\n",
       "</style>\n",
       "<ol class=list-inline><li>1032.74541275761</li><li>1103.77127118326</li><li>1103.92113188054</li><li>1323.59187212369</li><li>1438.88470786552</li></ol>\n",
       "</dd>\n",
       "</dl>\n"
      ],
      "text/latex": [
       "\\begin{description}\n",
       "\\item[\\$pred] A Time Series:\\\\\\begin{enumerate*}\n",
       "\\item 4060.08349296928\n",
       "\\item 9870.18832505788\n",
       "\\item 3364.85263540643\n",
       "\\item 3073.52757456676\n",
       "\\item 8117.4969381262\n",
       "\\end{enumerate*}\n",
       "\n",
       "\\item[\\$se] A Time Series:\\\\\\begin{enumerate*}\n",
       "\\item 1032.74541275761\n",
       "\\item 1103.77127118326\n",
       "\\item 1103.92113188054\n",
       "\\item 1323.59187212369\n",
       "\\item 1438.88470786552\n",
       "\\end{enumerate*}\n",
       "\n",
       "\\end{description}\n"
      ],
      "text/markdown": [
       "$pred\n",
       ":   A Time Series:  \n",
       "1. 4060.08349296928\n",
       "2. 9870.18832505788\n",
       "3. 3364.85263540643\n",
       "4. 3073.52757456676\n",
       "5. 8117.4969381262\n",
       "\n",
       "\n",
       "\n",
       "$se\n",
       ":   A Time Series:  \n",
       "1. 1032.74541275761\n",
       "2. 1103.77127118326\n",
       "3. 1103.92113188054\n",
       "4. 1323.59187212369\n",
       "5. 1438.88470786552\n",
       "\n",
       "\n",
       "\n",
       "\n",
       "\n"
      ],
      "text/plain": [
       "$pred\n",
       "Time Series:\n",
       "Start = 146 \n",
       "End = 150 \n",
       "Frequency = 1 \n",
       "[1] 4060.083 9870.188 3364.853 3073.528 8117.497\n",
       "\n",
       "$se\n",
       "Time Series:\n",
       "Start = 146 \n",
       "End = 150 \n",
       "Frequency = 1 \n",
       "[1] 1032.745 1103.771 1103.921 1323.592 1438.885\n"
      ]
     },
     "metadata": {},
     "output_type": "display_data"
    }
   ],
   "source": [
    "predict(auto.arima(casosfd.tsn),5)"
   ]
  },
  {
   "cell_type": "markdown",
   "metadata": {},
   "source": [
    "Por lo que se aprecia de la predicción, parece indicar que los valores van a estar fluctuando con crecimientos y decaimientos constantes."
   ]
  },
  {
   "cell_type": "markdown",
   "metadata": {},
   "source": [
    "Ahora, se intenta aplicar la primera diferencia para ver si esto esclarece un poco más el proceso. Como se observó que no influye la estacionalidad, se le aplica únicamente al caso en que no lo tiene."
   ]
  },
  {
   "cell_type": "code",
   "execution_count": 71,
   "metadata": {
    "colab": {
     "base_uri": "https://localhost:8080/",
     "height": 437
    },
    "colab_type": "code",
    "id": "e8adY7oY9OQu",
    "outputId": "c5bdc68b-b6b3-4a77-d0ae-8f47576e597e"
   },
   "outputs": [
    {
     "data": {
      "image/png": "[encoded data removed]",
      "text/plain": [
       "Plot with title \"Series  diff(casosfd.tsn, 1)\""
      ]
     },
     "metadata": {
      "image/png": {
       "height": 420,
       "width": 420
      },
      "text/plain": {
       "height": 420,
       "width": 420
      }
     },
     "output_type": "display_data"
    },
    {
     "data": {
      "image/png": "[encoded data removed]",
      "text/plain": [
       "Plot with title \"Series  diff(casosfd.tsn, 1)\""
      ]
     },
     "metadata": {
      "image/png": {
       "height": 420,
       "width": 420
      },
      "text/plain": {
       "height": 420,
       "width": 420
      }
     },
     "output_type": "display_data"
    }
   ],
   "source": [
    "acf(diff(casosfd.tsn,1))\n",
    "pacf(diff(casosfd.tsn,1))"
   ]
  },
  {
   "cell_type": "code",
   "execution_count": 65,
   "metadata": {
    "colab": {
     "base_uri": "https://localhost:8080/",
     "height": 101
    },
    "colab_type": "code",
    "id": "4PvFP1LG9X13",
    "outputId": "3a940390-721c-4dbc-ce06-b3e9c96cde0a"
   },
   "outputs": [
    {
     "data": {
      "text/plain": [
       "Series: diff(casosfd.tsn, 1) \n",
       "ARIMA(2,0,0) with zero mean \n",
       "\n",
       "Coefficients:\n",
       "          ar1      ar2\n",
       "      -0.6227  -0.7469\n",
       "s.e.   0.0917   0.0915\n",
       "\n",
       "sigma^2 estimated as 1089612:  log likelihood=-1179.99\n",
       "AIC=2365.98   AICc=2366.16   BIC=2374.83"
      ]
     },
     "metadata": {},
     "output_type": "display_data"
    }
   ],
   "source": [
    "auto.arima(diff(casosfd.tsn,1))"
   ]
  },
  {
   "cell_type": "markdown",
   "metadata": {},
   "source": [
    "Aplicando la primera diferencia se obtiene prácticamente el mismo resultado, siendo un proceso autorregresivo de orden 2 e incluso con los mismos valores de AIC y BIC."
   ]
  },
  {
   "cell_type": "markdown",
   "metadata": {},
   "source": [
    "## Fecha de Recuperación"
   ]
  },
  {
   "cell_type": "code",
   "execution_count": 52,
   "metadata": {
    "colab": {
     "base_uri": "https://localhost:8080/",
     "height": 437
    },
    "colab_type": "code",
    "id": "d2dehCp2LXEC",
    "outputId": "ddfa5903-ed9f-4167-eb03-5cd79d786c83"
   },
   "outputs": [
    {
     "data": {
      "image/png": "[encoded data removed]",
      "text/plain": [
       "plot without title"
      ]
     },
     "metadata": {
      "image/png": {
       "height": 420,
       "width": 420
      },
      "text/plain": {
       "height": 420,
       "width": 420
      }
     },
     "output_type": "display_data"
    }
   ],
   "source": [
    "with(casos.fr, plot(Fecha.recuperado, Freq))"
   ]
  },
  {
   "cell_type": "markdown",
   "metadata": {},
   "source": [
    "La gráfica pareciera tener un comportamiento similar a lo observado en las series de tiempo anteriores pero sin presentar decrecimiento."
   ]
  },
  {
   "cell_type": "code",
   "execution_count": 53,
   "metadata": {
    "colab": {},
    "colab_type": "code",
    "id": "-v1cDCJmLXEF"
   },
   "outputs": [],
   "source": [
    "casosfr <- casos.fr$Freq"
   ]
  },
  {
   "cell_type": "markdown",
   "metadata": {},
   "source": [
    "Se analizan dos escenarios, uno con componente estacional de 7 días y otro sin componente estacional."
   ]
  },
  {
   "cell_type": "code",
   "execution_count": 54,
   "metadata": {
    "colab": {},
    "colab_type": "code",
    "id": "NrXzXZl2LXEG"
   },
   "outputs": [],
   "source": [
    "casosfr.ts7<-ts(casosfr[-1], frequency = 7)\n",
    "casosfr.tsn<-ts(casosfr[-1])"
   ]
  },
  {
   "cell_type": "markdown",
   "metadata": {},
   "source": [
    "Solamente se grafica una de las series ya que la frecuencia no influye en la gráfica"
   ]
  },
  {
   "cell_type": "code",
   "execution_count": 55,
   "metadata": {
    "colab": {
     "base_uri": "https://localhost:8080/",
     "height": 857
    },
    "colab_type": "code",
    "id": "fdcps6Xw7iws",
    "outputId": "e891e175-c981-47a1-b20e-fb784242a685"
   },
   "outputs": [
    {
     "data": {
      "image/png": "[encoded data removed]",
      "text/plain": [
       "plot without title"
      ]
     },
     "metadata": {
      "image/png": {
       "height": 420,
       "width": 420
      },
      "text/plain": {
       "height": 420,
       "width": 420
      }
     },
     "output_type": "display_data"
    }
   ],
   "source": [
    "plot(casosfr.tsn)"
   ]
  },
  {
   "cell_type": "markdown",
   "metadata": {},
   "source": [
    "Se tiene una primera aproximación por descomposición, pero únicamente del que tiene componente estacional"
   ]
  },
  {
   "cell_type": "code",
   "execution_count": 57,
   "metadata": {
    "colab": {
     "base_uri": "https://localhost:8080/",
     "height": 437
    },
    "colab_type": "code",
    "id": "kUcpQLWG7sn-",
    "outputId": "c66c0732-013f-464c-df0b-312894779db1"
   },
   "outputs": [
    {
     "data": {
      "image/png": "[encoded data removed]",
      "text/plain": [
       "plot without title"
      ]
     },
     "metadata": {
      "image/png": {
       "height": 420,
       "width": 420
      },
      "text/plain": {
       "height": 420,
       "width": 420
      }
     },
     "output_type": "display_data"
    }
   ],
   "source": [
    "plot(decompose(casosfr.ts7))"
   ]
  },
  {
   "cell_type": "markdown",
   "metadata": {},
   "source": [
    "Por lo que se muestra, podría ser de tipo multiplicativo, pero no está realmente claro."
   ]
  },
  {
   "cell_type": "code",
   "execution_count": 59,
   "metadata": {
    "colab": {
     "base_uri": "https://localhost:8080/",
     "height": 437
    },
    "colab_type": "code",
    "id": "8dJsbm3q8HZw",
    "outputId": "42132d88-330b-489e-9d48-16deccc6a1e5"
   },
   "outputs": [
    {
     "data": {
      "image/png": "[encoded data removed]",
      "text/plain": [
       "plot without title"
      ]
     },
     "metadata": {
      "image/png": {
       "height": 420,
       "width": 420
      },
      "text/plain": {
       "height": 420,
       "width": 420
      }
     },
     "output_type": "display_data"
    }
   ],
   "source": [
    "plot(decompose(casosfr.ts7, type = 'multiplicative'))"
   ]
  },
  {
   "cell_type": "markdown",
   "metadata": {},
   "source": [
    "Se observa algo similar a lo visto en las series de tiempo anteriores, el de tipo multiplicativo ciertamente es mejor que el aditivo. Ahora se analiza desde la metodología de Box-Jenkins."
   ]
  },
  {
   "cell_type": "code",
   "execution_count": 60,
   "metadata": {
    "colab": {
     "base_uri": "https://localhost:8080/",
     "height": 185
    },
    "colab_type": "code",
    "id": "FD6n9CzL8TAZ",
    "outputId": "794cfa2a-e2b6-49cb-c9b6-883b45753353"
   },
   "outputs": [
    {
     "data": {
      "text/plain": [
       "Series: casosfr.ts7 \n",
       "ARIMA(0,1,1) with drift \n",
       "\n",
       "Coefficients:\n",
       "          ma1    drift\n",
       "      -0.4700  42.6019\n",
       "s.e.   0.0925  21.8640\n",
       "\n",
       "sigma^2 estimated as 233371:  log likelihood=-1040.2\n",
       "AIC=2086.4   AICc=2086.58   BIC=2095.16"
      ]
     },
     "metadata": {},
     "output_type": "display_data"
    },
    {
     "data": {
      "text/plain": [
       "Series: casosfr.tsn \n",
       "ARIMA(0,1,1) with drift \n",
       "\n",
       "Coefficients:\n",
       "          ma1    drift\n",
       "      -0.4700  42.6019\n",
       "s.e.   0.0925  21.8640\n",
       "\n",
       "sigma^2 estimated as 233371:  log likelihood=-1040.2\n",
       "AIC=2086.4   AICc=2086.58   BIC=2095.16"
      ]
     },
     "metadata": {},
     "output_type": "display_data"
    }
   ],
   "source": [
    "auto.arima(casosfr.ts7)\n",
    "auto.arima(casosfr.tsn)"
   ]
  },
  {
   "cell_type": "markdown",
   "metadata": {},
   "source": [
    "<div style=\"text-align: justify\">Se nota que no afecta la estacionalidad, se obtiene exactamente el mismo modelo, lo que indica que esta no está influyendo en nada en la serie de tiempo. Lo que se obtiene es un proceso ARIMA donde no se observa patrón pero se integra con los errores, lo cuales tienen orden 1. Además, se tiene una deriva en el modelo.</div>\n",
    "<br>\n",
    "Se miran las gráficas para ver si se puede obtener mayor información al respecto."
   ]
  },
  {
   "cell_type": "code",
   "execution_count": 62,
   "metadata": {
    "colab": {
     "base_uri": "https://localhost:8080/",
     "height": 437
    },
    "colab_type": "code",
    "id": "nbFMV0kx86Lw",
    "outputId": "2113fa97-8948-4500-a529-653b8b58a320"
   },
   "outputs": [
    {
     "data": {
      "image/png": "[encoded data removed]",
      "text/plain": [
       "Plot with title \"Series  casosfr.tsn\""
      ]
     },
     "metadata": {
      "image/png": {
       "height": 420,
       "width": 420
      },
      "text/plain": {
       "height": 420,
       "width": 420
      }
     },
     "output_type": "display_data"
    }
   ],
   "source": [
    "par(mfrow = c(2,2))\n",
    "acf(casosfr.ts7)\n",
    "pacf(casosfr.ts7)\n",
    "acf(casosfr.tsn)\n",
    "pacf(casosfr.tsn)"
   ]
  },
  {
   "cell_type": "markdown",
   "metadata": {},
   "source": [
    "Se evidencia lo mismo que con fecha de diagnóstico, la función de autocorrelación apunta a un proceso ARIMA y no se aprecia estacionalidad."
   ]
  },
  {
   "cell_type": "code",
   "execution_count": 63,
   "metadata": {
    "colab": {
     "base_uri": "https://localhost:8080/",
     "height": 146
    },
    "colab_type": "code",
    "id": "Nq38SuJk9u-d",
    "outputId": "1ad7ee54-df99-4141-f57c-b5be27f1ef65"
   },
   "outputs": [
    {
     "data": {
      "text/html": [
       "<dl>\n",
       "\t<dt>$pred</dt>\n",
       "\t\t<dd>A Time Series:<br><style>\n",
       ".list-inline {list-style: none; margin:0; padding: 0}\n",
       ".list-inline>li {display: inline-block}\n",
       ".list-inline>li:not(:last-child)::after {content: \"\\00b7\"; padding: 0 .5ex}\n",
       "</style>\n",
       "<ol class=list-inline><li>4060.08349296928</li><li>9870.18832505788</li><li>3364.85263540643</li><li>3073.52757456676</li><li>8117.4969381262</li></ol>\n",
       "</dd>\n",
       "\t<dt>$se</dt>\n",
       "\t\t<dd>A Time Series:<br><style>\n",
       ".list-inline {list-style: none; margin:0; padding: 0}\n",
       ".list-inline>li {display: inline-block}\n",
       ".list-inline>li:not(:last-child)::after {content: \"\\00b7\"; padding: 0 .5ex}\n",
       "</style>\n",
       "<ol class=list-inline><li>1032.74541275761</li><li>1103.77127118326</li><li>1103.92113188054</li><li>1323.59187212369</li><li>1438.88470786552</li></ol>\n",
       "</dd>\n",
       "</dl>\n"
      ],
      "text/latex": [
       "\\begin{description}\n",
       "\\item[\\$pred] A Time Series:\\\\\\begin{enumerate*}\n",
       "\\item 4060.08349296928\n",
       "\\item 9870.18832505788\n",
       "\\item 3364.85263540643\n",
       "\\item 3073.52757456676\n",
       "\\item 8117.4969381262\n",
       "\\end{enumerate*}\n",
       "\n",
       "\\item[\\$se] A Time Series:\\\\\\begin{enumerate*}\n",
       "\\item 1032.74541275761\n",
       "\\item 1103.77127118326\n",
       "\\item 1103.92113188054\n",
       "\\item 1323.59187212369\n",
       "\\item 1438.88470786552\n",
       "\\end{enumerate*}\n",
       "\n",
       "\\end{description}\n"
      ],
      "text/markdown": [
       "$pred\n",
       ":   A Time Series:  \n",
       "1. 4060.08349296928\n",
       "2. 9870.18832505788\n",
       "3. 3364.85263540643\n",
       "4. 3073.52757456676\n",
       "5. 8117.4969381262\n",
       "\n",
       "\n",
       "\n",
       "$se\n",
       ":   A Time Series:  \n",
       "1. 1032.74541275761\n",
       "2. 1103.77127118326\n",
       "3. 1103.92113188054\n",
       "4. 1323.59187212369\n",
       "5. 1438.88470786552\n",
       "\n",
       "\n",
       "\n",
       "\n",
       "\n"
      ],
      "text/plain": [
       "$pred\n",
       "Time Series:\n",
       "Start = 146 \n",
       "End = 150 \n",
       "Frequency = 1 \n",
       "[1] 4060.083 9870.188 3364.853 3073.528 8117.497\n",
       "\n",
       "$se\n",
       "Time Series:\n",
       "Start = 146 \n",
       "End = 150 \n",
       "Frequency = 1 \n",
       "[1] 1032.745 1103.771 1103.921 1323.592 1438.885\n"
      ]
     },
     "metadata": {},
     "output_type": "display_data"
    }
   ],
   "source": [
    "predict(auto.arima(casosfd.tsn),5)"
   ]
  },
  {
   "cell_type": "markdown",
   "metadata": {},
   "source": [
    "Por lo que se aprecia de la predicción, parece indicar que los valores van a estar fluctuando con crecimientos y decrecimientos constantes."
   ]
  },
  {
   "cell_type": "markdown",
   "metadata": {},
   "source": [
    "Con la primera diferencia, lo único que se haría sería elliminar el componente de integración y, si hubiera, la estacionalidad. Pero no se procede a realizar ya que realmente se obtendría el mismo modelo."
   ]
  },
  {
   "cell_type": "markdown",
   "metadata": {},
   "source": [
    "Aplicando la primera diferencia se obtiene prácticamente el mismo resultado, siendo un proceso autorregresivo de orden 2 e incluso con los mismos valores de AIC y BIC."
   ]
  },
  {
   "cell_type": "markdown",
   "metadata": {},
   "source": [
    "## Fecha de Inicio de Síntomas"
   ]
  },
  {
   "cell_type": "code",
   "execution_count": 64,
   "metadata": {
    "colab": {
     "base_uri": "https://localhost:8080/",
     "height": 437
    },
    "colab_type": "code",
    "id": "d2dehCp2LXEC",
    "outputId": "ddfa5903-ed9f-4167-eb03-5cd79d786c83"
   },
   "outputs": [
    {
     "data": {
      "image/png": "[encoded data removed]",
      "text/plain": [
       "plot without title"
      ]
     },
     "metadata": {
      "image/png": {
       "height": 420,
       "width": 420
      },
      "text/plain": {
       "height": 420,
       "width": 420
      }
     },
     "output_type": "display_data"
    }
   ],
   "source": [
    "with(casos.fis, plot(FIS, Freq))"
   ]
  },
  {
   "cell_type": "markdown",
   "metadata": {},
   "source": [
    "La gráfica parece tener un comportamiento similar a lo observado con la anteriores fechas, en especial con fecha de notificación, ya que se presenta ese decrecimiento marcado en los últimos días."
   ]
  },
  {
   "cell_type": "code",
   "execution_count": 65,
   "metadata": {
    "colab": {},
    "colab_type": "code",
    "id": "-v1cDCJmLXEF"
   },
   "outputs": [],
   "source": [
    "casosfis <- casos.fis$Freq"
   ]
  },
  {
   "cell_type": "code",
   "execution_count": 67,
   "metadata": {
    "colab": {},
    "colab_type": "code",
    "id": "NrXzXZl2LXEG"
   },
   "outputs": [],
   "source": [
    "casosfis.ts7<-ts(casosfis[-1], frequency = 7)\n",
    "casosfis.tsn<-ts(casosfis[-1])"
   ]
  },
  {
   "cell_type": "markdown",
   "metadata": {},
   "source": [
    "Solamente se grafica una de las series ya que la frecuencia no influye en la gráfica"
   ]
  },
  {
   "cell_type": "code",
   "execution_count": 68,
   "metadata": {
    "colab": {
     "base_uri": "https://localhost:8080/",
     "height": 857
    },
    "colab_type": "code",
    "id": "fdcps6Xw7iws",
    "outputId": "e891e175-c981-47a1-b20e-fb784242a685"
   },
   "outputs": [
    {
     "data": {
      "image/png": "[encoded data removed]",
      "text/plain": [
       "plot without title"
      ]
     },
     "metadata": {
      "image/png": {
       "height": 420,
       "width": 420
      },
      "text/plain": {
       "height": 420,
       "width": 420
      }
     },
     "output_type": "display_data"
    }
   ],
   "source": [
    "plot(casosfis.tsn)"
   ]
  },
  {
   "cell_type": "markdown",
   "metadata": {},
   "source": [
    "Se tiene una primera aproximación por descomposición, pero únicamente de las que tienen componente estacional"
   ]
  },
  {
   "cell_type": "code",
   "execution_count": 70,
   "metadata": {
    "colab": {
     "base_uri": "https://localhost:8080/",
     "height": 437
    },
    "colab_type": "code",
    "id": "kUcpQLWG7sn-",
    "outputId": "c66c0732-013f-464c-df0b-312894779db1"
   },
   "outputs": [
    {
     "data": {
      "image/png": "[encoded data removed]",
      "text/plain": [
       "plot without title"
      ]
     },
     "metadata": {
      "image/png": {
       "height": 420,
       "width": 420
      },
      "text/plain": {
       "height": 420,
       "width": 420
      }
     },
     "output_type": "display_data"
    }
   ],
   "source": [
    "plot(decompose(casosfis.ts7))"
   ]
  },
  {
   "cell_type": "markdown",
   "metadata": {},
   "source": [
    "Podría ser un proceso multiplicativo, se muestra la descomposición a continuación."
   ]
  },
  {
   "cell_type": "code",
   "execution_count": 71,
   "metadata": {
    "colab": {
     "base_uri": "https://localhost:8080/",
     "height": 437
    },
    "colab_type": "code",
    "id": "8dJsbm3q8HZw",
    "outputId": "42132d88-330b-489e-9d48-16deccc6a1e5"
   },
   "outputs": [
    {
     "data": {
      "image/png": "[encoded data removed]",
      "text/plain": [
       "plot without title"
      ]
     },
     "metadata": {
      "image/png": {
       "height": 420,
       "width": 420
      },
      "text/plain": {
       "height": 420,
       "width": 420
      }
     },
     "output_type": "display_data"
    }
   ],
   "source": [
    "plot(decompose(casosfis.ts7, type = 'multiplicative'))"
   ]
  },
  {
   "cell_type": "markdown",
   "metadata": {},
   "source": [
    "Se aprecia el cambio tanto en el componente estacional como el aleatorio; el de tipo multiplicativo es un mejor modelo. Ahora se analiza desde la metodología de Box-Jenkins."
   ]
  },
  {
   "cell_type": "code",
   "execution_count": 72,
   "metadata": {
    "colab": {
     "base_uri": "https://localhost:8080/",
     "height": 185
    },
    "colab_type": "code",
    "id": "FD6n9CzL8TAZ",
    "outputId": "794cfa2a-e2b6-49cb-c9b6-883b45753353"
   },
   "outputs": [
    {
     "data": {
      "text/plain": [
       "Series: casosfis.ts7 \n",
       "ARIMA(0,1,3)(1,0,1)[7] \n",
       "\n",
       "Coefficients:\n",
       "          ma1      ma2     ma3    sar1     sma1\n",
       "      -0.4780  -0.1837  0.3194  0.7671  -0.3922\n",
       "s.e.   0.0941   0.0840  0.0858  0.1129   0.1601\n",
       "\n",
       "sigma^2 estimated as 143757:  log likelihood=-1109.84\n",
       "AIC=2231.68   AICc=2232.27   BIC=2249.79"
      ]
     },
     "metadata": {},
     "output_type": "display_data"
    },
    {
     "data": {
      "text/plain": [
       "Series: casosfis.tsn \n",
       "ARIMA(0,1,1) \n",
       "\n",
       "Coefficients:\n",
       "          ma1\n",
       "      -0.2726\n",
       "s.e.   0.0831\n",
       "\n",
       "sigma^2 estimated as 179448:  log likelihood=-1127.17\n",
       "AIC=2258.34   AICc=2258.42   BIC=2264.37"
      ]
     },
     "metadata": {},
     "output_type": "display_data"
    }
   ],
   "source": [
    "auto.arima(casosfis.ts7)\n",
    "auto.arima(casosfis.tsn)"
   ]
  },
  {
   "cell_type": "markdown",
   "metadata": {},
   "source": [
    "<div style=\"text-align: justify\">Este proceso es diferente a los de fecha de diagnóstico y de recuperación. Primero, con estacionalidad de 7 días, se obtiene un proceso ARIMA sin patrón en la autorregresión, pero los errores tienen orden 3; además, presenta un proceso ARMA estacional, con autorregresión de orden 1, es decir, los datos de cierta fecha están influenciados por los datos de 7 días atrás, así como errores de orden 1.<br> Además, en el caso que no se tuvo en cuenta estacionalidad, se obtuvo un proceso ARIMA sin patrón en la autorregresión integrado a los errores con orden 1. <br> Luego de ver todo esto y comparar los AIC y BIC, queda claro que el mejor modelo es el que tiene estacionalidad de 7 días.  </div>\n",
    "<br>"
   ]
  },
  {
   "cell_type": "code",
   "execution_count": 76,
   "metadata": {
    "colab": {
     "base_uri": "https://localhost:8080/",
     "height": 437
    },
    "colab_type": "code",
    "id": "nbFMV0kx86Lw",
    "outputId": "2113fa97-8948-4500-a529-653b8b58a320"
   },
   "outputs": [
    {
     "data": {
      "image/png": "[encoded data removed]",
      "text/plain": [
       "Plot with title \"Series  casosfis.tsn\""
      ]
     },
     "metadata": {
      "image/png": {
       "height": 420,
       "width": 420
      },
      "text/plain": {
       "height": 420,
       "width": 420
      }
     },
     "output_type": "display_data"
    }
   ],
   "source": [
    "par(mfrow = c(2,2))\n",
    "acf(casosfis.ts7)\n",
    "pacf(casosfis.ts7)\n",
    "acf(casosfis.tsn)\n",
    "pacf(casosfis.tsn)"
   ]
  },
  {
   "cell_type": "markdown",
   "metadata": {},
   "source": [
    "Por la gráfica de función de autocorrelación, parece que todas son ARIMA, y se alcanza a apreciar la estacionalidad de 7 días."
   ]
  },
  {
   "cell_type": "code",
   "execution_count": 77,
   "metadata": {
    "colab": {
     "base_uri": "https://localhost:8080/",
     "height": 146
    },
    "colab_type": "code",
    "id": "Nq38SuJk9u-d",
    "outputId": "1ad7ee54-df99-4141-f57c-b5be27f1ef65",
    "scrolled": true
   },
   "outputs": [
    {
     "data": {
      "text/html": [
       "<dl>\n",
       "\t<dt>$pred</dt>\n",
       "\t\t<dd>A Time Series:<br><style>\n",
       ".list-inline {list-style: none; margin:0; padding: 0}\n",
       ".list-inline>li {display: inline-block}\n",
       ".list-inline>li:not(:last-child)::after {content: \"\\00b7\"; padding: 0 .5ex}\n",
       "</style>\n",
       "<ol class=list-inline><li>113.393387982876</li><li>-109.52917081282</li><li>-201.59103932426</li><li>-746.966466321143</li><li>-1015.83838905965</li></ol>\n",
       "</dd>\n",
       "\t<dt>$se</dt>\n",
       "\t\t<dd>A Time Series:<br><style>\n",
       ".list-inline {list-style: none; margin:0; padding: 0}\n",
       ".list-inline>li {display: inline-block}\n",
       ".list-inline>li:not(:last-child)::after {content: \"\\00b7\"; padding: 0 .5ex}\n",
       "</style>\n",
       "<ol class=list-inline><li>379.153164423337</li><li>427.706152673931</li><li>446.532792283665</li><li>511.46140531188</li><li>569.029000721897</li></ol>\n",
       "</dd>\n",
       "</dl>\n"
      ],
      "text/latex": [
       "\\begin{description}\n",
       "\\item[\\$pred] A Time Series:\\\\\\begin{enumerate*}\n",
       "\\item 113.393387982876\n",
       "\\item -109.52917081282\n",
       "\\item -201.59103932426\n",
       "\\item -746.966466321143\n",
       "\\item -1015.83838905965\n",
       "\\end{enumerate*}\n",
       "\n",
       "\\item[\\$se] A Time Series:\\\\\\begin{enumerate*}\n",
       "\\item 379.153164423337\n",
       "\\item 427.706152673931\n",
       "\\item 446.532792283665\n",
       "\\item 511.46140531188\n",
       "\\item 569.029000721897\n",
       "\\end{enumerate*}\n",
       "\n",
       "\\end{description}\n"
      ],
      "text/markdown": [
       "$pred\n",
       ":   A Time Series:  \n",
       "1. 113.393387982876\n",
       "2. -109.52917081282\n",
       "3. -201.59103932426\n",
       "4. -746.966466321143\n",
       "5. -1015.83838905965\n",
       "\n",
       "\n",
       "\n",
       "$se\n",
       ":   A Time Series:  \n",
       "1. 379.153164423337\n",
       "2. 427.706152673931\n",
       "3. 446.532792283665\n",
       "4. 511.46140531188\n",
       "5. 569.029000721897\n",
       "\n",
       "\n",
       "\n",
       "\n",
       "\n"
      ],
      "text/plain": [
       "$pred\n",
       "Time Series:\n",
       "Start = c(22, 6) \n",
       "End = c(23, 3) \n",
       "Frequency = 7 \n",
       "[1]   113.3934  -109.5292  -201.5910  -746.9665 -1015.8384\n",
       "\n",
       "$se\n",
       "Time Series:\n",
       "Start = c(22, 6) \n",
       "End = c(23, 3) \n",
       "Frequency = 7 \n",
       "[1] 379.1532 427.7062 446.5328 511.4614 569.0290\n"
      ]
     },
     "metadata": {},
     "output_type": "display_data"
    }
   ],
   "source": [
    "predict(auto.arima(casosfis.ts7),5)"
   ]
  },
  {
   "cell_type": "markdown",
   "metadata": {},
   "source": [
    "Por lo que se aprecia de la predicción, el comportamiento reciente indica que los valores seguirán decreciendo."
   ]
  },
  {
   "cell_type": "markdown",
   "metadata": {},
   "source": [
    "Ahora, se intenta aplicar la primera diferencia al caso con estacionalidad de 7 días. "
   ]
  },
  {
   "cell_type": "code",
   "execution_count": 78,
   "metadata": {
    "colab": {
     "base_uri": "https://localhost:8080/",
     "height": 437
    },
    "colab_type": "code",
    "id": "e8adY7oY9OQu",
    "outputId": "c5bdc68b-b6b3-4a77-d0ae-8f47576e597e"
   },
   "outputs": [
    {
     "data": {
      "image/png": "[encoded data removed]",
      "text/plain": [
       "Plot with title \"Series  diff(casosfis.ts7, 1)\""
      ]
     },
     "metadata": {
      "image/png": {
       "height": 420,
       "width": 420
      },
      "text/plain": {
       "height": 420,
       "width": 420
      }
     },
     "output_type": "display_data"
    },
    {
     "data": {
      "image/png": "[encoded data removed]",
      "text/plain": [
       "Plot with title \"Series  diff(casosfis.ts7, 1)\""
      ]
     },
     "metadata": {
      "image/png": {
       "height": 420,
       "width": 420
      },
      "text/plain": {
       "height": 420,
       "width": 420
      }
     },
     "output_type": "display_data"
    }
   ],
   "source": [
    "acf(diff(casosfis.ts7,1))\n",
    "pacf(diff(casosfis.ts7,1))"
   ]
  },
  {
   "cell_type": "code",
   "execution_count": 80,
   "metadata": {
    "colab": {
     "base_uri": "https://localhost:8080/",
     "height": 101
    },
    "colab_type": "code",
    "id": "4PvFP1LG9X13",
    "outputId": "3a940390-721c-4dbc-ce06-b3e9c96cde0a"
   },
   "outputs": [
    {
     "data": {
      "text/plain": [
       "Series: diff(casosfis.ts7, 1) \n",
       "ARIMA(0,0,3)(1,0,1)[7] with zero mean \n",
       "\n",
       "Coefficients:\n",
       "          ma1      ma2     ma3    sar1     sma1\n",
       "      -0.4780  -0.1837  0.3194  0.7671  -0.3922\n",
       "s.e.   0.0941   0.0840  0.0858  0.1129   0.1601\n",
       "\n",
       "sigma^2 estimated as 143757:  log likelihood=-1109.84\n",
       "AIC=2231.68   AICc=2232.27   BIC=2249.79"
      ]
     },
     "metadata": {},
     "output_type": "display_data"
    }
   ],
   "source": [
    "auto.arima(diff(casosfis.ts7,1))"
   ]
  },
  {
   "cell_type": "markdown",
   "metadata": {},
   "source": [
    "Aplicando la primera diferencia se obtiene prácticamente el mismo resultado, siendo un proceso de media móvil de orden 3, conserva la estacionalidad ARMA con componente autorregresivo de orden 1 y los errores también con orden 1. De hecho, lo único que hace la primera diferencia es eliminar el componente de integración sin afectar nada más del modelo."
   ]
  },
  {
   "cell_type": "markdown",
   "metadata": {},
   "source": [
    "<font size=5><h4 align=\"center\"> Ejercicio Métodos No Paramétricos en Estadística</h4></font>  \n",
    "\n",
    "Con base en los datos trabajados en el módulo de muestreo (archivo adjunto en el enlace) extraiga una muestra representativa (calcule el tamaño para un nivel de confianza de 89% y un error de 3% y use ese tamaño específico) y determine si la clasificación en niveles de desempeño en dos de las cinco competencias genéricas son producto del azar o no.\n",
    "\n",
    "Determine si esos resultados son independientes o dependientes entre sí.\n",
    "\n",
    "Con la muestra, calcule un promedio general por estudiante para las cinco competencia y realice un ranking inicial y un ranking final por departamento; determine si hubo cambios significativos en esa clasificación\n",
    "\n",
    "[Descargue el archivo aquí](https://www.dropbox.com/s/xgsf3l5gjw0h0q4/saberpro.RData?dl=1)"
   ]
  },
  {
   "cell_type": "markdown",
   "metadata": {},
   "source": [
    "### Librerías"
   ]
  },
  {
   "cell_type": "code",
   "execution_count": 2,
   "metadata": {},
   "outputs": [],
   "source": [
    "library(devtools)\n",
    "library(plyr) #Librería necesaria para revalue\n",
    "library(samplingbook)\n",
    "library(SamplingUtil) \n",
    "library(magrittr) # Permite leer la función %>%\n",
    "library(dplyr) # Contiene la función select\n",
    "library(coin)"
   ]
  },
  {
   "cell_type": "markdown",
   "metadata": {},
   "source": [
    "### Tratamiento de datos"
   ]
  },
  {
   "cell_type": "code",
   "execution_count": 3,
   "metadata": {},
   "outputs": [],
   "source": [
    "load(url('https://www.dropbox.com/s/xgsf3l5gjw0h0q4/saberpro.RData?dl=1')) #Se cargan los datos"
   ]
  },
  {
   "cell_type": "code",
   "execution_count": 4,
   "metadata": {},
   "outputs": [
    {
     "data": {
      "text/html": [
       "'sp161718'"
      ],
      "text/latex": [
       "'sp161718'"
      ],
      "text/markdown": [
       "'sp161718'"
      ],
      "text/plain": [
       "[1] \"sp161718\""
      ]
     },
     "metadata": {},
     "output_type": "display_data"
    },
    {
     "data": {
      "text/html": [
       "<style>\n",
       ".list-inline {list-style: none; margin:0; padding: 0}\n",
       ".list-inline>li {display: inline-block}\n",
       ".list-inline>li:not(:last-child)::after {content: \"\\00b7\"; padding: 0 .5ex}\n",
       "</style>\n",
       "<ol class=list-inline><li>725295</li><li>16</li></ol>\n"
      ],
      "text/latex": [
       "\\begin{enumerate*}\n",
       "\\item 725295\n",
       "\\item 16\n",
       "\\end{enumerate*}\n"
      ],
      "text/markdown": [
       "1. 725295\n",
       "2. 16\n",
       "\n",
       "\n"
      ],
      "text/plain": [
       "[1] 725295     16"
      ]
     },
     "metadata": {},
     "output_type": "display_data"
    },
    {
     "data": {
      "text/html": [
       "<style>\n",
       ".list-inline {list-style: none; margin:0; padding: 0}\n",
       ".list-inline>li {display: inline-block}\n",
       ".list-inline>li:not(:last-child)::after {content: \"\\00b7\"; padding: 0 .5ex}\n",
       "</style>\n",
       "<ol class=list-inline><li>'periodo'</li><li>'apli_consecutivo'</li><li>'estu_depto_reside'</li><li>'estu_cod_reside_depto'</li><li>'inst_cod_institucion'</li><li>'inst_nombre_institucion'</li><li>'raz_cuant_punt'</li><li>'raz_cuant_des'</li><li>'lect_crit_punt'</li><li>'lect_crit_des'</li><li>'comp_ciud_punt'</li><li>'comp_ciud_des'</li><li>'ingles_punt'</li><li>'ingles_desem'</li><li>'comu_escr_punt'</li><li>'comu_escr_des'</li></ol>\n"
      ],
      "text/latex": [
       "\\begin{enumerate*}\n",
       "\\item 'periodo'\n",
       "\\item 'apli\\_consecutivo'\n",
       "\\item 'estu\\_depto\\_reside'\n",
       "\\item 'estu\\_cod\\_reside\\_depto'\n",
       "\\item 'inst\\_cod\\_institucion'\n",
       "\\item 'inst\\_nombre\\_institucion'\n",
       "\\item 'raz\\_cuant\\_punt'\n",
       "\\item 'raz\\_cuant\\_des'\n",
       "\\item 'lect\\_crit\\_punt'\n",
       "\\item 'lect\\_crit\\_des'\n",
       "\\item 'comp\\_ciud\\_punt'\n",
       "\\item 'comp\\_ciud\\_des'\n",
       "\\item 'ingles\\_punt'\n",
       "\\item 'ingles\\_desem'\n",
       "\\item 'comu\\_escr\\_punt'\n",
       "\\item 'comu\\_escr\\_des'\n",
       "\\end{enumerate*}\n"
      ],
      "text/markdown": [
       "1. 'periodo'\n",
       "2. 'apli_consecutivo'\n",
       "3. 'estu_depto_reside'\n",
       "4. 'estu_cod_reside_depto'\n",
       "5. 'inst_cod_institucion'\n",
       "6. 'inst_nombre_institucion'\n",
       "7. 'raz_cuant_punt'\n",
       "8. 'raz_cuant_des'\n",
       "9. 'lect_crit_punt'\n",
       "10. 'lect_crit_des'\n",
       "11. 'comp_ciud_punt'\n",
       "12. 'comp_ciud_des'\n",
       "13. 'ingles_punt'\n",
       "14. 'ingles_desem'\n",
       "15. 'comu_escr_punt'\n",
       "16. 'comu_escr_des'\n",
       "\n",
       "\n"
      ],
      "text/plain": [
       " [1] \"periodo\"                 \"apli_consecutivo\"       \n",
       " [3] \"estu_depto_reside\"       \"estu_cod_reside_depto\"  \n",
       " [5] \"inst_cod_institucion\"    \"inst_nombre_institucion\"\n",
       " [7] \"raz_cuant_punt\"          \"raz_cuant_des\"          \n",
       " [9] \"lect_crit_punt\"          \"lect_crit_des\"          \n",
       "[11] \"comp_ciud_punt\"          \"comp_ciud_des\"          \n",
       "[13] \"ingles_punt\"             \"ingles_desem\"           \n",
       "[15] \"comu_escr_punt\"          \"comu_escr_des\"          "
      ]
     },
     "metadata": {},
     "output_type": "display_data"
    }
   ],
   "source": [
    "ls()\n",
    "dim(sp161718) #dimensiones Dataframe\n",
    "names(sp161718) #Nombres Variables"
   ]
  },
  {
   "cell_type": "code",
   "execution_count": 5,
   "metadata": {},
   "outputs": [],
   "source": [
    "data<-data.frame(index = 1:nrow(sp161718),\n",
    "                 Periodo=sp161718$periodo, \n",
    "                 Departamento=sp161718$estu_depto_reside,\n",
    "                 RazCuantP=sp161718$raz_cuant_punt, \n",
    "                 RazCuantD=sp161718$raz_cuant_des,\n",
    "                 LectCritP=sp161718$lect_crit_punt, \n",
    "                 LectCritD=sp161718$lect_crit_des, \n",
    "                 CompCiudP=sp161718$comp_ciud_punt, \n",
    "                 CompCiudD=sp161718$comp_ciud_des, \n",
    "                 InglesP=sp161718$ingles_punt,\n",
    "                 InglesD=sp161718$ingles_desem,\n",
    "                 ComuEscrP=sp161718$comu_escr_punt, \n",
    "                 ComuEscrD=sp161718$comu_escr_des) #Nuevo Dataframe a usar"
   ]
  },
  {
   "cell_type": "code",
   "execution_count": 6,
   "metadata": {},
   "outputs": [],
   "source": [
    "temp<-factor(data$Periodo) #Para aplicar la función revalue, es necesario pasarle una variable tipo factor\n",
    "#Se hace el ajuste para que periodo sea únicamente el año\n",
    "data$Periodo<-revalue(temp, c(\"20163\"=\"2016\", \"20162\"=\"2016\", \"20173\"=\"2017\", \"20172\"=\"2017\",\"20183\"=\"2018\",\"20182\"=\"2018\",\"20184\"=\"2018\")) #Uso de revalue\n",
    "temp<-factor(data$Departamento)\n",
    "data$Departamento<-revalue(temp, c(\"NARIÃ‘O\"=\"NARINO\", \"NARIÃƒâ\\200\\230O\"=\"NARINO\"))\n",
    "data <- na.omit(data) \n",
    "data$RazCuantD = as.factor(data$RazCuantD) \n",
    "data$LectCritD = as.factor (data$LectCritD) \n",
    "data$CompCiudD = as.factor(data$CompCiudD) \n",
    "data$InglesD = as.factor(data$InglesD) \n",
    "data$ComuEscrD = as.factor(data$ComuEscrD)"
   ]
  },
  {
   "cell_type": "markdown",
   "metadata": {},
   "source": [
    "Se observan los datos y se verifica si se realizaron los cambios"
   ]
  },
  {
   "cell_type": "code",
   "execution_count": 7,
   "metadata": {},
   "outputs": [
    {
     "data": {
      "text/html": [
       "<table>\n",
       "<caption>A data.frame: 6 × 13</caption>\n",
       "<thead>\n",
       "\t<tr><th></th><th scope=col>index</th><th scope=col>Periodo</th><th scope=col>Departamento</th><th scope=col>RazCuantP</th><th scope=col>RazCuantD</th><th scope=col>LectCritP</th><th scope=col>LectCritD</th><th scope=col>CompCiudP</th><th scope=col>CompCiudD</th><th scope=col>InglesP</th><th scope=col>InglesD</th><th scope=col>ComuEscrP</th><th scope=col>ComuEscrD</th></tr>\n",
       "\t<tr><th></th><th scope=col>&lt;int&gt;</th><th scope=col>&lt;fct&gt;</th><th scope=col>&lt;fct&gt;</th><th scope=col>&lt;int&gt;</th><th scope=col>&lt;fct&gt;</th><th scope=col>&lt;int&gt;</th><th scope=col>&lt;fct&gt;</th><th scope=col>&lt;int&gt;</th><th scope=col>&lt;fct&gt;</th><th scope=col>&lt;int&gt;</th><th scope=col>&lt;fct&gt;</th><th scope=col>&lt;int&gt;</th><th scope=col>&lt;fct&gt;</th></tr>\n",
       "</thead>\n",
       "<tbody>\n",
       "\t<tr><th scope=row>1</th><td>1</td><td>2016</td><td>ATLANTICO   </td><td>160</td><td>3</td><td>130</td><td>2</td><td>167</td><td>3</td><td>160</td><td>A2 </td><td>155</td><td>3</td></tr>\n",
       "\t<tr><th scope=row>2</th><td>2</td><td>2016</td><td>CUNDINAMARCA</td><td>138</td><td>2</td><td>132</td><td>2</td><td> 77</td><td>1</td><td>125</td><td>A1 </td><td>164</td><td>3</td></tr>\n",
       "\t<tr><th scope=row>3</th><td>3</td><td>2016</td><td>CALDAS      </td><td>146</td><td>2</td><td>157</td><td>2</td><td>150</td><td>2</td><td>104</td><td>A1-</td><td>122</td><td>2</td></tr>\n",
       "\t<tr><th scope=row>4</th><td>4</td><td>2016</td><td>MAGDALENA   </td><td>160</td><td>3</td><td>172</td><td>3</td><td>151</td><td>2</td><td>160</td><td>A2 </td><td>192</td><td>4</td></tr>\n",
       "\t<tr><th scope=row>5</th><td>5</td><td>2016</td><td>CORDOBA     </td><td>130</td><td>2</td><td>122</td><td>1</td><td>144</td><td>2</td><td>192</td><td>B1 </td><td>131</td><td>2</td></tr>\n",
       "\t<tr><th scope=row>6</th><td>6</td><td>2016</td><td>CAUCA       </td><td>159</td><td>3</td><td>129</td><td>2</td><td>147</td><td>2</td><td>108</td><td>A1-</td><td>154</td><td>3</td></tr>\n",
       "</tbody>\n",
       "</table>\n"
      ],
      "text/latex": [
       "A data.frame: 6 × 13\n",
       "\\begin{tabular}{r|lllllllllllll}\n",
       "  & index & Periodo & Departamento & RazCuantP & RazCuantD & LectCritP & LectCritD & CompCiudP & CompCiudD & InglesP & InglesD & ComuEscrP & ComuEscrD\\\\\n",
       "  & <int> & <fct> & <fct> & <int> & <fct> & <int> & <fct> & <int> & <fct> & <int> & <fct> & <int> & <fct>\\\\\n",
       "\\hline\n",
       "\t1 & 1 & 2016 & ATLANTICO    & 160 & 3 & 130 & 2 & 167 & 3 & 160 & A2  & 155 & 3\\\\\n",
       "\t2 & 2 & 2016 & CUNDINAMARCA & 138 & 2 & 132 & 2 &  77 & 1 & 125 & A1  & 164 & 3\\\\\n",
       "\t3 & 3 & 2016 & CALDAS       & 146 & 2 & 157 & 2 & 150 & 2 & 104 & A1- & 122 & 2\\\\\n",
       "\t4 & 4 & 2016 & MAGDALENA    & 160 & 3 & 172 & 3 & 151 & 2 & 160 & A2  & 192 & 4\\\\\n",
       "\t5 & 5 & 2016 & CORDOBA      & 130 & 2 & 122 & 1 & 144 & 2 & 192 & B1  & 131 & 2\\\\\n",
       "\t6 & 6 & 2016 & CAUCA        & 159 & 3 & 129 & 2 & 147 & 2 & 108 & A1- & 154 & 3\\\\\n",
       "\\end{tabular}\n"
      ],
      "text/markdown": [
       "\n",
       "A data.frame: 6 × 13\n",
       "\n",
       "| <!--/--> | index &lt;int&gt; | Periodo &lt;fct&gt; | Departamento &lt;fct&gt; | RazCuantP &lt;int&gt; | RazCuantD &lt;fct&gt; | LectCritP &lt;int&gt; | LectCritD &lt;fct&gt; | CompCiudP &lt;int&gt; | CompCiudD &lt;fct&gt; | InglesP &lt;int&gt; | InglesD &lt;fct&gt; | ComuEscrP &lt;int&gt; | ComuEscrD &lt;fct&gt; |\n",
       "|---|---|---|---|---|---|---|---|---|---|---|---|---|---|\n",
       "| 1 | 1 | 2016 | ATLANTICO    | 160 | 3 | 130 | 2 | 167 | 3 | 160 | A2  | 155 | 3 |\n",
       "| 2 | 2 | 2016 | CUNDINAMARCA | 138 | 2 | 132 | 2 |  77 | 1 | 125 | A1  | 164 | 3 |\n",
       "| 3 | 3 | 2016 | CALDAS       | 146 | 2 | 157 | 2 | 150 | 2 | 104 | A1- | 122 | 2 |\n",
       "| 4 | 4 | 2016 | MAGDALENA    | 160 | 3 | 172 | 3 | 151 | 2 | 160 | A2  | 192 | 4 |\n",
       "| 5 | 5 | 2016 | CORDOBA      | 130 | 2 | 122 | 1 | 144 | 2 | 192 | B1  | 131 | 2 |\n",
       "| 6 | 6 | 2016 | CAUCA        | 159 | 3 | 129 | 2 | 147 | 2 | 108 | A1- | 154 | 3 |\n",
       "\n"
      ],
      "text/plain": [
       "  index Periodo Departamento RazCuantP RazCuantD LectCritP LectCritD CompCiudP\n",
       "1 1     2016    ATLANTICO    160       3         130       2         167      \n",
       "2 2     2016    CUNDINAMARCA 138       2         132       2          77      \n",
       "3 3     2016    CALDAS       146       2         157       2         150      \n",
       "4 4     2016    MAGDALENA    160       3         172       3         151      \n",
       "5 5     2016    CORDOBA      130       2         122       1         144      \n",
       "6 6     2016    CAUCA        159       3         129       2         147      \n",
       "  CompCiudD InglesP InglesD ComuEscrP ComuEscrD\n",
       "1 3         160     A2      155       3        \n",
       "2 1         125     A1      164       3        \n",
       "3 2         104     A1-     122       2        \n",
       "4 2         160     A2      192       4        \n",
       "5 2         192     B1      131       2        \n",
       "6 2         108     A1-     154       3        "
      ]
     },
     "metadata": {},
     "output_type": "display_data"
    }
   ],
   "source": [
    "head(data)"
   ]
  },
  {
   "cell_type": "markdown",
   "metadata": {},
   "source": [
    "### Muestra"
   ]
  },
  {
   "cell_type": "markdown",
   "metadata": {},
   "source": [
    "Se extrae una muestra representativa con un nivel de confianza de 89% y un error de 3%, usando un muestreo aleatorio simple"
   ]
  },
  {
   "cell_type": "code",
   "execution_count": 8,
   "metadata": {},
   "outputs": [
    {
     "name": "stdout",
     "output_type": "stream",
     "text": [
      "[1] 709\n"
     ]
    }
   ],
   "source": [
    "tmuestra<-sample.size.prop(e=0.03, P = 0.5, N = nrow(data), level = 0.89)$n\n",
    "print(tmuestra)"
   ]
  },
  {
   "cell_type": "code",
   "execution_count": 9,
   "metadata": {},
   "outputs": [],
   "source": [
    "mas<- sample(1:nrow(data),size=tmuestra,replace=FALSE) #Se realiza el MAS\n",
    "tmas<-data[mas,]"
   ]
  },
  {
   "cell_type": "markdown",
   "metadata": {},
   "source": [
    "### Prueba de Bondad de Ajuste"
   ]
  },
  {
   "cell_type": "markdown",
   "metadata": {},
   "source": [
    "Determine si la clasificación en niveles de desempeño en dos de las cinco competencias genéricas son producto del azar o no."
   ]
  },
  {
   "cell_type": "markdown",
   "metadata": {},
   "source": [
    "Las hipótesis se plantean:\n",
    "\n",
    "* $H_{0}:$ No hay diferencia entre las proporciones de las categorías.\n",
    "* $H_{1}:$ Existe diferencia entre las proporciones de las categorías."
   ]
  },
  {
   "cell_type": "markdown",
   "metadata": {},
   "source": [
    "#### Competencia de Razonamiento Cuantitativo"
   ]
  },
  {
   "cell_type": "code",
   "execution_count": 10,
   "metadata": {},
   "outputs": [
    {
     "data": {
      "text/plain": [
       "RC\n",
       "  1   2   3   4 \n",
       "161 244 270  34 "
      ]
     },
     "metadata": {},
     "output_type": "display_data"
    }
   ],
   "source": [
    "RC<- tmas\n",
    "RC<- data.frame(RC$RazCuantD)\n",
    "table(RC)"
   ]
  },
  {
   "cell_type": "markdown",
   "metadata": {},
   "source": [
    "Aplicamos la prueba:"
   ]
  },
  {
   "cell_type": "code",
   "execution_count": 11,
   "metadata": {},
   "outputs": [
    {
     "data": {
      "text/plain": [
       "\n",
       "\tChi-squared test for given probabilities\n",
       "\n",
       "data:  table(RC)\n",
       "X-squared = 190.93, df = 3, p-value < 2.2e-16\n"
      ]
     },
     "metadata": {},
     "output_type": "display_data"
    }
   ],
   "source": [
    "chisq.test(table(RC))"
   ]
  },
  {
   "cell_type": "code",
   "execution_count": 12,
   "metadata": {},
   "outputs": [
    {
     "data": {
      "text/html": [
       "<table>\n",
       "<caption>A data.frame: 4 × 3</caption>\n",
       "<thead>\n",
       "\t<tr><th></th><th scope=col>RC</th><th scope=col>Freq</th><th scope=col>expected</th></tr>\n",
       "\t<tr><th></th><th scope=col>&lt;fct&gt;</th><th scope=col>&lt;int&gt;</th><th scope=col>&lt;dbl&gt;</th></tr>\n",
       "</thead>\n",
       "<tbody>\n",
       "\t<tr><th scope=row>1</th><td>1</td><td>161</td><td>177.25</td></tr>\n",
       "\t<tr><th scope=row>2</th><td>2</td><td>244</td><td>177.25</td></tr>\n",
       "\t<tr><th scope=row>3</th><td>3</td><td>270</td><td>177.25</td></tr>\n",
       "\t<tr><th scope=row>4</th><td>4</td><td> 34</td><td>177.25</td></tr>\n",
       "</tbody>\n",
       "</table>\n"
      ],
      "text/latex": [
       "A data.frame: 4 × 3\n",
       "\\begin{tabular}{r|lll}\n",
       "  & RC & Freq & expected\\\\\n",
       "  & <fct> & <int> & <dbl>\\\\\n",
       "\\hline\n",
       "\t1 & 1 & 161 & 177.25\\\\\n",
       "\t2 & 2 & 244 & 177.25\\\\\n",
       "\t3 & 3 & 270 & 177.25\\\\\n",
       "\t4 & 4 &  34 & 177.25\\\\\n",
       "\\end{tabular}\n"
      ],
      "text/markdown": [
       "\n",
       "A data.frame: 4 × 3\n",
       "\n",
       "| <!--/--> | RC &lt;fct&gt; | Freq &lt;int&gt; | expected &lt;dbl&gt; |\n",
       "|---|---|---|---|\n",
       "| 1 | 1 | 161 | 177.25 |\n",
       "| 2 | 2 | 244 | 177.25 |\n",
       "| 3 | 3 | 270 | 177.25 |\n",
       "| 4 | 4 |  34 | 177.25 |\n",
       "\n"
      ],
      "text/plain": [
       "  RC Freq expected\n",
       "1 1  161  177.25  \n",
       "2 2  244  177.25  \n",
       "3 3  270  177.25  \n",
       "4 4   34  177.25  "
      ]
     },
     "metadata": {},
     "output_type": "display_data"
    }
   ],
   "source": [
    "with(chisq.test(table(RC)), data.frame(observed,expected))"
   ]
  },
  {
   "cell_type": "markdown",
   "metadata": {},
   "source": [
    "Según el valor de p-value para la prueba de bondad de ajuste en la competencia de razonamiento cuantitativo se rechaza la hipótesis nula, y debido a esto existe una diferencia entre las proporciones de las categorías, por lo cual se concluye que los datos **no son producto del azar** y hay una razón por la cual los estudiantes quedan clasificados de esa manera. Por último, se puede observar una mayor frecuencia en los niveles de desempeño 2 y 3.\n"
   ]
  },
  {
   "cell_type": "markdown",
   "metadata": {},
   "source": [
    "#### Competencia de Lectura Crítica"
   ]
  },
  {
   "cell_type": "code",
   "execution_count": 13,
   "metadata": {},
   "outputs": [
    {
     "data": {
      "text/plain": [
       "LC\n",
       "  1   2   3   4 \n",
       "171 257 244  37 "
      ]
     },
     "metadata": {},
     "output_type": "display_data"
    }
   ],
   "source": [
    "LC<- tmas\n",
    "LC<-data.frame(LC$LectCritD)\n",
    "table(LC)"
   ]
  },
  {
   "cell_type": "markdown",
   "metadata": {},
   "source": [
    "Aplicamos la prueba:"
   ]
  },
  {
   "cell_type": "code",
   "execution_count": 14,
   "metadata": {},
   "outputs": [
    {
     "data": {
      "text/plain": [
       "\n",
       "\tChi-squared test for given probabilities\n",
       "\n",
       "data:  table(LC)\n",
       "X-squared = 172.21, df = 3, p-value < 2.2e-16\n"
      ]
     },
     "metadata": {},
     "output_type": "display_data"
    }
   ],
   "source": [
    "chisq.test(table(LC)) "
   ]
  },
  {
   "cell_type": "code",
   "execution_count": 15,
   "metadata": {},
   "outputs": [
    {
     "data": {
      "text/html": [
       "<table>\n",
       "<caption>A data.frame: 4 × 3</caption>\n",
       "<thead>\n",
       "\t<tr><th></th><th scope=col>LC</th><th scope=col>Freq</th><th scope=col>expected</th></tr>\n",
       "\t<tr><th></th><th scope=col>&lt;fct&gt;</th><th scope=col>&lt;int&gt;</th><th scope=col>&lt;dbl&gt;</th></tr>\n",
       "</thead>\n",
       "<tbody>\n",
       "\t<tr><th scope=row>1</th><td>1</td><td>171</td><td>177.25</td></tr>\n",
       "\t<tr><th scope=row>2</th><td>2</td><td>257</td><td>177.25</td></tr>\n",
       "\t<tr><th scope=row>3</th><td>3</td><td>244</td><td>177.25</td></tr>\n",
       "\t<tr><th scope=row>4</th><td>4</td><td> 37</td><td>177.25</td></tr>\n",
       "</tbody>\n",
       "</table>\n"
      ],
      "text/latex": [
       "A data.frame: 4 × 3\n",
       "\\begin{tabular}{r|lll}\n",
       "  & LC & Freq & expected\\\\\n",
       "  & <fct> & <int> & <dbl>\\\\\n",
       "\\hline\n",
       "\t1 & 1 & 171 & 177.25\\\\\n",
       "\t2 & 2 & 257 & 177.25\\\\\n",
       "\t3 & 3 & 244 & 177.25\\\\\n",
       "\t4 & 4 &  37 & 177.25\\\\\n",
       "\\end{tabular}\n"
      ],
      "text/markdown": [
       "\n",
       "A data.frame: 4 × 3\n",
       "\n",
       "| <!--/--> | LC &lt;fct&gt; | Freq &lt;int&gt; | expected &lt;dbl&gt; |\n",
       "|---|---|---|---|\n",
       "| 1 | 1 | 171 | 177.25 |\n",
       "| 2 | 2 | 257 | 177.25 |\n",
       "| 3 | 3 | 244 | 177.25 |\n",
       "| 4 | 4 |  37 | 177.25 |\n",
       "\n"
      ],
      "text/plain": [
       "  LC Freq expected\n",
       "1 1  171  177.25  \n",
       "2 2  257  177.25  \n",
       "3 3  244  177.25  \n",
       "4 4   37  177.25  "
      ]
     },
     "metadata": {},
     "output_type": "display_data"
    }
   ],
   "source": [
    "with(chisq.test(table(LC)), data.frame(observed,expected))"
   ]
  },
  {
   "cell_type": "markdown",
   "metadata": {},
   "source": [
    "Según el valor de p-value para la prueba de bondad de ajuste en la competencia de lectura crítica se rechaza la hipótesis nula, y debido esto existe una diferencia entre las proporciones de las categorías, por lo cual se concluye que los datos **no son producto del azar** y hay una razón por la cual los estudiantes quedan clasificados de esa manera. Por último, se puede observar que en esta competencia también existe una mayor frecuencia en los niveles de desempeño 2 y 3."
   ]
  },
  {
   "cell_type": "markdown",
   "metadata": {},
   "source": [
    "### Prueba de Independencia "
   ]
  },
  {
   "cell_type": "markdown",
   "metadata": {},
   "source": [
    "Determine si esos resultados son independientes o dependientes entre sí.\n",
    "\n",
    "Las hipótesis se plantean:\n",
    "* $H_{0}:$ Las competencias son Independientes\n",
    "* $H_{1}:$ Las competencias son Dependientes"
   ]
  },
  {
   "cell_type": "markdown",
   "metadata": {},
   "source": [
    "Se va a determinar si existe relación entre las competencias de razonamiento cuantitativo y lectura crítica"
   ]
  },
  {
   "cell_type": "code",
   "execution_count": 16,
   "metadata": {},
   "outputs": [
    {
     "data": {
      "text/plain": [
       "         LectCritD\n",
       "RazCuantD   1   2   3   4\n",
       "        1  83  60  18   0\n",
       "        2  67 110  64   3\n",
       "        3  19  83 146  22\n",
       "        4   2   4  16  12"
      ]
     },
     "metadata": {},
     "output_type": "display_data"
    }
   ],
   "source": [
    "with(tmas,table(RazCuantD,LectCritD))"
   ]
  },
  {
   "cell_type": "code",
   "execution_count": 17,
   "metadata": {},
   "outputs": [
    {
     "name": "stderr",
     "output_type": "stream",
     "text": [
      "Warning message in chisq.test(table(RazCuantD, LectCritD)):\n",
      "\"Chi-squared approximation may be incorrect\"\n"
     ]
    },
    {
     "data": {
      "text/plain": [
       "\n",
       "\tPearson's Chi-squared test\n",
       "\n",
       "data:  table(RazCuantD, LectCritD)\n",
       "X-squared = 243.02, df = 9, p-value < 2.2e-16\n"
      ]
     },
     "metadata": {},
     "output_type": "display_data"
    }
   ],
   "source": [
    "with(tmas,chisq.test(table(RazCuantD, LectCritD)))"
   ]
  },
  {
   "cell_type": "code",
   "execution_count": 18,
   "metadata": {},
   "outputs": [
    {
     "name": "stderr",
     "output_type": "stream",
     "text": [
      "Warning message in chisq.test(table(LectCritD, RazCuantD)):\n",
      "\"Chi-squared approximation may be incorrect\"\n"
     ]
    },
    {
     "data": {
      "text/plain": [
       "\n",
       "\tPearson's Chi-squared test\n",
       "\n",
       "data:  table(LectCritD, RazCuantD)\n",
       "X-squared = 243.02, df = 9, p-value < 2.2e-16\n"
      ]
     },
     "metadata": {},
     "output_type": "display_data"
    }
   ],
   "source": [
    "with(tmas,chisq.test(table(LectCritD,RazCuantD)))"
   ]
  },
  {
   "cell_type": "markdown",
   "metadata": {},
   "source": [
    "Observando el valor de p-value se rechaza la hipótesis nula, por lo cual se concluye que las competencias de razonamiento cuantitativo y lectura crítica **son dependientes entre sí**. Esto tiene sentido, ya que para poder rendir en una competencia como lo es razonamiento cuantitativo se debe tener cierta capacidad de análisis y argumentación, lo que tiene relación directa con la lectura crítica. "
   ]
  },
  {
   "cell_type": "markdown",
   "metadata": {},
   "source": [
    "### Prueba de Signos"
   ]
  },
  {
   "cell_type": "markdown",
   "metadata": {},
   "source": [
    "Con la muestra, calcule un promedio general por estudiante para las cinco competencia y realice un ranking inicial y un ranking final por departamento; determine si hubo cambios significativos en esa clasificación.\n",
    "\n",
    "Las hipótesis son:\n",
    "\n",
    "* $H_{0}: mediana = 0$\n",
    "* $H_{1}: mediana \\neq 0$"
   ]
  },
  {
   "cell_type": "markdown",
   "metadata": {},
   "source": [
    "Agrupación por año y departamento con el promedio de puntajes, y separación de cada periodo"
   ]
  },
  {
   "cell_type": "code",
   "execution_count": 19,
   "metadata": {},
   "outputs": [
    {
     "name": "stderr",
     "output_type": "stream",
     "text": [
      "`summarise()` regrouping output by 'Departamento' (override with `.groups` argument)\n",
      "\n"
     ]
    }
   ],
   "source": [
    "promedio <- data.frame(\n",
    "  Periodo = data$Periodo,\n",
    "  Departamento = data$Departamento,\n",
    "  Promedio = with(data, (CompCiudP+ComuEscrP+InglesP+LectCritP+RazCuantP)/5)\n",
    ")\n",
    "\n",
    "departamentos <- promedio %>%\n",
    "  select(Departamento,Periodo,Promedio) %>%\n",
    "  group_by(Departamento,Periodo) %>%\n",
    "  summarise(Puntaje=mean(Promedio))\n",
    "\n",
    "periodo2016<-departamentos[departamentos$Periodo=='2016',c('Departamento','Puntaje')]\n",
    "periodo2017<-departamentos[departamentos$Periodo=='2017',c('Departamento','Puntaje')]\n",
    "periodo2018<-departamentos[departamentos$Periodo=='2018',c('Departamento','Puntaje')]"
   ]
  },
  {
   "cell_type": "markdown",
   "metadata": {},
   "source": [
    "Se ordenan los departamentos con un ranking dependiente del puntaje de cada uno y luego se vuelven a ordenar por departamento para así poder ver las variaciones de cada departamento y puntaje en cada periodo o año."
   ]
  },
  {
   "cell_type": "code",
   "execution_count": 20,
   "metadata": {},
   "outputs": [],
   "source": [
    "p2016<-periodo2016 %>% arrange(desc(Puntaje))\n",
    "p2017<-periodo2017 %>% arrange(desc(Puntaje))\n",
    "p2018<-periodo2018 %>% arrange(desc(Puntaje))\n",
    "\n",
    "p2016$puesto  <- 1:nrow(p2016)\n",
    "p2017$puesto  <- 1:nrow(p2017)\n",
    "p2018$puesto  <- 1:nrow(p2018)\n",
    "\n",
    "p2016 <- p2016[order(p2016$Departamento),]\n",
    "p2017 <- p2017[order(p2017$Departamento),]\n",
    "p2018 <- p2018[order(p2018$Departamento),]"
   ]
  },
  {
   "cell_type": "markdown",
   "metadata": {},
   "source": [
    "Se visualizan los datos y se observan los cambios "
   ]
  },
  {
   "cell_type": "code",
   "execution_count": 21,
   "metadata": {},
   "outputs": [
    {
     "data": {
      "text/html": [
       "<table>\n",
       "<caption>A data.frame: 35 × 4</caption>\n",
       "<thead>\n",
       "\t<tr><th scope=col>Departamento</th><th scope=col>Puesto2016</th><th scope=col>Puesto2017</th><th scope=col>Puesto2018</th></tr>\n",
       "\t<tr><th scope=col>&lt;fct&gt;</th><th scope=col>&lt;int&gt;</th><th scope=col>&lt;int&gt;</th><th scope=col>&lt;int&gt;</th></tr>\n",
       "</thead>\n",
       "<tbody>\n",
       "\t<tr><td>               </td><td>35</td><td> 1</td><td>12</td></tr>\n",
       "\t<tr><td>AMAZONAS       </td><td>26</td><td>25</td><td>26</td></tr>\n",
       "\t<tr><td>ANTIOQUIA      </td><td> 2</td><td> 4</td><td> 3</td></tr>\n",
       "\t<tr><td>ARAUCA         </td><td>29</td><td>32</td><td>29</td></tr>\n",
       "\t<tr><td>ATLANTICO      </td><td>10</td><td>12</td><td>11</td></tr>\n",
       "\t<tr><td>BOGOTA         </td><td> 1</td><td> 3</td><td> 2</td></tr>\n",
       "\t<tr><td>BOLIVAR        </td><td>20</td><td>13</td><td>13</td></tr>\n",
       "\t<tr><td>BOYACA         </td><td> 6</td><td> 7</td><td> 6</td></tr>\n",
       "\t<tr><td>CALDAS         </td><td> 3</td><td> 6</td><td> 5</td></tr>\n",
       "\t<tr><td>CAQUETA        </td><td>22</td><td>28</td><td>28</td></tr>\n",
       "\t<tr><td>CASANARE       </td><td>21</td><td>24</td><td>20</td></tr>\n",
       "\t<tr><td>CAUCA          </td><td>12</td><td>16</td><td>16</td></tr>\n",
       "\t<tr><td>CESAR          </td><td>25</td><td>22</td><td>22</td></tr>\n",
       "\t<tr><td>CHOCO          </td><td>33</td><td>35</td><td>35</td></tr>\n",
       "\t<tr><td>CORDOBA        </td><td>24</td><td>23</td><td>24</td></tr>\n",
       "\t<tr><td>CUNDINAMARCA   </td><td> 8</td><td> 9</td><td> 7</td></tr>\n",
       "\t<tr><td>EXTRANJERO     </td><td>16</td><td> 2</td><td> 1</td></tr>\n",
       "\t<tr><td>GUAINIA        </td><td>23</td><td>31</td><td>32</td></tr>\n",
       "\t<tr><td>GUAVIARE       </td><td>30</td><td>29</td><td>27</td></tr>\n",
       "\t<tr><td>HUILA          </td><td>19</td><td>20</td><td>21</td></tr>\n",
       "\t<tr><td>LA GUAJIRA     </td><td>32</td><td>34</td><td>31</td></tr>\n",
       "\t<tr><td>MAGDALENA      </td><td>17</td><td>18</td><td>19</td></tr>\n",
       "\t<tr><td>META           </td><td>15</td><td>19</td><td>17</td></tr>\n",
       "\t<tr><td>NARINO         </td><td>13</td><td>14</td><td>14</td></tr>\n",
       "\t<tr><td>NORTE SANTANDER</td><td>11</td><td>17</td><td>15</td></tr>\n",
       "\t<tr><td>PUTUMAYO       </td><td>28</td><td>33</td><td>30</td></tr>\n",
       "\t<tr><td>QUINDIO        </td><td> 7</td><td>11</td><td>10</td></tr>\n",
       "\t<tr><td>RISARALDA      </td><td> 5</td><td>10</td><td> 9</td></tr>\n",
       "\t<tr><td>SAN ANDRES     </td><td>18</td><td>27</td><td>23</td></tr>\n",
       "\t<tr><td>SANTANDER      </td><td> 4</td><td> 5</td><td> 4</td></tr>\n",
       "\t<tr><td>SUCRE          </td><td>27</td><td>21</td><td>25</td></tr>\n",
       "\t<tr><td>TOLIMA         </td><td>14</td><td>15</td><td>18</td></tr>\n",
       "\t<tr><td>VALLE          </td><td> 9</td><td> 8</td><td> 8</td></tr>\n",
       "\t<tr><td>VAUPES         </td><td>31</td><td>26</td><td>34</td></tr>\n",
       "\t<tr><td>VICHADA        </td><td>34</td><td>30</td><td>33</td></tr>\n",
       "</tbody>\n",
       "</table>\n"
      ],
      "text/latex": [
       "A data.frame: 35 × 4\n",
       "\\begin{tabular}{llll}\n",
       " Departamento & Puesto2016 & Puesto2017 & Puesto2018\\\\\n",
       " <fct> & <int> & <int> & <int>\\\\\n",
       "\\hline\n",
       "\t                 & 35 &  1 & 12\\\\\n",
       "\t AMAZONAS        & 26 & 25 & 26\\\\\n",
       "\t ANTIOQUIA       &  2 &  4 &  3\\\\\n",
       "\t ARAUCA          & 29 & 32 & 29\\\\\n",
       "\t ATLANTICO       & 10 & 12 & 11\\\\\n",
       "\t BOGOTA          &  1 &  3 &  2\\\\\n",
       "\t BOLIVAR         & 20 & 13 & 13\\\\\n",
       "\t BOYACA          &  6 &  7 &  6\\\\\n",
       "\t CALDAS          &  3 &  6 &  5\\\\\n",
       "\t CAQUETA         & 22 & 28 & 28\\\\\n",
       "\t CASANARE        & 21 & 24 & 20\\\\\n",
       "\t CAUCA           & 12 & 16 & 16\\\\\n",
       "\t CESAR           & 25 & 22 & 22\\\\\n",
       "\t CHOCO           & 33 & 35 & 35\\\\\n",
       "\t CORDOBA         & 24 & 23 & 24\\\\\n",
       "\t CUNDINAMARCA    &  8 &  9 &  7\\\\\n",
       "\t EXTRANJERO      & 16 &  2 &  1\\\\\n",
       "\t GUAINIA         & 23 & 31 & 32\\\\\n",
       "\t GUAVIARE        & 30 & 29 & 27\\\\\n",
       "\t HUILA           & 19 & 20 & 21\\\\\n",
       "\t LA GUAJIRA      & 32 & 34 & 31\\\\\n",
       "\t MAGDALENA       & 17 & 18 & 19\\\\\n",
       "\t META            & 15 & 19 & 17\\\\\n",
       "\t NARINO          & 13 & 14 & 14\\\\\n",
       "\t NORTE SANTANDER & 11 & 17 & 15\\\\\n",
       "\t PUTUMAYO        & 28 & 33 & 30\\\\\n",
       "\t QUINDIO         &  7 & 11 & 10\\\\\n",
       "\t RISARALDA       &  5 & 10 &  9\\\\\n",
       "\t SAN ANDRES      & 18 & 27 & 23\\\\\n",
       "\t SANTANDER       &  4 &  5 &  4\\\\\n",
       "\t SUCRE           & 27 & 21 & 25\\\\\n",
       "\t TOLIMA          & 14 & 15 & 18\\\\\n",
       "\t VALLE           &  9 &  8 &  8\\\\\n",
       "\t VAUPES          & 31 & 26 & 34\\\\\n",
       "\t VICHADA         & 34 & 30 & 33\\\\\n",
       "\\end{tabular}\n"
      ],
      "text/markdown": [
       "\n",
       "A data.frame: 35 × 4\n",
       "\n",
       "| Departamento &lt;fct&gt; | Puesto2016 &lt;int&gt; | Puesto2017 &lt;int&gt; | Puesto2018 &lt;int&gt; |\n",
       "|---|---|---|---|\n",
       "| <!----> | 35 |  1 | 12 |\n",
       "| AMAZONAS        | 26 | 25 | 26 |\n",
       "| ANTIOQUIA       |  2 |  4 |  3 |\n",
       "| ARAUCA          | 29 | 32 | 29 |\n",
       "| ATLANTICO       | 10 | 12 | 11 |\n",
       "| BOGOTA          |  1 |  3 |  2 |\n",
       "| BOLIVAR         | 20 | 13 | 13 |\n",
       "| BOYACA          |  6 |  7 |  6 |\n",
       "| CALDAS          |  3 |  6 |  5 |\n",
       "| CAQUETA         | 22 | 28 | 28 |\n",
       "| CASANARE        | 21 | 24 | 20 |\n",
       "| CAUCA           | 12 | 16 | 16 |\n",
       "| CESAR           | 25 | 22 | 22 |\n",
       "| CHOCO           | 33 | 35 | 35 |\n",
       "| CORDOBA         | 24 | 23 | 24 |\n",
       "| CUNDINAMARCA    |  8 |  9 |  7 |\n",
       "| EXTRANJERO      | 16 |  2 |  1 |\n",
       "| GUAINIA         | 23 | 31 | 32 |\n",
       "| GUAVIARE        | 30 | 29 | 27 |\n",
       "| HUILA           | 19 | 20 | 21 |\n",
       "| LA GUAJIRA      | 32 | 34 | 31 |\n",
       "| MAGDALENA       | 17 | 18 | 19 |\n",
       "| META            | 15 | 19 | 17 |\n",
       "| NARINO          | 13 | 14 | 14 |\n",
       "| NORTE SANTANDER | 11 | 17 | 15 |\n",
       "| PUTUMAYO        | 28 | 33 | 30 |\n",
       "| QUINDIO         |  7 | 11 | 10 |\n",
       "| RISARALDA       |  5 | 10 |  9 |\n",
       "| SAN ANDRES      | 18 | 27 | 23 |\n",
       "| SANTANDER       |  4 |  5 |  4 |\n",
       "| SUCRE           | 27 | 21 | 25 |\n",
       "| TOLIMA          | 14 | 15 | 18 |\n",
       "| VALLE           |  9 |  8 |  8 |\n",
       "| VAUPES          | 31 | 26 | 34 |\n",
       "| VICHADA         | 34 | 30 | 33 |\n",
       "\n"
      ],
      "text/plain": [
       "   Departamento    Puesto2016 Puesto2017 Puesto2018\n",
       "1                  35          1         12        \n",
       "2  AMAZONAS        26         25         26        \n",
       "3  ANTIOQUIA        2          4          3        \n",
       "4  ARAUCA          29         32         29        \n",
       "5  ATLANTICO       10         12         11        \n",
       "6  BOGOTA           1          3          2        \n",
       "7  BOLIVAR         20         13         13        \n",
       "8  BOYACA           6          7          6        \n",
       "9  CALDAS           3          6          5        \n",
       "10 CAQUETA         22         28         28        \n",
       "11 CASANARE        21         24         20        \n",
       "12 CAUCA           12         16         16        \n",
       "13 CESAR           25         22         22        \n",
       "14 CHOCO           33         35         35        \n",
       "15 CORDOBA         24         23         24        \n",
       "16 CUNDINAMARCA     8          9          7        \n",
       "17 EXTRANJERO      16          2          1        \n",
       "18 GUAINIA         23         31         32        \n",
       "19 GUAVIARE        30         29         27        \n",
       "20 HUILA           19         20         21        \n",
       "21 LA GUAJIRA      32         34         31        \n",
       "22 MAGDALENA       17         18         19        \n",
       "23 META            15         19         17        \n",
       "24 NARINO          13         14         14        \n",
       "25 NORTE SANTANDER 11         17         15        \n",
       "26 PUTUMAYO        28         33         30        \n",
       "27 QUINDIO          7         11         10        \n",
       "28 RISARALDA        5         10          9        \n",
       "29 SAN ANDRES      18         27         23        \n",
       "30 SANTANDER        4          5          4        \n",
       "31 SUCRE           27         21         25        \n",
       "32 TOLIMA          14         15         18        \n",
       "33 VALLE            9          8          8        \n",
       "34 VAUPES          31         26         34        \n",
       "35 VICHADA         34         30         33        "
      ]
     },
     "metadata": {},
     "output_type": "display_data"
    }
   ],
   "source": [
    "ord<- data.frame(Departamento=p2016$Departamento,Puesto2016=p2016$puesto,Puesto2017= p2017$puesto,Puesto2018=p2018$puesto)\n",
    "ord"
   ]
  },
  {
   "cell_type": "markdown",
   "metadata": {},
   "source": [
    "Periodo 2016 y 2017"
   ]
  },
  {
   "cell_type": "code",
   "execution_count": 22,
   "metadata": {},
   "outputs": [
    {
     "data": {
      "text/plain": [
       "\n",
       "\tExact Wilcoxon-Pratt Signed-Rank Test\n",
       "\n",
       "data:  y by x (pos, neg) \n",
       "\t stratified by block\n",
       "Z = -1.5631, p-value = 0.12\n",
       "alternative hypothesis: true mu is not equal to 0\n"
      ]
     },
     "metadata": {},
     "output_type": "display_data"
    }
   ],
   "source": [
    "wilcoxsign_test(p2016$puesto ~ p2017$puesto,  distribution = \"exact\")"
   ]
  },
  {
   "cell_type": "markdown",
   "metadata": {},
   "source": [
    "Periodo 2017 y 2018"
   ]
  },
  {
   "cell_type": "code",
   "execution_count": 23,
   "metadata": {},
   "outputs": [
    {
     "data": {
      "text/plain": [
       "\n",
       "\tExact Wilcoxon-Pratt Signed-Rank Test\n",
       "\n",
       "data:  y by x (pos, neg) \n",
       "\t stratified by block\n",
       "Z = 1.1865, p-value = 0.241\n",
       "alternative hypothesis: true mu is not equal to 0\n"
      ]
     },
     "metadata": {},
     "output_type": "display_data"
    }
   ],
   "source": [
    "wilcoxsign_test(p2017$puesto ~ p2018$puesto,  distribution = \"exact\")"
   ]
  },
  {
   "cell_type": "markdown",
   "metadata": {},
   "source": [
    "Periodo 2016 y 2018"
   ]
  },
  {
   "cell_type": "code",
   "execution_count": 24,
   "metadata": {},
   "outputs": [
    {
     "data": {
      "text/plain": [
       "\n",
       "\tExact Wilcoxon-Pratt Signed-Rank Test\n",
       "\n",
       "data:  y by x (pos, neg) \n",
       "\t stratified by block\n",
       "Z = -1.5064, p-value = 0.1345\n",
       "alternative hypothesis: true mu is not equal to 0\n"
      ]
     },
     "metadata": {},
     "output_type": "display_data"
    }
   ],
   "source": [
    "wilcoxsign_test(p2016$puesto ~ p2018$puesto,  distribution = \"exact\")"
   ]
  },
  {
   "cell_type": "markdown",
   "metadata": {},
   "source": [
    "Para cada cada una de las pruebas realizadas se observa que con el valor de p-value no se rechaza la hipótesis nula. Por lo tanto, se puede afirmar que en el ranking y pruebas aplicadas para los periodos entre 2016-2017, 2017-2018 y 2016-2018, se tiene una mediana igual cero. Siendo así, se puede decir que no se representaron los suficientes cambios o que más de la mitad de los valores no cambiaron. "
   ]
  },
  {
   "cell_type": "markdown",
   "metadata": {},
   "source": [
    "<font size=5><h4 align=\"center\"> Ejercicio Diseño de Experimentos</h4></font>  \n",
    "\n",
    "Plantee un ejercicio, a su gusto, donde sea posible hacer uso de los distintos tipos de Diseño de Experimentos:\n",
    "\n",
    "\n",
    "*   ANOVA de un Factor (Efectos Fijos)\n",
    "*   Anova de un Factor (Efectos Aleatorios)\n",
    "*   Diseño por Bloques\n",
    "*   Diseño Factorial (Dos Factores)\n",
    "*   Cuadrado Latino\n",
    "\n"
   ]
  },
  {
   "cell_type": "markdown",
   "metadata": {},
   "source": [
    "### ANOVA - Efectos Fijos\n",
    "\n",
    "Los jugadores de la liga de ajedrez se preparan para un nuevo campeonato de partidas rápidas. Para ello comienzan un entrenamiento intensivo de aperturas (secuencia teórica de movimientos iniciales) y quieren saber si es posible no invertir mucho tiempo en ello para entrenar otros factores. Por lo tanto, quieren determinar si habrá un diferente tiempo de reacción de los jugadores (en segundos), con diferentes tiempos de entrenamiento en horas durante las 10 primeras jugadas. El estudio arroja los siguientes datos:"
   ]
  },
  {
   "cell_type": "code",
   "execution_count": 26,
   "metadata": {},
   "outputs": [
    {
     "data": {
      "text/html": [
       "<table>\n",
       "<caption>A data.frame: 6 × 2</caption>\n",
       "<thead>\n",
       "\t<tr><th></th><th scope=col>Tentrenamiento</th><th scope=col>Treaccion</th></tr>\n",
       "\t<tr><th></th><th scope=col>&lt;int&gt;</th><th scope=col>&lt;int&gt;</th></tr>\n",
       "</thead>\n",
       "<tbody>\n",
       "\t<tr><th scope=row>1</th><td>1</td><td>26</td></tr>\n",
       "\t<tr><th scope=row>2</th><td>1</td><td>23</td></tr>\n",
       "\t<tr><th scope=row>3</th><td>1</td><td>34</td></tr>\n",
       "\t<tr><th scope=row>4</th><td>1</td><td>31</td></tr>\n",
       "\t<tr><th scope=row>5</th><td>1</td><td>17</td></tr>\n",
       "\t<tr><th scope=row>6</th><td>2</td><td>16</td></tr>\n",
       "</tbody>\n",
       "</table>\n"
      ],
      "text/latex": [
       "A data.frame: 6 × 2\n",
       "\\begin{tabular}{r|ll}\n",
       "  & Tentrenamiento & Treaccion\\\\\n",
       "  & <int> & <int>\\\\\n",
       "\\hline\n",
       "\t1 & 1 & 26\\\\\n",
       "\t2 & 1 & 23\\\\\n",
       "\t3 & 1 & 34\\\\\n",
       "\t4 & 1 & 31\\\\\n",
       "\t5 & 1 & 17\\\\\n",
       "\t6 & 2 & 16\\\\\n",
       "\\end{tabular}\n"
      ],
      "text/markdown": [
       "\n",
       "A data.frame: 6 × 2\n",
       "\n",
       "| <!--/--> | Tentrenamiento &lt;int&gt; | Treaccion &lt;int&gt; |\n",
       "|---|---|---|\n",
       "| 1 | 1 | 26 |\n",
       "| 2 | 1 | 23 |\n",
       "| 3 | 1 | 34 |\n",
       "| 4 | 1 | 31 |\n",
       "| 5 | 1 | 17 |\n",
       "| 6 | 2 | 16 |\n",
       "\n"
      ],
      "text/plain": [
       "  Tentrenamiento Treaccion\n",
       "1 1              26       \n",
       "2 1              23       \n",
       "3 1              34       \n",
       "4 1              31       \n",
       "5 1              17       \n",
       "6 2              16       "
      ]
     },
     "metadata": {},
     "output_type": "display_data"
    }
   ],
   "source": [
    "#Conjunto de datos\n",
    "Input1 = (\" Tentrenamiento  Treaccion\n",
    "'1'  26\n",
    "'1'  23\n",
    "'1'  34\n",
    "'1'  31\n",
    "'1'  17\n",
    "'2'  16\n",
    "'2'  18\n",
    "'2'  15\n",
    "'2'  20\n",
    "'2'  21\n",
    "'3'  32\n",
    "'3'  23\n",
    "'3'  14\n",
    "'3'  18\n",
    "'3'  27\n",
    "'4'  9\n",
    "'4'  15\n",
    "'4'  12\n",
    "'4'  10\n",
    "'4'  11\n",
    "\")\n",
    "\n",
    "data1<-read.table(textConnection(Input1),header=TRUE)\n",
    "head(data1)"
   ]
  },
  {
   "cell_type": "markdown",
   "metadata": {},
   "source": [
    "Por lo tanto la hipótesis es, de forma equivalente:\n",
    "\n",
    "\\begin{equation}\n",
    "H_{0} : \\tau_{j} = 0 , \\quad j=1,2,...,4.\n",
    "\\end{equation}"
   ]
  },
  {
   "cell_type": "code",
   "execution_count": 28,
   "metadata": {},
   "outputs": [
    {
     "data": {
      "image/png": "[encoded data removed]",
      "text/plain": [
       "plot without title"
      ]
     },
     "metadata": {
      "image/png": {
       "height": 420,
       "width": 420
      },
      "text/plain": {
       "height": 420,
       "width": 420
      }
     },
     "output_type": "display_data"
    }
   ],
   "source": [
    "#Gráfica\n",
    "data1$Tentrenamiento<-factor(data1$Tentrenamiento)\n",
    "with(data1, plot(Tentrenamiento,Treaccion))"
   ]
  },
  {
   "cell_type": "markdown",
   "metadata": {},
   "source": [
    "Desde la gráfica ya puede observarse que las aperturas tienen diferentes medias, para la 2 y la 4 parece que suele llevar a posiciones más familiares por lo que no solo hay poca desviación, también un menor tiempo promedio. Por otro lado la 1 y la 3 tienen mayor desviación y un tiempo mayor en promedio. Aun así, puede observarse que las tres primeras aperturas podrían tener el mismo tiempo empleado, lo que haría no tan evidente rechazar la hipótesis nula.\n",
    "\n",
    "Por lo tanto se agrupa la información en una tabla de  de análisis de varianza para sacar una conclusión:"
   ]
  },
  {
   "cell_type": "code",
   "execution_count": 29,
   "metadata": {},
   "outputs": [
    {
     "data": {
      "text/plain": [
       "               Df Sum Sq Mean Sq F value  Pr(>F)   \n",
       "Tentrenamiento  3  618.0   206.0   7.687 0.00211 **\n",
       "Residuals      16  428.8    26.8                   \n",
       "---\n",
       "Signif. codes:  0 '***' 0.001 '**' 0.01 '*' 0.05 '.' 0.1 ' ' 1"
      ]
     },
     "metadata": {},
     "output_type": "display_data"
    }
   ],
   "source": [
    "# La ANOVA en detalle\n",
    "m.aov1<-lm(Treaccion~Tentrenamiento,data=data1)\n",
    "aov.m1<-aov(m.aov1)\n",
    "summary(aov.m1)"
   ]
  },
  {
   "cell_type": "code",
   "execution_count": 30,
   "metadata": {},
   "outputs": [
    {
     "data": {
      "text/plain": [
       "\n",
       "Call:\n",
       "lm(formula = Treaccion ~ Tentrenamiento, data = data1)\n",
       "\n",
       "Residuals:\n",
       "   Min     1Q Median     3Q    Max \n",
       " -9.20  -2.55  -0.10   3.15   9.20 \n",
       "\n",
       "Coefficients:\n",
       "                Estimate Std. Error t value Pr(>|t|)    \n",
       "(Intercept)       26.200      2.315  11.317 4.79e-09 ***\n",
       "Tentrenamiento2   -8.200      3.274  -2.504 0.023462 *  \n",
       "Tentrenamiento3   -3.400      3.274  -1.038 0.314505    \n",
       "Tentrenamiento4  -14.800      3.274  -4.520 0.000349 ***\n",
       "---\n",
       "Signif. codes:  0 '***' 0.001 '**' 0.01 '*' 0.05 '.' 0.1 ' ' 1\n",
       "\n",
       "Residual standard error: 5.177 on 16 degrees of freedom\n",
       "Multiple R-squared:  0.5904,\tAdjusted R-squared:  0.5136 \n",
       "F-statistic: 7.687 on 3 and 16 DF,  p-value: 0.002109\n"
      ]
     },
     "metadata": {},
     "output_type": "display_data"
    }
   ],
   "source": [
    "summary(m.aov1)"
   ]
  },
  {
   "cell_type": "markdown",
   "metadata": {},
   "source": [
    "Con esta tabla podemos observar el intercepto con la apertura 1. se observa por medio del p-valor que existen diferencias significativas con las demás aperturas menos la número 3. Por último realizamos el test de medias:"
   ]
  },
  {
   "cell_type": "code",
   "execution_count": 31,
   "metadata": {},
   "outputs": [
    {
     "data": {
      "text/plain": [
       "\n",
       "\tPairwise comparisons using t tests with pooled SD \n",
       "\n",
       "data:  data1$Treaccion and data1$Tentrenamiento \n",
       "\n",
       "  1      2      3     \n",
       "2 0.1408 -      -     \n",
       "3 1.0000 0.9721 -     \n",
       "4 0.0021 0.3656 0.0185\n",
       "\n",
       "P value adjustment method: bonferroni "
      ]
     },
     "metadata": {},
     "output_type": "display_data"
    }
   ],
   "source": [
    "# Test de comparación de medias:\n",
    "library(stats)\n",
    "pairwise.t.test(data1$Treaccion,data1$Tentrenamiento, p.adjust.method=\"bonferroni\")"
   ]
  },
  {
   "cell_type": "code",
   "execution_count": 32,
   "metadata": {},
   "outputs": [
    {
     "data": {
      "text/plain": [
       "  Tukey multiple comparisons of means\n",
       "    95% family-wise confidence level\n",
       "\n",
       "Fit: aov(formula = m.aov1)\n",
       "\n",
       "$Tentrenamiento\n",
       "     diff        lwr       upr     p adj\n",
       "2-1  -8.2 -17.567383  1.167383 0.0972583\n",
       "3-1  -3.4 -12.767383  5.967383 0.7300064\n",
       "4-1 -14.8 -24.167383 -5.432617 0.0017813\n",
       "3-2   4.8  -4.567383 14.167383 0.4793295\n",
       "4-2  -6.6 -15.967383  2.767383 0.2232382\n",
       "4-3 -11.4 -20.767383 -2.032617 0.0146704\n"
      ]
     },
     "metadata": {},
     "output_type": "display_data"
    }
   ],
   "source": [
    "tk.aov.m1<-TukeyHSD(aov.m1)\n",
    "tk.aov.m1"
   ]
  },
  {
   "cell_type": "markdown",
   "metadata": {},
   "source": [
    "Con estos tests pueden sacarse mejores conclusiones. Ya que en la gráfica pudimos ver que la apertura 1 y 3 tienen una alta dispersión, vemos p-valores más altos de los pares relacionados a estas aperturas, y los más bajos se encuentran con los pares de la apertura 4. Aun así, podemos decir gracias a la comparación de los pares que la apertura 1 y la 2 son estadísticamente iguales a la apertura 3, y las demás son estadísticamente diferentes entre ellas."
   ]
  },
  {
   "cell_type": "code",
   "execution_count": 33,
   "metadata": {},
   "outputs": [
    {
     "data": {
      "image/png": "[encoded data removed]",
      "text/plain": [
       "Plot with title \"95% family-wise confidence level\n",
       "\""
      ]
     },
     "metadata": {
      "image/png": {
       "height": 420,
       "width": 420
      },
      "text/plain": {
       "height": 420,
       "width": 420
      }
     },
     "output_type": "display_data"
    }
   ],
   "source": [
    "plot(tk.aov.m1)"
   ]
  },
  {
   "cell_type": "markdown",
   "metadata": {},
   "source": [
    "Finalizando, vemos que en la gráfica el 0 atraviesa más hacia el centro del intervalo de confianza en las aperturas 1-3 y 2-3, confirmando la conclusión sacada anteriormente, rechazando así la hipótesis."
   ]
  },
  {
   "cell_type": "markdown",
   "metadata": {},
   "source": [
    "### ANOVA - Efectos Aleatorios\n",
    "\n",
    "Un profesor sospecha que hay muy poca variación en las notas finales de los estudiantes en tres grupos diferentes de una materia. Para verificar su sospecha, escoge de forma aleatoria cinco estudiantes de cada grupo, y sus notas finales se muestran en la siguiente tabla:\n",
    "\n",
    "| Grupo 1 | Grupo 2 | Grupo 3 |\n",
    "|------|------|------|\n",
    "| 3.2    | 3.0    | 2.9   |\n",
    "| 3.4   | 3.0   | 3.0   |\n",
    "| 3.3   | 3.1   | 2.9   |\n",
    "| 3.3   | 3.2   | 3.0   |\n",
    "| 3.2    | 3.0   | 3.1   |\n",
    "\n",
    "La Hipótesis nula del problema es:\n",
    "\\begin{equation}\n",
    "H_{0} : \\sigma²_{\\tau} = 0\n",
    "\\end{equation}"
   ]
  },
  {
   "cell_type": "code",
   "execution_count": 34,
   "metadata": {},
   "outputs": [
    {
     "data": {
      "text/html": [
       "<table>\n",
       "<caption>A data.frame: 6 × 2</caption>\n",
       "<thead>\n",
       "\t<tr><th></th><th scope=col>Grupo</th><th scope=col>Nota</th></tr>\n",
       "\t<tr><th></th><th scope=col>&lt;int&gt;</th><th scope=col>&lt;dbl&gt;</th></tr>\n",
       "</thead>\n",
       "<tbody>\n",
       "\t<tr><th scope=row>1</th><td>1</td><td>3.2</td></tr>\n",
       "\t<tr><th scope=row>2</th><td>1</td><td>3.4</td></tr>\n",
       "\t<tr><th scope=row>3</th><td>1</td><td>3.3</td></tr>\n",
       "\t<tr><th scope=row>4</th><td>1</td><td>3.3</td></tr>\n",
       "\t<tr><th scope=row>5</th><td>1</td><td>3.2</td></tr>\n",
       "\t<tr><th scope=row>6</th><td>2</td><td>3.0</td></tr>\n",
       "</tbody>\n",
       "</table>\n"
      ],
      "text/latex": [
       "A data.frame: 6 × 2\n",
       "\\begin{tabular}{r|ll}\n",
       "  & Grupo & Nota\\\\\n",
       "  & <int> & <dbl>\\\\\n",
       "\\hline\n",
       "\t1 & 1 & 3.2\\\\\n",
       "\t2 & 1 & 3.4\\\\\n",
       "\t3 & 1 & 3.3\\\\\n",
       "\t4 & 1 & 3.3\\\\\n",
       "\t5 & 1 & 3.2\\\\\n",
       "\t6 & 2 & 3.0\\\\\n",
       "\\end{tabular}\n"
      ],
      "text/markdown": [
       "\n",
       "A data.frame: 6 × 2\n",
       "\n",
       "| <!--/--> | Grupo &lt;int&gt; | Nota &lt;dbl&gt; |\n",
       "|---|---|---|\n",
       "| 1 | 1 | 3.2 |\n",
       "| 2 | 1 | 3.4 |\n",
       "| 3 | 1 | 3.3 |\n",
       "| 4 | 1 | 3.3 |\n",
       "| 5 | 1 | 3.2 |\n",
       "| 6 | 2 | 3.0 |\n",
       "\n"
      ],
      "text/plain": [
       "  Grupo Nota\n",
       "1 1     3.2 \n",
       "2 1     3.4 \n",
       "3 1     3.3 \n",
       "4 1     3.3 \n",
       "5 1     3.2 \n",
       "6 2     3.0 "
      ]
     },
     "metadata": {},
     "output_type": "display_data"
    }
   ],
   "source": [
    "#Conjunto de datos\n",
    "Input2 = (\" Grupo Nota\n",
    "'1'  3.2\n",
    "'1'  3.4\n",
    "'1'  3.3\n",
    "'1'  3.3\n",
    "'1'  3.2\n",
    "'2'  3.0\n",
    "'2'  3.0\n",
    "'2'  3.1\n",
    "'2'  3.2\n",
    "'2'  3.0\n",
    "'3'  2.9\n",
    "'3'  3.0\n",
    "'3'  2.9\n",
    "'3'  3.0\n",
    "'3'  3.1\n",
    "\")\n",
    "\n",
    "data2<-read.table(textConnection(Input2),header=TRUE)\n",
    "head(data2)"
   ]
  },
  {
   "cell_type": "code",
   "execution_count": 35,
   "metadata": {},
   "outputs": [
    {
     "data": {
      "image/png": "[encoded data removed]",
      "text/plain": [
       "plot without title"
      ]
     },
     "metadata": {
      "image/png": {
       "height": 420,
       "width": 420
      },
      "text/plain": {
       "height": 420,
       "width": 420
      }
     },
     "output_type": "display_data"
    }
   ],
   "source": [
    "#Gráfica\n",
    "data2$Grupo<-factor(data2$Grupo)\n",
    "with(data2, plot(Grupo,Nota))"
   ]
  },
  {
   "cell_type": "markdown",
   "metadata": {},
   "source": [
    "En la gráfica podemos observar que los tres grupos presentan una dispersión homogenea, lo que en un primer vistazo nos podría llevar a la conclusión de que las varianzas entre ellos son iguales. Sin embargo, cabe recalcar que un diagrama de caja no es muy confiable si se cuenta con solo 5 datos, esto se debe a que en el rango intercuartílico se tienen cinco medidas, por lo tanto cada dato estaría ocupando cada medida del rango. Por esta razón nos apoyamos en el análisis de la varianza:"
   ]
  },
  {
   "cell_type": "code",
   "execution_count": 36,
   "metadata": {},
   "outputs": [
    {
     "data": {
      "text/plain": [
       "\n",
       "Call:\n",
       "lm(formula = Nota ~ Grupo, data = data2)\n",
       "\n",
       "Residuals:\n",
       "   Min     1Q Median     3Q    Max \n",
       " -0.08  -0.07   0.02   0.03   0.14 \n",
       "\n",
       "Coefficients:\n",
       "            Estimate Std. Error t value Pr(>|t|)    \n",
       "(Intercept)  3.28000    0.03830  85.646  < 2e-16 ***\n",
       "Grupo2      -0.22000    0.05416  -4.062 0.001576 ** \n",
       "Grupo3      -0.30000    0.05416  -5.539 0.000128 ***\n",
       "---\n",
       "Signif. codes:  0 '***' 0.001 '**' 0.01 '*' 0.05 '.' 0.1 ' ' 1\n",
       "\n",
       "Residual standard error: 0.08563 on 12 degrees of freedom\n",
       "Multiple R-squared:  0.7328,\tAdjusted R-squared:  0.6883 \n",
       "F-statistic: 16.45 on 2 and 12 DF,  p-value: 0.000364\n"
      ]
     },
     "metadata": {},
     "output_type": "display_data"
    }
   ],
   "source": [
    "m.aov2<-lm(Nota~Grupo,data=data2)\n",
    "summary(m.aov2)"
   ]
  },
  {
   "cell_type": "code",
   "execution_count": 37,
   "metadata": {},
   "outputs": [
    {
     "data": {
      "text/plain": [
       "            Df Sum Sq Mean Sq F value   Pr(>F)    \n",
       "Grupo        2 0.2413 0.12067   16.45 0.000364 ***\n",
       "Residuals   12 0.0880 0.00733                     \n",
       "---\n",
       "Signif. codes:  0 '***' 0.001 '**' 0.01 '*' 0.05 '.' 0.1 ' ' 1"
      ]
     },
     "metadata": {},
     "output_type": "display_data"
    }
   ],
   "source": [
    "# La ANOVA en detalle\n",
    "aov.m2<-aov(m.aov2)\n",
    "summary(aov.m2)"
   ]
  },
  {
   "cell_type": "markdown",
   "metadata": {},
   "source": [
    "Podemos observar que el p-valor > 0, lo que refutaría la hipótesis nula de la varianza siendo 0. Podemos estimar la varianza de las notas y qué proporción de esta puede atribuirse a la diferencia de los tratamientos, teniendo en cuenta que para un modelo de efectos aleatorios\n",
    "\n",
    "\\begin{equation}\n",
    "Var_{(Y_{ij})} = \\sigma² + \\sigma²_{\\tau}\n",
    "\\end{equation}"
   ]
  },
  {
   "cell_type": "markdown",
   "metadata": {},
   "source": [
    "un estimado de $\\sigma²$ es $MS_{Error}$ = 0.00733, y un estimador de $\\sigma² + 5\\sigma²_{\\tau}$ es $MS_{Tratamientos}$ = 0.12067. En otras palabras,\n",
    "\n",
    "\\begin{equation}\n",
    "0.00733 + 5\\sigma²_{\\tau} = 0.12067\n",
    "\\end{equation}\n",
    "\n",
    "\\begin{equation}\n",
    "\\sigma²_{\\tau} = \\frac{0.12067-0.00733}{5} = 0.022668\n",
    "\\end{equation}\n",
    "\n",
    "Entonces un estimador de la varianza en las notas es\n",
    "\n",
    "\\begin{equation}\n",
    "Var_{(Y_{ij})} = 0.00733 + 0.022668 = 0.029998\n",
    "\\end{equation}\n",
    "\n",
    "de la cual 0.022668/0.029998, o el 75.56% se debe a diferencias entre los grupos."
   ]
  },
  {
   "cell_type": "markdown",
   "metadata": {},
   "source": [
    "### Diseño por bloques - Factores\n",
    "Se llevó a cabo una investigación en un lugar de trabajo para determinar si existen diferencias apreciables en los salarios iniciales con base en el sexo, localidad del lugar de trabajo o la interacción de los dos. El estudio se realiza en 3 oficinas diferentes de la misma empresa a 4 hombres y 4 mujeres con la misma edad y mismo promedio durante sus estudios; todos se graduaron de la misma universidad y ninguno cuenta con experiencia laboral. Se recolectaron los datos de la siguiente tabla:\n",
    "\n",
    "| T\\B| Of1 | Of2 | Of3   |\n",
    "|----|------|------|------|\n",
    "| M1 | 15.2 | 14.9 | 16.2 |\n",
    "| M2 | 16.8 | 16.2 | 15.9 |\n",
    "| M3 | 15.5 | 15.6 | 16.8 |\n",
    "| M4 | 14.9 | 15.3 | 15.8 |\n",
    "| H1 | 18.1 | 17.8 | 18.4 |\n",
    "| H2 | 16.3 | 18.2 | 16.8 |\n",
    "| H3 | 17.2 | 18.1 | 17.5 |\n",
    "| H4 | 17.9 | 17.6 | 18.7 |"
   ]
  },
  {
   "cell_type": "code",
   "execution_count": 38,
   "metadata": {},
   "outputs": [
    {
     "data": {
      "text/html": [
       "<table>\n",
       "<caption>A data.frame: 6 × 3</caption>\n",
       "<thead>\n",
       "\t<tr><th></th><th scope=col>Factor</th><th scope=col>Bloque</th><th scope=col>Salario</th></tr>\n",
       "\t<tr><th></th><th scope=col>&lt;chr&gt;</th><th scope=col>&lt;chr&gt;</th><th scope=col>&lt;dbl&gt;</th></tr>\n",
       "</thead>\n",
       "<tbody>\n",
       "\t<tr><th scope=row>1</th><td>M1</td><td>Of1</td><td>15.2</td></tr>\n",
       "\t<tr><th scope=row>2</th><td>M1</td><td>Of2</td><td>14.9</td></tr>\n",
       "\t<tr><th scope=row>3</th><td>M1</td><td>Of3</td><td>16.2</td></tr>\n",
       "\t<tr><th scope=row>4</th><td>M2</td><td>Of1</td><td>16.8</td></tr>\n",
       "\t<tr><th scope=row>5</th><td>M2</td><td>Of2</td><td>16.2</td></tr>\n",
       "\t<tr><th scope=row>6</th><td>M2</td><td>Of3</td><td>15.9</td></tr>\n",
       "</tbody>\n",
       "</table>\n"
      ],
      "text/latex": [
       "A data.frame: 6 × 3\n",
       "\\begin{tabular}{r|lll}\n",
       "  & Factor & Bloque & Salario\\\\\n",
       "  & <chr> & <chr> & <dbl>\\\\\n",
       "\\hline\n",
       "\t1 & M1 & Of1 & 15.2\\\\\n",
       "\t2 & M1 & Of2 & 14.9\\\\\n",
       "\t3 & M1 & Of3 & 16.2\\\\\n",
       "\t4 & M2 & Of1 & 16.8\\\\\n",
       "\t5 & M2 & Of2 & 16.2\\\\\n",
       "\t6 & M2 & Of3 & 15.9\\\\\n",
       "\\end{tabular}\n"
      ],
      "text/markdown": [
       "\n",
       "A data.frame: 6 × 3\n",
       "\n",
       "| <!--/--> | Factor &lt;chr&gt; | Bloque &lt;chr&gt; | Salario &lt;dbl&gt; |\n",
       "|---|---|---|---|\n",
       "| 1 | M1 | Of1 | 15.2 |\n",
       "| 2 | M1 | Of2 | 14.9 |\n",
       "| 3 | M1 | Of3 | 16.2 |\n",
       "| 4 | M2 | Of1 | 16.8 |\n",
       "| 5 | M2 | Of2 | 16.2 |\n",
       "| 6 | M2 | Of3 | 15.9 |\n",
       "\n"
      ],
      "text/plain": [
       "  Factor Bloque Salario\n",
       "1 M1     Of1    15.2   \n",
       "2 M1     Of2    14.9   \n",
       "3 M1     Of3    16.2   \n",
       "4 M2     Of1    16.8   \n",
       "5 M2     Of2    16.2   \n",
       "6 M2     Of3    15.9   "
      ]
     },
     "metadata": {},
     "output_type": "display_data"
    }
   ],
   "source": [
    "#Conjunto de datos\n",
    "Input3 = (\" Factor Bloque Salario\n",
    "'M1'  Of1 15.2\n",
    "'M1'  Of2 14.9\n",
    "'M1'  Of3 16.2\n",
    "'M2'  Of1 16.8\n",
    "'M2'  Of2 16.2\n",
    "'M2'  Of3 15.9\n",
    "'M3'  Of1 15.5\n",
    "'M3'  Of2 15.6\n",
    "'M3'  Of3 16.8\n",
    "'M4'  Of1 14.9\n",
    "'M4'  Of2 15.3\n",
    "'M4'  Of3 15.8\n",
    "'H1'  Of1 18.1\n",
    "'H1'  Of2 17.8\n",
    "'H1'  Of3 18.4\n",
    "'H2'  Of1 16.3\n",
    "'H2'  Of2 18.2\n",
    "'H2'  Of3 16.8\n",
    "'H3'  Of1 17.2\n",
    "'H3'  Of2 18.1\n",
    "'H3'  Of3 17.5\n",
    "'H4'  Of1 17.9\n",
    "'H4'  Of2 17.6\n",
    "'H4'  Of3 18.7\n",
    "\")\n",
    "\n",
    "data3<-read.table(textConnection(Input3),header=TRUE)\n",
    "head(data3)"
   ]
  },
  {
   "cell_type": "code",
   "execution_count": 39,
   "metadata": {},
   "outputs": [
    {
     "data": {
      "text/plain": [
       "            Df Sum Sq Mean Sq F value   Pr(>F)    \n",
       "Factor       7 26.870   3.839  11.020 9.53e-05 ***\n",
       "Bloque       2  1.110   0.555   1.593    0.238    \n",
       "Residuals   14  4.877   0.348                     \n",
       "---\n",
       "Signif. codes:  0 '***' 0.001 '**' 0.01 '*' 0.05 '.' 0.1 ' ' 1"
      ]
     },
     "metadata": {},
     "output_type": "display_data"
    }
   ],
   "source": [
    "# Hacemos la prueba\n",
    "test<-aov(Salario~Factor+Bloque,data=data3)\n",
    "summary(test)"
   ]
  },
  {
   "cell_type": "markdown",
   "metadata": {},
   "source": [
    "Desde aquí podemos ver claramente gracias al p-valor que las diferencias significativas se deben al factor y no al bloque."
   ]
  },
  {
   "cell_type": "code",
   "execution_count": 40,
   "metadata": {},
   "outputs": [
    {
     "data": {
      "text/plain": [
       "\n",
       "Call:\n",
       "lm(formula = Salario ~ Factor + Bloque, data = data3)\n",
       "\n",
       "Residuals:\n",
       "     Min       1Q   Median       3Q      Max \n",
       "-0.67500 -0.35000 -0.04167  0.27708  1.12500 \n",
       "\n",
       "Coefficients:\n",
       "            Estimate Std. Error t value Pr(>|t|)    \n",
       "(Intercept) 17.85000    0.38097  46.854  < 2e-16 ***\n",
       "FactorH2    -1.00000    0.48189  -2.075 0.056885 .  \n",
       "FactorH3    -0.50000    0.48189  -1.038 0.317059    \n",
       "FactorH4    -0.03333    0.48189  -0.069 0.945831    \n",
       "FactorM1    -2.66667    0.48189  -5.534 7.37e-05 ***\n",
       "FactorM2    -1.80000    0.48189  -3.735 0.002217 ** \n",
       "FactorM3    -2.13333    0.48189  -4.427 0.000574 ***\n",
       "FactorM4    -2.76667    0.48189  -5.741 5.10e-05 ***\n",
       "BloqueOf2    0.22500    0.29510   0.762 0.458442    \n",
       "BloqueOf3    0.52500    0.29510   1.779 0.096941 .  \n",
       "---\n",
       "Signif. codes:  0 '***' 0.001 '**' 0.01 '*' 0.05 '.' 0.1 ' ' 1\n",
       "\n",
       "Residual standard error: 0.5902 on 14 degrees of freedom\n",
       "Multiple R-squared:  0.8516,\tAdjusted R-squared:  0.7562 \n",
       "F-statistic: 8.925 on 9 and 14 DF,  p-value: 0.0001982\n"
      ]
     },
     "metadata": {},
     "output_type": "display_data"
    }
   ],
   "source": [
    "# El modelo\n",
    "summary(lm(Salario~Factor+Bloque,data=data3))"
   ]
  },
  {
   "cell_type": "markdown",
   "metadata": {},
   "source": [
    "En este caso el intercepto se hace con el Hombre 1. Vemos que las diferencias más significativas en el salario son, en efecto, con las cuatro mujeres, que ganan menos, mientras que los otros hombres ganan aproximadamente lo mismo.\n",
    "Con base en la información recolectada, puede concluirse que el único efecto discernible estadísticamente en el salario se debe al sexo del empleado."
   ]
  },
  {
   "cell_type": "code",
   "execution_count": 41,
   "metadata": {},
   "outputs": [
    {
     "data": {
      "image/png": "[encoded data removed]",
      "text/plain": [
       "plot without title"
      ]
     },
     "metadata": {
      "image/png": {
       "height": 420,
       "width": 420
      },
      "text/plain": {
       "height": 420,
       "width": 420
      }
     },
     "output_type": "display_data"
    }
   ],
   "source": [
    "# Hay algo que debemos procurar mirar, la interacción\n",
    "interaction.plot(data3$Factor,data3$Bloque,data3$Salario,type=\"b\",col=c(2:4))"
   ]
  },
  {
   "cell_type": "markdown",
   "metadata": {},
   "source": [
    "En la gráfica no podemos observar de forma clara puntos de convergencia que indiquen una interacción entre los factores y los bloques."
   ]
  },
  {
   "cell_type": "code",
   "execution_count": 42,
   "metadata": {},
   "outputs": [
    {
     "data": {
      "text/plain": [
       "\n",
       "Call:\n",
       "lm(formula = Salario ~ Factor:Bloque, data = data3)\n",
       "\n",
       "Residuals:\n",
       "ALL 24 residuals are 0: no residual degrees of freedom!\n",
       "\n",
       "Coefficients: (1 not defined because of singularities)\n",
       "                   Estimate Std. Error t value Pr(>|t|)\n",
       "(Intercept)            15.8         NA      NA       NA\n",
       "FactorH1:BloqueOf1      2.3         NA      NA       NA\n",
       "FactorH2:BloqueOf1      0.5         NA      NA       NA\n",
       "FactorH3:BloqueOf1      1.4         NA      NA       NA\n",
       "FactorH4:BloqueOf1      2.1         NA      NA       NA\n",
       "FactorM1:BloqueOf1     -0.6         NA      NA       NA\n",
       "FactorM2:BloqueOf1      1.0         NA      NA       NA\n",
       "FactorM3:BloqueOf1     -0.3         NA      NA       NA\n",
       "FactorM4:BloqueOf1     -0.9         NA      NA       NA\n",
       "FactorH1:BloqueOf2      2.0         NA      NA       NA\n",
       "FactorH2:BloqueOf2      2.4         NA      NA       NA\n",
       "FactorH3:BloqueOf2      2.3         NA      NA       NA\n",
       "FactorH4:BloqueOf2      1.8         NA      NA       NA\n",
       "FactorM1:BloqueOf2     -0.9         NA      NA       NA\n",
       "FactorM2:BloqueOf2      0.4         NA      NA       NA\n",
       "FactorM3:BloqueOf2     -0.2         NA      NA       NA\n",
       "FactorM4:BloqueOf2     -0.5         NA      NA       NA\n",
       "FactorH1:BloqueOf3      2.6         NA      NA       NA\n",
       "FactorH2:BloqueOf3      1.0         NA      NA       NA\n",
       "FactorH3:BloqueOf3      1.7         NA      NA       NA\n",
       "FactorH4:BloqueOf3      2.9         NA      NA       NA\n",
       "FactorM1:BloqueOf3      0.4         NA      NA       NA\n",
       "FactorM2:BloqueOf3      0.1         NA      NA       NA\n",
       "FactorM3:BloqueOf3      1.0         NA      NA       NA\n",
       "FactorM4:BloqueOf3       NA         NA      NA       NA\n",
       "\n",
       "Residual standard error: NaN on 0 degrees of freedom\n",
       "Multiple R-squared:      1,\tAdjusted R-squared:    NaN \n",
       "F-statistic:   NaN on 23 and 0 DF,  p-value: NA\n"
      ]
     },
     "metadata": {},
     "output_type": "display_data"
    }
   ],
   "source": [
    "summary(lm(Salario~Factor:Bloque,data=data3))"
   ]
  },
  {
   "cell_type": "markdown",
   "metadata": {},
   "source": [
    "Los valores perdidos del modelo reafirman la falta de interacción entre los factores y los bloques."
   ]
  },
  {
   "cell_type": "markdown",
   "metadata": {},
   "source": [
    "### Cuadrado Latino\n",
    "\n",
    "Cuatro carros y cuatro conductores son empleados en un estudio para investigar las posibles diferencias en cuatro aditivos en la gasolina (A, B, C, D). Incluso siendo los carros del mismo modelo, podrían existir ligeras diferencias sistemáticas en su desempeño, y, por otra parte, incluso teniendo los conductores una destreza similar y que conduzcan de la forma más óptima requerida por el test, podrían encontrarse pequeñas diferencias entre cada conductor. Por lo tanto, se quisieran eliminar en el modelo las diferencias tanto de carro-con-carro, como las de conductor-conductor. El desempeño global en cada prueba fue registrado en la siguiente tabla:\n",
    "                \n",
    "| Conductores | 1  | 2  | 3  | 4  |\n",
    "|----------|----|----|----|----|\n",
    "| 1        | A  | B  | C  | D  |\n",
    "| _        | 34 | 39 | 44 | 32 |\n",
    "| 2        | B  | C  | D  | A  |\n",
    "| _        | 38 | 40 | 34 | 32 |\n",
    "| 3        | C  | D  | A  | B  |\n",
    "| _        | 39 | 34 | 36 | 41 |\n",
    "| 4        | D  | A  | B  | C  |\n",
    "| _        | 33 | 31 | 38 | 37 |\n",
    "\n",
    "Podemos simplificar los datos restando 35 a cada valor:\n",
    "\n",
    "| Conductores | 1  | 2  | 3  | 4  |\n",
    "|----------|----|----|----|----|\n",
    "| 1        | A  | B  | C  | D  |\n",
    "| _        | -1 | 4 | 9 | -3 |\n",
    "| 2        | B  | C  | D  | A  |\n",
    "| _        | 3 | 5 | -1 | -3 |\n",
    "| 3        | C  | D  | A  | B  |\n",
    "| _        | 4 | -1 | 1 | 6 |\n",
    "| 4        | D  | A  | B  | C  |\n",
    "| _        | -2 | -4 | 3 | 2 |"
   ]
  },
  {
   "cell_type": "code",
   "execution_count": 43,
   "metadata": {},
   "outputs": [
    {
     "data": {
      "text/html": [
       "<table>\n",
       "<caption>A data.frame: 6 × 4</caption>\n",
       "<thead>\n",
       "\t<tr><th></th><th scope=col>Aditivo</th><th scope=col>Conductor</th><th scope=col>Carro</th><th scope=col>Desempeño</th></tr>\n",
       "\t<tr><th></th><th scope=col>&lt;chr&gt;</th><th scope=col>&lt;int&gt;</th><th scope=col>&lt;int&gt;</th><th scope=col>&lt;int&gt;</th></tr>\n",
       "</thead>\n",
       "<tbody>\n",
       "\t<tr><th scope=row>1</th><td>A</td><td>1</td><td>1</td><td>-1</td></tr>\n",
       "\t<tr><th scope=row>2</th><td>B</td><td>1</td><td>2</td><td> 4</td></tr>\n",
       "\t<tr><th scope=row>3</th><td>C</td><td>1</td><td>3</td><td> 9</td></tr>\n",
       "\t<tr><th scope=row>4</th><td>D</td><td>1</td><td>4</td><td>-3</td></tr>\n",
       "\t<tr><th scope=row>5</th><td>B</td><td>2</td><td>1</td><td> 3</td></tr>\n",
       "\t<tr><th scope=row>6</th><td>C</td><td>2</td><td>2</td><td> 5</td></tr>\n",
       "</tbody>\n",
       "</table>\n"
      ],
      "text/latex": [
       "A data.frame: 6 × 4\n",
       "\\begin{tabular}{r|llll}\n",
       "  & Aditivo & Conductor & Carro & Desempeño\\\\\n",
       "  & <chr> & <int> & <int> & <int>\\\\\n",
       "\\hline\n",
       "\t1 & A & 1 & 1 & -1\\\\\n",
       "\t2 & B & 1 & 2 &  4\\\\\n",
       "\t3 & C & 1 & 3 &  9\\\\\n",
       "\t4 & D & 1 & 4 & -3\\\\\n",
       "\t5 & B & 2 & 1 &  3\\\\\n",
       "\t6 & C & 2 & 2 &  5\\\\\n",
       "\\end{tabular}\n"
      ],
      "text/markdown": [
       "\n",
       "A data.frame: 6 × 4\n",
       "\n",
       "| <!--/--> | Aditivo &lt;chr&gt; | Conductor &lt;int&gt; | Carro &lt;int&gt; | Desempeño &lt;int&gt; |\n",
       "|---|---|---|---|---|\n",
       "| 1 | A | 1 | 1 | -1 |\n",
       "| 2 | B | 1 | 2 |  4 |\n",
       "| 3 | C | 1 | 3 |  9 |\n",
       "| 4 | D | 1 | 4 | -3 |\n",
       "| 5 | B | 2 | 1 |  3 |\n",
       "| 6 | C | 2 | 2 |  5 |\n",
       "\n"
      ],
      "text/plain": [
       "  Aditivo Conductor Carro Desempeño\n",
       "1 A       1         1     -1       \n",
       "2 B       1         2      4       \n",
       "3 C       1         3      9       \n",
       "4 D       1         4     -3       \n",
       "5 B       2         1      3       \n",
       "6 C       2         2      5       "
      ]
     },
     "metadata": {},
     "output_type": "display_data"
    }
   ],
   "source": [
    "#Conjunto de datos\n",
    "Input4 = (\" Aditivo Conductor Carro Desempeño\n",
    "'A'  1 1 -1\n",
    "'B'  1 2 4\n",
    "'C'  1 3 9\n",
    "'D'  1 4 -3\n",
    "'B'  2 1 3\n",
    "'C'  2 2 5\n",
    "'D'  2 3 -1\n",
    "'A'  2 4 -3\n",
    "'C'  3 1 4\n",
    "'D'  3 2 -1\n",
    "'A'  3 3 1\n",
    "'B'  3 4 6\n",
    "'D'  4 1 -2\n",
    "'A'  4 2 -4\n",
    "'B'  4 3 3\n",
    "'C'  4 4 2\n",
    "\")\n",
    "\n",
    "read.table(textConnection(Input4),header=TRUE)->data4\n",
    "head(data4)"
   ]
  },
  {
   "cell_type": "markdown",
   "metadata": {},
   "source": [
    "Cuando existen n factores en el modelo, es difícil identificar a simple vista en una tabla nxn qué factores podrían proporcionar diferencias estadísticamente significativas, por lo tanto lo analizaremos con los modelos que hemos usado anteriormente."
   ]
  },
  {
   "cell_type": "code",
   "execution_count": 44,
   "metadata": {},
   "outputs": [],
   "source": [
    "# Convertimos en factor Carro y Conductor\n",
    "attach(data4)\n",
    "Carro<-as.factor(Carro)\n",
    "Conductor<-as.factor(Conductor)"
   ]
  },
  {
   "cell_type": "code",
   "execution_count": 45,
   "metadata": {},
   "outputs": [
    {
     "data": {
      "text/plain": [
       "            Df Sum Sq Mean Sq F value Pr(>F)   \n",
       "Carro        3  14.75    4.92   1.903 0.2302   \n",
       "Conductor    3  19.25    6.42   2.484 0.1580   \n",
       "Aditivo      3 158.25   52.75  20.419 0.0015 **\n",
       "Residuals    6  15.50    2.58                  \n",
       "---\n",
       "Signif. codes:  0 '***' 0.001 '**' 0.01 '*' 0.05 '.' 0.1 ' ' 1"
      ]
     },
     "metadata": {},
     "output_type": "display_data"
    }
   ],
   "source": [
    "# Modelo anova\n",
    "model4<-aov(Desempeño~Carro+Conductor+Aditivo)\n",
    "summary(model4)"
   ]
  },
  {
   "cell_type": "markdown",
   "metadata": {},
   "source": [
    "Podemos observar gracias al p-valor que el Aditivo es el único factor que influye significativamente en la variación del desempeño de los tests. Para reforzar la hipótesis, podemos analizar las medias de cada factor."
   ]
  },
  {
   "cell_type": "code",
   "execution_count": 46,
   "metadata": {},
   "outputs": [
    {
     "data": {
      "text/plain": [
       "Tables of means\n",
       "Grand mean\n",
       "      \n",
       "1.375 \n",
       "\n",
       " Carro \n",
       "Carro\n",
       "  1   2   3   4 \n",
       "1.0 1.0 3.0 0.5 \n",
       "\n",
       " Conductor \n",
       "Conductor\n",
       "    1     2     3     4 \n",
       " 2.25  1.00  2.50 -0.25 \n",
       "\n",
       " Aditivo \n",
       "Aditivo\n",
       "    A     B     C     D \n",
       "-1.75  4.00  5.00 -1.75 "
      ]
     },
     "metadata": {},
     "output_type": "display_data"
    }
   ],
   "source": [
    "# Las tablas de medias\n",
    "model.tables(model4, \"mean\")"
   ]
  },
  {
   "cell_type": "markdown",
   "metadata": {},
   "source": [
    "Podemos observar que las medias de carro y conductor son homogeneas a diferencia del Aditivo. Esto quiere decir que este representa la mayor variación en los valores de desempeño."
   ]
  },
  {
   "cell_type": "code",
   "execution_count": 47,
   "metadata": {},
   "outputs": [
    {
     "data": {
      "text/plain": [
       "  Tukey multiple comparisons of means\n",
       "    95% family-wise confidence level\n",
       "\n",
       "Fit: aov(formula = Desempeño ~ Carro + Conductor + Aditivo)\n",
       "\n",
       "$Carro\n",
       "    diff       lwr      upr     p adj\n",
       "2-1  0.0 -3.934287 3.934287 1.0000000\n",
       "3-1  2.0 -1.934287 5.934287 0.3740521\n",
       "4-1 -0.5 -4.434287 3.434287 0.9692144\n",
       "3-2  2.0 -1.934287 5.934287 0.3740521\n",
       "4-2 -0.5 -4.434287 3.434287 0.9692144\n",
       "4-3 -2.5 -6.434287 1.434287 0.2253452\n",
       "\n",
       "$Conductor\n",
       "     diff       lwr      upr     p adj\n",
       "2-1 -1.25 -5.184287 2.684287 0.7026531\n",
       "3-1  0.25 -3.684287 4.184287 0.9958353\n",
       "4-1 -2.50 -6.434287 1.434287 0.2253452\n",
       "3-2  1.50 -2.434287 5.434287 0.5844031\n",
       "4-2 -1.25 -5.184287 2.684287 0.7026531\n",
       "4-3 -2.75 -6.684287 1.184287 0.1731301\n",
       "\n",
       "$Aditivo\n",
       "             diff        lwr       upr     p adj\n",
       "B-A  5.750000e+00   1.815713  9.684287 0.0092009\n",
       "C-A  6.750000e+00   2.815713 10.684287 0.0041210\n",
       "D-A  8.881784e-16  -3.934287  3.934287 1.0000000\n",
       "C-B  1.000000e+00  -2.934287  4.934287 0.8154819\n",
       "D-B -5.750000e+00  -9.684287 -1.815713 0.0092009\n",
       "D-C -6.750000e+00 -10.684287 -2.815713 0.0041210\n"
      ]
     },
     "metadata": {},
     "output_type": "display_data"
    }
   ],
   "source": [
    "# La prueba de Tukey\n",
    "TukeyHSD(model4)"
   ]
  },
  {
   "cell_type": "markdown",
   "metadata": {},
   "source": [
    "Por último vemos en la prueba de Tukey que el único factor con p-valores menores a 0.05 es Aditivo; ya es concluyente asumir que este es el único efecto discernible estadísticamente en el desempeño de los tests."
   ]
  },
  {
   "cell_type": "code",
   "execution_count": 49,
   "metadata": {},
   "outputs": [
    {
     "data": {
      "image/png": "[encoded data removed]",
      "text/plain": [
       "Plot with title \"95% family-wise confidence level\n",
       "\""
      ]
     },
     "metadata": {
      "image/png": {
       "height": 420,
       "width": 420
      },
      "text/plain": {
       "height": 420,
       "width": 420
      }
     },
     "output_type": "display_data"
    },
    {
     "data": {
      "image/png": "[encoded data removed]",
      "text/plain": [
       "Plot with title \"95% family-wise confidence level\n",
       "\""
      ]
     },
     "metadata": {
      "image/png": {
       "height": 420,
       "width": 420
      },
      "text/plain": {
       "height": 420,
       "width": 420
      }
     },
     "output_type": "display_data"
    },
    {
     "data": {
      "image/png": "[encoded data removed]",
      "text/plain": [
       "Plot with title \"95% family-wise confidence level\n",
       "\""
      ]
     },
     "metadata": {
      "image/png": {
       "height": 420,
       "width": 420
      },
      "text/plain": {
       "height": 420,
       "width": 420
      }
     },
     "output_type": "display_data"
    }
   ],
   "source": [
    "#Gráfica de medias\n",
    "plot(TukeyHSD(model4))"
   ]
  },
  {
   "cell_type": "markdown",
   "metadata": {},
   "source": [
    "Estos mismos resultados pueden observarse de forma más sencilla en la gráfica de las medias, en la cual solo los pares de  aditivo B-A, C-A, D-B Y D-C no son interceptados por la línea."
   ]
  }
 ],
 "metadata": {
  "colab": {
   "name": "Series.ipynb",
   "provenance": []
  },
  "kernelspec": {
   "display_name": "R",
   "language": "R",
   "name": "ir"
  },
  "language_info": {
   "codemirror_mode": "r",
   "file_extension": ".r",
   "mimetype": "text/x-r-source",
   "name": "R",
   "pygments_lexer": "r",
   "version": "4.0.0"
  }
 },
 "nbformat": 4,
 "nbformat_minor": 1
}
