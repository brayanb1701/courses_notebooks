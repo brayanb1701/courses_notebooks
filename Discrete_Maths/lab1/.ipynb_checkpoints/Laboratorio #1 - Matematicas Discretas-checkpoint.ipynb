{
 "cells": [
  {
   "cell_type": "markdown",
   "metadata": {},
   "source": [
    "<h1 align=\"center\">Matematicas Discretas - Laboratorio #1</h1>"
   ]
  },
  {
   "cell_type": "markdown",
   "metadata": {},
   "source": [
    "<div style=\"text-align: justify\">\n",
    "<font size=4>\n",
    "Con la implementacion de esta practica se planea reforzar los conceptos vistos en clase sobre logica y conjuntos, la idea general es mostrar como se aplica la teoria en el area de programacion; para esto se hara uso del lenguaje Python 3 a travez de la herramienta conocida como Jupyter Notebook. <br><br>\n",
    "\n",
    "Para empezar con pie derecho, repasaremos algunos conceptos para luego demostrar con ejemplos aplicados al lenguaje y por ultimo se encuentran una serie de ejercicios para realizacion por parte del alumno.<br><br>\n",
    "\n",
    "Es importante recalcar lo necesario de leer y seguir las instrucciones que son entregadas a travez de comentarios en los ejemplos de codigo como se muestra en la siguiente celda de codigo:\n",
    "</font>\n",
    "</div>"
   ]
  },
  {
   "cell_type": "code",
   "execution_count": null,
   "metadata": {
    "collapsed": true
   },
   "outputs": [],
   "source": [
    "# Esta es una instruccion o explicacion"
   ]
  },
  {
   "cell_type": "markdown",
   "metadata": {},
   "source": [
    "<div style=\"text-align: justify\">\n",
    "<font size=4>\n",
    "Con esto entendido entonces procedamos con el notebook\n",
    "</font>\n",
    "</div>"
   ]
  },
  {
   "cell_type": "markdown",
   "metadata": {},
   "source": [
    "<div style=\"text-align: justify\">\n",
    "<font size=\"4\">\n",
    "<h2 align=\"center\">$\\rightarrow$ Lógica</h2><br>\n",
    "Lógica es el estudio del razonamiento; se centra en la relación entre las afirmaciones y no en el contenido de\n",
    "una afirmación en particular. Los métodos lógicos se usan en matemáticas para demostrar teoremas y, en las ciencias de la computación, para probar que los programas hacen lo que deben hacer entre otras cosas, sabiendo esto vamos a ver algo sobre proposiciones: <br><br><br>\n",
    "\n",
    "<h2 align=\"center\">$\\rightarrow$ Proposiciones</h2><br>\n",
    "Una oracion que puede ser verdadera o falsa, es llamada \"proposición\", es comun ver que se expresen como oraciones declarativas; son los bloques basicos de construcción de cualquier teoría de lógica.<br><br>\n",
    "\n",
    "Se usan variables, como $p$, $q$ y $r$ para representarlas, asi como la notacion:$$p: 1+1=3$$\n",
    "\n",
    "Para definir que $p$ es la proposicion $1+1=3$.<br><br>\n",
    "\n",
    "Las proposiciones se combinan usando conectores como $y$ y $o$, por ejemplo: Veanse las proposiciones \"esta lloviendo\" y \"hace frio\", se pueden combinar en \"esta lloviendo $y$ hace frio\"<br><br><br>\n",
    "\n",
    "A continuacion se muestran las definiciones formales de $y$ y $o$:<br><br>\n",
    "\n",
    "Sean $p$ y $q$ proposiciones.<br>\n",
    "<div style=\"text-align: center\">La $conjunción$ de \"$p$\" y \"$q$\", denotada por \"$p \\wedge q$\", es la proposición \"$p$ y $q$\"</div><br><br>\n",
    "<div style=\"text-align: center\">La $disyunción$ de \"$p$\" y \"$q$\", denotada por \"$p \\vee q$\", es la proposición \"$p$ o $q$\"</div><br><br>\n",
    "Teniendo esto en cuenta, ahora vamos a ver como se representa en codigo una conjuncion y una disyuncion:\n",
    "</font>\n",
    "</div>"
   ]
  },
  {
   "cell_type": "code",
   "execution_count": null,
   "metadata": {
    "collapsed": true
   },
   "outputs": [],
   "source": [
    "#CONJUNCION A TRAVEZ DEL CONDICIONAL IF:\n",
    "p = True\n",
    "q = False\n",
    "x = (p and q)\n",
    "print(\"Sentencia 'and': \" + str(x) + \"\\n\")\n",
    "\n",
    "#DISYUNCION A TRAVEZ DEL CONDICIONAL IF:\n",
    "x = (p or q)\n",
    "print(\"Sentencia 'or': \" + str(x) + \"\\n\")"
   ]
  },
  {
   "cell_type": "markdown",
   "metadata": {},
   "source": [
    "<div style=\"text-align: justify\">\n",
    "<font size=\"4\">\n",
    "Si se hacen combinaciones de estos condicionales, pueden llegar a verse predicados realmente complejos e interesantes de analizar. El analicis de estos se lleva a cabo con las tablas de verdad; las tablas de verdad para la conjunción y disyunción basicas son : <br><br>\n",
    "<table align=\"center\">\n",
    "<tr><th>Conjunción</th><th>Disyunción</th></tr>\n",
    "<tr>\n",
    "<td>\n",
    "<table>\n",
    "<tr><th>p</th><th>q</th><th>p $\\wedge$ q</th></tr>\n",
    "<tr><td>$0$</td><td>$0$</td><td>$0$</td></tr>\n",
    "<tr><td>$0$</td><td>$1$</td><td>$0$</td></tr>\n",
    "<tr><td>$1$</td><td>$0$</td><td>$0$</td></tr>\n",
    "<tr><td>$1$</td><td>$1$</td><td>$1$</td></tr>\n",
    "</table>\n",
    "</td>\n",
    "<td>\n",
    "<table>\n",
    "<tr><th>p</th><th>q</th><th>p $\\vee$ q</th></tr>\n",
    "<tr><td>$0$</td><td>$0$</td><td>$0$</td></tr>\n",
    "<tr><td>$0$</td><td>$1$</td><td>$1$</td></tr>\n",
    "<tr><td>$1$</td><td>$0$</td><td>$1$</td></tr>\n",
    "<tr><td>$1$</td><td>$1$</td><td>$1$</td></tr>\n",
    "</table>\n",
    "</td>\n",
    "</tr>\n",
    "<tr><th>Combinación 1</th><th>Combinacion 2</th></tr>\n",
    "<tr>\n",
    "<td>\n",
    "<table>\n",
    "<tr><th>p</th><th>q</th><th>r</th><th>p $\\wedge$ q $\\wedge$ r</th></tr>\n",
    "<tr><td>$0$</td><td>$0$</td><td>$0$</td><td>$0$</td></tr>\n",
    "<tr><td>$0$</td><td>$0$</td><td>$1$</td><td>$0$</td></tr>\n",
    "<tr><td>$0$</td><td>$1$</td><td>$0$</td><td>$0$</td></tr>\n",
    "<tr><td>$0$</td><td>$1$</td><td>$1$</td><td>$0$</td></tr>\n",
    "<tr><td>$1$</td><td>$0$</td><td>$0$</td><td>$0$</td></tr>\n",
    "<tr><td>$1$</td><td>$0$</td><td>$1$</td><td>$0$</td></tr>\n",
    "<tr><td>$1$</td><td>$1$</td><td>$0$</td><td>$0$</td></tr>\n",
    "<tr><td>$1$</td><td>$1$</td><td>$1$</td><td>$1$</td></tr>\n",
    "</table>\n",
    "</td>\n",
    "<td>\n",
    "<table>\n",
    "<tr><th>p</th><th>q</th><th>r</th><th>p $\\wedge$ (q $\\vee$ r)</th></tr>\n",
    "<tr><td>$0$</td><td>$0$</td><td>$0$</td><td>$0$</td></tr>\n",
    "<tr><td>$0$</td><td>$0$</td><td>$1$</td><td>$1$</td></tr>\n",
    "<tr><td>$0$</td><td>$1$</td><td>$0$</td><td>$0$</td></tr>\n",
    "<tr><td>$0$</td><td>$1$</td><td>$1$</td><td>$1$</td></tr>\n",
    "<tr><td>$1$</td><td>$0$</td><td>$0$</td><td>$0$</td></tr>\n",
    "<tr><td>$1$</td><td>$0$</td><td>$1$</td><td>$1$</td></tr>\n",
    "<tr><td>$1$</td><td>$1$</td><td>$0$</td><td>$1$</td></tr>\n",
    "<tr><td>$1$</td><td>$1$</td><td>$1$</td><td>$1$</td></tr>\n",
    "</table>\n",
    "</td>\n",
    "</tr>\n",
    "</table>\n",
    "<br><br>\n",
    "Ahora veremos otros tipos de sentencias:<br><br>\n",
    "\n",
    "1. Sentencia Entonces: representada como $p \\rightarrow q$, es muy facil de representar en Python pues se trata de la sentencia \"if\", que quiere decir: \"si p se cumple entonces q\", es lo mismo que \"if(p): q\" en Python.<br>\n",
    "2. Sentencia Negación: representada como $\\neg p$, y quiere decir lo contrario a $p$, esto en Python se escribe como \"not p\"<br><br>\n",
    "\n",
    "Haciendo uso de estas sentencias es posible definir las reglas de morgan:<br>\n",
    "1. $\\neg(p \\wedge q) = \\neg p \\vee \\neg q$<br>\n",
    "2. $\\neg(p \\vee q) = \\neg p \\wedge \\neg q$<br><br>\n",
    "\n",
    "Habiendo entendido esto, veremos como se representan varias combinaciones de operaciones en Python:\n",
    "</font>\n",
    "</div>\n"
   ]
  },
  {
   "cell_type": "code",
   "execution_count": null,
   "metadata": {
    "collapsed": true
   },
   "outputs": [],
   "source": [
    "# EJEMPLO EN CODIGO DE LA COMBINACION 1: suponemos valores arbitrarios para p, q y r\n",
    "# de manera que podamos ver en que momento se cumplen o no las condiciones...\n",
    "\n",
    "p = True\n",
    "q = True\n",
    "r = True\n",
    "\n",
    "x = (p and q and r) # Asignacion del resultado de la operacion en una variable\n",
    "print(\"p ∧ q ∧ r = \" + str(x)) #Imprime el resultado para tres valores previamente definidos\n",
    "\n",
    "    \n",
    "# EJEMPLO EN CODIGO DE LA COMBINACION 2:\n",
    "\n",
    "x = (p and (q or r))\n",
    "print(\"p ∧ (q ∨ r) = \" + str(x))\n",
    "    \n",
    "# EJEMPLO EN CODIGO DE LA NEGACION:\n",
    "x = not(p)\n",
    "y = not(q)\n",
    "print(\"las negaciones son iguales entre si: \" + str(x == y))\n",
    "    \n",
    "# CODIFICACION DE LAS REGLAS DE MORGAN:\n",
    "#Regla #1:\n",
    "\n",
    "x = (not(p and q))                         #Primera parte de la igualdad\n",
    "y = (not(p) or not(q))                     #segunda parte de la igualdad\n",
    "z = (x == y)                               #comparacion de ambas partes\n",
    "print(\"regla #1: \" + str(z))               #resultado     \n",
    "    \n",
    "#Regla #2:\n",
    "\n",
    "x = (not(p or q))                          #Primera parte de la igualdad\n",
    "y = (not(p) and not(q))                    #segunda parte de la igualdad\n",
    "z = (x == y)                               #comparacion de ambas partes\n",
    "print(\"regla #2: \" + str(z))               #resultado\n",
    "\n",
    "\n",
    "#EJEMPLO DE LA SENTENCIA ENTONCES:\n",
    "\n",
    "if((x == y) and (z == True)): #quiere decir: si \"x\" es igual a \"y\" y \"z\" es igual a \"True\" entonces imprima...\n",
    "    print(\"iguales\")"
   ]
  },
  {
   "cell_type": "markdown",
   "metadata": {
    "collapsed": true
   },
   "source": [
    "<h3> $\\rightarrow$ Ejercicios sobre combinaciones entre conjunciones y disyunciones</h3>"
   ]
  },
  {
   "cell_type": "markdown",
   "metadata": {},
   "source": [
    "Programe los siguientes enunciados siguiendo los ejemplos anteriores:<br><br>\n",
    "1. $( p \\wedge \\neg q ) \\vee ( p \\vee q )$<br>\n",
    "2. $\\neg ( p \\wedge q ) \\vee ( r \\wedge \\neg p )$<br>\n",
    "3. $( p \\vee q ) \\wedge ( \\neg p \\vee q ) \\wedge ( p \\vee \\neg q ) \\wedge ( \\neg p \\vee \\neg q )$<br>\n",
    "4. $( p \\vee \\neg r ) \\wedge \\neg ( ( q \\vee r ) \\vee \\neg ( r \\vee p ) )$<br><br><br>\n",
    "\n",
    "Suponiendo que p y r son falsas y que q y s son verdaderas, encuentre<br>\n",
    "el valor de verdad para cada proposición y programe los ejercicios 5, 6 y 7:<br>\n",
    "5. $( p \\wedge ( q \\vee r ) ) \\rightarrow ( r \\vee ( q \\vee p ) )$<br>\n",
    "6. $( ( p \\wedge \\neg q) \\rightarrow ( q \\wedge r ) ) \\rightarrow ( s \\vee \\neg q )$\n",
    "7. $( p \\vee ( \\neg p \\wedge \\neg ( q \\vee r ) ) ) \\rightarrow ( p \\vee \\neg ( r \\vee q ) )$"
   ]
  },
  {
   "cell_type": "code",
   "execution_count": null,
   "metadata": {
    "collapsed": true
   },
   "outputs": [],
   "source": [
    "# Resuelva aqui los ejercicios propuestos en la celda anterior.\n",
    "# Cree las variables que considere necesarias e inicialicelas.\n",
    "\n",
    "\n",
    "\n",
    "\n"
   ]
  },
  {
   "cell_type": "markdown",
   "metadata": {
    "collapsed": true
   },
   "source": [
    "<div style=\"text-align: justify\">\n",
    "<font size=\"4\">\n",
    "<h2 align=\"center\">$\\rightarrow$ Cuantificadores</h2><br><br>\n",
    "\n",
    "Sea P una función proposicional con dominio D. Se dice que la afirmación \" para toda x, P(x) \" es una $afirmación$ $cuantificada$ $universalmente$, El símbolo \" $\\forall$ \" significa \" para toda \", entonces la afirmacion anterior se puede expresar como \" $\\forall x, P(x)$ \". Esta afirmación verifica cierta condicion sobre muchos valores distintos, lo cual es muy util en programación para iterar sobre un conjunto de datos representado bien por un vector o una lista de elementos, asi como realizar operaciones con estos elementos en cada iteración.<br><br>\n",
    "\n",
    "En codigo es representado por las sentencias \" $for$ \" y \" $while$ \"; estas tienen varias maneras de usar en Python y las revisaremos en el siguiente ejemplo de codigo.<br><br><br>\n",
    "\n",
    "1. Tomemos en cuenta la afirmación \" $\\forall x \\in R, x $ es par \"; si consideramos que el dominio R son todos los reales, el computador nunca pararia de verificar la afirmación, por ende le asignaremos a R una cantidad finita de elementos que puede ser conocida o no, dependiendo del problema, dicha afirmación se puede escribir de dos maneras distintas:<br><br>\n",
    "\n",
    "1.a. Si se conoce el numero ($n$) de elementos: \"for i in range(n): print(str$ ( i \\mod 2 == 0)$)\"; que quiere decir: para todo \"$i$\" en el rango de \"$0$\" a \"$n - 1$\": imprimir el resultado de la comparación que se realiza \"$True$\" o \"$False$\", en este caso imprime verdadero para todos los valores pares de \"$i$\" en ese dominio $(0$ a $(n-1))$.<br><br>\n",
    "\n",
    "1.b. En caso de no conocer el numero de elementos sobre el cual debe iterar el cuantificador, Python tiene el segundo tipo de sintaxis para la sentencia \"for\": \"for i in (list): print(str$(i \\mod 2 == 0)$)\"; quiere decir lo mismo de la sentencia anterior, pero esta no itera sobre un numero de elementos especificados, sino directamente sobre los elementos del vector o lista \"list\", esta vez no se conoce el numero de veces que se debe iterar.<br><br><br>\n",
    "\n",
    "2. Otra manera de iterar sin saber cuantas veces se repetira el ciclo, y ademas existan varias condiciónes a evaluar, es recomendado hacer uso de la sentencia \"while\", que permite iterar evaluando una o varias condiciones hasta que se cumplen. Es posible escribir predicados complejos de proposiciones entre otras cosas. su sintaxis es de la forma: \"while (x==True and y==False): print(\"una verdadera y la otra falsa\")\".<br><br><br>\n",
    "\n",
    "Una vez entendidos estos conceptos con su sintaxis, vamos a ver algunos ejemplos en Python:\n",
    "\n",
    "</font>\n",
    "</div>"
   ]
  },
  {
   "cell_type": "code",
   "execution_count": 2,
   "metadata": {},
   "outputs": [
    {
     "name": "stdout",
     "output_type": "stream",
     "text": [
      "cada valor de: 0, es un indice\n",
      "Este valor es par.\n",
      "cada valor de: 1, es un indice\n",
      "Este valor es impar.\n",
      "cada valor de: 2, es un indice\n",
      "Este valor es par.\n",
      "cada valor de: 3, es un indice\n",
      "Este valor es impar.\n"
     ]
    }
   ],
   "source": [
    "#EJEMPLO SENTENCIA \"For i in range(x)\"\n",
    "\n",
    "x=4\n",
    "for i in range(x):\n",
    "    print(\"cada valor de: \" + str(i) + \", es un indice\")\n",
    "    if(i % 2 == 0):\n",
    "        print(\"Este valor es par.\")\n",
    "    else:\n",
    "        print(\"Este valor es impar.\")"
   ]
  },
  {
   "cell_type": "code",
   "execution_count": 3,
   "metadata": {},
   "outputs": [
    {
     "name": "stdout",
     "output_type": "stream",
     "text": [
      "numero pequeño...\n",
      "numero pequeño...\n",
      "numero pequeño...\n",
      "numero pequeño...\n",
      "numero normal\n",
      "numero normal\n",
      "numero normal\n",
      "numero normal\n"
     ]
    }
   ],
   "source": [
    "#EJEMPLO SENTENCIA \"for each x in y\"\n",
    "\n",
    "y = [1, 2, 3, 4, 45, 76, 243, 43]\n",
    "for i in y:\n",
    "    if(i < 10):\n",
    "        print(\"numero pequeño...\")\n",
    "    else:\n",
    "        print(\"numero normal\")"
   ]
  },
  {
   "cell_type": "code",
   "execution_count": 1,
   "metadata": {},
   "outputs": [
    {
     "name": "stdout",
     "output_type": "stream",
     "text": [
      "se hacen cumplir 2 condiciones...\n"
     ]
    }
   ],
   "source": [
    "#EJEMPLO SENTENCIA \"while\"\n",
    "\n",
    "z = True\n",
    "c = False\n",
    "while(z == True and c == False):\n",
    "    print(\"se hacen cumplir 2 condiciones...\")\n",
    "    c = True"
   ]
  },
  {
   "cell_type": "markdown",
   "metadata": {
    "collapsed": true
   },
   "source": [
    "<div style=\"text-align: justify\">\n",
    "<font size=\"4\">\n",
    "El concepto de conjunto es básico en todas las matemáticas y sus aplicaciones. Un conjunto es simplemente una colección de objetos. En ocasiones se hace referencia a los objetos como elementos o miembros. Si un conjunto es finito y no muy grande, es posible describirlo por la lista de los elementos en él. Por ejemplo la colección de elementos representada en la siguiente ecuación:\n",
    "\n",
    "$$A = \\{ 1, 2, 3, 4 \\}$$\n",
    "\n",
    "Describe un conjunto de elementos llamado $A$ y conformado por los cuatro valores, el mismo conjunto se puede escribir $A = \\{ 1, 3, 4, 2 \\}$, puesto que solo importan los elementos del conjunto y no su orden.<br><br>\n",
    "\n",
    "Esto en programación, especificamente en python, lo podemos modelar como listas de objetos, si bien pueden ser numeros o letras, la flexibilidad de python permite realizar conjuntos y operaciones de conjuntos con objetos con atributos definidos. Cada elemento en una lista es unico, y aunque se pueden duplicar, el conjunto $A$ tambien se puede representar como $A = \\{ 1, 3, 4, 2, 2 \\}$. si un conjunto es finito grande o infinito, se describe mediante la propiedad necesaria para pertenecer a dicho conjunto.<br><br>\n",
    "\n",
    "Habiendo definido esto, procedemos a revisar las diferentes operaciones que podemos realizar entre conjuntos:<br><br>\n",
    "\n",
    "$1.)$ Union: consiste en un conjunto que recoge todos los elementos de dos o mas conjuntos, $$X \\cup Y = \\{ x \\mid x \\in X \\vee x \\in Y \\}$$ \n",
    "$2.)$ Intersección: se trata de un conjunto que recoge solo los elementos en comun de dos o mas conjuntos, $$X \\cap Y = \\{ x \\mid x \\in X \\wedge x \\in Y \\}$$\n",
    "$3.)$ Diferencia: es el conjunto que recoge los elementos que surgen de la resta de dos o mas conjuntos, $$X - Y = \\{ x \\mid x \\in X \\wedge x \\notin Y \\}$$\n",
    "<br>\n",
    "entre otras propiedades de las operaciones se encuentran:<br><br>\n",
    "<img src=\"conjuntos.png\"> <br><br><br>\n",
    "\n",
    "Teniendo la teoria entendida, vamos a ver algunos ejemplos en codigo.\n",
    "\n",
    "</font>\n",
    "</div>"
   ]
  },
  {
   "cell_type": "code",
   "execution_count": 14,
   "metadata": {},
   "outputs": [
    {
     "name": "stdout",
     "output_type": "stream",
     "text": [
      "False\n",
      "['a', 'b', 'c', 'd', 'e', 'f']\n",
      "['c', 'd']\n",
      "\n",
      "\n",
      "lista 6 - 7: \n",
      "\n",
      "['a', 'b', 'd']\n",
      "\n",
      "\n",
      "\n",
      "\n",
      "lista 7 - 6: \n",
      "\n",
      "['e', 'f']\n"
     ]
    }
   ],
   "source": [
    "#UN CONJUNTO DE ELEMENTOS EN PYTHON SE PUEDE MODELAR COMO UNA LISTA\n",
    "#Definicion de lista en python:\n",
    "\n",
    "listA = [1, 2, 3, 4]\n",
    "listB = [1, 3, 2, 4]\n",
    "listC = [1, 2, 3, 3, 4]\n",
    "\n",
    "iguales = (listA == listC)\n",
    "print(iguales)\n",
    "\n",
    "#EN PYTHON NO SE CUMPLE LA CONDICION DE IGUALDAD DE LISTAS COMO SE PUEDE OBSERVAR, ESTO ES DEBIDO A QUE AUNQUE TEORICAMENTE SON EQUIVALENTES\n",
    "#EN PYTHON REPRESENTAN OBJETOS DIFERENTES CON ESPACIOS DE MEMORIA INDEPENDIENTES.\n",
    "\n",
    "#OPERACIONES DE CONJUNTOS:\n",
    "#UNION:\n",
    "\n",
    "list1 = ['a', 'b', 'c', 'd'] #Definicion de las listas a usar\n",
    "list2 = ['c', 'd', 'e', 'f']\n",
    "for i in list2: #por cada elemento en la lista 2, si no se encuentra en la lista 1 se suma a la lista 1\n",
    "    if i not in list1:\n",
    "        list1.append(i)\n",
    "print(list1)\n",
    "\n",
    "\n",
    "#INTERSECCION:\n",
    "\n",
    "list3 = ['a', 'b', 'c', 'd'] #Definicion de las listas a usar\n",
    "list4 = ['c', 'd', 'e', 'f']\n",
    "list5 = []\n",
    "for i in (list3): #por cada elemento en la lista 3, si el elemento se encuentra en ambas listas, se agrega en la lista 5\n",
    "    if (i in list3 and i in list4):\n",
    "        list5.append(i)\n",
    "print(list5)\n",
    "print(\"\\n\")\n",
    "\n",
    "\n",
    "#DIFERENCIA:\n",
    "\n",
    "list6 = ['a', 'b', 'c', 'd'] #Definicion de las listas a usar\n",
    "list7 = ['c', 'd', 'e', 'f']\n",
    "for i in list6:\n",
    "    if (i in list6 and i in list7):\n",
    "        list6.remove(i)\n",
    "        \n",
    "print(\"lista 6 - 7: \\n\")\n",
    "print(list6)\n",
    "print(\"\\n\")\n",
    "print(\"\\n\")\n",
    "\n",
    "\n",
    "list6 = ['a', 'b', 'c', 'd'] #Definicion de las listas a usar\n",
    "list7 = ['c', 'd', 'e', 'f']\n",
    "for i in list6:\n",
    "    if (i in list6 and i in list7):\n",
    "        list7.remove(i)\n",
    "\n",
    "print(\"lista 7 - 6: \\n\")\n",
    "print(list7)"
   ]
  },
  {
   "cell_type": "code",
   "execution_count": null,
   "metadata": {
    "collapsed": true
   },
   "outputs": [],
   "source": []
  }
 ],
 "metadata": {
  "kernelspec": {
   "display_name": "Python 3",
   "language": "python",
   "name": "python3"
  },
  "language_info": {
   "codemirror_mode": {
    "name": "ipython",
    "version": 3
   },
   "file_extension": ".py",
   "mimetype": "text/x-python",
   "name": "python",
   "nbconvert_exporter": "python",
   "pygments_lexer": "ipython3",
   "version": "3.6.4"
  }
 },
 "nbformat": 4,
 "nbformat_minor": 2
}
