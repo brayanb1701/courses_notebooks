{
 "cells": [
  {
   "cell_type": "markdown",
   "metadata": {},
   "source": [
    "<h1 align=\"center\">Matematicas Discretas - Laboratorio #2</h1>"
   ]
  },
  {
   "cell_type": "markdown",
   "metadata": {},
   "source": [
    "<div style=\"text-align: justify\">\n",
    "<font size=4><br><br>\n",
    "<h3 align=\"center\">Demostraciones</h3><br><br>\n",
    "Un sistema matemático consiste en axiomas, definiciones y términos no definidos. Se supone que los axiomas son verdaderos. Las definiciones se usan para crear nuevos conceptos en terminos de los existentes.<br><br>\n",
    "\n",
    "Dentro de un sistema matemático es posible derivar teoremas. Un teorema es una proposición que se ha probado que es verdadera. Un argumento que establece la verdad de un teorema se llama demostración o prueba. La lógica es la herramienta para el análisis de las demostraciones. En este notebook se describen los métodos generales de demostración y se usa la lógica para analizar argumentos válidos e inválidos.<br><br>\n",
    "\n",
    "Con frecuencia los teoremas son de la forma:<br><br>\n",
    "para toda  $X_1, X_2, ..., X_n, $  si $p(X_1, X_2, ..., X_n)$, entonces  $q(X_1, X_2, ..., X_n)$ <br><br>\n",
    "Esta proposición cuantificada universalmente es verdadera siempre que la proposición condicional:<br><br>\n",
    "Si $p(X_1, X_2, ..., X_n)$, entonces $q(X_1, X_2, ..., X_n)$  (Ecuación 1)<br>\n",
    "Sea verdadera para todo $X_1, X_2, ..., X_n$ en el dominio de discurso.<br><br>\n",
    "\n",
    "Para probar esto se supone que $X_1, X_2, ..., X_n$ son miembros arbitrarios del dominio. Si $p(X_1, X_2, ..., X_n)$ es falsa, por definición $q(X_1, X_2, ..., X_n)$ es trivialmente cierta; así, solo se necesita considerar el caso en que $p(X_1, X_2, ..., X_n)$ es verdadera, que junto con otros axiomas, definiciones y teoremas derivados antes, demuestra que $q(X_1, X_2, ..., X_n)$ es verdadera.<br><br>\n",
    "\n",
    "Si se llevan estos conceptos al área de programación, ¿qué forma tendrían?<br><br>\n",
    "\n",
    "Digamos que se quiere representar la demostración de los números enteros pares e impares en Python, luego de hacerla de forma manual en el cuaderno, se darán cuenta que en código se puede probar si un número es par o impar con una simple función módulo. Veamos esta y otras demostraciones más interesantes.\n",
    "</font>\n",
    "</div>"
   ]
  },
  {
   "cell_type": "markdown",
   "metadata": {},
   "source": [
    "<div style=\"text-align: justify\">\n",
    "<font size=4>\n",
    "<h3 align=\"center\">Ejemplos:</h3><br>\n",
    "\n",
    "1. Sean $m$ y $n \\in \\mathbb{Z}$ tal que $m = 2k_1 + 1$ y $n = 2k_2$. ¿Se puede probar que: $m + n = 2k + 1$? \n",
    "</font>\n",
    "</div>"
   ]
  },
  {
   "cell_type": "code",
   "execution_count": 18,
   "metadata": {
    "collapsed": true
   },
   "outputs": [],
   "source": [
    "import random as rd #Importación de la librería a utilizar"
   ]
  },
  {
   "cell_type": "code",
   "execution_count": 19,
   "metadata": {},
   "outputs": [
    {
     "name": "stdout",
     "output_type": "stream",
     "text": [
      "True\n"
     ]
    }
   ],
   "source": [
    "#Técnica de demostración directa\n",
    "\n",
    "#definimos valores arbitrarios para m y n\n",
    "n = rd.randrange(0, 50, 2) #generación de numero par aleatorio\n",
    "m = rd.randrange(0, 50)\n",
    "if(m % 2 == 0): #forzar que n sea impar\n",
    "    m = m - 1\n",
    "\n",
    "\n",
    "if((m % 2 != 0) and (n % 2 == 0)): #evalua las condiciones que planteó el problema\n",
    "    mn = ((m + n) % 2 != 0) #suma n y m y evalúa si el resultado es par o impar\n",
    "else:\n",
    "    mn = False\n",
    "print(mn)"
   ]
  },
  {
   "cell_type": "markdown",
   "metadata": {},
   "source": [
    "<div style=\"text-align: justify\">\n",
    "<font size=4>\n",
    "Una segunda técnica de demostración es la <b>Prueba por Contradicción</b>, que parte de la estructura planteada en (Ecuación 1). Teniendo la hipótesis $(p \\rightarrow q)$, se procede a evaluar la tabla de verdad.<br><br>\n",
    "<table align=\"center\" width=\"200\">\n",
    "<tr><th>$p$</th><th>$q$</th><th>$$p \\rightarrow q$$</th></tr>\n",
    "<tr><td>V</td><td>V</td><td>V</td></tr>\n",
    "<tr><td>V</td><td>F</td><td>F</td></tr>\n",
    "<tr><td>F</td><td>V</td><td>V</td></tr>\n",
    "<tr><td>F</td><td>F</td><td>V</td></tr>\n",
    "</table><br><br>\n",
    "\n",
    "Puede notarse que la única manera en que la implicación sea verdadera si la conclusión es falsa, es que la hipotesis tambien sea falsa, de allí que la prueba por contradicción consiste en demostrar una implicación $\\neg p \\rightarrow F$ tratando de demostrar que $q$ tambien es falso, mediante el uso de otros argumentos lógicos.<br><br>\n",
    "\n",
    "2. Para $x$, $y \\in \\mathbb{R}$, si $\\{ (x + y) \\geq 2 \\} \\rightarrow (x \\geq 1) \\vee (y \\geq 1)$\n",
    "</font>\n",
    "</div>"
   ]
  },
  {
   "cell_type": "code",
   "execution_count": 20,
   "metadata": {},
   "outputs": [
    {
     "name": "stdout",
     "output_type": "stream",
     "text": [
      "x = 0.48176996577382714, y = 0.8471370606087036\n",
      "False\n"
     ]
    }
   ],
   "source": [
    "#Si probamos valores tales que x + y no sea mayor o igual a 2\n",
    "x = rd.uniform(0.0, 1.5)\n",
    "y = rd.uniform(0.0, 1.5)\n",
    "print(\"x = \" + str(x) + \", y = \" + str(y))\n",
    "#Hacer esto significa suponer que la segunda proposición es falsa\n",
    "#Para luego observar que x + y no es mayor o igual a 2, y esto contradice con un false nuestra porposición\n",
    "if(x + y >= 2):\n",
    "    r = True\n",
    "else:\n",
    "    r = False\n",
    "print(r)"
   ]
  },
  {
   "cell_type": "markdown",
   "metadata": {},
   "source": [
    "<div style=\"text-align: justify\">\n",
    "<font size=4>\n",
    "3. Para $x\\in \\mathbb{R}$, si $\\{ (x^2) mod(2) \\neq 0  \\} \\rightarrow (x)mod(2) \\neq 0$\n",
    "</font>\n",
    "</div>"
   ]
  },
  {
   "cell_type": "code",
   "execution_count": 21,
   "metadata": {
    "scrolled": true
   },
   "outputs": [
    {
     "name": "stdout",
     "output_type": "stream",
     "text": [
      "1es impar \n",
      "\n",
      "True\n",
      "\n",
      "\n",
      "\n",
      "\n",
      "2es par \n",
      "\n",
      "False\n",
      "\n",
      "\n",
      "3es impar \n",
      "\n",
      "True\n",
      "\n",
      "\n",
      "\n",
      "\n",
      "4es par \n",
      "\n",
      "False\n",
      "\n",
      "\n",
      "5es impar \n",
      "\n",
      "True\n",
      "\n",
      "\n",
      "\n",
      "\n",
      "6es par \n",
      "\n",
      "False\n",
      "\n",
      "\n",
      "7es impar \n",
      "\n",
      "True\n",
      "\n",
      "\n",
      "\n",
      "\n",
      "8es par \n",
      "\n",
      "False\n",
      "\n",
      "\n",
      "9es impar \n",
      "\n",
      "True\n",
      "\n",
      "\n"
     ]
    }
   ],
   "source": [
    "#damos cualquier valor impar a x en el intervalo [1,10]\n",
    "for x in range (1, 10):\n",
    "    if(pow(x, 2) % 2 != 0):\n",
    "        print(str(x) + \"es impar \\n\")\n",
    "        print(True)\n",
    "        print(\"\\n\")\n",
    "    else:\n",
    "        print(\"\\n\")\n",
    "        print(str(x) + \"es par \\n\")\n",
    "        print(False)\n",
    "        print(\"\\n\")\n",
    "    \n",
    "#Imprime verdadero al verificar que x^2 es impar igual que x"
   ]
  },
  {
   "cell_type": "markdown",
   "metadata": {},
   "source": [
    "<div style=\"text-align: justify\">\n",
    "<font size=4>\n",
    "La prueba por casos se emplea cuando la hipótesis original se divide de manera natural en varios casos. Por ejemplo, la hipotesis <b>\"X es un número real\"</b> se puede dividir en casos: a) x es un número real no negativo y b) x es un número real negativo. Luego la tarea es probar $p \\rightarrow q$ y esto es equivalente a $p_1 \\vee p_2 \\vee ... \\vee p_n$, donde $(p_1, ... , p_n)$ son los casos que deben probar uno por uno, es decir, $(p_1 \\rightarrow q) \\wedge (p_2 \\rightarrow q) \\wedge ... \\wedge (p_n \\rightarrow q)$ <br><br>\n",
    "\n",
    "4. Probar que todo número que es un cubo perfecto debe ser múltiplo de $9 \\vee (9+1) \\vee (9-1)$: <br><br>\n",
    "<ul>\n",
    "<li>Caso 1: Si $n$ es un múltiplo de 3 entonces el cubo de $n$ es un múltiplo de 27, y entonces es múltiplo de 9</li>\n",
    "<li>Caso 2: Si $n$ es 1 más que un múltiplo de 3 entonces el cubo de $n$ es 1 más que un múltiplo de 9</li>\n",
    "<li>Caso 3: Si $n$ es 1 menos que un múltiplo de 3 entonces el cubo de $n$ es 1 menos que un múltiplo de 9</li>\n",
    "</ul>\n",
    "</font>\n",
    "</div>"
   ]
  },
  {
   "cell_type": "code",
   "execution_count": 22,
   "metadata": {},
   "outputs": [
    {
     "name": "stdout",
     "output_type": "stream",
     "text": [
      "z = 5735340\n",
      "\n",
      "y = 5929740\n",
      "\n",
      "x = 5832000\n",
      "\n",
      "Si son múltiplos de 3 y de 9\n"
     ]
    }
   ],
   "source": [
    "x = rd.randint(1, 100) * 9 #genera un aleatorio multiplo de 9 y por consiguiente de 3\n",
    "y = x + 1\n",
    "z = x - 1\n",
    "\n",
    "x = pow(x, 3)\n",
    "y = pow(y, 3)\n",
    "z = pow(z, 3)\n",
    "\n",
    "z = z + 1 #sumamos 1 a z\n",
    "y = y - 1 #restamos 1 a y\n",
    "\n",
    "#Probamos si sumando 1 a z y restando 1 a y son multiplos de 3 y de 9\n",
    "print(\"z = \" + str(z) + \"\\n\")\n",
    "print(\"y = \" + str(y) + \"\\n\")\n",
    "print(\"x = \" + str(x) + \"\\n\")\n",
    "\n",
    "if(z % 9 == 0 and z % 3 == 0 and y % 9 == 0 and y % 3 == 0):\n",
    "    print(\"Si son múltiplos de 3 y de 9\")\n"
   ]
  },
  {
   "cell_type": "markdown",
   "metadata": {},
   "source": [
    "<div style=\"text-align: justify\">\n",
    "<font size=4>\n",
    "Algunos teoremas son de la forma \"si y solo si\", se representan como $(p \\leftrightarrow q) \\equiv (p \\rightarrow q) \\wedge (q \\rightarrow p)$, es decir, para probar \"$p$ si y solo si $q$\" se prueba \"si $p$ entonces $q$\" y \"si $q$ entonces $p$\".<br><br>\n",
    "\n",
    "5. Demuestre que para todo entero $n$, $n$ es impar si y solo si $n-1$ es par\n",
    "</font>\n",
    "</div>"
   ]
  },
  {
   "cell_type": "code",
   "execution_count": 23,
   "metadata": {},
   "outputs": [
    {
     "name": "stdout",
     "output_type": "stream",
     "text": [
      "1 es impar y 0 es par \n",
      "\n",
      "3 es impar y 2 es par \n",
      "\n",
      "5 es impar y 4 es par \n",
      "\n",
      "7 es impar y 6 es par \n",
      "\n",
      "9 es impar y 8 es par \n",
      "\n"
     ]
    }
   ],
   "source": [
    "for n in range(1, 10):\n",
    "    if((n % 2 != 0) and ((n-1) % 2 == 0)): #doble condicional para probar que n es impar y n-1 par en una sola desicion\n",
    "        print(str(n) + \" es impar y \" + str(n-1) + \" es par \\n\")\n",
    "        "
   ]
  },
  {
   "cell_type": "markdown",
   "metadata": {},
   "source": [
    "<div style=\"text-align: justify\">\n",
    "<font size=4>\n",
    "Las tecnicas que se han visto hasta ahora se aplican a aformaciones con cuantificadores universales, ahora vamos a ver la <b>prueba existencial</b>, que tiene la forma: $$\\exists x, P(x)$$, donde solo es necesario encontrar un elemento $x$ del dominio de discurso que haga $P(x)$ verdadera<br><br>\n",
    "\n",
    "6. Demuestre que existe un número primo $p$ tal que $2^{p} - 1$ es compuesto (es decir, NO es primo)\n",
    "</font>\n",
    "</div>"
   ]
  },
  {
   "cell_type": "code",
   "execution_count": 24,
   "metadata": {},
   "outputs": [
    {
     "name": "stdout",
     "output_type": "stream",
     "text": [
      "el numero: 11 genera el numero compuesto: 2047\n"
     ]
    }
   ],
   "source": [
    "def primo(n):               #Definicion de una funcion que indica si un numero es primo o no\n",
    "    s = 0\n",
    "    m = n + 1\n",
    "    for i in range(1, m):   #desde 1 hasta 1 mas que el numero que deseo probar\n",
    "        if(n % i == 0):     #si el modulo del numero da 0 significa que es divisible\n",
    "            s = s + 1\n",
    "    if(s == 2):             #el numero debe tener dos modulos iguales a 0, puesto que los primos\n",
    "        return 1            #son solo divisibles entre 1 y entre ellos mismos\n",
    "    else:                   #esta funcion devuelve 1 si el numero puesto como parametro es primo y 0 si no lo es\n",
    "        return 0\n",
    "    \n",
    "    \n",
    "lipri = []                  #se define una lista de primos\n",
    "for i in range(1, 20):      #la lista de primos se llena con los que van de 1 a 20\n",
    "    if(primo(i) == 1):\n",
    "        lipri.append(i)\n",
    "for i in lipri:                  #para cada primo en la lista se realiza el calculo con la formula\n",
    "    calpri = pow(2, i) - 1\n",
    "    if(primo(calpri) != 1):\n",
    "        print(\"el numero: \" + str(i) + \" genera el numero compuesto: \" + str(calpri))\n"
   ]
  },
  {
   "cell_type": "markdown",
   "metadata": {},
   "source": [
    "<h1 align=\"center\">Ejercicios:</h1><br>\n",
    "<img src=\"ejercicios.png\"><br><br>\n",
    "<h1 align=\"center\">Mas Ejercicios:</h1><br>\n",
    "<img src=\"ejercicios2.png\">"
   ]
  },
  {
   "cell_type": "code",
   "execution_count": null,
   "metadata": {
    "collapsed": true
   },
   "outputs": [],
   "source": []
  }
 ],
 "metadata": {
  "kernelspec": {
   "display_name": "Python 3",
   "language": "python",
   "name": "python3"
  },
  "language_info": {
   "codemirror_mode": {
    "name": "ipython",
    "version": 3
   },
   "file_extension": ".py",
   "mimetype": "text/x-python",
   "name": "python",
   "nbconvert_exporter": "python",
   "pygments_lexer": "ipython3",
   "version": "3.6.3"
  }
 },
 "nbformat": 4,
 "nbformat_minor": 2
}
